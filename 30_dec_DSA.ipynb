{
 "cells": [
  {
   "cell_type": "code",
   "execution_count": 4,
   "id": "fdc033eb-1da9-40fa-b876-e40e30f5668b",
   "metadata": {},
   "outputs": [],
   "source": [
    "class Node:\n",
    "    def __init__(self,data=None,next=None):\n",
    "        self.data = data\n",
    "        self.next = next\n",
    "        \n",
    "    def setData(self,data):\n",
    "        self.data = data\n",
    "        \n",
    "    def getData(self):\n",
    "        return self.data\n",
    "        \n",
    "    def setNext(self,next):\n",
    "        self.next = next\n",
    "        \n",
    "    def getNext(self):\n",
    "        return self.next\n",
    "\n",
    "def traverse(head):\n",
    "    temp = head\n",
    "    while (temp):\n",
    "        print(temp.getData(),end=\"->\")\n",
    "        temp = temp.next"
   ]
  },
  {
   "cell_type": "markdown",
   "id": "9a1a62ff-dfcb-46d4-86db-25685a43e667",
   "metadata": {},
   "source": [
    "**Problem 1: Reverse a singly linked list.**<br>\n",
    "Input: 1 -> 2 -> 3 -> 4 -> 5<br>\n",
    "Output: 5 -> 4 -> 3 -> 2 -> 1"
   ]
  },
  {
   "cell_type": "code",
   "execution_count": 180,
   "id": "f1cea502-d3eb-4303-bf61-7e876b590b51",
   "metadata": {},
   "outputs": [
    {
     "name": "stdout",
     "output_type": "stream",
     "text": [
      "1->2->3->4->5->"
     ]
    }
   ],
   "source": [
    "head = Node(1)\n",
    "node2 = Node(2)\n",
    "node3 = Node(3)\n",
    "node4 = Node(4)\n",
    "node5 = Node(5)\n",
    "# node6 = Node(None)\n",
    "\n",
    "#Creating the linkage\n",
    "head.setNext(node2)\n",
    "node2.setNext(node3)\n",
    "node3.setNext(node4)\n",
    "node4.setNext(node5)\n",
    "# node5.setNext(node6)\n",
    "\n",
    "traverse(head)"
   ]
  },
  {
   "cell_type": "code",
   "execution_count": 210,
   "id": "70b95da7-162f-446f-af4c-e702d975e089",
   "metadata": {},
   "outputs": [],
   "source": [
    "def reverse(h1):\n",
    "    previous = None\n",
    "    # count = 0 \n",
    "    \n",
    "    while h1:\n",
    "        curr = h1\n",
    "        h1 = h1.getNext()\n",
    "        curr.setNext(previous)\n",
    "        previous = curr\n",
    "    return previous\n",
    "        "
   ]
  },
  {
   "cell_type": "code",
   "execution_count": 182,
   "id": "79a9a403-f8f1-4652-b352-f00abc720c53",
   "metadata": {},
   "outputs": [],
   "source": [
    "p = reverse(head)"
   ]
  },
  {
   "cell_type": "code",
   "execution_count": 183,
   "id": "0abb4f5f-7aac-4248-bede-4761771463ee",
   "metadata": {},
   "outputs": [
    {
     "name": "stdout",
     "output_type": "stream",
     "text": [
      "5->4->3->2->1->"
     ]
    }
   ],
   "source": [
    "traverse(p)"
   ]
  },
  {
   "cell_type": "markdown",
   "id": "e5cfc741-b943-4377-966d-3e9e34b22bb3",
   "metadata": {},
   "source": [
    "**Problem 2: Merge two sorted linked lists into one sorted linked list.**<br>\n",
    "Input: List 1: 1 -> 3 -> 5, List 2: 2 -> 4 -> 6 <br>\n",
    "Output: 1 -> 2 -> 3 -> 4 -> 5 -> 6\n"
   ]
  },
  {
   "cell_type": "code",
   "execution_count": 217,
   "id": "af408163-5c58-403f-88d4-ebddd1718fbb",
   "metadata": {},
   "outputs": [],
   "source": [
    "def merge(h1,h2):\n",
    "    result =current= Node(0)\n",
    "    \n",
    "    while h1 and h2:\n",
    "        if h1.getData() < h2.getData():\n",
    "            # current = Node(h1.getData())\n",
    "            current.setNext(Node(h1.getData()))\n",
    "            h1 = h1.getNext()\n",
    "            \n",
    "        else:\n",
    "            current.setNext(Node(h2.getData()))\n",
    "            h2 = h2.getNext()\n",
    "        \n",
    "        current = current.getNext()\n",
    "    current = h1 or h2    \n",
    "    return result.getNext()\n"
   ]
  },
  {
   "cell_type": "code",
   "execution_count": 218,
   "id": "48225192-574a-4b32-8e02-b47fe4287657",
   "metadata": {},
   "outputs": [],
   "source": [
    "head_1 = Node(1)\n",
    "node2 = Node(3)\n",
    "node3 = Node(5)\n",
    "\n",
    "head_1.setNext(node2)\n",
    "node2.setNext(node3)\n",
    "\n",
    "##########\n",
    "head_2 = Node(2)\n",
    "node4 = Node(4)\n",
    "node6 = Node(6)\n",
    "\n",
    "head_2.setNext(node4)\n",
    "node4.setNext(node6)\n"
   ]
  },
  {
   "cell_type": "code",
   "execution_count": 219,
   "id": "18e94698-783f-4872-a7e7-f4c3cec8c849",
   "metadata": {},
   "outputs": [
    {
     "name": "stdout",
     "output_type": "stream",
     "text": [
      "1->3->5->"
     ]
    }
   ],
   "source": [
    "traverse(head_1)"
   ]
  },
  {
   "cell_type": "code",
   "execution_count": 220,
   "id": "a478e6ed-077c-4cc9-8153-b1b94ad1da3b",
   "metadata": {},
   "outputs": [
    {
     "name": "stdout",
     "output_type": "stream",
     "text": [
      "2->4->6->"
     ]
    }
   ],
   "source": [
    "traverse(head_2)"
   ]
  },
  {
   "cell_type": "code",
   "execution_count": 221,
   "id": "3a2ab498-9997-4415-b9a1-a8d801c48371",
   "metadata": {},
   "outputs": [],
   "source": [
    "t = merge(head_1,head_2)"
   ]
  },
  {
   "cell_type": "code",
   "execution_count": 222,
   "id": "c24516ed-32da-4067-ae3f-438a396aa189",
   "metadata": {},
   "outputs": [
    {
     "name": "stdout",
     "output_type": "stream",
     "text": [
      "1->2->3->4->5->"
     ]
    }
   ],
   "source": [
    "traverse(t)"
   ]
  },
  {
   "cell_type": "markdown",
   "id": "7426158e-3991-4bc4-a3dd-711b83199d89",
   "metadata": {},
   "source": [
    "**Problem 3: Remove the nth node from the end of a linked list.** <br>\n",
    "Input: 1 -> 2 -> 3 -> 4 -> 5, n = 2 <br>\n",
    "Output: 1 -> 2 -> 3 -> 5"
   ]
  },
  {
   "cell_type": "code",
   "execution_count": 241,
   "id": "ce0abd19-8b7f-401a-9028-65e808144515",
   "metadata": {},
   "outputs": [],
   "source": [
    "def remove_n(heads, n):\n",
    "    cur = heads\n",
    "    count = 0 \n",
    "    #getting length of the list\n",
    "    while cur:\n",
    "        cur = cur.getNext()\n",
    "        count+=1\n",
    "    \n",
    "    cur = heads\n",
    "    if n == count:\n",
    "        return heads.getNext()\n",
    "    else:\n",
    "        for i in range(count-n-1):\n",
    "            cur = cur.getNext()\n",
    "    cur.setNext(cur.getNext().getNext())\n",
    "    return heads\n",
    "            "
   ]
  },
  {
   "cell_type": "code",
   "execution_count": 242,
   "id": "a1bdcd10-98aa-47fb-bfc6-8b9cb6817d09",
   "metadata": {},
   "outputs": [
    {
     "name": "stdout",
     "output_type": "stream",
     "text": [
      "1->2->3->4->5->"
     ]
    }
   ],
   "source": [
    "head = Node(1)\n",
    "node2 = Node(2)\n",
    "node3 = Node(3)\n",
    "node4 = Node(4)\n",
    "node5 = Node(5)\n",
    "# node6 = Node(None)\n",
    "\n",
    "#Creating the linkage\n",
    "head.setNext(node2)\n",
    "node2.setNext(node3)\n",
    "node3.setNext(node4)\n",
    "node4.setNext(node5)\n",
    "# node5.setNext(node6)\n",
    "\n",
    "traverse(head)"
   ]
  },
  {
   "cell_type": "code",
   "execution_count": 243,
   "id": "d3caa9cf-b04a-4131-b51d-e5d110f2d6e7",
   "metadata": {},
   "outputs": [],
   "source": [
    "p = remove_n(head,2)"
   ]
  },
  {
   "cell_type": "code",
   "execution_count": 244,
   "id": "e98b831b-55a5-4740-8490-ad331ae0969b",
   "metadata": {},
   "outputs": [
    {
     "name": "stdout",
     "output_type": "stream",
     "text": [
      "1->2->3->5->"
     ]
    }
   ],
   "source": [
    "traverse(p)"
   ]
  },
  {
   "cell_type": "markdown",
   "id": "89326616-360a-47fd-822b-ceba8e802438",
   "metadata": {},
   "source": [
    "Problem 4: Find the intersection point of two linked lists. <br>\n",
    "Input: List 1: 1 -> 2 -> 3 -> 4, List 2: 9 -> 8 -> 3 -> 4 <br>\n",
    "Output: Node with value 3"
   ]
  },
  {
   "cell_type": "code",
   "execution_count": 33,
   "id": "d210e579-1c78-4672-8cbc-9e8e2ef0fcb2",
   "metadata": {},
   "outputs": [],
   "source": [
    "def find_intersection(head1,head2):\n",
    "    temp1 = head1\n",
    "    temp2 = head2\n",
    "    while temp1:\n",
    "        while temp2:\n",
    "            if temp1.getData() == temp2.getData():\n",
    "                return temp1.getData()\n",
    "            temp2 = temp2.getNext()\n",
    "        temp1 = temp1.getNext()\n",
    "        temp2 = head2\n",
    "    return -1"
   ]
  },
  {
   "cell_type": "code",
   "execution_count": 34,
   "id": "a399d501-f107-4412-bec8-8526a0e075aa",
   "metadata": {},
   "outputs": [
    {
     "name": "stdout",
     "output_type": "stream",
     "text": [
      "1->2->3->4->"
     ]
    }
   ],
   "source": [
    "head1 = Node(1)\n",
    "node2 = Node(2)\n",
    "node3 = Node(3)\n",
    "node4 = Node(4)\n",
    "\n",
    "head1.setNext(node2)\n",
    "node2.setNext(node3)\n",
    "node3.setNext(node4)\n",
    "\n",
    "traverse(head1)"
   ]
  },
  {
   "cell_type": "code",
   "execution_count": 35,
   "id": "423e94e1-c078-4380-b761-0966dca46842",
   "metadata": {},
   "outputs": [
    {
     "name": "stdout",
     "output_type": "stream",
     "text": [
      "9->8->3->4->"
     ]
    }
   ],
   "source": [
    "head2 = Node(9)\n",
    "node2 = Node(8)\n",
    "node3 = Node(3)\n",
    "node4 = Node(4)\n",
    "\n",
    "head2.setNext(node2)\n",
    "node2.setNext(node3)\n",
    "node3.setNext(node4)\n",
    "\n",
    "traverse(head2)"
   ]
  },
  {
   "cell_type": "code",
   "execution_count": 36,
   "id": "2d113678-c8ca-4efe-84b1-1d3db1e11057",
   "metadata": {},
   "outputs": [
    {
     "data": {
      "text/plain": [
       "3"
      ]
     },
     "execution_count": 36,
     "metadata": {},
     "output_type": "execute_result"
    }
   ],
   "source": [
    "find_intersection(head1,head2)"
   ]
  },
  {
   "cell_type": "markdown",
   "id": "1347113a-75ee-4bb7-af27-28517a92504f",
   "metadata": {},
   "source": [
    "Problem 5: Remove duplicates from a sorted linked list. <br>\n",
    "Input: 1 -> 1 -> 2 -> 3 -> 3 <br>\n",
    "Output: 1 -> 2 -> 3"
   ]
  },
  {
   "cell_type": "code",
   "execution_count": 62,
   "id": "ca29db67-8ef6-48a7-8006-7f55607b89b6",
   "metadata": {},
   "outputs": [],
   "source": [
    "def remove_duplicate(head1):\n",
    "    temp1 = head1\n",
    "    while temp1:\n",
    "        if temp1.getData() == temp1.getNext().getData():\n",
    "            temp1.setNext(temp1.getNext().getNext())\n",
    "        temp1 = temp1.getNext()\n",
    "    return head1"
   ]
  },
  {
   "cell_type": "code",
   "execution_count": 63,
   "id": "86fd7668-856e-4c6b-8fcd-d015ce756087",
   "metadata": {},
   "outputs": [
    {
     "name": "stdout",
     "output_type": "stream",
     "text": [
      "1->2->3->3->"
     ]
    }
   ],
   "source": [
    "head = Node(1)\n",
    "node2 = Node(2)\n",
    "node3 = Node(3)\n",
    "node4 = Node(3)\n",
    "\n",
    "head.setNext(node2)\n",
    "node2.setNext(node3)\n",
    "node3.setNext(node4)\n",
    "\n",
    "traverse(head)"
   ]
  },
  {
   "cell_type": "code",
   "execution_count": 64,
   "id": "ca913cfe-4079-47c2-a6e2-391672cd1bdf",
   "metadata": {},
   "outputs": [],
   "source": [
    "a = remove_duplicate(head)"
   ]
  },
  {
   "cell_type": "code",
   "execution_count": 66,
   "id": "261cc696-87b1-4ed2-ab75-7ecfc7c39c9c",
   "metadata": {},
   "outputs": [
    {
     "name": "stdout",
     "output_type": "stream",
     "text": [
      "1->2->3->"
     ]
    }
   ],
   "source": [
    "traverse(a)"
   ]
  },
  {
   "cell_type": "markdown",
   "id": "01988a03-fc49-4a9d-b9ce-0c7f939356a1",
   "metadata": {},
   "source": [
    "Problem 6: Add two numbers represented by linked lists (where each node contains a single digit). <br>\n",
    "Input: List 1: 2 -> 4 -> 3, List 2: 5 -> 6 -> 4 (represents 342 + 465) <br>\n",
    "Output: 7 -> 0 -> 8 (represents 807)"
   ]
  },
  {
   "cell_type": "code",
   "execution_count": 109,
   "id": "1b641c66-8011-4f49-b8a4-c0d459ae6a28",
   "metadata": {},
   "outputs": [],
   "source": [
    "# using the sum1 function to calculate the final vaule of each list and store the value in list\n",
    "\n",
    "def two_number_list(l1,l2):    \n",
    "    result = sum1(l1)+sum1(l2)\n",
    "    # list contains the final value 807 in list ['8','0','7']\n",
    "    a = list(str(result))\n",
    "    root = n = Node(int(a.pop()))\n",
    "    # made the root node with the last value of the list and iterate till the list gets empty and return the root node\n",
    "    while a:\n",
    "        n.next = Node(int(a.pop()))\n",
    "        n = n.getNext()\n",
    "    return traverse(root)\n",
    "\n",
    "# defining a function that stores the single value and added in string to return the final number\n",
    "def sum1(l1):\n",
    "    temp = ''\n",
    "    while l1:\n",
    "        temp=(str(l1.getData()))+temp\n",
    "        l1 = l1.getNext()\n",
    "    return int(temp)"
   ]
  },
  {
   "cell_type": "code",
   "execution_count": 110,
   "id": "00e6bfe6-b2c7-41ec-9e68-41e05503fde8",
   "metadata": {},
   "outputs": [
    {
     "name": "stdout",
     "output_type": "stream",
     "text": [
      "2->4->3->"
     ]
    }
   ],
   "source": [
    "head1 = Node(2)\n",
    "node2 = Node(4)\n",
    "node3 = Node(3)\n",
    "\n",
    "head1.setNext(node2)\n",
    "node2.setNext(node3)\n",
    "\n",
    "traverse(head1)"
   ]
  },
  {
   "cell_type": "code",
   "execution_count": 111,
   "id": "8d43ef75-4cb7-494e-8107-1d25367cd777",
   "metadata": {},
   "outputs": [
    {
     "name": "stdout",
     "output_type": "stream",
     "text": [
      "5->6->4->"
     ]
    }
   ],
   "source": [
    "head2 = Node(5)\n",
    "node2 = Node(6)\n",
    "node3 = Node(4)\n",
    "\n",
    "head2.setNext(node2)\n",
    "node2.setNext(node3)\n",
    "\n",
    "traverse(head2)"
   ]
  },
  {
   "cell_type": "code",
   "execution_count": 112,
   "id": "85e32faf-feb4-40cd-8bfe-94631dc8416f",
   "metadata": {},
   "outputs": [
    {
     "name": "stdout",
     "output_type": "stream",
     "text": [
      "7->0->8->"
     ]
    }
   ],
   "source": [
    "two_number_list(head1,head2)"
   ]
  },
  {
   "cell_type": "markdown",
   "id": "3ba88da4-9798-4ff7-b7fd-c9f288218196",
   "metadata": {},
   "source": [
    "Problem 7: Swap nodes in pairs in a linked list. <br>\n",
    "Input: 1 -> 2 -> 3 -> 4 <br>\n",
    "Output: 2 -> 1 -> 4 -> 3"
   ]
  },
  {
   "cell_type": "code",
   "execution_count": 207,
   "id": "f29b6a1b-0ba0-4799-9389-c95491be2cc8",
   "metadata": {},
   "outputs": [],
   "source": [
    "def swap_nodes(h1):\n",
    "    if not head: return h1\n",
    "    prev, cur, ans = None, h1, h1.next\n",
    "    \n",
    "    while cur and cur.next:\n",
    "        # cur = temp.getData()\n",
    "        # nex = temp.getNext().getData()\n",
    "        # temp.setData(nex)\n",
    "        # temp.getNext().setData(cur)\n",
    "        # temp = temp.getNext().getNext()\n",
    "        # \n",
    "        adj = cur.next\n",
    "        if prev:\n",
    "            prev.next =adj\n",
    "        \n",
    "        cur.next,adj.next =adj.next,cur\n",
    "        prev, cur =  cur , cur.next\n",
    "            \n",
    "    return traverse(ans)\n",
    "        \n",
    "        "
   ]
  },
  {
   "cell_type": "code",
   "execution_count": 208,
   "id": "df1c8201-e6cb-4179-b555-ce270e9cd0e7",
   "metadata": {},
   "outputs": [
    {
     "name": "stdout",
     "output_type": "stream",
     "text": [
      "1->2->3->4->"
     ]
    }
   ],
   "source": [
    "head = Node(1)\n",
    "node2 = Node(2)\n",
    "node3 = Node(3)\n",
    "node4 = Node(4)\n",
    "\n",
    "\n",
    "head.setNext(node2)\n",
    "node2.setNext(node3)\n",
    "node2.setNext(node3)\n",
    "node3.setNext(node4)\n",
    "\n",
    "traverse(head)"
   ]
  },
  {
   "cell_type": "code",
   "execution_count": 209,
   "id": "447085b1-11ff-423b-8c84-0666b540f0ef",
   "metadata": {},
   "outputs": [
    {
     "name": "stdout",
     "output_type": "stream",
     "text": [
      "2->1->4->3->"
     ]
    }
   ],
   "source": [
    "swap_nodes(head)"
   ]
  },
  {
   "cell_type": "markdown",
   "id": "223ea167-69e2-4dc5-a401-069042ee499b",
   "metadata": {},
   "source": [
    "Problem 8: Reverse nodes in a linked list in groups of k. <br>\n",
    "Input: 1 -> 2 -> 3 -> 4 -> 5, k = 3 <br>\n",
    "Output: 3 -> 2 -> 1 -> 4 -> 5"
   ]
  },
  {
   "cell_type": "code",
   "execution_count": 269,
   "id": "e296a08c-254b-4a2a-a762-73870338ac7e",
   "metadata": {},
   "outputs": [],
   "source": [
    "def reverse_node(h1,k):\n",
    "    previous = None\n",
    "    end = h1\n",
    "    \n",
    "    while h1 and k>0:\n",
    "        cur = h1\n",
    "        h1 = h1.next\n",
    "        cur.setNext(previous)\n",
    "        previous = cur\n",
    "        k-=1\n",
    "    end.setNext(h1)\n",
    "\n",
    "    return traverse(previous) \n",
    "    \n",
    "# used logic of reversing the list with the counter of k value\n",
    "# decrease the k value with each iteration and at the starting instead of having empty list \n",
    "# use one more 'end' pointer to store the end value of the reversal list\n",
    "# once it is out of the loop remaining list is head list wihout reversal and the reverse linked list\n",
    "# using the end pointer to link the remaining list"
   ]
  },
  {
   "cell_type": "code",
   "execution_count": 270,
   "id": "ac8a4d68-fa72-4fdc-98a8-7d8ed30ed41b",
   "metadata": {},
   "outputs": [
    {
     "name": "stdout",
     "output_type": "stream",
     "text": [
      "1->2->3->4->5->"
     ]
    }
   ],
   "source": [
    "head = Node(1)\n",
    "node2 = Node(2)\n",
    "node3 = Node(3)\n",
    "node4 = Node(4)\n",
    "node5 = Node(5)\n",
    "\n",
    "\n",
    "head.setNext(node2)\n",
    "node2.setNext(node3)\n",
    "node2.setNext(node3)\n",
    "node3.setNext(node4)\n",
    "node4.setNext(node5)\n",
    "\n",
    "\n",
    "traverse(head)"
   ]
  },
  {
   "cell_type": "code",
   "execution_count": 271,
   "id": "c4dea607-54da-4a27-8c70-ef472d52df3b",
   "metadata": {},
   "outputs": [
    {
     "name": "stdout",
     "output_type": "stream",
     "text": [
      "3->2->1->4->5->"
     ]
    }
   ],
   "source": [
    "reverse_node(head,3)"
   ]
  },
  {
   "cell_type": "markdown",
   "id": "295358b8-78b5-4e2d-982f-06b8ff97806f",
   "metadata": {},
   "source": [
    "Problem 9: Determine if a linked list is a palindrome. \n",
    "Input: 1 -> 2 -> 2 -> 1\n",
    "Output: True"
   ]
  },
  {
   "cell_type": "code",
   "execution_count": 316,
   "id": "4caee84b-26a0-4a5b-aa30-c3e2d9316c28",
   "metadata": {},
   "outputs": [],
   "source": [
    "def reverse(h1):\n",
    "    temp = h1\n",
    "    previous = None    \n",
    "    while h1:\n",
    "        curr = h1\n",
    "        h1 = h1.getNext()\n",
    "        curr.setNext(previous)\n",
    "        previous = curr\n",
    "    return previous\n",
    "\n",
    "def check_palindrome(h1):\n",
    "    temp = h1\n",
    "    if temp == reverse(h1):\n",
    "        return True\n",
    "    return False"
   ]
  },
  {
   "cell_type": "code",
   "execution_count": 317,
   "id": "d6190f37-2b0e-4ea4-ade0-a19c44c26bad",
   "metadata": {},
   "outputs": [
    {
     "name": "stdout",
     "output_type": "stream",
     "text": [
      "1->2->0->2->1->"
     ]
    }
   ],
   "source": [
    "head = Node(1)\n",
    "node2 = Node(2)\n",
    "node3 = Node(0)\n",
    "node4 = Node(2)\n",
    "node5 = Node(1)\n",
    "\n",
    "\n",
    "head.setNext(node2)\n",
    "node2.setNext(node3)\n",
    "node2.setNext(node3)\n",
    "node3.setNext(node4)\n",
    "node4.setNext(node5)\n",
    "\n",
    "\n",
    "traverse(head)"
   ]
  },
  {
   "cell_type": "code",
   "execution_count": 312,
   "id": "353820b8-48f1-4084-a6db-418f31fe3762",
   "metadata": {},
   "outputs": [
    {
     "name": "stdout",
     "output_type": "stream",
     "text": [
      "1->2->0->2->1->"
     ]
    }
   ],
   "source": [
    "traverse(head)"
   ]
  },
  {
   "cell_type": "code",
   "execution_count": 318,
   "id": "6f4a01a2-6769-4b64-843d-d30c94448223",
   "metadata": {},
   "outputs": [
    {
     "name": "stdout",
     "output_type": "stream",
     "text": [
      "1->2->0->2->1->"
     ]
    }
   ],
   "source": [
    "traverse(reverse(head))"
   ]
  },
  {
   "cell_type": "code",
   "execution_count": 319,
   "id": "42d3e88f-2916-4528-9ed6-65325b8b99e0",
   "metadata": {},
   "outputs": [
    {
     "data": {
      "text/plain": [
       "True"
      ]
     },
     "execution_count": 319,
     "metadata": {},
     "output_type": "execute_result"
    }
   ],
   "source": [
    "check_palindrome(head)"
   ]
  },
  {
   "cell_type": "markdown",
   "id": "27349733-8628-4df9-a790-5793208f1cb6",
   "metadata": {},
   "source": [
    "Problem 11: Flatten a multilevel doubly linked list. <br>\n",
    "Input: 1 <-> 2 <-> 3 <-> 7 <-> 8 <-> 11 -> 12, 4 <-> 5 -> 9 -> 10, 6 -> 13 <br>\n",
    "Output: 1 <-> 2 <-> 3 <-> 4 <-> 5 <-> 6 <-> 7 <-> 8 <-> 9 <-> 10 <-> 11 <-> 12 <-> 13\n",
    "\n",
    "#### taking refrence from leetcode for the understanding of question ##"
   ]
  },
  {
   "cell_type": "code",
   "execution_count": 1,
   "id": "2fbe58b0-d4c3-47cf-a269-dd48d499e127",
   "metadata": {},
   "outputs": [],
   "source": [
    "class Dnode:\n",
    "    def __init__(self, val, prev, next, child):\n",
    "        self.val = val\n",
    "        self.prev = prev\n",
    "        self.next = next\n",
    "        self.child = child"
   ]
  },
  {
   "cell_type": "code",
   "execution_count": 4,
   "id": "a96e35d3-f09b-41c7-85fa-49de4e10b2df",
   "metadata": {},
   "outputs": [],
   "source": [
    "class Solution:\n",
    "    def flatten(self, head):\n",
    "          \n",
    "        current = head\n",
    "        while current:\n",
    "            if current.child:\n",
    "                self.merge(current)\n",
    "            current = current.next\n",
    "\n",
    "        return head\n",
    "        \n",
    "    def merge(self,current):\n",
    "        temp = current.child\n",
    "        nex = None\n",
    "        if current.next is not None:\n",
    "            nex = current.next\n",
    "\n",
    "        while temp.next:\n",
    "            temp =temp.next\n",
    "\n",
    "        #handling end of child list\n",
    "        temp.next , nex.prev = nex , temp\n",
    "        # handling start of child list\n",
    "        current.next , current.child.prev = current.child,current"
   ]
  },
  {
   "cell_type": "markdown",
   "id": "3d01c3e6-f84b-427f-859b-ccf987103062",
   "metadata": {},
   "source": [
    "Problem 12: Rearrange a linked list such that all even positioned nodes are placed at the end. <br>\n",
    "Input: 1 -> 2 -> 3 -> 4 -> 5 <br>\n",
    "Output: 1 -> 3 -> 5 -> 2 -> 4"
   ]
  },
  {
   "cell_type": "code",
   "execution_count": 7,
   "id": "b50329d3-c00c-4d65-950f-8a5ec63b1997",
   "metadata": {},
   "outputs": [],
   "source": [
    "\n",
    "def order_even(head):\n",
    "    odd = head\n",
    "    res = even = head.next\n",
    "    \n",
    "    while even and even.next:\n",
    "        odd.next = odd.next.next\n",
    "        odd = odd.next\n",
    "        \n",
    "        even.next = even.next.next\n",
    "        even = even.next\n",
    "    \n",
    "    odd.next = res\n",
    "    \n",
    "    return traverse(head)"
   ]
  },
  {
   "cell_type": "code",
   "execution_count": 8,
   "id": "7947dfb0-1ede-4e96-b47c-ea41c5028632",
   "metadata": {},
   "outputs": [
    {
     "name": "stdout",
     "output_type": "stream",
     "text": [
      "1->2->3->4->5->"
     ]
    }
   ],
   "source": [
    "head = Node(1)\n",
    "node2 = Node(2)\n",
    "node3 = Node(3)\n",
    "node4 = Node(4)\n",
    "node5 = Node(5)\n",
    "\n",
    "\n",
    "head.setNext(node2)\n",
    "node2.setNext(node3)\n",
    "node2.setNext(node3)\n",
    "node3.setNext(node4)\n",
    "node4.setNext(node5)\n",
    "\n",
    "\n",
    "traverse(head)"
   ]
  },
  {
   "cell_type": "code",
   "execution_count": 9,
   "id": "050e1f16-364a-4979-8cdf-38f724dc45ad",
   "metadata": {},
   "outputs": [
    {
     "name": "stdout",
     "output_type": "stream",
     "text": [
      "1->3->5->2->4->"
     ]
    }
   ],
   "source": [
    "order_even(head)"
   ]
  },
  {
   "cell_type": "markdown",
   "id": "00a91072-d210-43c7-8cd2-8741b25f3fcb",
   "metadata": {},
   "source": [
    "Problem 13: Given a non-negative number represented as a linked list, add one to it. <br>\n",
    "Input: 1 -> 2 -> 3 (represents the number 123) <br>\n",
    "Output: 1 -> 2 -> 4 (represents the number 124)"
   ]
  },
  {
   "cell_type": "code",
   "execution_count": 43,
   "id": "2a07800d-7751-47e1-9501-1ff45bbf0455",
   "metadata": {},
   "outputs": [],
   "source": [
    "def add_one(head):\n",
    "    # adds the number 1 and store in string\n",
    "    num = int(get_num(head)) +1\n",
    "    st = str(num)\n",
    "    # create a dummy node and iterate the string value to add the next node\n",
    "    res = a = Node(0)\n",
    "    while st:\n",
    "        a.setNext(Node(int(st[0])))\n",
    "        a = a.next\n",
    "        st = st[1:]\n",
    "    return traverse(res.next)\n",
    " \n",
    "# funtion that iterate over list and get the number to store in string\n",
    "def get_num(head):\n",
    "    temp =''\n",
    "    h1 = head\n",
    "    while h1:\n",
    "        temp = temp+str(h1.getData())\n",
    "        h1 = h1.next\n",
    "    return temp"
   ]
  },
  {
   "cell_type": "code",
   "execution_count": 44,
   "id": "40c8a336-aa34-4b67-a198-531e519461fb",
   "metadata": {},
   "outputs": [
    {
     "name": "stdout",
     "output_type": "stream",
     "text": [
      "1->2->3->"
     ]
    }
   ],
   "source": [
    "head = Node(1)\n",
    "node2 = Node(2)\n",
    "node3 = Node(3)\n",
    "\n",
    "head.setNext(node2)\n",
    "node2.setNext(node3)\n",
    "\n",
    "\n",
    "traverse(head)"
   ]
  },
  {
   "cell_type": "code",
   "execution_count": 45,
   "id": "ce255872-0b83-43b5-bc9c-d463ad48d609",
   "metadata": {},
   "outputs": [
    {
     "data": {
      "text/plain": [
       "'123'"
      ]
     },
     "execution_count": 45,
     "metadata": {},
     "output_type": "execute_result"
    }
   ],
   "source": [
    "get_num(head)"
   ]
  },
  {
   "cell_type": "code",
   "execution_count": 46,
   "id": "686855c3-1697-4b8b-8e3a-e81982336985",
   "metadata": {},
   "outputs": [
    {
     "name": "stdout",
     "output_type": "stream",
     "text": [
      "1->2->4->"
     ]
    }
   ],
   "source": [
    "add_one(head)"
   ]
  },
  {
   "cell_type": "markdown",
   "id": "85daee9f-286a-4f55-9f5d-0a27eb2c0609",
   "metadata": {},
   "source": [
    "Problem 14: Given a sorted array and a target value, return the index if the target is found. If not, return the\n",
    "index where it would be inserted. <br>\n",
    "Input: nums = [1, 3, 5, 6], target = 5 <br>\n",
    "Output: 2"
   ]
  },
  {
   "cell_type": "code",
   "execution_count": 54,
   "id": "d5a2b3ee-5d67-44dc-a6d2-7264364f6e3c",
   "metadata": {},
   "outputs": [],
   "source": [
    "# O(n) time complexity\n",
    "\n",
    "def get_index(arr,target):\n",
    "    i=0\n",
    "    while i < len(arr):\n",
    "        if arr[i]>=target:\n",
    "            return i\n",
    "        # elif arr[i]>target:\n",
    "        #     return i\n",
    "        i+=1\n",
    "    return i\n"
   ]
  },
  {
   "cell_type": "code",
   "execution_count": 55,
   "id": "eea286eb-508c-4e41-9e20-346ee44be289",
   "metadata": {},
   "outputs": [
    {
     "data": {
      "text/plain": [
       "2"
      ]
     },
     "execution_count": 55,
     "metadata": {},
     "output_type": "execute_result"
    }
   ],
   "source": [
    "nums = [1, 3, 5, 6]\n",
    "target = 4\n",
    "get_index(nums,target)"
   ]
  },
  {
   "cell_type": "markdown",
   "id": "75e75b93-193e-4f89-8d55-b5938817c310",
   "metadata": {},
   "source": [
    "Problem 15: Find the minimum element in a rotated sorted array. <br>\n",
    "Input: [4, 5, 6, 7, 0, 1, 2]\n",
    "Output: 0"
   ]
  },
  {
   "cell_type": "code",
   "execution_count": 61,
   "id": "b03902ea-ace9-4511-9327-f652da8c5fa0",
   "metadata": {},
   "outputs": [],
   "source": [
    "def findMin(nums):\n",
    "\n",
    "    l = 0\n",
    "    r = len(nums)-1\n",
    "    mid = (r-l)//2\n",
    "\n",
    "    if len(nums) ==1:\n",
    "        return nums[0]\n",
    "    elif nums[mid]<nums[mid+1] and nums[mid]<nums[mid-1]:\n",
    "        return nums[mid]        \n",
    "    else:\n",
    "        return min(findMin(nums[:mid+1]),findMin(nums[mid+1:]))\n",
    "    \n",
    "# using recursion and taking care of corner case\n",
    "# irrespective of the logic that minimum element will have both the vicinity on larger number"
   ]
  },
  {
   "cell_type": "code",
   "execution_count": 62,
   "id": "92b1df58-7e09-4f16-a732-64c6d84cd58a",
   "metadata": {},
   "outputs": [
    {
     "data": {
      "text/plain": [
       "0"
      ]
     },
     "execution_count": 62,
     "metadata": {},
     "output_type": "execute_result"
    }
   ],
   "source": [
    "arr = [4, 5, 6, 7, 0, 1, 2]\n",
    "findMin(arr)"
   ]
  },
  {
   "cell_type": "markdown",
   "id": "294e15f5-e7d2-4428-88de-0993e9a984e3",
   "metadata": {},
   "source": [
    "Problem 16: Search for a target value in a rotated sorted array. <br>\n",
    "Input: nums = [4, 5, 6, 7, 0, 1, 2], target = 0 <br>\n",
    "Output: 4"
   ]
  },
  {
   "cell_type": "code",
   "execution_count": 81,
   "id": "9b714548-1804-413f-bf91-0d5c248a5bed",
   "metadata": {},
   "outputs": [],
   "source": [
    "def search(nums,target):\n",
    "    l = 0\n",
    "    r = len(nums) -1\n",
    "\n",
    "    while l <=r:\n",
    "        mid = (l+r)//2\n",
    "\n",
    "        if nums[mid] == target:\n",
    "            return mid\n",
    "        if nums[l]<=nums[mid]:\n",
    "            if nums[l] <= target < nums[mid]:\n",
    "                r = mid -1\n",
    "            else:\n",
    "                l = mid +1\n",
    "        else:\n",
    "            if nums[mid] < target <= nums[r]:\n",
    "                l = mid +1\n",
    "            else:\n",
    "                r = mid -1\n",
    "    return -1"
   ]
  },
  {
   "cell_type": "code",
   "execution_count": 82,
   "id": "a8f30c9f-161b-48de-b9fa-2e8dbf1fd69e",
   "metadata": {},
   "outputs": [
    {
     "data": {
      "text/plain": [
       "4"
      ]
     },
     "execution_count": 82,
     "metadata": {},
     "output_type": "execute_result"
    }
   ],
   "source": [
    "arr1 = [4, 5, 6, 7, 0, 1, 2]\n",
    "target = 0\n",
    "search(arr1,target)"
   ]
  },
  {
   "cell_type": "markdown",
   "id": "de572b50-0466-46cf-8c60-b5b0e6221a6d",
   "metadata": {},
   "source": [
    "Problem 17: Find the peak element in an array. A peak element is greater than its neighbors.<br>\n",
    "Input: nums = [1, 2, 3, 1] <br>\n",
    "Output: 2 (index of peak element)"
   ]
  },
  {
   "cell_type": "code",
   "execution_count": 86,
   "id": "c419f4a1-9d2d-4abc-89a2-6b2fc7eb0584",
   "metadata": {},
   "outputs": [],
   "source": [
    "def find_peak(nums):\n",
    "    i = 1\n",
    "    n = len(nums)-1\n",
    "    \n",
    "    while i <n:\n",
    "        if nums[i-1] <nums[i] >nums[i+1]:\n",
    "            return i\n",
    "        i+=1\n",
    "    "
   ]
  },
  {
   "cell_type": "code",
   "execution_count": 87,
   "id": "6c5dcbcd-5841-4f15-85b8-6c80ec5b21fa",
   "metadata": {},
   "outputs": [
    {
     "data": {
      "text/plain": [
       "2"
      ]
     },
     "execution_count": 87,
     "metadata": {},
     "output_type": "execute_result"
    }
   ],
   "source": [
    "arr = [1, 2, 3, 1]\n",
    "find_peak(arr)"
   ]
  },
  {
   "cell_type": "markdown",
   "id": "1777ee20-50fe-4c06-9c18-2feb01beebbf",
   "metadata": {},
   "source": [
    "Problem 18: Given a m x n matrix where each row and column is sorted in ascending order, count the number\n",
    "of negative numbers. <br>\n",
    "Input: grid = [[4, 3, 2, -1], [3, 2, 1, -1], [1, 1, -1, -2], [-1, -1, -2, -3]] <br>\n",
    "Output: 8"
   ]
  },
  {
   "cell_type": "code",
   "execution_count": 94,
   "id": "97cb1075-eea9-4aeb-bb27-682da5fc02bd",
   "metadata": {},
   "outputs": [],
   "source": [
    "def count_neg(nums):\n",
    "    l = 0\n",
    "    r = len(nums)-1\n",
    "    count = 0\n",
    "    while l<r:\n",
    "        if nums[l]<0 and nums[r]<0:\n",
    "            count+=2\n",
    "        elif nums[l]<0 or nums[r]<0:\n",
    "            count+=1\n",
    "        l+=1\n",
    "        r-=1\n",
    "    \n",
    "    return count\n",
    "\n",
    "def count_grid(grid):\n",
    "    ans = 0\n",
    "    \n",
    "    for val in grid:\n",
    "        ans+=count_neg(val)\n",
    "    \n",
    "    return ans\n",
    "    \n",
    "# m steps to iterate over the rows\n",
    "# 2 pointer makes it O(logn) for finding negative in single row\n",
    "# O(mlogn) time complexity"
   ]
  },
  {
   "cell_type": "code",
   "execution_count": 95,
   "id": "94f194da-836d-4c3e-9a80-c62065897ba0",
   "metadata": {},
   "outputs": [
    {
     "data": {
      "text/plain": [
       "8"
      ]
     },
     "execution_count": 95,
     "metadata": {},
     "output_type": "execute_result"
    }
   ],
   "source": [
    "grid = [[4, 3, 2, -1], [3, 2, 1, -1], [1, 1, -1, -2], [-1, -1, -2, -3]]\n",
    "count_grid(grid)"
   ]
  },
  {
   "cell_type": "markdown",
   "id": "163f461f-6879-4e67-a18c-8aa3a6060509",
   "metadata": {},
   "source": [
    "Problem 19: Given a 2D matrix sorted in ascending order in each row, and the first integer of each row is\n",
    "greater than the last integer of the previous row, determine if a target value is present in the matrix. <br>\n",
    "Input: matrix = [[1, 3, 5, 7], [10, 11, 16, 20], [23, 30, 34, 60]], target = 3 <br>\n",
    "Output: True"
   ]
  },
  {
   "cell_type": "code",
   "execution_count": 58,
   "id": "a2580d4c-7de6-454b-85dd-516a6e36fb10",
   "metadata": {},
   "outputs": [],
   "source": [
    "def two_matrix(nums,target):\n",
    "    i = 0\n",
    "    j = 0\n",
    "    if matrix[-1][-1]<target:\n",
    "        return False\n",
    "    elif matrix[-1][-1]==target:\n",
    "        return True\n",
    "    while i <len(matrix):\n",
    "        if matrix[i][0]< target and matrix[i][-1]<target:\n",
    "            i+=1\n",
    "        else:\n",
    "            break\n",
    "    while j < len(matrix[0]):\n",
    "        if matrix[i][j]== target:\n",
    "            return True\n",
    "        j+=1\n",
    "    return False\n",
    "# O(m+n) time complexity"
   ]
  },
  {
   "cell_type": "code",
   "execution_count": 60,
   "id": "31e8ce8d-990e-4b05-95c9-857f3f124aab",
   "metadata": {},
   "outputs": [
    {
     "data": {
      "text/plain": [
       "True"
      ]
     },
     "execution_count": 60,
     "metadata": {},
     "output_type": "execute_result"
    }
   ],
   "source": [
    "matrix = [[1, 3, 5, 7], [10, 11, 16, 20], [23, 30, 34, 60]]\n",
    "target = 3\n",
    "two_matrix(matrix,target)\n"
   ]
  },
  {
   "cell_type": "code",
   "execution_count": 39,
   "id": "09134631-705b-480b-85fb-d9dfce9e8845",
   "metadata": {},
   "outputs": [
    {
     "data": {
      "text/plain": [
       "3"
      ]
     },
     "execution_count": 39,
     "metadata": {},
     "output_type": "execute_result"
    }
   ],
   "source": [
    "len(matrix)"
   ]
  },
  {
   "cell_type": "markdown",
   "id": "133c91e9-2ef6-4e8c-9c5c-ad2576034c3f",
   "metadata": {},
   "source": [
    "Problem 20: Find Median in Two Sorted Arrays <br>\n",
    "Problem: Given two sorted arrays, find the median of the combined sorted array. <br>\n",
    "Input: nums1 = [1, 3], nums2 = [2]\n",
    "Output: 2.0"
   ]
  },
  {
   "cell_type": "code",
   "execution_count": 1,
   "id": "fd68ca6d-7bd9-4236-bd50-05aa4a038ef1",
   "metadata": {},
   "outputs": [],
   "source": [
    "def median_arr(nums1,nums2):\n",
    "    merge = []\n",
    "    i,j = 0,0\n",
    "    n , m = len(nums1),len(nums2)\n",
    "\n",
    "    while i <n and j<m:\n",
    "        if nums1[i]<nums2[j]:\n",
    "            merge.append(nums1[i])\n",
    "            i+=1\n",
    "        else:\n",
    "            merge.append(nums2[j])\n",
    "            j+=1\n",
    "\n",
    "    while i < len(nums1):\n",
    "        merge.append(nums1[i])\n",
    "        i += 1\n",
    "\n",
    "    while j < len(nums2):\n",
    "        merge.append(nums2[j])\n",
    "        j += 1\n",
    "\n",
    "\n",
    "    mid = len(merge)//2\n",
    "\n",
    "    if len(merge)%2 ==0:\n",
    "        return (merge[mid-1]+merge[mid])/2\n",
    "    else:\n",
    "        return merge[mid]"
   ]
  },
  {
   "cell_type": "code",
   "execution_count": 3,
   "id": "22af5dd9-1915-465a-a6f8-6ef1808cfc00",
   "metadata": {},
   "outputs": [
    {
     "data": {
      "text/plain": [
       "2"
      ]
     },
     "execution_count": 3,
     "metadata": {},
     "output_type": "execute_result"
    }
   ],
   "source": [
    "arr1 = [1,3]\n",
    "arr2 = [2]\n",
    "median_arr(arr1,arr2)"
   ]
  },
  {
   "cell_type": "markdown",
   "id": "cea72b45-47d2-4f01-8b6c-f86e8bbde658",
   "metadata": {},
   "source": [
    "Problem 21: Given a sorted character array and a target letter, find the smallest letter in the array that is\n",
    "greater than the target.\n",
    "\n",
    "Input: letters = ['c', 'f', 'j'], target = a\n",
    "Output: 'c'"
   ]
  },
  {
   "cell_type": "code",
   "execution_count": 4,
   "id": "7dda2840-9f2e-49fe-ba85-83e51b2fd742",
   "metadata": {},
   "outputs": [],
   "source": [
    "def smallest_letter(arr,target):\n",
    "    i = 0\n",
    "    while i < len(arr):\n",
    "        if arr[i]>target:\n",
    "            return arr[i]\n",
    "        else:\n",
    "            i+=1\n",
    "    return -1"
   ]
  },
  {
   "cell_type": "code",
   "execution_count": 6,
   "id": "7064b33d-0052-461a-9bb9-87225da7bd8b",
   "metadata": {},
   "outputs": [
    {
     "data": {
      "text/plain": [
       "'c'"
      ]
     },
     "execution_count": 6,
     "metadata": {},
     "output_type": "execute_result"
    }
   ],
   "source": [
    "letters = ['c', 'f', 'j']\n",
    "target = 'a'\n",
    "smallest_letter(letters,target)"
   ]
  },
  {
   "cell_type": "markdown",
   "id": "cea7b05b-6804-4482-9a20-b1113d6c417d",
   "metadata": {},
   "source": [
    "Problem 22: Given an array with n objects colored red, white, or blue, sort them in-place so that objects of\n",
    "the same color are adjacent, with the colors in the order red, white, and blue.\n",
    "\n",
    "Input: nums = [2, 0, 2, 1, 1, 0]\n",
    "Output: [0, 0, 1, 1, 2, 2]"
   ]
  },
  {
   "cell_type": "code",
   "execution_count": 9,
   "id": "c23256e9-7364-4843-aeb9-123b48f1596d",
   "metadata": {},
   "outputs": [],
   "source": [
    "def sort_colors(nums):\n",
    "    i,j = 0,0\n",
    "    k = len(nums)-1\n",
    "    \n",
    "    while j < k:\n",
    "        if nums[j] == 0:\n",
    "            nums[i],nums[j] = nums[j],nums[i]\n",
    "            i+=1\n",
    "            j+=1\n",
    "        elif nums[j] == 2:\n",
    "            nums[k],nums[j] = nums[j],nums[k]\n",
    "            k-=1\n",
    "        else:\n",
    "            j+=1\n",
    "    \n",
    "    return nums"
   ]
  },
  {
   "cell_type": "code",
   "execution_count": 10,
   "id": "7e122f11-4ac4-45be-99ad-d5f6a65999ae",
   "metadata": {},
   "outputs": [
    {
     "data": {
      "text/plain": [
       "[0, 0, 1, 1, 2, 2]"
      ]
     },
     "execution_count": 10,
     "metadata": {},
     "output_type": "execute_result"
    }
   ],
   "source": [
    "nums = [2, 0, 2, 1, 1, 0]\n",
    "sort_colors(nums)"
   ]
  },
  {
   "cell_type": "markdown",
   "id": "0a1327cc-3660-49db-b792-3109f9cb0632",
   "metadata": {},
   "source": [
    "Problem 23: Find the kth largest element in an unsorted array.\n",
    "\n",
    "Input: nums = [3, 2, 1, 5, 6, 4], k = 2\n",
    "Output: 5"
   ]
  },
  {
   "cell_type": "code",
   "execution_count": 12,
   "id": "b3e196eb-b2ba-4947-9483-450ee21cde5e",
   "metadata": {},
   "outputs": [
    {
     "name": "stdout",
     "output_type": "stream",
     "text": [
      "5\n"
     ]
    }
   ],
   "source": [
    "nums = [3, 2, 1, 5, 6, 4]\n",
    "k=2\n",
    "nums.sort()\n",
    "print(nums[-k])"
   ]
  },
  {
   "cell_type": "markdown",
   "id": "79b04207-acc5-4d81-abb8-0e34c2ffc6a5",
   "metadata": {},
   "source": [
    "Problem 24: Given an unsorted array, reorder it in-place such that nums[0] <= nums[1] >= nums[2] <=\n",
    "nums[3]...\n",
    "\n",
    "Input: nums = [3, 5, 2, 1, 6, 4]\n",
    "Output: [3, 5, 1, 6, 2, 4]"
   ]
  },
  {
   "cell_type": "code",
   "execution_count": 17,
   "id": "222b980d-2a84-4d49-b519-a1d39007055e",
   "metadata": {},
   "outputs": [],
   "source": [
    "def wiggle(nums):\n",
    "    i = 0 \n",
    "    while i <len(nums)-1:\n",
    "        if i%2==0:\n",
    "            if nums[i]>nums[i+1]:\n",
    "                nums[i],nums[i+1] = nums[i+1],nums[i]\n",
    "                \n",
    "        else:\n",
    "            if nums[i]<nums[i+1]:\n",
    "                nums[i],nums[i+1] = nums[i+1],nums[i]\n",
    "        i+=1\n",
    "    \n",
    "    return nums\n",
    "\n",
    "# O(n) time complexity and swapping the element O(1) space complexity"
   ]
  },
  {
   "cell_type": "code",
   "execution_count": 18,
   "id": "d79adf46-37e4-48a9-ad78-75fc3ba09069",
   "metadata": {},
   "outputs": [
    {
     "data": {
      "text/plain": [
       "[3, 5, 1, 6, 2, 4]"
      ]
     },
     "execution_count": 18,
     "metadata": {},
     "output_type": "execute_result"
    }
   ],
   "source": [
    "nums = [3, 5, 2, 1, 6, 4]\n",
    "wiggle(nums)"
   ]
  },
  {
   "cell_type": "markdown",
   "id": "7f540673-cb79-42b7-86b3-307f7a4333da",
   "metadata": {},
   "source": [
    "Problem 25: Given an array of integers, calculate the sum of all its elements.\n",
    "\n",
    "Input: [1, 2, 3, 4, 5]\n",
    "Output: 15"
   ]
  },
  {
   "cell_type": "code",
   "execution_count": 19,
   "id": "fdd0ce5a-68fb-44a4-aefe-9b851d4036c0",
   "metadata": {},
   "outputs": [],
   "source": [
    "def sum_elements(arr):\n",
    "    res = 0\n",
    "    for val in arr:\n",
    "        res+=val\n",
    "        \n",
    "    return res\n",
    "\n",
    "# O(n) time complexity"
   ]
  },
  {
   "cell_type": "code",
   "execution_count": 20,
   "id": "84719ac4-e6be-4e6d-9be3-28bce677295c",
   "metadata": {},
   "outputs": [
    {
     "data": {
      "text/plain": [
       "15"
      ]
     },
     "execution_count": 20,
     "metadata": {},
     "output_type": "execute_result"
    }
   ],
   "source": [
    "nums = [1, 2, 3, 4, 5]\n",
    "sum_elements(nums)"
   ]
  },
  {
   "cell_type": "markdown",
   "id": "7e0da3c6-9437-4255-8f62-c4fc8a8042f8",
   "metadata": {},
   "source": [
    "Problem 26: Find the maximum element in an array of integers.\n",
    "\n",
    "Input: [3, 7, 2, 9, 4, 1]\n",
    "Output: 9"
   ]
  },
  {
   "cell_type": "code",
   "execution_count": 21,
   "id": "470185dc-b598-4cd2-98e4-f1d9b5d0fb86",
   "metadata": {},
   "outputs": [],
   "source": [
    "def find_max(arr):\n",
    "    res = -1000\n",
    "    \n",
    "    for val in arr:\n",
    "        res = max(res,val)\n",
    "        \n",
    "    return res"
   ]
  },
  {
   "cell_type": "code",
   "execution_count": 22,
   "id": "3ebbf9fd-4907-4436-ac1d-04de90ab040b",
   "metadata": {},
   "outputs": [
    {
     "data": {
      "text/plain": [
       "9"
      ]
     },
     "execution_count": 22,
     "metadata": {},
     "output_type": "execute_result"
    }
   ],
   "source": [
    "nums = [3, 7, 2, 9, 4, 1]\n",
    "find_max(nums)"
   ]
  },
  {
   "cell_type": "markdown",
   "id": "c8fbc6e9-0554-4001-91b5-fff322148b2f",
   "metadata": {},
   "source": [
    "Problem 27: Implement linear search to find the index of a target element in an array.\n",
    "\n",
    "Input: [5, 3, 8, 2, 7, 4], target = 8\n",
    "Output: 2"
   ]
  },
  {
   "cell_type": "code",
   "execution_count": 26,
   "id": "c8f1cbff-8377-460f-97f5-8bd1c27c947e",
   "metadata": {},
   "outputs": [],
   "source": [
    "def linear_index(arr,target):\n",
    "    i = 0\n",
    "    while i < len(arr):\n",
    "        if arr[i] == target:\n",
    "            return i\n",
    "        i+=1\n",
    "    return \"target don't exist\""
   ]
  },
  {
   "cell_type": "code",
   "execution_count": 27,
   "id": "106894dd-505f-40cf-9b13-222706095b0f",
   "metadata": {},
   "outputs": [
    {
     "data": {
      "text/plain": [
       "2"
      ]
     },
     "execution_count": 27,
     "metadata": {},
     "output_type": "execute_result"
    }
   ],
   "source": [
    "nums = [5, 3, 8, 2, 7, 4]\n",
    "target = 8\n",
    "linear_index(nums,target)"
   ]
  },
  {
   "cell_type": "markdown",
   "id": "83e6e388-1cbe-43cf-92b5-c12e1f96fc5f",
   "metadata": {},
   "source": [
    "Problem 28 Calculate the factorial of a given number.\n",
    "\n",
    "Input: 5\n",
    "Output: 120 (as 5! = 5 * 4 * 3 * 2 * 1 = 120)"
   ]
  },
  {
   "cell_type": "code",
   "execution_count": 28,
   "id": "c07d7625-18af-4647-a0d8-785a281bb89d",
   "metadata": {},
   "outputs": [],
   "source": [
    "def fact(n):\n",
    "    if n ==0 or n==1:\n",
    "        return 1\n",
    "    else:\n",
    "        return n*fact(n-1)"
   ]
  },
  {
   "cell_type": "code",
   "execution_count": 29,
   "id": "6ab8059c-112a-43c2-9a55-37e558915d3b",
   "metadata": {},
   "outputs": [
    {
     "data": {
      "text/plain": [
       "120"
      ]
     },
     "execution_count": 29,
     "metadata": {},
     "output_type": "execute_result"
    }
   ],
   "source": [
    "fact(5)"
   ]
  },
  {
   "cell_type": "markdown",
   "id": "77456f1a-9b62-41fb-a8e5-535b42950997",
   "metadata": {},
   "source": [
    "Problem 29: Check if a given number is a prime number.\n",
    "\n",
    "Input: 7\n",
    "Output: True"
   ]
  },
  {
   "cell_type": "code",
   "execution_count": 30,
   "id": "273d73ea-d641-41b8-9747-5029ff0088c8",
   "metadata": {},
   "outputs": [],
   "source": [
    "def is_prime(n):\n",
    "    \n",
    "    for val in range(2,n//2):\n",
    "        if n%val ==0:\n",
    "            return False\n",
    "    return True"
   ]
  },
  {
   "cell_type": "code",
   "execution_count": 33,
   "id": "88144abd-4902-4921-be15-7bb927600786",
   "metadata": {},
   "outputs": [
    {
     "data": {
      "text/plain": [
       "True"
      ]
     },
     "execution_count": 33,
     "metadata": {},
     "output_type": "execute_result"
    }
   ],
   "source": [
    "is_prime(4357)"
   ]
  },
  {
   "cell_type": "markdown",
   "id": "93d92272-826f-47db-b2f6-a65c54ea9912",
   "metadata": {},
   "source": [
    "Problem 30: Generate the Fibonacci series up to a given number n.\n",
    "\n",
    "Input: 8\n",
    "Output: [0, 1, 1, 2, 3, 5, 8, 13]"
   ]
  },
  {
   "cell_type": "code",
   "execution_count": 36,
   "id": "32333fdf-bc6f-4188-bd4a-5d4e1016a16a",
   "metadata": {},
   "outputs": [],
   "source": [
    "def fib(n):\n",
    "    l = [0,1]\n",
    "    \n",
    "    for val in range(2,n):\n",
    "        l.append(l[-1]+l[-2])\n",
    "        \n",
    "    return l\n",
    "    "
   ]
  },
  {
   "cell_type": "code",
   "execution_count": 37,
   "id": "bb9da193-ce13-4afc-9ecc-9df855f09507",
   "metadata": {},
   "outputs": [
    {
     "data": {
      "text/plain": [
       "[0, 1, 1, 2, 3, 5, 8, 13]"
      ]
     },
     "execution_count": 37,
     "metadata": {},
     "output_type": "execute_result"
    }
   ],
   "source": [
    "fib(8)"
   ]
  },
  {
   "cell_type": "markdown",
   "id": "6c10ca5e-218d-4908-afdc-68d32095e55b",
   "metadata": {},
   "source": [
    "Problem 31: Calculate the power of a number using recursion.\n",
    "\n",
    "Input: base = 3, exponent = 4\n",
    "Output: 81 (as 3^4 = 3 * 3 * 3 * 3 = 81)"
   ]
  },
  {
   "cell_type": "code",
   "execution_count": 38,
   "id": "2f9b22f1-0f95-4a91-ae8c-7e8848a02738",
   "metadata": {},
   "outputs": [],
   "source": [
    "def power(n,exp):\n",
    "    if exp ==0:\n",
    "        return 1\n",
    "    else:\n",
    "        return n*power(n,exp-1)"
   ]
  },
  {
   "cell_type": "code",
   "execution_count": 39,
   "id": "2c6a4070-1552-4c2e-9a28-8021bd2f0cfc",
   "metadata": {},
   "outputs": [
    {
     "data": {
      "text/plain": [
       "81"
      ]
     },
     "execution_count": 39,
     "metadata": {},
     "output_type": "execute_result"
    }
   ],
   "source": [
    "power(3,4)"
   ]
  },
  {
   "cell_type": "code",
   "execution_count": null,
   "id": "749f2481-c36a-47f7-818d-4347567d568c",
   "metadata": {},
   "outputs": [],
   "source": [
    "Problem 32: Reverse a given string.\n",
    "\n"
   ]
  }
 ],
 "metadata": {
  "kernelspec": {
   "display_name": "Python 3 (ipykernel)",
   "language": "python",
   "name": "python3"
  },
  "language_info": {
   "codemirror_mode": {
    "name": "ipython",
    "version": 3
   },
   "file_extension": ".py",
   "mimetype": "text/x-python",
   "name": "python",
   "nbconvert_exporter": "python",
   "pygments_lexer": "ipython3",
   "version": "3.10.8"
  }
 },
 "nbformat": 4,
 "nbformat_minor": 5
}

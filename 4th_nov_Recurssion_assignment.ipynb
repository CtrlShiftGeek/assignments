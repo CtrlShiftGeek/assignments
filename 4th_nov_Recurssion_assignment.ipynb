{
 "cells": [
  {
   "cell_type": "markdown",
   "id": "b30f948a-5500-46ca-bab4-5a7387f446ac",
   "metadata": {},
   "source": [
    "Q.1 Can you explain the logic and working of the Tower of Hanoi algorithm by writing a Java program?\n",
    "How does the recursion work, and how are the movements of disks between rods accomplished?"
   ]
  },
  {
   "cell_type": "code",
   "execution_count": 2,
   "id": "275ff5dc-f9ab-4951-8e83-dac26d3cbb6c",
   "metadata": {},
   "outputs": [
    {
     "name": "stdout",
     "output_type": "stream",
     "text": [
      "Move disk 1 from rod A to rod C\n",
      "Move disk 2 from rod A to rod B\n",
      "Move disk 1 from rod C to rod B\n",
      "Move disk 3 from rod A to rod C\n",
      "Move disk 1 from rod B to rod A\n",
      "Move disk 2 from rod B to rod C\n",
      "Move disk 1 from rod A to rod C\n"
     ]
    }
   ],
   "source": [
    "#method function\n",
    "def TowerOfHanoi(n, from_rod, to_rod, aux_rod):\n",
    "    #base condition\n",
    "    if n ==0:\n",
    "        return\n",
    "    TowerOfHanoi(n-1, from_rod, aux_rod, to_rod)\n",
    "    print(\"Move disk\", n, \"from rod\", from_rod, \"to rod\", to_rod)\n",
    "    TowerOfHanoi(n-1, aux_rod, to_rod, from_rod)\n",
    "    \n",
    "#driver code\n",
    "N =3\n",
    "TowerOfHanoi(N,'A','C','B')"
   ]
  },
  {
   "cell_type": "markdown",
   "id": "3d4aee2e-f7ff-4f31-a27c-606857b703a4",
   "metadata": {},
   "source": [
    "Q.2 Given two strings word1 and word2, return the minimum number of operations required to convert word1\n",
    "to word2."
   ]
  },
  {
   "cell_type": "code",
   "execution_count": 3,
   "id": "e7fc6643-b995-4922-86c3-83131ec01371",
   "metadata": {},
   "outputs": [],
   "source": [
    "# operations\n",
    "#Insert a character\n",
    "# Delete a character\n",
    "# Replace a character\n",
    "\n",
    "\n"
   ]
  },
  {
   "cell_type": "markdown",
   "id": "a68684c2-b338-4606-9b42-3b414d489ce8",
   "metadata": {},
   "source": [
    "Q. 3 Print the max value of the array [ 13, 1, -3, 22, 5]."
   ]
  },
  {
   "cell_type": "code",
   "execution_count": 9,
   "id": "771637c5-a67f-43fa-bdf1-b93ea3dce801",
   "metadata": {},
   "outputs": [],
   "source": [
    "def max_array(ar):\n",
    "    check = 0\n",
    "    for val in ar:\n",
    "        if val >check:\n",
    "            check = val\n",
    "    return check"
   ]
  },
  {
   "cell_type": "code",
   "execution_count": 10,
   "id": "87988c85-d518-482e-af8e-6add30fb92ac",
   "metadata": {},
   "outputs": [
    {
     "data": {
      "text/plain": [
       "22"
      ]
     },
     "execution_count": 10,
     "metadata": {},
     "output_type": "execute_result"
    }
   ],
   "source": [
    "max_array([ 13, 1, -3, 22, 5])"
   ]
  },
  {
   "cell_type": "code",
   "execution_count": 11,
   "id": "1c2c67f2-8f84-40c5-93a6-0d04df3f3f8c",
   "metadata": {},
   "outputs": [],
   "source": [
    "def max_array1(arr,index):\n",
    "    if index == 0:\n",
    "        return arr[0]\n",
    "    else:\n",
    "        # Recursive case: Find the maximum of the rest of the array\n",
    "        max_of_rest = max_array1(arr, index - 1)\n",
    "\n",
    "        # Compare the maximum of the rest with the current element\n",
    "        return max_of_rest if max_of_rest > arr[index] else arr[index]"
   ]
  },
  {
   "cell_type": "code",
   "execution_count": 12,
   "id": "4cd6df8c-e9ab-45ea-a987-e0c6629fa071",
   "metadata": {},
   "outputs": [
    {
     "data": {
      "text/plain": [
       "22"
      ]
     },
     "execution_count": 12,
     "metadata": {},
     "output_type": "execute_result"
    }
   ],
   "source": [
    "arr = [ 13, 1, -3, 22, 5]\n",
    "max_array1(arr,len(arr)-1)"
   ]
  },
  {
   "cell_type": "markdown",
   "id": "34bb73ff-d3fe-4ee9-a54a-11daa95816e7",
   "metadata": {},
   "source": [
    "Q.4 Find the sum of the values of the array [92, 23, 15, -20, 10]."
   ]
  },
  {
   "cell_type": "code",
   "execution_count": 35,
   "id": "45ef65a5-2ce2-4b86-b2fb-b1ce455d7862",
   "metadata": {},
   "outputs": [],
   "source": [
    "my_arr = [92, 23, 15, -20, 10]"
   ]
  },
  {
   "cell_type": "code",
   "execution_count": 36,
   "id": "acb4d1ea-666a-4948-b191-52453ebee538",
   "metadata": {},
   "outputs": [],
   "source": [
    "def find_sum(arr,index):\n",
    "    #base case\n",
    "    if index < 0:\n",
    "        return 0\n",
    "    # recursion\n",
    "    else:\n",
    "        return arr[index] + find_sum(arr,index-1)"
   ]
  },
  {
   "cell_type": "code",
   "execution_count": 37,
   "id": "381c527c-1939-43ce-877f-70bffba9be59",
   "metadata": {},
   "outputs": [
    {
     "data": {
      "text/plain": [
       "120"
      ]
     },
     "execution_count": 37,
     "metadata": {},
     "output_type": "execute_result"
    }
   ],
   "source": [
    "find_sum(my_arr,len(ara)-1)"
   ]
  },
  {
   "cell_type": "markdown",
   "id": "aa7fb681-195c-417f-a802-58b72221babd",
   "metadata": {},
   "source": [
    "Q.5 Given a number n. Print if it is an armstrong number or not.An armstrong number is a number if the sum\n",
    "of every digit in that number raised to the power of total digits in that number is equal to the number."
   ]
  },
  {
   "cell_type": "code",
   "execution_count": 29,
   "id": "8b6aca11-8b00-46b4-80e0-5348f1e40196",
   "metadata": {},
   "outputs": [
    {
     "data": {
      "text/plain": [
       "120"
      ]
     },
     "execution_count": 29,
     "metadata": {},
     "output_type": "execute_result"
    }
   ],
   "source": [
    "# Example : 153 = 1^3 + 5^3 + 3^3 = 1 + 125 + 27 = 153 hence 153 is an armstrong number. (Easy)"
   ]
  },
  {
   "cell_type": "code",
   "execution_count": 65,
   "id": "7ac362e7-035a-429a-b0fc-ea656603323b",
   "metadata": {},
   "outputs": [],
   "source": [
    "# def check_arm(num):\n",
    "    \n",
    "#     if num < 10:\n",
    "#         return num**3\n",
    "#     else:\n",
    "#         return check_arm(num%10)+check_arm(num//10)"
   ]
  },
  {
   "cell_type": "code",
   "execution_count": 66,
   "id": "0afa0301-0c6d-4861-8be5-f3c1960103da",
   "metadata": {},
   "outputs": [],
   "source": [
    "# def armstrong(num):\n",
    "#     if check_arm(num) == num: \n",
    "#         return True\n",
    "#     else:\n",
    "#         return False"
   ]
  },
  {
   "cell_type": "code",
   "execution_count": 76,
   "id": "688bf960-365c-4bcf-915f-2f2c0ecc55f5",
   "metadata": {},
   "outputs": [],
   "source": [
    "# converted into class function and using as object and calling the functions as property\n",
    "class arm_number:\n",
    "    def check_arm(self,num):\n",
    "        #base condition\n",
    "        if num < 10:\n",
    "            return num**3\n",
    "        # using recursion with 10 as a base to divide and take the remainder\n",
    "        else:\n",
    "            return self.check_arm(num%10)+self.check_arm(num//10)\n",
    "        \n",
    "    def armstrong(self,num):\n",
    "        if self.check_arm(num) == num: \n",
    "            return True\n",
    "        else:\n",
    "            return False"
   ]
  },
  {
   "cell_type": "code",
   "execution_count": 77,
   "id": "86fa3040-ed47-4f89-9376-6b5c8249089c",
   "metadata": {},
   "outputs": [],
   "source": [
    "a = arm_number()"
   ]
  },
  {
   "cell_type": "code",
   "execution_count": 78,
   "id": "10dcf65f-b835-4ce3-b1f5-e19265c73130",
   "metadata": {},
   "outputs": [
    {
     "data": {
      "text/plain": [
       "True"
      ]
     },
     "execution_count": 78,
     "metadata": {},
     "output_type": "execute_result"
    }
   ],
   "source": [
    "a.armstrong(153)"
   ]
  },
  {
   "cell_type": "code",
   "execution_count": 79,
   "id": "f3330587-e767-4116-b8de-bded2940e401",
   "metadata": {},
   "outputs": [
    {
     "data": {
      "text/plain": [
       "False"
      ]
     },
     "execution_count": 79,
     "metadata": {},
     "output_type": "execute_result"
    }
   ],
   "source": [
    "a.armstrong(134)"
   ]
  },
  {
   "cell_type": "code",
   "execution_count": null,
   "id": "7c43590d-0733-4749-88ec-ebe87c832ba4",
   "metadata": {},
   "outputs": [],
   "source": []
  }
 ],
 "metadata": {
  "kernelspec": {
   "display_name": "Python 3 (ipykernel)",
   "language": "python",
   "name": "python3"
  },
  "language_info": {
   "codemirror_mode": {
    "name": "ipython",
    "version": 3
   },
   "file_extension": ".py",
   "mimetype": "text/x-python",
   "name": "python",
   "nbconvert_exporter": "python",
   "pygments_lexer": "ipython3",
   "version": "3.10.8"
  }
 },
 "nbformat": 4,
 "nbformat_minor": 5
}

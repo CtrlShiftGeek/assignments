{
 "cells": [
  {
   "cell_type": "markdown",
   "id": "410f0439-3096-4d5f-8dd4-2abdf76d95d7",
   "metadata": {},
   "source": [
    "TOPIC: Python Basics Variable"
   ]
  },
  {
   "cell_type": "markdown",
   "id": "85b0d3fd-d6a5-47af-b8ca-e85bce94a882",
   "metadata": {},
   "source": [
    "1. Declare two variables, `x` and `y`, and assign them integer values. Swap the values of these variables without using any temporary variable."
   ]
  },
  {
   "cell_type": "code",
   "execution_count": 2,
   "id": "7c88ee6a-8211-4f2a-bb67-3f8641ee6227",
   "metadata": {},
   "outputs": [],
   "source": [
    "x = int(5)\n",
    "y = int(6)"
   ]
  },
  {
   "cell_type": "code",
   "execution_count": 4,
   "id": "694428f3-6b30-4354-9dcb-df1bc7dbeba7",
   "metadata": {},
   "outputs": [],
   "source": [
    "x,y = y,x"
   ]
  },
  {
   "cell_type": "code",
   "execution_count": 5,
   "id": "bbb4bebd-de0a-4126-82a1-505f0befe015",
   "metadata": {},
   "outputs": [
    {
     "data": {
      "text/plain": [
       "(6, 5)"
      ]
     },
     "execution_count": 5,
     "metadata": {},
     "output_type": "execute_result"
    }
   ],
   "source": [
    "x,y "
   ]
  },
  {
   "cell_type": "markdown",
   "id": "9c7078c4-9671-4a0f-bf2f-ada357626a2b",
   "metadata": {},
   "source": [
    "2. \n",
    "Create a program that calculates the area of a rectangle. Take the length and width as inputs from the user and store them in variables. Calculate and display the area."
   ]
  },
  {
   "cell_type": "code",
   "execution_count": 22,
   "id": "ed55d3bf-e9a0-4ad9-803e-8e190ada4a57",
   "metadata": {},
   "outputs": [
    {
     "name": "stdin",
     "output_type": "stream",
     "text": [
      "enter the length 1\n",
      "enter the width 2\n"
     ]
    }
   ],
   "source": [
    "l = int(input(\"enter the length\"))\n",
    "b = int(input(\"enter the width\"))"
   ]
  },
  {
   "cell_type": "code",
   "execution_count": 23,
   "id": "b4e6217e-4fe3-47d3-8c9a-399e629e28f9",
   "metadata": {},
   "outputs": [
    {
     "name": "stdout",
     "output_type": "stream",
     "text": [
      "area of rectangle: 2\n"
     ]
    }
   ],
   "source": [
    "#printing the area of rectangle using string format, not handling the exception error\n",
    "\n",
    "print(\"area of rectangle: {}\".format(l*b))"
   ]
  },
  {
   "cell_type": "markdown",
   "id": "706d989f-bc4a-44a4-8116-02241b2bab9b",
   "metadata": {},
   "source": [
    "3. \n",
    "Write a Python program that converts temperatures from Celsius to\n",
    "Fahrenheit. Take the temperature in Celsius as input, store it in a variable,\n",
    "convert it to Fahrenheit, and display the result."
   ]
  },
  {
   "cell_type": "code",
   "execution_count": 25,
   "id": "ac56c1dc-e824-41e5-89b5-a83d3aeb825e",
   "metadata": {},
   "outputs": [
    {
     "name": "stdin",
     "output_type": "stream",
     "text": [
      "enter the temperature in celsius 32\n"
     ]
    }
   ],
   "source": [
    "c = int(input(\"enter the temperature in celsius\"))"
   ]
  },
  {
   "cell_type": "code",
   "execution_count": 27,
   "id": "5160a78b-678b-4ec5-b7ab-d86a2851dcc7",
   "metadata": {},
   "outputs": [],
   "source": [
    "f = c *(9/5) +32"
   ]
  },
  {
   "cell_type": "code",
   "execution_count": 31,
   "id": "5854876c-98ad-49c3-8662-a76f41e4e635",
   "metadata": {},
   "outputs": [
    {
     "name": "stdout",
     "output_type": "stream",
     "text": [
      "temperature in Fahrenheit is 89.6 degree Fahrenheit\n"
     ]
    }
   ],
   "source": [
    "print(\"temperature in Fahrenheit is \"+str(f) +(\" degree Fahrenheit\"))"
   ]
  },
  {
   "cell_type": "markdown",
   "id": "1861f3bb-3da2-43a3-b17d-5601b564f7c5",
   "metadata": {},
   "source": [
    "TOPIC: String Based Questions"
   ]
  },
  {
   "cell_type": "markdown",
   "id": "d2b9aa09-c5da-49ed-a51a-ec1367444f4d",
   "metadata": {},
   "source": [
    "TOPIC: String Based Questions"
   ]
  },
  {
   "cell_type": "markdown",
   "id": "5f3f7a27-b25c-4291-9ff9-49a75fb53a1b",
   "metadata": {},
   "source": [
    "TOPIC: String Based Questions"
   ]
  },
  {
   "cell_type": "markdown",
   "id": "5f12d91f-168e-4061-82c7-95f96a5eaf07",
   "metadata": {},
   "source": [
    "1. \n",
    "Write a Python program that takes a string as input and prints the length of\n",
    "the string."
   ]
  },
  {
   "cell_type": "code",
   "execution_count": 37,
   "id": "65c5a00a-8230-4df7-9fbb-20a9bb353f44",
   "metadata": {},
   "outputs": [
    {
     "name": "stdin",
     "output_type": "stream",
     "text": [
      "enter the string:  asdfasds\n"
     ]
    }
   ],
   "source": [
    "s = input(\"enter the string: \")"
   ]
  },
  {
   "cell_type": "code",
   "execution_count": 38,
   "id": "aa525fab-8e52-45d2-8cff-a7036b1e0f3b",
   "metadata": {},
   "outputs": [
    {
     "name": "stdout",
     "output_type": "stream",
     "text": [
      "the length of string is 8\n"
     ]
    }
   ],
   "source": [
    "print(\"the length of string is {}\".format(len(s)))"
   ]
  },
  {
   "cell_type": "markdown",
   "id": "06074a44-f446-4b04-a84b-90b8998b9c3a",
   "metadata": {},
   "source": [
    "2. \n",
    "Create a program that takes a sentence from the user and counts the number\n",
    "of vowels (a, e, i, o, u) in the string."
   ]
  },
  {
   "cell_type": "code",
   "execution_count": 36,
   "id": "7b1ab902-c0c3-4a88-9a4f-6465dc8cdeca",
   "metadata": {},
   "outputs": [
    {
     "name": "stdin",
     "output_type": "stream",
     "text": [
      "enter the sentence:  Create a program that takes a sentence from the user and counts the number of vowels\n"
     ]
    }
   ],
   "source": [
    "st = input(\"enter the sentence: \")"
   ]
  },
  {
   "cell_type": "code",
   "execution_count": 39,
   "id": "3c4c4830-50fe-4faa-97a9-19aecf72d1cf",
   "metadata": {},
   "outputs": [],
   "source": [
    "#assigning 5 variable as integer type to check the count\n",
    "a,e,i,o,u = 0,0,0,0,0\n",
    "#counting vowels\n",
    "for val in st:\n",
    "    if val.lower() == \"a\":\n",
    "        a+=1\n",
    "    elif val.lower() == \"e\":\n",
    "        e+=1\n",
    "    elif val.lower() == \"i\":\n",
    "        i+=1\n",
    "    elif val.lower() == \"o\":\n",
    "        o+=1\n",
    "    elif val.lower() == \"u\":\n",
    "        u+=1"
   ]
  },
  {
   "cell_type": "code",
   "execution_count": 41,
   "id": "08e10774-0be4-4081-b36f-b2c7b448acbf",
   "metadata": {},
   "outputs": [
    {
     "name": "stdout",
     "output_type": "stream",
     "text": [
      "a:7,e:11,i:0,o:5,u:3\n"
     ]
    }
   ],
   "source": [
    "print(\"a:{},e:{},i:{},o:{},u:{}\".format(a,e,i,o,u))"
   ]
  },
  {
   "cell_type": "markdown",
   "id": "3785b426-301f-4f03-8c2d-0073bc01240e",
   "metadata": {},
   "source": [
    "3.\n",
    "Given a string, reverse the order of characters using string slicing and print\n",
    "the reversed string."
   ]
  },
  {
   "cell_type": "code",
   "execution_count": 42,
   "id": "06355642-ac46-4057-b2fa-0c74831fa19e",
   "metadata": {},
   "outputs": [],
   "source": [
    "s1 = \"string\""
   ]
  },
  {
   "cell_type": "code",
   "execution_count": 43,
   "id": "7749758e-f32c-4ee6-a316-25ded3e13a2b",
   "metadata": {},
   "outputs": [
    {
     "name": "stdout",
     "output_type": "stream",
     "text": [
      "gnirts\n"
     ]
    }
   ],
   "source": [
    "print(s1[::-1])"
   ]
  },
  {
   "cell_type": "markdown",
   "id": "b62e4082-1476-4d35-866f-b6420d37fd1d",
   "metadata": {},
   "source": [
    "4. \n",
    "Write a program that takes a string as input and checks if it is a palindrome\n",
    "(reads the same forwards and backwards)."
   ]
  },
  {
   "cell_type": "code",
   "execution_count": 44,
   "id": "a981c852-7324-4ee5-a78b-ffee8ca492f4",
   "metadata": {},
   "outputs": [
    {
     "name": "stdin",
     "output_type": "stream",
     "text": [
      "enter the string:  palindrome\n"
     ]
    }
   ],
   "source": [
    "i1=input(\"enter the string: \")"
   ]
  },
  {
   "cell_type": "code",
   "execution_count": 48,
   "id": "5bfa225c-e3ca-47ba-9e62-79394519f1aa",
   "metadata": {},
   "outputs": [
    {
     "name": "stdout",
     "output_type": "stream",
     "text": [
      "no it is NOT palindrome\n"
     ]
    }
   ],
   "source": [
    "if i1 ==i1[::-1]:\n",
    "    print(\"yes it is palindrome\")\n",
    "else:\n",
    "    print(\"no it is NOT palindrome\")"
   ]
  },
  {
   "cell_type": "markdown",
   "id": "e11f1b9c-a884-4244-bbd2-4b31eb8aaf86",
   "metadata": {},
   "source": [
    "5. \n",
    "Create a program that takes a string as input and removes all the spaces from\n",
    "it. Print the modified string without spaces."
   ]
  },
  {
   "cell_type": "code",
   "execution_count": 49,
   "id": "b92e2c2a-6a62-4f5c-a117-583268879b11",
   "metadata": {},
   "outputs": [
    {
     "name": "stdin",
     "output_type": "stream",
     "text": [
      "enter the string:  asdf sadf gds asd f\n"
     ]
    }
   ],
   "source": [
    "x1 = input(\"enter the string: \")"
   ]
  },
  {
   "cell_type": "code",
   "execution_count": 52,
   "id": "21020f02-b1de-4fbd-b178-435563e76d97",
   "metadata": {},
   "outputs": [
    {
     "name": "stdout",
     "output_type": "stream",
     "text": [
      "asdfsadfgdsasdf\n"
     ]
    }
   ],
   "source": [
    "#using replace library , to change the blank spaces with the continuous spaces and storing in new variable\n",
    "#printing the new variable\n",
    "mod = x1.replace(\" \",\"\")\n",
    "\n",
    "print(mod)"
   ]
  },
  {
   "cell_type": "code",
   "execution_count": null,
   "id": "8b692e94-df58-40d7-8fc2-c85217d02984",
   "metadata": {},
   "outputs": [],
   "source": []
  }
 ],
 "metadata": {
  "kernelspec": {
   "display_name": "Python 3 (ipykernel)",
   "language": "python",
   "name": "python3"
  },
  "language_info": {
   "codemirror_mode": {
    "name": "ipython",
    "version": 3
   },
   "file_extension": ".py",
   "mimetype": "text/x-python",
   "name": "python",
   "nbconvert_exporter": "python",
   "pygments_lexer": "ipython3",
   "version": "3.10.8"
  }
 },
 "nbformat": 4,
 "nbformat_minor": 5
}

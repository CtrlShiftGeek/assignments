{
 "cells": [
  {
   "cell_type": "markdown",
   "id": "cc3ccfb4-344b-4f8e-9f0f-1f01a6caec40",
   "metadata": {},
   "source": [
    "# ASSIGNMENT -3"
   ]
  },
  {
   "cell_type": "markdown",
   "id": "352062eb-6c4d-4370-8b23-9211edb200f5",
   "metadata": {},
   "source": [
    "1. Write a Python program to print the numbers from 1 to 10 using a `for` loop."
   ]
  },
  {
   "cell_type": "code",
   "execution_count": 1,
   "id": "ba753750-b8fc-45dc-9d4d-cff658e284f7",
   "metadata": {},
   "outputs": [
    {
     "name": "stdout",
     "output_type": "stream",
     "text": [
      "1\n",
      "2\n",
      "3\n",
      "4\n",
      "5\n",
      "6\n",
      "7\n",
      "8\n",
      "9\n",
      "10\n"
     ]
    }
   ],
   "source": [
    "for val in range(1,11):\n",
    "    print(val)"
   ]
  },
  {
   "cell_type": "markdown",
   "id": "7e9c766d-6aaf-4881-a527-afa41367135c",
   "metadata": {},
   "source": [
    "2. Create a program that calculates the sum of all numbers in a list using a `for` loop."
   ]
  },
  {
   "cell_type": "code",
   "execution_count": 2,
   "id": "22dafad5-0474-4ef3-a1ba-432c21446386",
   "metadata": {},
   "outputs": [
    {
     "name": "stdout",
     "output_type": "stream",
     "text": [
      "sum of all numbers in a list using a for loop:  28\n"
     ]
    }
   ],
   "source": [
    "count = 0\n",
    "my_list = [1,2,3,4,5,6,7]\n",
    "\n",
    "for val in my_list:\n",
    "    count+=val\n",
    "print(\"sum of all numbers in a list using a for loop: \",count)"
   ]
  },
  {
   "cell_type": "markdown",
   "id": "8cfdca6c-4fa0-4551-977a-fc80d7992fa1",
   "metadata": {},
   "source": [
    "3. Write a program to print the characters of a string in reverse order using a `for` loop."
   ]
  },
  {
   "cell_type": "code",
   "execution_count": 3,
   "id": "bce93cf1-4df9-4b22-a9ca-ab0c961168ad",
   "metadata": {},
   "outputs": [
    {
     "name": "stdout",
     "output_type": "stream",
     "text": [
      "string in reverse order using a for loop: dlrow olleh\n"
     ]
    }
   ],
   "source": [
    "my_str = \"hello world\"\n",
    "out = ''\n",
    "for i in my_str:\n",
    "    out = i +out\n",
    "\n",
    "print(\"string in reverse order using a for loop:\",out)"
   ]
  },
  {
   "cell_type": "markdown",
   "id": "ecb7fdab-82a6-4279-9a7f-428599d94331",
   "metadata": {},
   "source": [
    "4. Develop a program that finds the factorial of a given number using a `for` loop."
   ]
  },
  {
   "cell_type": "code",
   "execution_count": 4,
   "id": "9b36b610-588b-4639-88fd-8cb71b02947d",
   "metadata": {},
   "outputs": [],
   "source": [
    "n = 5\n",
    "# assuming the number is positive\n",
    "\n",
    "def fac(n):\n",
    "    factorial = 1\n",
    "    for i in range (1, n+1):\n",
    "        factorial=factorial *i\n",
    "    return factorial\n",
    "\n",
    "        "
   ]
  },
  {
   "cell_type": "code",
   "execution_count": 5,
   "id": "f5cd9928-6940-41a1-a7c7-ebea1c731784",
   "metadata": {},
   "outputs": [
    {
     "name": "stdout",
     "output_type": "stream",
     "text": [
      "factorial of a given number: 120\n"
     ]
    }
   ],
   "source": [
    "result = fac(n)\n",
    "print(\"factorial of a given number:\",result)"
   ]
  },
  {
   "cell_type": "markdown",
   "id": "40c3304a-703a-4f55-ae59-cdff9dea773c",
   "metadata": {},
   "source": [
    "5. Create a program to print the multiplication table of a given number using a `for` loop."
   ]
  },
  {
   "cell_type": "code",
   "execution_count": 6,
   "id": "db95952c-6d24-413e-acbf-e74e907ac866",
   "metadata": {},
   "outputs": [],
   "source": [
    "# can be taken n as an input\n",
    "n = 9\n",
    "# generating upto 10 rows\n",
    "\n",
    "def gen_table(n):\n",
    "    for i in range(1,11):\n",
    "        print(n,\"x\",i,'=',n*i)"
   ]
  },
  {
   "cell_type": "code",
   "execution_count": 7,
   "id": "e1d345cd-7576-4be4-9386-5ff4d21e9ecc",
   "metadata": {},
   "outputs": [
    {
     "name": "stdout",
     "output_type": "stream",
     "text": [
      "0 x 1 = 0\n",
      "0 x 2 = 0\n",
      "0 x 3 = 0\n",
      "0 x 4 = 0\n",
      "0 x 5 = 0\n",
      "0 x 6 = 0\n",
      "0 x 7 = 0\n",
      "0 x 8 = 0\n",
      "0 x 9 = 0\n",
      "0 x 10 = 0\n"
     ]
    }
   ],
   "source": [
    "gen_table(-0)"
   ]
  },
  {
   "cell_type": "markdown",
   "id": "34023986-a486-4002-a8cd-858c6208b0de",
   "metadata": {},
   "source": [
    "6. Write a program that counts the number of even and odd numbers in a list using a `for` loop."
   ]
  },
  {
   "cell_type": "code",
   "execution_count": 8,
   "id": "2e9a59b4-872a-47d0-8969-a065a7b7d2e9",
   "metadata": {},
   "outputs": [],
   "source": [
    "my_list = [1,2,3,4,5,6,7,8,9]\n",
    "count_odd = 0\n",
    "count_even = 0\n",
    "for val in my_list:\n",
    "    if val%2==0:\n",
    "        count_even+=1\n",
    "    else:\n",
    "        count_odd+=1"
   ]
  },
  {
   "cell_type": "code",
   "execution_count": 9,
   "id": "779c30b4-8acc-40d7-9a7f-a74d9df0c6a1",
   "metadata": {},
   "outputs": [
    {
     "name": "stdout",
     "output_type": "stream",
     "text": [
      "number even numbers are 4 and number of odd numbers are 5\n"
     ]
    }
   ],
   "source": [
    "print(f\"number even numbers are {count_even} and number of odd numbers are {count_odd}\")"
   ]
  },
  {
   "cell_type": "markdown",
   "id": "7a51b6d8-99d4-479f-a9a6-ac5256d32ab8",
   "metadata": {},
   "source": [
    "7. Develop a program that prints the squares of numbers from 1 to 5 using a `for` loop."
   ]
  },
  {
   "cell_type": "code",
   "execution_count": 10,
   "id": "98941634-38da-46f0-a7f0-6c970bf05380",
   "metadata": {},
   "outputs": [
    {
     "name": "stdout",
     "output_type": "stream",
     "text": [
      "1\n",
      "4\n",
      "9\n",
      "16\n",
      "25\n"
     ]
    }
   ],
   "source": [
    "for val in range(1,6):\n",
    "    print(val**2)"
   ]
  },
  {
   "cell_type": "markdown",
   "id": "1da9402a-38e0-4af7-ba15-4938c496866e",
   "metadata": {},
   "source": [
    "8. Create a program to find the length of a string without using the `len()` function."
   ]
  },
  {
   "cell_type": "code",
   "execution_count": 11,
   "id": "a71a5a16-5183-447b-9c79-15595263c4f7",
   "metadata": {},
   "outputs": [
    {
     "name": "stdout",
     "output_type": "stream",
     "text": [
      "length of a string without using the len() function is:  11\n"
     ]
    }
   ],
   "source": [
    "my_str = \"hello world\"\n",
    "count = 0\n",
    "\n",
    "for _ in my_str:\n",
    "    count+=1\n",
    "    \n",
    "print(\"length of a string without using the len() function is: \",count)"
   ]
  },
  {
   "cell_type": "markdown",
   "id": "e2484f78-f478-4fe7-a418-a8d7f0292e58",
   "metadata": {},
   "source": [
    "9. Write a program that calculates the average of a list of numbers using a `for` loop."
   ]
  },
  {
   "cell_type": "code",
   "execution_count": 12,
   "id": "75f14cdd-9cec-4a6d-bc91-0530707e2d24",
   "metadata": {},
   "outputs": [
    {
     "name": "stdout",
     "output_type": "stream",
     "text": [
      " average of a list of numbers:  5.5\n"
     ]
    }
   ],
   "source": [
    "my_list = [1,2,3,4,5,6,7,8,9,10]\n",
    "sum_total = 0\n",
    "count = 0\n",
    "for val in my_list:\n",
    "    count+=1\n",
    "    sum_total+=val\n",
    "\n",
    "average = sum_total/count\n",
    "print(\" average of a list of numbers: \",average)"
   ]
  },
  {
   "cell_type": "markdown",
   "id": "3b92ed5d-b591-4cee-83f3-2220aba8ec89",
   "metadata": {},
   "source": [
    "10. Develop a program that prints the first `n` Fibonacci numbers using a `for` loop."
   ]
  },
  {
   "cell_type": "code",
   "execution_count": 13,
   "id": "e51baf74-65c7-4ace-86a5-fee6e18ced98",
   "metadata": {},
   "outputs": [
    {
     "name": "stdout",
     "output_type": "stream",
     "text": [
      "fibonnaci sequence : [0, 1, 1, 2, 3, 5, 8, 13, 21, 34, 55, 89]\n"
     ]
    }
   ],
   "source": [
    "start = [0,1]\n",
    "n =11\n",
    "for i in range(2,n+1):\n",
    "    temp = start[i-1]+start[i-2]\n",
    "    start.append(temp)\n",
    "    \n",
    "print(\"fibonnaci sequence :\",start)"
   ]
  },
  {
   "cell_type": "markdown",
   "id": "fd2dc2c1-9c83-474d-acfb-9985a6450024",
   "metadata": {},
   "source": [
    "# ================================================="
   ]
  },
  {
   "cell_type": "markdown",
   "id": "b4bf2d71-49e0-4344-8e99-e2ff5ebc1585",
   "metadata": {},
   "source": [
    "11. Write a program to check if a given list contains any duplicates using a `for` loop."
   ]
  },
  {
   "cell_type": "code",
   "execution_count": 14,
   "id": "1ce73a09-363d-4d83-a598-9404dc6cecfe",
   "metadata": {},
   "outputs": [],
   "source": [
    "my_list = [1,2,3,4,5,2,4,6,8]\n",
    "my_list1 = [1,2,3,4,5]"
   ]
  },
  {
   "cell_type": "code",
   "execution_count": 15,
   "id": "57ca2142-5809-4e3a-81b2-beef5dc203d4",
   "metadata": {},
   "outputs": [],
   "source": [
    "def check_dupli(l1):\n",
    "    l1.sort()\n",
    "    for i in range(len(l1)-1):\n",
    "        if l1[i]==l1[i+1]:\n",
    "            return \"have duplicate elements\"\n",
    "    return \"have NO duplicate elements\""
   ]
  },
  {
   "cell_type": "code",
   "execution_count": 16,
   "id": "c22ce97b-eb46-4479-ab7d-ac1394a8b580",
   "metadata": {},
   "outputs": [
    {
     "data": {
      "text/plain": [
       "'have duplicate elements'"
      ]
     },
     "execution_count": 16,
     "metadata": {},
     "output_type": "execute_result"
    }
   ],
   "source": [
    "check_dupli(my_list)"
   ]
  },
  {
   "cell_type": "code",
   "execution_count": 17,
   "id": "54e6b86f-0fe1-4482-905f-823af3885a3d",
   "metadata": {},
   "outputs": [
    {
     "data": {
      "text/plain": [
       "'have NO duplicate elements'"
      ]
     },
     "execution_count": 17,
     "metadata": {},
     "output_type": "execute_result"
    }
   ],
   "source": [
    "check_dupli(my_list1)"
   ]
  },
  {
   "cell_type": "markdown",
   "id": "73215bc9-946b-4784-8343-788951408a9b",
   "metadata": {},
   "source": [
    "12. Create a program that prints the prime numbers in a given range using a `for` loop."
   ]
  },
  {
   "cell_type": "code",
   "execution_count": 104,
   "id": "8f2860f4-5fc4-48a6-a171-632041f2aee8",
   "metadata": {},
   "outputs": [],
   "source": [
    "def is_prime(num):\n",
    "    if num <= 1:\n",
    "        return False\n",
    "    if num <= 3:\n",
    "        return True\n",
    "    if num % 2 == 0 or num % 3 == 0:\n",
    "        return False\n",
    "    i = 5\n",
    "    while i * i <= num:\n",
    "      if num % i == 0 or num % (i + 2) == 0:\n",
    "          return False\n",
    "      i += 6\n",
    "    return True"
   ]
  },
  {
   "cell_type": "code",
   "execution_count": 105,
   "id": "bd514c30-a3a5-4036-b061-bacc8b97e826",
   "metadata": {},
   "outputs": [],
   "source": [
    "n =30\n",
    "prime_num = [num for num in range(n) if is_prime(num)]"
   ]
  },
  {
   "cell_type": "code",
   "execution_count": 106,
   "id": "0e01aab2-ca49-4194-9cc3-0b29d2bb6aad",
   "metadata": {},
   "outputs": [
    {
     "name": "stdout",
     "output_type": "stream",
     "text": [
      "prime numbers:  [2, 3, 5, 7, 11, 13, 17, 19, 23, 29]\n"
     ]
    }
   ],
   "source": [
    "print(\"prime numbers: \",prime_num)"
   ]
  },
  {
   "cell_type": "markdown",
   "id": "c88adde3-62a6-4b56-99ae-a8d535fc2d64",
   "metadata": {},
   "source": [
    "13. Develop a program that counts the number of vowels in a string using a `for` loop."
   ]
  },
  {
   "cell_type": "code",
   "execution_count": 21,
   "id": "54f4873c-b69c-4899-8b66-a571c7c47210",
   "metadata": {},
   "outputs": [],
   "source": [
    "vow = \"aeiou\"\n",
    "my_str = \"hello world\"\n",
    "count = 0\n",
    "\n",
    "for val in my_str:\n",
    "    if val in vow:\n",
    "        count +=1"
   ]
  },
  {
   "cell_type": "code",
   "execution_count": 22,
   "id": "08298561-15c1-41ce-978a-0a844769f821",
   "metadata": {},
   "outputs": [
    {
     "name": "stdout",
     "output_type": "stream",
     "text": [
      "total vowels are:  3\n"
     ]
    }
   ],
   "source": [
    "print(\"total vowels are: \",count)"
   ]
  },
  {
   "cell_type": "markdown",
   "id": "cd35c551-9df0-4174-a94d-3e4d9f9df48d",
   "metadata": {},
   "source": [
    "14. Write a program to find the maximum element in a 2D list using a nested `for` loop."
   ]
  },
  {
   "cell_type": "code",
   "execution_count": 23,
   "id": "f6f113ae-a7bd-4fde-a9bd-457b131d1c91",
   "metadata": {},
   "outputs": [],
   "source": [
    "my_list = [[1,2,3],[3,4,5],[23,34,45]]"
   ]
  },
  {
   "cell_type": "code",
   "execution_count": 24,
   "id": "d13d17bd-5d51-4d14-b700-ac5e7fe9936a",
   "metadata": {},
   "outputs": [],
   "source": [
    "#checking one pointer variable to store value\n",
    "# using first for loop to iterating over the indices\n",
    "#using the second for loop to go to each elements in the nested list\n",
    "# storing the max of value and result to note the maximum value\n",
    "res = 0\n",
    "for i in range(len(my_list)):\n",
    "    for val in my_list[i]:\n",
    "        res = max(res,val)"
   ]
  },
  {
   "cell_type": "code",
   "execution_count": 25,
   "id": "5bddbcff-fa6e-4ec9-bd0d-2ce4b232c831",
   "metadata": {},
   "outputs": [
    {
     "name": "stdout",
     "output_type": "stream",
     "text": [
      "maximum number is :  45\n"
     ]
    }
   ],
   "source": [
    "print(\"maximum number is : \",res)"
   ]
  },
  {
   "cell_type": "markdown",
   "id": "5f7cecd4-630d-42d6-8750-9bc2c407693c",
   "metadata": {},
   "source": [
    "15. Create a program that removes all occurrences of a specific element from a list using a `for` loop."
   ]
  },
  {
   "cell_type": "code",
   "execution_count": 26,
   "id": "e6bc8e64-3114-4d2d-b6c5-72822164ef69",
   "metadata": {},
   "outputs": [],
   "source": [
    "def rem_element(l1,n):\n",
    "    for val in l1:\n",
    "        if val == n :\n",
    "            l1.remove(val)\n",
    "    return l1\n",
    "\n",
    "# removes each element one by one when iterating"
   ]
  },
  {
   "cell_type": "code",
   "execution_count": 27,
   "id": "3b305d37-2b05-4701-9388-571c16c75aa2",
   "metadata": {},
   "outputs": [
    {
     "data": {
      "text/plain": [
       "[1, 2, 3, 5, 5, 6, 3, 2, 3, 5]"
      ]
     },
     "execution_count": 27,
     "metadata": {},
     "output_type": "execute_result"
    }
   ],
   "source": [
    "my_list = [1,2,3,4,5,4,5,6,3,2,3,4,5]\n",
    "n =4\n",
    "rem_element(my_list,n)"
   ]
  },
  {
   "cell_type": "markdown",
   "id": "b8921f3b-5923-454e-b8a4-c099ebd0fbec",
   "metadata": {},
   "source": [
    "16. Develop a program that generates a multiplication table for numbers from 1 to 5 using a nested `for` loop."
   ]
  },
  {
   "cell_type": "code",
   "execution_count": 28,
   "id": "799b5677-a043-4d62-9585-93a5643efe80",
   "metadata": {},
   "outputs": [],
   "source": [
    "n =5\n",
    "l =[]\n",
    "for i in range(1,n+1):\n",
    "    l1 =[]\n",
    "    for j in range(1,11):\n",
    "        l1.append(i*j)\n",
    "    l.append(l1)"
   ]
  },
  {
   "cell_type": "code",
   "execution_count": 29,
   "id": "5663255a-a287-44f2-85ba-e482289c345c",
   "metadata": {},
   "outputs": [
    {
     "name": "stdout",
     "output_type": "stream",
     "text": [
      "[[1, 2, 3, 4, 5, 6, 7, 8, 9, 10], [2, 4, 6, 8, 10, 12, 14, 16, 18, 20], [3, 6, 9, 12, 15, 18, 21, 24, 27, 30], [4, 8, 12, 16, 20, 24, 28, 32, 36, 40], [5, 10, 15, 20, 25, 30, 35, 40, 45, 50]]\n"
     ]
    }
   ],
   "source": [
    "print(l)"
   ]
  },
  {
   "cell_type": "markdown",
   "id": "508fa862-ecb8-4982-8547-3fa50df17813",
   "metadata": {},
   "source": [
    "17. Write a program that converts a list of Fahrenheit temperatures to Celsius using a `for` loop."
   ]
  },
  {
   "cell_type": "code",
   "execution_count": 30,
   "id": "b5cebb95-1db0-44c5-b7a9-b1fd27448a6d",
   "metadata": {},
   "outputs": [],
   "source": [
    "fahrenheit_list = [10,20,30,40,50]\n",
    "cel_list =[]\n",
    "\n",
    "for val in fahrenheit_list:\n",
    "    # f = c *(9/5) +32\n",
    "    c =(val-32)*(5/9)\n",
    "    cel_list.append(round(c,4))\n",
    "    \n",
    "# iterating over farenheit list and changing the temp to celsius and appending with rounding off"
   ]
  },
  {
   "cell_type": "code",
   "execution_count": 31,
   "id": "32cc22c3-85f4-46f8-9cf3-ed6426798894",
   "metadata": {},
   "outputs": [
    {
     "name": "stdout",
     "output_type": "stream",
     "text": [
      "temp in celsius degree are:  [-12.2222, -6.6667, -1.1111, 4.4444, 10.0]\n"
     ]
    }
   ],
   "source": [
    "print(\"temp in celsius degree are: \",cel_list)"
   ]
  },
  {
   "cell_type": "markdown",
   "id": "16fcf296-a336-44de-846a-7a485c7883d0",
   "metadata": {},
   "source": [
    "18. Create a program to print the common elements from two lists using a `for` loop."
   ]
  },
  {
   "cell_type": "code",
   "execution_count": 32,
   "id": "5327dc6b-5b20-452a-9e60-0d7e2ac5e3c1",
   "metadata": {},
   "outputs": [],
   "source": [
    "list1 = [1,2,3,4,5,6]\n",
    "list2 =[2,5,6,8,9]\n"
   ]
  },
  {
   "cell_type": "code",
   "execution_count": 33,
   "id": "4592dca6-a6d0-43a2-b966-02508e7b2c13",
   "metadata": {},
   "outputs": [],
   "source": [
    "def common_list(l1,l2):\n",
    "    l =[]\n",
    "    for val in l1:\n",
    "        for num in l2:\n",
    "            if val == num:\n",
    "                l.append(val)\n",
    "    return l"
   ]
  },
  {
   "cell_type": "code",
   "execution_count": 34,
   "id": "03d8b027-b47b-4f0b-a320-67ce136f8608",
   "metadata": {},
   "outputs": [
    {
     "name": "stdout",
     "output_type": "stream",
     "text": [
      "common elements of the two lists are:  [2, 5, 6]\n"
     ]
    }
   ],
   "source": [
    "res = common_list(list1,list2)\n",
    "print(\"common elements of the two lists are: \",res)"
   ]
  },
  {
   "cell_type": "markdown",
   "id": "2d984621-5952-4a9e-a8e9-ba2a1fec9d0a",
   "metadata": {},
   "source": [
    "19. Develop a program that prints the pattern of right-angled triangles using a `for` loop. Use ‘*’ to draw the\n",
    "pattern"
   ]
  },
  {
   "cell_type": "code",
   "execution_count": 35,
   "id": "8d0347b5-487a-429a-97b3-f7794b0b4148",
   "metadata": {},
   "outputs": [
    {
     "name": "stdout",
     "output_type": "stream",
     "text": [
      "* \n",
      "* * \n",
      "* * * \n",
      "* * * * \n",
      "* * * * * \n"
     ]
    }
   ],
   "source": [
    "n = 5\n",
    "#number of rows\n",
    "\n",
    "for i in range(0,n):\n",
    "    print(\"* \"*(i+1))\n"
   ]
  },
  {
   "cell_type": "markdown",
   "id": "313f6617-6c02-45c6-9c42-30d316a8c9a3",
   "metadata": {},
   "source": [
    "20. Write a program to find the greatest common divisor (GCD) of two numbers using a `for` loop."
   ]
  },
  {
   "cell_type": "code",
   "execution_count": 36,
   "id": "5494ac20-2792-4cfd-9f9d-d7bd04b3d73b",
   "metadata": {},
   "outputs": [],
   "source": [
    "def gcd_num(a, b):  \n",
    "    if a > b:  # define the if condition  \n",
    "        temp = b  \n",
    "    else:  \n",
    "        temp = a  \n",
    "    for i in range(1, temp + 1):  \n",
    "        if (( a % i == 0) and (b % i == 0 )):  \n",
    "            gcd = i  \n",
    "    return gcd  "
   ]
  },
  {
   "cell_type": "code",
   "execution_count": 37,
   "id": "783e7213-efc0-4ec3-9b90-e9fbf4db2f2a",
   "metadata": {},
   "outputs": [
    {
     "name": "stdout",
     "output_type": "stream",
     "text": [
      "gcd of two numbers are:  5\n"
     ]
    }
   ],
   "source": [
    "num1 = 65\n",
    "num2 = 20\n",
    "res = gcd_num(num1,num2)\n",
    "print(\"gcd of two numbers are: \",res)"
   ]
  },
  {
   "cell_type": "markdown",
   "id": "39085a89-823b-4b90-8e7f-0a1243093726",
   "metadata": {},
   "source": [
    "21. Create a program that calculates the sum of the digits of numbers in a list using a list comprehension."
   ]
  },
  {
   "cell_type": "code",
   "execution_count": 38,
   "id": "88c97b0d-2727-408b-bf93-3de1bf6a43bb",
   "metadata": {},
   "outputs": [],
   "source": [
    "my_list = [12,134,234,345,678]\n",
    "s = [str(val) for val in my_list]\n",
    "\n",
    "l = [sum(num) for num in ([(int(val)) for val in s[i]] for i in range(len(my_list)))]\n",
    "# l = [sum(int(val)) for val in [str(val) for val in my_list]]\n",
    "# l = [sum(int(val) for val in \"123\")]\n",
    "\n",
    "# stored the num values as int in list s\n",
    "# converting each digit to int and store as nested list and use the sum function"
   ]
  },
  {
   "cell_type": "markdown",
   "id": "b3d3a2f1-a0d1-4b39-96d2-29dc282ca30b",
   "metadata": {},
   "source": [
    "22. Write a program to find the prime factors of a given number using a `for` loop and list comprehension."
   ]
  },
  {
   "cell_type": "code",
   "execution_count": 39,
   "id": "86fd5f01-d5b5-42d6-8219-e0bbdb88c474",
   "metadata": {},
   "outputs": [],
   "source": [
    "def is_prime(num):\n",
    "    if num <= 1:\n",
    "        return False\n",
    "    if num <= 3:\n",
    "        return True\n",
    "    if num % 2 == 0 or num % 3 == 0:\n",
    "        return False\n",
    "    i = 5\n",
    "    while i * i <= num:\n",
    "      if num % i == 0 or num % (i + 2) == 0:\n",
    "          return False\n",
    "      i += 6\n",
    "    return True\n",
    "\n",
    "def factorization(n):\n",
    "    return [(i) for i in range(1, n + 1) if is_prime(i) and n % i == 0 ]"
   ]
  },
  {
   "cell_type": "code",
   "execution_count": 40,
   "id": "176b89c8-190f-421d-abb8-b76c5c4a10be",
   "metadata": {},
   "outputs": [
    {
     "data": {
      "text/plain": [
       "[2, 7]"
      ]
     },
     "execution_count": 40,
     "metadata": {},
     "output_type": "execute_result"
    }
   ],
   "source": [
    "factorization(28)"
   ]
  },
  {
   "cell_type": "markdown",
   "id": "45210fa1-3f4f-42d5-a441-f2693b9fe358",
   "metadata": {},
   "source": [
    "23. Develop a program that extracts unique elements from a list and stores them in a new list using a list\n",
    "comprehension."
   ]
  },
  {
   "cell_type": "code",
   "execution_count": 41,
   "id": "b46163c0-17a5-41a9-ab07-6098a59f5fec",
   "metadata": {},
   "outputs": [],
   "source": [
    "my_list = [10,20,30,20,50,40,60]\n",
    "\n",
    "res = list(set(val for val in my_list))"
   ]
  },
  {
   "cell_type": "code",
   "execution_count": 42,
   "id": "9194af85-818a-4242-b906-8fe865d6f2fc",
   "metadata": {},
   "outputs": [
    {
     "data": {
      "text/plain": [
       "[40, 10, 50, 20, 60, 30]"
      ]
     },
     "execution_count": 42,
     "metadata": {},
     "output_type": "execute_result"
    }
   ],
   "source": [
    "res"
   ]
  },
  {
   "cell_type": "markdown",
   "id": "2007ee1d-5f92-4cd7-83d7-fb7459238685",
   "metadata": {},
   "source": [
    "24. Create a program that generates a list of all palindromic numbers up to a specified limit using a list\n",
    "comprehension."
   ]
  },
  {
   "cell_type": "code",
   "execution_count": 111,
   "id": "7a654d4c-5a6f-411f-a535-b7a3e3b2651f",
   "metadata": {},
   "outputs": [],
   "source": [
    "n =950\n",
    "if n <1000 :\n",
    "    num = str(n)\n",
    "    L = [int(\"%d%d%d\" % (x,y,x)) for x in range(1,int(num[0])+1) for y in range(10) if int(\"%d%d%d\" % (x,y,x))<=n]\n",
    "else:\n",
    "    L = [int(\"%d%d%d%d%d\" % (z,x,y,x,z)) for z in range(1,int(num[0])) for x in range(10) for y in range(10) if int(\"%d%d%d%d%d\" % (z,x,y,x,z)) <= n]\n",
    "# generated all 3 digits palindromic and 5 digits number\n",
    "# checking the number in sequence"
   ]
  },
  {
   "cell_type": "code",
   "execution_count": 112,
   "id": "1b19532b-5777-4162-ace2-b2e92076024b",
   "metadata": {},
   "outputs": [
    {
     "data": {
      "text/plain": [
       "[101,\n",
       " 111,\n",
       " 121,\n",
       " 131,\n",
       " 141,\n",
       " 151,\n",
       " 161,\n",
       " 171,\n",
       " 181,\n",
       " 191,\n",
       " 202,\n",
       " 212,\n",
       " 222,\n",
       " 232,\n",
       " 242,\n",
       " 252,\n",
       " 262,\n",
       " 272,\n",
       " 282,\n",
       " 292,\n",
       " 303,\n",
       " 313,\n",
       " 323,\n",
       " 333,\n",
       " 343,\n",
       " 353,\n",
       " 363,\n",
       " 373,\n",
       " 383,\n",
       " 393,\n",
       " 404,\n",
       " 414,\n",
       " 424,\n",
       " 434,\n",
       " 444,\n",
       " 454,\n",
       " 464,\n",
       " 474,\n",
       " 484,\n",
       " 494,\n",
       " 505,\n",
       " 515,\n",
       " 525,\n",
       " 535,\n",
       " 545,\n",
       " 555,\n",
       " 565,\n",
       " 575,\n",
       " 585,\n",
       " 595,\n",
       " 606,\n",
       " 616,\n",
       " 626,\n",
       " 636,\n",
       " 646,\n",
       " 656,\n",
       " 666,\n",
       " 676,\n",
       " 686,\n",
       " 696,\n",
       " 707,\n",
       " 717,\n",
       " 727,\n",
       " 737,\n",
       " 747,\n",
       " 757,\n",
       " 767,\n",
       " 777,\n",
       " 787,\n",
       " 797,\n",
       " 808,\n",
       " 818,\n",
       " 828,\n",
       " 838,\n",
       " 848,\n",
       " 858,\n",
       " 868,\n",
       " 878,\n",
       " 888,\n",
       " 898,\n",
       " 909,\n",
       " 919,\n",
       " 929,\n",
       " 939,\n",
       " 949]"
      ]
     },
     "execution_count": 112,
     "metadata": {},
     "output_type": "execute_result"
    }
   ],
   "source": [
    "L"
   ]
  },
  {
   "cell_type": "markdown",
   "id": "1ce54c91-9f2a-40da-905b-835346ba73b3",
   "metadata": {},
   "source": [
    "25. Write a program to flatten a nested list using list comprehension."
   ]
  },
  {
   "cell_type": "code",
   "execution_count": 45,
   "id": "365c7b10-2e19-455b-b859-81761ede108f",
   "metadata": {},
   "outputs": [],
   "source": [
    "my_list = [[1,2,3],[2,3,4],[5,6,7]]\n",
    "\n",
    "res = [val for i in range(len(my_list)) for val in my_list[i] ]"
   ]
  },
  {
   "cell_type": "code",
   "execution_count": 46,
   "id": "3051a6c3-664a-4282-9833-570e1c8a50d7",
   "metadata": {},
   "outputs": [
    {
     "data": {
      "text/plain": [
       "[1, 2, 3, 2, 3, 4, 5, 6, 7]"
      ]
     },
     "execution_count": 46,
     "metadata": {},
     "output_type": "execute_result"
    }
   ],
   "source": [
    "res"
   ]
  },
  {
   "cell_type": "markdown",
   "id": "bec512f1-a97d-473e-9fbd-56566f329f5d",
   "metadata": {},
   "source": [
    "26. Develop a program that computes the sum of even and odd numbers in a list separately using list\n",
    "comprehension."
   ]
  },
  {
   "cell_type": "code",
   "execution_count": 47,
   "id": "761696c1-a16d-4507-a06b-d5781f2226f8",
   "metadata": {},
   "outputs": [],
   "source": [
    "my_list = [1,2,3,4,5,6,7,8,9]\n",
    "\n",
    "sum_even =sum(val for val in my_list if val%2==0)\n",
    "sum_odd =sum(val for val in my_list if val%2!=0)"
   ]
  },
  {
   "cell_type": "code",
   "execution_count": 48,
   "id": "f2dd1107-c35b-45a2-8380-3fe9e7e78f07",
   "metadata": {},
   "outputs": [
    {
     "name": "stdout",
     "output_type": "stream",
     "text": [
      "sum of even numbers is 20 and odd numbers is 25\n"
     ]
    }
   ],
   "source": [
    "print(f\"sum of even numbers is {sum_even} and odd numbers is {sum_odd}\")"
   ]
  },
  {
   "cell_type": "markdown",
   "id": "5cd2ba68-dba9-4a2e-8c85-c68e8f048c5b",
   "metadata": {},
   "source": [
    "27. Create a program that generates a list of squares of odd numbers between 1 and 10 using list\n",
    "comprehension."
   ]
  },
  {
   "cell_type": "code",
   "execution_count": 49,
   "id": "9a795b47-4936-440d-b0f2-d88c0d73357e",
   "metadata": {},
   "outputs": [],
   "source": [
    "odd_list = [val for val in range(10) if val%2!=0]"
   ]
  },
  {
   "cell_type": "code",
   "execution_count": 50,
   "id": "65e00d17-8e45-4a28-96f9-e85b0cf036d4",
   "metadata": {},
   "outputs": [
    {
     "data": {
      "text/plain": [
       "[1, 3, 5, 7, 9]"
      ]
     },
     "execution_count": 50,
     "metadata": {},
     "output_type": "execute_result"
    }
   ],
   "source": [
    "odd_list"
   ]
  },
  {
   "cell_type": "markdown",
   "id": "54dc0b2e-7f3b-431b-b520-6029e0b0ed5a",
   "metadata": {},
   "source": [
    "28. Write a program that combines two lists into a dictionary using list comprehension."
   ]
  },
  {
   "cell_type": "code",
   "execution_count": 51,
   "id": "3e84137d-5bb8-481d-84b5-24f4dae27f32",
   "metadata": {},
   "outputs": [],
   "source": [
    "l1 = [\"a\",\"b\",\"c\",\"d\",\"e\"]\n",
    "l2 =[1,2,3,4,5]\n",
    "\n",
    "# assumed keys from list 1 and they are unique and list 2 have values\n",
    "d = {l1[i]:l2[i] for i in range(len(l1))}"
   ]
  },
  {
   "cell_type": "code",
   "execution_count": 52,
   "id": "4b68aea3-d483-49a0-8e3e-0a4c9ec4e194",
   "metadata": {},
   "outputs": [
    {
     "data": {
      "text/plain": [
       "{'a': 1, 'b': 2, 'c': 3, 'd': 4, 'e': 5}"
      ]
     },
     "execution_count": 52,
     "metadata": {},
     "output_type": "execute_result"
    }
   ],
   "source": [
    "d"
   ]
  },
  {
   "cell_type": "markdown",
   "id": "c22d49d1-a0b8-4146-8194-f671c363b5e5",
   "metadata": {},
   "source": [
    "29. Develop a program that extracts the vowels from a string and stores them in a list using list comprehension."
   ]
  },
  {
   "cell_type": "code",
   "execution_count": 53,
   "id": "5bc9821e-c8fa-4c59-a9a7-595bdeda622e",
   "metadata": {},
   "outputs": [],
   "source": [
    "str1 = \"hello world\"\n",
    "\n",
    "vow = list(val for val in \"hello world\" if val in \"aeiou\")"
   ]
  },
  {
   "cell_type": "code",
   "execution_count": 54,
   "id": "e164cc74-d161-470d-8439-e4f4027b7faf",
   "metadata": {},
   "outputs": [
    {
     "data": {
      "text/plain": [
       "['e', 'o', 'o']"
      ]
     },
     "execution_count": 54,
     "metadata": {},
     "output_type": "execute_result"
    }
   ],
   "source": [
    "vow"
   ]
  },
  {
   "cell_type": "markdown",
   "id": "46cabf7b-822b-4328-8624-191a19176e09",
   "metadata": {},
   "source": [
    "30. Create a program that removes all non-numeric characters from a list of strings using list comprehension."
   ]
  },
  {
   "cell_type": "code",
   "execution_count": 55,
   "id": "7ae015be-95ab-4d9f-a772-e20f147fbf9a",
   "metadata": {},
   "outputs": [],
   "source": [
    "my_list =[\"alice01\",\"bo34b2\",\"mar23y5\"]\n",
    "\n",
    "res = [val for i in range(len(my_list)) for val in my_list[i] if val.isdigit()]"
   ]
  },
  {
   "cell_type": "code",
   "execution_count": 56,
   "id": "0c6a8e59-06f3-44cc-b2c9-a0fde8a8cd00",
   "metadata": {},
   "outputs": [
    {
     "data": {
      "text/plain": [
       "['0', '1', '3', '4', '2', '2', '3', '5']"
      ]
     },
     "execution_count": 56,
     "metadata": {},
     "output_type": "execute_result"
    }
   ],
   "source": [
    "res"
   ]
  },
  {
   "cell_type": "markdown",
   "id": "3ea2258e-226b-489b-80fb-73be1e434264",
   "metadata": {},
   "source": [
    "31. Write a program to generate a list of prime numbers using the Sieve of Eratosthenes algorithm and list\n",
    "comprehension."
   ]
  },
  {
   "cell_type": "code",
   "execution_count": 57,
   "id": "51cf577f-5c1f-42d3-8067-9533b9d10a46",
   "metadata": {},
   "outputs": [],
   "source": [
    "n=8\n",
    "l1 = [i for i in range(2,n)]  \n",
    "\n",
    "for i in l1:\n",
    "    for a in l1:\n",
    "        if a!=i and a%i == 0:\n",
    "            l1.remove(a)"
   ]
  },
  {
   "cell_type": "code",
   "execution_count": 58,
   "id": "753f8853-d71b-4297-9d22-2dbf83894fd6",
   "metadata": {},
   "outputs": [
    {
     "data": {
      "text/plain": [
       "[2, 3, 5, 7]"
      ]
     },
     "execution_count": 58,
     "metadata": {},
     "output_type": "execute_result"
    }
   ],
   "source": [
    "l1"
   ]
  },
  {
   "cell_type": "markdown",
   "id": "0d13a113-f74d-449f-9798-62f4fb8a9cdd",
   "metadata": {},
   "source": [
    "32. Create a program that generates a list of all Pythagorean triplets up to a specified limit using list\n",
    "comprehension."
   ]
  },
  {
   "cell_type": "code",
   "execution_count": 59,
   "id": "c780296c-fc6b-4da4-9d86-32ae7ffa3b2d",
   "metadata": {},
   "outputs": [],
   "source": [
    "n = 50\n",
    "l1 = [ (a,b,c) for a in range(1,n) for b in range(1,n) for c in range(1,n) if (a**2+b**2==c**2)]"
   ]
  },
  {
   "cell_type": "code",
   "execution_count": 60,
   "id": "c77d2d1c-d71e-4d1d-853f-9bcfc03c84ee",
   "metadata": {},
   "outputs": [
    {
     "data": {
      "text/plain": [
       "[(3, 4, 5),\n",
       " (4, 3, 5),\n",
       " (5, 12, 13),\n",
       " (6, 8, 10),\n",
       " (7, 24, 25),\n",
       " (8, 6, 10),\n",
       " (8, 15, 17),\n",
       " (9, 12, 15),\n",
       " (9, 40, 41),\n",
       " (10, 24, 26),\n",
       " (12, 5, 13),\n",
       " (12, 9, 15),\n",
       " (12, 16, 20),\n",
       " (12, 35, 37),\n",
       " (15, 8, 17),\n",
       " (15, 20, 25),\n",
       " (15, 36, 39),\n",
       " (16, 12, 20),\n",
       " (16, 30, 34),\n",
       " (18, 24, 30),\n",
       " (20, 15, 25),\n",
       " (20, 21, 29),\n",
       " (21, 20, 29),\n",
       " (21, 28, 35),\n",
       " (24, 7, 25),\n",
       " (24, 10, 26),\n",
       " (24, 18, 30),\n",
       " (24, 32, 40),\n",
       " (27, 36, 45),\n",
       " (28, 21, 35),\n",
       " (30, 16, 34),\n",
       " (32, 24, 40),\n",
       " (35, 12, 37),\n",
       " (36, 15, 39),\n",
       " (36, 27, 45),\n",
       " (40, 9, 41)]"
      ]
     },
     "execution_count": 60,
     "metadata": {},
     "output_type": "execute_result"
    }
   ],
   "source": [
    "l1"
   ]
  },
  {
   "cell_type": "markdown",
   "id": "250186e1-ff57-4b65-b52b-88de79ab1e29",
   "metadata": {},
   "source": [
    "33. Develop a program that generates a list of all possible combinations of two lists using list comprehension."
   ]
  },
  {
   "cell_type": "code",
   "execution_count": 61,
   "id": "97d0594e-eda2-4525-9156-28b580624b63",
   "metadata": {},
   "outputs": [],
   "source": [
    "list_1 = [\"a\",\"b\", \"c\", \"d\"]\n",
    "list_2 = [1,2,3,4]"
   ]
  },
  {
   "cell_type": "code",
   "execution_count": 62,
   "id": "52f640a8-e3ac-4d1f-b39f-b95584fa4c5c",
   "metadata": {},
   "outputs": [],
   "source": [
    "lis = [(list_1[i],list_2[j]) for i in range(len(list_1)) for j in range(len(list_2))]"
   ]
  },
  {
   "cell_type": "code",
   "execution_count": 63,
   "id": "875530bf-599d-4012-b4ff-ae866ea2c104",
   "metadata": {},
   "outputs": [
    {
     "name": "stdout",
     "output_type": "stream",
     "text": [
      "combination of list:  [('a', 1), ('a', 2), ('a', 3), ('a', 4), ('b', 1), ('b', 2), ('b', 3), ('b', 4), ('c', 1), ('c', 2), ('c', 3), ('c', 4), ('d', 1), ('d', 2), ('d', 3), ('d', 4)]\n"
     ]
    }
   ],
   "source": [
    "print(\"combination of list: \",lis)"
   ]
  },
  {
   "cell_type": "markdown",
   "id": "0232084d-eba8-4e76-8357-e26ec56feb5f",
   "metadata": {},
   "source": [
    "34. Write a program that calculates the mean, median, and mode of a list of numbers using list\n",
    "comprehension."
   ]
  },
  {
   "cell_type": "code",
   "execution_count": 127,
   "id": "6a9e4712-0bab-44ec-84af-0a9edb0bddfa",
   "metadata": {},
   "outputs": [],
   "source": [
    "from statistics import mode\n",
    "my_list = [1,2,3,4,5,6,7,2,4,2,2,6,8]\n",
    "\n",
    "ans_mean = sum(my_list)/len(my_list)\n",
    "ans_median = my_list[len(my_list)//2]\n",
    "ans_mode = mode(my_list)"
   ]
  },
  {
   "cell_type": "code",
   "execution_count": 129,
   "id": "e8e74177-2be5-4818-b37f-82fa209c37e2",
   "metadata": {},
   "outputs": [
    {
     "name": "stdout",
     "output_type": "stream",
     "text": [
      "mean, median , mode are:  4.0 , 7 , 2\n"
     ]
    }
   ],
   "source": [
    "print(\"mean, median , mode are: \", ans_mean,\",\" ,ans_median,\",\",ans_mode)\n"
   ]
  },
  {
   "cell_type": "markdown",
   "id": "10c712f1-4175-4353-b6b1-7975bc6e33c5",
   "metadata": {},
   "source": [
    "35. Create a program that generates Pascal's triangle up to a specified number of rows using list\n",
    "comprehension."
   ]
  },
  {
   "cell_type": "code",
   "execution_count": 64,
   "id": "7974a5d9-bbdf-4068-9d0a-8fab07788647",
   "metadata": {},
   "outputs": [],
   "source": [
    "from math import factorial\n",
    "num=7\n",
    "tri = [[factorial(n) // (factorial(k) * factorial(n - k)) for k in range(n+1)] for n in range(num)]"
   ]
  },
  {
   "cell_type": "code",
   "execution_count": 65,
   "id": "901cbf84-918d-4c0e-886e-f67b4a126e50",
   "metadata": {},
   "outputs": [
    {
     "data": {
      "text/plain": [
       "[[1],\n",
       " [1, 1],\n",
       " [1, 2, 1],\n",
       " [1, 3, 3, 1],\n",
       " [1, 4, 6, 4, 1],\n",
       " [1, 5, 10, 10, 5, 1],\n",
       " [1, 6, 15, 20, 15, 6, 1]]"
      ]
     },
     "execution_count": 65,
     "metadata": {},
     "output_type": "execute_result"
    }
   ],
   "source": [
    "tri"
   ]
  },
  {
   "cell_type": "markdown",
   "id": "5d6cb4f0-ea4d-497b-932d-5c060cb26504",
   "metadata": {},
   "source": [
    "36. Develop a program that calculates the sum of the digits of a factorial of numbers from 1 to 5 using list\n",
    "comprehension."
   ]
  },
  {
   "cell_type": "code",
   "execution_count": 66,
   "id": "b2e4a3cc-87c6-4fa6-abd3-15a1ba430106",
   "metadata": {},
   "outputs": [],
   "source": [
    "# res = [ j for i in range(len(l)) for j in str(l[i])]"
   ]
  },
  {
   "cell_type": "code",
   "execution_count": 67,
   "id": "77a1ac94-1896-4ce6-a6d9-f4b979d5e1d3",
   "metadata": {},
   "outputs": [
    {
     "data": {
      "text/plain": [
       "[1, 2, 6, 2, 4, 1, 2, 0]"
      ]
     },
     "execution_count": 67,
     "metadata": {},
     "output_type": "execute_result"
    }
   ],
   "source": [
    "res = [int(val) for i in range(1,6) for val in str(factorial(i))]\n",
    "res"
   ]
  },
  {
   "cell_type": "code",
   "execution_count": 68,
   "id": "67363b5d-4ff1-4558-a4ff-83c3ef3538b6",
   "metadata": {},
   "outputs": [],
   "source": [
    "# l1=[]\n",
    "# for i in range(1,6):\n",
    "#     count = 0\n",
    "#     for val in str(factorial(i)):\n",
    "#         count+=int(val)\n",
    "#     l1.append(count)"
   ]
  },
  {
   "cell_type": "code",
   "execution_count": 69,
   "id": "b1f225c1-8278-4795-9388-7b92178cb3c6",
   "metadata": {},
   "outputs": [],
   "source": [
    "## ANSWER\n",
    "## if check res, it contains specific digits of each factorial, and using list comprehension , stored in list\n",
    "## added to the sum\n",
    "\n",
    "l2 = sum(int(val) for i in range(1,6) for val in str(factorial(i)))"
   ]
  },
  {
   "cell_type": "code",
   "execution_count": 70,
   "id": "beff8b56-84e8-4184-ab8b-9b4dcb30ff2d",
   "metadata": {},
   "outputs": [
    {
     "name": "stdout",
     "output_type": "stream",
     "text": [
      "sum of digits of a factorial number are :  18\n"
     ]
    }
   ],
   "source": [
    "print(\"sum of digits of a factorial number are : \", l2)"
   ]
  },
  {
   "cell_type": "markdown",
   "id": "02a0974e-f1d5-4267-ab0b-db6a1fff8b21",
   "metadata": {},
   "source": [
    "37. Write a program that finds the longest word in a sentence using list comprehension."
   ]
  },
  {
   "cell_type": "code",
   "execution_count": 71,
   "id": "9cbbc86d-3a8d-45b8-9144-3cc62d57dbf5",
   "metadata": {},
   "outputs": [
    {
     "name": "stdout",
     "output_type": "stream",
     "text": [
      "['hello', 'world', 'what', 'is', 'going', 'on', 'for', 'adventure']\n"
     ]
    }
   ],
   "source": [
    "text = \"hello world what is going on for adventure\"\n",
    "s = text.split()\n",
    "print(s)\n",
    "\n",
    "longest = max(text.split(), key=len)"
   ]
  },
  {
   "cell_type": "code",
   "execution_count": 72,
   "id": "fba9ecca-7795-4ee0-9d8f-d749d5b929d6",
   "metadata": {},
   "outputs": [
    {
     "name": "stdout",
     "output_type": "stream",
     "text": [
      "longest word is:  adventure\n"
     ]
    }
   ],
   "source": [
    "print(\"longest word is: \",longest)"
   ]
  },
  {
   "cell_type": "markdown",
   "id": "c7463d04-53de-425c-aebf-f6c9c0636ad3",
   "metadata": {},
   "source": [
    "38. Create a program that filters a list of strings to include only those with more than three vowels using list\n",
    "comprehension."
   ]
  },
  {
   "cell_type": "code",
   "execution_count": 73,
   "id": "b8cbfb72-1745-4a60-8be2-30ff2c81a0e8",
   "metadata": {},
   "outputs": [],
   "source": [
    "import re\n",
    "\n",
    "fruits = [\"mango\", \"kiwi\", \"strawberry\", \"guava\", \"pineapple\", \"mandarin orange\"]\n",
    "results = [i for i in fruits if len(re.sub(r\"[^aeiouAEIOU]\", \"\", i)) > 2]"
   ]
  },
  {
   "cell_type": "code",
   "execution_count": 74,
   "id": "c9a12113-2ccf-42ac-b74f-279a0a47fea2",
   "metadata": {},
   "outputs": [
    {
     "name": "stdout",
     "output_type": "stream",
     "text": [
      "['guava', 'pineapple', 'mandarin orange']\n"
     ]
    }
   ],
   "source": [
    "print(results)"
   ]
  },
  {
   "cell_type": "markdown",
   "id": "484b4bfc-9c84-44d2-b222-4e3564b7b11d",
   "metadata": {},
   "source": [
    "39. Develop a program that calculates the sum of the digits of numbers from 1 to 1000 using list\n",
    "comprehension."
   ]
  },
  {
   "cell_type": "code",
   "execution_count": 77,
   "id": "17acfa19-62f9-4a1c-8c97-99bc63ad44db",
   "metadata": {},
   "outputs": [],
   "source": [
    "test_list = [i for i in range(1,1001)]\n",
    "res = list(map(lambda ele: sum(int(val) for val in str(ele)), test_list))"
   ]
  },
  {
   "cell_type": "code",
   "execution_count": 79,
   "id": "67892afb-8419-4eaa-aeee-88ec60c304d3",
   "metadata": {},
   "outputs": [
    {
     "name": "stdout",
     "output_type": "stream",
     "text": [
      "um of the digits of numbers from 1 to 1000: [1, 2, 3, 4, 5, 6, 7, 8, 9, 1, 2, 3, 4, 5, 6, 7, 8, 9, 10, 2, 3, 4, 5, 6, 7, 8, 9, 10, 11, 3, 4, 5, 6, 7, 8, 9, 10, 11, 12, 4, 5, 6, 7, 8, 9, 10, 11, 12, 13, 5, 6, 7, 8, 9, 10, 11, 12, 13, 14, 6, 7, 8, 9, 10, 11, 12, 13, 14, 15, 7, 8, 9, 10, 11, 12, 13, 14, 15, 16, 8, 9, 10, 11, 12, 13, 14, 15, 16, 17, 9, 10, 11, 12, 13, 14, 15, 16, 17, 18, 1, 2, 3, 4, 5, 6, 7, 8, 9, 10, 2, 3, 4, 5, 6, 7, 8, 9, 10, 11, 3, 4, 5, 6, 7, 8, 9, 10, 11, 12, 4, 5, 6, 7, 8, 9, 10, 11, 12, 13, 5, 6, 7, 8, 9, 10, 11, 12, 13, 14, 6, 7, 8, 9, 10, 11, 12, 13, 14, 15, 7, 8, 9, 10, 11, 12, 13, 14, 15, 16, 8, 9, 10, 11, 12, 13, 14, 15, 16, 17, 9, 10, 11, 12, 13, 14, 15, 16, 17, 18, 10, 11, 12, 13, 14, 15, 16, 17, 18, 19, 2, 3, 4, 5, 6, 7, 8, 9, 10, 11, 3, 4, 5, 6, 7, 8, 9, 10, 11, 12, 4, 5, 6, 7, 8, 9, 10, 11, 12, 13, 5, 6, 7, 8, 9, 10, 11, 12, 13, 14, 6, 7, 8, 9, 10, 11, 12, 13, 14, 15, 7, 8, 9, 10, 11, 12, 13, 14, 15, 16, 8, 9, 10, 11, 12, 13, 14, 15, 16, 17, 9, 10, 11, 12, 13, 14, 15, 16, 17, 18, 10, 11, 12, 13, 14, 15, 16, 17, 18, 19, 11, 12, 13, 14, 15, 16, 17, 18, 19, 20, 3, 4, 5, 6, 7, 8, 9, 10, 11, 12, 4, 5, 6, 7, 8, 9, 10, 11, 12, 13, 5, 6, 7, 8, 9, 10, 11, 12, 13, 14, 6, 7, 8, 9, 10, 11, 12, 13, 14, 15, 7, 8, 9, 10, 11, 12, 13, 14, 15, 16, 8, 9, 10, 11, 12, 13, 14, 15, 16, 17, 9, 10, 11, 12, 13, 14, 15, 16, 17, 18, 10, 11, 12, 13, 14, 15, 16, 17, 18, 19, 11, 12, 13, 14, 15, 16, 17, 18, 19, 20, 12, 13, 14, 15, 16, 17, 18, 19, 20, 21, 4, 5, 6, 7, 8, 9, 10, 11, 12, 13, 5, 6, 7, 8, 9, 10, 11, 12, 13, 14, 6, 7, 8, 9, 10, 11, 12, 13, 14, 15, 7, 8, 9, 10, 11, 12, 13, 14, 15, 16, 8, 9, 10, 11, 12, 13, 14, 15, 16, 17, 9, 10, 11, 12, 13, 14, 15, 16, 17, 18, 10, 11, 12, 13, 14, 15, 16, 17, 18, 19, 11, 12, 13, 14, 15, 16, 17, 18, 19, 20, 12, 13, 14, 15, 16, 17, 18, 19, 20, 21, 13, 14, 15, 16, 17, 18, 19, 20, 21, 22, 5, 6, 7, 8, 9, 10, 11, 12, 13, 14, 6, 7, 8, 9, 10, 11, 12, 13, 14, 15, 7, 8, 9, 10, 11, 12, 13, 14, 15, 16, 8, 9, 10, 11, 12, 13, 14, 15, 16, 17, 9, 10, 11, 12, 13, 14, 15, 16, 17, 18, 10, 11, 12, 13, 14, 15, 16, 17, 18, 19, 11, 12, 13, 14, 15, 16, 17, 18, 19, 20, 12, 13, 14, 15, 16, 17, 18, 19, 20, 21, 13, 14, 15, 16, 17, 18, 19, 20, 21, 22, 14, 15, 16, 17, 18, 19, 20, 21, 22, 23, 6, 7, 8, 9, 10, 11, 12, 13, 14, 15, 7, 8, 9, 10, 11, 12, 13, 14, 15, 16, 8, 9, 10, 11, 12, 13, 14, 15, 16, 17, 9, 10, 11, 12, 13, 14, 15, 16, 17, 18, 10, 11, 12, 13, 14, 15, 16, 17, 18, 19, 11, 12, 13, 14, 15, 16, 17, 18, 19, 20, 12, 13, 14, 15, 16, 17, 18, 19, 20, 21, 13, 14, 15, 16, 17, 18, 19, 20, 21, 22, 14, 15, 16, 17, 18, 19, 20, 21, 22, 23, 15, 16, 17, 18, 19, 20, 21, 22, 23, 24, 7, 8, 9, 10, 11, 12, 13, 14, 15, 16, 8, 9, 10, 11, 12, 13, 14, 15, 16, 17, 9, 10, 11, 12, 13, 14, 15, 16, 17, 18, 10, 11, 12, 13, 14, 15, 16, 17, 18, 19, 11, 12, 13, 14, 15, 16, 17, 18, 19, 20, 12, 13, 14, 15, 16, 17, 18, 19, 20, 21, 13, 14, 15, 16, 17, 18, 19, 20, 21, 22, 14, 15, 16, 17, 18, 19, 20, 21, 22, 23, 15, 16, 17, 18, 19, 20, 21, 22, 23, 24, 16, 17, 18, 19, 20, 21, 22, 23, 24, 25, 8, 9, 10, 11, 12, 13, 14, 15, 16, 17, 9, 10, 11, 12, 13, 14, 15, 16, 17, 18, 10, 11, 12, 13, 14, 15, 16, 17, 18, 19, 11, 12, 13, 14, 15, 16, 17, 18, 19, 20, 12, 13, 14, 15, 16, 17, 18, 19, 20, 21, 13, 14, 15, 16, 17, 18, 19, 20, 21, 22, 14, 15, 16, 17, 18, 19, 20, 21, 22, 23, 15, 16, 17, 18, 19, 20, 21, 22, 23, 24, 16, 17, 18, 19, 20, 21, 22, 23, 24, 25, 17, 18, 19, 20, 21, 22, 23, 24, 25, 26, 9, 10, 11, 12, 13, 14, 15, 16, 17, 18, 10, 11, 12, 13, 14, 15, 16, 17, 18, 19, 11, 12, 13, 14, 15, 16, 17, 18, 19, 20, 12, 13, 14, 15, 16, 17, 18, 19, 20, 21, 13, 14, 15, 16, 17, 18, 19, 20, 21, 22, 14, 15, 16, 17, 18, 19, 20, 21, 22, 23, 15, 16, 17, 18, 19, 20, 21, 22, 23, 24, 16, 17, 18, 19, 20, 21, 22, 23, 24, 25, 17, 18, 19, 20, 21, 22, 23, 24, 25, 26, 18, 19, 20, 21, 22, 23, 24, 25, 26, 27, 1]\n"
     ]
    }
   ],
   "source": [
    "print(\"um of the digits of numbers from 1 to 1000:\", res)"
   ]
  },
  {
   "cell_type": "markdown",
   "id": "9333b3fa-0dae-4b89-93ae-3fec09f28bb9",
   "metadata": {},
   "source": [
    "40. Write a program that generates a list of prime palindromic numbers using list comprehension."
   ]
  },
  {
   "cell_type": "code",
   "execution_count": 108,
   "id": "eeda836e-145b-4191-81a8-c235ac95a6d1",
   "metadata": {},
   "outputs": [],
   "source": [
    "# used 2 previous function to generate palindrome and check prime\n",
    "# used both the condition\n",
    "n = 800\n",
    "num = str(n)\n",
    "L = [int(\"%d%d%d\" % (x,y,x)) for x in range(1,int(num[0])+1) for y in range(10) if int(\"%d%d%d\" % (x,y,x))<=n if is_prime(int(\"%d%d%d\" % (x,y,x)))]"
   ]
  },
  {
   "cell_type": "code",
   "execution_count": 109,
   "id": "4228da0b-754c-438b-ae96-8fe60c3fe609",
   "metadata": {},
   "outputs": [
    {
     "data": {
      "text/plain": [
       "[101, 131, 151, 181, 191, 313, 353, 373, 383, 727, 757, 787, 797]"
      ]
     },
     "execution_count": 109,
     "metadata": {},
     "output_type": "execute_result"
    }
   ],
   "source": [
    "L"
   ]
  },
  {
   "cell_type": "code",
   "execution_count": null,
   "id": "52ddd1a3-adb8-4ffd-8da4-f4104d699618",
   "metadata": {},
   "outputs": [],
   "source": []
  }
 ],
 "metadata": {
  "kernelspec": {
   "display_name": "Python 3 (ipykernel)",
   "language": "python",
   "name": "python3"
  },
  "language_info": {
   "codemirror_mode": {
    "name": "ipython",
    "version": 3
   },
   "file_extension": ".py",
   "mimetype": "text/x-python",
   "name": "python",
   "nbconvert_exporter": "python",
   "pygments_lexer": "ipython3",
   "version": "3.10.8"
  }
 },
 "nbformat": 4,
 "nbformat_minor": 5
}

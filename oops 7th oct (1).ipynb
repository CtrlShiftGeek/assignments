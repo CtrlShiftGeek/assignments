{
 "cells": [
  {
   "cell_type": "code",
   "execution_count": 1,
   "id": "8b6a7b1a-3ff5-4b22-be3e-d3b2d7aa7e3a",
   "metadata": {},
   "outputs": [],
   "source": [
    "class a :\n",
    "    \n",
    "    def test(self):\n",
    "        print(\"this test method is a part of class a\")\n",
    "        \n",
    "    def test1(self):\n",
    "        print(\"this is test1 from class a \")"
   ]
  },
  {
   "cell_type": "code",
   "execution_count": 2,
   "id": "8e4d306f-fdb4-47a0-a93d-597f5b21d30b",
   "metadata": {},
   "outputs": [],
   "source": [
    "obj_a = a()"
   ]
  },
  {
   "cell_type": "code",
   "execution_count": 3,
   "id": "81ef5597-cf96-4ed9-a4f6-21e2e93aca70",
   "metadata": {},
   "outputs": [
    {
     "name": "stdout",
     "output_type": "stream",
     "text": [
      "this test method is a part of class a\n"
     ]
    }
   ],
   "source": [
    "obj_a.test()"
   ]
  },
  {
   "cell_type": "code",
   "execution_count": 8,
   "id": "11ee63d6-433d-48dc-ada0-5dd6771310ba",
   "metadata": {},
   "outputs": [],
   "source": [
    "class b(a) :\n",
    "    def test1b(self):\n",
    "        print(\"this is a part of class b \")"
   ]
  },
  {
   "cell_type": "code",
   "execution_count": 9,
   "id": "badaedfe-57d1-43c6-9193-e5afb0f31dbc",
   "metadata": {},
   "outputs": [],
   "source": [
    "obj_b = b()"
   ]
  },
  {
   "cell_type": "code",
   "execution_count": 10,
   "id": "3ce19f61-ba8e-4050-9d4d-614adfd964c5",
   "metadata": {},
   "outputs": [
    {
     "name": "stdout",
     "output_type": "stream",
     "text": [
      "this test method is a part of class a\n"
     ]
    }
   ],
   "source": [
    "obj_b.test()"
   ]
  },
  {
   "cell_type": "code",
   "execution_count": 11,
   "id": "5e473fae-e094-4407-99df-16a04ab4c80a",
   "metadata": {},
   "outputs": [
    {
     "name": "stdout",
     "output_type": "stream",
     "text": [
      "this is test1 from class a \n"
     ]
    }
   ],
   "source": [
    "obj_b.test1()"
   ]
  },
  {
   "cell_type": "code",
   "execution_count": 13,
   "id": "02a8f055-535f-4bc2-adc1-575445f82570",
   "metadata": {},
   "outputs": [
    {
     "name": "stdout",
     "output_type": "stream",
     "text": [
      "this is a part of class b \n"
     ]
    }
   ],
   "source": [
    "obj_b.test1b()"
   ]
  },
  {
   "cell_type": "code",
   "execution_count": 26,
   "id": "59361cd3-c0c4-4ddd-abac-cbe3275ade5f",
   "metadata": {},
   "outputs": [],
   "source": [
    "class lecture:\n",
    "    \n",
    "    def topic(self):\n",
    "        print(\"todays class we are discussing about inheritance condept in oops\")\n",
    "        \n",
    "    def timing(self):\n",
    "        print(\"timing for todays class is 9 AM IST\")\n",
    "        \n",
    "    def end_time(self):\n",
    "        print(\"today i will try to end class bit early\")"
   ]
  },
  {
   "cell_type": "code",
   "execution_count": 27,
   "id": "6e3dd2de-883e-4e9e-98a0-4a7089af1627",
   "metadata": {},
   "outputs": [],
   "source": [
    "class student(lecture):\n",
    "    \n",
    "    def student_details(self):\n",
    "        print(\"this class will give you a student details\")"
   ]
  },
  {
   "cell_type": "code",
   "execution_count": 28,
   "id": "c2ad2a89-0f29-4410-86c4-e33f47b4186d",
   "metadata": {},
   "outputs": [],
   "source": [
    "naval = student()"
   ]
  },
  {
   "cell_type": "code",
   "execution_count": 29,
   "id": "38c86e7f-5560-464a-b597-c88a74819f1a",
   "metadata": {},
   "outputs": [
    {
     "name": "stdout",
     "output_type": "stream",
     "text": [
      "todays class we are discussing about inheritance condept in oops\n"
     ]
    }
   ],
   "source": [
    "naval.topic()"
   ]
  },
  {
   "cell_type": "code",
   "execution_count": 30,
   "id": "02efc8a4-f995-4f85-87d2-620ccc0f61fa",
   "metadata": {},
   "outputs": [
    {
     "name": "stdout",
     "output_type": "stream",
     "text": [
      "timing for todays class is 9 AM IST\n"
     ]
    }
   ],
   "source": [
    "satish = student()\n",
    "satish.timing()"
   ]
  },
  {
   "cell_type": "code",
   "execution_count": 31,
   "id": "03932972-a58b-46e5-a3f8-ffc43c84ce53",
   "metadata": {},
   "outputs": [],
   "source": [
    "class teacher(student):\n",
    "    def details(self):\n",
    "        print(\"this will give you a details about teacher\")"
   ]
  },
  {
   "cell_type": "code",
   "execution_count": 32,
   "id": "fff36c1b-f1e9-467e-b29f-c304aa9feec9",
   "metadata": {},
   "outputs": [
    {
     "name": "stdout",
     "output_type": "stream",
     "text": [
      "timing for todays class is 9 AM IST\n"
     ]
    }
   ],
   "source": [
    "sudh = teacher()\n",
    "sudh.timing()"
   ]
  },
  {
   "cell_type": "code",
   "execution_count": 33,
   "id": "a5e8c94b-de62-4ef5-8eba-81259d83dd3d",
   "metadata": {},
   "outputs": [],
   "source": [
    "class lecture:\n",
    "    def topic(self):\n",
    "        print(\"todays class we are discussing about inheritance condept in oops\")\n",
    "        \n",
    "    def timing(self):\n",
    "        print(\"timing for todays class is 9 AM IST\")\n",
    "        \n",
    "    def end_time(self):\n",
    "        print(\"today i will try to end class bit early\")"
   ]
  },
  {
   "cell_type": "code",
   "execution_count": 34,
   "id": "2007141c-1b71-4cd4-9bed-a3cd8d851baa",
   "metadata": {},
   "outputs": [],
   "source": [
    "class student:\n",
    "    \n",
    "    def student_details(self):\n",
    "        print(\"this class will give you a student details\")\n",
    "        \n",
    "    def timing(self):\n",
    "        print(\"this is a timing fun from student class\")\n",
    "        "
   ]
  },
  {
   "cell_type": "code",
   "execution_count": 25,
   "id": "272860d3-1fac-475b-8c09-0490069224bc",
   "metadata": {},
   "outputs": [],
   "source": [
    "class teacher(lecture,student):\n",
    "    def details(self):\n",
    "        print(\"this will give you a details about teacher\")"
   ]
  },
  {
   "cell_type": "code",
   "execution_count": 35,
   "id": "f4a9ae16-f0e3-4a4a-a003-38773611cd2a",
   "metadata": {},
   "outputs": [],
   "source": [
    "krish = teacher()"
   ]
  },
  {
   "cell_type": "code",
   "execution_count": 36,
   "id": "6dc85f37-219e-4c72-927c-9aebb550fea9",
   "metadata": {},
   "outputs": [
    {
     "name": "stdout",
     "output_type": "stream",
     "text": [
      "timing for todays class is 9 AM IST\n"
     ]
    }
   ],
   "source": [
    "krish.timing()"
   ]
  },
  {
   "cell_type": "code",
   "execution_count": 37,
   "id": "8bcbac88-9172-4a31-a191-9c4b9a1c6eac",
   "metadata": {},
   "outputs": [
    {
     "name": "stdout",
     "output_type": "stream",
     "text": [
      "this class will give you a student details\n"
     ]
    }
   ],
   "source": [
    "krish.student_details()"
   ]
  },
  {
   "cell_type": "markdown",
   "id": "86b47d4f-860e-4702-83a0-0145887ab41a",
   "metadata": {},
   "source": [
    "Problem 1: Bank Account Create a class representing a bank account with attributes like account number, account holder name, and balance. Implement methods to deposit and withdraw money from the account.\n",
    "\n",
    "Problem 2: Employee Management Create a class representing an employee with attributes like employee ID, name, and salary. Implement methods to calculate the yearly bonus and display employee details.\n",
    "\n",
    "Problem 3: Vehicle Rental Create a class representing a vehicle rental system. Implement methods to rent a vehicle, return a vehicle, and display available vehicles.\n",
    "\n",
    "Problem 4: Library Catalog Create classes representing a library and a book. Implement methods to add books to the library, borrow books, and display available books.\n",
    "\n",
    "Problem 5: Product Inventory Create classes representing a product and an inventory system. Implement methods to add products to the inventory, update product quantity, and display available products.\n",
    "\n",
    "Problem 6: Shape Calculation Create a class representing a shape with attributes like length, width, and height. Implement methods to calculate the area and perimeter of the shape.\n",
    "\n",
    "Problem 7: Student Management Create a class representing a student with attributes like student ID, name, and grades. Implement methods to calculate the average grade and display student details.\n",
    "\n",
    "Problem 8: Email Management Create a class representing an email with attributes like sender, recipient, and subject. Implement methods to send an email and display email details.\n",
    "\n",
    "Problem 9: Social Media Profile Create a class representing a social media profile with attributes like username and posts. Implement methods to add posts, display posts, and search for posts by keyword.\n",
    "\n",
    "Problem 10: ToDo List Create a class representing a ToDo list with attributes like tasks and due dates. Implement methods to add tasks, mark tasks as completed, and display pending tasks."
   ]
  },
  {
   "cell_type": "markdown",
   "id": "810684f6-c5e3-4634-8416-86b2d151433e",
   "metadata": {},
   "source": [
    "# ======================="
   ]
  },
  {
   "cell_type": "markdown",
   "id": "3fdc01e8-8b9f-4f3b-a5f7-f88671e556bb",
   "metadata": {},
   "source": [
    "### Problem 1 \n",
    "Bank Account Create a class representing a bank account with attributes like account number, account holder name, and balance. Implement methods to deposit and withdraw money from the account."
   ]
  },
  {
   "cell_type": "code",
   "execution_count": 118,
   "id": "70180a0d-f35a-4865-b8c8-92d320389526",
   "metadata": {},
   "outputs": [],
   "source": [
    "class bankaccount:\n",
    "    \n",
    "    def __init__(self,account_holder_name,account_number):\n",
    "        self.name = account_holder_name\n",
    "        self.acc_number = \"Bank_ACC_\"+str(account_number)\n",
    "        self.balance = 10000\n",
    "        # self.amt = amount\n",
    "        # if initial >=10000:\n",
    "        #     self.balance = initial\n",
    "        # else:\n",
    "        #     print(\"enter amount greater than 10000\")\n",
    "    \n",
    "    def deposite(self, amt):\n",
    "        # print(name, number, balance+amount)\n",
    "        self.balance = self.balance+amt\n",
    "        return self.balance\n",
    "    \n",
    "    def withdraw(self,amt):\n",
    "        if amt<=self.balance:\n",
    "            self.balance = self.balance-amt\n",
    "        else:\n",
    "            print(\"enter amount less than balance\")\n",
    "        return self.balance\n",
    "     \n",
    "#doubt\n",
    "# how to put conditions on the balace amount, conditions on the init"
   ]
  },
  {
   "cell_type": "code",
   "execution_count": 119,
   "id": "185f7ebf-4b7e-4f39-b4f3-267612e1b0c9",
   "metadata": {},
   "outputs": [],
   "source": [
    "raj = bankaccount(\"raj\",1234)"
   ]
  },
  {
   "cell_type": "code",
   "execution_count": 120,
   "id": "5e008401-a8f9-418e-9af7-5ba7b60e6932",
   "metadata": {},
   "outputs": [
    {
     "data": {
      "text/plain": [
       "10000"
      ]
     },
     "execution_count": 120,
     "metadata": {},
     "output_type": "execute_result"
    }
   ],
   "source": [
    "raj.balance"
   ]
  },
  {
   "cell_type": "code",
   "execution_count": 121,
   "id": "4d8a08e1-4c47-4a13-b687-ad5dd5204d52",
   "metadata": {},
   "outputs": [
    {
     "data": {
      "text/plain": [
       "'raj'"
      ]
     },
     "execution_count": 121,
     "metadata": {},
     "output_type": "execute_result"
    }
   ],
   "source": [
    "raj.name"
   ]
  },
  {
   "cell_type": "code",
   "execution_count": 122,
   "id": "be7a3681-3e45-4433-b033-01a882cd4d36",
   "metadata": {},
   "outputs": [
    {
     "data": {
      "text/plain": [
       "'Bank_ACC_1234'"
      ]
     },
     "execution_count": 122,
     "metadata": {},
     "output_type": "execute_result"
    }
   ],
   "source": [
    "raj.acc_number"
   ]
  },
  {
   "cell_type": "code",
   "execution_count": 123,
   "id": "26ed83e1-f021-4f55-a7d5-16185d9dbb52",
   "metadata": {},
   "outputs": [
    {
     "data": {
      "text/plain": [
       "10100"
      ]
     },
     "execution_count": 123,
     "metadata": {},
     "output_type": "execute_result"
    }
   ],
   "source": [
    "raj.deposite(100)"
   ]
  },
  {
   "cell_type": "code",
   "execution_count": 126,
   "id": "66399572-5be8-4b7f-a2fc-0f899e869062",
   "metadata": {},
   "outputs": [
    {
     "data": {
      "text/plain": [
       "3100"
      ]
     },
     "execution_count": 126,
     "metadata": {},
     "output_type": "execute_result"
    }
   ],
   "source": [
    "raj.balance"
   ]
  },
  {
   "cell_type": "code",
   "execution_count": 125,
   "id": "49ad0083-07cd-49c6-8efa-958074316511",
   "metadata": {},
   "outputs": [
    {
     "data": {
      "text/plain": [
       "3100"
      ]
     },
     "execution_count": 125,
     "metadata": {},
     "output_type": "execute_result"
    }
   ],
   "source": [
    "raj.withdraw(7000)"
   ]
  },
  {
   "cell_type": "markdown",
   "id": "43c75a32-acd4-4631-91ce-fb91224811f2",
   "metadata": {},
   "source": [
    "### Problem 2\n",
    "Employee Management Create a class representing an employee with attributes like employee ID, name, and salary. Implement methods to calculate the yearly bonus and display employee details."
   ]
  },
  {
   "cell_type": "code",
   "execution_count": 9,
   "id": "79006a0d-c3fc-4125-9ef1-86a924d0dd6f",
   "metadata": {},
   "outputs": [],
   "source": [
    "class EM:\n",
    "    \n",
    "    def __init__(self,emp_ID,name,salary):\n",
    "        self.name = name\n",
    "        self.emp_id = emp_ID\n",
    "        self.salary = salary\n",
    "        \n",
    "    def yearly_bonus(self,amt):\n",
    "        print(self.name,self.emp_id,self.salary)\n",
    "        return self.salary+amt\n",
    "    "
   ]
  },
  {
   "cell_type": "code",
   "execution_count": 12,
   "id": "cdf306f1-fa33-420c-9cbd-a03efc92a15c",
   "metadata": {},
   "outputs": [],
   "source": [
    "axel = EM(43121,\"axel\",40000)"
   ]
  },
  {
   "cell_type": "code",
   "execution_count": 13,
   "id": "5746d56e-00a5-4bd6-8aec-d91b61f0fa1e",
   "metadata": {},
   "outputs": [
    {
     "data": {
      "text/plain": [
       "43121"
      ]
     },
     "execution_count": 13,
     "metadata": {},
     "output_type": "execute_result"
    }
   ],
   "source": [
    "axel.emp_id"
   ]
  },
  {
   "cell_type": "code",
   "execution_count": 14,
   "id": "564a27de-179c-4bc6-a268-9ec425e7d578",
   "metadata": {},
   "outputs": [
    {
     "data": {
      "text/plain": [
       "'axel'"
      ]
     },
     "execution_count": 14,
     "metadata": {},
     "output_type": "execute_result"
    }
   ],
   "source": [
    "axel.name"
   ]
  },
  {
   "cell_type": "code",
   "execution_count": 15,
   "id": "290a26b2-f211-41c6-9438-d391cff29d23",
   "metadata": {},
   "outputs": [
    {
     "data": {
      "text/plain": [
       "40000"
      ]
     },
     "execution_count": 15,
     "metadata": {},
     "output_type": "execute_result"
    }
   ],
   "source": [
    "axel.salary"
   ]
  },
  {
   "cell_type": "code",
   "execution_count": 17,
   "id": "b3391e12-2118-4b8f-a508-23b32ce66789",
   "metadata": {},
   "outputs": [
    {
     "name": "stdout",
     "output_type": "stream",
     "text": [
      "axel 43121 40000\n"
     ]
    },
    {
     "data": {
      "text/plain": [
       "50000"
      ]
     },
     "execution_count": 17,
     "metadata": {},
     "output_type": "execute_result"
    }
   ],
   "source": [
    "axel.yearly_bonus(10000)"
   ]
  },
  {
   "cell_type": "markdown",
   "id": "f912ea08-0387-4e7b-aa43-b672abd0b76b",
   "metadata": {},
   "source": [
    "### Problem 3: \n",
    "Vehicle Rental Create a class representing a vehicle rental system. Implement methods to rent a vehicle, return a vehicle, and display available vehicles."
   ]
  },
  {
   "cell_type": "code",
   "execution_count": 73,
   "id": "5732f649-8e26-40c5-9878-314644b3b723",
   "metadata": {},
   "outputs": [],
   "source": [
    "class vehicle_rental:\n",
    "    def __init__(self):\n",
    "        self.l = [\"car\",\"bike\",\"thar\",\"truck\"]\n",
    "        # self.l = []\n",
    "    \n",
    "    def avail(self):\n",
    "        for v in self.l:\n",
    "            print(v)\n",
    "        return self.l\n",
    "    \n",
    "    def rent(self,vehicle):\n",
    "        if vehicle in self.l:\n",
    "            self.l.remove(vehicle)\n",
    "            print(\"rent vehicle\",vehicle )\n",
    "        else:\n",
    "            print(\"invalid input\")\n",
    "        \n",
    "        return self.l\n",
    "    \n",
    "    def return_vehicle(self,vehicle):\n",
    "        self.l.append(vehicle)\n",
    "        return self.l\n",
    "    \n",
    "# doubts\n",
    "# modifying the list in init, but can't keeping the track of it\n",
    "# simply executing the process without taking consideration of edge cases"
   ]
  },
  {
   "cell_type": "code",
   "execution_count": 74,
   "id": "63687bc7-c82b-4627-b655-927fcb231bad",
   "metadata": {},
   "outputs": [],
   "source": [
    "new = vehicle_rental()"
   ]
  },
  {
   "cell_type": "code",
   "execution_count": 75,
   "id": "40f7550d-a2b5-4480-b051-77e01b27572b",
   "metadata": {},
   "outputs": [],
   "source": [
    "# new.l = ['Car1', 'Car2', 'Bike1', 'Bike2']"
   ]
  },
  {
   "cell_type": "code",
   "execution_count": 76,
   "id": "011e74bd-ef63-4e04-90a8-2292854b61cf",
   "metadata": {},
   "outputs": [
    {
     "data": {
      "text/plain": [
       "['car', 'bike', 'thar', 'truck']"
      ]
     },
     "execution_count": 76,
     "metadata": {},
     "output_type": "execute_result"
    }
   ],
   "source": [
    "new.l"
   ]
  },
  {
   "cell_type": "code",
   "execution_count": 77,
   "id": "475ea438-6e96-4082-ae48-479f39da8ef4",
   "metadata": {},
   "outputs": [
    {
     "name": "stdout",
     "output_type": "stream",
     "text": [
      "rent vehicle car\n"
     ]
    },
    {
     "data": {
      "text/plain": [
       "['bike', 'thar', 'truck']"
      ]
     },
     "execution_count": 77,
     "metadata": {},
     "output_type": "execute_result"
    }
   ],
   "source": [
    "new.rent(\"car\")"
   ]
  },
  {
   "cell_type": "code",
   "execution_count": 78,
   "id": "2b5a4d96-547b-4bbd-978d-08ea18c8083b",
   "metadata": {},
   "outputs": [
    {
     "data": {
      "text/plain": [
       "['bike', 'thar', 'truck']"
      ]
     },
     "execution_count": 78,
     "metadata": {},
     "output_type": "execute_result"
    }
   ],
   "source": [
    "new.l"
   ]
  },
  {
   "cell_type": "code",
   "execution_count": 79,
   "id": "bafcc2f9-c086-485f-b70c-2355d8614da1",
   "metadata": {},
   "outputs": [
    {
     "data": {
      "text/plain": [
       "['bike', 'thar', 'truck', 'car2']"
      ]
     },
     "execution_count": 79,
     "metadata": {},
     "output_type": "execute_result"
    }
   ],
   "source": [
    "new.return_vehicle(\"car2\")"
   ]
  },
  {
   "cell_type": "markdown",
   "id": "4e68d0eb-2fdb-4ad7-bcda-d3084e903817",
   "metadata": {},
   "source": [
    "### Problem 4: \n",
    "Library Catalog Create classes representing a library and a book. Implement methods to add books to the library, borrow books, and display available books."
   ]
  },
  {
   "cell_type": "code",
   "execution_count": 97,
   "id": "423c2e62-ee0b-49da-9398-06de266a7a03",
   "metadata": {},
   "outputs": [],
   "source": [
    "class Library:\n",
    "    \n",
    "    def __init__(self):\n",
    "        self.book_list = [\"book1\",\"book2\",\"book3\",\"book4\"]\n",
    "        \n",
    "    def display_books(self):\n",
    "        print(f\"available books are:{self.book_list}\")\n",
    "        \n",
    "    def add_book(self,book):\n",
    "        self.book_list.append(book)\n",
    "        print(f\"updated book list {self.book_list}\")\n",
    "        \n",
    "    def borrow_book(self,book):\n",
    "        if book in self.book_list:\n",
    "            self.book_list.remove(book)\n",
    "            print(f\"successfully borrow {book}\")\n",
    "            return print(f\"updated book list {self.book_list}\")\n",
    "        else:\n",
    "            print(\"choose valid book name\")\n",
    "    "
   ]
  },
  {
   "cell_type": "code",
   "execution_count": 100,
   "id": "48d08fda-5b97-44bf-aae1-d00fe57665e1",
   "metadata": {},
   "outputs": [],
   "source": [
    "lib = Library()"
   ]
  },
  {
   "cell_type": "code",
   "execution_count": 101,
   "id": "7a7bc93f-2d5d-4e03-ae6c-a0af3753c0cc",
   "metadata": {},
   "outputs": [
    {
     "data": {
      "text/plain": [
       "['book1', 'book2', 'book3', 'book4']"
      ]
     },
     "execution_count": 101,
     "metadata": {},
     "output_type": "execute_result"
    }
   ],
   "source": [
    "lib.book_list"
   ]
  },
  {
   "cell_type": "code",
   "execution_count": 102,
   "id": "4522ff26-0906-4f84-9e6f-293c44c25afc",
   "metadata": {},
   "outputs": [
    {
     "name": "stdout",
     "output_type": "stream",
     "text": [
      "available books are:['book1', 'book2', 'book3', 'book4']\n"
     ]
    }
   ],
   "source": [
    "lib.display_books()"
   ]
  },
  {
   "cell_type": "code",
   "execution_count": 103,
   "id": "201ccf7c-bab2-4be6-b00a-ea9533aa24bd",
   "metadata": {},
   "outputs": [
    {
     "name": "stdout",
     "output_type": "stream",
     "text": [
      "updated book list ['book1', 'book2', 'book3', 'book4', 'book5']\n"
     ]
    }
   ],
   "source": [
    "lib.add_book(\"book5\")"
   ]
  },
  {
   "cell_type": "code",
   "execution_count": 104,
   "id": "188d624a-05ba-41f1-b77d-5bbc071e1c93",
   "metadata": {},
   "outputs": [
    {
     "name": "stdout",
     "output_type": "stream",
     "text": [
      "successfully borrow book1\n",
      "updated book list ['book2', 'book3', 'book4', 'book5']\n"
     ]
    }
   ],
   "source": [
    "lib.borrow_book(\"book1\")"
   ]
  },
  {
   "cell_type": "markdown",
   "id": "d84e0848-974b-45f5-95b4-032f3cc22caf",
   "metadata": {},
   "source": [
    "### Problem 5: \n",
    "Product Inventory Create classes representing a product and an inventory system. Implement methods to add products to the inventory, update product quantity, and display available products.\n"
   ]
  },
  {
   "cell_type": "code",
   "execution_count": 59,
   "id": "56794cc0-75bc-44cb-9a0f-35388fa8c9f1",
   "metadata": {},
   "outputs": [],
   "source": [
    "class product:\n",
    "    \n",
    "    def __init__(self,name):\n",
    "        self.name = name\n",
    "        # # self.color = color\n",
    "        # self.quantity = 1\n",
    "    \n",
    "    def display_name(self,product):\n",
    "        print(f\"name of product{product})\")\n",
    "    \n",
    "#     def quantity_show(self,p):\n",
    "#         print(f\"quantity of product{p}\")\n",
    "#         self.quantity"
   ]
  },
  {
   "cell_type": "code",
   "execution_count": 140,
   "id": "636d0a1b-f8eb-4bfa-920e-bc9f0aaf38f8",
   "metadata": {},
   "outputs": [],
   "source": [
    "class inventory_system(product):\n",
    "    \n",
    "    def __init__(self):\n",
    "        # self.product_list = []\n",
    "        self.product_list = [\"hat\",\"cap\",\"sweater\"]\n",
    "        self.dic ={}\n",
    "        for val in self.product_list:\n",
    "            self.dic[val]=1\n",
    "        \n",
    "    def add_product(self,product,quantity):\n",
    "        if product in self.product_list:\n",
    "            # self.product.quan\n",
    "            temp =self.dic[product]\n",
    "            self.dic[product] = temp+quantity\n",
    "        else:\n",
    "            self.dic[product] = quantity\n",
    "        # if product in self.product_list:\n",
    "    \n",
    "    def quantity_show(self,product):\n",
    "        if product in self.dic :\n",
    "            print(f\"the quantity of {product}\")\n",
    "            print(self.dic[product])\n",
    "            \n",
    "    def available_products(self):\n",
    "        print(list(self.dic))\n",
    "        \n",
    "    \n",
    "    "
   ]
  },
  {
   "cell_type": "code",
   "execution_count": 141,
   "id": "1658c782-5f88-47fb-93cb-ed8093afffb8",
   "metadata": {},
   "outputs": [],
   "source": [
    "a = inventory_system()"
   ]
  },
  {
   "cell_type": "code",
   "execution_count": 142,
   "id": "5fc578e0-6e7d-43f6-8e11-3fd9d22824ea",
   "metadata": {},
   "outputs": [
    {
     "data": {
      "text/plain": [
       "['hat', 'cap', 'sweater']"
      ]
     },
     "execution_count": 142,
     "metadata": {},
     "output_type": "execute_result"
    }
   ],
   "source": [
    "a.product_list"
   ]
  },
  {
   "cell_type": "code",
   "execution_count": 143,
   "id": "b2f87f63-2823-478c-8bd5-6d20492b607e",
   "metadata": {},
   "outputs": [],
   "source": [
    "# a.product_list = [\"hat\",\"cap\",\"sweater\"]"
   ]
  },
  {
   "cell_type": "code",
   "execution_count": 144,
   "id": "61ff8831-9b14-4c5e-b851-51e04d7e31ec",
   "metadata": {},
   "outputs": [],
   "source": [
    "a.add_product(\"glove\",2)"
   ]
  },
  {
   "cell_type": "code",
   "execution_count": 145,
   "id": "4940b28e-a9fa-48a7-a8b6-54cd50f29cfd",
   "metadata": {},
   "outputs": [
    {
     "name": "stdout",
     "output_type": "stream",
     "text": [
      "['hat', 'cap', 'sweater', 'glove']\n"
     ]
    }
   ],
   "source": [
    "a.available_products()"
   ]
  },
  {
   "cell_type": "code",
   "execution_count": 146,
   "id": "a4017e64-c10d-4105-95f6-88b4de1003b8",
   "metadata": {},
   "outputs": [
    {
     "name": "stdout",
     "output_type": "stream",
     "text": [
      "the quantity of hat\n",
      "1\n"
     ]
    }
   ],
   "source": [
    "a.quantity_show(\"hat\")"
   ]
  },
  {
   "cell_type": "code",
   "execution_count": 147,
   "id": "07df50b8-ecff-4ee8-b78d-a4550378ae6a",
   "metadata": {},
   "outputs": [
    {
     "name": "stdout",
     "output_type": "stream",
     "text": [
      "the quantity of glove\n",
      "2\n"
     ]
    }
   ],
   "source": [
    "a.quantity_show(\"glove\")"
   ]
  },
  {
   "cell_type": "code",
   "execution_count": 151,
   "id": "91532bd1-93ef-445c-925c-4b3bce84c25d",
   "metadata": {},
   "outputs": [],
   "source": [
    "a.add_product(\"glove\",14)"
   ]
  },
  {
   "cell_type": "code",
   "execution_count": 152,
   "id": "8362ba97-c895-4874-a8fe-070b5a082580",
   "metadata": {},
   "outputs": [
    {
     "name": "stdout",
     "output_type": "stream",
     "text": [
      "the quantity of glove\n",
      "14\n"
     ]
    }
   ],
   "source": [
    "a.quantity_show(\"glove\")"
   ]
  },
  {
   "cell_type": "code",
   "execution_count": null,
   "id": "1f469cc6-1d57-4513-9dac-cd4478984bb9",
   "metadata": {},
   "outputs": [],
   "source": []
  },
  {
   "cell_type": "markdown",
   "id": "eb410acd-f8e8-4a61-b84e-cde8413f4a75",
   "metadata": {},
   "source": [
    "\n",
    "### Problem 6: \n",
    "Shape Calculation Create a class representing a shape with attributes like length, width, and height. Implement methods to calculate the area and perimeter of the shape."
   ]
  },
  {
   "cell_type": "code",
   "execution_count": null,
   "id": "257eb720-5710-4750-936a-6849483c4f04",
   "metadata": {},
   "outputs": [],
   "source": [
    "# assuming 3 shapes as rectangle , circle and triangle"
   ]
  },
  {
   "cell_type": "code",
   "execution_count": 157,
   "id": "8e8a4abb-967d-456d-80e5-3ddedc7a20b6",
   "metadata": {},
   "outputs": [],
   "source": [
    "import math\n",
    "\n",
    "class shape:\n",
    "    \n",
    "    def calculate_area(self):\n",
    "        pass\n",
    "    \n",
    "    def calculate_perimeter(self):\n",
    "        pass\n",
    "        "
   ]
  },
  {
   "cell_type": "code",
   "execution_count": 164,
   "id": "4da1e9db-9637-4316-a9ad-2cd703b2ccea",
   "metadata": {},
   "outputs": [],
   "source": [
    "class Circle(shape):\n",
    "    # Initialize the Circle object with a given radius\n",
    "    def __init__(self, radius):\n",
    "        self.radius = radius\n",
    "\n",
    "    # Calculate and return the area of the circle using the formula: π * r^2\n",
    "    def calculate_area(self):\n",
    "        return math.pi * self.radius**2\n",
    "\n",
    "    # Calculate and return the perimeter of the circle using the formula: 2π * r\n",
    "    def calculate_perimeter(self):\n",
    "        return 2 * math.pi * self.radius\n",
    "    "
   ]
  },
  {
   "cell_type": "code",
   "execution_count": 165,
   "id": "e33b598c-6df5-4061-bfd2-c8b11a1ea6fc",
   "metadata": {},
   "outputs": [],
   "source": [
    "class RectanglesShape(shape):\n",
    "    def __init__(self, length, width):\n",
    "        self.length = length\n",
    "        self.width = width\n",
    "\n",
    "    def calculate_area(self):\n",
    "        return self.length * self.width\n",
    "\n",
    "    def calculate_perimeter(self):\n",
    "        return 2 * (self.length + self.width)\n",
    "\n"
   ]
  },
  {
   "cell_type": "code",
   "execution_count": 163,
   "id": "7243a0f3-3a2b-4ec8-b061-f7d5e8ad128d",
   "metadata": {},
   "outputs": [],
   "source": [
    "class Triangle(shape):\n",
    "    def __init__(self, base, height, side1, side2, side3):\n",
    "        self.base = base\n",
    "        self.height = height\n",
    "        self.side1 = side1\n",
    "        self.side2 = side2\n",
    "        self.side3 = side3\n",
    "\n",
    "    def calculate_area(self):\n",
    "        return 0.5 * self.base * self.height\n",
    "\n",
    "    def calculate_perimeter(self):\n",
    "        return self.side1 + self.side2 + self.side3"
   ]
  },
  {
   "cell_type": "code",
   "execution_count": 166,
   "id": "cb662d17-e00d-40bd-83f0-6fb2e1a5522d",
   "metadata": {},
   "outputs": [],
   "source": [
    "r = 7\n",
    "circle = Circle(r)\n",
    "circle_area = circle.calculate_area()\n",
    "circle_perimeter = circle.calculate_perimeter()"
   ]
  },
  {
   "cell_type": "code",
   "execution_count": 167,
   "id": "94765bed-0093-419b-9cd4-d337b382edd3",
   "metadata": {},
   "outputs": [
    {
     "name": "stdout",
     "output_type": "stream",
     "text": [
      "Radius of the circle: 7\n",
      "Circle Area: 153.93804002589985\n",
      "Circle Perimeter: 43.982297150257104\n"
     ]
    }
   ],
   "source": [
    "print(\"Radius of the circle:\", r)\n",
    "print(\"Circle Area:\", circle_area)\n",
    "print(\"Circle Perimeter:\", circle_perimeter)"
   ]
  },
  {
   "cell_type": "code",
   "execution_count": null,
   "id": "0e3dee6b-9a71-4472-b01a-f323ea10385c",
   "metadata": {},
   "outputs": [],
   "source": []
  },
  {
   "cell_type": "markdown",
   "id": "dba1718b-3044-45e5-af62-4e8fc66d7d0f",
   "metadata": {},
   "source": [
    "### Problem 7: Student Management \n",
    "Create a class representing a student with attributes like student ID, name, and grades. Implement methods to calculate the average grade and display student details.\n",
    "\n"
   ]
  },
  {
   "cell_type": "code",
   "execution_count": 181,
   "id": "f5e085c8-f0ca-439a-93ca-e8440a50c6eb",
   "metadata": {},
   "outputs": [],
   "source": [
    "class student:\n",
    "    \n",
    "    def __init__(self,name,ID,g1,g2,g3,g4,g5):\n",
    "        self.name = name\n",
    "        self.ID = ID\n",
    "        self.grade1 = g1\n",
    "        self.grade2 = g2\n",
    "        self.grade3 = g3\n",
    "        self.grade4 = g4\n",
    "        self.grade5 = g5\n",
    "        \n",
    "    def display_details(self):\n",
    "        print(f\"name {self.name},ID-{self.ID},grades are: {self.grade1},{self.grade2},{self.grade3},{self.grade4},{self.grade5}\")\n",
    "        \n",
    "    def avg_grade(self):\n",
    "        temp = self.grade1+self.grade2+self.grade3+self.grade4+self.grade5\n",
    "        print(f\"avg grade {temp/5}\")"
   ]
  },
  {
   "cell_type": "code",
   "execution_count": 182,
   "id": "b54f12f7-3745-4b78-96af-85efc9edbd3b",
   "metadata": {},
   "outputs": [],
   "source": [
    "raj = student(\"raj\",1234,12,12,32,21,32)"
   ]
  },
  {
   "cell_type": "code",
   "execution_count": 183,
   "id": "fd63a430-7f86-4c96-b055-004228c0442d",
   "metadata": {},
   "outputs": [
    {
     "name": "stdout",
     "output_type": "stream",
     "text": [
      "avg grade 21.8\n"
     ]
    }
   ],
   "source": [
    "raj.avg_grade()"
   ]
  },
  {
   "cell_type": "code",
   "execution_count": 184,
   "id": "e9215e5f-8f67-411d-96ce-f83ccc33d2df",
   "metadata": {},
   "outputs": [
    {
     "name": "stdout",
     "output_type": "stream",
     "text": [
      "name raj,ID-1234,grades are: 12,12,32,21,32\n"
     ]
    }
   ],
   "source": [
    "raj.display_details()"
   ]
  },
  {
   "cell_type": "markdown",
   "id": "1a1fc4c9-cc66-41b8-b8db-3dbd66bcb092",
   "metadata": {},
   "source": [
    "### Problem 8: Email Management \n",
    "Create a class representing an email with attributes like sender, recipient, and subject. Implement methods to send an email and display email details."
   ]
  },
  {
   "cell_type": "code",
   "execution_count": 21,
   "id": "bd2d682c-2997-4cb9-aedb-632cb8412a46",
   "metadata": {},
   "outputs": [],
   "source": [
    "\n",
    "class Email:\n",
    "    def __init__(self, sender, recipient, subject, message):\n",
    "        self.sender = sender\n",
    "        self.recipient = recipient\n",
    "        self.subject = subject\n",
    "        self.message = message\n",
    "\n",
    "    def send_email(self):\n",
    "        print(f\"Email sent to: {self.recipient}\")\n",
    "        print(f\"Subject: {self.subject}\")\n",
    "        print(f\"Message:\\n{self.message}\\n\")\n",
    "        print(\"Email sent successfully!\")\n",
    "\n",
    "    def display_details(self):\n",
    "        print(f\"Sender: {self.sender}\")\n",
    "        print(f\"Recipient: {self.recipient}\")\n",
    "        print(f\"Subject: {self.subject}\\n\")\n",
    "        print(f\"Message:\\n{self.message}\")\n",
    "\n"
   ]
  },
  {
   "cell_type": "code",
   "execution_count": 18,
   "id": "6b983eb4-8c33-48f4-aba8-d91e94d225f2",
   "metadata": {},
   "outputs": [],
   "source": [
    "my_email = Email(\"abc@gmail.com\", \"pwskills@gmail.com\", \"Meeting Tomorrow\", \"hi. meeting tomorrow\")\n"
   ]
  },
  {
   "cell_type": "code",
   "execution_count": 19,
   "id": "76279ab8-8317-41db-8119-69d674150b25",
   "metadata": {},
   "outputs": [
    {
     "name": "stdout",
     "output_type": "stream",
     "text": [
      "Email sent to: pwskills@gmail.com\n",
      "Subject: Meeting Tomorrow\n",
      "Message:\n",
      "hi. meeting tomorrow\n",
      "\n",
      "Email sent successfully!\n"
     ]
    }
   ],
   "source": [
    "my_email.send_email()"
   ]
  },
  {
   "cell_type": "code",
   "execution_count": 20,
   "id": "6d5c5b08-f5d3-4b7d-a283-581e7bfd8a98",
   "metadata": {},
   "outputs": [
    {
     "name": "stdout",
     "output_type": "stream",
     "text": [
      "Sender: abc@gmail.com\n",
      "Recipient: pwskills@gmail.com\n",
      "Subject: Meeting Tomorrow\n",
      "\n",
      "Message:\n",
      "hi. meeting tomorrow\n"
     ]
    }
   ],
   "source": [
    "my_email.display_details()"
   ]
  },
  {
   "cell_type": "code",
   "execution_count": null,
   "id": "9551370a-80af-4335-80b2-b77bf6b19829",
   "metadata": {},
   "outputs": [],
   "source": []
  },
  {
   "cell_type": "markdown",
   "id": "43757657-a260-4c80-8ac6-666b839732c0",
   "metadata": {},
   "source": [
    "### Problem 9: Social Media Profile \n",
    "Create a class representing a social media profile with attributes like username and posts. Implement methods to add posts, display posts, and search for posts by keyword.\n"
   ]
  },
  {
   "cell_type": "code",
   "execution_count": 66,
   "id": "b5dd9acc-431f-4b6a-b8c1-6a7444f8b98d",
   "metadata": {},
   "outputs": [],
   "source": [
    "class SMP:\n",
    "    \n",
    "    def __init__(self,username):\n",
    "        self.username = username\n",
    "        self.post = []\n",
    "        \n",
    "    def add_post(self,posts):\n",
    "        self.post.append(posts)\n",
    "        \n",
    "    def display_posts(self):\n",
    "        if not self.post:\n",
    "            print(f\"no post for username {self.username}\")\n",
    "        else:\n",
    "            count =1\n",
    "            print(\"posts for username: \",self.username)\n",
    "            for post in self.post:\n",
    "                print(count, post)\n",
    "                count+=1\n",
    "        \n",
    "    def search_post(self,key):\n",
    "        # matching = [post for post in self.post is key.lower() in self.post.lower()]\n",
    "        # matching_posts = [post for post in self.post if key.lower() in self.post]\n",
    "        matching = []\n",
    "        i = 0\n",
    "        while i < len(self.post):\n",
    "            if key.lower() in self.post[i].lower():\n",
    "                matching.append(self.post[i])\n",
    "            i+=1\n",
    "        \n",
    "#         if not matching_posts:\n",
    "#             print(f\"No posts found containing '{keyword}' for {self.username}.\")\n",
    "#             return\n",
    "\n",
    "#         print(f\"Matching posts for '{keyword}' in {self.username}'s profile:\")\n",
    "#         for post in matching_posts:\n",
    "#             print(f\"{post['content']}\")\n",
    "#         print()\n",
    "        \n",
    "        print(matching)"
   ]
  },
  {
   "cell_type": "code",
   "execution_count": 67,
   "id": "df3474c1-ce75-4570-8a70-f16c3b8de912",
   "metadata": {},
   "outputs": [],
   "source": [
    "raj = SMP(\"raj\")"
   ]
  },
  {
   "cell_type": "code",
   "execution_count": 68,
   "id": "d3931801-0431-4be5-99af-4acde1c7403b",
   "metadata": {},
   "outputs": [
    {
     "name": "stdout",
     "output_type": "stream",
     "text": [
      "no post for username raj\n"
     ]
    }
   ],
   "source": [
    "raj.display_posts()"
   ]
  },
  {
   "cell_type": "code",
   "execution_count": 69,
   "id": "fec6e922-10e6-45bc-8c1b-e302077ed887",
   "metadata": {},
   "outputs": [],
   "source": [
    "raj.add_post(\"hi\")"
   ]
  },
  {
   "cell_type": "code",
   "execution_count": 70,
   "id": "8bd025c9-5489-4957-90ed-f2edab028f82",
   "metadata": {},
   "outputs": [
    {
     "name": "stdout",
     "output_type": "stream",
     "text": [
      "posts for username:  raj\n",
      "1 hi\n"
     ]
    }
   ],
   "source": [
    "raj.display_posts()"
   ]
  },
  {
   "cell_type": "code",
   "execution_count": 71,
   "id": "c674a5ae-70c3-4555-a16b-560362e2800c",
   "metadata": {},
   "outputs": [],
   "source": [
    "raj.add_post(\"how are you \")"
   ]
  },
  {
   "cell_type": "code",
   "execution_count": 72,
   "id": "49058d4b-6dee-4607-9afc-728a5cd5e407",
   "metadata": {},
   "outputs": [
    {
     "name": "stdout",
     "output_type": "stream",
     "text": [
      "posts for username:  raj\n",
      "1 hi\n",
      "2 how are you \n"
     ]
    }
   ],
   "source": [
    "raj.display_posts()"
   ]
  },
  {
   "cell_type": "code",
   "execution_count": 73,
   "id": "46a2f00c-3a8c-44ae-8337-5f2180d37cc0",
   "metadata": {},
   "outputs": [
    {
     "name": "stdout",
     "output_type": "stream",
     "text": [
      "['hi']\n"
     ]
    }
   ],
   "source": [
    "raj.search_post(\"hi\")"
   ]
  },
  {
   "cell_type": "code",
   "execution_count": 75,
   "id": "22c7d436-4f5a-44cf-9e17-f7bdb80fe15f",
   "metadata": {},
   "outputs": [
    {
     "name": "stdout",
     "output_type": "stream",
     "text": [
      "['how are you ']\n"
     ]
    }
   ],
   "source": [
    "raj.search_post(\"are\")"
   ]
  },
  {
   "cell_type": "markdown",
   "id": "262c087d-787b-48a8-bc05-58b0b25d1d49",
   "metadata": {},
   "source": [
    "### Problem 10: ToDo List \n",
    "Create a class representing a ToDo list with attributes like tasks and due dates. Implement methods to add tasks, mark tasks as completed, and display pending tasks.\n"
   ]
  },
  {
   "cell_type": "code",
   "execution_count": 66,
   "id": "ef91e01e-6de1-4405-af4b-d1930efd15c9",
   "metadata": {},
   "outputs": [],
   "source": [
    "class todo:\n",
    "    \n",
    "    def __init__(self):\n",
    "        self.tasks = []\n",
    "        self.completed = []\n",
    "        self.pending = []\n",
    "        # self.date  = date\n",
    "        \n",
    "    def add_task(self,task,date):\n",
    "        self.tasks.append({'task':task,'due_date':date,'completed':False})\n",
    "        \n",
    "        \n",
    "    # def completed_task(self,task):\n",
    "    \n",
    "    def mark_as_completed(self, task_index):\n",
    "        if 0 <= task_index < len(self.tasks):\n",
    "            self.tasks[task_index]['completed'] = True\n",
    "            print(f\"Task '{self.tasks[task_index]['task']}' marked as completed.\")\n",
    "        else:\n",
    "            print(\"Invalid task index.\")\n",
    "        \n",
    "    def display_pending_tasks(self):\n",
    "        pending_tasks = [task for task in self.tasks if not task['completed']]\n",
    "            \n",
    "        if not pending_tasks:\n",
    "            print(\"No pending tasks.\")\n",
    "        else:\n",
    "            print(\"Pending Tasks:\")\n",
    "            for index, task in enumerate(pending_tasks):\n",
    "                print(f\"{index + 1}. {task['task']} (Due Date: {task['due_date']})\")\n",
    "\n"
   ]
  },
  {
   "cell_type": "code",
   "execution_count": 67,
   "id": "dba8257f-cc7f-4aa5-9f32-6195a614841b",
   "metadata": {},
   "outputs": [],
   "source": [
    "# t = todo(\"Complete project\", \"2023-08-15\")\n",
    "t = todo()\n"
   ]
  },
  {
   "cell_type": "code",
   "execution_count": 68,
   "id": "7309a54b-0324-4e42-b274-df8b98fd35d5",
   "metadata": {},
   "outputs": [],
   "source": [
    "t.add_task(\"Complete project\", \"2023-08-15\")\n",
    "t.add_task(\"Prepare for meeting\", \"2023-08-12\")\n",
    "t.add_task(\"Read a chapter\", \"2023-08-20\")\n"
   ]
  },
  {
   "cell_type": "code",
   "execution_count": 69,
   "id": "8cc4f812-7218-44da-b2f8-207ca71c744b",
   "metadata": {},
   "outputs": [
    {
     "name": "stdout",
     "output_type": "stream",
     "text": [
      "Pending Tasks:\n",
      "1. Complete project (Due Date: 2023-08-15)\n",
      "2. Prepare for meeting (Due Date: 2023-08-12)\n",
      "3. Read a chapter (Due Date: 2023-08-20)\n"
     ]
    }
   ],
   "source": [
    "t.display_pending_tasks()"
   ]
  },
  {
   "cell_type": "code",
   "execution_count": 70,
   "id": "24885c37-056a-473f-b1ea-7e7f07542d6a",
   "metadata": {},
   "outputs": [
    {
     "name": "stdout",
     "output_type": "stream",
     "text": [
      "Task 'Complete project' marked as completed.\n"
     ]
    }
   ],
   "source": [
    "t.mark_as_completed(0)"
   ]
  },
  {
   "cell_type": "code",
   "execution_count": 71,
   "id": "eb6db79c-f4be-48de-af1e-2f510e211700",
   "metadata": {},
   "outputs": [
    {
     "name": "stdout",
     "output_type": "stream",
     "text": [
      "Pending Tasks:\n",
      "1. Prepare for meeting (Due Date: 2023-08-12)\n",
      "2. Read a chapter (Due Date: 2023-08-20)\n"
     ]
    }
   ],
   "source": [
    "t.display_pending_tasks()"
   ]
  },
  {
   "cell_type": "code",
   "execution_count": null,
   "id": "3a23059d-7c43-429d-8033-74b2496948ee",
   "metadata": {},
   "outputs": [],
   "source": []
  }
 ],
 "metadata": {
  "kernelspec": {
   "display_name": "Python 3 (ipykernel)",
   "language": "python",
   "name": "python3"
  },
  "language_info": {
   "codemirror_mode": {
    "name": "ipython",
    "version": 3
   },
   "file_extension": ".py",
   "mimetype": "text/x-python",
   "name": "python",
   "nbconvert_exporter": "python",
   "pygments_lexer": "ipython3",
   "version": "3.10.8"
  }
 },
 "nbformat": 4,
 "nbformat_minor": 5
}

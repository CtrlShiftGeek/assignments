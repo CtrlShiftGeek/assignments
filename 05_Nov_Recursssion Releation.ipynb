{
 "cells": [
  {
   "cell_type": "markdown",
   "id": "626820e1-e6b9-4844-ae71-c5c386fea5e7",
   "metadata": {},
   "source": [
    "Q.1 Find the value of T(2) for the rec%rrence relation T(n) = 3T(n-1) + 12n, given that T(0)=5."
   ]
  },
  {
   "cell_type": "markdown",
   "id": "feebc71a-4c98-421d-a042-a524b7df76c3",
   "metadata": {},
   "source": [
    "T(n) = 3T(n-1) + 12n <br>\n",
    "given T(0) = 5 <br>\n",
    "T(0) = 3T(0-1) + 12*0 <br>\n",
    "T(0) = -3T = 5<br>\n",
    "=> T = -5/3<br>\n",
    "---------\n",
    "\n",
    "T(2) = 3T(2-1) + 12*2 <br>\n",
    "T(2) = 3T + 12*2 <br>\n",
    "T(2) = 3(-5/3) + 24<br>\n",
    "T(2) = -5 + 24<br>\n",
    "T(2) = 19<br>\n",
    "-----"
   ]
  },
  {
   "cell_type": "markdown",
   "id": "253380a0-6a33-49c8-9ddf-963119ecd179",
   "metadata": {},
   "source": [
    "2. Given a recurrence relation, solve it %sing the substitution method:\n",
    "\n"
   ]
  },
  {
   "cell_type": "markdown",
   "id": "1d77f96e-ca2b-4ee8-9ee0-f38578493535",
   "metadata": {},
   "source": [
    "### solving for <br>\n",
    "a. T(n) = T(n-1) + c\n",
    "---\n",
    "1. assuming base case <br>\n",
    "T(n) = 1 for n =1 <br>\n",
    "T(n) = T(n-1) + c for n >1\n",
    "---------\n",
    "T(n-1) = T((n-1)-1)+c <br>\n",
    "T(n-1) = T(n-2)+c <br>\n",
    "T(n) = [T(n-2)+c] +c <br>\n",
    "T(n) = T(n-2)+ 2c <br>\n",
    "---\n",
    "T(n-2) = T((n-2)-1)+c <br>\n",
    "T(n-2) = T(n-3)+c <br>\n",
    "T(n) = [T(n-3)+c] +2c <br>\n",
    "T(n) = T(n-3)+ 3c <br>\n",
    "---\n",
    "2. upto k times <br>\n",
    "T(n) = T(n-k) + kc <br>\n",
    "substituting n-k = 1  <br>\n",
    "k = n -1 <br>\n",
    "T(n) = T(1) + (n-1)c <br>\n",
    "T(n) = c + (n-1)c <br>\n",
    "T(n) = O(n)\n",
    "----\n",
    "\n",
    "\n"
   ]
  },
  {
   "cell_type": "markdown",
   "id": "4787a241-447c-4aba-b9ce-fd0e47ec813f",
   "metadata": {},
   "source": [
    "### solving for\n",
    "b. T(n) = 2T(n/2) + n <br>\n",
    "assuming base case condition to be 1 = n/2^k or k = log(n)"
   ]
  },
  {
   "cell_type": "markdown",
   "id": "be4f6ab2-ef19-4ead-b112-01f8f001fa0a",
   "metadata": {},
   "source": [
    "T(n) = 2*T(n/2) + n <br>\n",
    "\n",
    "T(n/2) = 2*T(n/2^2) + n/2 <br>\n",
    "T(n) = 2*[ 2*T(n/2^2) + n/2 ] + n <br>\n",
    "T(n) = 2^2*T(n/2^2) + n + n <br>\n",
    "T(n) = 2^2*T(n/2^2) + 2n <br>\n",
    "----\n",
    "T(n/2^2) = 2*T(n/2^3) + n/2^2 <br>\n",
    "T(n) = 2^2*[ 2*T(n/2^3) + n/2^2 ] + 2n <br>\n",
    "T(n) = 2^3*T(n/2^3) + n + 2n <br>\n",
    "T(n) = 2^3*T(n/2^3) + 3n <br>\n",
    "----\n",
    "=> for k steps\n",
    "T(n) = 2^k*T(n/2^k) + k*n <br>\n",
    "T(n) = n*T(1) + log(n)*n\n",
    "\n",
    "O(n) = n*log(n)"
   ]
  },
  {
   "cell_type": "markdown",
   "id": "866ae4c2-9e72-4b47-9a5a-dac7ea0a4659",
   "metadata": {},
   "source": [
    "### solving for\n",
    "c. T(n) = 2T(n/2) + c"
   ]
  },
  {
   "cell_type": "markdown",
   "id": "6fd1ed17-64e2-4e06-bfd9-5daf0822f137",
   "metadata": {},
   "source": [
    "T(n) = 2*T(n/2) + c <br>\n",
    "\n",
    "T(n/2) = 2*T(n/2^2) + c <br>\n",
    "T(n) = 2*[ 2*T(n/2^2) + c ] + c <br>\n",
    "T(n) = 2^2*T(n/2^2) +2c +c <br>\n",
    "T(n) = 2^2*T(n/2^2) + 2c+c <br>\n",
    "---\n",
    "T(n/2^2) = 2*T(n/2^3) + c <br>\n",
    "T(n) = 2^2*[ 2*T(n/2^3) + c ] + 3c <br>\n",
    "T(n) = 2^3*T(n/2^3) + 2^2c + 2c +c <br>\n",
    "--\n",
    "after k steps\n",
    "T(n) = 2^k*T(n/2^k) + 2^k*c + 2^(k-1)*c + ....+ 2^2c + 2^1c + c\n",
    "\n",
    "substitute\n",
    "T(n) = n*T(1)+ 2^k - 1\n",
    "T(n) = n*T(1)+ n - 1\n",
    "\n",
    "O(n) = n"
   ]
  },
  {
   "cell_type": "markdown",
   "id": "3c4ad73b-e86a-4b4e-b313-dc6f13cc74dd",
   "metadata": {},
   "source": [
    "#  solving for \n",
    "d. T(n) = T(n/2) + c"
   ]
  },
  {
   "cell_type": "markdown",
   "id": "7ea572b1-1331-445c-af07-3de9005b08d3",
   "metadata": {},
   "source": [
    "T(n) = T(n/2) + c <br>\n",
    "\n",
    "T(n/2) = T(n/2^2) + c <br>\n",
    "T(n) = [T(n/2^2) + c] + c <br>\n",
    "T(n) = T(n/2^2) +2c <br>\n",
    "--\n",
    "T(n/2^2) =  T(n/2^3) + c <br>\n",
    "T(n) = [T(n/2^3) + c]+2c <br>\n",
    "T(n) = T(n/2^3) + 3c <br>\n",
    "---\n",
    "\n",
    "after k steps\n",
    "T(n) = T(n/2^k) + kc <br>\n",
    "T(n) = T(1) + log(n)*c <br>\n",
    "\n",
    "O(n) = log(n)"
   ]
  },
  {
   "cell_type": "markdown",
   "id": "855fc11a-a8cb-49ff-a496-ea3548f4cda7",
   "metadata": {},
   "source": [
    "3. Given a rec%rrence relation, solve it %sing the rec%rsive tree approach:\n",
    "a. T(n) = 2T(n-1) +1\n",
    "b. T(n) = 2T(n/2) + n"
   ]
  },
  {
   "cell_type": "markdown",
   "id": "3cfcf291-de2e-4861-99e7-343641180273",
   "metadata": {},
   "source": [
    "a. T(n) = 2T(n-1) +1"
   ]
  },
  {
   "cell_type": "markdown",
   "id": "fe314fd6-8cf8-4be8-83a9-945c75b31d64",
   "metadata": {
    "tags": []
   },
   "source": [
    "given can be break into T(n-1)+T(n-1)+1 <br>\n",
    "step 0  == n       <br>\n",
    "step 1  == n-1 , n -1   >>> 1x2 <br>\n",
    "step 2  == n-2,n-2 ,,,, n-2 , n-2 >>> 1x2^2 <br>\n",
    ":<br>\n",
    ":<br>\n",
    "step K == left and right >>> 1x2^k<br>\n",
    "left = n-k and right = n -k<br>\n",
    "n =k (base condition)<br><br>\n",
    "\n",
    "sum = 1 +2 + 2^2 + ..........+2^k<br>\n",
    "sum = 2^k -1\n",
    "\n",
    "therefore O(n) = 2^n\n",
    "\n",
    "-------\n",
    "end"
   ]
  },
  {
   "cell_type": "markdown",
   "id": "b8ddd022-7243-464a-8155-78d73b797edc",
   "metadata": {},
   "source": [
    "b. T(n) = 2T(n/2) + n"
   ]
  },
  {
   "cell_type": "markdown",
   "id": "8061442e-e9e0-4c76-a8ad-3ecbd1ac7de2",
   "metadata": {},
   "source": [
    "given can be break into T(n/2)+T(n/2)+n<br>\n",
    "step 0 == n <br>\n",
    "step 1 == n/2 ,,, n/2 >>> n<br>\n",
    "step 2 == n/2^2,n/2^2 ,,, n/2^2,n/2^2 >>> n<br>\n",
    ":<br>\n",
    ":<br>\n",
    "step k == left and right and >>> k.n\n",
    "left = n/2^k =1 >> k = log(n)\n",
    "right = n/2^k =1 >> k = log(n)\n",
    "\n",
    "therefore O(n) = k"
   ]
  },
  {
   "cell_type": "code",
   "execution_count": null,
   "id": "4e16ff03-fc0c-4a6b-8e09-29c6a1e9df17",
   "metadata": {},
   "outputs": [],
   "source": []
  },
  {
   "cell_type": "markdown",
   "id": "393d4c70-5be1-4374-b1e4-908437ac702b",
   "metadata": {},
   "source": [
    "b. T(n) = 2T(n/2) + n"
   ]
  },
  {
   "cell_type": "code",
   "execution_count": null,
   "id": "9aec9a1a-2b68-4cbc-8ec7-ee6188dfe19a",
   "metadata": {},
   "outputs": [],
   "source": []
  }
 ],
 "metadata": {
  "kernelspec": {
   "display_name": "Python 3 (ipykernel)",
   "language": "python",
   "name": "python3"
  },
  "language_info": {
   "codemirror_mode": {
    "name": "ipython",
    "version": 3
   },
   "file_extension": ".py",
   "mimetype": "text/x-python",
   "name": "python",
   "nbconvert_exporter": "python",
   "pygments_lexer": "ipython3",
   "version": "3.10.8"
  }
 },
 "nbformat": 4,
 "nbformat_minor": 5
}

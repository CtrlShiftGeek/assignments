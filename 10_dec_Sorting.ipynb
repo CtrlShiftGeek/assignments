{
 "cells": [
  {
   "cell_type": "markdown",
   "id": "56e76b5f-d13b-4669-9941-8379d548c8cd",
   "metadata": {},
   "source": [
    "Problem 1.Given an array of n numbers, give an algorithm which gives the element appearing maximum\n",
    "number of times?"
   ]
  },
  {
   "cell_type": "code",
   "execution_count": 1,
   "id": "1bbb191c-18b7-4309-b447-56c48dc0d29c",
   "metadata": {},
   "outputs": [],
   "source": [
    "n = [1,2,3,2,1,2,3,4,5,43,2,21,2]"
   ]
  },
  {
   "cell_type": "code",
   "execution_count": 16,
   "id": "755fb35e-45c5-4b64-bc2e-d8fb82a1882d",
   "metadata": {},
   "outputs": [],
   "source": [
    "def count(n):\n",
    "    d = dict()\n",
    "    for val in n :\n",
    "        if val in d:\n",
    "            d[val]+=1\n",
    "        else:\n",
    "            d[val] =1\n",
    "    return d\n",
    "\n",
    "def res(d):\n",
    "    max_count = 0\n",
    "    result = 0\n",
    "    for i in d:\n",
    "        if max_count<d[i]:\n",
    "            max_count = d[i]\n",
    "            result = i\n",
    "    return result"
   ]
  },
  {
   "cell_type": "code",
   "execution_count": 17,
   "id": "882bd2c8-fa79-48bb-aa6c-967053385850",
   "metadata": {},
   "outputs": [],
   "source": [
    "d = count(n)"
   ]
  },
  {
   "cell_type": "code",
   "execution_count": 18,
   "id": "cc0a3071-69e1-4560-b49b-2a0bfff6eff8",
   "metadata": {},
   "outputs": [
    {
     "data": {
      "text/plain": [
       "2"
      ]
     },
     "execution_count": 18,
     "metadata": {},
     "output_type": "execute_result"
    }
   ],
   "source": [
    "res(d)"
   ]
  },
  {
   "cell_type": "markdown",
   "id": "f898e37b-0b51-4798-842d-6735161c5229",
   "metadata": {},
   "source": [
    "Problem 2 : We are given a list of n-1 integers and these integers are in the range of 1 to n . There are no\n",
    "duplicates in the list. One of the integers is missing in the list. Give an algorithm to find that element Ex:\n",
    "[1,2,4,6,3,7,8] 5 is the missing num."
   ]
  },
  {
   "cell_type": "code",
   "execution_count": 37,
   "id": "ac29274e-1958-4daa-a176-e5136255ad66",
   "metadata": {},
   "outputs": [],
   "source": [
    "def find_missing(arr):\n",
    "    n = len(arr)+1\n",
    "    total_sum = int((n*(n+1))/2)\n",
    "    sum_element =0\n",
    "    for val in arr:\n",
    "        sum_element+=val\n",
    "    return total_sum - sum_element"
   ]
  },
  {
   "cell_type": "code",
   "execution_count": 38,
   "id": "26829f09-e1e9-4b4d-aa1f-013437f42d3f",
   "metadata": {},
   "outputs": [],
   "source": [
    "arr = [1,2,4,6,3,7,8] \n"
   ]
  },
  {
   "cell_type": "code",
   "execution_count": 40,
   "id": "b30b416c-2256-4f84-8d31-313031691a7c",
   "metadata": {},
   "outputs": [
    {
     "data": {
      "text/plain": [
       "5"
      ]
     },
     "execution_count": 40,
     "metadata": {},
     "output_type": "execute_result"
    }
   ],
   "source": [
    "find_missing(arr)\n",
    "# O(n) time complexity , iterating and storing the value of sum and using the formula to coutn the final sum\n",
    "# checking the difference to know the missing number\n",
    "# O(1) space complexity"
   ]
  },
  {
   "cell_type": "markdown",
   "id": "d98d7ec9-8380-46fb-959a-e4966d200ab9",
   "metadata": {},
   "source": [
    "Problem 3 : Given an array of n positive numbers. All numbers occurs even number of times except 1 which\n",
    "occurs odd number of times. Find that number in O(n) time and O(1) space. Ex: [1,2,3,2,3,1,3]. 3 is repeats odd\n",
    "times."
   ]
  },
  {
   "cell_type": "code",
   "execution_count": 3,
   "id": "7ad9a0ae-d2e0-4181-91d9-e7cc06926343",
   "metadata": {},
   "outputs": [
    {
     "name": "stdout",
     "output_type": "stream",
     "text": [
      "3\n"
     ]
    }
   ],
   "source": [
    "arr = [1,2,3,2,3,1,3]\n",
    "result = arr[0]\n",
    "\n",
    "for val in arr[1:]:\n",
    "    result = val^result\n",
    "print(result)\n",
    "\n",
    "# using the XOR operator in python, with the propert a^a = 0 and 0^a = a\n",
    "# even terms will cancel out and remaining odd term will left\n",
    "# O(n) time complexity and 0(1) space complexity"
   ]
  },
  {
   "cell_type": "markdown",
   "id": "396f4164-ab1c-40be-90ab-9736e0a52da2",
   "metadata": {},
   "source": [
    "Problem 4 : Given an array of n elements. Find two elements in the array such that their sum is equal to given\n",
    "element K."
   ]
  },
  {
   "cell_type": "code",
   "execution_count": 3,
   "id": "e944948d-2500-4c74-83a8-03345d47df3a",
   "metadata": {},
   "outputs": [
    {
     "data": {
      "text/plain": [
       "'elements pair are [[-1, 6], [1, 4], [2, 3]]'"
      ]
     },
     "execution_count": 3,
     "metadata": {},
     "output_type": "execute_result"
    }
   ],
   "source": [
    "def two_element(arr,target):\n",
    "    l = []\n",
    "    for i in range(len(arr)):\n",
    "        for j in range(i,len(arr)):\n",
    "            if arr[i]+arr[j] == target:\n",
    "                l.append([arr[i],arr[j]])\n",
    "                \n",
    "    if len(l) == 0:\n",
    "        return \"no such element\"\n",
    "    return f\"elements pair are {l}\"\n",
    "\n",
    "arr = [-1,1,2,3,4,5,6,7]\n",
    "k = 5\n",
    "two_element(arr,k)\n",
    "# O(n^2) time complexity. O(1) space complexity , getting all possible solution"
   ]
  },
  {
   "cell_type": "code",
   "execution_count": 20,
   "id": "e498c57d-d907-4445-bd93-30ed13479595",
   "metadata": {},
   "outputs": [],
   "source": [
    "ar1 = sorted(arr)"
   ]
  },
  {
   "cell_type": "code",
   "execution_count": 26,
   "id": "36beb5bb-411f-4f29-aa9d-60ba67d4f5b2",
   "metadata": {},
   "outputs": [],
   "source": [
    "def sum_elements(arr,k):\n",
    "    l = 0\n",
    "    r = len(arr)-1\n",
    "    while l < r:\n",
    "        if arr[l]+arr[r] == k:\n",
    "            return arr[l],arr[r]\n",
    "        elif arr[l]+arr[r] < k:\n",
    "            l+=1\n",
    "        else:\n",
    "            r-=1\n",
    "    return \"no such elements\"\n",
    "            \n",
    "# O(nlog) and O(1) space complexity"
   ]
  },
  {
   "cell_type": "code",
   "execution_count": 27,
   "id": "1ba01f60-279e-4b78-ad29-ad71778c7fbf",
   "metadata": {},
   "outputs": [
    {
     "name": "stdout",
     "output_type": "stream",
     "text": [
      "-1 7\n",
      "-1 6\n"
     ]
    },
    {
     "data": {
      "text/plain": [
       "(-1, 6)"
      ]
     },
     "execution_count": 27,
     "metadata": {},
     "output_type": "execute_result"
    }
   ],
   "source": [
    "sum_elements(ar1,5)"
   ]
  },
  {
   "cell_type": "markdown",
   "id": "1073d1fc-2deb-4797-bcc7-f1b9b127f17e",
   "metadata": {},
   "source": [
    "Problem 5 : Given an array of both positive and negative numbers, find two numbers such that their sum is\n",
    "closest to 0. Ex: [ 1 ,60 ,-10, 70, -80,85]. Ans : -80,85."
   ]
  },
  {
   "cell_type": "code",
   "execution_count": 70,
   "id": "0b54436f-e864-47bd-91bb-3ec2bb794ce3",
   "metadata": {},
   "outputs": [],
   "source": [
    "arr1 = [ 1 ,60 ,-10, 70, -80,85]\n",
    "arr1 = sorted(arr1)"
   ]
  },
  {
   "cell_type": "code",
   "execution_count": 71,
   "id": "55cab76d-1ddb-4c63-8c9a-479b583034da",
   "metadata": {},
   "outputs": [],
   "source": [
    "def close_zero(ar):\n",
    "    i = 0\n",
    "    j = len(ar)-1\n",
    "    count = abs(ar[i]+ar[j])\n",
    "    while i<j:\n",
    "        count = min(count,abs(ar[i]+ar[j]))\n",
    "        if ar[i]+ar[j]<0:\n",
    "            i+=1\n",
    "        else:\n",
    "            j-=1\n",
    "    return count"
   ]
  },
  {
   "cell_type": "code",
   "execution_count": 72,
   "id": "2c26cc70-30c9-4338-aae0-8ad14c024f50",
   "metadata": {},
   "outputs": [
    {
     "data": {
      "text/plain": [
       "5"
      ]
     },
     "execution_count": 72,
     "metadata": {},
     "output_type": "execute_result"
    }
   ],
   "source": [
    "close_zero(arr1)"
   ]
  },
  {
   "cell_type": "markdown",
   "id": "36d2d918-fe1d-49a6-bf4d-e83cc7d38717",
   "metadata": {},
   "source": [
    "Problem 6 : Given an array of n elements . Find three elements such that their sum is equal to the given\n",
    "number."
   ]
  },
  {
   "cell_type": "code",
   "execution_count": 7,
   "id": "5b21f16b-a1c8-4178-b846-7d22384125dd",
   "metadata": {},
   "outputs": [],
   "source": [
    "ar6 = [1,2,3,4,5,6,7]\n"
   ]
  },
  {
   "cell_type": "code",
   "execution_count": 14,
   "id": "6b6dc1a9-73fc-4ec8-89ef-d2516e6a6d90",
   "metadata": {},
   "outputs": [],
   "source": [
    "def sum_three(arr,target):\n",
    "    arr.sort()\n",
    "    \n",
    "    \n",
    "    for i in range(0,len(arr)-1):\n",
    "        l = 1\n",
    "        r = len(arr)-1\n",
    "        while l <r:\n",
    "            if (arr[i]+arr[l]+arr[r] ==target):\n",
    "                return arr[i],arr[l],arr[r]\n",
    "            elif (arr[i]+arr[l]+arr[r] < target):\n",
    "                l+=1\n",
    "            else:\n",
    "                r-=1\n",
    "    return \"no\"\n",
    "\n",
    "# O(n^2) time complexity"
   ]
  },
  {
   "cell_type": "code",
   "execution_count": 15,
   "id": "823b0dbd-86f1-439d-87d6-d7d1af6e2edd",
   "metadata": {},
   "outputs": [
    {
     "data": {
      "text/plain": [
       "(1, 3, 7)"
      ]
     },
     "execution_count": 15,
     "metadata": {},
     "output_type": "execute_result"
    }
   ],
   "source": [
    "sum_three(ar6,11)"
   ]
  },
  {
   "cell_type": "markdown",
   "id": "fc268aa1-a275-42cc-a443-caf3f6b80312",
   "metadata": {},
   "source": [
    "Problem 7 : Given an array of n elements . Find three elements i, j, k in the array such that\n",
    "i * i + j * j = k*k."
   ]
  },
  {
   "cell_type": "code",
   "execution_count": 17,
   "id": "c670e27e-ebfd-4854-b093-d61a6b5b2784",
   "metadata": {},
   "outputs": [],
   "source": [
    "ar7 = [1,2,3,4,5,6,7]"
   ]
  },
  {
   "cell_type": "code",
   "execution_count": 23,
   "id": "18a12029-fc65-4f75-b0e3-838b84aba452",
   "metadata": {},
   "outputs": [],
   "source": [
    "def three_element(arr):\n",
    "    arr.sort()\n",
    "    for k in range(0,len(arr)-1):\n",
    "        l = 0\n",
    "        r = len(arr)-1\n",
    "        while l <r:\n",
    "            if arr[l]**2+arr[r]**2==arr[k]**2:\n",
    "                return l,r,k\n",
    "            elif arr[l]**2+arr[r]**2<arr[k]**2:\n",
    "                l+=1\n",
    "            else:\n",
    "                r-=1\n",
    "    return no\n",
    "\n",
    "# O(n^2) time complexity"
   ]
  },
  {
   "cell_type": "code",
   "execution_count": 24,
   "id": "e042394f-cd50-481b-928b-d953e88bee6e",
   "metadata": {},
   "outputs": [
    {
     "data": {
      "text/plain": [
       "(2, 3, 4)"
      ]
     },
     "execution_count": 24,
     "metadata": {},
     "output_type": "execute_result"
    }
   ],
   "source": [
    "three_element(ar7)"
   ]
  },
  {
   "cell_type": "markdown",
   "id": "4f318808-76dc-4946-9922-5460997e8918",
   "metadata": {},
   "source": [
    "Problem 8 : An element is a majority if it appears more than n/2 times. Give an algorithm takes an array of n\n",
    "element as argument and identifies a majority (if it exists)."
   ]
  },
  {
   "cell_type": "code",
   "execution_count": 55,
   "id": "9bf7172e-e1a3-47e2-9eb3-4b4bac3548e6",
   "metadata": {},
   "outputs": [],
   "source": [
    "ar8 = [1,2,3,4,5,4,1,1,1,1,1,1,1]"
   ]
  },
  {
   "cell_type": "code",
   "execution_count": 58,
   "id": "ea751465-569b-4935-b70a-8459aa07d71b",
   "metadata": {},
   "outputs": [],
   "source": [
    "def count_majority(arr):\n",
    "    d = {}\n",
    "    for val in arr:\n",
    "        if val in d:\n",
    "            d[val]+=1\n",
    "        else:\n",
    "            d[val] = 1\n",
    "            \n",
    "    n = (len(arr)/2)\n",
    "    print(\"n\",n)\n",
    "    \n",
    "    for keys,values in d.items():\n",
    "        # print(values)\n",
    "        if values > n:\n",
    "            print(f\"majority numbers are {keys} with frequency {values}\")\n",
    "    return"
   ]
  },
  {
   "cell_type": "code",
   "execution_count": 59,
   "id": "f897e831-addf-4dc8-ad13-b8ce21a7e218",
   "metadata": {},
   "outputs": [
    {
     "name": "stdout",
     "output_type": "stream",
     "text": [
      "n 6.5\n",
      "majority numbers are 1 with frequency 8\n"
     ]
    }
   ],
   "source": [
    "count_majority(ar8)"
   ]
  },
  {
   "cell_type": "markdown",
   "id": "269746f6-6b10-4aa6-8906-8da9b0b0165c",
   "metadata": {},
   "source": [
    "Problem 9 : Given n × n matrix, and in each row all 1’s are followed by 0’s. Find the row with the maximum\n",
    "number of 0’s."
   ]
  },
  {
   "cell_type": "code",
   "execution_count": 60,
   "id": "6011ceaf-1159-4c64-896b-83cbcb5be031",
   "metadata": {},
   "outputs": [],
   "source": [
    "ar9 = [0,0,0,1,1,0,1,0,1,0,1]"
   ]
  },
  {
   "cell_type": "code",
   "execution_count": 65,
   "id": "e148542a-da50-40cb-b82d-709f7859459e",
   "metadata": {},
   "outputs": [],
   "source": [
    "def count_zero(arr):\n",
    "    l = 0\n",
    "    r = len(arr)-1\n",
    "    count = 0\n",
    "    while l <r:\n",
    "        if arr[l] ==0 or arr[r]==0:\n",
    "            count +=1\n",
    "            if arr[l] ==0 and arr[r]==0:\n",
    "                count+=1\n",
    "        l+=1\n",
    "        r-=1\n",
    "    return count\n",
    "\n",
    "def matrix_count(mat):\n",
    "    sumi = 999999999\n",
    "    min_index = -1\n",
    "    for i in range(len(mat)-1):\n",
    "        sumi = min(sumi,count_zero(mat[i]))\n",
    "        min_index = i\n",
    "    return min_index"
   ]
  },
  {
   "cell_type": "code",
   "execution_count": 66,
   "id": "24bc2743-069e-4a38-8a4a-7b00f8c3ba4d",
   "metadata": {},
   "outputs": [
    {
     "data": {
      "text/plain": [
       "5"
      ]
     },
     "execution_count": 66,
     "metadata": {},
     "output_type": "execute_result"
    }
   ],
   "source": [
    "count_zero(ar9)"
   ]
  },
  {
   "cell_type": "code",
   "execution_count": 67,
   "id": "816360a7-83d0-4110-83db-23aa084c0091",
   "metadata": {},
   "outputs": [],
   "source": [
    "matrix = [[0,1,1,0,1],[1,0,1,0,1],[1,1,1,0,1],[0,0,0,1,1],[0,0,1,0,1]]"
   ]
  },
  {
   "cell_type": "code",
   "execution_count": 68,
   "id": "d0e8f207-4020-47f5-b004-bc7175761207",
   "metadata": {},
   "outputs": [
    {
     "data": {
      "text/plain": [
       "3"
      ]
     },
     "execution_count": 68,
     "metadata": {},
     "output_type": "execute_result"
    }
   ],
   "source": [
    "matrix_count(matrix)"
   ]
  },
  {
   "cell_type": "markdown",
   "id": "cfd9e998-1b35-4cbb-ac22-0c95b20ac54f",
   "metadata": {},
   "source": [
    "Problem 10 : Sort an array of 0’s, 1’s and 2’s [or R’s, G’s and B’s]: Given an array A[] consisting of 0’s, 1’s and\n",
    "2’s, give an algorithm for sorting A[].The algorithm should put all 0’s first, then all 1’s and finally all 2’s at the\n",
    "end. Example Input = {0,1,1,0,1,2,1,2,0,0,0,1}, Output = {0,0,0,0,0,1,1,1,1,1,2,2}"
   ]
  },
  {
   "cell_type": "code",
   "execution_count": 3,
   "id": "11d3a697-2626-4ffb-abf4-ea29b4569155",
   "metadata": {},
   "outputs": [],
   "source": [
    "arr = [0,1,1,0,1,2,1,2,0,0,0,1]"
   ]
  },
  {
   "cell_type": "code",
   "execution_count": 2,
   "id": "d273a9fd-a757-45ce-ae28-be9109f51ae8",
   "metadata": {},
   "outputs": [],
   "source": [
    "def sort_colors(nums):\n",
    "    l = 0\n",
    "    r = len(nums)-1\n",
    "    i = 0\n",
    "    while i <=r:\n",
    "        if nums[i]==0:\n",
    "            nums[i],nums[l]=nums[l],nums[i]\n",
    "            i+=1\n",
    "            l+=1\n",
    "        elif nums[i] == 1:\n",
    "            i+=1\n",
    "        else:\n",
    "            nums[i],nums[r]=nums[r],nums[i]\n",
    "            r-=1\n",
    "    return nums\n",
    "\n",
    "# O(N) time complexity\n",
    "# swapping 0 to the left irrespective of element at the left index\n",
    "# swapping 2 to the right irrespective of element at the right index even if it is 2\n",
    "# no comparison check, only rely"
   ]
  },
  {
   "cell_type": "code",
   "execution_count": 4,
   "id": "2a5642c4-3230-46b9-a3ee-e8d35630d2d8",
   "metadata": {},
   "outputs": [
    {
     "data": {
      "text/plain": [
       "[0, 0, 0, 0, 0, 1, 1, 1, 1, 1, 2, 2]"
      ]
     },
     "execution_count": 4,
     "metadata": {},
     "output_type": "execute_result"
    }
   ],
   "source": [
    "sort_colors(arr)"
   ]
  },
  {
   "cell_type": "code",
   "execution_count": null,
   "id": "6a2c4a55-bac0-473c-b303-9f4b75affffd",
   "metadata": {},
   "outputs": [],
   "source": []
  }
 ],
 "metadata": {
  "kernelspec": {
   "display_name": "Python 3 (ipykernel)",
   "language": "python",
   "name": "python3"
  },
  "language_info": {
   "codemirror_mode": {
    "name": "ipython",
    "version": 3
   },
   "file_extension": ".py",
   "mimetype": "text/x-python",
   "name": "python",
   "nbconvert_exporter": "python",
   "pygments_lexer": "ipython3",
   "version": "3.10.8"
  }
 },
 "nbformat": 4,
 "nbformat_minor": 5
}

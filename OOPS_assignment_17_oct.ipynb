{
 "cells": [
  {
   "cell_type": "markdown",
   "id": "273f6930-5172-4db2-8e99-77d2991b20f6",
   "metadata": {},
   "source": [
    "# Constructor:"
   ]
  },
  {
   "cell_type": "markdown",
   "id": "dd88e482-2ae0-4d20-a554-84371401109f",
   "metadata": {},
   "source": [
    "1. What is a constructor in Python? Explain its purpose and usage."
   ]
  },
  {
   "cell_type": "markdown",
   "id": "6db8f183-b6a0-4dda-9202-fe3d78e0a989",
   "metadata": {},
   "source": [
    "automatically called when an object of a class is created. It is named '__init__' and is used to initialize the attributes of the object"
   ]
  },
  {
   "cell_type": "markdown",
   "id": "ca1175d8-0cd2-4bc8-85bd-1419014bcc1a",
   "metadata": {},
   "source": [
    "2. Differentiate between a parameterless constructor and a parameterized constructor in Python."
   ]
  },
  {
   "cell_type": "markdown",
   "id": "a439d60d-93ee-468f-8863-876cd7f1659a",
   "metadata": {},
   "source": [
    "parameterless constructor - doee not take any parameter when initialise\n",
    "whereas parameterised constructor will be needing initial parameters"
   ]
  },
  {
   "cell_type": "markdown",
   "id": "fd91b354-3a38-48e7-8c3b-cd42875bd40a",
   "metadata": {},
   "source": [
    "3. How do you define a constructor in a Python class? Provide an example."
   ]
  },
  {
   "cell_type": "code",
   "execution_count": 1,
   "id": "437ee025-081a-4f3f-96d7-d35f79e4f9f0",
   "metadata": {},
   "outputs": [],
   "source": [
    "class test:\n",
    "    \n",
    "    def __init__(self,name):\n",
    "        self.name = name\n",
    "        \n",
    "        "
   ]
  },
  {
   "cell_type": "markdown",
   "id": "45c80414-a427-48ac-958a-fcbf9bf00269",
   "metadata": {},
   "source": [
    "4. Explain the `__init__` method in Python and its role in constructors."
   ]
  },
  {
   "cell_type": "markdown",
   "id": "e5156076-9df6-4a48-84f1-299749752bc3",
   "metadata": {},
   "source": [
    "it will initialise if the parameter is needed or not"
   ]
  },
  {
   "cell_type": "markdown",
   "id": "fac38668-54da-4066-9478-d0b0ef902ad4",
   "metadata": {},
   "source": [
    "5. In a class named `Person`, create a constructor that initializes the `name` and `age` attributes. Provide an\n",
    "example of creating an object of this class."
   ]
  },
  {
   "cell_type": "code",
   "execution_count": 2,
   "id": "c91a3483-2515-429f-b30c-b7e7ff2266c3",
   "metadata": {},
   "outputs": [],
   "source": [
    "class person:\n",
    "    \n",
    "    def __init__(self,name,age):\n",
    "        self.name = name\n",
    "        self.age = age"
   ]
  },
  {
   "cell_type": "code",
   "execution_count": 4,
   "id": "341b138a-374b-4598-af93-1a1786d415f1",
   "metadata": {},
   "outputs": [],
   "source": [
    "raj = person(\"raj\",23)"
   ]
  },
  {
   "cell_type": "code",
   "execution_count": 7,
   "id": "4ef22cf8-6c55-4aad-90fe-35cfd0755dea",
   "metadata": {},
   "outputs": [
    {
     "data": {
      "text/plain": [
       "'raj'"
      ]
     },
     "execution_count": 7,
     "metadata": {},
     "output_type": "execute_result"
    }
   ],
   "source": [
    "raj.name\n"
   ]
  },
  {
   "cell_type": "code",
   "execution_count": 8,
   "id": "c6d4e615-bf0c-4bdf-81d2-c638fd5e2678",
   "metadata": {},
   "outputs": [
    {
     "data": {
      "text/plain": [
       "23"
      ]
     },
     "execution_count": 8,
     "metadata": {},
     "output_type": "execute_result"
    }
   ],
   "source": [
    "raj.age"
   ]
  },
  {
   "cell_type": "markdown",
   "id": "342c4e3b-2f88-4682-9bce-8a67674bc35b",
   "metadata": {},
   "source": [
    "6. How can you call a constructor explicitly in Python? Give an example."
   ]
  },
  {
   "cell_type": "code",
   "execution_count": 10,
   "id": "4bd1c3b5-742e-4655-8d40-61ac6b340060",
   "metadata": {},
   "outputs": [],
   "source": [
    "class person:\n",
    "    \n",
    "    def __init__(self,name,age):\n",
    "        self.name = name\n",
    "        self.age = age\n",
    "        \n",
    "    def display_name(self):\n",
    "        print(\"name of person: \",self.name)"
   ]
  },
  {
   "cell_type": "code",
   "execution_count": 11,
   "id": "621db47d-4168-4fe5-9b3b-d20056bbacbc",
   "metadata": {},
   "outputs": [],
   "source": [
    "raj = person(\"raj\",34)"
   ]
  },
  {
   "cell_type": "code",
   "execution_count": 13,
   "id": "f9260778-5896-4371-b29d-d34ac614affb",
   "metadata": {},
   "outputs": [
    {
     "name": "stdout",
     "output_type": "stream",
     "text": [
      "name of person:  raj\n"
     ]
    }
   ],
   "source": [
    "raj.display_name()"
   ]
  },
  {
   "cell_type": "markdown",
   "id": "77ca75ba-0083-4453-8e53-2b5086952654",
   "metadata": {},
   "source": [
    "7. What is the significance of the `self` parameter in Python constructors? Explain with an example."
   ]
  },
  {
   "cell_type": "markdown",
   "id": "d453f33c-f07e-4427-ae9a-83e5b7d5e864",
   "metadata": {},
   "source": [
    "self is a reference to the instance of the class that is being created or operated upon."
   ]
  },
  {
   "cell_type": "markdown",
   "id": "7124d702-b730-4bad-8472-c62fb5cdec41",
   "metadata": {},
   "source": [
    "8. Discuss the concept of default constructors in Python. When are they used?"
   ]
  },
  {
   "cell_type": "code",
   "execution_count": 19,
   "id": "7fcc07d9-bf32-42aa-b667-ebb381076127",
   "metadata": {},
   "outputs": [],
   "source": [
    "class default_constructors:\n",
    "    \n",
    "    def __init__(self):\n",
    "        self.name = \"default name\"\n",
    "        self.age = 32\n",
    "        \n",
    "    def display_name(self):\n",
    "        print(self.name)\n",
    "        print(self.age)\n",
    "        \n",
    "# when no changes in values and it is needed for initalisation we can use default constructors"
   ]
  },
  {
   "cell_type": "code",
   "execution_count": 20,
   "id": "3bb30885-a35e-499e-8339-98652e6d4bc3",
   "metadata": {},
   "outputs": [],
   "source": [
    "test1 = default_constructors()"
   ]
  },
  {
   "cell_type": "code",
   "execution_count": 21,
   "id": "8bff3b01-d017-4b12-b2f4-e1df11d6b2eb",
   "metadata": {},
   "outputs": [
    {
     "name": "stdout",
     "output_type": "stream",
     "text": [
      "default name\n",
      "32\n"
     ]
    }
   ],
   "source": [
    "test1.display_name()"
   ]
  },
  {
   "cell_type": "code",
   "execution_count": 22,
   "id": "f3db8245-fd89-428c-bec1-bd287913535e",
   "metadata": {},
   "outputs": [],
   "source": [
    "test2 = default_constructors()"
   ]
  },
  {
   "cell_type": "code",
   "execution_count": 23,
   "id": "d3481fa7-612c-4237-b7c5-0d0b0f5f7534",
   "metadata": {},
   "outputs": [
    {
     "name": "stdout",
     "output_type": "stream",
     "text": [
      "default name\n",
      "32\n"
     ]
    }
   ],
   "source": [
    "test2.display_name()"
   ]
  },
  {
   "cell_type": "markdown",
   "id": "102dbe31-08df-4c2c-9ebd-fb412f4dde5f",
   "metadata": {},
   "source": [
    "9. Create a Python class called `Rectangle` with a constructor that initializes the `width` and `height`\n",
    "attributes. Provide a method to calculate the area of the rectangle."
   ]
  },
  {
   "cell_type": "code",
   "execution_count": 24,
   "id": "daa3f0ea-ca78-4636-b61a-c8fe4f9e6805",
   "metadata": {},
   "outputs": [],
   "source": [
    "class rectangle:\n",
    "    \n",
    "    def __init__(self,w,h):\n",
    "        self.width = w\n",
    "        self.height = h\n",
    "        \n",
    "    def area(self):\n",
    "        print(\"area of rectangle\")\n",
    "        print(self.width*self.height)\n",
    "        "
   ]
  },
  {
   "cell_type": "code",
   "execution_count": 26,
   "id": "54e52ae7-2567-451c-a37b-bf2865874209",
   "metadata": {},
   "outputs": [],
   "source": [
    "shape = rectangle(4,5)"
   ]
  },
  {
   "cell_type": "code",
   "execution_count": 28,
   "id": "9fc68caf-b252-446f-b265-ff511e1358c8",
   "metadata": {},
   "outputs": [
    {
     "name": "stdout",
     "output_type": "stream",
     "text": [
      "area of rectangle\n",
      "20\n"
     ]
    }
   ],
   "source": [
    "shape.area()"
   ]
  },
  {
   "cell_type": "markdown",
   "id": "a2c6ee27-bc5b-4235-8a96-df66f745d66d",
   "metadata": {},
   "source": [
    "10. How can you have multiple constructors in a Python class? Explain with an example."
   ]
  },
  {
   "cell_type": "code",
   "execution_count": 29,
   "id": "7cd6859b-e207-4195-9bf6-ef45d7a218f4",
   "metadata": {},
   "outputs": [],
   "source": [
    "class Email:\n",
    "    def __init__(self, sender, recipient, subject, message):\n",
    "        self.sender = sender\n",
    "        self.recipient = recipient\n",
    "        self.subject = subject\n",
    "        self.message = message\n",
    "\n",
    "    def send_email(self):\n",
    "        print(f\"Email sent to: {self.recipient}\")\n",
    "        print(f\"Subject: {self.subject}\")\n",
    "        print(f\"Message:\\n{self.message}\\n\")\n",
    "        print(\"Email sent successfully!\")\n",
    "\n",
    "    def display_details(self):\n",
    "        print(f\"Sender: {self.sender}\")\n",
    "        print(f\"Recipient: {self.recipient}\")\n",
    "        print(f\"Subject: {self.subject}\\n\")\n",
    "        print(f\"Message:\\n{self.message}\")"
   ]
  },
  {
   "cell_type": "code",
   "execution_count": 31,
   "id": "a79396a8-3752-4192-af7d-0090f2441832",
   "metadata": {},
   "outputs": [],
   "source": [
    "my_email = Email(\"abc@gmail.com\", \"pwskills@gmail.com\", \"Meeting Tomorrow\", \"hi. meeting tomorrow\")"
   ]
  },
  {
   "cell_type": "code",
   "execution_count": 32,
   "id": "c274c322-147b-4c99-91df-87f7fea74985",
   "metadata": {},
   "outputs": [
    {
     "name": "stdout",
     "output_type": "stream",
     "text": [
      "Email sent to: pwskills@gmail.com\n",
      "Subject: Meeting Tomorrow\n",
      "Message:\n",
      "hi. meeting tomorrow\n",
      "\n",
      "Email sent successfully!\n"
     ]
    }
   ],
   "source": [
    "my_email.send_email()"
   ]
  },
  {
   "cell_type": "markdown",
   "id": "9478a840-36cf-41cf-9668-bcde2c7fd1de",
   "metadata": {},
   "source": [
    "11. What is method overloading, and how is it related to constructors in Python?"
   ]
  },
  {
   "cell_type": "markdown",
   "id": "c3ef59ea-2244-4200-b8d6-6ddf35d46636",
   "metadata": {},
   "source": [
    "method overloading refers to the ability of a class to define multiple methods with the same name but with different parameters or different numbers of parameters.\n",
    "\n",
    "with constructors , it can be initialise the value and can change the value later on\n"
   ]
  },
  {
   "cell_type": "code",
   "execution_count": 42,
   "id": "3583e5bf-4418-4351-8e60-12b25e3db7ed",
   "metadata": {},
   "outputs": [],
   "source": [
    "class Rectangle:\n",
    "    def __init__(self, length, width=0):\n",
    "        self.length = length\n",
    "        self.width = width\n",
    "        \n",
    "    def dimension(self):\n",
    "        print(self.length , self.width)\n",
    "\n"
   ]
  },
  {
   "cell_type": "code",
   "execution_count": 43,
   "id": "cb02a618-26f2-438a-8d11-517b9c4bef51",
   "metadata": {},
   "outputs": [],
   "source": [
    "rect1 = Rectangle(5)\n",
    "rect2 = Rectangle(4, 3)"
   ]
  },
  {
   "cell_type": "code",
   "execution_count": 44,
   "id": "65688f76-47e0-4263-b308-76b7e9b4d47b",
   "metadata": {},
   "outputs": [
    {
     "name": "stdout",
     "output_type": "stream",
     "text": [
      "5 0\n"
     ]
    }
   ],
   "source": [
    "rect1.dimension()"
   ]
  },
  {
   "cell_type": "code",
   "execution_count": 45,
   "id": "47916151-436f-48a6-ae2e-565f6849d0fe",
   "metadata": {},
   "outputs": [
    {
     "name": "stdout",
     "output_type": "stream",
     "text": [
      "4 3\n"
     ]
    }
   ],
   "source": [
    "rect2.dimension()"
   ]
  },
  {
   "cell_type": "markdown",
   "id": "a7f5813f-f727-481f-9ffe-2b66bc4a37e6",
   "metadata": {},
   "source": [
    "12. Explain the use of the `super()` function in Python constructors. Provide an example."
   ]
  },
  {
   "cell_type": "code",
   "execution_count": 48,
   "id": "d0585806-a9fa-4576-b855-1467edd373ad",
   "metadata": {},
   "outputs": [],
   "source": [
    "class parent:\n",
    "    def __init__(self, name):\n",
    "        self.name = name\n",
    "\n",
    "    def display(self):\n",
    "        print(f\"Parent Class: {self.name}\")"
   ]
  },
  {
   "cell_type": "code",
   "execution_count": 50,
   "id": "781d0f0c-dfcd-4124-8bc0-e636e87b8941",
   "metadata": {},
   "outputs": [],
   "source": [
    "class child(parent):\n",
    "    def __init__(self, name, additional_info):\n",
    "        super().__init__(name)\n",
    "        self.additional_info = additional_info\n",
    "    "
   ]
  },
  {
   "cell_type": "markdown",
   "id": "a9c34196-4dca-443d-841b-c22c0ef0b7e3",
   "metadata": {},
   "source": [
    "13. Create a class called `Book` with a constructor that initializes the `title`, `author`, and `published_year`\n",
    "attributes. Provide a method to display book details."
   ]
  },
  {
   "cell_type": "code",
   "execution_count": 52,
   "id": "0ce85c0c-2a25-4e9f-bcbc-414c31377435",
   "metadata": {},
   "outputs": [],
   "source": [
    "class book:\n",
    "    \n",
    "    def __init__(self,title,author,published_year):\n",
    "        self.title = title\n",
    "        self.author = author\n",
    "        self.published_year = published_year\n",
    "        \n",
    "    def display_book_details(self):\n",
    "        print(self.title,self.author,self.published_year)"
   ]
  },
  {
   "cell_type": "code",
   "execution_count": 53,
   "id": "d8705569-add6-47d4-b882-25bea6776c19",
   "metadata": {},
   "outputs": [],
   "source": [
    "ds = book(\"datascience\",\"pws\",\"2020\")"
   ]
  },
  {
   "cell_type": "code",
   "execution_count": 54,
   "id": "996da157-cfd2-489f-8380-398d5ebc1897",
   "metadata": {},
   "outputs": [
    {
     "name": "stdout",
     "output_type": "stream",
     "text": [
      "datascience pws 2020\n"
     ]
    }
   ],
   "source": [
    "ds.display_book_details()"
   ]
  },
  {
   "cell_type": "markdown",
   "id": "e51e03fd-2e2b-4846-839c-e27d34faadaf",
   "metadata": {},
   "source": [
    "14. Discuss the differences between constructors and regular methods in Python classes.    \n",
    "    "
   ]
  },
  {
   "cell_type": "markdown",
   "id": "d99ed7c9-39d9-4901-90d5-943c7fa6a5a8",
   "metadata": {},
   "source": [
    "constructors are special methods used for initializing objects, and they are automatically called when an object is created. Regular methods, on the other hand, are explicitly called by the user of the class to perform specific actions on the object."
   ]
  },
  {
   "cell_type": "markdown",
   "id": "2be2e54f-525e-4967-b6c5-02345a212387",
   "metadata": {},
   "source": [
    "15. Explain the role of the `self` parameter in instance variable initialization within a constructor."
   ]
  },
  {
   "cell_type": "markdown",
   "id": "37661e6f-3b2f-4294-85ed-1f2267354fab",
   "metadata": {},
   "source": [
    "in instance variable initialization ensures that each instance of the class has its own copy of these variables, preventing them from being shared among different instances"
   ]
  },
  {
   "cell_type": "markdown",
   "id": "3387a099-d06f-44db-97b8-2052a89936fa",
   "metadata": {},
   "source": [
    "16. How do you prevent a class from having multiple instances by using constructors in Python? Provide an\n",
    "example."
   ]
  },
  {
   "cell_type": "markdown",
   "id": "03010f4f-fdab-4acd-a7d3-35c2d0ed1bab",
   "metadata": {},
   "source": [
    " The idea is to create a class variable that stores the instance, and if an instance already exists, subsequent attempts to create new instances return the existing instance."
   ]
  },
  {
   "cell_type": "markdown",
   "id": "b98fa414-10d9-42b3-ab2a-721114ccb47e",
   "metadata": {},
   "source": [
    "17. Create a Python class called `Student` with a constructor that takes a list of subjects as a parameter and\n",
    "initializes the `subjects` attribute."
   ]
  },
  {
   "cell_type": "code",
   "execution_count": 1,
   "id": "a28eb98f-df2e-4356-bad6-2f70580fb467",
   "metadata": {},
   "outputs": [],
   "source": [
    "class student:\n",
    "    \n",
    "    def __init__(self,subjects):\n",
    "        self.subjects = subjects\n",
    "        \n"
   ]
  },
  {
   "cell_type": "code",
   "execution_count": 2,
   "id": "d9c070ef-b555-4702-8960-2cb567926d0a",
   "metadata": {},
   "outputs": [],
   "source": [
    "student1 = student(subjects=[\"Math\", \"Physics\", \"History\"])\n"
   ]
  },
  {
   "cell_type": "code",
   "execution_count": 3,
   "id": "7acab635-fc08-4ad1-bebd-bb0262f5505a",
   "metadata": {},
   "outputs": [
    {
     "data": {
      "text/plain": [
       "['Math', 'Physics', 'History']"
      ]
     },
     "execution_count": 3,
     "metadata": {},
     "output_type": "execute_result"
    }
   ],
   "source": [
    "student1.subjects"
   ]
  },
  {
   "cell_type": "markdown",
   "id": "02cc33d2-14dd-44df-9218-41063ea13b67",
   "metadata": {},
   "source": [
    "18. What is the purpose of the `__del__` method in Python classes, and how does it relate to constructors?"
   ]
  },
  {
   "cell_type": "markdown",
   "id": "e67e92bc-b17d-4239-a954-c27efa33f6ca",
   "metadata": {},
   "source": [
    "is a special method that is called when an object is about to be destroyed or deleted. Its primary purpose is to perform any cleanup or finalization actions before the object is removed from memory"
   ]
  },
  {
   "cell_type": "markdown",
   "id": "51abef86-0202-4e0b-b0d1-e902802da8ee",
   "metadata": {},
   "source": [
    "19. Explain the use of constructor chaining in Python. Provide a practical example."
   ]
  },
  {
   "cell_type": "code",
   "execution_count": 4,
   "id": "9b4998d9-955c-4ff0-8d17-805e68590df7",
   "metadata": {},
   "outputs": [],
   "source": [
    "class pwskills:\n",
    "    \n",
    "    def __init__(self,mentor):\n",
    "        self.mentor = mentor\n",
    "        \n",
    "    def mentor_name(self):\n",
    "        print(self.mentor)\n",
    "        \n",
    "class datascience(pwskills):\n",
    "    \n",
    "    def __init__(self, mentor, mail_id):\n",
    "        super().__init__(mentor)\n",
    "        self.mentor_mail_id = mail_id\n",
    "        \n",
    "    def show_info(self):\n",
    "        super().mentor_name\n",
    "        print(self.mentor,self.mentor_mail_id)"
   ]
  },
  {
   "cell_type": "code",
   "execution_count": 5,
   "id": "fcc55d91-e293-43fa-85ee-68d629d1faa2",
   "metadata": {},
   "outputs": [],
   "source": [
    "test = datascience(\"mentor1\",\"mentor@gmail.com\")"
   ]
  },
  {
   "cell_type": "code",
   "execution_count": 9,
   "id": "dd3f7aa7-6ea0-4063-bae8-353715173839",
   "metadata": {},
   "outputs": [
    {
     "name": "stdout",
     "output_type": "stream",
     "text": [
      "mentor1 mentor@gmail.com\n"
     ]
    }
   ],
   "source": [
    "test.show_info()"
   ]
  },
  {
   "cell_type": "markdown",
   "id": "01da8c65-261d-411f-a165-a49ae193485c",
   "metadata": {},
   "source": [
    "20. Create a Python class called `Car` with a default constructor that initializes the `make` and `model`\n",
    "attributes. Provide a method to display car information."
   ]
  },
  {
   "cell_type": "code",
   "execution_count": 11,
   "id": "be86a753-69c1-4ca7-ac64-c32cec4bf1b2",
   "metadata": {},
   "outputs": [],
   "source": [
    "class car:\n",
    "    \n",
    "    def __init__(self,make,model):\n",
    "        self.make = make\n",
    "        self.model = model\n",
    "        \n",
    "    def display_info(self):\n",
    "        print(self.make,self.model)"
   ]
  },
  {
   "cell_type": "markdown",
   "id": "e8c7aecc-b694-4223-be1c-b4d8b994e1c6",
   "metadata": {},
   "source": [
    "# Inheritance:"
   ]
  },
  {
   "cell_type": "markdown",
   "id": "447cedcd-b0ff-4b03-afd7-6dd682525bf5",
   "metadata": {},
   "source": [
    "1. What is inheritance in Python? Explain its significance in object-oriented programming."
   ]
  },
  {
   "cell_type": "markdown",
   "id": "a1f576d6-c931-4e5e-b985-e434bbed5be8",
   "metadata": {},
   "source": [
    "allows a class (subclass or derived class) to inherit attributes and methods from another class (superclass or base class). The subclass can then extend or override the inherited attributes and methods, providing a way to model a relationship between different classes in a hierarchy."
   ]
  },
  {
   "cell_type": "markdown",
   "id": "49608f96-3b0b-48ad-a99c-717b01b7e024",
   "metadata": {},
   "source": [
    "2. Differentiate between single inheritance and multiple inheritance in Python. Provide examples for each."
   ]
  },
  {
   "cell_type": "code",
   "execution_count": 14,
   "id": "b250952b-8071-4132-b60a-cb26f3ad398b",
   "metadata": {},
   "outputs": [],
   "source": [
    "class engine:\n",
    "    def engine_type(self,eng_type):\n",
    "        self.eng_type = eng_type\n",
    "        return \"type of engine is :\"+self.eng_type\n",
    "    \n",
    "class car(engine):\n",
    "    def car_model(self):\n",
    "        return \"car model with engine type\""
   ]
  },
  {
   "cell_type": "code",
   "execution_count": null,
   "id": "568d3f53-c390-4ae3-b03e-c44dee2f61f3",
   "metadata": {},
   "outputs": [],
   "source": [
    "car1 = car()"
   ]
  },
  {
   "cell_type": "code",
   "execution_count": 18,
   "id": "833cd9b2-10c8-4d22-9afa-13d33f23c1ea",
   "metadata": {},
   "outputs": [
    {
     "data": {
      "text/plain": [
       "'car model with engine type'"
      ]
     },
     "execution_count": 18,
     "metadata": {},
     "output_type": "execute_result"
    }
   ],
   "source": [
    "car1.car_model()"
   ]
  },
  {
   "cell_type": "code",
   "execution_count": 19,
   "id": "1b8737b0-383f-434e-89ea-b77ca2a9fb9f",
   "metadata": {},
   "outputs": [
    {
     "data": {
      "text/plain": [
       "'type of engine is :petrol'"
      ]
     },
     "execution_count": 19,
     "metadata": {},
     "output_type": "execute_result"
    }
   ],
   "source": [
    "car1.engine_type(\"petrol\")"
   ]
  },
  {
   "cell_type": "code",
   "execution_count": 27,
   "id": "0e1ab773-1ac9-41d8-b575-68debf05640e",
   "metadata": {},
   "outputs": [],
   "source": [
    "# multiple inheritance\n",
    "\n",
    "class engine1:\n",
    "    \n",
    "    def engine_type(self,eng_type):\n",
    "        self.eng_type = eng_type\n",
    "        return \"type of engine is :\"+self.eng_type\n",
    "    \n",
    "class door:\n",
    "    \n",
    "    def number_of_doors(self,num):\n",
    "        self.door_numbers = num\n",
    "        return f\"number of door: {self.door_numbers}\"\n",
    "    \n",
    "class vehicle(engine1,door):\n",
    "    \n",
    "    def vehicle_type(self):\n",
    "        return \"printing vehicle type\"\n"
   ]
  },
  {
   "cell_type": "code",
   "execution_count": 28,
   "id": "f1510cad-ad40-41ef-ad6a-11f460fc4837",
   "metadata": {},
   "outputs": [],
   "source": [
    "car2 = vehicle()"
   ]
  },
  {
   "cell_type": "code",
   "execution_count": 29,
   "id": "0ad2b0da-8519-4ca6-a187-88fe6c9c101d",
   "metadata": {},
   "outputs": [
    {
     "data": {
      "text/plain": [
       "'printing vehicle type'"
      ]
     },
     "execution_count": 29,
     "metadata": {},
     "output_type": "execute_result"
    }
   ],
   "source": [
    "car2.vehicle_type()"
   ]
  },
  {
   "cell_type": "code",
   "execution_count": 30,
   "id": "57e13a77-0225-4059-b382-3a1315043845",
   "metadata": {},
   "outputs": [
    {
     "data": {
      "text/plain": [
       "'number of door: 4'"
      ]
     },
     "execution_count": 30,
     "metadata": {},
     "output_type": "execute_result"
    }
   ],
   "source": [
    "car2.number_of_doors(4)"
   ]
  },
  {
   "cell_type": "code",
   "execution_count": 31,
   "id": "5bc4c35a-7628-4255-b186-9e16ac734564",
   "metadata": {},
   "outputs": [
    {
     "data": {
      "text/plain": [
       "'type of engine is :petrol'"
      ]
     },
     "execution_count": 31,
     "metadata": {},
     "output_type": "execute_result"
    }
   ],
   "source": [
    "car2.engine_type(\"petrol\")"
   ]
  },
  {
   "cell_type": "markdown",
   "id": "2fa09a12-f238-4080-a6aa-574d423e44d6",
   "metadata": {},
   "source": [
    "3. Create a Python class called `Vehicle` with attributes `color` and `speed`. Then, create a child class called\n",
    "`Car` that inherits from `Vehicle` and adds a `brand` attribute. Provide an example of creating a `Car` object."
   ]
  },
  {
   "cell_type": "code",
   "execution_count": 12,
   "id": "ae77cfa5-ea79-45f6-8f8a-53d52ab13e13",
   "metadata": {},
   "outputs": [],
   "source": [
    "class vehicle:\n",
    "    \n",
    "    def __init__(self,color,speed):\n",
    "        self.color = color\n",
    "        self.speed = speed\n",
    "        \n",
    "    def display_info(self):\n",
    "        return (f\"color is {self.color}, speed is {self.speed}\")\n",
    "        \n",
    "class car(vehicle):\n",
    "    \n",
    "    def __init__(self,color,speed,brand):\n",
    "        super().__init__(color,speed)\n",
    "        self.brand = brand\n",
    "        \n",
    "    def display_info(self):\n",
    "        return (f\"brand {self.brand}, {super().display_info()}\")"
   ]
  },
  {
   "cell_type": "code",
   "execution_count": 13,
   "id": "7ebf6cac-bc4f-4bf6-b7ff-45b6f50baa97",
   "metadata": {},
   "outputs": [],
   "source": [
    "car1 = car(color=\"Blue\", speed=60, brand=\"Toyota\")\n"
   ]
  },
  {
   "cell_type": "code",
   "execution_count": 14,
   "id": "49799ab1-e6d3-47c7-8419-9e1ea760c887",
   "metadata": {},
   "outputs": [
    {
     "data": {
      "text/plain": [
       "'brand Toyota, color is Blue, speed is 60'"
      ]
     },
     "execution_count": 14,
     "metadata": {},
     "output_type": "execute_result"
    }
   ],
   "source": [
    "car1.display_info()"
   ]
  },
  {
   "cell_type": "code",
   "execution_count": 15,
   "id": "3eaadd4b-60ad-4718-918d-2197a91f8765",
   "metadata": {},
   "outputs": [
    {
     "data": {
      "text/plain": [
       "'Toyota'"
      ]
     },
     "execution_count": 15,
     "metadata": {},
     "output_type": "execute_result"
    }
   ],
   "source": [
    "car1.brand"
   ]
  },
  {
   "cell_type": "code",
   "execution_count": 11,
   "id": "ae12e581-cae8-424c-8f8c-40d8c1beb220",
   "metadata": {},
   "outputs": [
    {
     "data": {
      "text/plain": [
       "'brand Toyota, color is Blue, speed is 60'"
      ]
     },
     "execution_count": 11,
     "metadata": {},
     "output_type": "execute_result"
    }
   ],
   "source": [
    "car1.dis()"
   ]
  },
  {
   "cell_type": "markdown",
   "id": "ab1846ae-8b08-41e7-8e9f-ae029a94f290",
   "metadata": {},
   "source": [
    "4. Explain the concept of method overriding in inheritance. Provide a practical example."
   ]
  },
  {
   "cell_type": "markdown",
   "id": "93ea6f76-e5c1-41fe-b30e-e5174bdedc72",
   "metadata": {},
   "source": [
    "refers to the ability of a subclass to provide a specific implementation for a method that is already defined in its superclass. The overridden method in the subclass has the same name, return type, and parameters as the method in the superclass"
   ]
  },
  {
   "cell_type": "code",
   "execution_count": 16,
   "id": "a71a81c7-def3-40fc-ae2e-33608370cc80",
   "metadata": {},
   "outputs": [],
   "source": [
    "class vehicle:\n",
    "    \n",
    "    def door(self):\n",
    "        return \"usual car have 4 doors\"\n",
    "    \n",
    "class ferrari(vehicle):\n",
    "    \n",
    "    def door(self):\n",
    "        return \"ferrari have 2 door\""
   ]
  },
  {
   "cell_type": "code",
   "execution_count": 17,
   "id": "023ba5c2-f11f-49c3-bb5c-a0bee7e175b8",
   "metadata": {},
   "outputs": [],
   "source": [
    "car1 = vehicle()"
   ]
  },
  {
   "cell_type": "code",
   "execution_count": 18,
   "id": "5d8b0d4a-b7b2-42be-8038-066656bef605",
   "metadata": {},
   "outputs": [],
   "source": [
    "car2 = ferrari()"
   ]
  },
  {
   "cell_type": "code",
   "execution_count": 19,
   "id": "334ec717-79c0-4223-8fe0-397b3cb98f97",
   "metadata": {},
   "outputs": [
    {
     "data": {
      "text/plain": [
       "'usual car have 4 doors'"
      ]
     },
     "execution_count": 19,
     "metadata": {},
     "output_type": "execute_result"
    }
   ],
   "source": [
    "car1.door()"
   ]
  },
  {
   "cell_type": "code",
   "execution_count": 20,
   "id": "74a4435c-aaea-447e-be31-376affd5cd97",
   "metadata": {},
   "outputs": [
    {
     "data": {
      "text/plain": [
       "'ferrari have 2 door'"
      ]
     },
     "execution_count": 20,
     "metadata": {},
     "output_type": "execute_result"
    }
   ],
   "source": [
    "car2.door()"
   ]
  },
  {
   "cell_type": "markdown",
   "id": "9b1c0acc-34ff-43e7-9df8-48b7cb4b1abb",
   "metadata": {},
   "source": [
    "5. How can you access the methods and attributes of a parent class from a child class in Python? Give an\n",
    "example."
   ]
  },
  {
   "cell_type": "code",
   "execution_count": 21,
   "id": "d1977d3e-eacb-4fa3-bfff-083ddb3ab541",
   "metadata": {},
   "outputs": [],
   "source": [
    "# same as question 3\n",
    "class vehicle:\n",
    "    \n",
    "    def __init__(self,color,speed):\n",
    "        self.color = color\n",
    "        self.speed = speed\n",
    "        \n",
    "    def display_info(self):\n",
    "        return (f\"color is {self.color}, speed is {self.speed}\")\n",
    "        \n",
    "class car(vehicle):\n",
    "    \n",
    "    def __init__(self,color,speed,brand):\n",
    "        super().__init__(color,speed)\n",
    "        self.brand = brand\n",
    "        \n",
    "    def display_info(self):\n",
    "        return (f\"brand {self.brand}, {super().display_info()}\")"
   ]
  },
  {
   "cell_type": "markdown",
   "id": "bd597974-1407-40e7-b4c5-22f8025c04b4",
   "metadata": {},
   "source": [
    "6. Discuss the use of the `super()` function in Python inheritance. When and why is it used? Provide an\n",
    "example."
   ]
  },
  {
   "cell_type": "code",
   "execution_count": 23,
   "id": "9811cdf2-daa6-42fe-8c1f-4cee354bf405",
   "metadata": {},
   "outputs": [],
   "source": [
    "# same as question 3\n",
    "# use to access methods and attributes of parent class when creating new subclass"
   ]
  },
  {
   "cell_type": "markdown",
   "id": "82d14e0c-4cf8-4d4c-ada6-78dfe178ca6e",
   "metadata": {},
   "source": [
    "7. Create a Python class called `Animal` with a method `speak()`. Then, create child classes `Dog` and `Cat`"
   ]
  },
  {
   "cell_type": "code",
   "execution_count": 24,
   "id": "a3c51fd7-d05f-4b1e-9a62-98cb80ad4866",
   "metadata": {},
   "outputs": [],
   "source": [
    "class animal:\n",
    "    \n",
    "    def __init__(self,name):\n",
    "        self.name = name\n",
    "        \n",
    "    def speak(self):\n",
    "        return \"sound of animal\"\n",
    "    \n",
    "class dog(animal):\n",
    "    \n",
    "    def __init__(self,name,breed):\n",
    "        super().__init__(name)\n",
    "        self.breed = breed\n",
    "        \n",
    "    def speak(self):\n",
    "        return \"sound is bark\"\n",
    "    \n",
    "class cat(animal):\n",
    "    \n",
    "    def __init__(self,name,breed):\n",
    "        super().__init__(name)\n",
    "        self.breed = breed\n",
    "        \n",
    "    def speak(self):\n",
    "        return \"sound is meow meow\""
   ]
  },
  {
   "cell_type": "code",
   "execution_count": 26,
   "id": "bd5ae457-a13b-42ae-a866-5ef023529409",
   "metadata": {},
   "outputs": [],
   "source": [
    "cow = animal(\"jersey\")"
   ]
  },
  {
   "cell_type": "code",
   "execution_count": 27,
   "id": "c0489964-1ac4-4cc9-b803-5d82460997ab",
   "metadata": {},
   "outputs": [
    {
     "data": {
      "text/plain": [
       "'sound of animal'"
      ]
     },
     "execution_count": 27,
     "metadata": {},
     "output_type": "execute_result"
    }
   ],
   "source": [
    "cow.speak()"
   ]
  },
  {
   "cell_type": "code",
   "execution_count": 29,
   "id": "20cbdb9e-2ebf-48bf-9db5-c2112863a380",
   "metadata": {},
   "outputs": [],
   "source": [
    "pet1 = dog(\"max\",\"labrador\")"
   ]
  },
  {
   "cell_type": "code",
   "execution_count": 30,
   "id": "dd207aff-84be-4be2-8866-fda3614b3ae5",
   "metadata": {},
   "outputs": [
    {
     "data": {
      "text/plain": [
       "'sound is bark'"
      ]
     },
     "execution_count": 30,
     "metadata": {},
     "output_type": "execute_result"
    }
   ],
   "source": [
    "pet1.speak()"
   ]
  },
  {
   "cell_type": "code",
   "execution_count": 31,
   "id": "478701b7-d7fd-45d2-9119-e40679952772",
   "metadata": {},
   "outputs": [],
   "source": [
    "pet2 = cat(\"lisa\",\"persian\")"
   ]
  },
  {
   "cell_type": "code",
   "execution_count": 32,
   "id": "abb5f933-6f6d-454c-87f1-b1e8e09b2f6c",
   "metadata": {},
   "outputs": [
    {
     "data": {
      "text/plain": [
       "'sound is meow meow'"
      ]
     },
     "execution_count": 32,
     "metadata": {},
     "output_type": "execute_result"
    }
   ],
   "source": [
    "pet2.speak()"
   ]
  },
  {
   "cell_type": "markdown",
   "id": "a9f21587-a540-45bf-b76a-8fdbc09dc0ef",
   "metadata": {},
   "source": [
    "8. Explain the role of the `isinstance()` function in Python and how it relates to inheritance."
   ]
  },
  {
   "cell_type": "markdown",
   "id": "06d64b54-9a20-45f7-8e68-1c12e53ec78e",
   "metadata": {},
   "source": [
    "The isinstance() function in Python is used to check if an object belongs to a particular class or a tuple of classes. It returns True if the object is an instance of any of the specified classes, and False otherwise."
   ]
  },
  {
   "cell_type": "code",
   "execution_count": 55,
   "id": "5cee9c2d-f831-496d-9fef-d845b75d9cd4",
   "metadata": {},
   "outputs": [],
   "source": [
    "class Animal:\n",
    "    pass\n",
    "\n",
    "class Dog(Animal):\n",
    "    pass\n",
    "\n",
    "class Cat(Animal):\n",
    "    pass\n"
   ]
  },
  {
   "cell_type": "code",
   "execution_count": 56,
   "id": "ead24725-3c1e-4634-8ffd-eda688ae2b2a",
   "metadata": {},
   "outputs": [],
   "source": [
    "pet = Animal()\n",
    "dog_class = Dog()\n",
    "cat_class = Cat()"
   ]
  },
  {
   "cell_type": "code",
   "execution_count": 57,
   "id": "fa4f22ed-e12a-4fa3-b6ef-5afdcbac73c1",
   "metadata": {},
   "outputs": [
    {
     "name": "stdout",
     "output_type": "stream",
     "text": [
      "True\n",
      "True\n",
      "True\n"
     ]
    }
   ],
   "source": [
    "print(isinstance(pet, Animal))  \n",
    "print(isinstance(dog_class, Animal))   \n",
    "print(isinstance(cat_class, Animal)) "
   ]
  },
  {
   "cell_type": "markdown",
   "id": "cb956f27-e324-4c22-8e54-c48962fff742",
   "metadata": {},
   "source": [
    "9. What is the purpose of the `issubclass()` function in Python? Provide an example."
   ]
  },
  {
   "cell_type": "markdown",
   "id": "9002c494-336d-4ebc-9423-08b469149915",
   "metadata": {},
   "source": [
    "The issubclass() function in Python is used to check whether a class is a subclass of another class. It returns True if the first class is a subclass of the second class, and False otherwise."
   ]
  },
  {
   "cell_type": "code",
   "execution_count": 59,
   "id": "94613707-d431-48f7-a8ff-2f67921f597f",
   "metadata": {},
   "outputs": [
    {
     "name": "stdout",
     "output_type": "stream",
     "text": [
      "True\n",
      "True\n",
      "True\n",
      "True\n",
      "False\n"
     ]
    }
   ],
   "source": [
    "class Animal:\n",
    "    pass\n",
    "\n",
    "class Mammal(Animal):\n",
    "    pass\n",
    "\n",
    "class Dog(Mammal):\n",
    "    pass\n",
    "\n",
    "print(issubclass(Mammal, Animal))  \n",
    "print(issubclass(Dog, Animal))   \n",
    "print(issubclass(Dog, Mammal))   \n",
    "\n",
    "print(issubclass(Dog, (Animal, Mammal)))\n",
    "print(issubclass(Animal, (Dog, Mammal))) \n"
   ]
  },
  {
   "cell_type": "markdown",
   "id": "5949e47b-af1d-4556-8968-7a3ade689491",
   "metadata": {},
   "source": [
    "10. Discuss the concept of constructor inheritance in Python. How are constructors inherited in child classes?"
   ]
  },
  {
   "cell_type": "code",
   "execution_count": 60,
   "id": "06030016-e1f8-4662-8b96-d248875b33ff",
   "metadata": {},
   "outputs": [],
   "source": [
    "# same as question 3\n"
   ]
  },
  {
   "cell_type": "markdown",
   "id": "a03c3b19-82b4-4d44-8d07-54159026e38b",
   "metadata": {},
   "source": [
    "11. Create a Python class called `Shape` with a method `area()` that calculates the area of a shape. Then, create child classes `Circle` and `Rectangle` that inherit from `Shape` and implement the `area()` method\n",
    "accordingly. Provide an example."
   ]
  },
  {
   "cell_type": "code",
   "execution_count": 61,
   "id": "3621fec8-22b8-4a31-b013-5dd373e7ece6",
   "metadata": {},
   "outputs": [],
   "source": [
    "class shape:\n",
    "    \n",
    "    def area(self):\n",
    "        print(\"area of shape\")\n",
    "        \n",
    "class circle(shape):\n",
    "    def area(self,r):\n",
    "        super().area()\n",
    "        a = 3.14*r**2\n",
    "        return a\n",
    "    \n",
    "class rectangle(shape):\n",
    "    \n",
    "    def area(self,l,b):\n",
    "        \n",
    "        super().area()\n",
    "        return l*b"
   ]
  },
  {
   "cell_type": "code",
   "execution_count": 62,
   "id": "3e2d25f0-886b-427a-8259-0629a77856a0",
   "metadata": {},
   "outputs": [],
   "source": [
    "s1 = shape()"
   ]
  },
  {
   "cell_type": "code",
   "execution_count": 63,
   "id": "b0136bfd-b060-48fb-ad79-3335458e4c60",
   "metadata": {},
   "outputs": [
    {
     "name": "stdout",
     "output_type": "stream",
     "text": [
      "area of shape\n"
     ]
    }
   ],
   "source": [
    "s1.area()"
   ]
  },
  {
   "cell_type": "code",
   "execution_count": 64,
   "id": "e949fe1f-b9d2-4d29-aef0-9987751def05",
   "metadata": {},
   "outputs": [],
   "source": [
    "s2 = circle()"
   ]
  },
  {
   "cell_type": "code",
   "execution_count": 66,
   "id": "06743ee3-e02f-47f9-943e-3018f2224cae",
   "metadata": {},
   "outputs": [
    {
     "name": "stdout",
     "output_type": "stream",
     "text": [
      "area of shape\n"
     ]
    },
    {
     "data": {
      "text/plain": [
       "12.56"
      ]
     },
     "execution_count": 66,
     "metadata": {},
     "output_type": "execute_result"
    }
   ],
   "source": [
    "s2.area(2)"
   ]
  },
  {
   "cell_type": "code",
   "execution_count": 67,
   "id": "4eceb788-e364-42dd-b771-e12543535471",
   "metadata": {},
   "outputs": [],
   "source": [
    "s3 = rectangle()"
   ]
  },
  {
   "cell_type": "code",
   "execution_count": 69,
   "id": "6b7aa153-8393-44d5-a105-bd073b68028c",
   "metadata": {},
   "outputs": [
    {
     "name": "stdout",
     "output_type": "stream",
     "text": [
      "area of shape\n"
     ]
    },
    {
     "data": {
      "text/plain": [
       "6"
      ]
     },
     "execution_count": 69,
     "metadata": {},
     "output_type": "execute_result"
    }
   ],
   "source": [
    "s3.area(2,3)"
   ]
  },
  {
   "cell_type": "markdown",
   "id": "bf19db2f-9042-4807-b7a5-be0aa88547c0",
   "metadata": {},
   "source": [
    "12. Explain the use of abstract base classes (ABCs) in Python and how they relate to inheritance. Provide an\n",
    "example using the `abc` module."
   ]
  },
  {
   "cell_type": "code",
   "execution_count": 9,
   "id": "d6e9ef25-71ff-4f16-bcd5-740e2af581c4",
   "metadata": {},
   "outputs": [],
   "source": [
    "from abc import ABC, abstractmethod\n",
    "\n",
    "\n",
    "class Shape(ABC):\n",
    "    @abstractmethod\n",
    "    def area(self):\n",
    "        pass\n",
    "\n",
    "    @abstractmethod\n",
    "    def perimeter(self):\n",
    "        pass\n",
    "    \n",
    "    # @abstractmethod\n",
    "    def show(self):\n",
    "        pass\n",
    "\n",
    "class Circle(Shape):\n",
    "    def __init__(self, radius):\n",
    "        self.radius = radius\n",
    "\n",
    "    def area(self):\n",
    "        return 3.14 * self.radius**2\n",
    "\n",
    "    def perimeter(self):\n",
    "        return 2 * 3.14 * self.radius\n",
    "\n",
    "\n",
    "class Square(Shape):\n",
    "    def __init__(self, side):\n",
    "        self.side = side\n",
    "\n",
    "    def area(self):\n",
    "        return self.side**2\n",
    "\n",
    "    def perimeter(self):\n",
    "        return 4 * self.side\n",
    "\n"
   ]
  },
  {
   "cell_type": "code",
   "execution_count": 10,
   "id": "7298f852-34bd-4679-a7e6-c0f1a3bb27cb",
   "metadata": {},
   "outputs": [
    {
     "name": "stdout",
     "output_type": "stream",
     "text": [
      "Circle Area: 78.5\n",
      "Circle Perimeter: 31.400000000000002\n",
      "Square Area: 16\n",
      "Square Perimeter: 16\n"
     ]
    }
   ],
   "source": [
    "# Creating instances of concrete subclasses\n",
    "circle_instance = Circle(radius=5)\n",
    "square_instance = Square(side=4)\n",
    "\n",
    "# Using methods\n",
    "print(f\"Circle Area: {circle_instance.area()}\")\n",
    "print(f\"Circle Perimeter: {circle_instance.perimeter()}\")\n",
    "\n",
    "print(f\"Square Area: {square_instance.area()}\")\n",
    "print(f\"Square Perimeter: {square_instance.perimeter()}\")\n",
    "\n",
    "# Abstract Base Classes provide a way to define common interfaces for a group of related classes \n",
    "# and enforce that concrete subclasses adhere to those interfaces. \n",
    "# This promotes code clarity, consistency, and helps catch errors at an earlier stage of development.\n",
    "\n",
    "# enforces the needed function to be present in subclass"
   ]
  },
  {
   "cell_type": "markdown",
   "id": "8259381b-3fa1-4f67-8ad0-b1a59a7c1c74",
   "metadata": {},
   "source": [
    "13. How can you prevent a child class from modifying certain attributes or methods inherited from a parent\n",
    "class in Python?"
   ]
  },
  {
   "cell_type": "code",
   "execution_count": 11,
   "id": "a633559a-cc4a-4e1e-9b92-ec031b54a8b6",
   "metadata": {},
   "outputs": [],
   "source": [
    "# using private and protected variable"
   ]
  },
  {
   "cell_type": "code",
   "execution_count": 18,
   "id": "643127a3-eca6-42d7-a5e0-cfd75e4c4ebc",
   "metadata": {},
   "outputs": [],
   "source": [
    "class Parent:\n",
    "    def __init__(self):\n",
    "        # A protected attribute (single leading underscore)\n",
    "        self._protected_attribute = \"This can be accessed and modified by subclasses.\"\n",
    "\n",
    "        # A private attribute (double leading underscore)\n",
    "        self.__private_attribute = \"This should not be modified by subclasses.\"\n",
    "\n",
    "    def public_method(self):\n",
    "        print(\"This is a public method.\")\n",
    "\n",
    "    def _protected_method(self):\n",
    "        print(\"This is a protected method.\")\n",
    "\n",
    "    def __private_method(self):\n",
    "        print(\"This is a private method.\")\n",
    "\n",
    "\n"
   ]
  },
  {
   "cell_type": "code",
   "execution_count": 24,
   "id": "3188d98e-15e3-4034-a76d-7f589633693c",
   "metadata": {},
   "outputs": [],
   "source": [
    "class Child(Parent):\n",
    "    def modify_attributes(self):\n",
    "        self._protected_attribute = \"Modified by the child class.\"\n",
    "\n",
    "        # # Attempting to modify the private attribute raises an AttributeError\n",
    "        try:\n",
    "            self.__private_attribute = \"Trying to modify a private attribute.\"\n",
    "        except AttributeError as e:\n",
    "            print(f\"AttributeError: {e}\")\n",
    "\n",
    "    def call_methods(self):\n",
    "        # Calling the public method is allowed\n",
    "        self.public_method()\n",
    "\n",
    "        # Calling the protected method is allowed\n",
    "        self._protected_method()\n",
    "\n",
    "        # # Attempting to call the private method raises an AttributeError\n",
    "        # try:\n",
    "        #     self.__private_method()\n",
    "        # except AttributeError as e:\n",
    "        # print(f\"AttributeError: {}\")\n",
    "\n",
    "# Creating instances\n",
    "parent_instance = Parent()\n",
    "child_instance = Child()"
   ]
  },
  {
   "cell_type": "code",
   "execution_count": 26,
   "id": "a56c6f05-672d-45bc-81cf-d63da64b3b82",
   "metadata": {},
   "outputs": [],
   "source": [
    "child_instance.modify_attributes()"
   ]
  },
  {
   "cell_type": "markdown",
   "id": "aa58f8a9-feb6-43df-a0cc-238a2e0c3e0b",
   "metadata": {},
   "source": [
    "14. Create a Python class called `Employee` with attributes `name` and `salary`. Then, create a child class\n",
    "`Manager` that inherits from `Employee` and adds an attribute `department`. Provide an example."
   ]
  },
  {
   "cell_type": "code",
   "execution_count": 29,
   "id": "66f96a66-43a4-4cf1-9b30-2c57d39136d6",
   "metadata": {},
   "outputs": [],
   "source": [
    "class employee:\n",
    "    \n",
    "    def __init__(self,name,salary):\n",
    "        self.name = name\n",
    "        self.salary = salary"
   ]
  },
  {
   "cell_type": "code",
   "execution_count": 33,
   "id": "1d1b1997-7ed0-4943-a941-c5eae1acbfc6",
   "metadata": {},
   "outputs": [],
   "source": [
    "class manager(employee):\n",
    "    \n",
    "    def __init__(self,name,salary,department):\n",
    "        super().__init__(name,salary)\n",
    "        self.department=department"
   ]
  },
  {
   "cell_type": "code",
   "execution_count": 36,
   "id": "739f9777-2f5e-4ccd-a3f3-34032be8f4ac",
   "metadata": {},
   "outputs": [],
   "source": [
    "manas = manager(\"ram\",1231,\"HR\")"
   ]
  },
  {
   "cell_type": "code",
   "execution_count": 35,
   "id": "a9db6ebc-b975-4602-8f68-9316927d61e8",
   "metadata": {},
   "outputs": [
    {
     "data": {
      "text/plain": [
       "'HR'"
      ]
     },
     "execution_count": 35,
     "metadata": {},
     "output_type": "execute_result"
    }
   ],
   "source": [
    "man.department"
   ]
  },
  {
   "cell_type": "raw",
   "id": "8134e169-b00e-48e0-a3b2-304562091a30",
   "metadata": {},
   "source": []
  },
  {
   "cell_type": "code",
   "execution_count": 38,
   "id": "dafde84c-371a-483c-be8e-61573ff761c7",
   "metadata": {},
   "outputs": [],
   "source": [
    "karim = employee(\"karim\",3232)"
   ]
  },
  {
   "cell_type": "code",
   "execution_count": 39,
   "id": "707c9414-5fcc-499e-b11e-3a42dc65aee3",
   "metadata": {},
   "outputs": [
    {
     "data": {
      "text/plain": [
       "3232"
      ]
     },
     "execution_count": 39,
     "metadata": {},
     "output_type": "execute_result"
    }
   ],
   "source": [
    "karim.salary"
   ]
  },
  {
   "cell_type": "markdown",
   "id": "613fe8c7-05c2-4f15-9248-658930118e58",
   "metadata": {},
   "source": [
    "15. Discuss the concept of method overloading in Python inheritance. How does it differ from method\n",
    "overriding?"
   ]
  },
  {
   "cell_type": "markdown",
   "id": "d312b5da-47ae-4b8b-89d2-eb192faede18",
   "metadata": {},
   "source": [
    "method overloading involves defining multiple methods with the same name in a class (though it's not true overloading in Python), method overriding occurs when a subclass provides a specific implementation for a method already defined in its superclass."
   ]
  },
  {
   "cell_type": "markdown",
   "id": "598cabf5-c811-4ce0-90e3-5d552e8223cf",
   "metadata": {},
   "source": [
    "16. Explain the purpose of the `__init__()` method in Python inheritance and how it is utilized in child classes."
   ]
  },
  {
   "cell_type": "markdown",
   "id": "7dc711f0-01b4-4165-8630-0472985eeffe",
   "metadata": {},
   "source": [
    "is used to initialize attributes in both the parent and child classes in an inheritance hierarchy. By calling the __init__() method of the parent class using super(), the child class ensures that the initialization logic of the parent class is also executed."
   ]
  },
  {
   "cell_type": "markdown",
   "id": "3d98e701-b7f8-40da-b6b6-7001260b967b",
   "metadata": {},
   "source": [
    "17. Create a Python class called `Bird` with a method `fly()`. Then, create child classes `Eagle` and `Sparrow` that inherit from `Bird` and implement the `fly()` method differently. Provide an example of using these\n",
    "classes."
   ]
  },
  {
   "cell_type": "code",
   "execution_count": 1,
   "id": "8077c709-e958-4431-9e42-ed1f59378035",
   "metadata": {},
   "outputs": [],
   "source": [
    "class bird:\n",
    "    \n",
    "    def fly(self):\n",
    "        return \"it can fly\"\n",
    "\n",
    "class eagle(bird):\n",
    "    \n",
    "    def type_bird(self):\n",
    "        return \"Eagle can fly high\"\n",
    "    \n",
    "class sparrow(bird):\n",
    "    \n",
    "    def type_bird(self):\n",
    "        return \"sparrow can fly\""
   ]
  },
  {
   "cell_type": "code",
   "execution_count": 2,
   "id": "57687065-9de9-423c-86c1-fdc685adc550",
   "metadata": {},
   "outputs": [],
   "source": [
    "eag = eagle()"
   ]
  },
  {
   "cell_type": "code",
   "execution_count": 3,
   "id": "0ba2cdbb-c465-4f0a-856e-20d84a176dbf",
   "metadata": {},
   "outputs": [
    {
     "data": {
      "text/plain": [
       "'Eagle can fly high'"
      ]
     },
     "execution_count": 3,
     "metadata": {},
     "output_type": "execute_result"
    }
   ],
   "source": [
    "eag.type_bird()"
   ]
  },
  {
   "cell_type": "code",
   "execution_count": 4,
   "id": "5a0ff227-50ff-4b18-b902-2c79643575dc",
   "metadata": {},
   "outputs": [
    {
     "data": {
      "text/plain": [
       "'it can fly'"
      ]
     },
     "execution_count": 4,
     "metadata": {},
     "output_type": "execute_result"
    }
   ],
   "source": [
    "eag.fly()"
   ]
  },
  {
   "cell_type": "code",
   "execution_count": 5,
   "id": "b5492860-8e6e-429b-a043-a9409b654c08",
   "metadata": {},
   "outputs": [],
   "source": [
    "spa = sparrow()"
   ]
  },
  {
   "cell_type": "code",
   "execution_count": 6,
   "id": "50777b21-1aeb-4953-9cb5-eae69c50d9e5",
   "metadata": {},
   "outputs": [
    {
     "data": {
      "text/plain": [
       "'sparrow can fly'"
      ]
     },
     "execution_count": 6,
     "metadata": {},
     "output_type": "execute_result"
    }
   ],
   "source": [
    "spa.type_bird()"
   ]
  },
  {
   "cell_type": "markdown",
   "id": "c8a3c1b9-e69e-488a-ae2e-1733c3ab2383",
   "metadata": {},
   "source": [
    "18. What is the \"diamond problem\" in multiple inheritance, and how does Python address it?"
   ]
  },
  {
   "cell_type": "markdown",
   "id": "0b372be7-dbb8-4f54-80db-982f22202bf8",
   "metadata": {},
   "source": [
    "A is ancestor class\n",
    "B and C are child of A\n",
    "D having multiple inheritance of B and C\n",
    "\n",
    "that makes it D having same ancestor.\n",
    "\n",
    "If D have overriding method of B and C, it is ambiguous to decide which version to use\n",
    "\n",
    "Python avoids the ambiguity in the diamond problem by providing a clear order in which base classes are considered during method resolution."
   ]
  },
  {
   "cell_type": "markdown",
   "id": "7a06a035-974d-437e-b5da-ddba054d99e4",
   "metadata": {},
   "source": [
    "19. Discuss the concept of \"is-a\" and \"has-a\" relationships in inheritance, and provide examples of each."
   ]
  },
  {
   "cell_type": "markdown",
   "id": "d1442c5a-c7de-4d99-be30-2cc684884a6b",
   "metadata": {},
   "source": [
    "\"Is-A\":\n",
    "Use when one class is a specialized version of another.\n",
    "Implies an inherent relationship between the classes, such as a subtype-supertype relationship.\n",
    "\n",
    "\"Has-A\":\n",
    "Use when one class contains another class as part of its composition.\n",
    "Implies a looser association, and the contained class may be interchangeable or used by multiple classes."
   ]
  },
  {
   "cell_type": "markdown",
   "id": "a6169a13-9a5f-45e4-920f-e0e868cddefb",
   "metadata": {},
   "source": [
    "20. Create a Python class hierarchy for a university system. Start with a base class `Person` and create child\n",
    "classes `Student` and `Professor`, each with their own attributes and methods. Provide an example of using\n",
    "these classes in a university context."
   ]
  },
  {
   "cell_type": "code",
   "execution_count": 9,
   "id": "bf1dcd82-1da8-4ad5-b641-390ce88e54b4",
   "metadata": {},
   "outputs": [],
   "source": [
    "class person:\n",
    "    def __init__(self, name, age):\n",
    "        self.name = name\n",
    "        self.age = age\n",
    "\n",
    "    def display_info(self):\n",
    "        print(f\"Name: {self.name}, Age: {self.age}\")"
   ]
  },
  {
   "cell_type": "code",
   "execution_count": 10,
   "id": "5fadc2db-0679-42fc-a65e-c9c9b20fbe58",
   "metadata": {},
   "outputs": [],
   "source": [
    "class student(person):\n",
    "    \n",
    "    def __init__(self,name,age,student_id):\n",
    "        super().__init__(name, age)\n",
    "        self.student_id = student_id\n",
    "        \n",
    "    def display_info(self):\n",
    "        super().display_info()\n",
    "        print(f\"Student ID: {self.student_id}\")\n",
    "        \n",
    "    "
   ]
  },
  {
   "cell_type": "code",
   "execution_count": 11,
   "id": "0208a230-9a95-4523-9acb-6dbccb2465c0",
   "metadata": {},
   "outputs": [],
   "source": [
    "class professor(person):\n",
    "    \n",
    "    def __init__(self,name,age,teacher_id):\n",
    "        super().__init__(name, age)\n",
    "        self.teacher_id = teacher_id\n",
    "        \n",
    "    def display_info(self):\n",
    "        super().display_info()\n",
    "        print(f\"Teacher ID: {self.teacher_id}\")"
   ]
  },
  {
   "cell_type": "code",
   "execution_count": 13,
   "id": "54a9c1fd-451d-4a1f-8de1-ca80bc129f4a",
   "metadata": {},
   "outputs": [],
   "source": [
    "student1 = student(\"jack\",25,\"12342\")"
   ]
  },
  {
   "cell_type": "code",
   "execution_count": 14,
   "id": "df3a1452-70dc-43a8-ba27-535696d9820a",
   "metadata": {},
   "outputs": [
    {
     "name": "stdout",
     "output_type": "stream",
     "text": [
      "Name: jack, Age: 25\n",
      "Student ID: 12342\n"
     ]
    }
   ],
   "source": [
    "student1.display_info()"
   ]
  },
  {
   "cell_type": "code",
   "execution_count": 15,
   "id": "15d9095b-ca0f-42fb-ada1-6e861914768a",
   "metadata": {},
   "outputs": [],
   "source": [
    "prof = professor(\"pwss\", 45,\"4312\")"
   ]
  },
  {
   "cell_type": "code",
   "execution_count": 16,
   "id": "1021bbc0-c9ed-431f-8132-d57f5cd62dce",
   "metadata": {},
   "outputs": [
    {
     "name": "stdout",
     "output_type": "stream",
     "text": [
      "Name: pwss, Age: 45\n",
      "Teacher ID: 4312\n"
     ]
    }
   ],
   "source": [
    "prof.display_info()"
   ]
  },
  {
   "cell_type": "markdown",
   "id": "378913b3-2f79-4c1f-b854-3709966307ae",
   "metadata": {},
   "source": [
    "# ==============================\n",
    "# Encapsulation:"
   ]
  },
  {
   "cell_type": "markdown",
   "id": "7ca9f1b0-6059-4407-9f96-a83036f76391",
   "metadata": {},
   "source": [
    "1. Explain the concept of encapsulation in Python. What is its role in object-oriented programming?"
   ]
  },
  {
   "cell_type": "markdown",
   "id": "6cb4d3da-753a-4962-9d43-320522e8967c",
   "metadata": {},
   "source": [
    "restricts direct access to some of its components and can prevent the accidental modification of data by using public , protected and private variable"
   ]
  },
  {
   "cell_type": "markdown",
   "id": "f4121c13-a86e-4453-8945-1df8f2e68a67",
   "metadata": {},
   "source": [
    "2. Describe the key principles of encapsulation, including access control and data hiding."
   ]
  },
  {
   "cell_type": "markdown",
   "id": "05234812-d8a0-460f-a561-5b9dcba172cc",
   "metadata": {},
   "source": [
    "Access Control, Data Hiding , Security"
   ]
  },
  {
   "cell_type": "markdown",
   "id": "57d5dd31-730a-4261-b4ce-7b69e85d933a",
   "metadata": {},
   "source": [
    "3. How can you achieve encapsulation in Python classes? Provide an example."
   ]
  },
  {
   "cell_type": "code",
   "execution_count": 5,
   "id": "0c7ac07d-c3e8-4dc1-aced-200c61232d06",
   "metadata": {},
   "outputs": [],
   "source": [
    "class BankAccount:\n",
    "    def __init__(self, balance,password):\n",
    "        self._balance = balance\n",
    "        self.__password = password"
   ]
  },
  {
   "cell_type": "code",
   "execution_count": 6,
   "id": "dfb33709-4661-4e67-8889-95714cec1f30",
   "metadata": {},
   "outputs": [],
   "source": [
    "t1 = BankAccount(1000,1232)"
   ]
  },
  {
   "cell_type": "code",
   "execution_count": 7,
   "id": "8d66e6c6-3522-41ca-b3ae-093c9d4d6c68",
   "metadata": {},
   "outputs": [
    {
     "data": {
      "text/plain": [
       "1000"
      ]
     },
     "execution_count": 7,
     "metadata": {},
     "output_type": "execute_result"
    }
   ],
   "source": [
    "t1._balance"
   ]
  },
  {
   "cell_type": "code",
   "execution_count": 10,
   "id": "2999e6c1-1153-4ce3-aa6b-d727df566fe7",
   "metadata": {},
   "outputs": [
    {
     "data": {
      "text/plain": [
       "1232"
      ]
     },
     "execution_count": 10,
     "metadata": {},
     "output_type": "execute_result"
    }
   ],
   "source": [
    "t1._BankAccount__password"
   ]
  },
  {
   "cell_type": "markdown",
   "id": "eef1ea72-a12e-4cd9-a059-059d5c628e76",
   "metadata": {},
   "source": [
    "4. Discuss the difference between public, private, and protected access modifiers in Python."
   ]
  },
  {
   "cell_type": "markdown",
   "id": "3662dadf-3ae6-4693-a2e5-cc963047e653",
   "metadata": {},
   "source": [
    "Public:\n",
    "Syntax: No symbol is used; members are considered public by default.\n",
    "Members declared as public are accessible from outside the class.\n",
    "They form the interface through which external code interacts with the class.\n",
    "\n",
    "Private:\n",
    "Syntax: Members are prefixed with a double underscore (__)\n",
    "Members declared as private are only accessible within the class. Access from outside the class leads to name mangling to make the name less readable.\n",
    "\n",
    "Protected:\n",
    "Syntax: Members are prefixed with a single underscore (_).\n",
    "Members declared as protected are accessible within the class and its subclasses. It's more of a convention than a strict enforcement in Python."
   ]
  },
  {
   "cell_type": "markdown",
   "id": "062c5a5c-e594-4522-ab04-8c5d46877753",
   "metadata": {},
   "source": [
    "5. Create a Python class called `Person` with a private attribute `__name`. Provide methods to get and set the\n",
    "name attribute."
   ]
  },
  {
   "cell_type": "code",
   "execution_count": 12,
   "id": "34562b2d-5d77-481d-92cf-c0e315b2a2d1",
   "metadata": {},
   "outputs": [],
   "source": [
    "class person:\n",
    "    \n",
    "    def __init__(self):\n",
    "        self.__name = \"raju\"\n",
    "        \n",
    "    def get_name(self):\n",
    "        return self.__name"
   ]
  },
  {
   "cell_type": "code",
   "execution_count": 13,
   "id": "986bf2cd-bde4-4c47-88a8-6669b1b9bf0f",
   "metadata": {},
   "outputs": [],
   "source": [
    "test = person()"
   ]
  },
  {
   "cell_type": "code",
   "execution_count": 15,
   "id": "13ede2bf-71d3-4a1d-9521-993748380972",
   "metadata": {},
   "outputs": [
    {
     "data": {
      "text/plain": [
       "'raju'"
      ]
     },
     "execution_count": 15,
     "metadata": {},
     "output_type": "execute_result"
    }
   ],
   "source": [
    "test.get_name()"
   ]
  },
  {
   "cell_type": "markdown",
   "id": "c966f74d-8767-4606-91cb-67b56afa8862",
   "metadata": {},
   "source": [
    "6. Explain the purpose of getter and setter methods in encapsulation. Provide examples."
   ]
  },
  {
   "cell_type": "markdown",
   "id": "af5cfe1b-d0c5-46d0-bea6-125d53ba64ea",
   "metadata": {},
   "source": [
    "Getter and setter methods are used in encapsulation to provide controlled access to the private attributes of a class. These methods allow external code to retrieve (get) and modify (set) the values of private attributes in a controlled and consistent manner. "
   ]
  },
  {
   "cell_type": "code",
   "execution_count": 16,
   "id": "ef09be40-65ef-478a-9721-5fc7f59ecc30",
   "metadata": {},
   "outputs": [],
   "source": [
    "class person:\n",
    "    \n",
    "    def __init__(self):\n",
    "        self.__name = \"raju\"\n",
    "        \n",
    "    def get_name(self):\n",
    "        return self.__name\n",
    "    \n",
    "    def set_name(self,new_name):\n",
    "        self.__name = new_name\n",
    "        print(\"name change successfully\")"
   ]
  },
  {
   "cell_type": "code",
   "execution_count": 17,
   "id": "d36f0fb8-a4d1-4812-bb80-f8540f0e3ec3",
   "metadata": {},
   "outputs": [],
   "source": [
    "titu = person()"
   ]
  },
  {
   "cell_type": "code",
   "execution_count": 18,
   "id": "adc42c82-7845-4da0-a2b5-be1a2c2fe1d6",
   "metadata": {},
   "outputs": [
    {
     "data": {
      "text/plain": [
       "'raju'"
      ]
     },
     "execution_count": 18,
     "metadata": {},
     "output_type": "execute_result"
    }
   ],
   "source": [
    "titu.get_name()"
   ]
  },
  {
   "cell_type": "code",
   "execution_count": 19,
   "id": "a101e7d0-6aa5-4ae8-bd02-484e98b066b3",
   "metadata": {},
   "outputs": [
    {
     "name": "stdout",
     "output_type": "stream",
     "text": [
      "name change successfully\n"
     ]
    }
   ],
   "source": [
    "titu.set_name(\"titu\")"
   ]
  },
  {
   "cell_type": "code",
   "execution_count": 20,
   "id": "0a257230-cd1a-4d01-bdf8-8693854e55d0",
   "metadata": {},
   "outputs": [
    {
     "data": {
      "text/plain": [
       "'titu'"
      ]
     },
     "execution_count": 20,
     "metadata": {},
     "output_type": "execute_result"
    }
   ],
   "source": [
    "titu.get_name()"
   ]
  },
  {
   "cell_type": "markdown",
   "id": "815645b3-1819-4a48-8191-15f2dd8d5e32",
   "metadata": {},
   "source": [
    "7. What is name mangling in Python, and how does it affect encapsulation?"
   ]
  },
  {
   "cell_type": "markdown",
   "id": "ae8de34c-fd63-48e2-bdc8-a9d33349abcd",
   "metadata": {},
   "source": [
    "Name mangling is a mechanism used in Python to make the names of attributes in a class more difficult to access from outside the class. This is done by adding a prefix to the name of the attribute. The purpose of name mangling is to minimize the risk of naming conflicts in subclasses and to enhance encapsulation"
   ]
  },
  {
   "cell_type": "markdown",
   "id": "b18b8f67-1e78-4d82-899e-605e25324eb4",
   "metadata": {},
   "source": [
    "8. Create a Python class called `BankAccount` with private attributes for the account balance (`__balance`) and account number . provide method for depositing and withdrawing money"
   ]
  },
  {
   "cell_type": "code",
   "execution_count": 20,
   "id": "9e1c1491-221a-49f2-9acf-2d4b6b71b2d2",
   "metadata": {},
   "outputs": [],
   "source": [
    "class BankAccount:\n",
    "    \n",
    "    def __init__(self,balance,account_number):\n",
    "        self.__balance = balance\n",
    "        self.__account_number = account_number\n",
    "        \n",
    "    def deposite(self,amount,pwd):\n",
    "        if pwd == \"mypassword\":\n",
    "            self.__balance+=amount\n",
    "            print(f\"deposite successfully ,updated balance{self.__balance}\")\n",
    "        else:\n",
    "            print(\"incorrect password\")\n",
    "        \n",
    "    def withdraw(self,amount,acc_num):\n",
    "        if acc_num == self.__account_number:\n",
    "            if amount <=self.__balance:\n",
    "                self.__balance-=amount\n",
    "                print(f\"withdraw successfully ,updated balance {self.__balance}\")\n",
    "            else:\n",
    "                print(\"amount exceeds\")\n",
    "        else:\n",
    "            print(\"enter correct account number\")"
   ]
  },
  {
   "cell_type": "code",
   "execution_count": 21,
   "id": "8c65a3f6-199b-40e9-9442-cabf95b64e7c",
   "metadata": {},
   "outputs": [],
   "source": [
    "pws = BankAccount(10000,1234)"
   ]
  },
  {
   "cell_type": "code",
   "execution_count": 22,
   "id": "03e6622c-5c8e-426a-9256-6cc85c473c6c",
   "metadata": {},
   "outputs": [
    {
     "name": "stdout",
     "output_type": "stream",
     "text": [
      "deposite successfully ,updated balance10100\n"
     ]
    }
   ],
   "source": [
    "pws.deposite(100,\"mypassword\")"
   ]
  },
  {
   "cell_type": "code",
   "execution_count": 23,
   "id": "d10d7f63-ee80-4151-8bdf-c6a480257f7c",
   "metadata": {},
   "outputs": [
    {
     "data": {
      "text/plain": [
       "10100"
      ]
     },
     "execution_count": 23,
     "metadata": {},
     "output_type": "execute_result"
    }
   ],
   "source": [
    "pws._BankAccount__balance"
   ]
  },
  {
   "cell_type": "code",
   "execution_count": 28,
   "id": "9b2808fe-c015-4783-9ca4-3b354d762899",
   "metadata": {},
   "outputs": [
    {
     "name": "stdout",
     "output_type": "stream",
     "text": [
      "withdraw successfully ,updated balance 8900\n"
     ]
    }
   ],
   "source": [
    "pws.withdraw(100,1234)"
   ]
  },
  {
   "cell_type": "markdown",
   "id": "e08cd719-2e22-41c6-98f9-f8e6ab5cebbc",
   "metadata": {},
   "source": [
    "9. Discuss the advantages of encapsulation in terms of code maintainability and security."
   ]
  },
  {
   "cell_type": "markdown",
   "id": "d2187439-c929-48b9-b70b-28fa5796e6fd",
   "metadata": {},
   "source": [
    "Encapsulation encourages a clean and organized structure.\n",
    "Encapsulation protects the internal state of an object by making attributes private or protected. This prevents direct access to the data from outside the class, reducing the risk of unintended modifications\n"
   ]
  },
  {
   "cell_type": "markdown",
   "id": "b840fd1e-a1f2-489b-894b-ca5eeac9ccdb",
   "metadata": {},
   "source": [
    "10. How can you access private attributes in Python? Provide an example demonstrating the use of name\n",
    "mangling."
   ]
  },
  {
   "cell_type": "code",
   "execution_count": 29,
   "id": "cb608d9c-af91-448c-af2f-275a5e9855e7",
   "metadata": {},
   "outputs": [],
   "source": [
    "class person:\n",
    "    \n",
    "    def __init__(self):\n",
    "        self.__name = \"raju\"\n",
    "        \n",
    "    def get_name(self):\n",
    "        return self.__name"
   ]
  },
  {
   "cell_type": "code",
   "execution_count": 32,
   "id": "1ed3198d-e476-4328-8f8b-a3a8f882ee12",
   "metadata": {},
   "outputs": [],
   "source": [
    "raj = person()\n",
    "# by using name of class and then the private variable name"
   ]
  },
  {
   "cell_type": "code",
   "execution_count": 31,
   "id": "328d27bb-8b5d-4b1c-a2db-45e4330b746b",
   "metadata": {},
   "outputs": [
    {
     "data": {
      "text/plain": [
       "'raju'"
      ]
     },
     "execution_count": 31,
     "metadata": {},
     "output_type": "execute_result"
    }
   ],
   "source": [
    "raj._person__name"
   ]
  },
  {
   "cell_type": "markdown",
   "id": "cf146b8f-8304-4fb7-a2ff-63fcb6b2466a",
   "metadata": {},
   "source": [
    "11. Create a Python class hierarchy for a school system, including classes for students, teachers, and courses,\n",
    "and implement encapsulation principles to protect sensitive information."
   ]
  },
  {
   "cell_type": "code",
   "execution_count": 44,
   "id": "58d20dc4-5e7f-401d-a0c3-87e6420d95f1",
   "metadata": {},
   "outputs": [],
   "source": [
    "class Person:\n",
    "    def __init__(self, name, age):\n",
    "        self._name = name\n",
    "        self._age = age\n",
    "\n",
    "    def get_name(self):\n",
    "        return self._name\n",
    "\n",
    "    def get_age(self):\n",
    "        return self._age\n",
    "\n",
    "\n",
    "class Student(Person):\n",
    "    def __init__(self, name, age, student_id):\n",
    "        super().__init__(name, age)\n",
    "        self._student_id = student_id\n",
    "\n",
    "    def get_student_id(self):\n",
    "        return self._student_id\n",
    "\n",
    "\n",
    "\n",
    "class Teacher(Person):\n",
    "    def __init__(self, name, age, employee_id):\n",
    "        super().__init__(name, age)\n",
    "        self._employee_id = employee_id\n",
    "\n",
    "    def get_employee_id(self):\n",
    "        return self._employee_id\n",
    "\n",
    "\n",
    "class Course:\n",
    "    def __init__(self, course_name, course_code):\n",
    "        self._course_name = course_name\n",
    "        self._course_code = course_code\n",
    "\n",
    "    def get_course_name(self):\n",
    "        return self._course_name\n",
    "\n",
    "    def get_course_code(self):\n",
    "        return self._course_code\n",
    "\n"
   ]
  },
  {
   "cell_type": "code",
   "execution_count": 46,
   "id": "c9a68406-60e4-47e1-832f-80720d1f956e",
   "metadata": {},
   "outputs": [],
   "source": [
    "student1 = Student(name=\"Alice\", age=18, student_id=\"S123\")\n",
    "teacher1 = Teacher(name=\"Mr. Smith\", age=35, employee_id=\"T567\")\n",
    "math_course = Course(course_name=\"Mathematics\", course_code=\"M101\")"
   ]
  },
  {
   "cell_type": "code",
   "execution_count": 47,
   "id": "6fbc147f-4e88-4daf-bdfd-94215804dc3e",
   "metadata": {},
   "outputs": [
    {
     "name": "stdout",
     "output_type": "stream",
     "text": [
      "Alice (ID: S123)\n",
      "Mr. Smith (ID: T567)\n"
     ]
    }
   ],
   "source": [
    "print(f\"{student1.get_name()} (ID: {student1.get_student_id()})\")\n",
    "print(f\"{teacher1.get_name()} (ID: {teacher1.get_employee_id()})\")"
   ]
  },
  {
   "cell_type": "markdown",
   "id": "cdd9cf11-972c-4dfb-80d1-cc69bf7f652a",
   "metadata": {},
   "source": [
    "12. Explain the concept of property decorators in Python and how they relate to encapsulation."
   ]
  },
  {
   "cell_type": "markdown",
   "id": "2d755637-b619-4af9-ba89-c1b3875a8fea",
   "metadata": {},
   "source": [
    "In Python, the property decorator is a special built-in feature that allows you to define getter, setter, and deleter methods for class attributes. It provides a convenient way to implement encapsulation by allowing controlled access and modification of attributes. Using property decorators, you can expose an attribute in a class while still controlling how it is accessed or modified"
   ]
  },
  {
   "cell_type": "markdown",
   "id": "a8f23a77-f32f-495a-bbe0-8710912409bb",
   "metadata": {},
   "source": [
    "13. What is data hiding, and why is it important in encapsulation? Provide examples."
   ]
  },
  {
   "cell_type": "markdown",
   "id": "207abda6-6092-46ff-93fd-519140a0c23b",
   "metadata": {},
   "source": [
    "refers to the practice of restricting access to certain details of an object and only exposing what is necessary\n",
    "prevent unauthorized access and modification of its state. This enhances the security of the application\n",
    "simplifying the usage of the class and promoting a clean interface.\n",
    "This makes the codebase easier to maintain and less prone to errors.\n"
   ]
  },
  {
   "cell_type": "code",
   "execution_count": 1,
   "id": "5f03fb4d-a5d2-4718-9250-fc8efb2cef3e",
   "metadata": {},
   "outputs": [],
   "source": [
    "class BankAccount:\n",
    "    def __init__(self, account_number, balance):\n",
    "        self.__account_number = account_number  \n",
    "        self.__balance = balance  \n",
    "        \n",
    "    def get_balance(self):\n",
    "        return self.__balance\n",
    "\n",
    "    def deposit(self, amount):\n",
    "        self.__balance += amount\n",
    "\n",
    "    def withdraw(self, amount):\n",
    "        self.__balance -= amount\n"
   ]
  },
  {
   "cell_type": "code",
   "execution_count": 3,
   "id": "981e4c40-4982-45b1-8ea3-552d88e3c9e3",
   "metadata": {},
   "outputs": [],
   "source": [
    "hdfc = BankAccount(123,9999)"
   ]
  },
  {
   "cell_type": "code",
   "execution_count": 4,
   "id": "41990ef1-8ea7-4a60-b6a0-6d2b5ce8c5a3",
   "metadata": {},
   "outputs": [
    {
     "data": {
      "text/plain": [
       "9999"
      ]
     },
     "execution_count": 4,
     "metadata": {},
     "output_type": "execute_result"
    }
   ],
   "source": [
    "hdfc.get_balance()"
   ]
  },
  {
   "cell_type": "markdown",
   "id": "95278457-f488-4476-b50b-00d063e39582",
   "metadata": {},
   "source": [
    "14. Create a Python class called `Employee` with private attributes for salary and employee id, provide method to calculate yearly bonuses\n"
   ]
  },
  {
   "cell_type": "code",
   "execution_count": 13,
   "id": "f6f9d4ca-d3d3-4fdb-9635-794b1a339f73",
   "metadata": {},
   "outputs": [],
   "source": [
    "class employee:\n",
    "    \n",
    "    def __init__(self,salary,emp_id):\n",
    "        self.__salary = salary\n",
    "        self.__employee_id = emp_id\n",
    "        \n",
    "    def yearly_bonus(self):\n",
    "        self.__salary = self.__salary*1.2\n",
    "        print(f\"giving annual 20% hike with updated salary {self.__salary}\")\n",
    "        \n",
    "        "
   ]
  },
  {
   "cell_type": "code",
   "execution_count": 14,
   "id": "ce667ce1-c767-4858-8293-a88cc448324f",
   "metadata": {},
   "outputs": [],
   "source": [
    "raj = employee(10000,4343)"
   ]
  },
  {
   "cell_type": "code",
   "execution_count": 15,
   "id": "bca8a181-67d9-4136-80dc-148ecb52ba4c",
   "metadata": {},
   "outputs": [
    {
     "name": "stdout",
     "output_type": "stream",
     "text": [
      "giving annual 20% hike with updated salary 12000.0\n"
     ]
    }
   ],
   "source": [
    "raj.yearly_bonus()"
   ]
  },
  {
   "cell_type": "markdown",
   "id": "6c54f93c-d689-4e3a-af4e-49a198939203",
   "metadata": {},
   "source": [
    "15. Discuss the use of accessors and mutators in encapsulation. How do they help maintain control over\n",
    "attribute access?"
   ]
  },
  {
   "cell_type": "code",
   "execution_count": 16,
   "id": "336c56cc-b75c-43e5-91ee-191c9e6a245b",
   "metadata": {},
   "outputs": [],
   "source": [
    "# They provide controlled access to the attributes of a class, allowing for a more secure and flexible design.\n",
    "# Accessors are methods used to retrieve the values of private attributes.\n",
    "# Mutators are methods used to modify the values of private attributes."
   ]
  },
  {
   "cell_type": "markdown",
   "id": "7d99ae51-2eaf-4bb0-b59f-95e9c887ff93",
   "metadata": {},
   "source": [
    "16. What are the potential drawbacks or disadvantages of using encapsulation in Python?"
   ]
  },
  {
   "cell_type": "markdown",
   "id": "d681f0b9-e4c1-4775-b6d2-1cc23bfc3566",
   "metadata": {},
   "source": [
    "1. involves writing getter and setter methods for each attribute, which can lead to increased code verbosity. large code base\n",
    "2. in some situations, a more flexible approach may be needed, allowing attributes to be accessed and modified more freely.\n",
    "3. This could lead to a lack of transparency, especially for those who are not familiar with the internal workings of the class.\n",
    "4.  if a class has private methods that are not directly accessible for testing, it may require more complex testing strategies."
   ]
  },
  {
   "cell_type": "markdown",
   "id": "9ea37740-2b64-49c5-90f3-97c609f2ffe5",
   "metadata": {},
   "source": [
    "17. Create a Python class for a library system that encapsulates book information, including titles, authors,\n",
    "and availability status."
   ]
  },
  {
   "cell_type": "code",
   "execution_count": 19,
   "id": "bc36d4ca-88bb-4a33-a6c0-5d6256ffcc9a",
   "metadata": {},
   "outputs": [],
   "source": [
    "class library:\n",
    "    \n",
    "    def __init__(self,title,author,availablity):\n",
    "        # self.__book = book\n",
    "        self.__title = title\n",
    "        self.__author = author\n",
    "        self.__avilability = availablity\n",
    "        \n",
    "    def avaialablity_status(self):\n",
    "        print(self.__avilability)\n",
    "        \n",
    "    def show_info(self):\n",
    "        print (self.__title ,self.__author)\n",
    "            "
   ]
  },
  {
   "cell_type": "code",
   "execution_count": 21,
   "id": "0a87c2de-6f8d-4a17-9943-c427ff30ce3f",
   "metadata": {},
   "outputs": [],
   "source": [
    "book1 = library(\"The Great Gatsby\", \"F. Scott Fitzgerald\",True)"
   ]
  },
  {
   "cell_type": "code",
   "execution_count": 23,
   "id": "ff2eedf8-eca2-40e9-b4ab-b0c6bbc06dd0",
   "metadata": {},
   "outputs": [
    {
     "name": "stdout",
     "output_type": "stream",
     "text": [
      "True\n"
     ]
    }
   ],
   "source": [
    "book1.avaialablity_status()"
   ]
  },
  {
   "cell_type": "code",
   "execution_count": 24,
   "id": "10409f80-055f-4059-b8ed-c491ec7ab6c6",
   "metadata": {},
   "outputs": [
    {
     "name": "stdout",
     "output_type": "stream",
     "text": [
      "The Great Gatsby F. Scott Fitzgerald\n"
     ]
    }
   ],
   "source": [
    "book1.show_info()"
   ]
  },
  {
   "cell_type": "markdown",
   "id": "4d8278c8-6c02-44fd-85bb-fa8bd6784c8a",
   "metadata": {},
   "source": [
    "18. Explain how encapsulation enhances code reusability and modularity in Python programs."
   ]
  },
  {
   "cell_type": "code",
   "execution_count": 25,
   "id": "e0d6d0c1-9f52-4a22-a042-909005435575",
   "metadata": {},
   "outputs": [],
   "source": [
    "# promoting a clean separation of concerns, reducing dependencies, and providing well-defined interface"
   ]
  },
  {
   "cell_type": "markdown",
   "id": "f474c89c-594b-48f0-80a8-a740b4b7d5d9",
   "metadata": {},
   "source": [
    "19. Describe the concept of information hiding in encapsulation. Why is it essential in software development?"
   ]
  },
  {
   "cell_type": "code",
   "execution_count": 26,
   "id": "97859d8f-4a2c-437a-b22d-8c9e59c28496",
   "metadata": {},
   "outputs": [],
   "source": [
    "# nvolves concealing the implementation details of a class or module and exposing only what is necessary for its intended use. The primary goal is to limit the visibility of certain aspects of a class, such as its internal state or methods, from the external world\n"
   ]
  },
  {
   "cell_type": "markdown",
   "id": "ae88dc44-3d4d-4b23-b22f-6659ae72bf35",
   "metadata": {},
   "source": [
    "20. Create a Python class called `Customer` with private attributes for customer details like name, address,\n",
    "and contact information. Implement encapsulation to ensure data integrity and security."
   ]
  },
  {
   "cell_type": "code",
   "execution_count": 40,
   "id": "4c23feb4-8341-45b6-a4f9-2085b5e0d6bf",
   "metadata": {},
   "outputs": [],
   "source": [
    "class customer:\n",
    "    \n",
    "    def __init__(self,name,address,contact):\n",
    "        self.__name = name\n",
    "        self.__address = address\n",
    "        self.__contact = contact\n",
    "        \n",
    "    def get_name(self):\n",
    "        return self.__name\n",
    "\n",
    "    def get_address(self):\n",
    "        return self.__address\n",
    "\n",
    "    def get_contact_info(self):\n",
    "        return self.__contact\n",
    "    \n",
    "    def set_name(self, new_name):\n",
    "        self.__name = new_name\n",
    "\n",
    "    def set_address(self, new_address):\n",
    "        self.__address = new_address\n",
    "\n",
    "    def set_contact_info(self, new_contact):\n",
    "        self.__contact = new_contact\n",
    "        \n",
    "    def display_customer_info(self):\n",
    "        print(f\"Customer Information:\")\n",
    "        print(f\"Name: {self.__name}\")\n",
    "        print(f\"Address: {self.__address}\")\n",
    "        print(f\"Contact Information: {self.__contact}\")"
   ]
  },
  {
   "cell_type": "code",
   "execution_count": 41,
   "id": "b90cdf4a-339e-4638-b080-3beae168d651",
   "metadata": {},
   "outputs": [],
   "source": [
    "customer1 = customer(\"John\", \"123 pwskills\", \"pwskills@email.com | +91 91232 23212\")"
   ]
  },
  {
   "cell_type": "code",
   "execution_count": 42,
   "id": "8a8b30df-480e-409b-aa67-6f9387cd5f1e",
   "metadata": {},
   "outputs": [
    {
     "name": "stdout",
     "output_type": "stream",
     "text": [
      "Customer Information:\n",
      "Name: John\n",
      "Address: 123 pwskills\n",
      "Contact Information: pwskills@email.com | +91 91232 23212\n"
     ]
    }
   ],
   "source": [
    "customer1.display_customer_info()"
   ]
  },
  {
   "cell_type": "markdown",
   "id": "f40ed610-3709-4777-ac81-9a7dacf629ae",
   "metadata": {},
   "source": [
    "# ================================\n",
    "# Polymorphism:"
   ]
  },
  {
   "cell_type": "markdown",
   "id": "80804921-a05d-42f0-a2d3-94ca904edad3",
   "metadata": {},
   "source": [
    "1. What is polymorphism in Python? Explain how it is related to object-oriented programming."
   ]
  },
  {
   "cell_type": "markdown",
   "id": "9e565030-79d8-4654-a7b5-8839e2cce336",
   "metadata": {},
   "source": [
    "that allows objects of different classes to be treated as objects of a common base class. "
   ]
  },
  {
   "cell_type": "code",
   "execution_count": 43,
   "id": "b84552ed-16ab-4c9c-a6f9-36a8e9407d8b",
   "metadata": {},
   "outputs": [
    {
     "name": "stdout",
     "output_type": "stream",
     "text": [
      "Woof!\n",
      "Meow!\n"
     ]
    }
   ],
   "source": [
    "class Animal:\n",
    "    def speak(self):\n",
    "        pass\n",
    "\n",
    "class Dog(Animal):\n",
    "    def speak(self):\n",
    "        return \"Woof!\"\n",
    "\n",
    "class Cat(Animal):\n",
    "    def speak(self):\n",
    "        return \"Meow!\"\n",
    "\n",
    "def animal_sound(animal):\n",
    "    return animal.speak()\n",
    "\n",
    "dog = Dog()\n",
    "cat = Cat()\n",
    "\n",
    "print(animal_sound(dog))\n",
    "print(animal_sound(cat))  \n"
   ]
  },
  {
   "cell_type": "markdown",
   "id": "f04153c0-96d1-4652-a115-63b9d4e6430e",
   "metadata": {},
   "source": [
    "2. Describe the difference between compile-time polymorphism and runtime polymorphism in Python."
   ]
  },
  {
   "cell_type": "markdown",
   "id": "4c38b0ba-c6b3-4525-8833-38f37f655b07",
   "metadata": {},
   "source": [
    "Compile-time polymorphism, also known as static polymorphism, occurs during the compilation phase of a program. It is associated with method overloading and operator overloading.<br>\n",
    "Runtime polymorphism, also known as dynamic polymorphism, occurs during the runtime or execution of a program. It is associated with method overriding and is achieved through inheritance and interfaces."
   ]
  },
  {
   "cell_type": "markdown",
   "id": "5debb11e-c1f8-4db6-a899-b9c049c0e238",
   "metadata": {},
   "source": [
    "3. Create a Python class hierarchy for shapes (e.g., circle, square, triangle) and demonstrate polymorphism\n",
    "through a common method, such as `calculate_area()`."
   ]
  },
  {
   "cell_type": "code",
   "execution_count": 50,
   "id": "aa5eae10-567b-4fdf-bffa-fc8843f71e6e",
   "metadata": {},
   "outputs": [],
   "source": [
    "import math\n",
    "\n",
    "class Shape:\n",
    "    def calculate_area(self):\n",
    "        pass\n",
    "\n",
    "class Circle(Shape):\n",
    "    def __init__(self, radius):\n",
    "        self.radius = radius\n",
    "\n",
    "    def calculate_area(self):\n",
    "        return math.pi * self.radius ** 2\n",
    "\n",
    "class Square(Shape):\n",
    "    def __init__(self, side_length):\n",
    "        self.side_length = side_length\n",
    "\n",
    "    def calculate_area(self):\n",
    "        return self.side_length ** 2\n",
    "\n",
    "class Triangle(Shape):\n",
    "    def __init__(self, base, height):\n",
    "        self.base = base\n",
    "        self.height = height\n",
    "\n",
    "    def calculate_area(self):\n",
    "        return 0.5 * self.base * self.height\n"
   ]
  },
  {
   "cell_type": "code",
   "execution_count": 51,
   "id": "5c9f290f-3d00-4df5-ad95-5f8acc7403d0",
   "metadata": {},
   "outputs": [],
   "source": [
    "s1 = Circle(5)\n",
    "s2 = Square(4)\n",
    "s3 = Triangle(3, 6)"
   ]
  },
  {
   "cell_type": "code",
   "execution_count": 52,
   "id": "a1cccf7a-07d4-48fc-94f7-3d976456770a",
   "metadata": {},
   "outputs": [
    {
     "data": {
      "text/plain": [
       "78.53981633974483"
      ]
     },
     "execution_count": 52,
     "metadata": {},
     "output_type": "execute_result"
    }
   ],
   "source": [
    "s1.calculate_area()"
   ]
  },
  {
   "cell_type": "code",
   "execution_count": 53,
   "id": "cbfd32c9-ca39-4df7-a878-75043b15825c",
   "metadata": {},
   "outputs": [
    {
     "data": {
      "text/plain": [
       "16"
      ]
     },
     "execution_count": 53,
     "metadata": {},
     "output_type": "execute_result"
    }
   ],
   "source": [
    "s2.calculate_area()"
   ]
  },
  {
   "cell_type": "code",
   "execution_count": 54,
   "id": "39885274-0c71-4e15-b8fb-cc9deb9be4c1",
   "metadata": {},
   "outputs": [
    {
     "data": {
      "text/plain": [
       "9.0"
      ]
     },
     "execution_count": 54,
     "metadata": {},
     "output_type": "execute_result"
    }
   ],
   "source": [
    "s3.calculate_area()"
   ]
  },
  {
   "cell_type": "markdown",
   "id": "72b8acbc-8f14-402b-988a-c4ea63aa8271",
   "metadata": {},
   "source": [
    "4. Explain the concept of method overriding in polymorphism. Provide an example."
   ]
  },
  {
   "cell_type": "code",
   "execution_count": 56,
   "id": "8248e6b7-4ea9-4db1-9ff9-6276087ab79d",
   "metadata": {},
   "outputs": [
    {
     "name": "stdout",
     "output_type": "stream",
     "text": [
      "Woof!\n",
      "Meow!\n"
     ]
    }
   ],
   "source": [
    "class Animal:\n",
    "    def speak(self):\n",
    "        return \"Generic animal sound\"\n",
    "\n",
    "class Dog(Animal):\n",
    "    def speak(self):\n",
    "        return \"Woof!\"\n",
    "\n",
    "class Cat(Animal):\n",
    "    def speak(self):\n",
    "        return \"Meow!\"\n",
    "\n",
    "# Example usage\n",
    "dog = Dog()\n",
    "cat = Cat()\n",
    "\n",
    "print(dog.speak())\n",
    "print(cat.speak()) \n"
   ]
  },
  {
   "cell_type": "markdown",
   "id": "8310b229-0887-4498-a802-7e03e2f421e5",
   "metadata": {},
   "source": [
    "5. How is polymorphism different from method overloading in Python? Provide examples for both."
   ]
  },
  {
   "cell_type": "code",
   "execution_count": 59,
   "id": "e6501690-3fce-4708-9355-a40ee7ed96f1",
   "metadata": {},
   "outputs": [],
   "source": [
    "# Method overloading refers to defining multiple methods in a class with the same name but different parameters\n",
    "\n",
    "# allows objects of different types to be treated as objects of a common type. It can occur through \n",
    "# method overloading (compile-time polymorphism) or method overriding (runtime polymorphism)"
   ]
  },
  {
   "cell_type": "markdown",
   "id": "cf13cb7c-fa8b-4231-b2c6-34ff2e07c587",
   "metadata": {},
   "source": [
    "6. Create a Python class called `Animal` with a method `speak()`. Then, create child classes like `Dog`, `Cat`, and `Bird`, each with their own `speak()` method. Demonstrate polymorphism by calling the `speak()` method\n",
    "on objects of different subclasses."
   ]
  },
  {
   "cell_type": "code",
   "execution_count": 80,
   "id": "73748f4c-95b1-404d-a9d5-ed43d603ccc5",
   "metadata": {},
   "outputs": [],
   "source": [
    "class animal:\n",
    "    \n",
    "    def speak(self):\n",
    "        print(\"it speaks\")\n",
    "    \n",
    "class dog(animal):\n",
    "    def speak(self):\n",
    "        print(\"woof\")\n",
    "        \n",
    "class kat(animal):\n",
    "    def speak(self):\n",
    "        print(\"meow\")\n",
    "        \n",
    "        \n",
    "class bird(animal):\n",
    "    def speak(self):\n",
    "        print(\"chirp\")\n",
    "        "
   ]
  },
  {
   "cell_type": "code",
   "execution_count": 81,
   "id": "333bcde7-d32b-484e-999e-5d69a7cca662",
   "metadata": {},
   "outputs": [],
   "source": [
    "doggy = dog()\n",
    "katy = kat()\n",
    "sparrow = bird()"
   ]
  },
  {
   "cell_type": "code",
   "execution_count": 87,
   "id": "f409d736-93eb-4104-b74f-d5483ed50a7e",
   "metadata": {},
   "outputs": [
    {
     "name": "stdout",
     "output_type": "stream",
     "text": [
      "woof\n"
     ]
    }
   ],
   "source": [
    "doggy.speak()"
   ]
  },
  {
   "cell_type": "code",
   "execution_count": 89,
   "id": "62ff514b-dc43-44de-b405-02ee1727d782",
   "metadata": {},
   "outputs": [
    {
     "name": "stdout",
     "output_type": "stream",
     "text": [
      "meow\n"
     ]
    }
   ],
   "source": [
    "katy.speak()"
   ]
  },
  {
   "cell_type": "code",
   "execution_count": 77,
   "id": "e9447380-3d58-4175-a85e-ef19b54dfad7",
   "metadata": {},
   "outputs": [
    {
     "name": "stdout",
     "output_type": "stream",
     "text": [
      "chirp\n"
     ]
    }
   ],
   "source": [
    "sparrow.speak()"
   ]
  },
  {
   "cell_type": "markdown",
   "id": "a14d23df-eb98-43b8-9b59-fc3ef4368423",
   "metadata": {},
   "source": [
    "7. Discuss the use of abstract methods and classes in achieving polymorphism in Python. Provide an example\n",
    "using the `abc` module."
   ]
  },
  {
   "cell_type": "markdown",
   "id": "ba610c47-e6d3-4e8f-a776-1f14658967d2",
   "metadata": {},
   "source": [
    "Abstract classes cannot be instantiated, and they require that concrete subclasses provide specific implementations for certain methods, known as abstract methods. This ensures that all subclasses adhere to a common interface, promoting polymorphism"
   ]
  },
  {
   "cell_type": "markdown",
   "id": "83f658b4-2e5c-4346-8f1e-293b21aaaadf",
   "metadata": {},
   "source": [
    "8. Create a Python class hierarchy for a vehicle system (e.g., car, bicycle, boat) and implement a polymorphic `start()` method that prints a message specific to each vehicle type."
   ]
  },
  {
   "cell_type": "code",
   "execution_count": 90,
   "id": "73c843cd-7fe6-40a3-8755-58ac880bd065",
   "metadata": {},
   "outputs": [],
   "source": [
    "class vehicle():\n",
    "    def start(self):\n",
    "        pass\n",
    "    \n",
    "class car(vehicle):\n",
    "    \n",
    "    def start(self):\n",
    "        return \"engine, runs on road\"\n",
    "    \n",
    "class bicycle(vehicle):\n",
    "    def start(self):\n",
    "        return \"paddle, runs on the road\"\n",
    "    \n",
    "class boat(vehicle):\n",
    "    def start(self):\n",
    "        return \"engine, runs on water\""
   ]
  },
  {
   "cell_type": "code",
   "execution_count": 91,
   "id": "344fa5c1-2224-4794-ab0d-8b2b02215629",
   "metadata": {},
   "outputs": [],
   "source": [
    "c1 = car()\n",
    "b1 = bicycle()\n",
    "b2 = boat()"
   ]
  },
  {
   "cell_type": "code",
   "execution_count": 95,
   "id": "e54dfc90-2a10-4ed2-9d7a-576e1c49c2ff",
   "metadata": {},
   "outputs": [
    {
     "name": "stdout",
     "output_type": "stream",
     "text": [
      "car:  engine, runs on road\n",
      "bicycle:  paddle, runs on the road\n",
      "boat:  engine, runs on water\n"
     ]
    }
   ],
   "source": [
    "print(\"car: \",c1.start())\n",
    "print(\"bicycle: \",b1.start())\n",
    "print(\"boat: \",b2.start())"
   ]
  },
  {
   "cell_type": "markdown",
   "id": "0f4c084d-b0cf-41dd-bc73-16f517527f56",
   "metadata": {},
   "source": [
    "9. Explain the significance of the `isinstance()` and `issubclass()` functions in Python polymorphism."
   ]
  },
  {
   "cell_type": "markdown",
   "id": "0cff44c4-615b-475b-81bc-094acd6b3670",
   "metadata": {},
   "source": [
    "isinstance() Function:\n",
    "\n",
    "Significance: This function is used to check if an object belongs to a particular class or a tuple of classes. It is often used to ensure that an object has a specific type before performing operations on it. In polymorphism, isinstance() is employed to determine the type of an object dynamically, allowing for flexible and adaptable code.\n",
    "\n",
    "issubclass() Function:\n",
    "\n",
    "Significance: This function checks if a class is a subclass of another class. It is particularly useful in scenarios where you want to verify class relationships in an inheritance hierarchy.In polymorphism, issubclass() is often used to ensure that a given class adheres to a certain interface or to verify the relationship between classes in a polymorphic system."
   ]
  },
  {
   "cell_type": "markdown",
   "id": "aacb443e-dcfe-43c1-9e50-cb6ee79121bc",
   "metadata": {},
   "source": [
    "10. What is the role of the `@abstractmethod` decorator in achieving polymorphism in Python? Provide an\n",
    "example."
   ]
  },
  {
   "cell_type": "code",
   "execution_count": 14,
   "id": "68ff54db-59a8-4fcd-810e-5e513bc9c784",
   "metadata": {},
   "outputs": [],
   "source": [
    "from abc import ABC, abstractmethod\n",
    "\n",
    "class Shape(ABC):\n",
    "    @abstractmethod\n",
    "    def calculate_area(self):\n",
    "        pass\n",
    "\n",
    "class Circle(Shape):\n",
    "    def __init__(self, radius):\n",
    "        self.radius = radius\n",
    "\n",
    "    def calculate_area(self):\n",
    "        return 3.14 * self.radius ** 2\n",
    "\n",
    "class Square(Shape):\n",
    "    def __init__(self, side_length):\n",
    "        self.side_length = side_length\n",
    "\n",
    "    def calculate_area(self):\n",
    "        return self.side_length ** 2\n",
    "\n",
    "class Triangle(Shape):\n",
    "    def __init__(self, base, height):\n",
    "        self.base = base\n",
    "        self.height = height\n",
    "\n",
    "    def calculate_area(self):\n",
    "        return 0.5 * self.base * self.height\n",
    "    "
   ]
  },
  {
   "cell_type": "code",
   "execution_count": 15,
   "id": "f2f7aabe-4fdd-4324-92b7-73561545783b",
   "metadata": {},
   "outputs": [],
   "source": [
    "cir = Circle(5)"
   ]
  },
  {
   "cell_type": "code",
   "execution_count": 16,
   "id": "c4cb56c0-d6bb-4ee9-b8b6-f3b1413b1fa5",
   "metadata": {},
   "outputs": [],
   "source": [
    "sq = Square(4)"
   ]
  },
  {
   "cell_type": "code",
   "execution_count": 17,
   "id": "29270106-9bc3-4380-a9c4-6841c373d219",
   "metadata": {},
   "outputs": [],
   "source": [
    "tri = Triangle(3, 6)"
   ]
  },
  {
   "cell_type": "code",
   "execution_count": 19,
   "id": "be9c31da-2be2-4751-a92d-c1497b32ec2a",
   "metadata": {},
   "outputs": [
    {
     "name": "stdout",
     "output_type": "stream",
     "text": [
      "78.5\n",
      "16\n",
      "9.0\n"
     ]
    }
   ],
   "source": [
    "print(cir.calculate_area())\n",
    "print(sq.calculate_area())\n",
    "print(tri.calculate_area())"
   ]
  },
  {
   "cell_type": "markdown",
   "id": "46541182-0b87-4e19-bf76-42e75f885693",
   "metadata": {},
   "source": [
    "11. Create a Python class called `Shape` with a polymorphic method `area()` that calculates the area of different shapes (e.g., circle, rectangle, triangle)."
   ]
  },
  {
   "cell_type": "code",
   "execution_count": 20,
   "id": "2a8bab40-c692-4133-a09f-429ed209957f",
   "metadata": {},
   "outputs": [],
   "source": [
    "from abc import ABC, abstractmethod\n",
    "\n",
    "class Shape(ABC):\n",
    "    @abstractmethod\n",
    "    def calculate_area(self):\n",
    "        pass\n",
    "\n",
    "class Circle(Shape):\n",
    "    def __init__(self, radius):\n",
    "        self.radius = radius\n",
    "\n",
    "    def calculate_area(self):\n",
    "        return 3.14 * self.radius ** 2\n",
    "\n",
    "class Square(Shape):\n",
    "    def __init__(self, side_length):\n",
    "        self.side_length = side_length\n",
    "\n",
    "    def calculate_area(self):\n",
    "        return self.side_length ** 2\n",
    "\n",
    "class Triangle(Shape):\n",
    "    def __init__(self, base, height):\n",
    "        self.base = base\n",
    "        self.height = height\n",
    "\n",
    "    def calculate_area(self):\n",
    "        return 0.5 * self.base * self.height"
   ]
  },
  {
   "cell_type": "markdown",
   "id": "d4ebad90-fcf0-4419-8574-b6353176012e",
   "metadata": {},
   "source": [
    "12. Discuss the benefits of polymorphism in terms of code reusability and flexibility in Python programs."
   ]
  },
  {
   "cell_type": "markdown",
   "id": "5f11c303-7a31-4be4-83fb-4c4547ad3432",
   "metadata": {},
   "source": [
    "Reusable Code Blocks:\n",
    "Code that is designed to work with a base class can be reused with any of its subclasses, promoting modular and reusable code.\n",
    "Dynamic Binding:\n",
    "Polymorphism leverages dynamic binding, meaning that the determination of which method to execute is made at runtime based on the actual type of the object. This provides flexibility in adapting to different object types\n",
    "Easier Maintenance:\n",
    "When new classes need to be added, or existing ones modified, polymorphism reduces the risk of unintended side effects because the changes are confined to the specific class"
   ]
  },
  {
   "cell_type": "markdown",
   "id": "bc4afc12-ece2-4799-8af3-8fbf2fead11f",
   "metadata": {},
   "source": [
    "13. Explain the use of the `super()` function in Python polymorphism. How does it help call methods of parent\n",
    "classes?"
   ]
  },
  {
   "cell_type": "code",
   "execution_count": 22,
   "id": "9c051606-f3c0-45fa-a67e-238c22c3bffd",
   "metadata": {},
   "outputs": [],
   "source": [
    "class Animal:\n",
    "    def make_sound(self):\n",
    "        return \"Generic animal sound\"\n",
    "\n",
    "class Dog(Animal):\n",
    "    def make_sound(self):\n",
    "        # Calling the make_sound method of the parent class\n",
    "        parent_sound = super().make_sound()\n",
    "        return f\"{parent_sound} and Woof!\"\n",
    "\n",
    "class Cat(Animal):\n",
    "    def make_sound(self):\n",
    "        # Calling the make_sound method of the parent class\n",
    "        parent_sound = super().make_sound()\n",
    "        return f\"{parent_sound} and Meow!\"\n"
   ]
  },
  {
   "cell_type": "code",
   "execution_count": 23,
   "id": "dba68a7a-6fee-47a1-b746-679d7cf1c758",
   "metadata": {},
   "outputs": [
    {
     "name": "stdout",
     "output_type": "stream",
     "text": [
      "Generic animal sound and Woof!\n",
      "Generic animal sound and Meow!\n"
     ]
    }
   ],
   "source": [
    "dog = Dog()\n",
    "cat = Cat()\n",
    "\n",
    "print(dog.make_sound())  # Calls make_sound in Dog class\n",
    "print(cat.make_sound())  # Calls make_sound in Cat class"
   ]
  },
  {
   "cell_type": "markdown",
   "id": "3173ec5a-99a1-4592-89c4-deb5a8c2c456",
   "metadata": {},
   "source": [
    "14. Create a Python class hierarchy for a banking system with various account types (e.g., savings, checking, credit card) and demonstrate polymorphism by implementing a common `withdraw()` method."
   ]
  },
  {
   "cell_type": "code",
   "execution_count": 26,
   "id": "b9f2be48-e557-4a59-ac71-f0da245bf135",
   "metadata": {},
   "outputs": [],
   "source": [
    "class BankAccount:\n",
    "    def __init__(self, account_number, balance):\n",
    "        self.account_number = account_number\n",
    "        self.balance = balance\n",
    "\n",
    "    def withdraw(self, amount):\n",
    "        if amount <= self.balance:\n",
    "            self.balance -= amount\n",
    "            return f\"Withdrawal of {amount} successful. Remaining balance: {self.balance}\"\n",
    "        else:\n",
    "            return \"Insufficient funds.\"\n",
    "\n",
    "class SavingsAccount(BankAccount):\n",
    "    def __init__(self, account_number, balance, interest_rate):\n",
    "        super().__init__(account_number, balance)\n",
    "        self.interest_rate = interest_rate\n",
    "\n",
    "    def withdraw(self, amount):\n",
    "        withdrawal_limit = 500\n",
    "        if amount <= withdrawal_limit:\n",
    "            return super().withdraw(amount)\n",
    "        else:\n",
    "            return \"Withdrawal limit exceeded for savings account.\"\n",
    "\n",
    "class CheckingAccount(BankAccount):\n",
    "    def __init__(self, account_number, balance, overdraft_limit):\n",
    "        super().__init__(account_number, balance)\n",
    "        self.overdraft_limit = overdraft_limit\n",
    "\n",
    "    def withdraw(self, amount):\n",
    "        allowed_balance = self.balance + self.overdraft_limit\n",
    "        if amount <= allowed_balance:\n",
    "            return super().withdraw(amount)\n",
    "        else:\n",
    "            return \"Withdrawal exceeds available balance and overdraft limit for checking account.\"\n",
    "\n",
    "class CreditCardAccount(BankAccount):\n",
    "    def __init__(self, account_number, balance, credit_limit):\n",
    "        super().__init__(account_number, balance)\n",
    "        self.credit_limit = credit_limit\n",
    "\n",
    "    def withdraw(self, amount):\n",
    "        # Additional logic for credit card account (e.g., consider credit limit)\n",
    "        allowed_balance = self.balance + self.credit_limit\n",
    "        if amount <= allowed_balance:\n",
    "            return super().withdraw(amount)\n",
    "        else:\n",
    "            return \"Withdrawal exceeds available balance and credit limit for credit card account.\"\n"
   ]
  },
  {
   "cell_type": "code",
   "execution_count": 28,
   "id": "e8f40380-0c8c-49fc-b024-41222b4f49d9",
   "metadata": {},
   "outputs": [
    {
     "name": "stdout",
     "output_type": "stream",
     "text": [
      "Withdrawal of 200 successful. Remaining balance: 800\n",
      "Insufficient funds.\n",
      "Withdrawal exceeds available balance and credit limit for credit card account.\n"
     ]
    }
   ],
   "source": [
    "savings_account = SavingsAccount(\"SA123\", 1000, 0.02)\n",
    "checking_account = CheckingAccount(\"CA456\", 2000, 500)\n",
    "credit_card_account = CreditCardAccount(\"CC789\", -500, 1000)\n",
    "\n",
    "print(savings_account.withdraw(200))         \n",
    "print(checking_account.withdraw(2500))    \n",
    "print(credit_card_account.withdraw(700))  \n"
   ]
  },
  {
   "cell_type": "markdown",
   "id": "f922b62f-89f2-4172-b4c2-58d823e9020a",
   "metadata": {},
   "source": [
    "15. Describe the concept of operator overloading in Python and how it relates to polymorphism. Provide\n",
    "examples using operators like `+` and `*`."
   ]
  },
  {
   "cell_type": "code",
   "execution_count": 2,
   "id": "9c31471f-e9aa-42ea-8d78-1e5b3d750177",
   "metadata": {},
   "outputs": [
    {
     "name": "stdout",
     "output_type": "stream",
     "text": [
      "Addition: (4, 6)\n",
      "Scalar Multiplication: (2, 4)\n"
     ]
    }
   ],
   "source": [
    "class Point:\n",
    "    def __init__(self, x, y):\n",
    "        self.x = x\n",
    "        self.y = y\n",
    "\n",
    "    def __str__(self):\n",
    "        return f\"({self.x}, {self.y})\"\n",
    "\n",
    "    def __add__(self, other):\n",
    "        # Overloading the + operator for Point objects\n",
    "        if isinstance(other, Point):\n",
    "            return Point(self.x + other.x, self.y + other.y)\n",
    "        elif isinstance(other, (int, float)):\n",
    "            # Allowing addition of a Point with a scalar\n",
    "            return Point(self.x + other, self.y + other)\n",
    "        else:\n",
    "            raise TypeError(\"Unsupported operand type for +\")\n",
    "\n",
    "    def __mul__(self, scalar):\n",
    "        # Overloading the * operator for Point objects\n",
    "        if isinstance(scalar, (int, float)):\n",
    "            return Point(self.x * scalar, self.y * scalar)\n",
    "        else:\n",
    "            raise TypeError(\"Unsupported operand type for *\")\n",
    "\n",
    "point1 = Point(1, 2)\n",
    "point2 = Point(3, 4)\n",
    "\n",
    "result_addition = point1 + point2\n",
    "result_scalar_multiplication = point1 * 2\n",
    "\n",
    "print(f\"Addition: {result_addition}\")                      \n",
    "print(f\"Scalar Multiplication: {result_scalar_multiplication}\") \n"
   ]
  },
  {
   "cell_type": "markdown",
   "id": "1e068b22-5a67-4852-a0e3-bf4884eab40b",
   "metadata": {},
   "source": [
    "16. What is dynamic polymorphism, and how is it achieved in Python?"
   ]
  },
  {
   "cell_type": "markdown",
   "id": "727939ab-4b4b-4310-b77e-244d7840b2c7",
   "metadata": {},
   "source": [
    "It allows objects of different types to be treated uniformly based on their common interface, and the specific method implementation is determined at runtime. This flexibility is achieved through method overriding and dynamic method binding."
   ]
  },
  {
   "cell_type": "markdown",
   "id": "678cc6f8-6c57-4c15-adf9-47837a37e11d",
   "metadata": {},
   "source": [
    "17. Create a Python class hierarchy for employees in a company (e.g., manager, developer, designer) and implement polymorphism through a common `calculate_salary()` method."
   ]
  },
  {
   "cell_type": "code",
   "execution_count": 15,
   "id": "d4468ed9-d297-4026-bdc3-f535c7026b62",
   "metadata": {},
   "outputs": [],
   "source": [
    "class employee:\n",
    "    \n",
    "    def calculate_salary(self):\n",
    "        print(\"salary is printed\")\n",
    "        \n",
    "class manager(employee):\n",
    "    \n",
    "    def calculate_salary(self):\n",
    "        print(\"salary is 90k\")\n",
    "        \n",
    "class developer(employee):\n",
    "    \n",
    "    def calculate_salary(self):\n",
    "        print(\"salary is 50k\")\n",
    "        \n",
    "class designer(employee):\n",
    "    \n",
    "    def calculate_salary(self):\n",
    "        print(\"salary is 30k\")       \n",
    "        "
   ]
  },
  {
   "cell_type": "code",
   "execution_count": 16,
   "id": "f510d1cd-08ff-4c78-a2d7-94ca1ab79455",
   "metadata": {},
   "outputs": [],
   "source": [
    "m = manager()\n",
    "dev = developer()\n",
    "des = designer()"
   ]
  },
  {
   "cell_type": "code",
   "execution_count": 17,
   "id": "cf47a477-6301-4f5f-a4c5-ad6621be4583",
   "metadata": {},
   "outputs": [
    {
     "name": "stdout",
     "output_type": "stream",
     "text": [
      "salary is 90k\n",
      "salary is 50k\n",
      "salary is 30k\n"
     ]
    }
   ],
   "source": [
    "m.calculate_salary()\n",
    "dev.calculate_salary()\n",
    "des.calculate_salary()"
   ]
  },
  {
   "cell_type": "markdown",
   "id": "e5d59ae2-e72d-410a-93a8-f633843a696e",
   "metadata": {},
   "source": [
    "18. Discuss the concept of function pointers and how they can be used to achieve polymorphism in Python."
   ]
  },
  {
   "cell_type": "markdown",
   "id": "c3a15802-d866-49c7-b9dd-4625850dd147",
   "metadata": {},
   "source": [
    "Python relies on the concept of first-class functions and the ability to pass functions as arguments to achieve a form of polymorphism."
   ]
  },
  {
   "cell_type": "markdown",
   "id": "597f8914-3580-4d1a-bd2b-57d984b3dcec",
   "metadata": {},
   "source": [
    "19. Explain the role of interfaces and abstract classes in polymorphism, drawing comparisons between them."
   ]
  },
  {
   "cell_type": "markdown",
   "id": "3cb2323f-1191-47ab-a4f7-075573c93010",
   "metadata": {},
   "source": [
    "interfaces and abstract classes play a crucial role in achieving polymorphism by providing a common structure that multiple classes can adhere to <br>\n",
    "Abstract classes provide a mix of shared implementation and method contracts, while interfaces strictly define contracts without any shared implementation"
   ]
  },
  {
   "cell_type": "markdown",
   "id": "ae05843e-1b3a-4089-a4e1-610f4a8293f0",
   "metadata": {},
   "source": [
    "20. Create a Python class for a zoo simulation, demonstrating polymorphism with different animal types (e.g., mammals, birds, reptiles) and their behavior (e.g., eating, sleeping, making sounds)."
   ]
  },
  {
   "cell_type": "code",
   "execution_count": 2,
   "id": "9cf82010-55f7-4e09-a6a0-4c533d281460",
   "metadata": {},
   "outputs": [],
   "source": [
    "class zoo:\n",
    "    \n",
    "    def eating(self):\n",
    "        pass\n",
    "    def sleeping(self):\n",
    "        pass\n",
    "    def making_soung(self):\n",
    "        pass\n",
    "    \n",
    "class mammals(zoo):\n",
    "    def eating(self):\n",
    "        return \"mammal eats\"\n",
    "    def sleeping(self):\n",
    "        return \"mammal sleeps\"\n",
    "    def making_soung(self):\n",
    "        return \"mammal making sound\"\n",
    "    \n",
    "class birds(zoo):\n",
    "    def eating(self):\n",
    "        return \"birds eats\"\n",
    "    def sleeping(self):\n",
    "        return \"birds sleeps\"\n",
    "    def making_soung(self):\n",
    "        return \"birds making sound\"\n",
    "        \n",
    "        \n",
    "class reptile(zoo):\n",
    "    def eating(self):\n",
    "        return \"reptile eats\"\n",
    "    def sleeping(self):\n",
    "        return \"reptile sleeps\"\n",
    "    def making_soung(self):\n",
    "        return \"reptile making sound\""
   ]
  },
  {
   "cell_type": "code",
   "execution_count": 3,
   "id": "bdb6d22e-6bdb-417a-a372-99052df77d3a",
   "metadata": {},
   "outputs": [],
   "source": [
    "m = mammals()\n",
    "b = birds()\n",
    "rep = reptile()"
   ]
  },
  {
   "cell_type": "code",
   "execution_count": 4,
   "id": "287613fe-a037-4f41-bf06-190d9a7e641b",
   "metadata": {},
   "outputs": [
    {
     "data": {
      "text/plain": [
       "'reptile eats'"
      ]
     },
     "execution_count": 4,
     "metadata": {},
     "output_type": "execute_result"
    }
   ],
   "source": [
    "m.eating()\n",
    "b.eating()\n",
    "rep.eating()\n"
   ]
  },
  {
   "cell_type": "code",
   "execution_count": 5,
   "id": "0e3c2165-5310-4613-8d75-aa3e2ac7064f",
   "metadata": {},
   "outputs": [
    {
     "data": {
      "text/plain": [
       "'mammal making sound'"
      ]
     },
     "execution_count": 5,
     "metadata": {},
     "output_type": "execute_result"
    }
   ],
   "source": [
    "m.eating()\n",
    "m.sleeping()\n",
    "m.making_soung()"
   ]
  },
  {
   "cell_type": "code",
   "execution_count": 6,
   "id": "bf6c071b-bc15-4b1d-8044-aa4cf2a16a6d",
   "metadata": {},
   "outputs": [
    {
     "data": {
      "text/plain": [
       "'mammal making sound'"
      ]
     },
     "execution_count": 6,
     "metadata": {},
     "output_type": "execute_result"
    }
   ],
   "source": [
    "m.eating()\n",
    "m.sleeping()\n",
    "m.making_soung()"
   ]
  },
  {
   "cell_type": "markdown",
   "id": "a4f0d2f0-94ac-40c0-bdf8-4ee6f8d10cf0",
   "metadata": {},
   "source": [
    "# =====================================\n",
    "# Abstraction"
   ]
  },
  {
   "cell_type": "markdown",
   "id": "779672b3-579b-476c-8ac7-bbc05004ffec",
   "metadata": {},
   "source": [
    "1. What is abstraction in Python, and how does it relate to object-oriented programming?"
   ]
  },
  {
   "cell_type": "markdown",
   "id": "448c67f8-d112-41e9-ba29-5e257d8b87b6",
   "metadata": {},
   "source": [
    "involves simplifying complex systems by modeling classes based on the essential properties and behaviors they share. Abstraction allows developers to focus on the essential features of an object while ignoring its non-essential details."
   ]
  },
  {
   "cell_type": "markdown",
   "id": "e9b18a95-51a6-465b-9f53-cebde6c432fa",
   "metadata": {},
   "source": [
    "2. Describe the benefits of abstraction in terms of code organization and complexity reduction."
   ]
  },
  {
   "cell_type": "markdown",
   "id": "47590d79-2d42-4c36-b366-9e9b37e017ec",
   "metadata": {},
   "source": [
    "Abstraction allows developers to focus on essential aspects of a system while ignoring non-essential details.\n",
    "\n",
    "promotes code readability by providing a clear and intuitive interface for interacting with objects or modules\n",
    "\n",
    "Changes to the internal implementation of an abstraction do not necessarily impact external code that uses it.\n",
    "\n",
    "improved readability, modularity, reusability, and maintainability. It helps manage complexity and fosters a more organized and scalable approach to software development."
   ]
  },
  {
   "cell_type": "markdown",
   "id": "6d3c7668-e5c1-427f-8cb5-b61a9951c595",
   "metadata": {},
   "source": [
    "3. Create a Python class called `Shape` with an abstract method `calculate_area()`. Then, create child classes (e.g., `Circle`, `Rectangle`) that implement the `calculate_area()` method. Provide an example of\n",
    "using these classes."
   ]
  },
  {
   "cell_type": "code",
   "execution_count": 8,
   "id": "34add71d-a85a-45e7-a322-12ca2c770e0e",
   "metadata": {},
   "outputs": [],
   "source": [
    "from abc import ABC,abstractmethod\n",
    "\n",
    "class shape(ABC):\n",
    "    \n",
    "    @abstractmethod\n",
    "    def calculate_area(self):\n",
    "        pass\n",
    "    \n",
    "    \n",
    "    \n",
    "    "
   ]
  },
  {
   "cell_type": "code",
   "execution_count": 9,
   "id": "25af23f0-fd52-4cf2-8b70-59d96e78f4e5",
   "metadata": {},
   "outputs": [],
   "source": [
    "class circle(shape):\n",
    "    \n",
    "    def calculate_area(self,r):\n",
    "        print(\"area of circle\")\n",
    "        return 3.14*r**2"
   ]
  },
  {
   "cell_type": "code",
   "execution_count": 10,
   "id": "3a9d2192-4477-472d-bc66-635217a6db2f",
   "metadata": {},
   "outputs": [],
   "source": [
    "class rectangle(shape):\n",
    "    \n",
    "    def calculate_area(self,l,b):\n",
    "        print(\"area of rectangle\")\n",
    "        return l*b"
   ]
  },
  {
   "cell_type": "markdown",
   "id": "07b287dc-beff-4d0d-b5d7-bf7d128a37c2",
   "metadata": {},
   "source": [
    "c = circle()"
   ]
  },
  {
   "cell_type": "code",
   "execution_count": 14,
   "id": "d2c8730b-a492-415e-995b-d742fc616f58",
   "metadata": {},
   "outputs": [
    {
     "name": "stdout",
     "output_type": "stream",
     "text": [
      "area of circle\n"
     ]
    },
    {
     "data": {
      "text/plain": [
       "28.26"
      ]
     },
     "execution_count": 14,
     "metadata": {},
     "output_type": "execute_result"
    }
   ],
   "source": [
    "c.calculate_area(3)"
   ]
  },
  {
   "cell_type": "code",
   "execution_count": 15,
   "id": "1ca944d0-8a25-424e-ac56-1106fb5b6e04",
   "metadata": {},
   "outputs": [],
   "source": [
    "r = rectangle()"
   ]
  },
  {
   "cell_type": "code",
   "execution_count": 17,
   "id": "18365a3f-1372-4a43-98e4-7f81f0935e1c",
   "metadata": {},
   "outputs": [
    {
     "name": "stdout",
     "output_type": "stream",
     "text": [
      "area of rectangle\n"
     ]
    },
    {
     "data": {
      "text/plain": [
       "6"
      ]
     },
     "execution_count": 17,
     "metadata": {},
     "output_type": "execute_result"
    }
   ],
   "source": [
    "r.calculate_area(2,3)"
   ]
  },
  {
   "cell_type": "markdown",
   "id": "44e7d8bd-c868-469c-88b5-47998a4044a4",
   "metadata": {},
   "source": [
    "4. Explain the concept of abstract classes in Python and how they are defined using the `abc` module. Provide\n",
    "an example."
   ]
  },
  {
   "cell_type": "markdown",
   "id": "34859d6b-3ef7-4606-a005-3d3f8940f32f",
   "metadata": {},
   "source": [
    "an abstract class is a class that cannot be instantiated and is meant to be subclassed by other classes. Abstract classes can define abstract methods, which are methods that must be implemented by any concrete (i.e., non-abstract) subclasses. The abc module in Python provides the tools for creating abstract classes and abstract methods"
   ]
  },
  {
   "cell_type": "markdown",
   "id": "574fa166-5af6-4314-bc10-a9e5e1c3ec36",
   "metadata": {},
   "source": [
    "5. How do abstract classes differ from regular classes in Python? Discuss their use cases."
   ]
  },
  {
   "cell_type": "markdown",
   "id": "953bcf94-09c1-4c2b-b20f-9de03b77bf8b",
   "metadata": {},
   "source": [
    " abstract classes in Python are a mechanism for defining a common structure and interface for a group of related classes. They are particularly useful when you want to enforce certain methods to be implemented by concrete subclasses, ensuring a consistent and predictable behavior across different parts of your codebase"
   ]
  },
  {
   "cell_type": "markdown",
   "id": "82e75f41-e9a0-4784-9047-6d4b33941957",
   "metadata": {},
   "source": [
    "6. Create a Python class for a bank account and demonstrate abstraction by hiding the account balance and\n",
    "providing methods to deposit and withdraw funds."
   ]
  },
  {
   "cell_type": "code",
   "execution_count": 3,
   "id": "ac6cb19b-4c44-46a5-a0cd-2ccfa59709b5",
   "metadata": {},
   "outputs": [],
   "source": [
    "from abc import ABC, abstractmethod\n",
    "\n",
    "class bankaccount:\n",
    "    def __init__(self, account_holder, account_number):\n",
    "        self.account_holder = account_holder\n",
    "        self.account_number = account_number\n",
    "        self.__balance = 0\n",
    "        \n",
    "    def deposit(self, amount):\n",
    "        if amount > 0:\n",
    "            self._balance += amount\n",
    "            print(f\"Deposited {amount}. New balance: {self._balance}\")\n",
    "        else:\n",
    "            print(\"Invalid deposit amount. Amount must be greater than zero.\")\n",
    "        \n",
    "    def withdraw(self, amount):\n",
    "        if 0 < amount <= self._balance:\n",
    "            self._balance -= amount\n",
    "            print(f\"Withdrew {amount}. New balance: {self._balance}\")\n",
    "        else:\n",
    "            print(\"Invalid withdrawal amount or insufficient funds.\")\n",
    "    \n",
    "    @abstractmethod\n",
    "    def get_balance(self):\n",
    "        print(f\"the balance is {self.__balance}\")"
   ]
  },
  {
   "cell_type": "code",
   "execution_count": 5,
   "id": "2d7592ed-ae27-4016-a74f-8ef68a0994e5",
   "metadata": {},
   "outputs": [],
   "source": [
    "c = bankaccount(12332,1323)"
   ]
  },
  {
   "cell_type": "code",
   "execution_count": 6,
   "id": "b77e39d6-03bb-4ac0-9836-edcc77b05b6d",
   "metadata": {},
   "outputs": [
    {
     "name": "stdout",
     "output_type": "stream",
     "text": [
      "the balance is 0\n"
     ]
    }
   ],
   "source": [
    "c.get_balance()"
   ]
  },
  {
   "cell_type": "markdown",
   "id": "0d3d56c4-009b-4d2b-9954-dd3b336ffe70",
   "metadata": {},
   "source": [
    "7. Discuss the concept of interface classes in Python and their role in achieving abstraction."
   ]
  },
  {
   "cell_type": "markdown",
   "id": "a6482de3-e17e-4016-8041-df261199755c",
   "metadata": {},
   "source": [
    " the concept of interfaces is not enforced as strictly as in some other programming languages\n",
    "follows a philosophy of \"duck typing,\" which means that the type or class of an object is determined by its behavior rather than its explicit type.    "
   ]
  },
  {
   "cell_type": "markdown",
   "id": "963a1faa-0372-4874-97e9-e19d4ca34bba",
   "metadata": {},
   "source": [
    "8. Create a Python class hierarchy for animals and implement abstraction by defining common methods (e.g., `eat()`, `sleep()`) in an abstract base class."
   ]
  },
  {
   "cell_type": "code",
   "execution_count": 10,
   "id": "e309dab8-b874-44cf-81f2-9c42c5036191",
   "metadata": {},
   "outputs": [],
   "source": [
    "from abc import ABC, abstractmethod\n",
    "\n",
    "class animals(ABC):\n",
    "    \n",
    "    @abstractmethod\n",
    "    def eat(self):\n",
    "        pass\n",
    "    \n",
    "    @abstractmethod\n",
    "    def sleep(self):\n",
    "        pass\n",
    "    \n",
    "\n",
    "class dog(animals):\n",
    "    def eat(self):\n",
    "        return \"bark\"\n",
    "    \n",
    "    def sleep(self):\n",
    "        return \"have shallow sleep\"\n",
    "    \n",
    "    "
   ]
  },
  {
   "cell_type": "code",
   "execution_count": 11,
   "id": "887acc8d-8c0f-4c2d-9f70-5a19926cacc3",
   "metadata": {},
   "outputs": [],
   "source": [
    "d1 = dog()"
   ]
  },
  {
   "cell_type": "code",
   "execution_count": 12,
   "id": "c2cebf13-e535-49a4-96b1-35f6a2885547",
   "metadata": {},
   "outputs": [
    {
     "data": {
      "text/plain": [
       "'bark'"
      ]
     },
     "execution_count": 12,
     "metadata": {},
     "output_type": "execute_result"
    }
   ],
   "source": [
    "d1.eat()"
   ]
  },
  {
   "cell_type": "code",
   "execution_count": 13,
   "id": "ddf5560d-bbc3-43a5-84e7-f052f8abef8b",
   "metadata": {},
   "outputs": [
    {
     "data": {
      "text/plain": [
       "'have shallow sleep'"
      ]
     },
     "execution_count": 13,
     "metadata": {},
     "output_type": "execute_result"
    }
   ],
   "source": [
    "d1.sleep()"
   ]
  },
  {
   "cell_type": "markdown",
   "id": "25e919e6-5a71-4d27-9404-434414eb9342",
   "metadata": {},
   "source": [
    "9. Explain the significance of encapsulation in achieving abstraction. Provide examples."
   ]
  },
  {
   "cell_type": "markdown",
   "id": "7d46170f-1589-4789-be85-f90b7bca45e5",
   "metadata": {},
   "source": [
    "Encapsulation involves bundling the data (attributes) and methods (functions) that operate on the data into a single unit, typically a class.\n",
    "It hides the internal implementation details of a class from the outside world, exposing only what is necessary."
   ]
  },
  {
   "cell_type": "markdown",
   "id": "d7165aa6-da3a-42a0-85fa-b3598cfeb970",
   "metadata": {},
   "source": [
    "10. What is the purpose of abstract methods, and how do they enforce abstraction in Python classes?"
   ]
  },
  {
   "cell_type": "markdown",
   "id": "f1b0ae5a-6f36-413e-8419-9c353cafc19d",
   "metadata": {},
   "source": [
    "Abstract methods are methods declared in an abstract class (or an interface) without providing an implementation in the abstract class.\n",
    "Subclasses inheriting from the abstract class must provide concrete implementations for these abstract methods."
   ]
  },
  {
   "cell_type": "markdown",
   "id": "1f6c4414-a740-4f0e-b540-aec5e56e198d",
   "metadata": {},
   "source": [
    "11. Create a Python class for a vehicle system and demonstrate abstraction by defining common methods (e.g., `start()`, `stop()`) in an abstract base class."
   ]
  },
  {
   "cell_type": "code",
   "execution_count": 26,
   "id": "de14e16b-0e9f-4818-9e65-3b714b60089e",
   "metadata": {},
   "outputs": [],
   "source": [
    "from abc import ABC, abstractmethod\n",
    "\n",
    "class Vehicle(ABC):\n",
    "    \n",
    "    @abstractmethod\n",
    "    def start(self):\n",
    "        pass\n",
    "\n",
    "    @abstractmethod\n",
    "    def stop(self):\n",
    "        pass\n",
    "\n",
    "class Car(Vehicle):\n",
    "    def start(self):\n",
    "        print(\"it starts\")\n",
    "\n",
    "    def stop(self):\n",
    "        print(\"it stops\")\n",
    "\n",
    "\n",
    "gadi = Car()\n"
   ]
  },
  {
   "cell_type": "code",
   "execution_count": 28,
   "id": "74cf52bc-c825-4e10-8dec-cc2f63a83f22",
   "metadata": {},
   "outputs": [
    {
     "name": "stdout",
     "output_type": "stream",
     "text": [
      "it starts\n"
     ]
    }
   ],
   "source": [
    "gadi.start()"
   ]
  },
  {
   "cell_type": "code",
   "execution_count": 29,
   "id": "dbe38eaa-0415-47ff-a6cb-99ba323c1f83",
   "metadata": {},
   "outputs": [],
   "source": [
    "# def bike(vehicle):"
   ]
  },
  {
   "cell_type": "code",
   "execution_count": 31,
   "id": "75be908b-608f-4b2b-ac7d-e9d3ff6a9cf7",
   "metadata": {},
   "outputs": [
    {
     "name": "stdout",
     "output_type": "stream",
     "text": [
      "it stops\n"
     ]
    }
   ],
   "source": [
    "gadi.stop()"
   ]
  },
  {
   "cell_type": "markdown",
   "id": "7b84a36b-3cee-44bf-ae18-d01598424f58",
   "metadata": {},
   "source": [
    "12. Describe the use of abstract properties in Python and how they can be employed in abstract classes."
   ]
  },
  {
   "cell_type": "markdown",
   "id": "f89d770c-7be7-4f81-af4d-6e1e6b21ae5c",
   "metadata": {},
   "source": [
    "Abstract properties are attributes that are declared in an abstract class without providing an implementation"
   ]
  },
  {
   "cell_type": "markdown",
   "id": "9393ee7c-4956-40fe-a95c-2a022c10ee4e",
   "metadata": {},
   "source": [
    "13. Create a Python class hierarchy for employees in a company (e.g., manager, developer, designer) and implement abstraction by defining a common `get_salary()` method."
   ]
  },
  {
   "cell_type": "code",
   "execution_count": 33,
   "id": "da7c8729-b9b5-4989-aac1-b45f7729afb5",
   "metadata": {},
   "outputs": [],
   "source": [
    "from abc import ABC, abstractmethod\n",
    "\n",
    "class employee(ABC):\n",
    "    @abstractmethod\n",
    "    def get_salary(self):\n",
    "        pass\n",
    "    \n",
    "class manager(employee):\n",
    "    \n",
    "    def get_salary(self):\n",
    "        return \"salary of manager\"\n",
    "\n",
    "class developer(employee):\n",
    "    \n",
    "    def get_salary(self):\n",
    "        return \"salary of developer\"\n",
    "    \n",
    "class designer(employee):\n",
    "    \n",
    "    def get_salary(self):\n",
    "        return \"salary of designer\""
   ]
  },
  {
   "cell_type": "code",
   "execution_count": 36,
   "id": "62d39782-709a-484c-9cf1-437c3491bfc1",
   "metadata": {},
   "outputs": [],
   "source": [
    "m = manager()\n",
    "dev = developer()\n",
    "des = designer()"
   ]
  },
  {
   "cell_type": "code",
   "execution_count": 35,
   "id": "34d6e639-7751-4d09-b376-9fc2490cc122",
   "metadata": {},
   "outputs": [
    {
     "data": {
      "text/plain": [
       "'salary of manager'"
      ]
     },
     "execution_count": 35,
     "metadata": {},
     "output_type": "execute_result"
    }
   ],
   "source": [
    "m.get_salary()"
   ]
  },
  {
   "cell_type": "code",
   "execution_count": 37,
   "id": "ba9f429a-a257-4f5e-97e3-9bca70ccc753",
   "metadata": {},
   "outputs": [
    {
     "data": {
      "text/plain": [
       "'salary of developer'"
      ]
     },
     "execution_count": 37,
     "metadata": {},
     "output_type": "execute_result"
    }
   ],
   "source": [
    "dev.get_salary()"
   ]
  },
  {
   "cell_type": "code",
   "execution_count": 38,
   "id": "b3b5f507-269d-4da6-9187-b08d09c9d903",
   "metadata": {},
   "outputs": [
    {
     "data": {
      "text/plain": [
       "'salary of designer'"
      ]
     },
     "execution_count": 38,
     "metadata": {},
     "output_type": "execute_result"
    }
   ],
   "source": [
    "des.get_salary()"
   ]
  },
  {
   "cell_type": "markdown",
   "id": "a077e9dd-9890-4ca0-913c-3a8cba082c33",
   "metadata": {},
   "source": [
    "14. Discuss the differences between abstract classes and concrete classes in Python, including their\n",
    "instantiation."
   ]
  },
  {
   "cell_type": "markdown",
   "id": "37ba3bb1-700c-40b2-8749-14fabf0c3f91",
   "metadata": {},
   "source": [
    "An abstract class is a class that cannot be instantiated on its own while concrete class can\n",
    "Contains one or more abstract methods that declare the method signature without providing an implementation."
   ]
  },
  {
   "cell_type": "markdown",
   "id": "aa85a576-010b-4af9-8347-fe56595e4f68",
   "metadata": {},
   "source": [
    "15. Explain the concept of abstract data types (ADTs) and their role in achieving abstraction in Python."
   ]
  },
  {
   "cell_type": "markdown",
   "id": "c4bf625a-752f-4960-93b7-ca55d6044278",
   "metadata": {},
   "source": [
    "They abstract away the implementation details and focus on defining a set of behaviors and constraints.\n",
    "ADTs are a way of organizing and storing data, and they provide a clear interface for interacting with that data."
   ]
  },
  {
   "cell_type": "markdown",
   "id": "95a92560-b08d-47fe-a1a0-6a0e3bb82df7",
   "metadata": {},
   "source": [
    "16. Create a Python class for a computer system, demonstrating abstraction by defining common methods (e.g., `power_on()`, `shutdown()`) in an abstract base class."
   ]
  },
  {
   "cell_type": "code",
   "execution_count": 39,
   "id": "73910459-9973-419a-a4dd-436f0e209b00",
   "metadata": {},
   "outputs": [],
   "source": [
    "from abc import ABC,abstractmethod\n",
    "\n",
    "class computer(ABC):\n",
    "    \n",
    "    @abstractmethod\n",
    "    def power_on(self):\n",
    "        pass\n",
    "    @abstractmethod\n",
    "    def shutdown(self):\n",
    "        pass"
   ]
  },
  {
   "cell_type": "code",
   "execution_count": 42,
   "id": "5a32fd98-3f48-4e47-bf58-b279e90123d5",
   "metadata": {},
   "outputs": [],
   "source": [
    "class laptop(computer):\n",
    "    def power_on(self):\n",
    "        return \"on with button\"\n",
    "    \n",
    "    def shutdown(self):\n",
    "        return \"shuts down by shutdown click\""
   ]
  },
  {
   "cell_type": "code",
   "execution_count": 43,
   "id": "8999d136-51f1-46fa-b774-b81fe18ec349",
   "metadata": {},
   "outputs": [],
   "source": [
    "lap = laptop()"
   ]
  },
  {
   "cell_type": "code",
   "execution_count": 44,
   "id": "f3456d03-5a08-4104-8d47-e7045995d32f",
   "metadata": {},
   "outputs": [
    {
     "data": {
      "text/plain": [
       "'on with button'"
      ]
     },
     "execution_count": 44,
     "metadata": {},
     "output_type": "execute_result"
    }
   ],
   "source": [
    "lap.power_on()"
   ]
  },
  {
   "cell_type": "code",
   "execution_count": 45,
   "id": "0e185f2b-42db-4a83-bed7-b9024bb96b1f",
   "metadata": {},
   "outputs": [
    {
     "data": {
      "text/plain": [
       "'shuts down by shutdown click'"
      ]
     },
     "execution_count": 45,
     "metadata": {},
     "output_type": "execute_result"
    }
   ],
   "source": [
    "lap.shutdown()"
   ]
  },
  {
   "cell_type": "markdown",
   "id": "6a6d7dc8-1eeb-4190-8358-b8e144d7e88c",
   "metadata": {},
   "source": [
    "17. Discuss the benefits of using abstraction in large-scale software development projects."
   ]
  },
  {
   "cell_type": "markdown",
   "id": "e025622d-e897-44fe-8149-ac24fbc3551a",
   "metadata": {},
   "source": [
    "1. Each module encapsulates specific functionality, making it easier for developers to understand and reason about a smaller piece of the system.\n",
    "2. Developers can leverage existing, well-defined abstractions, reducing redundant work\n",
    "3. Abstraction allows the software to scale gracefully as requirements evolve.\n",
    "4. Reduced Cognitive Load\n",
    "5. Testing and Quality Assurance:"
   ]
  },
  {
   "cell_type": "markdown",
   "id": "890591cd-c844-4fe3-b0ec-872a4dafb63a",
   "metadata": {},
   "source": [
    "18. Explain how abstraction enhances code reusability and modularity in Python programs."
   ]
  },
  {
   "cell_type": "markdown",
   "id": "55b16a28-238f-4eea-a4db-1d9510a75796",
   "metadata": {},
   "source": [
    " abstraction in Python enhances code reusability by creating generic components and supporting inheritance and polymorphism. It promotes modularity by enabling the separation of concerns, encapsulating logic within modules, defining clear interfaces, and isolating implementation details."
   ]
  },
  {
   "cell_type": "markdown",
   "id": "b90e5a8a-cecb-43f5-b1bf-b38297a529ff",
   "metadata": {},
   "source": [
    "19. Create a Python class for a library system, implementing abstraction by defining common methods (e.g., `add_book()`, `borrow_book()`) in an abstract base class."
   ]
  },
  {
   "cell_type": "code",
   "execution_count": 50,
   "id": "2fc7bcc3-7c08-4eac-a5fb-c373614b0461",
   "metadata": {},
   "outputs": [],
   "source": [
    "from abc import ABC, abstractmethod\n",
    "\n",
    "class library(ABC):\n",
    "    \n",
    "    @abstractmethod\n",
    "    def add_book(self):\n",
    "        pass\n",
    "    @abstractmethod\n",
    "    def borrow_book(self):\n",
    "        pass"
   ]
  },
  {
   "cell_type": "code",
   "execution_count": 53,
   "id": "de829ce9-1170-4426-9613-b89009a62217",
   "metadata": {},
   "outputs": [],
   "source": [
    "class book(library):\n",
    "    def add_book(self):\n",
    "        return \"add book to library\"\n",
    "    \n",
    "    def borrow_book(self):\n",
    "        return \"withdraw book from library\"\n",
    "    "
   ]
  },
  {
   "cell_type": "code",
   "execution_count": 54,
   "id": "acaa10b8-4adc-4d70-8feb-a97717e2d4ef",
   "metadata": {},
   "outputs": [],
   "source": [
    "b1 = book()"
   ]
  },
  {
   "cell_type": "code",
   "execution_count": 56,
   "id": "da12296f-e71b-454a-aee6-b9914bd1e4ca",
   "metadata": {},
   "outputs": [
    {
     "data": {
      "text/plain": [
       "'add book to library'"
      ]
     },
     "execution_count": 56,
     "metadata": {},
     "output_type": "execute_result"
    }
   ],
   "source": [
    "b1.add_book()"
   ]
  },
  {
   "cell_type": "code",
   "execution_count": 57,
   "id": "92f623c0-c717-4d5e-977f-b16c5d137ed0",
   "metadata": {},
   "outputs": [
    {
     "data": {
      "text/plain": [
       "'withdraw book from library'"
      ]
     },
     "execution_count": 57,
     "metadata": {},
     "output_type": "execute_result"
    }
   ],
   "source": [
    "b1.borrow_book()"
   ]
  },
  {
   "cell_type": "markdown",
   "id": "753cf413-43cb-413f-88a7-00c3bd71840b",
   "metadata": {},
   "source": [
    "20. Describe the concept of method abstraction in Python and how it relates to polymorphism."
   ]
  },
  {
   "cell_type": "markdown",
   "id": "598829fb-8e92-4ab4-8e0e-ce3571079e34",
   "metadata": {},
   "source": [
    "Method abstraction refers to the process of hiding the implementation details of a method and exposing only its essential characteristics or behavior.\n",
    "ABCs in Python provide a way to define a common interface for a group of related classes."
   ]
  },
  {
   "cell_type": "markdown",
   "id": "9271e321-fb16-42dd-bb61-e479006e939a",
   "metadata": {},
   "source": [
    "# ==============================\n",
    "# composition"
   ]
  },
  {
   "cell_type": "markdown",
   "id": "12bba765-c760-4fb3-b049-b6e36a122379",
   "metadata": {},
   "source": [
    "1. Explain the concept of composition in Python and how it is used to build complex objects from simpler ones."
   ]
  },
  {
   "cell_type": "markdown",
   "id": "b72672d7-988f-494f-9467-94caf1b18a93",
   "metadata": {},
   "source": [
    "complex objects are built by combining simpler objects.\n",
    "It involves creating relationships between classes by having instances of one class be components of another class."
   ]
  },
  {
   "cell_type": "markdown",
   "id": "1e42047a-56d1-481b-b4dc-7b5861a34dfb",
   "metadata": {},
   "source": [
    "2. Describe the difference between composition and inheritance in object-oriented programming."
   ]
  },
  {
   "cell_type": "markdown",
   "id": "066b6595-ef23-470f-9a2f-0a4c01b7d8a5",
   "metadata": {},
   "source": [
    "Composition focuses on building objects by combining simpler components, promoting flexibility and code reuse.\n",
    "Inheritance focuses on creating a hierarchy of classes to reuse and extend code, emphasizing an \"is-a\" relationship."
   ]
  },
  {
   "cell_type": "markdown",
   "id": "96043636-e1b0-4ad7-9b70-ba09632fd33c",
   "metadata": {},
   "source": [
    "3. Create a Python class called `Author` with attributes for name and birthdate. Then, create a `Book` class\n",
    "that contains an instance of `Author` as a composition. Provide an example of creating a `Book` object."
   ]
  },
  {
   "cell_type": "code",
   "execution_count": 10,
   "id": "046d947a-996c-49e8-8cf8-27752487ad34",
   "metadata": {},
   "outputs": [],
   "source": [
    "class Author():\n",
    "    \n",
    "    def __init__(self,name,birthdate):\n",
    "        self.name = name\n",
    "        self.birthdate = birthdate\n",
    "        \n",
    "class book():\n",
    "    \n",
    "    def __init__(self,title,author):\n",
    "        self.title = title\n",
    "        self.author = author\n",
    "        \n",
    "    def show_info(self):\n",
    "        print(f\"title: {self.title}\")\n",
    "        print(f\"name: {self.author.name}\")\n",
    "        print(f\"birthdate: {self.author.birthdate}\")"
   ]
  },
  {
   "cell_type": "code",
   "execution_count": 11,
   "id": "837b2971-7b51-42e8-852a-d06b16382cf8",
   "metadata": {},
   "outputs": [],
   "source": [
    "aut = Author(\"pws\",\"25 dec 2020\")"
   ]
  },
  {
   "cell_type": "code",
   "execution_count": 12,
   "id": "c5d4b1b6-75e6-47a2-a0f0-0fe45dcbebb5",
   "metadata": {},
   "outputs": [],
   "source": [
    "kitab = book(\"data science\",aut)"
   ]
  },
  {
   "cell_type": "code",
   "execution_count": 13,
   "id": "f815776f-fbc6-48d8-b46e-f0da8f0f30c8",
   "metadata": {},
   "outputs": [
    {
     "name": "stdout",
     "output_type": "stream",
     "text": [
      "title: data science\n",
      "name: pws\n",
      "birthdate: 25 dec 2020\n"
     ]
    }
   ],
   "source": [
    "kitab.show_info()"
   ]
  },
  {
   "cell_type": "markdown",
   "id": "beee9fc9-c91d-44ea-b81e-f258bd6bc1b0",
   "metadata": {},
   "source": [
    "4. Discuss the benefits of using composition over inheritance in Python, especially in terms of code flexibility\n",
    "and reusability."
   ]
  },
  {
   "cell_type": "markdown",
   "id": "e13b65c4-6c9b-4b2f-bccf-f949574ccdea",
   "metadata": {},
   "source": [
    "Objects can be composed dynamically at runtime, allowing for more versatile and adaptable designs.\n",
    "Changes in the composition structure do not affect the external interface, providing a more flexible system.\n",
    "\n",
    "Components can be shared among multiple classes without creating deep hierarchies.\n",
    "Facilitates a more modular and maintainable codebase as components are independent and can be reused in various contexts"
   ]
  },
  {
   "cell_type": "markdown",
   "id": "3281251f-c8f3-4822-a245-22bc13243e01",
   "metadata": {},
   "source": [
    "5. How can you implement composition in Python classes? Provide examples of using composition to create\n",
    "complex objects."
   ]
  },
  {
   "cell_type": "code",
   "execution_count": 14,
   "id": "f8f012bf-39b7-4173-a009-70934d7e8a42",
   "metadata": {},
   "outputs": [],
   "source": [
    "# same as question 3"
   ]
  },
  {
   "cell_type": "markdown",
   "id": "1ee98687-64ae-45cf-8309-6984ec3e9547",
   "metadata": {},
   "source": [
    "6. Create a Python class hierarchy for a music player system, using composition to represent playlists and\n",
    "songs."
   ]
  },
  {
   "cell_type": "code",
   "execution_count": 82,
   "id": "fbed96bc-87fc-440d-b868-d3d122a910a6",
   "metadata": {},
   "outputs": [],
   "source": [
    "class song():\n",
    "    \n",
    "    def __init__(self,song_name,duration):\n",
    "        self.song_name = song_name\n",
    "        self.duration = duration\n",
    "        \n",
    "class playlist():\n",
    "    \n",
    "    def __init__(self,playlist_name):\n",
    "        self.playlist_name = playlist_name\n",
    "        self.list1 = []\n",
    "        \n",
    "    def add_songs(self,song):\n",
    "        self.list1.append(song)\n",
    "        \n",
    "    def show_info(self):\n",
    "        for val in self.list1:\n",
    "            print(f\"song name:{val.song_name} duration:{val.duration}\")\n",
    "    \n",
    "    def play_all(self):\n",
    "        print(\"playing songs\")\n",
    "        for val in self.list1:\n",
    "           \n",
    "            print(f\"song name:{val.song_name} duration:{val.duration}\")\n",
    "    \n",
    "            \n",
    "            \n",
    "    "
   ]
  },
  {
   "cell_type": "code",
   "execution_count": 83,
   "id": "f12c791a-b00a-4efc-9777-a19ca4d37c63",
   "metadata": {},
   "outputs": [],
   "source": [
    "s1 = song(\"song1\",\"3min\")\n",
    "s2 = song(\"song2\",\"4min\")"
   ]
  },
  {
   "cell_type": "code",
   "execution_count": 84,
   "id": "436070eb-6542-4280-b5e7-dd1b33f2d062",
   "metadata": {},
   "outputs": [],
   "source": [
    "p1 = playlist(\"playlist1\")"
   ]
  },
  {
   "cell_type": "code",
   "execution_count": 85,
   "id": "614893bb-0079-48a6-b2a5-f91280e42842",
   "metadata": {},
   "outputs": [],
   "source": [
    "p1.add_songs(s1)"
   ]
  },
  {
   "cell_type": "code",
   "execution_count": 86,
   "id": "991b1d2f-ef5e-41ef-b940-3ad53daa110d",
   "metadata": {},
   "outputs": [],
   "source": [
    "p1.add_songs(s2)"
   ]
  },
  {
   "cell_type": "code",
   "execution_count": 87,
   "id": "5c155908-9c01-4b6e-8790-801c0a571b35",
   "metadata": {},
   "outputs": [
    {
     "name": "stdout",
     "output_type": "stream",
     "text": [
      "song name:song1 duration:3min\n",
      "song name:song2 duration:4min\n"
     ]
    }
   ],
   "source": [
    "p1.show_info()"
   ]
  },
  {
   "cell_type": "code",
   "execution_count": 88,
   "id": "a24a78cd-49a4-418a-b369-a6e790d7e6b3",
   "metadata": {},
   "outputs": [
    {
     "name": "stdout",
     "output_type": "stream",
     "text": [
      "playing songs\n",
      "song name:song1 duration:3min\n",
      "song name:song2 duration:4min\n"
     ]
    }
   ],
   "source": [
    "p1.play_all()"
   ]
  },
  {
   "cell_type": "markdown",
   "id": "8375917d-2293-43cc-bf00-857abe3b8a0f",
   "metadata": {},
   "source": [
    "7. Explain the concept of \"has-a\" relationships in composition and how it helps design software systems."
   ]
  },
  {
   "cell_type": "markdown",
   "id": "a5cc8e5d-fca3-4f39-8a95-55efcf5d9241",
   "metadata": {},
   "source": [
    "one class is composed of another class, indicating that an object of the first class \"has\" an object of the second class as a part or component."
   ]
  },
  {
   "cell_type": "markdown",
   "id": "1cbcd33f-5ba0-4452-89c4-effe7711c958",
   "metadata": {},
   "source": [
    "8. Create a Python class for a computer system, using composition to represent components like CPU, RAM,\n",
    "and storage devices."
   ]
  },
  {
   "cell_type": "code",
   "execution_count": 1,
   "id": "5c055e99-2da9-4b0a-b3d5-fe12229fe13b",
   "metadata": {},
   "outputs": [],
   "source": [
    "class CPU():\n",
    "    def capacity(self):\n",
    "        return \"capacity of CPU \"\n",
    "    \n",
    "class RAM():\n",
    "    \n",
    "    def ram_size(self):\n",
    "        return \"RAM size\"\n",
    "    \n",
    "class storage():\n",
    "    \n",
    "    def storage_size(self):\n",
    "        return \"storage 100 gb SSD\""
   ]
  },
  {
   "cell_type": "code",
   "execution_count": 9,
   "id": "a3b8c9c0-8b61-46fa-893a-59518fb221ab",
   "metadata": {},
   "outputs": [],
   "source": [
    "class computer():\n",
    "    \n",
    "    def __init__(self,cpu,ram,storage):\n",
    "        self.cpu = cpu\n",
    "        self.ram = ram\n",
    "        self.storage = storage\n",
    "        \n",
    "    def show_info(self):\n",
    "        print(f\"CPU : {self.cpu.capacity()}\")\n",
    "        print(f\"RAM : {self.ram.ram_size()}\")\n",
    "        print(f\"storage : {self.storage.storage_size()}\")"
   ]
  },
  {
   "cell_type": "code",
   "execution_count": 10,
   "id": "11dc1ff6-582c-43ac-8bd4-46cf9ba29ae7",
   "metadata": {},
   "outputs": [],
   "source": [
    "cp = CPU()"
   ]
  },
  {
   "cell_type": "code",
   "execution_count": 11,
   "id": "f1478646-a41c-4494-acd0-7fc05f11acd1",
   "metadata": {},
   "outputs": [],
   "source": [
    "rm = RAM()"
   ]
  },
  {
   "cell_type": "code",
   "execution_count": 12,
   "id": "15817d15-4761-4a8f-8e14-39a7e1c39457",
   "metadata": {},
   "outputs": [],
   "source": [
    "st = storage()"
   ]
  },
  {
   "cell_type": "code",
   "execution_count": 13,
   "id": "577d9053-bc5e-437a-af71-01d098463e14",
   "metadata": {},
   "outputs": [],
   "source": [
    "comp = computer(cp,rm,st)"
   ]
  },
  {
   "cell_type": "code",
   "execution_count": 15,
   "id": "0aef7b27-169b-4f5d-9712-5537fd31e20f",
   "metadata": {},
   "outputs": [
    {
     "name": "stdout",
     "output_type": "stream",
     "text": [
      "CPU : capacity of CPU \n",
      "RAM : RAM size\n",
      "storage : storage 100 gb SSD\n"
     ]
    }
   ],
   "source": [
    "comp.show_info()"
   ]
  },
  {
   "cell_type": "markdown",
   "id": "cdbe85ac-dc5d-48b4-b932-fed3e8cc715a",
   "metadata": {},
   "source": [
    "9. Describe the concept of \"delegation\" in composition and how it simplifies the design of complex systems."
   ]
  },
  {
   "cell_type": "markdown",
   "id": "bbfda0ac-4e37-42b4-94df-f0b21f64bbf3",
   "metadata": {},
   "source": [
    " \"delegation\" refers to the practice of one object passing on a responsibility or task to another object. This is often used to simplify the design of complex systems by promoting modularity and code reuse."
   ]
  },
  {
   "cell_type": "markdown",
   "id": "64b7f82d-a202-4ee7-9436-9e19b065d059",
   "metadata": {},
   "source": [
    "10. Create a Python class for a car, using composition to represent components like the engine, wheels, and\n",
    "transmission."
   ]
  },
  {
   "cell_type": "code",
   "execution_count": 16,
   "id": "ad1899c9-a6f3-42d6-89e8-303ec581b824",
   "metadata": {},
   "outputs": [],
   "source": [
    "class engine():\n",
    "    def __init__(self,fuel):\n",
    "        self.fuel = fuel\n",
    "        \n",
    "    def engine_type(self):\n",
    "        return (f\"engine type: {self.fuel}\")\n",
    "    \n",
    "class wheels():\n",
    "    def __init__(self,num):\n",
    "        self.num = num\n",
    "        \n",
    "    def wheels_number(self):\n",
    "        return (f\"wheel number: {self.num}\")\n",
    "    \n",
    "class transmission():\n",
    "    def __init__(self,category):\n",
    "        self.category = category\n",
    "        \n",
    "    def transmission_type(self):\n",
    "        return (f\"transmission type: {self.category}\")"
   ]
  },
  {
   "cell_type": "code",
   "execution_count": 17,
   "id": "b0519cc3-5e0b-4177-a3bc-b999de91f54d",
   "metadata": {},
   "outputs": [],
   "source": [
    "e1 = engine(\"petrol\")\n",
    "whe = wheels(6)\n",
    "tran = transmission(\"manual\")\n"
   ]
  },
  {
   "cell_type": "code",
   "execution_count": 18,
   "id": "24fe2d04-b9cb-44a3-9914-950707785209",
   "metadata": {},
   "outputs": [],
   "source": [
    "class car():\n",
    "    def __init__(self,engine,wheel,transmission):\n",
    "        self.engine = engine\n",
    "        self.wheel = wheel\n",
    "        self.transmission = transmission\n",
    "        \n",
    "    def show_info(self):\n",
    "        print(self.engine.engine_type())\n",
    "        print(self.wheel.wheels_number())\n",
    "        print(self.transmission.transmission_type())"
   ]
  },
  {
   "cell_type": "code",
   "execution_count": 19,
   "id": "d1c72c1f-1ccf-4fe5-9f91-c2e3fde734c4",
   "metadata": {},
   "outputs": [],
   "source": [
    "c = car(e1,whe,tran)"
   ]
  },
  {
   "cell_type": "code",
   "execution_count": 20,
   "id": "9326ff73-f223-4979-82d0-a662b2c2f90d",
   "metadata": {},
   "outputs": [
    {
     "name": "stdout",
     "output_type": "stream",
     "text": [
      "engine type: petrol\n",
      "wheel number: 6\n",
      "transmission type: manual\n"
     ]
    }
   ],
   "source": [
    "c.show_info()"
   ]
  },
  {
   "cell_type": "markdown",
   "id": "b67aa54f-1d81-48e4-9a0c-82c6f52cd064",
   "metadata": {},
   "source": [
    "11. How can you encapsulate and hide the details of composed objects in Python classes to maintain\n",
    "abstraction?"
   ]
  },
  {
   "cell_type": "markdown",
   "id": "2d53cf93-fdb8-4871-b23c-33c1c5121e67",
   "metadata": {},
   "source": [
    "by use of private variables using \"__\" double underscore and the to define the conposed objects"
   ]
  },
  {
   "cell_type": "markdown",
   "id": "d132cfa7-7ba5-4fac-be77-532f67795ce8",
   "metadata": {},
   "source": [
    "12. Create a Python class for a university course, using composition to represent students, instructors, and\n",
    "course materials."
   ]
  },
  {
   "cell_type": "code",
   "execution_count": 26,
   "id": "b4a08397-b4ae-4b9b-8697-c55503947982",
   "metadata": {},
   "outputs": [],
   "source": [
    "class Student:\n",
    "    def __init__(self, student_id, name):\n",
    "        self.student_id = student_id\n",
    "        self.name = name\n",
    "\n",
    "    def study(self):\n",
    "        print(f\"{self.name} is studying.\")\n",
    "\n",
    "class Instructor:\n",
    "    def __init__(self, instructor_id, name):\n",
    "        self.instructor_id = instructor_id\n",
    "        self.name = name\n",
    "\n",
    "    def teach(self):\n",
    "        print(f\"{self.name} is teaching.\")\n",
    "\n",
    "class CourseMaterial:\n",
    "    def __init__(self, material_name):\n",
    "        self.material_name = material_name\n",
    "\n",
    "    def review(self):\n",
    "        print(f\"Reviewing course material: {self.material_name}\")\n",
    "\n",
    "class UniversityCourse:\n",
    "    def __init__(self, course_name, instructor, students, course_material):\n",
    "        self.course_name = course_name\n",
    "        self.instructor = instructor  \n",
    "        self.students = students  \n",
    "        self.course_material = course_material  \n",
    "\n",
    "    def conduct_class(self):\n",
    "        print(f\"Conducting {self.course_name} class:\")\n",
    "        self.instructor.teach()\n",
    "        for student in self.students:\n",
    "            student.study()\n",
    "        self.course_material.review()\n"
   ]
  },
  {
   "cell_type": "code",
   "execution_count": 27,
   "id": "c1a19d6c-a9fa-447e-b08c-b7f100c35efa",
   "metadata": {},
   "outputs": [],
   "source": [
    "instructor = Instructor(instructor_id=1, name=\"Professor Smith\")\n",
    "student1 = Student(student_id=101, name=\"Alice\")\n",
    "student2 = Student(student_id=102, name=\"Bob\")\n",
    "course_material = CourseMaterial(material_name=\"Introduction to Python\")"
   ]
  },
  {
   "cell_type": "code",
   "execution_count": 28,
   "id": "106d9d55-b42e-4705-b12c-d8e88ca41e4f",
   "metadata": {},
   "outputs": [],
   "source": [
    "python_course = UniversityCourse(course_name=\"Python Programming\",\n",
    "                                     instructor=instructor,\n",
    "                                     students=[student1, student2],\n",
    "                                     course_material=course_material)"
   ]
  },
  {
   "cell_type": "code",
   "execution_count": 29,
   "id": "42ba4810-03fc-4a75-95ff-64c5cb97e5ae",
   "metadata": {},
   "outputs": [
    {
     "name": "stdout",
     "output_type": "stream",
     "text": [
      "Conducting Python Programming class:\n",
      "Professor Smith is teaching.\n",
      "Alice is studying.\n",
      "Bob is studying.\n",
      "Reviewing course material: Introduction to Python\n"
     ]
    }
   ],
   "source": [
    "python_course.conduct_class()"
   ]
  },
  {
   "cell_type": "markdown",
   "id": "99f7fb7d-8755-4dc7-a912-a99d22faef62",
   "metadata": {},
   "source": [
    "13. Discuss the challenges and drawbacks of composition, such as increased complexity and potential for\n",
    "tight coupling between objects."
   ]
  },
  {
   "cell_type": "markdown",
   "id": "0d97f5a7-9baa-48eb-9063-d1569ee07b22",
   "metadata": {},
   "source": [
    "Tight coupling means that the components are highly dependent on each other, and changes to one component may have a ripple effect on others.\n",
    "This can make the system less maintainable and harder to modify."
   ]
  },
  {
   "cell_type": "markdown",
   "id": "258de96f-143c-41b3-a62f-07b122f3bc2f",
   "metadata": {},
   "source": [
    "14. Create a Python class hierarchy for a restaurant system, using composition to represent menus, dishes,\n",
    "and ingredients."
   ]
  },
  {
   "cell_type": "code",
   "execution_count": 30,
   "id": "ef0c6e39-906e-42be-bb4e-cf3962a44fee",
   "metadata": {},
   "outputs": [
    {
     "name": "stdout",
     "output_type": "stream",
     "text": [
      "Welcome to La Trattoria!\n",
      "Menu: Lunch Menu\n",
      "Margherita Pizza - Ingredients: Dough, Tomato Sauce, Cheese\n",
      "Caprese Salad - Ingredients: Tomato, Cheese\n"
     ]
    }
   ],
   "source": [
    "class Ingredient:\n",
    "    def __init__(self, name):\n",
    "        self.name = name\n",
    "\n",
    "class Dish:\n",
    "    def __init__(self, name, ingredients):\n",
    "        self.name = name\n",
    "        self.ingredients = ingredients  \n",
    "        \n",
    "    def display(self):\n",
    "        print(f\"{self.name} - Ingredients: {', '.join(ingredient.name for ingredient in self.ingredients)}\")\n",
    "\n",
    "class Menu:\n",
    "    def __init__(self, name, dishes):\n",
    "        self.name = name\n",
    "        self.dishes = dishes  \n",
    "\n",
    "    def display(self):\n",
    "        print(f\"Menu: {self.name}\")\n",
    "        for dish in self.dishes:\n",
    "            dish.display()\n",
    "\n",
    "class Restaurant:\n",
    "    def __init__(self, name, menus):\n",
    "        self.name = name\n",
    "        self.menus = menus  \n",
    "\n",
    "    def display_menu(self):\n",
    "        print(f\"Welcome to {self.name}!\")\n",
    "        for menu in self.menus:\n",
    "            menu.display()\n",
    "\n",
    "# Example usage\n",
    "if __name__ == \"__main__\":\n",
    "    # Creating instances of ingredients\n",
    "    tomato = Ingredient(name=\"Tomato\")\n",
    "    cheese = Ingredient(name=\"Cheese\")\n",
    "    dough = Ingredient(name=\"Dough\")\n",
    "    sauce = Ingredient(name=\"Tomato Sauce\")\n",
    "\n",
    "    # Creating instances of dishes\n",
    "    margherita_pizza = Dish(name=\"Margherita Pizza\", ingredients=[dough, sauce, cheese])\n",
    "    caprese_salad = Dish(name=\"Caprese Salad\", ingredients=[tomato, cheese])\n",
    "\n",
    "    # Creating instances of menus\n",
    "    lunch_menu = Menu(name=\"Lunch Menu\", dishes=[margherita_pizza, caprese_salad])\n",
    "\n",
    "    # Creating an instance of the restaurant\n",
    "    my_restaurant = Restaurant(name=\"La Trattoria\", menus=[lunch_menu])\n",
    "\n",
    "    # Displaying the menu\n",
    "    my_restaurant.display_menu()\n"
   ]
  },
  {
   "cell_type": "code",
   "execution_count": 31,
   "id": "b0b1c304-fa32-467d-b0a7-afdc8292c09a",
   "metadata": {},
   "outputs": [],
   "source": [
    "tomato = Ingredient(name=\"Tomato\")\n",
    "cheese = Ingredient(name=\"Cheese\")\n",
    "dough = Ingredient(name=\"Dough\")\n",
    "sauce = Ingredient(name=\"Tomato Sauce\")"
   ]
  },
  {
   "cell_type": "code",
   "execution_count": 38,
   "id": "5b61ac3e-567e-433b-8196-bc40bf86b114",
   "metadata": {},
   "outputs": [],
   "source": [
    "pizza = Dish(name=\"Pizza\", ingredients=[dough, sauce, cheese])\n",
    "salad = Dish(name=\"Salad\", ingredients=[tomato, cheese])"
   ]
  },
  {
   "cell_type": "code",
   "execution_count": 39,
   "id": "d790956b-01d6-47c8-85eb-0ffce7a29b17",
   "metadata": {},
   "outputs": [],
   "source": [
    "lunch_menu = Menu(name=\"Lunch Menu\", dishes=[pizza, salad])"
   ]
  },
  {
   "cell_type": "code",
   "execution_count": 40,
   "id": "57381f49-93e2-452b-962e-d0186a226813",
   "metadata": {},
   "outputs": [],
   "source": [
    "my_restaurant = Restaurant(name=\"pws\", menus=[lunch_menu])\n"
   ]
  },
  {
   "cell_type": "code",
   "execution_count": 41,
   "id": "0f81bc91-ea06-493b-a136-5d00852fb9f9",
   "metadata": {},
   "outputs": [
    {
     "name": "stdout",
     "output_type": "stream",
     "text": [
      "Welcome to pws!\n",
      "Menu: Lunch Menu\n",
      "Pizza - Ingredients: Dough, Tomato Sauce, Cheese\n",
      "Salad - Ingredients: Tomato, Cheese\n"
     ]
    }
   ],
   "source": [
    "my_restaurant.display_menu()"
   ]
  },
  {
   "cell_type": "markdown",
   "id": "7d70c4ee-b16f-492b-9af1-233c48cda316",
   "metadata": {},
   "source": [
    "15. Explain how composition enhances code maintainability and modularity in Python programs."
   ]
  },
  {
   "cell_type": "markdown",
   "id": "c36e0152-fae7-4a9e-96ce-14eda6bbcdaf",
   "metadata": {},
   "source": [
    "Composition allows you to break down complex systems into smaller, manageable components. Each component represents a module with a well-defined responsibility.\n",
    "Modules are independent units that can be developed, tested, and maintained separately. This promotes modular design, making it easier to understand, modify, and extend the system."
   ]
  },
  {
   "cell_type": "markdown",
   "id": "edcb6822-424d-4882-89bb-31151e7f9cee",
   "metadata": {},
   "source": [
    "16. Create a Python class for a computer game character, using composition to represent attributes like\n",
    "weapons, armor, and inventory."
   ]
  },
  {
   "cell_type": "code",
   "execution_count": 46,
   "id": "bbf72534-4152-4fc6-98af-70d92328b122",
   "metadata": {},
   "outputs": [],
   "source": [
    "class Weapon:\n",
    "    def __init__(self, name, damage):\n",
    "        self.name = name\n",
    "        self.damage = damage\n",
    "\n",
    "class Armor:\n",
    "    def __init__(self, name, defense):\n",
    "        self.name = name\n",
    "        self.defense = defense\n",
    "\n",
    "class InventoryItem:\n",
    "    def __init__(self, name, quantity):\n",
    "        self.name = name\n",
    "        self.quantity = quantity\n",
    "\n",
    "class GameCharacter:\n",
    "    def __init__(self, name, health, weapon=None, armor=None, inventory=None):\n",
    "        self.name = name\n",
    "        self.health = health\n",
    "        self.weapon = weapon  \n",
    "        self.armor = armor    \n",
    "        self.inventory = inventory or []  \n",
    "\n",
    "    def attack(self, target):\n",
    "        if self.weapon:\n",
    "            print(f\"{self.name} attacks {target.name} with {self.weapon.name} and causes {self.weapon.damage} damage.\")\n",
    "            target.health -= self.weapon.damage\n",
    "        else:\n",
    "            print(f\"{self.name} attacks {target.name} but has no weapon.\")\n",
    "\n",
    "    def defend(self, damage):\n",
    "        if self.armor:\n",
    "            print(f\"{self.name} defends with {self.armor.name} and reduces damage by {self.armor.defense}.\")\n",
    "            damage -= self.armor.defense\n",
    "            if damage < 0:\n",
    "                damage = 0\n",
    "        self.health -= damage\n",
    "        print(f\"{self.name}'s health is now {self.health}.\")\n",
    "\n",
    "    def add_to_inventory(self, item, quantity=1):\n",
    "        existing_item = next((inv_item for inv_item in self.inventory if inv_item.name == item.name), None)\n",
    "        if existing_item:\n",
    "            existing_item.quantity += quantity\n",
    "        else:\n",
    "            self.inventory.append(InventoryItem(name=item.name, quantity=quantity))\n",
    "\n",
    "    def display_inventory(self):\n",
    "        print(f\"{self.name}'s Inventory:\")\n",
    "        for item in self.inventory:\n",
    "            print(f\"{item.name}: {item.quantity}\")\n",
    "\n"
   ]
  },
  {
   "cell_type": "code",
   "execution_count": 43,
   "id": "3f5b3865-6bd6-41ea-959d-3248162afbb5",
   "metadata": {},
   "outputs": [],
   "source": [
    "sword = Weapon(name=\"Sword\", damage=10)\n",
    "shield = Armor(name=\"Shield\", defense=5)\n",
    "health_potion = InventoryItem(name=\"Health Potion\", quantity=3)"
   ]
  },
  {
   "cell_type": "code",
   "execution_count": 44,
   "id": "cae0241d-8ffc-41ae-907f-1b15f9b7cefb",
   "metadata": {},
   "outputs": [],
   "source": [
    "player = GameCharacter(name=\"Hero\", health=100, weapon=sword, armor=shield)\n",
    "enemy = GameCharacter(name=\"Dragon\", health=200)"
   ]
  },
  {
   "cell_type": "code",
   "execution_count": 47,
   "id": "9ff36101-1039-4e3f-b571-b54634424d40",
   "metadata": {},
   "outputs": [
    {
     "name": "stdout",
     "output_type": "stream",
     "text": [
      "Hero attacks Dragon with Sword and causes 10 damage.\n",
      "Dragon's health is now 150.\n",
      "Hero's Inventory:\n",
      "Health Potion: 4\n"
     ]
    }
   ],
   "source": [
    "player.attack(enemy)\n",
    "enemy.defend(15)\n",
    "\n",
    "player.add_to_inventory(health_potion, quantity=2)\n",
    "player.display_inventory()"
   ]
  },
  {
   "cell_type": "markdown",
   "id": "9d2ac7e9-dc6a-46d2-99df-4e435308da18",
   "metadata": {},
   "source": [
    "17. Describe the concept of \"aggregation\" in composition and how it differs from simple composition."
   ]
  },
  {
   "cell_type": "markdown",
   "id": "c6ca383a-46f9-4606-ae1b-c529850dc570",
   "metadata": {},
   "source": [
    "Aggregation is a form of composition in object-oriented programming where one class contains another class, but the contained class is not entirely dependent on the container class. It's a \"has-a\" relationship, similar to simple composition, but with a key difference. In aggregation, the contained class can exist independently of the container class."
   ]
  },
  {
   "cell_type": "markdown",
   "id": "26ca17a8-a70d-463e-8ded-0221782cddd7",
   "metadata": {},
   "source": [
    "18. Create a Python class for a house, using composition to represent rooms, furniture, and appliances."
   ]
  },
  {
   "cell_type": "code",
   "execution_count": 51,
   "id": "db4206e3-a820-46e7-a6bb-435fbeed6e1f",
   "metadata": {},
   "outputs": [],
   "source": [
    "class Furniture:\n",
    "    def __init__(self, name):\n",
    "        self.name = name\n",
    "\n",
    "class Appliance:\n",
    "    def __init__(self, name):\n",
    "        self.name = name\n",
    "\n",
    "class Room:\n",
    "    def __init__(self, name, furniture=None, appliances=None):\n",
    "        self.name = name\n",
    "        self.furniture = furniture or [] \n",
    "        self.appliances = appliances or []  \n",
    "\n",
    "    def add_furniture(self, furniture):\n",
    "        self.furniture.append(furniture)\n",
    "\n",
    "    def add_appliance(self, appliance):\n",
    "        self.appliances.append(appliance)\n",
    "\n",
    "class House:\n",
    "    def __init__(self, name, rooms=None):\n",
    "        self.name = name\n",
    "        self.rooms = rooms or []  \n",
    "\n",
    "    def add_room(self, room):\n",
    "        self.rooms.append(room)\n"
   ]
  },
  {
   "cell_type": "code",
   "execution_count": 52,
   "id": "f15e52a3-4e89-4da2-a5c6-e651668560f1",
   "metadata": {},
   "outputs": [],
   "source": [
    "sofa = Furniture(name=\"Sofa\")\n",
    "fridge = Appliance(name=\"Refrigerator\")\n",
    "\n",
    "living_room = Room(name=\"Living Room\", furniture=[sofa], appliances=[fridge])\n",
    "kitchen = Room(name=\"Kitchen\")\n",
    "\n",
    "my_house = House(name=\"Cozy Cottage\", rooms=[living_room, kitchen])\n",
    "\n",
    "bed = Furniture(name=\"Bed\")\n",
    "bedroom = Room(name=\"Bedroom\", furniture=[bed])"
   ]
  },
  {
   "cell_type": "code",
   "execution_count": 54,
   "id": "77b2db34-193a-43b1-8f16-2e0bf86b0aae",
   "metadata": {},
   "outputs": [],
   "source": [
    "my_house.add_room(bedroom)"
   ]
  },
  {
   "cell_type": "markdown",
   "id": "bbb9d543-d9ee-4b6b-8f3d-ce7d44f6940b",
   "metadata": {},
   "source": [
    "19. How can you achieve flexibility in composed objects by allowing them to be replaced or modified\n",
    "dynamically at runtime?"
   ]
  },
  {
   "cell_type": "markdown",
   "id": "e2206753-aeeb-4237-8bd9-57d65034498f",
   "metadata": {},
   "source": [
    "Instead of creating dependencies within the class, provide them from the outside. This can be achieved through constructor injection, method injection, or property injection"
   ]
  },
  {
   "cell_type": "markdown",
   "id": "45f3fd2b-8ae8-4fce-b556-2ed36afb3c33",
   "metadata": {},
   "source": [
    "20. Create a Python class for a social media application, using composition to represent users, posts, and\n",
    "comments."
   ]
  },
  {
   "cell_type": "code",
   "execution_count": 55,
   "id": "b09a7216-5331-4d67-96fc-fbf0e3f2e608",
   "metadata": {},
   "outputs": [],
   "source": [
    "class users():\n",
    "    \n",
    "    def __init__(self,name):\n",
    "        self.name = name\n",
    "    \n",
    "    def username(self):\n",
    "        print(f\"user name: {self.name}\")\n",
    "        \n",
    "class posts():\n",
    "    \n",
    "    def __init__(self,post):\n",
    "        self.post = post\n",
    "        self.postlist = []\n",
    "    \n",
    "    def create_post(self,user):\n",
    "        \n",
    "        self.postlist.append(self.post)"
   ]
  },
  {
   "cell_type": "code",
   "execution_count": null,
   "id": "53c28f38-9f5e-4faa-982e-978ea67a6b2c",
   "metadata": {},
   "outputs": [],
   "source": []
  },
  {
   "cell_type": "code",
   "execution_count": 61,
   "id": "a691bef2-02c5-4bb1-9cf8-836d5cd21b6a",
   "metadata": {},
   "outputs": [],
   "source": [
    "class User:\n",
    "    def __init__(self, username):\n",
    "        self.username = username\n",
    "        self.posts = [] \n",
    "        self.comments = []  \n",
    "\n",
    "    def create_post(self, content):\n",
    "        post = Post(author=self, content=content)\n",
    "        self.posts.append(post)\n",
    "        return post\n",
    "\n",
    "    def add_comment(self, post, content):\n",
    "        comment = Comment(author=self, post=post, content=content)\n",
    "        post.add_comment(comment)\n",
    "        self.comments.append(comment)\n",
    "\n",
    "class Post:\n",
    "    def __init__(self, author, content):\n",
    "        self.author = author\n",
    "        self.content = content\n",
    "        self.comments = [] \n",
    "\n",
    "    def add_comment(self, comment):\n",
    "        self.comments.append(comment)\n",
    "\n",
    "class Comment:\n",
    "    def __init__(self, author, post, content):\n",
    "        self.author = author\n",
    "        self.post = post\n",
    "        self.content = content\n"
   ]
  },
  {
   "cell_type": "code",
   "execution_count": 62,
   "id": "3de0c862-b327-4e4c-90e2-4476a22a7a03",
   "metadata": {},
   "outputs": [],
   "source": [
    "alice = User(username=\"Alice\")\n",
    "bob = User(username=\"Bob\")\n",
    "post1 = alice.create_post(content=\"Hello, this is my first post!\")\n",
    "bob.add_comment(post=post1, content=\"Nice post, Alice!\")\n"
   ]
  },
  {
   "cell_type": "code",
   "execution_count": 63,
   "id": "ea2e81f1-4e84-4467-a79d-e124082bde6d",
   "metadata": {},
   "outputs": [
    {
     "name": "stdout",
     "output_type": "stream",
     "text": [
      "Alice's Posts:\n",
      "Post: Hello, this is my first post!\n",
      "  Comment by Bob: Nice post, Alice!\n"
     ]
    }
   ],
   "source": [
    "print(f\"{alice.username}'s Posts:\")\n",
    "for post in alice.posts:\n",
    "    print(f\"Post: {post.content}\")\n",
    "    for comment in post.comments:\n",
    "        print(f\"  Comment by {comment.author.username}: {comment.content}\")"
   ]
  },
  {
   "cell_type": "code",
   "execution_count": null,
   "id": "1b1fe360-82e4-470d-980c-34ed8ee74391",
   "metadata": {},
   "outputs": [],
   "source": []
  }
 ],
 "metadata": {
  "kernelspec": {
   "display_name": "Python 3 (ipykernel)",
   "language": "python",
   "name": "python3"
  },
  "language_info": {
   "codemirror_mode": {
    "name": "ipython",
    "version": 3
   },
   "file_extension": ".py",
   "mimetype": "text/x-python",
   "name": "python",
   "nbconvert_exporter": "python",
   "pygments_lexer": "ipython3",
   "version": "3.10.8"
  }
 },
 "nbformat": 4,
 "nbformat_minor": 5
}

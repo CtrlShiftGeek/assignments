{
 "cells": [
  {
   "cell_type": "markdown",
   "id": "acbf8ebc-8aad-4776-8639-c8001e38fe38",
   "metadata": {},
   "source": [
    "# Python assignment 17th Sept FSDS Pro"
   ]
  },
  {
   "cell_type": "markdown",
   "id": "e2aa890c-a50a-487d-8a94-ee048f22ef85",
   "metadata": {},
   "source": [
    "1. Write a Python program to print numbers from 1 to 10 using a for loop."
   ]
  },
  {
   "cell_type": "code",
   "execution_count": 69,
   "id": "9cda5e9f-423b-4835-80af-4904abb8d6e5",
   "metadata": {},
   "outputs": [
    {
     "name": "stdout",
     "output_type": "stream",
     "text": [
      "1\n",
      "2\n",
      "3\n",
      "4\n",
      "5\n",
      "6\n",
      "7\n",
      "8\n",
      "9\n",
      "10\n"
     ]
    }
   ],
   "source": [
    "for i in range(1,11):\n",
    "    print(i)"
   ]
  },
  {
   "cell_type": "markdown",
   "id": "cda7dec8-eb64-4d36-bb0b-96a42ae4a3c3",
   "metadata": {},
   "source": [
    "2. Explain the difference between a for loop and a while loop in Python."
   ]
  },
  {
   "cell_type": "markdown",
   "id": "7f9a4804-972a-48d6-9ac3-275e74d4ef89",
   "metadata": {},
   "source": [
    "For loops are designed for iterating over a sequence of items.\n",
    "while loops is used when the number of iterations is not known or when we want to repeat a block of code until a certain condition is met."
   ]
  },
  {
   "cell_type": "markdown",
   "id": "d1c592d3-2454-4d2c-a84b-0ad0a31d3618",
   "metadata": {},
   "source": [
    "3. Write a Python program to calculate the sum of all numbers from 1 to 100 using a for loop.\n"
   ]
  },
  {
   "cell_type": "code",
   "execution_count": 70,
   "id": "4a1e28c1-14db-4805-9c6f-32805aa9888d",
   "metadata": {},
   "outputs": [
    {
     "name": "stdout",
     "output_type": "stream",
     "text": [
      "sum of number 5050\n"
     ]
    }
   ],
   "source": [
    "s = 0\n",
    "for val in range(1,101):\n",
    "    s +=val\n",
    "print(\"sum of number\",s)"
   ]
  },
  {
   "cell_type": "markdown",
   "id": "d8b639ed-c8b4-4054-94f8-6971052aded8",
   "metadata": {},
   "source": [
    "4. How do you iterate through a list using a for loop in Python?\n"
   ]
  },
  {
   "cell_type": "code",
   "execution_count": 71,
   "id": "af227977-b3d5-4535-be10-7a1d07157585",
   "metadata": {},
   "outputs": [],
   "source": [
    "l = [\"item1\",\"item2\",\"item3\",\"item4\"]"
   ]
  },
  {
   "cell_type": "code",
   "execution_count": 72,
   "id": "422207cd-70ef-44e0-83a9-a4bb3d0ebf92",
   "metadata": {},
   "outputs": [
    {
     "name": "stdout",
     "output_type": "stream",
     "text": [
      "item1\n",
      "item2\n",
      "item3\n",
      "item4\n"
     ]
    }
   ],
   "source": [
    "for val in l:\n",
    "    print(val)"
   ]
  },
  {
   "cell_type": "markdown",
   "id": "56d22396-7eef-42a3-aa39-d59d6d33a039",
   "metadata": {},
   "source": [
    "5. Write a Python program to find the product of all elements in a list using a for loop.\n"
   ]
  },
  {
   "cell_type": "code",
   "execution_count": 73,
   "id": "5311465b-ea93-46f4-8461-2eab9ce65b0a",
   "metadata": {},
   "outputs": [],
   "source": [
    "l = [1,2,3,4,5]"
   ]
  },
  {
   "cell_type": "code",
   "execution_count": 74,
   "id": "8b327e3e-b4f9-4b5c-81f2-cfe4370ea0f4",
   "metadata": {},
   "outputs": [],
   "source": [
    "ans = l[0]\n",
    "for i in range(1,len(l)):\n",
    "    ans = ans*l[i] "
   ]
  },
  {
   "cell_type": "code",
   "execution_count": 75,
   "id": "d75c60bf-1d1e-4a55-b2a6-2675670482d7",
   "metadata": {},
   "outputs": [
    {
     "name": "stdout",
     "output_type": "stream",
     "text": [
      "product of all element 120\n"
     ]
    }
   ],
   "source": [
    "print(\"product of all element\",ans)"
   ]
  },
  {
   "cell_type": "markdown",
   "id": "a3955d14-9abd-46e0-9761-eaafa7b2ed04",
   "metadata": {},
   "source": [
    "6. Create a Python program that prints all even numbers from 1 to 20 using a for loop.\n"
   ]
  },
  {
   "cell_type": "code",
   "execution_count": 76,
   "id": "edeba33d-ccbb-474b-bf50-0ae0a2e69f7e",
   "metadata": {},
   "outputs": [
    {
     "name": "stdout",
     "output_type": "stream",
     "text": [
      "2\n",
      "4\n",
      "6\n",
      "8\n",
      "10\n",
      "12\n",
      "14\n",
      "16\n",
      "18\n",
      "20\n"
     ]
    }
   ],
   "source": [
    "for i in range(1,21):\n",
    "    if i%2==0:\n",
    "        print(i)"
   ]
  },
  {
   "cell_type": "markdown",
   "id": "8ab71b62-debf-41a9-b5c1-f88130202f55",
   "metadata": {},
   "source": [
    "7. Write a Python program that calculates the factorial of a number using a for loop.\n"
   ]
  },
  {
   "cell_type": "code",
   "execution_count": 77,
   "id": "4535e7a0-9b84-4ee3-8734-af06ea4fa21e",
   "metadata": {},
   "outputs": [],
   "source": [
    "num = 8"
   ]
  },
  {
   "cell_type": "code",
   "execution_count": 78,
   "id": "43e9659a-2403-42b0-a230-caca297e43db",
   "metadata": {},
   "outputs": [],
   "source": [
    "ans = 1\n",
    "for i in range(1,num+1):\n",
    "    ans = ans*i"
   ]
  },
  {
   "cell_type": "code",
   "execution_count": 79,
   "id": "abdfdd3a-aa95-478b-9aef-6096595850ea",
   "metadata": {},
   "outputs": [
    {
     "name": "stdout",
     "output_type": "stream",
     "text": [
      "factorial of a number 40320\n"
     ]
    }
   ],
   "source": [
    "print(\"factorial of a number\",ans)"
   ]
  },
  {
   "cell_type": "markdown",
   "id": "f5e0e0e5-e9f4-4482-b4d7-6bcefbe5ac40",
   "metadata": {},
   "source": [
    "8. How can you iterate through the characters of a string using a for loop in Python?\n"
   ]
  },
  {
   "cell_type": "code",
   "execution_count": 80,
   "id": "c6a96449-9b46-4f3c-b506-0433bce83bb2",
   "metadata": {},
   "outputs": [],
   "source": [
    "s = \"test string\""
   ]
  },
  {
   "cell_type": "code",
   "execution_count": 81,
   "id": "02a84116-0425-4c5e-bab5-a68e8016df58",
   "metadata": {},
   "outputs": [
    {
     "name": "stdout",
     "output_type": "stream",
     "text": [
      "t\n",
      "e\n",
      "s\n",
      "t\n",
      " \n",
      "s\n",
      "t\n",
      "r\n",
      "i\n",
      "n\n",
      "g\n"
     ]
    }
   ],
   "source": [
    "for val in s:\n",
    "    print(val)"
   ]
  },
  {
   "cell_type": "markdown",
   "id": "904dafbf-652f-4f5c-8acb-0c326f7e5e7c",
   "metadata": {},
   "source": [
    "9. Write a Python program to find the largest number in a list using a for loop.\n"
   ]
  },
  {
   "cell_type": "code",
   "execution_count": 82,
   "id": "793b837b-316c-4a74-adaf-bf3f65551b05",
   "metadata": {},
   "outputs": [],
   "source": [
    "l = [2,3,4,7,6,5]"
   ]
  },
  {
   "cell_type": "code",
   "execution_count": 83,
   "id": "52f49598-5c14-42c0-b71e-2b7cc1f005c7",
   "metadata": {},
   "outputs": [],
   "source": [
    "ans = l[0]\n",
    "for val in l:\n",
    "    if val>ans:\n",
    "        ans =val"
   ]
  },
  {
   "cell_type": "code",
   "execution_count": 84,
   "id": "3676671b-e3f3-41b4-a1c7-186c2b7906eb",
   "metadata": {},
   "outputs": [
    {
     "name": "stdout",
     "output_type": "stream",
     "text": [
      "largest number in a list:  7\n"
     ]
    }
   ],
   "source": [
    "print(\"largest number in a list: \",ans)"
   ]
  },
  {
   "cell_type": "markdown",
   "id": "7d1da53c-21d1-4be5-935f-fae3c4eb99ac",
   "metadata": {},
   "source": [
    "10. Create a Python program that prints the Fibonacci sequence up to a specified limit using a for loop.\n"
   ]
  },
  {
   "cell_type": "code",
   "execution_count": 85,
   "id": "23068230-3c19-4e54-b23e-705164c8bdb1",
   "metadata": {},
   "outputs": [],
   "source": [
    "def generate_fibonacci(n):\n",
    "    fibonacci_list = [0, 1] \n",
    "    \n",
    "    for i in range(2, n):\n",
    "        next_fibonacci = fibonacci_list[i - 1] + fibonacci_list[i - 2]\n",
    "        fibonacci_list.append(next_fibonacci)\n",
    "\n",
    "    return fibonacci_list"
   ]
  },
  {
   "cell_type": "code",
   "execution_count": 86,
   "id": "408a0796-a087-42ca-9bc6-1667b585728a",
   "metadata": {},
   "outputs": [
    {
     "data": {
      "text/plain": [
       "[0, 1, 1, 2, 3, 5, 8, 13, 21, 34]"
      ]
     },
     "execution_count": 86,
     "metadata": {},
     "output_type": "execute_result"
    }
   ],
   "source": [
    "generate_fibonacci(10)"
   ]
  },
  {
   "cell_type": "markdown",
   "id": "4cd1ba64-9c32-4651-95f1-35b5d370c479",
   "metadata": {},
   "source": [
    "11. Write a Python program to count the number of vowels in a given string using a for loop"
   ]
  },
  {
   "cell_type": "code",
   "execution_count": 87,
   "id": "72db3e37-6085-4779-a574-bf5113957aa3",
   "metadata": {},
   "outputs": [],
   "source": [
    "s = \"test string\"\n",
    "vow = \"aeiouAEIOU\""
   ]
  },
  {
   "cell_type": "code",
   "execution_count": 88,
   "id": "c80f506c-0c98-4fc1-b33e-ee2af321cc00",
   "metadata": {},
   "outputs": [],
   "source": [
    "count =0\n",
    "for val in s:\n",
    "    if val in vow:\n",
    "        count +=1"
   ]
  },
  {
   "cell_type": "code",
   "execution_count": 89,
   "id": "2e33d61a-cde3-4458-9ff4-1b14bc8b66ed",
   "metadata": {},
   "outputs": [
    {
     "name": "stdout",
     "output_type": "stream",
     "text": [
      "number of vowels in a given string 2\n"
     ]
    }
   ],
   "source": [
    "print(\"number of vowels in a given string\",count)"
   ]
  },
  {
   "cell_type": "markdown",
   "id": "4879cc98-f7ba-480d-b3eb-2b0af84e2017",
   "metadata": {},
   "source": [
    "12. Create a Python program that generates a multiplication table for a given number using a for loop.\n"
   ]
  },
  {
   "cell_type": "code",
   "execution_count": 90,
   "id": "a1ff4c7d-316b-425c-9e4f-e991210f76d5",
   "metadata": {},
   "outputs": [],
   "source": [
    "num = 9\n",
    "# assuming multiplication table till 10"
   ]
  },
  {
   "cell_type": "code",
   "execution_count": 91,
   "id": "550640c2-b919-40f6-bb12-2c4b4ebf52a1",
   "metadata": {},
   "outputs": [
    {
     "name": "stdout",
     "output_type": "stream",
     "text": [
      "9 x 1 = 9\n",
      "9 x 2 = 18\n",
      "9 x 3 = 27\n",
      "9 x 4 = 36\n",
      "9 x 5 = 45\n",
      "9 x 6 = 54\n",
      "9 x 7 = 63\n",
      "9 x 8 = 72\n",
      "9 x 9 = 81\n",
      "9 x 10 = 90\n"
     ]
    }
   ],
   "source": [
    "for val in range(1,11):\n",
    "    print(num,\"x\",val,\"=\",num*val)"
   ]
  },
  {
   "cell_type": "markdown",
   "id": "f46d7caf-ac0f-4de0-8bcb-103eaaa3b0a6",
   "metadata": {},
   "source": [
    "13. Write a Python program to reverse a list using a for loop.\n"
   ]
  },
  {
   "cell_type": "code",
   "execution_count": 92,
   "id": "ecd48f91-7f9e-4e7d-a471-9b502faf4e42",
   "metadata": {},
   "outputs": [],
   "source": [
    "l = [\"item1\",\"item2\",\"item3\",\"item4\"]"
   ]
  },
  {
   "cell_type": "code",
   "execution_count": 93,
   "id": "4163e937-4ca9-4aa1-b895-55b19fe03356",
   "metadata": {},
   "outputs": [],
   "source": [
    "res = []\n",
    "\n",
    "for val in l:\n",
    "    res = [val]+res"
   ]
  },
  {
   "cell_type": "code",
   "execution_count": 94,
   "id": "c828c4d9-e3d9-4cc3-a786-e7275becb4eb",
   "metadata": {},
   "outputs": [
    {
     "data": {
      "text/plain": [
       "['item4', 'item3', 'item2', 'item1']"
      ]
     },
     "execution_count": 94,
     "metadata": {},
     "output_type": "execute_result"
    }
   ],
   "source": [
    "res"
   ]
  },
  {
   "cell_type": "markdown",
   "id": "6b6e92ed-13a0-4c94-9870-a8eba8cf3189",
   "metadata": {},
   "source": [
    "14. Write a Python program to find the common elements between two lists using a for loop.\n"
   ]
  },
  {
   "cell_type": "code",
   "execution_count": 95,
   "id": "b2ad307e-b79c-49b2-b6bd-af842a492fd8",
   "metadata": {},
   "outputs": [],
   "source": [
    "l1 = [1,2,3,4,5,6,7]\n",
    "l2 = [6,7,2,8,9]\n",
    "res = []"
   ]
  },
  {
   "cell_type": "code",
   "execution_count": 96,
   "id": "0ca8e807-81c4-4a03-8dab-3df41a40fe93",
   "metadata": {},
   "outputs": [],
   "source": [
    "for i in l1:\n",
    "    for j in l2:\n",
    "        if i ==j and i not in res:\n",
    "            res.append(i)"
   ]
  },
  {
   "cell_type": "code",
   "execution_count": 97,
   "id": "cfd43111-32b4-4332-a803-a9aa68e95529",
   "metadata": {},
   "outputs": [
    {
     "name": "stdout",
     "output_type": "stream",
     "text": [
      "common elements between two lists  [2, 6, 7]\n"
     ]
    }
   ],
   "source": [
    "print(\"common elements between two lists \",res)"
   ]
  },
  {
   "cell_type": "markdown",
   "id": "a8bece7f-c757-4873-9faa-2ee4cc5ae696",
   "metadata": {},
   "source": [
    "15. Explain how to use a for loop to iterate through the keys and values of a dictionary in Python.\n"
   ]
  },
  {
   "cell_type": "code",
   "execution_count": 98,
   "id": "31340f4f-8f31-431a-b1f3-effb24c66114",
   "metadata": {},
   "outputs": [],
   "source": [
    "d = {\"color\": \"blue\", \"fruit\": \"apple\", \"pet\": \"dog\"}"
   ]
  },
  {
   "cell_type": "code",
   "execution_count": 99,
   "id": "51696ce5-f081-47de-8641-97498131f8ce",
   "metadata": {},
   "outputs": [
    {
     "name": "stdout",
     "output_type": "stream",
     "text": [
      "color\n",
      "fruit\n",
      "pet\n"
     ]
    }
   ],
   "source": [
    "for key in d:\n",
    "    print(key)"
   ]
  },
  {
   "cell_type": "code",
   "execution_count": 100,
   "id": "1075fcdb-218c-4489-95ab-1b43cd2ce8ed",
   "metadata": {},
   "outputs": [
    {
     "name": "stdout",
     "output_type": "stream",
     "text": [
      "('color', 'blue')\n",
      "('fruit', 'apple')\n",
      "('pet', 'dog')\n"
     ]
    }
   ],
   "source": [
    "for item in d.items():\n",
    "    print(item)"
   ]
  },
  {
   "cell_type": "code",
   "execution_count": 101,
   "id": "4a328e75-eed9-4582-8808-ab57522a06a9",
   "metadata": {},
   "outputs": [
    {
     "name": "stdout",
     "output_type": "stream",
     "text": [
      "blue\n",
      "apple\n",
      "dog\n"
     ]
    }
   ],
   "source": [
    "for value in d.values():\n",
    "    print(value)"
   ]
  },
  {
   "cell_type": "markdown",
   "id": "28a31c12-208b-40f8-be4f-859b240eccef",
   "metadata": {},
   "source": [
    "16. Write a Python program to find the GCD (Greatest Common Divisor) of two numbers using a for loop.\n"
   ]
  },
  {
   "cell_type": "code",
   "execution_count": 102,
   "id": "3cdd70fc-ff95-41df-86c8-325be58f3694",
   "metadata": {},
   "outputs": [
    {
     "name": "stdout",
     "output_type": "stream",
     "text": [
      "The gcd of 60 and 48 is: 12\n"
     ]
    }
   ],
   "source": [
    "gcd = lambda a, b: a if b == 0 else gcd(b, a % b)\n",
    " \n",
    "a = 60\n",
    "b = 48\n",
    "\n",
    "print(\"The gcd of 60 and 48 is:\", gcd(a, b))"
   ]
  },
  {
   "cell_type": "markdown",
   "id": "646c4b55-fe78-45aa-a0a6-433f29749666",
   "metadata": {},
   "source": [
    "17. Create a Python program that checks if a string is a palindrome using a for loop.\n"
   ]
  },
  {
   "cell_type": "code",
   "execution_count": 103,
   "id": "e948f125-e93b-4610-918f-06da8b9bf3a5",
   "metadata": {},
   "outputs": [],
   "source": [
    "s1 = \"asdfdsaa\"\n",
    "s2 = \"asdfdsa\""
   ]
  },
  {
   "cell_type": "code",
   "execution_count": 104,
   "id": "5698b340-9387-4132-aabb-d02c4fa9493b",
   "metadata": {},
   "outputs": [],
   "source": [
    "\n",
    "def check_pallindrome(s):\n",
    "    for i in range(len(s)):\n",
    "        if s[i]!=s[-i-1]:\n",
    "            print(\"not pallindrome\")\n",
    "            return\n",
    "    print(\"is pallindrome\")"
   ]
  },
  {
   "cell_type": "code",
   "execution_count": 105,
   "id": "b96eae7a-bc91-4131-96a5-3242e02788db",
   "metadata": {},
   "outputs": [
    {
     "name": "stdout",
     "output_type": "stream",
     "text": [
      "not pallindrome\n",
      "is pallindrome\n"
     ]
    }
   ],
   "source": [
    "check_pallindrome(s1)\n",
    "check_pallindrome(s2)"
   ]
  },
  {
   "cell_type": "markdown",
   "id": "642157ca-e3ac-44d1-820c-23470e67a799",
   "metadata": {},
   "source": [
    "18. Write a Python program to remove duplicates from a list using a for loop.\n"
   ]
  },
  {
   "cell_type": "code",
   "execution_count": 106,
   "id": "77ffe1bd-9886-4c6b-a910-bcd028525a43",
   "metadata": {},
   "outputs": [],
   "source": [
    "l =[1,2,3,2,1,2,4,5,6,4]\n",
    "res = []\n"
   ]
  },
  {
   "cell_type": "code",
   "execution_count": 107,
   "id": "0901f046-5a11-4fe2-b6b5-6501d3a3ed48",
   "metadata": {},
   "outputs": [],
   "source": [
    "for val in l:\n",
    "    if val not in res:\n",
    "        res.append(val)\n",
    "        "
   ]
  },
  {
   "cell_type": "code",
   "execution_count": 108,
   "id": "1e8af0d8-f31d-4477-a687-3d08a2d89cdd",
   "metadata": {},
   "outputs": [
    {
     "name": "stdout",
     "output_type": "stream",
     "text": [
      "remove duplicates [1, 2, 3, 4, 5, 6]\n"
     ]
    }
   ],
   "source": [
    "print(\"remove duplicates\",res)"
   ]
  },
  {
   "cell_type": "markdown",
   "id": "99ec8ca0-31a0-47b1-a4f1-6d3de344ee42",
   "metadata": {},
   "source": [
    "19. Create a Python program that counts the number of words in a sentence using a for loop.\n"
   ]
  },
  {
   "cell_type": "code",
   "execution_count": 109,
   "id": "2c26afc8-62ef-4c6d-b62d-f14b8ad69a84",
   "metadata": {},
   "outputs": [],
   "source": [
    "sentance = \"number of words in a sentence\"\n",
    "sen = sentance.lower()\n",
    "\n",
    "# not counting the blank spaces"
   ]
  },
  {
   "cell_type": "code",
   "execution_count": 110,
   "id": "ac2a6745-9561-40d4-b70a-2df76552da06",
   "metadata": {},
   "outputs": [
    {
     "name": "stdout",
     "output_type": "stream",
     "text": [
      "number of words in a sentence: 24\n"
     ]
    }
   ],
   "source": [
    "count = 0\n",
    "for val in sen:\n",
    "    if val !=\" \":\n",
    "        count+=1\n",
    "\n",
    "print(\"number of words in a sentence:\",count)"
   ]
  },
  {
   "cell_type": "markdown",
   "id": "b442b05f-992a-425c-9213-317d66c8ac18",
   "metadata": {},
   "source": [
    "20. Write a Python program to find the sum of all odd numbers from 1 to 50 using a for loop.\n"
   ]
  },
  {
   "cell_type": "code",
   "execution_count": 111,
   "id": "9304cf40-32da-42dd-9405-289367f17843",
   "metadata": {},
   "outputs": [],
   "source": [
    "count = 0\n",
    "for i in range(1,51):\n",
    "    if i%2!=0:\n",
    "        count+=i"
   ]
  },
  {
   "cell_type": "code",
   "execution_count": 112,
   "id": "9c007d4a-9c4b-4c09-9a47-2ec83410604b",
   "metadata": {},
   "outputs": [
    {
     "name": "stdout",
     "output_type": "stream",
     "text": [
      "sum of all odd numbers from 1 to 50: 625\n"
     ]
    }
   ],
   "source": [
    "print(\"sum of all odd numbers from 1 to 50:\",count)"
   ]
  },
  {
   "cell_type": "markdown",
   "id": "001cd56e-51a2-48ab-90a5-14019f3db2a9",
   "metadata": {},
   "source": [
    "21. Write a Python program that checks if a given year is a leap year using a for loop.\n"
   ]
  },
  {
   "cell_type": "code",
   "execution_count": 113,
   "id": "53efb9b4-da02-492b-8463-3e41f34e4429",
   "metadata": {},
   "outputs": [],
   "source": [
    "def check_year(year):\n",
    "    \n",
    "    if year % 4 == 0:\n",
    "        if year % 100 == 0:\n",
    "            if year % 400 == 0:\n",
    "                print(f\"{year} is a leap year\")\n",
    "            else:\n",
    "                print(f\"{year} is not a leap year\")\n",
    "        else:\n",
    "            print(f\"{year} is a leap year\")\n",
    "    else:\n",
    "        print(f\"{year} is not a leap year\")"
   ]
  },
  {
   "cell_type": "code",
   "execution_count": 114,
   "id": "d56990b2-8a62-4ecf-b2f4-ecc6cd766b5f",
   "metadata": {},
   "outputs": [
    {
     "name": "stdout",
     "output_type": "stream",
     "text": [
      "1994 is not a leap year\n"
     ]
    }
   ],
   "source": [
    "check_year(1994)"
   ]
  },
  {
   "cell_type": "markdown",
   "id": "56824b17-e226-463b-9b46-6efee8d0a132",
   "metadata": {},
   "source": [
    "22. Create a Python program that calculates the square root of a number using a for loop.\n"
   ]
  },
  {
   "cell_type": "code",
   "execution_count": 115,
   "id": "ab671f19-b148-496e-a37d-d808a7e03665",
   "metadata": {},
   "outputs": [
    {
     "data": {
      "text/plain": [
       "2.8284271247461903"
      ]
     },
     "execution_count": 115,
     "metadata": {},
     "output_type": "execute_result"
    }
   ],
   "source": [
    "import math\n",
    "x =8\n",
    "math.sqrt(x)  "
   ]
  },
  {
   "cell_type": "markdown",
   "id": "da082f88-8bce-4009-bc61-43d3ed4cec2f",
   "metadata": {},
   "source": [
    "23. Write a Python program to find the LCM (Least Common Multiple) of two numbers using a for loop.\n"
   ]
  },
  {
   "cell_type": "code",
   "execution_count": 116,
   "id": "e805719d-f318-44a9-9be0-a06a095a95fb",
   "metadata": {},
   "outputs": [],
   "source": [
    "def lcm(a, b):\n",
    "    if a > b:\n",
    "        greater = a\n",
    "    else:\n",
    "        greater = b\n",
    "    while(True):\n",
    "        if((greater % a == 0) and (greater % b == 0)):\n",
    "            lcm = greater\n",
    "            break\n",
    "        greater += 1\n",
    "    return lcm"
   ]
  },
  {
   "cell_type": "code",
   "execution_count": 117,
   "id": "f40d3c2e-4ad8-4061-b72b-ace538d33d28",
   "metadata": {},
   "outputs": [
    {
     "data": {
      "text/plain": [
       "12"
      ]
     },
     "execution_count": 117,
     "metadata": {},
     "output_type": "execute_result"
    }
   ],
   "source": [
    "lcm(4,6)"
   ]
  },
  {
   "cell_type": "markdown",
   "id": "181143e4-62ab-4630-9f01-10bfb1fe79a6",
   "metadata": {},
   "source": [
    "# if else"
   ]
  },
  {
   "cell_type": "markdown",
   "id": "165f9db3-36a5-4cef-9017-fe9d30728a73",
   "metadata": {},
   "source": [
    "1. Write a Python program to check if a number is positive, negative, or zero using an if-else statement."
   ]
  },
  {
   "cell_type": "code",
   "execution_count": 118,
   "id": "dfed0f31-aada-4b04-95ba-96bc33fae45a",
   "metadata": {},
   "outputs": [
    {
     "name": "stdout",
     "output_type": "stream",
     "text": [
      "30 is positive\n"
     ]
    }
   ],
   "source": [
    "num = 30\n",
    "\n",
    "if num ==0:\n",
    "    print(f\"{num} is zero\")\n",
    "elif num > 0:\n",
    "    print(f\"{num} is positive\")\n",
    "else:\n",
    "    print(f\"{num} is positive\")"
   ]
  },
  {
   "cell_type": "markdown",
   "id": "94215f38-7aff-4826-9095-6b667b3e5b12",
   "metadata": {},
   "source": [
    "2. Create a Python program that checks if a given number is even or odd using an if-else statement.\n"
   ]
  },
  {
   "cell_type": "code",
   "execution_count": 119,
   "id": "4a9fd937-e7bd-4e8a-a995-81624db4f93c",
   "metadata": {},
   "outputs": [
    {
     "name": "stdout",
     "output_type": "stream",
     "text": [
      "it is odd\n"
     ]
    }
   ],
   "source": [
    "num =43\n",
    "\n",
    "if num%2==0:\n",
    "    print(\"it is even\")\n",
    "else:\n",
    "    print(\"it is odd\")"
   ]
  },
  {
   "cell_type": "markdown",
   "id": "e232242b-78c5-41d9-af33-bd5448c78fad",
   "metadata": {},
   "source": [
    "3. How can you use nested if-else statements in Python, and provide an example?\n"
   ]
  },
  {
   "cell_type": "code",
   "execution_count": 120,
   "id": "6ee1745a-eb09-4821-984a-5e2f2dd2d586",
   "metadata": {},
   "outputs": [],
   "source": [
    "# checking if the person in college, greater than equal to 17 year and less than 23 year"
   ]
  },
  {
   "cell_type": "code",
   "execution_count": 121,
   "id": "8f6aa78d-88ab-4344-81cd-61993ef3d568",
   "metadata": {},
   "outputs": [
    {
     "name": "stdout",
     "output_type": "stream",
     "text": [
      "person is not in college\n"
     ]
    }
   ],
   "source": [
    "age = 25\n",
    "\n",
    "if age >=17:\n",
    "    if age <= 23:\n",
    "        print(\"person in college\")\n",
    "    else:\n",
    "        print(\"person is not in college\")"
   ]
  },
  {
   "cell_type": "markdown",
   "id": "f2be78b1-e95f-4cf0-8e7a-11e37c885d02",
   "metadata": {},
   "source": [
    "4. Write a Python program to determine the largest of three numbers using if-else.\n"
   ]
  },
  {
   "cell_type": "code",
   "execution_count": 122,
   "id": "8678a395-0ea1-4f53-8e7d-14c25f935dce",
   "metadata": {},
   "outputs": [
    {
     "name": "stdout",
     "output_type": "stream",
     "text": [
      "24 is the greatest\n"
     ]
    }
   ],
   "source": [
    "a = 23\n",
    "b = 24\n",
    "c = 23\n",
    "\n",
    "if a >b and a >c :\n",
    "    print(f\"{a} is the greatest\")\n",
    "elif b >a and b >c :\n",
    "    print(f\"{b} is the greatest\")\n",
    "elif c>a and c>b:\n",
    "    print(f\"{c} is the greatest\")\n",
    "else:\n",
    "    print(\"all are equal\")"
   ]
  },
  {
   "cell_type": "markdown",
   "id": "4d5f4a1c-4770-4c9b-bc0b-91a55791c023",
   "metadata": {},
   "source": [
    "5. Write a Python program that calculates the absolute value of a number using if-else.\n"
   ]
  },
  {
   "cell_type": "code",
   "execution_count": 123,
   "id": "59403ea9-4d17-4cd5-97ab-aed417c2bd3d",
   "metadata": {},
   "outputs": [
    {
     "name": "stdout",
     "output_type": "stream",
     "text": [
      "absolute value is:  12\n"
     ]
    }
   ],
   "source": [
    "value = -12\n",
    "\n",
    "if value >0:\n",
    "    print(\"absolute value is: \",value)\n",
    "else:\n",
    "    print(\"absolute value is: \",-value)"
   ]
  },
  {
   "cell_type": "markdown",
   "id": "c08655f7-d69e-4caa-94fa-e83e3d7d8bdd",
   "metadata": {},
   "source": [
    "6. Create a Python program that checks if a given character is a vowel or consonant using if-else.\n"
   ]
  },
  {
   "cell_type": "code",
   "execution_count": 124,
   "id": "2cae0ffd-c29e-4b58-ac39-5b7122b7361c",
   "metadata": {},
   "outputs": [
    {
     "name": "stdout",
     "output_type": "stream",
     "text": [
      "it is vowel\n"
     ]
    }
   ],
   "source": [
    "char = \"a\"\n",
    "vow = \"aeiou\"\n",
    "\n",
    "if char in vow:\n",
    "    print(\"it is vowel\")\n",
    "else:\n",
    "    print(\"it is consonant\")"
   ]
  },
  {
   "cell_type": "markdown",
   "id": "4f24ca86-2613-41ea-bbe1-2297ef926a4e",
   "metadata": {},
   "source": [
    "7. Write a Python program to determine if a user is eligible to vote based on their age using if-else.\n"
   ]
  },
  {
   "cell_type": "code",
   "execution_count": 125,
   "id": "feadee4e-450b-483d-ba5d-28195887d88a",
   "metadata": {},
   "outputs": [
    {
     "name": "stdout",
     "output_type": "stream",
     "text": [
      "eligible to vote\n"
     ]
    }
   ],
   "source": [
    "age = 29\n",
    "\n",
    "if age>=18:\n",
    "    print(\"eligible to vote\")\n",
    "else:\n",
    "    print(\"NOT eligible to vote\")"
   ]
  },
  {
   "cell_type": "markdown",
   "id": "362931d8-7a18-4041-98a9-b46feca22e71",
   "metadata": {},
   "source": [
    "8. Create a Python program that calculates the discount amount based on the purchase amount using if-else."
   ]
  },
  {
   "cell_type": "code",
   "execution_count": 126,
   "id": "4f41c2be-bccc-4185-af3e-3e7b8b8c5825",
   "metadata": {},
   "outputs": [
    {
     "name": "stdout",
     "output_type": "stream",
     "text": [
      "price after discount price: 1600.0\n"
     ]
    }
   ],
   "source": [
    "# 3 slabs are defined 1000,1500,2000\n",
    "# min 10% discount, then 15% and then 20% with cap of 500\n",
    "amount = 2000\n",
    "\n",
    "if amount <=1000:\n",
    "    print(\"price after discount price:\",amount*0.9)\n",
    "elif amount <=1500:\n",
    "    print(\"price after discount price:\",amount*0.85)\n",
    "else:\n",
    "    print(\"price after discount price:\",amount-min(amount*0.2,500))"
   ]
  },
  {
   "cell_type": "markdown",
   "id": "15859f51-b180-4f9b-8b7a-6aa13eb354e4",
   "metadata": {},
   "source": [
    "9. Write a Python program to check if a number is within a specified range using if-else.\n"
   ]
  },
  {
   "cell_type": "code",
   "execution_count": 127,
   "id": "e443a8b6-32c1-48c8-8312-87f1c1069ca3",
   "metadata": {},
   "outputs": [],
   "source": [
    "min_range = 100\n",
    "max_range = 1000\n",
    "val =234"
   ]
  },
  {
   "cell_type": "code",
   "execution_count": 128,
   "id": "6d962bf8-161b-4c09-9623-0b7e04e863a1",
   "metadata": {},
   "outputs": [
    {
     "name": "stdout",
     "output_type": "stream",
     "text": [
      "it is in range\n"
     ]
    }
   ],
   "source": [
    "if val >=min_range and val <=max_range:\n",
    "    print(\"it is in range\")\n",
    "else:\n",
    "    print(\"it is not in range\")"
   ]
  },
  {
   "cell_type": "markdown",
   "id": "3b7e2a16-8da4-4e0a-a8c9-3df289853ec7",
   "metadata": {},
   "source": [
    "10. Create a Python program that determines the grade of a student based on their score using if-else.\n"
   ]
  },
  {
   "cell_type": "code",
   "execution_count": 129,
   "id": "8ff49447-b30f-4bb4-b987-f8e8468b48ae",
   "metadata": {},
   "outputs": [
    {
     "name": "stdout",
     "output_type": "stream",
     "text": [
      "grade is : E\n"
     ]
    }
   ],
   "source": [
    "score = 44\n",
    "\n",
    "if score >=90:\n",
    "    print(\"grade is : A+\")\n",
    "elif score >=80:\n",
    "    print(\"grade is : A\")\n",
    "elif score >=70:\n",
    "    print(\"grade is : B\")\n",
    "elif score >=60:\n",
    "    print(\"grade is : C\")\n",
    "elif score >=50:\n",
    "    print(\"grade is : D\")\n",
    "elif score >=40:\n",
    "    print(\"grade is : E\")\n",
    "else:\n",
    "    print(\"grade is : F\")\n",
    "    "
   ]
  },
  {
   "cell_type": "markdown",
   "id": "5625c7b9-4683-4b99-8f61-5007d26041c8",
   "metadata": {},
   "source": [
    "11. Write a Python program to check if a string is empty or not using if-else.\n"
   ]
  },
  {
   "cell_type": "code",
   "execution_count": 130,
   "id": "e61cf3b9-904d-4ad2-a32b-087e0937a027",
   "metadata": {},
   "outputs": [],
   "source": [
    "s = \"asdfsa\"\n"
   ]
  },
  {
   "cell_type": "code",
   "execution_count": 131,
   "id": "c7245c11-8124-49ac-a735-a1d280fdd403",
   "metadata": {},
   "outputs": [
    {
     "name": "stdout",
     "output_type": "stream",
     "text": [
      "it is non empty string\n"
     ]
    }
   ],
   "source": [
    "if len(s) >= 0:\n",
    "    print(\"it is non empty string\")\n",
    "else:\n",
    "    print(\"it is empty string\")"
   ]
  },
  {
   "cell_type": "markdown",
   "id": "f32980a9-e3cd-4670-b0fd-7b8590a2f927",
   "metadata": {},
   "source": [
    "12. Create a Python program that identifies the type of a triangle (e.g., equilateral, isosceles, or scalene) based on input values using if-else.\n"
   ]
  },
  {
   "cell_type": "code",
   "execution_count": 132,
   "id": "4114e3fb-5dca-4004-8968-215e4b9f8ed0",
   "metadata": {},
   "outputs": [
    {
     "name": "stdout",
     "output_type": "stream",
     "text": [
      "triangle is scalene\n"
     ]
    }
   ],
   "source": [
    "x = 5\n",
    "y = 6\n",
    "z = 4\n",
    "\n",
    "if x ==y and x ==z:\n",
    "    print(\"triangle is equilateral\")\n",
    "elif x ==y or y ==z or z ==x:\n",
    "    print(\"triangle is isosceles\")\n",
    "else:\n",
    "    print(\"triangle is scalene\")"
   ]
  },
  {
   "cell_type": "markdown",
   "id": "f3d98df8-8d48-47f0-83f6-c19c9b204e1b",
   "metadata": {},
   "source": [
    "13. Write a Python program to determine the day of the week based on a user-provided number using if-else."
   ]
  },
  {
   "cell_type": "code",
   "execution_count": 133,
   "id": "b9e221c6-cee1-46c0-95f9-b3f7a31fb394",
   "metadata": {},
   "outputs": [
    {
     "name": "stdin",
     "output_type": "stream",
     "text": [
      "enter the number  3\n"
     ]
    },
    {
     "name": "stdout",
     "output_type": "stream",
     "text": [
      "wednesday\n"
     ]
    }
   ],
   "source": [
    "n =int(input(\"enter the number \"))\n",
    "\n",
    "if n ==1:\n",
    "    print(\"Monday\")\n",
    "elif n ==2:\n",
    "    print(\"tuesday\")\n",
    "elif n ==3:\n",
    "    print(\"wednesday\")\n",
    "elif n ==4:\n",
    "    print(\"thursday\")\n",
    "elif n ==5:\n",
    "    print(\"friday\")\n",
    "elif n ==6:\n",
    "    print(\"saturday\")\n",
    "elif n ==7:\n",
    "    print(\"sunday\")\n",
    "else:\n",
    "    print(\"enter valid number from 1 to 7\")"
   ]
  },
  {
   "cell_type": "markdown",
   "id": "006ebe51-7208-457e-bdc6-5de2f66d2fa8",
   "metadata": {},
   "source": [
    "14. Create a Python program that checks if a given year is a leap year using both if-else and a function"
   ]
  },
  {
   "cell_type": "code",
   "execution_count": 134,
   "id": "6da240c3-c87c-46ba-9174-cc4424ef055a",
   "metadata": {},
   "outputs": [
    {
     "name": "stdout",
     "output_type": "stream",
     "text": [
      "2000 is a leap year\n"
     ]
    }
   ],
   "source": [
    "year = 2000\n",
    "if year % 4 == 0:\n",
    "    if year % 100 == 0:\n",
    "        if year % 400 == 0:\n",
    "            print(f\"{year} is a leap year\")\n",
    "        else:\n",
    "            print(f\"{year} is not a leap year\")\n",
    "    else:\n",
    "        print(f\"{year} is a leap year\")\n",
    "else:\n",
    "    print(f\"{year} is not a leap year\")"
   ]
  },
  {
   "cell_type": "markdown",
   "id": "2a56b3e1-b1ee-4192-915f-33b005c608c8",
   "metadata": {},
   "source": [
    "15. How do you use the \"assert\" statement in Python to add debugging checks within if-else blocks?\n"
   ]
  },
  {
   "cell_type": "code",
   "execution_count": 135,
   "id": "55f9245e-73ba-4040-9094-8ae6bdb70285",
   "metadata": {},
   "outputs": [
    {
     "ename": "SyntaxError",
     "evalue": "unterminated string literal (detected at line 3) (2447685440.py, line 3)",
     "output_type": "error",
     "traceback": [
      "\u001b[0;36m  Cell \u001b[0;32mIn[135], line 3\u001b[0;36m\u001b[0m\n\u001b[0;31m    assert x == \"yaar\u001b[0m\n\u001b[0m                ^\u001b[0m\n\u001b[0;31mSyntaxError\u001b[0m\u001b[0;31m:\u001b[0m unterminated string literal (detected at line 3)\n"
     ]
    }
   ],
   "source": [
    "x = \"hello\"\n",
    "\n",
    "assert x == \"yaar\n",
    "#if condition returns False, AssertionError is raised:\n",
    "assert x == \"goodbye\",\"it should be hello\"\n"
   ]
  },
  {
   "cell_type": "markdown",
   "id": "ff24c3c6-9b41-4130-82b9-344e20278f8d",
   "metadata": {},
   "source": [
    "16. Create a Python program that determines the eligibility of a person for a senior citizen discount based on age using if-else.\n"
   ]
  },
  {
   "cell_type": "code",
   "execution_count": null,
   "id": "c6fc8b7a-091a-499f-a2f0-7be295531f85",
   "metadata": {},
   "outputs": [],
   "source": [
    "age = 61\n",
    "\n",
    "if age >60:\n",
    "    print(\"eligible for senior citizen discount\")\n",
    "else:\n",
    "    print(\"NOT eligible for senior citizen discount\")"
   ]
  },
  {
   "cell_type": "markdown",
   "id": "b0b56ee0-3b20-4470-b129-bc1975227c43",
   "metadata": {},
   "source": [
    "17. Write a Python program to categorize a given character as uppercase, lowercase, or neither using if-else.\n"
   ]
  },
  {
   "cell_type": "code",
   "execution_count": null,
   "id": "f31d743f-fdc2-4eee-a82c-3257195c97a5",
   "metadata": {},
   "outputs": [],
   "source": [
    "s = \"s\"\n",
    "\n",
    "if s.isupper():\n",
    "    print(\"is uppercase\")\n",
    "elif s.islower():\n",
    "    print(\"is lower case\")\n",
    "else:\n",
    "    print(\"is neither\")"
   ]
  },
  {
   "cell_type": "markdown",
   "id": "cd18e730-84db-4790-acdc-9d8920e49009",
   "metadata": {},
   "source": [
    "18. Write a Python program to determine the roots of a quadratic equation using if-else.\n"
   ]
  },
  {
   "cell_type": "code",
   "execution_count": null,
   "id": "e37704f8-d38b-4d8d-8e1c-241f187650f9",
   "metadata": {},
   "outputs": [],
   "source": [
    "a =1\n",
    "b=2\n",
    "c=1\n",
    "\n",
    "x1 = (-b + ((b**2 - 4*a*c)**.5 /2*a))\n",
    "x2 = (-b - ((b**2 - 4*a*c)**.5 /2*a))"
   ]
  },
  {
   "cell_type": "code",
   "execution_count": null,
   "id": "e427adc9-95ea-44cc-8e8e-7655645d3a10",
   "metadata": {},
   "outputs": [],
   "source": [
    "print(\"roots\",x1,x2)"
   ]
  },
  {
   "cell_type": "markdown",
   "id": "23c94e48-2b65-40b1-8d7b-bf4438326fed",
   "metadata": {},
   "source": [
    "19. Create a Python program that checks if a given year is a century year or not using if-else.\n"
   ]
  },
  {
   "cell_type": "code",
   "execution_count": null,
   "id": "ce9f76fd-2d26-479f-9721-511bbe1e8444",
   "metadata": {},
   "outputs": [],
   "source": [
    "year = 2100\n",
    "\n",
    "if year % 4 == 0:\n",
    "    if year % 100 == 0:\n",
    "        if year % 400 == 0:\n",
    "            print(f\"{year} is a leap year and century year\")\n",
    "        else:\n",
    "            print(f\"{year} is not a leap year and century year\")\n",
    "    else:\n",
    "        print(f\"{year} is a leap year not century year\")\n",
    "else:\n",
    "    print(f\"{year} is not a leap year and not century year\")"
   ]
  },
  {
   "cell_type": "markdown",
   "id": "665cb335-d0c8-416d-a38f-da5af4549578",
   "metadata": {},
   "source": [
    "20. Write a Python program to determine if a given number is a perfect square using if-else.\n"
   ]
  },
  {
   "cell_type": "code",
   "execution_count": null,
   "id": "9902a7fd-6933-49d1-a5ca-55a9a75427db",
   "metadata": {},
   "outputs": [],
   "source": [
    "def isPerfectSquare(n) :\n",
    " \n",
    "    i = 1\n",
    "    while(i * i<= n):\n",
    "         \n",
    "        # If (i * i = n)\n",
    "        if ((n % i == 0) and (n / i == i)):\n",
    "            return True\n",
    "             \n",
    "        i = i + 1\n",
    "    return False"
   ]
  },
  {
   "cell_type": "code",
   "execution_count": null,
   "id": "95f4527a-6dd8-48f1-9640-030b81f1dc36",
   "metadata": {},
   "outputs": [],
   "source": [
    "isPerfectSquare(15)"
   ]
  },
  {
   "cell_type": "markdown",
   "id": "d35b35e1-482a-4ff8-8d4c-ed8b2e157a06",
   "metadata": {},
   "source": [
    "21. Explain the purpose of the \"continue\" and \"break\" statements within if-else loops.\n"
   ]
  },
  {
   "cell_type": "code",
   "execution_count": null,
   "id": "a9e483ed-7ade-4586-9e91-c29688e0af64",
   "metadata": {},
   "outputs": [],
   "source": [
    "number=0\n",
    "for number in range(10):\n",
    "    if number == 5:\n",
    "        continue    # continue here\n",
    "    else:\n",
    "        if number ==9:\n",
    "            break\n",
    "    print(\"numbers are \",number)\n",
    "    \n",
    "# continue will skip the condition mention and excute further\n",
    "# break will break the loop and stop the code"
   ]
  },
  {
   "cell_type": "markdown",
   "id": "5e0cc321-9cc2-45e7-8da7-c8f88dc4f763",
   "metadata": {},
   "source": [
    "22. Create a Python program that calculates the BMI (Body Mass Index) of a person based on their weight and height using if-else."
   ]
  },
  {
   "cell_type": "code",
   "execution_count": null,
   "id": "fb0d2a09-782f-4056-b873-a43b9b266ff8",
   "metadata": {},
   "outputs": [],
   "source": [
    "# weight in Kg and height in meter\n",
    "wt = 85\n",
    "ht = 1.84\n",
    "\n",
    "BMI = wt / ht**2\n",
    "\n",
    "if BMI <16:\n",
    "    print(\"severely underweight\")\n",
    "elif BMI <18:\n",
    "    print(\" underweight\")\n",
    "elif BMI <25.5:\n",
    "    print(\" Healthy\")\n",
    "elif BMI <30:\n",
    "    print(\" overweight\")\n",
    "else:\n",
    "    print(\" need to check on health\")"
   ]
  },
  {
   "cell_type": "markdown",
   "id": "35ebded9-619f-4091-b95d-c09aaf51c964",
   "metadata": {},
   "source": [
    "23. How can you use the \"filter()\" function with if-else statements to filter elements from a list?\n"
   ]
  },
  {
   "cell_type": "code",
   "execution_count": 72,
   "id": "ea150938-df14-4b8b-8a23-57b9a79f0092",
   "metadata": {},
   "outputs": [],
   "source": [
    "ages = [5,11,14,17,20,34,35,45,46,63,87]\n",
    "b = 18\n",
    "#filtering the adult in age string"
   ]
  },
  {
   "cell_type": "code",
   "execution_count": 73,
   "id": "cc15abb6-02f2-4988-a466-06191495dd0e",
   "metadata": {},
   "outputs": [],
   "source": [
    "adult = list(filter(lambda a : a if a>18 else 0,ages))"
   ]
  },
  {
   "cell_type": "code",
   "execution_count": 74,
   "id": "9eb1b74d-e05d-4680-9a94-4cbad66df7d4",
   "metadata": {},
   "outputs": [
    {
     "data": {
      "text/plain": [
       "[20, 34, 35, 45, 46, 63, 87]"
      ]
     },
     "execution_count": 74,
     "metadata": {},
     "output_type": "execute_result"
    }
   ],
   "source": [
    "adult"
   ]
  },
  {
   "cell_type": "markdown",
   "id": "078163fd-7f79-49e0-8eeb-ac7a13f9ea75",
   "metadata": {},
   "source": [
    "24. Write a Python program to determine if a given number is prime or not using if-else.\n"
   ]
  },
  {
   "cell_type": "code",
   "execution_count": null,
   "id": "da0f388f-4a57-43b9-9ba4-6adf7afe5fed",
   "metadata": {},
   "outputs": [],
   "source": [
    "num = 198"
   ]
  },
  {
   "cell_type": "code",
   "execution_count": null,
   "id": "3492866b-c17a-46cd-90e6-7fc377d043cc",
   "metadata": {},
   "outputs": [],
   "source": [
    "def check_prime(n):\n",
    "    for i in range(2,n//2+1):\n",
    "        if n%i==0:\n",
    "            return \"it is not prime\"\n",
    "    return \"it is prime\""
   ]
  },
  {
   "cell_type": "code",
   "execution_count": null,
   "id": "13f125cb-2dbe-45c1-8f35-eb92b5694107",
   "metadata": {},
   "outputs": [],
   "source": [
    "check_prime(num)"
   ]
  },
  {
   "cell_type": "markdown",
   "id": "4eed2839-a194-4e8e-8873-f7d19c97e61a",
   "metadata": {},
   "source": [
    "# ====================================================================================\n",
    "# map\n",
    "# ====================================================================================\n"
   ]
  },
  {
   "cell_type": "markdown",
   "id": "852dd610-99a3-48fc-83d5-c2f436e73132",
   "metadata": {},
   "source": [
    "1. Explain the purpose of the `map()` function in Python and provide an example of how it can be used to apply a function to each element of an iterable.\n"
   ]
  },
  {
   "cell_type": "code",
   "execution_count": 53,
   "id": "9b7f0fd7-a950-40d6-a591-4bf016a498ea",
   "metadata": {},
   "outputs": [],
   "source": [
    "s = [\"today\",\"is\",\"wednesday\"]\n"
   ]
  },
  {
   "cell_type": "code",
   "execution_count": 54,
   "id": "97cc6144-0eff-4107-bc6c-17aec3850d91",
   "metadata": {},
   "outputs": [],
   "source": [
    "s1 = list(map(lambda a:a[::-1],s))"
   ]
  },
  {
   "cell_type": "code",
   "execution_count": 55,
   "id": "7f75634f-3d0f-4269-a80f-f4ae180d293f",
   "metadata": {},
   "outputs": [
    {
     "data": {
      "text/plain": [
       "['yadot', 'si', 'yadsendew']"
      ]
     },
     "execution_count": 55,
     "metadata": {},
     "output_type": "execute_result"
    }
   ],
   "source": [
    "s1"
   ]
  },
  {
   "cell_type": "markdown",
   "id": "28678247-bc07-41ef-b32a-2682233dc22e",
   "metadata": {},
   "source": [
    "2. Write a Python program that uses the `map()` function to square each element of a list of numbers.\n"
   ]
  },
  {
   "cell_type": "code",
   "execution_count": null,
   "id": "2d640063-0db3-43d2-8524-e0a22d617102",
   "metadata": {},
   "outputs": [],
   "source": [
    "num = [2,3,4,5,2,3,45,43]"
   ]
  },
  {
   "cell_type": "code",
   "execution_count": null,
   "id": "a4708e92-2007-40b4-8f9d-24faaa27e320",
   "metadata": {},
   "outputs": [],
   "source": [
    "res = list(map(lambda a:a*a ,num))"
   ]
  },
  {
   "cell_type": "code",
   "execution_count": null,
   "id": "6d7ce117-7414-4dcc-91fa-2bc53cbf1d24",
   "metadata": {},
   "outputs": [],
   "source": [
    "res"
   ]
  },
  {
   "cell_type": "markdown",
   "id": "c4805544-2f85-494c-ba0c-a3bde8c9df91",
   "metadata": {},
   "source": [
    "3. How does the `map()` function differ from a list comprehension in Python, and when would you choose one over the other?\n"
   ]
  },
  {
   "cell_type": "markdown",
   "id": "4bfbe3dc-4c7b-4e25-a3d5-03d45ce2b68f",
   "metadata": {},
   "source": [
    "map function works on the individual element on the list.\n",
    "list comprehension works on every element of the list"
   ]
  },
  {
   "cell_type": "markdown",
   "id": "aec7b3d3-e8b5-4abb-bef4-5ba0b6be8503",
   "metadata": {},
   "source": [
    "4. Create a Python program that uses the `map()` function to convert a list of names to uppercase.\n"
   ]
  },
  {
   "cell_type": "code",
   "execution_count": null,
   "id": "c60cd891-a4dd-4979-b96f-e6416dda7bb1",
   "metadata": {},
   "outputs": [],
   "source": [
    "name = [\"raj\",\"abhay\",\"rahul\",\"prem\"]"
   ]
  },
  {
   "cell_type": "code",
   "execution_count": null,
   "id": "2ac0f085-8bd3-4266-8bde-cf4e0ac112ea",
   "metadata": {},
   "outputs": [],
   "source": [
    "list(map(lambda a:a.upper(),name))"
   ]
  },
  {
   "cell_type": "markdown",
   "id": "d9011fc2-b677-44a8-92e3-cdfadd6d6b51",
   "metadata": {},
   "source": [
    "5. Write a Python program that uses the `map()` function to calculate the length of each word in a list of strings.\n"
   ]
  },
  {
   "cell_type": "code",
   "execution_count": null,
   "id": "c759ba76-d58d-4d65-9a51-032072e556f8",
   "metadata": {},
   "outputs": [],
   "source": [
    "list(map(lambda a:len(a),name))"
   ]
  },
  {
   "cell_type": "markdown",
   "id": "b232eac8-cc69-4aad-8cca-3f4e7a83b370",
   "metadata": {},
   "source": [
    "6. How can you use the `map()` function to apply a custom function to elements of multiple lists simultaneously in Python?\n"
   ]
  },
  {
   "cell_type": "code",
   "execution_count": null,
   "id": "a34def64-8e30-45c0-a965-346b11c81133",
   "metadata": {},
   "outputs": [],
   "source": [
    "l1 = [2, 4, 6,6]\n",
    "l2 = [1, 3, 5]\n",
    "\n",
    "list(map(lambda x, y: x - y,l1,l2 ))"
   ]
  },
  {
   "cell_type": "markdown",
   "id": "35423b32-2592-46d8-983c-5598caf8da54",
   "metadata": {},
   "source": [
    "7. Create a Python program that uses `map()` to convert a list of temperatures from Celsius to Fahrenheit."
   ]
  },
  {
   "cell_type": "code",
   "execution_count": null,
   "id": "5c97e0e4-cbfc-4022-ac3c-5210117fecba",
   "metadata": {},
   "outputs": [],
   "source": [
    "temp = [12,45,67,34,190]"
   ]
  },
  {
   "cell_type": "code",
   "execution_count": null,
   "id": "0cda693a-97d1-4dd6-a47b-2f3cf28939a6",
   "metadata": {},
   "outputs": [],
   "source": [
    "def cel_to_far(c):\n",
    "    f = c *(9/5) +32\n",
    "    return f"
   ]
  },
  {
   "cell_type": "code",
   "execution_count": null,
   "id": "19fdee90-f5ce-45e8-8042-5adea41781af",
   "metadata": {},
   "outputs": [],
   "source": [
    "f =list(map(cel_to_far,temp))"
   ]
  },
  {
   "cell_type": "code",
   "execution_count": null,
   "id": "a31f0f94-ee7f-477b-910b-535be6b1b4e0",
   "metadata": {},
   "outputs": [],
   "source": [
    "f"
   ]
  },
  {
   "cell_type": "markdown",
   "id": "65e6448a-836f-49fd-a345-54a15fe1b93e",
   "metadata": {},
   "source": [
    "8. Write a Python program that uses the `map()` function to round each element of a list of floating-point numbers to the nearest integer."
   ]
  },
  {
   "cell_type": "code",
   "execution_count": null,
   "id": "749d762a-707b-4705-8152-62945297f82a",
   "metadata": {},
   "outputs": [],
   "source": [
    "list(map(lambda a:round(a),f))"
   ]
  },
  {
   "cell_type": "markdown",
   "id": "8066d7c9-4e04-4114-905b-2313cd8af923",
   "metadata": {},
   "source": [
    "# =====================================\n",
    "# reduce"
   ]
  },
  {
   "cell_type": "markdown",
   "id": "86275b32-f01b-40bb-bb3a-ead35dbf21cb",
   "metadata": {},
   "source": [
    "1. What is the `reduce()` function in Python, and what module should you import to use it? Provide an example of its basic usage."
   ]
  },
  {
   "cell_type": "code",
   "execution_count": 79,
   "id": "f44edd63-a0f5-43c4-97fa-461e4c5bdc28",
   "metadata": {},
   "outputs": [],
   "source": [
    "from functools import reduce"
   ]
  },
  {
   "cell_type": "code",
   "execution_count": 3,
   "id": "7cb7a583-f396-4569-a2b9-3e9ba452f1ad",
   "metadata": {},
   "outputs": [],
   "source": [
    "l = [1,2,3,4,5]\n"
   ]
  },
  {
   "cell_type": "code",
   "execution_count": 4,
   "id": "2bb9620b-0872-4670-b5d3-ae7fe8a96ded",
   "metadata": {},
   "outputs": [
    {
     "data": {
      "text/plain": [
       "5"
      ]
     },
     "execution_count": 4,
     "metadata": {},
     "output_type": "execute_result"
    }
   ],
   "source": [
    "(reduce(lambda a,b:a if a>b else b,l))"
   ]
  },
  {
   "cell_type": "markdown",
   "id": "4d3729f8-af05-4a33-94bc-0c6ad2ce6063",
   "metadata": {},
   "source": [
    "2. Write a Python program that uses the `reduce()` function to find the product of all elements in a list.\n"
   ]
  },
  {
   "cell_type": "code",
   "execution_count": 5,
   "id": "5d483f12-e3b7-4372-8f8b-0cf505d760de",
   "metadata": {},
   "outputs": [],
   "source": [
    "l = [1,2,3,4,5]\n"
   ]
  },
  {
   "cell_type": "code",
   "execution_count": 6,
   "id": "f0e2ce31-8107-4aa9-bdaf-c3d731f74d6a",
   "metadata": {},
   "outputs": [
    {
     "data": {
      "text/plain": [
       "120"
      ]
     },
     "execution_count": 6,
     "metadata": {},
     "output_type": "execute_result"
    }
   ],
   "source": [
    "(reduce(lambda a,b:a*b,l))"
   ]
  },
  {
   "cell_type": "markdown",
   "id": "2cc2a163-66b9-4588-b906-9b81ed9affa9",
   "metadata": {},
   "source": [
    "3. Create a Python program that uses `reduce()` to find the maximum element in a list of numbers.\n"
   ]
  },
  {
   "cell_type": "code",
   "execution_count": 7,
   "id": "9985b1aa-18a3-486a-9467-0ecf4f2c43d0",
   "metadata": {},
   "outputs": [
    {
     "data": {
      "text/plain": [
       "5"
      ]
     },
     "execution_count": 7,
     "metadata": {},
     "output_type": "execute_result"
    }
   ],
   "source": [
    "(reduce(lambda a,b:a if a>b else b,l))"
   ]
  },
  {
   "cell_type": "markdown",
   "id": "e212b64c-f761-484c-8628-d39863c2fde8",
   "metadata": {},
   "source": [
    "4. How can you use the `reduce()` function to concatenate a list of strings into a single string?\n"
   ]
  },
  {
   "cell_type": "code",
   "execution_count": 8,
   "id": "4a5b80f8-6da8-44ca-ae62-6be2396b6271",
   "metadata": {},
   "outputs": [],
   "source": [
    "st = [\"concate\",\"multiple\",\"string\",\"to\"]"
   ]
  },
  {
   "cell_type": "code",
   "execution_count": 9,
   "id": "797d370e-ba28-40ea-9f1b-d4541d2e2891",
   "metadata": {},
   "outputs": [
    {
     "data": {
      "text/plain": [
       "'concatemultiplestringto'"
      ]
     },
     "execution_count": 9,
     "metadata": {},
     "output_type": "execute_result"
    }
   ],
   "source": [
    "reduce(lambda a,b:a+b,st)"
   ]
  },
  {
   "cell_type": "markdown",
   "id": "38653d7e-d632-4b19-bf46-536e69c5d074",
   "metadata": {},
   "source": [
    "5. Write a Python program that calculates the factorial of a number using the `reduce()` function.\n"
   ]
  },
  {
   "cell_type": "code",
   "execution_count": 10,
   "id": "58132b33-2f27-4974-8362-39c33843a929",
   "metadata": {},
   "outputs": [
    {
     "data": {
      "text/plain": [
       "120"
      ]
     },
     "execution_count": 10,
     "metadata": {},
     "output_type": "execute_result"
    }
   ],
   "source": [
    "n=5\n",
    "reduce(lambda a,b:a*b,range(1,n+1))"
   ]
  },
  {
   "cell_type": "markdown",
   "id": "fdc5d2e3-65a4-4106-a5d1-1c3f23ccd0dc",
   "metadata": {},
   "source": [
    "6. Create a Python program that uses `reduce()` to find the GCD (Greatest Common Divisor) of a list of numbers.\n"
   ]
  },
  {
   "cell_type": "code",
   "execution_count": 11,
   "id": "4c530504-aa82-4e24-9910-fd4e6846d4ae",
   "metadata": {},
   "outputs": [],
   "source": [
    "num = [12,24,36]\n",
    "gcd = lambda a, b: a if b == 0 else gcd(b, a % b)"
   ]
  },
  {
   "cell_type": "code",
   "execution_count": 12,
   "id": "9e1bedc7-7a71-420b-87ba-8b8b78aa7fc6",
   "metadata": {},
   "outputs": [
    {
     "data": {
      "text/plain": [
       "12"
      ]
     },
     "execution_count": 12,
     "metadata": {},
     "output_type": "execute_result"
    }
   ],
   "source": [
    "reduce(gcd,num)"
   ]
  },
  {
   "cell_type": "markdown",
   "id": "f2de9d2c-ffa8-4f6d-8b5a-60f335209951",
   "metadata": {},
   "source": [
    "7. Write a Python program that uses the `reduce()` function to find the sum of the digits of a given number.\n"
   ]
  },
  {
   "cell_type": "code",
   "execution_count": 13,
   "id": "f1d6dda0-c96d-42bd-bf24-9f02e814fbfb",
   "metadata": {},
   "outputs": [
    {
     "data": {
      "text/plain": [
       "72"
      ]
     },
     "execution_count": 13,
     "metadata": {},
     "output_type": "execute_result"
    }
   ],
   "source": [
    "reduce(lambda a,b:a+b,num)"
   ]
  },
  {
   "cell_type": "markdown",
   "id": "b753778b-2b5d-494a-b324-68d1c1fa2d9f",
   "metadata": {},
   "source": [
    "# ============================\n",
    "# filter"
   ]
  },
  {
   "cell_type": "markdown",
   "id": "f216903d-db65-4048-824a-a19f8a0771dd",
   "metadata": {},
   "source": [
    "1. Explain the purpose of the `filter()` function in Python and provide an example of how it can be used to filter elements from an iterable.\n"
   ]
  },
  {
   "cell_type": "code",
   "execution_count": 14,
   "id": "08f9fe9c-048f-4f7a-9681-99e951e82bad",
   "metadata": {},
   "outputs": [
    {
     "data": {
      "text/plain": [
       "['a', 's', 'd', 'f', 'e', 'a', 'c', 's', 'a']"
      ]
     },
     "execution_count": 14,
     "metadata": {},
     "output_type": "execute_result"
    }
   ],
   "source": [
    "# use to filter out the elements \n",
    "\n",
    "s = \"ASDasdfeaAScsa\"\n",
    "\n",
    "list(filter(lambda a: a.islower(),s))"
   ]
  },
  {
   "cell_type": "markdown",
   "id": "a49b0f85-da76-497b-9aba-f5db985624f1",
   "metadata": {},
   "source": [
    "2. Write a Python program that uses the `filter()` function to select even numbers from a list of integers.\n"
   ]
  },
  {
   "cell_type": "code",
   "execution_count": 31,
   "id": "a2327343-9c3c-4455-af03-84dde57335ca",
   "metadata": {},
   "outputs": [],
   "source": [
    "l = [2,3,4,76,45,3453,1213,232,-123,-43,44,-66]"
   ]
  },
  {
   "cell_type": "code",
   "execution_count": 16,
   "id": "3377521a-6f56-4ac4-aeb0-bd738e651f83",
   "metadata": {},
   "outputs": [
    {
     "data": {
      "text/plain": [
       "[2, 4, 76, 232, 44, -66]"
      ]
     },
     "execution_count": 16,
     "metadata": {},
     "output_type": "execute_result"
    }
   ],
   "source": [
    "list(filter(lambda a :a%2==0,l))"
   ]
  },
  {
   "cell_type": "markdown",
   "id": "589e1758-31be-4538-87be-71434344e790",
   "metadata": {},
   "source": [
    "3. Create a Python program that uses the `filter()` function to select names that start with a specific letter from a list of strings."
   ]
  },
  {
   "cell_type": "code",
   "execution_count": 29,
   "id": "de0b3d37-a994-4fca-8c22-6bccfcb35d57",
   "metadata": {},
   "outputs": [],
   "source": [
    "l1 = [\"pw\",\"skills\",\"pw skills\",\"Pawan\"]"
   ]
  },
  {
   "cell_type": "code",
   "execution_count": 30,
   "id": "07b97ec5-9bda-46e9-a1c9-ed1acb67e974",
   "metadata": {},
   "outputs": [
    {
     "data": {
      "text/plain": [
       "['pw', 'pw skills', 'Pawan']"
      ]
     },
     "execution_count": 30,
     "metadata": {},
     "output_type": "execute_result"
    }
   ],
   "source": [
    "list(filter(lambda a :a[0].lower()==\"p\",l1))"
   ]
  },
  {
   "cell_type": "markdown",
   "id": "065c6c4b-acec-4879-891f-c6b487f12067",
   "metadata": {},
   "source": [
    "4. Write a Python program that uses the `filter()` function to select prime numbers from a list of integers.\n"
   ]
  },
  {
   "cell_type": "code",
   "execution_count": 42,
   "id": "3efff74c-a064-4b9b-b2c4-f4e213500bc2",
   "metadata": {},
   "outputs": [],
   "source": [
    "def check_prime(n):\n",
    "    for i in range(2,n//2+1):\n",
    "        if n%i==0:\n",
    "            return False\n",
    "    return True\n",
    "\n",
    "prime_list = [4, 76, 45, 3453, 232, 44,123,7,197,31]"
   ]
  },
  {
   "cell_type": "code",
   "execution_count": 43,
   "id": "871b78a9-4a28-486f-a583-60c62407fb9f",
   "metadata": {},
   "outputs": [
    {
     "data": {
      "text/plain": [
       "[7, 197, 31]"
      ]
     },
     "execution_count": 43,
     "metadata": {},
     "output_type": "execute_result"
    }
   ],
   "source": [
    "list(filter(check_prime,prime_list))"
   ]
  },
  {
   "cell_type": "markdown",
   "id": "71dd5fa7-e3e2-4fda-aaf5-fe9545d6b888",
   "metadata": {},
   "source": [
    "5. How can you use the `filter()` function to remove None values from a list in Python?\n"
   ]
  },
  {
   "cell_type": "code",
   "execution_count": 49,
   "id": "47101bdd-774a-4a57-9526-def771f9d9ea",
   "metadata": {},
   "outputs": [],
   "source": [
    "s = [\"\",\"asd \",\"123\",\"\",\"   \"]"
   ]
  },
  {
   "cell_type": "code",
   "execution_count": 50,
   "id": "8ddb76af-5fbe-40e6-9bfb-dea14a2d5469",
   "metadata": {},
   "outputs": [
    {
     "data": {
      "text/plain": [
       "['asd ', '123']"
      ]
     },
     "execution_count": 50,
     "metadata": {},
     "output_type": "execute_result"
    }
   ],
   "source": [
    "list(filter(lambda a :len(a.replace(\" \",\"\"))>0,s))"
   ]
  },
  {
   "cell_type": "markdown",
   "id": "02fc6b47-f7f0-4d60-9224-fab59749bd78",
   "metadata": {},
   "source": [
    "6. Create a Python program that uses `filter()` to select words longer than a certain length from a list of strings.\n"
   ]
  },
  {
   "cell_type": "code",
   "execution_count": 51,
   "id": "5d2e38dc-6af0-4e8c-9c38-cce32d04974a",
   "metadata": {},
   "outputs": [],
   "source": [
    "l1 = [\"pw\",\"skills\",\"pw skills\",\"Pawan\"]"
   ]
  },
  {
   "cell_type": "code",
   "execution_count": 52,
   "id": "8b189fda-a6b1-4371-afad-583bba304e01",
   "metadata": {},
   "outputs": [
    {
     "data": {
      "text/plain": [
       "['skills', 'pw skills']"
      ]
     },
     "execution_count": 52,
     "metadata": {},
     "output_type": "execute_result"
    }
   ],
   "source": [
    "list(filter(lambda a :len(a)>5,l1))"
   ]
  },
  {
   "cell_type": "markdown",
   "id": "f4257fc7-50fe-469c-b774-ea36f6ff183d",
   "metadata": {},
   "source": [
    "7. Write a Python program that uses the `filter()` function to select elements greater than a specified threshold from a list of values."
   ]
  },
  {
   "cell_type": "code",
   "execution_count": 54,
   "id": "7d596a7f-d0e9-4613-ae8e-0160a6318216",
   "metadata": {},
   "outputs": [],
   "source": [
    "test = [4, 76, 45, 3453, 232, 44,123,7,197,31]\n",
    "threshold = 78"
   ]
  },
  {
   "cell_type": "code",
   "execution_count": 55,
   "id": "0fd76b9b-2d7a-493f-937a-08df5bc66aa3",
   "metadata": {},
   "outputs": [
    {
     "data": {
      "text/plain": [
       "[3453, 232, 123, 197]"
      ]
     },
     "execution_count": 55,
     "metadata": {},
     "output_type": "execute_result"
    }
   ],
   "source": [
    "list(filter(lambda a : a>threshold,test))"
   ]
  },
  {
   "cell_type": "markdown",
   "id": "a6d10415-c768-4617-aa8f-0b5504f2bef3",
   "metadata": {},
   "source": [
    "# ===================================\n",
    "# recursion"
   ]
  },
  {
   "cell_type": "markdown",
   "id": "9598470d-62d3-4aed-8c59-7fc134d6c686",
   "metadata": {},
   "source": [
    "1. Explain the concept of recursion in Python. How does it differ from iteration?\n"
   ]
  },
  {
   "cell_type": "code",
   "execution_count": 57,
   "id": "305a8a23-ea49-40d2-8b2f-b9266afc1485",
   "metadata": {},
   "outputs": [],
   "source": [
    "# recursion calls for function everytime while iteration visits  each element one by one\n"
   ]
  },
  {
   "cell_type": "markdown",
   "id": "ce773c9a-0279-46b7-ae39-2b926ffdfc0f",
   "metadata": {},
   "source": [
    "2. Write a Python program to calculate the factorial of a number using recursion.\n"
   ]
  },
  {
   "cell_type": "code",
   "execution_count": 14,
   "id": "3f2f53f1-c704-47d2-8e33-3b73a1f54685",
   "metadata": {},
   "outputs": [],
   "source": [
    "def fact(n):\n",
    "    if n <=1:\n",
    "        if n<0:\n",
    "            return\"please enter positive number\"\n",
    "        return n\n",
    "    else:\n",
    "        return n*fact(n-1)"
   ]
  },
  {
   "cell_type": "code",
   "execution_count": 15,
   "id": "6851aa20-9fdb-4a6d-a52c-16a836ceb24d",
   "metadata": {},
   "outputs": [
    {
     "data": {
      "text/plain": [
       "'please enter positive number'"
      ]
     },
     "execution_count": 15,
     "metadata": {},
     "output_type": "execute_result"
    }
   ],
   "source": [
    "fact(-1)"
   ]
  },
  {
   "cell_type": "markdown",
   "id": "63b2269f-2b7e-4d09-bb94-1b6ea80e1a1e",
   "metadata": {},
   "source": [
    "3. Create a recursive Python function to find the nth Fibonacci number.\n"
   ]
  },
  {
   "cell_type": "code",
   "execution_count": 16,
   "id": "d17e42ec-d2af-4e6f-850f-52b09c4e990f",
   "metadata": {},
   "outputs": [],
   "source": [
    "def fib(n):\n",
    "    if n<=1:\n",
    "        return n\n",
    "    else:\n",
    "        return fib(n-1)+fib(n-2)"
   ]
  },
  {
   "cell_type": "code",
   "execution_count": 19,
   "id": "d55ad418-66ef-4ebc-9e85-06246e9b25e6",
   "metadata": {},
   "outputs": [
    {
     "data": {
      "text/plain": [
       "8"
      ]
     },
     "execution_count": 19,
     "metadata": {},
     "output_type": "execute_result"
    }
   ],
   "source": [
    "fib(6)"
   ]
  },
  {
   "cell_type": "code",
   "execution_count": 20,
   "id": "996d8940-b6ef-4ed1-965f-dc369a46aa8e",
   "metadata": {},
   "outputs": [
    {
     "data": {
      "text/plain": [
       "[0, 1, 1, 2, 3]"
      ]
     },
     "execution_count": 20,
     "metadata": {},
     "output_type": "execute_result"
    }
   ],
   "source": [
    "[fib(i) for i in range(5)]"
   ]
  },
  {
   "cell_type": "markdown",
   "id": "38207cdc-148c-41dd-8ce2-fb4bb3168ad9",
   "metadata": {},
   "source": [
    "4. Write a recursive Python function to calculate the sum of all elements in a list.\n"
   ]
  },
  {
   "cell_type": "code",
   "execution_count": 33,
   "id": "b4f3caed-9b05-4131-a43e-b3218c204701",
   "metadata": {},
   "outputs": [],
   "source": [
    "def sum_list(l):\n",
    "    n = len(l)//2\n",
    "    if len(l)<=1:\n",
    "        return l[0]\n",
    "    else:\n",
    "        return sum_list(l[:n])+sum_list(l[n:])"
   ]
  },
  {
   "cell_type": "code",
   "execution_count": 38,
   "id": "fd800a1d-077d-4fd7-8cb9-7a4be8b0b1ec",
   "metadata": {},
   "outputs": [],
   "source": [
    "test_list = [2,3,4,5,6,7]\n",
    "\n",
    "# binary breaking the list into 2 part and middle number is taken into picture to split\n",
    "# splitting takes place till we have either 1 or zero element in one section and recurviely callling it"
   ]
  },
  {
   "cell_type": "code",
   "execution_count": 36,
   "id": "27846f84-6dc7-4748-8b3c-78aedf23a5e2",
   "metadata": {},
   "outputs": [
    {
     "data": {
      "text/plain": [
       "27"
      ]
     },
     "execution_count": 36,
     "metadata": {},
     "output_type": "execute_result"
    }
   ],
   "source": [
    "sum_list(test_list)"
   ]
  },
  {
   "cell_type": "markdown",
   "id": "0f02e6d9-d002-4dba-9d97-8f0a2084643c",
   "metadata": {},
   "source": [
    "5. How can you prevent a recursive function from running indefinitely, causing a stack overflow error?\n"
   ]
  },
  {
   "cell_type": "code",
   "execution_count": 40,
   "id": "a37e1df2-e2a2-4568-a56a-e55630a6ec81",
   "metadata": {},
   "outputs": [],
   "source": [
    "# to clearly define the base case and when to stop calling in that base case"
   ]
  },
  {
   "cell_type": "markdown",
   "id": "950d5cb0-ed9b-40a9-93d9-c1c3bc8158e6",
   "metadata": {},
   "source": [
    "6. Create a recursive Python function to find the greatest common divisor (GCD) of two numbers using the Euclidean algorithm.\n"
   ]
  },
  {
   "cell_type": "code",
   "execution_count": 41,
   "id": "4df9bace-97cd-4c45-a937-b6a820e7cd16",
   "metadata": {},
   "outputs": [],
   "source": [
    "def gcd(a,b):\n",
    "    if(b==0):\n",
    "        return a\n",
    "    else:\n",
    "        return gcd(b,a%b)"
   ]
  },
  {
   "cell_type": "code",
   "execution_count": 43,
   "id": "4f00e479-87c5-4036-921b-dd023107212c",
   "metadata": {},
   "outputs": [
    {
     "data": {
      "text/plain": [
       "12"
      ]
     },
     "execution_count": 43,
     "metadata": {},
     "output_type": "execute_result"
    }
   ],
   "source": [
    "gcd(12,36)"
   ]
  },
  {
   "cell_type": "markdown",
   "id": "80c48494-45e7-48ef-b97f-716d1cd8016d",
   "metadata": {},
   "source": [
    "7. Write a recursive Python function to reverse a string.\n"
   ]
  },
  {
   "cell_type": "code",
   "execution_count": 47,
   "id": "0b209a8e-ceb2-4e30-87c6-35551a4c9cf0",
   "metadata": {},
   "outputs": [],
   "source": [
    "test = \"t o d a y is W E D N E S D A Y\"\n",
    "\n"
   ]
  },
  {
   "cell_type": "code",
   "execution_count": 50,
   "id": "d06edffc-78f3-4b83-ac4a-43fbde2c3f6a",
   "metadata": {},
   "outputs": [],
   "source": [
    "def rev(s):\n",
    "    if len(s) ==0:\n",
    "        return s\n",
    "    else:\n",
    "        return rev(s[1:])+s[0]"
   ]
  },
  {
   "cell_type": "code",
   "execution_count": 51,
   "id": "ed425468-9831-4bd2-9130-8cd54f0debbd",
   "metadata": {},
   "outputs": [
    {
     "data": {
      "text/plain": [
       "'Y A D S E N D E W si y a d o t'"
      ]
     },
     "execution_count": 51,
     "metadata": {},
     "output_type": "execute_result"
    }
   ],
   "source": [
    "rev(test)"
   ]
  },
  {
   "cell_type": "markdown",
   "id": "a6dd14c1-a068-4dbb-a699-92a5dc91c6db",
   "metadata": {},
   "source": [
    "8. Create a recursive Python function to calculate the power of a number (x^n).\n"
   ]
  },
  {
   "cell_type": "code",
   "execution_count": 68,
   "id": "89d8f199-d0b9-4630-9e39-63b9f89e8376",
   "metadata": {},
   "outputs": [],
   "source": [
    "def power(x,n):\n",
    "    if n>=0:\n",
    "        if n==0:\n",
    "            return 1\n",
    "        else:\n",
    "            return x*power(x,n-1)\n",
    "    else:\n",
    "        if n==0:\n",
    "            return 1\n",
    "        else:\n",
    "            return (1/x)*power(x,n+1)\n",
    "\n",
    "# 2 cases, if power is positive and negative\n",
    "# recursively calling the 1/x and multiply it recursively"
   ]
  },
  {
   "cell_type": "code",
   "execution_count": 67,
   "id": "9961db3e-7c20-4f42-9ea8-63a9c0c1898d",
   "metadata": {},
   "outputs": [
    {
     "data": {
      "text/plain": [
       "0.5"
      ]
     },
     "execution_count": 67,
     "metadata": {},
     "output_type": "execute_result"
    }
   ],
   "source": [
    "power(2,-1)"
   ]
  },
  {
   "cell_type": "markdown",
   "id": "2e17de2d-8e3d-4f7f-a24c-9334b136b35a",
   "metadata": {},
   "source": [
    "9. Write a recursive Python function to find all permutations of a given string.\n"
   ]
  },
  {
   "cell_type": "code",
   "execution_count": 84,
   "id": "d1bd2b2b-d05c-4d32-b4fb-2c2b260f56f2",
   "metadata": {},
   "outputs": [],
   "source": [
    "def permute(s, l, r): \n",
    "    if l == r: \n",
    "        print(\"\".join(s)) \n",
    "    else: \n",
    "        for i in range(l, r): \n",
    "            s[l], s[i] = s[i], s[l] \n",
    "            permute(s, l+1, r) \n",
    "            s[l], s[i] = s[i], s[l]"
   ]
  },
  {
   "cell_type": "code",
   "execution_count": 85,
   "id": "81372ddd-329b-412c-9543-e19845afe9cc",
   "metadata": {},
   "outputs": [
    {
     "name": "stdout",
     "output_type": "stream",
     "text": [
      "ABC\n",
      "ACB\n",
      "BAC\n",
      "BCA\n",
      "CBA\n",
      "CAB\n"
     ]
    }
   ],
   "source": [
    "test = \"ABC\"\n",
    "l = 0\n",
    "r = len(s)\n",
    "s = list(test)\n",
    "permute(s,l,r)"
   ]
  },
  {
   "cell_type": "markdown",
   "id": "5b85dab9-239c-426f-aedd-ce43fc49ffbe",
   "metadata": {},
   "source": [
    "10. Write a recursive Python function to check if a string is a palindrome.\n"
   ]
  },
  {
   "cell_type": "code",
   "execution_count": 124,
   "id": "9579b67f-29eb-4d22-9d16-546079060c2d",
   "metadata": {},
   "outputs": [],
   "source": [
    "test_str = \"asdfdsa\""
   ]
  },
  {
   "cell_type": "code",
   "execution_count": 128,
   "id": "25e18ab4-4106-4c9d-959c-97d802b52b74",
   "metadata": {},
   "outputs": [],
   "source": [
    "def check_pal(s):\n",
    "    n = len(s)//2\n",
    "    # if s[0]==s[-1]:\n",
    "    #     return check_pal(s())\n",
    "    \n",
    "    for i in range(n):\n",
    "        if s[i] == s[-i-1]:\n",
    "            check_pal(s[i+1:-i-1])\n",
    "        else:\n",
    "            return \"no it is not pallindrome\"\n",
    "    return \"it is pallindrome\""
   ]
  },
  {
   "cell_type": "code",
   "execution_count": 129,
   "id": "75bb19a0-f48e-418e-9a72-15879a0798b6",
   "metadata": {},
   "outputs": [
    {
     "data": {
      "text/plain": [
       "'it is pallindrome'"
      ]
     },
     "execution_count": 129,
     "metadata": {},
     "output_type": "execute_result"
    }
   ],
   "source": [
    "check_pal(test_str)\n"
   ]
  },
  {
   "cell_type": "markdown",
   "id": "b3285fbf-5505-4aaa-aae8-570f51deb909",
   "metadata": {},
   "source": [
    "11. Create a recursive Python function to generate all possible combinations of a list of elements.\n"
   ]
  },
  {
   "cell_type": "code",
   "execution_count": 133,
   "id": "c247fd94-075d-4231-ad87-8d71c1a80d67",
   "metadata": {},
   "outputs": [],
   "source": [
    "def permute(s, l, r): \n",
    "    if l == r: \n",
    "        print(s) \n",
    "    else: \n",
    "        for i in range(l, r): \n",
    "            s[l], s[i] = s[i], s[l] \n",
    "            permute(s, l+1, r) \n",
    "            s[l], s[i] = s[i], s[l]"
   ]
  },
  {
   "cell_type": "code",
   "execution_count": 135,
   "id": "37871936-fc04-47af-9b3f-16783a2187ba",
   "metadata": {},
   "outputs": [
    {
     "name": "stdout",
     "output_type": "stream",
     "text": [
      "['raj', 'XYZ', '123']\n",
      "['raj', '123', 'XYZ']\n",
      "['XYZ', 'raj', '123']\n",
      "['XYZ', '123', 'raj']\n",
      "['123', 'XYZ', 'raj']\n",
      "['123', 'raj', 'XYZ']\n"
     ]
    }
   ],
   "source": [
    "s = [\"raj\",\"XYZ\",\"123\"]\n",
    "l = 0\n",
    "r = len(s)\n",
    "permute(s, l, r)"
   ]
  },
  {
   "cell_type": "markdown",
   "id": "b8b50759-398b-4a50-9d1b-8ed02e8edf4c",
   "metadata": {},
   "source": [
    "# ===================================\n",
    "# Basics of Functions:\n"
   ]
  },
  {
   "cell_type": "markdown",
   "id": "2b0eeab4-c508-4b01-a5f7-c0af90640d77",
   "metadata": {},
   "source": [
    "1. What is a function in Python, and why is it used?\n"
   ]
  },
  {
   "cell_type": "code",
   "execution_count": 1,
   "id": "67d31849-9fa8-4922-8dad-eb02f986d70c",
   "metadata": {},
   "outputs": [],
   "source": [
    "# set of piece of code having logical set of instruction and whenever it needed it can recall"
   ]
  },
  {
   "cell_type": "markdown",
   "id": "ddcc98d6-558c-455c-ae5f-91f0089483d9",
   "metadata": {},
   "source": [
    "2. How do you define a function in Python? Provide an example.\n"
   ]
  },
  {
   "cell_type": "code",
   "execution_count": 2,
   "id": "1ad4593c-71d2-491f-8393-af3fe3c50728",
   "metadata": {},
   "outputs": [],
   "source": [
    "def fun(x,y):\n",
    "    return x+y"
   ]
  },
  {
   "cell_type": "code",
   "execution_count": 3,
   "id": "0b3d6048-1816-4885-805f-485d2394bdc9",
   "metadata": {},
   "outputs": [
    {
     "data": {
      "text/plain": [
       "21"
      ]
     },
     "execution_count": 3,
     "metadata": {},
     "output_type": "execute_result"
    }
   ],
   "source": [
    "fun(12,9)"
   ]
  },
  {
   "cell_type": "markdown",
   "id": "d88d65aa-e863-4668-93c6-c246e3d70035",
   "metadata": {},
   "source": [
    "3. Explain the difference between a function definition and a function call.\n"
   ]
  },
  {
   "cell_type": "markdown",
   "id": "70db342e-c6d0-42a6-a158-c9caf8b4defa",
   "metadata": {},
   "source": [
    "funtion is a piece of code that performs set of logical operation <br>\n",
    "while function call, calls the function to perform operation"
   ]
  },
  {
   "cell_type": "markdown",
   "id": "527c7a0a-6373-4f58-bd27-251710a4db5e",
   "metadata": {},
   "source": [
    "4. Write a Python program that defines a function to calculate the sum of two numbers and then calls the function.\n"
   ]
  },
  {
   "cell_type": "code",
   "execution_count": 4,
   "id": "f00b6d97-90c6-4a36-9053-a495ac2391e1",
   "metadata": {},
   "outputs": [],
   "source": [
    "def fun(x,y):\n",
    "    return x+y"
   ]
  },
  {
   "cell_type": "code",
   "execution_count": 5,
   "id": "f5ae8b64-6535-4031-8749-c3ad6dc72282",
   "metadata": {},
   "outputs": [
    {
     "data": {
      "text/plain": [
       "21"
      ]
     },
     "execution_count": 5,
     "metadata": {},
     "output_type": "execute_result"
    }
   ],
   "source": [
    "fun(12,9)"
   ]
  },
  {
   "cell_type": "markdown",
   "id": "6f1e31f2-06ca-41e4-ac58-92111d980087",
   "metadata": {},
   "source": [
    "5. What is a function signature, and what information does it typically include?\n"
   ]
  },
  {
   "cell_type": "markdown",
   "id": "e08d498e-0992-4a32-8243-1d1f36612f37",
   "metadata": {},
   "source": [
    " indicates the names and types of the input arguments, and (with type annotations) the type of the returned result(s) of a function or method"
   ]
  },
  {
   "cell_type": "markdown",
   "id": "6edc8062-49bd-4dd3-86c9-84b1c05c3abc",
   "metadata": {},
   "source": [
    "6. Create a Python function that takes two arguments and returns their product.\n"
   ]
  },
  {
   "cell_type": "code",
   "execution_count": 6,
   "id": "db0b7bc7-3ef3-41ad-b829-3910361a6e87",
   "metadata": {},
   "outputs": [],
   "source": [
    "def two_func(x,y):\n",
    "    return x*y"
   ]
  },
  {
   "cell_type": "code",
   "execution_count": 11,
   "id": "5d70294a-6596-4ae1-b791-1ac53d8d52f2",
   "metadata": {},
   "outputs": [
    {
     "data": {
      "text/plain": [
       "12"
      ]
     },
     "execution_count": 11,
     "metadata": {},
     "output_type": "execute_result"
    }
   ],
   "source": [
    "two_func(3,4)"
   ]
  },
  {
   "cell_type": "markdown",
   "id": "d34e3e63-d2e5-4102-a382-a8d66e29013d",
   "metadata": {},
   "source": [
    "# ===========================\n",
    "# Function Parameters and Arguments:\n"
   ]
  },
  {
   "cell_type": "markdown",
   "id": "63b0186a-7b6c-4244-aa3c-8fe4d1d31f1e",
   "metadata": {},
   "source": [
    "1. Explain the concepts of formal parameters and actual arguments in Python functions.\n"
   ]
  },
  {
   "cell_type": "markdown",
   "id": "aab19f2e-7b2c-4040-9069-1e38c651fb19",
   "metadata": {},
   "source": [
    "Actual Parameters are values supplied to the function when it is invoked, whereas Formal Parameters are variables declared by the function that get values when the function is called."
   ]
  },
  {
   "cell_type": "markdown",
   "id": "87483456-f91c-41ae-aca8-598154dd4efa",
   "metadata": {},
   "source": [
    "2. Write a Python program that defines a function with default argument values.\n"
   ]
  },
  {
   "cell_type": "code",
   "execution_count": 12,
   "id": "5803fcd8-f5cc-4745-852b-77e9932461cb",
   "metadata": {},
   "outputs": [
    {
     "name": "stdout",
     "output_type": "stream",
     "text": [
      "Hello, world\n"
     ]
    }
   ],
   "source": [
    "def hi(name=\"world\"):\n",
    "   print(\"Hello,\", name)\n",
    "hi()"
   ]
  },
  {
   "cell_type": "markdown",
   "id": "951093b0-da35-4f5e-b218-fc4a972c9f5f",
   "metadata": {},
   "source": [
    "3. How do you use keyword arguments in Python function calls? Provide an example.\n"
   ]
  },
  {
   "cell_type": "code",
   "execution_count": 13,
   "id": "6c5ccf04-1445-45eb-937b-44cc203f4686",
   "metadata": {},
   "outputs": [
    {
     "name": "stdout",
     "output_type": "stream",
     "text": [
      "First Name: Eric\n",
      "Last Name: Cartman\n"
     ]
    }
   ],
   "source": [
    "def display_info(first_name, last_name):\n",
    "    print('First Name:', first_name)\n",
    "    print('Last Name:', last_name)\n",
    "\n",
    "display_info(last_name = 'Cartman', first_name = 'Eric')"
   ]
  },
  {
   "cell_type": "markdown",
   "id": "87c155c3-8be7-43ba-95ab-6bdb77349ef9",
   "metadata": {},
   "source": [
    "4. Create a Python function that accepts a variable number of arguments and calculates their sum.\n"
   ]
  },
  {
   "cell_type": "code",
   "execution_count": 14,
   "id": "879192d1-a5c0-4ddc-a372-aa27598b3199",
   "metadata": {},
   "outputs": [],
   "source": [
    "def add_two_num(a,b):\n",
    "    c=a+b;\n",
    "    return c"
   ]
  },
  {
   "cell_type": "code",
   "execution_count": 15,
   "id": "62c07e36-1f09-4484-9233-f297e7b07f61",
   "metadata": {},
   "outputs": [
    {
     "data": {
      "text/plain": [
       "5"
      ]
     },
     "execution_count": 15,
     "metadata": {},
     "output_type": "execute_result"
    }
   ],
   "source": [
    "add_two_num(2,3)"
   ]
  },
  {
   "cell_type": "markdown",
   "id": "2d5a3e3c-c47f-4e5e-971b-7795414daf38",
   "metadata": {},
   "source": [
    "5. What is the purpose of the `*args` and `**kwargs` syntax in function parameter lists?\n"
   ]
  },
  {
   "cell_type": "code",
   "execution_count": 16,
   "id": "d5e020b7-ef93-4ea9-8593-4e0392ba72e5",
   "metadata": {},
   "outputs": [],
   "source": [
    "def my_sum(*args):\n",
    "    result = 0\n",
    "    for x in args:\n",
    "        result += x\n",
    "    return result\n",
    "\n"
   ]
  },
  {
   "cell_type": "code",
   "execution_count": 18,
   "id": "4e366943-2701-4b3b-b9be-6c9848eff677",
   "metadata": {},
   "outputs": [
    {
     "name": "stdout",
     "output_type": "stream",
     "text": [
      "13\n"
     ]
    }
   ],
   "source": [
    "print(my_sum(1, 2, 3,7))"
   ]
  },
  {
   "cell_type": "code",
   "execution_count": 19,
   "id": "fae44652-d927-4f3b-8cfd-a0d52cb4874d",
   "metadata": {},
   "outputs": [
    {
     "name": "stdout",
     "output_type": "stream",
     "text": [
      "RealPythonIsGreat!\n"
     ]
    }
   ],
   "source": [
    "def concatenate(**kwargs):\n",
    "    result = \"\"\n",
    "    # Iterating over the Python kwargs dictionary\n",
    "    for arg in kwargs.values():\n",
    "        result += arg\n",
    "    return result\n",
    "\n",
    "print(concatenate(a=\"Real\", b=\"Python\", c=\"Is\", d=\"Great\", e=\"!\"))"
   ]
  },
  {
   "cell_type": "markdown",
   "id": "1a429091-e7dd-4822-82d5-bc5557d726dc",
   "metadata": {},
   "source": [
    "# =============================\n",
    "# Return Values and Scoping:\n"
   ]
  },
  {
   "cell_type": "markdown",
   "id": "12ce2271-92ef-4b6f-891a-b80a56cc66b7",
   "metadata": {},
   "source": [
    "1. Describe the role of the `return` statement in Python functions and provide examples.\n"
   ]
  },
  {
   "cell_type": "markdown",
   "id": "18d0c8a8-4201-48ff-9fe2-ad66697b24aa",
   "metadata": {},
   "source": [
    "return statement returns the function output"
   ]
  },
  {
   "cell_type": "code",
   "execution_count": 20,
   "id": "5db70e08-ab3d-4ee9-bf43-9b2ef09b2843",
   "metadata": {},
   "outputs": [],
   "source": [
    "def my_sum(*args):\n",
    "    result = 0\n",
    "    for x in args:\n",
    "        result += x\n",
    "    return result"
   ]
  },
  {
   "cell_type": "markdown",
   "id": "31a8ad93-e426-4f81-b9e1-5ba7c475c5e9",
   "metadata": {},
   "source": [
    "2. Explain the concept of variable scope in Python, including local and global variables.\n"
   ]
  },
  {
   "cell_type": "code",
   "execution_count": 24,
   "id": "c10db6a9-5bbe-4404-8bd2-758322be43b2",
   "metadata": {},
   "outputs": [],
   "source": [
    "def test(s):\n",
    "    a = \"hi\"\n",
    "    return \"hello \"+\"hi \"+str(s)"
   ]
  },
  {
   "cell_type": "code",
   "execution_count": 25,
   "id": "7980afce-08c3-4e8b-b3cb-9266c4f813a3",
   "metadata": {},
   "outputs": [
    {
     "data": {
      "text/plain": [
       "'hello hi world'"
      ]
     },
     "execution_count": 25,
     "metadata": {},
     "output_type": "execute_result"
    }
   ],
   "source": [
    "test(\"world\")"
   ]
  },
  {
   "cell_type": "markdown",
   "id": "1a07a9df-1a79-4e32-9424-760e22c7cac7",
   "metadata": {},
   "source": [
    "3. Write a Python program that demonstrates the use of global variables within functions.\n"
   ]
  },
  {
   "cell_type": "code",
   "execution_count": 26,
   "id": "403f5a11-64cb-40a2-9dfa-59f7a410cd36",
   "metadata": {},
   "outputs": [],
   "source": [
    "def test(s):\n",
    "    return \"hello \"+str(s)"
   ]
  },
  {
   "cell_type": "code",
   "execution_count": 27,
   "id": "ed41b947-9d49-4827-97ff-f5626464e579",
   "metadata": {},
   "outputs": [
    {
     "data": {
      "text/plain": [
       "'hello 5'"
      ]
     },
     "execution_count": 27,
     "metadata": {},
     "output_type": "execute_result"
    }
   ],
   "source": [
    "test(5)"
   ]
  },
  {
   "cell_type": "markdown",
   "id": "c72cc0c7-b1ee-4ba2-b99f-0bf7650714ee",
   "metadata": {},
   "source": [
    "4. Create a Python function that calculates the factorial of a number and returns it.\n"
   ]
  },
  {
   "cell_type": "code",
   "execution_count": 32,
   "id": "1bf47ed0-e6c4-4595-8d27-af105b2564da",
   "metadata": {},
   "outputs": [],
   "source": [
    "def fact(n):\n",
    "    if n ==1 or 0:\n",
    "        return 1\n",
    "    else:\n",
    "        return n*fact(n-1)"
   ]
  },
  {
   "cell_type": "code",
   "execution_count": 33,
   "id": "076ad47d-fe62-4e6c-843f-09dbefcd0588",
   "metadata": {},
   "outputs": [
    {
     "data": {
      "text/plain": [
       "24"
      ]
     },
     "execution_count": 33,
     "metadata": {},
     "output_type": "execute_result"
    }
   ],
   "source": [
    "fact(4)"
   ]
  },
  {
   "cell_type": "markdown",
   "id": "9a289cb3-7c5b-4b0d-b731-edbaa97f0458",
   "metadata": {},
   "source": [
    "5. How can you access variables defined outside a function from within the function?\n"
   ]
  },
  {
   "cell_type": "code",
   "execution_count": 37,
   "id": "912a6ff9-1022-4a1b-b5ac-9ad6f3b973ba",
   "metadata": {},
   "outputs": [],
   "source": [
    "a =\"hello \""
   ]
  },
  {
   "cell_type": "code",
   "execution_count": 35,
   "id": "298b448b-2edd-423b-a59d-be7eca8c96b3",
   "metadata": {},
   "outputs": [],
   "source": [
    "def dun(s):\n",
    "    print(a+str(s))"
   ]
  },
  {
   "cell_type": "code",
   "execution_count": 38,
   "id": "c9b4a47c-c05a-4b19-a5f4-3affc5256729",
   "metadata": {},
   "outputs": [
    {
     "name": "stdout",
     "output_type": "stream",
     "text": [
      "hello world\n"
     ]
    }
   ],
   "source": [
    "dun(\"world\")"
   ]
  },
  {
   "cell_type": "markdown",
   "id": "bc539060-ae48-48aa-b945-f0019482e2f5",
   "metadata": {},
   "source": [
    "# =========================\n",
    "# Lambda Functions and Higher-Order Functions:\n"
   ]
  },
  {
   "cell_type": "markdown",
   "id": "96a91256-f603-443b-b016-2f7732c3932f",
   "metadata": {},
   "source": [
    "1. What are lambda functions in Python, and when are they typically used?\n"
   ]
  },
  {
   "cell_type": "markdown",
   "id": "51c97928-1504-4f37-8c20-95eca49dfb03",
   "metadata": {},
   "source": [
    "similar to user-defined functions but without a name. <br>\n",
    "They're commonly referred to as anonymous functions. Lambda functions are efficient whenever you want to create a function that will only contain simple expressions"
   ]
  },
  {
   "cell_type": "markdown",
   "id": "cc2f5f5f-3296-4530-8e0b-6472b12e91d6",
   "metadata": {},
   "source": [
    "2. Write a Python program that uses lambda functions to sort a list of tuples based on the second element.\n"
   ]
  },
  {
   "cell_type": "code",
   "execution_count": 40,
   "id": "f654ed72-1a57-4e73-b7ae-5ebb5ef22ce8",
   "metadata": {},
   "outputs": [],
   "source": [
    "test_list = [('a', 2), ('c', 3), ('d', 4)]"
   ]
  },
  {
   "cell_type": "code",
   "execution_count": 41,
   "id": "df4b49ef-385c-4f99-87f7-53688ba4ea95",
   "metadata": {},
   "outputs": [],
   "source": [
    "sort_order = [4, 2, 3]\n",
    "\n",
    "res = [i for j in sort_order\n",
    "       for i in filter(lambda k: k[1] == j, test_list)]"
   ]
  },
  {
   "cell_type": "code",
   "execution_count": 42,
   "id": "612d20d5-39d7-4fc1-9561-2fde88fdebc0",
   "metadata": {},
   "outputs": [
    {
     "data": {
      "text/plain": [
       "[('d', 4), ('a', 2), ('c', 3)]"
      ]
     },
     "execution_count": 42,
     "metadata": {},
     "output_type": "execute_result"
    }
   ],
   "source": [
    "res"
   ]
  },
  {
   "cell_type": "markdown",
   "id": "602b2b13-dc58-44d7-bbe8-ce80d53b7f48",
   "metadata": {},
   "source": [
    "3. Explain the concept of higher-order functions in Python, and provide an example.\n"
   ]
  },
  {
   "cell_type": "code",
   "execution_count": 44,
   "id": "ac5b3760-a749-4ba8-8620-028046dba539",
   "metadata": {},
   "outputs": [],
   "source": [
    "# A function that is having another function as an argument or a function that returns another function as a return \n",
    "# in the output "
   ]
  },
  {
   "cell_type": "code",
   "execution_count": 47,
   "id": "85517df0-28fe-48ab-8ce2-922a24f9b157",
   "metadata": {},
   "outputs": [
    {
     "name": "stdout",
     "output_type": "stream",
     "text": [
      "25\n"
     ]
    }
   ],
   "source": [
    "def create_adder(x):  \n",
    "    def adder(y):  \n",
    "        return x + y  \n",
    "    \n",
    "    return adder  \n",
    "    \n",
    "add_15 = create_adder(15)  \n",
    "    \n",
    "print(add_15(10)) "
   ]
  },
  {
   "cell_type": "markdown",
   "id": "9c5e1fc9-607c-449f-be6e-7f0f58165f37",
   "metadata": {},
   "source": [
    "4. Create a Python function that takes a list of numbers and a function as arguments, applying the function to each element in the list.\n"
   ]
  },
  {
   "cell_type": "code",
   "execution_count": 48,
   "id": "9fdacf35-db93-4d56-9d9a-164cb0f44b3a",
   "metadata": {},
   "outputs": [],
   "source": [
    "def f(a):\n",
    "    return a*2\n",
    "\n",
    "def each_element(l,f):\n",
    "    for i in range(len(l)):\n",
    "        l[i] = f(l[i])\n",
    "    return l\n",
    "        "
   ]
  },
  {
   "cell_type": "code",
   "execution_count": 49,
   "id": "25a67346-a7c6-4a51-93ea-7c3df4fd1aca",
   "metadata": {},
   "outputs": [],
   "source": [
    "l = [1,2,3,4]"
   ]
  },
  {
   "cell_type": "code",
   "execution_count": 50,
   "id": "ebabee8a-6322-42bb-a55d-08281b04af75",
   "metadata": {},
   "outputs": [
    {
     "data": {
      "text/plain": [
       "[2, 4, 6, 8]"
      ]
     },
     "execution_count": 50,
     "metadata": {},
     "output_type": "execute_result"
    }
   ],
   "source": [
    "each_element(l,f)"
   ]
  },
  {
   "cell_type": "markdown",
   "id": "06218c04-9575-415b-8a06-3a791ff77404",
   "metadata": {},
   "source": [
    "# =============================\n",
    "# Built-in Functions:\n"
   ]
  },
  {
   "cell_type": "markdown",
   "id": "58ba64b4-3bac-4ea4-ac00-41a99fc7a528",
   "metadata": {},
   "source": [
    "1. Describe the role of built-in functions like `len()`, `max()`, and `min()` in Python.\n"
   ]
  },
  {
   "cell_type": "code",
   "execution_count": 51,
   "id": "8c36f36c-1608-4d73-8cd0-beb5c092c69a",
   "metadata": {},
   "outputs": [],
   "source": [
    "# len return length of string or list\n",
    "# max is the maximum amount in list\n",
    "# min is the minimum amount in list"
   ]
  },
  {
   "cell_type": "markdown",
   "id": "9a867217-8330-462c-918e-f891ca71371b",
   "metadata": {},
   "source": [
    "2. Write a Python program that uses the `map()` function to apply a function to each element of a list.\n"
   ]
  },
  {
   "cell_type": "code",
   "execution_count": 59,
   "id": "3a6421cd-1260-4e22-9dd8-b46d0e92f77e",
   "metadata": {},
   "outputs": [],
   "source": [
    "s1 = list(map(lambda a:a[::-1],s))\n"
   ]
  },
  {
   "cell_type": "code",
   "execution_count": 60,
   "id": "91ca27dc-bdc9-4c00-a15d-4016430d8e72",
   "metadata": {},
   "outputs": [
    {
     "data": {
      "text/plain": [
       "['ahw', 'jar', 'ih']"
      ]
     },
     "execution_count": 60,
     "metadata": {},
     "output_type": "execute_result"
    }
   ],
   "source": [
    "s =[\"wha\",\"raj\",\"hi\"]\n",
    "s1"
   ]
  },
  {
   "cell_type": "markdown",
   "id": "f0c2ff05-8cb3-44d8-9cb9-9ef27533bd0c",
   "metadata": {},
   "source": [
    "3. How does the `filter()` function work in Python, and when would you use it?\n"
   ]
  },
  {
   "cell_type": "code",
   "execution_count": 75,
   "id": "9b88fc50-22b5-49a5-99bb-0bdb2672a78c",
   "metadata": {},
   "outputs": [],
   "source": [
    "adult = list(filter(lambda a : a if a>18 else 0,ages))"
   ]
  },
  {
   "cell_type": "code",
   "execution_count": 76,
   "id": "449f1534-2f48-452d-8bdd-361ac372e8c9",
   "metadata": {},
   "outputs": [
    {
     "data": {
      "text/plain": [
       "[20, 34, 35, 45, 46, 63, 87]"
      ]
     },
     "execution_count": 76,
     "metadata": {},
     "output_type": "execute_result"
    }
   ],
   "source": [
    "adult"
   ]
  },
  {
   "cell_type": "code",
   "execution_count": 77,
   "id": "8cf02afe-d0e3-4433-a376-750233bf0873",
   "metadata": {},
   "outputs": [],
   "source": [
    "# filter out the elements with certain condition"
   ]
  },
  {
   "cell_type": "markdown",
   "id": "29d2a972-7459-45cb-8795-be82fc5c87b3",
   "metadata": {},
   "source": [
    "4. Create a Python program that uses the `reduce()` function to find the product of all elements in a list.\n"
   ]
  },
  {
   "cell_type": "code",
   "execution_count": 78,
   "id": "b1c69386-81c1-4643-ab30-ac10c04e0504",
   "metadata": {},
   "outputs": [],
   "source": [
    "l = [2,3,4,1,5]"
   ]
  },
  {
   "cell_type": "code",
   "execution_count": 80,
   "id": "caa570f1-d84e-40b7-bbd8-f5d754993d13",
   "metadata": {},
   "outputs": [
    {
     "data": {
      "text/plain": [
       "120"
      ]
     },
     "execution_count": 80,
     "metadata": {},
     "output_type": "execute_result"
    }
   ],
   "source": [
    "reduce(lambda a,b: a*b,l)"
   ]
  },
  {
   "cell_type": "markdown",
   "id": "4d99aa7b-e769-469d-9882-3bf1496be8b2",
   "metadata": {},
   "source": [
    "# ====================="
   ]
  },
  {
   "cell_type": "markdown",
   "id": "0ac82016-49f1-4d5c-b8f6-42e365cdba67",
   "metadata": {},
   "source": [
    "1. Explain the purpose of docstrings in Python functions and how to write them.\n"
   ]
  },
  {
   "cell_type": "code",
   "execution_count": 81,
   "id": "26721f26-289a-476a-aced-a606fdca7634",
   "metadata": {},
   "outputs": [
    {
     "name": "stdout",
     "output_type": "stream",
     "text": [
      "Takes in a number n, returns the square of n\n"
     ]
    }
   ],
   "source": [
    "# checking the comments of the fuction with\n",
    "def square(n):\n",
    "    '''Takes in a number n, returns the square of n'''\n",
    "    return n**2\n",
    "\n",
    "print(square.__doc__)"
   ]
  },
  {
   "cell_type": "markdown",
   "id": "ce161bb3-b044-4297-907a-422e59b94490",
   "metadata": {},
   "source": [
    "2. Describe some best practices for naming functions and variables in Python, including naming conventions and guidelines."
   ]
  },
  {
   "cell_type": "markdown",
   "id": "df90961e-4f58-4c0c-9aaf-30cb094e3778",
   "metadata": {},
   "source": [
    "#ans\n",
    "1. Use descriptive and meaningful names\n",
    "2. Follow a consistent naming convention\n",
    "3. Avoid reserved keywords\n",
    "5. Be mindful of variable scope\n"
   ]
  },
  {
   "cell_type": "code",
   "execution_count": null,
   "id": "83e8f3ca-6f4b-46cf-978e-578477bd7157",
   "metadata": {},
   "outputs": [],
   "source": []
  }
 ],
 "metadata": {
  "kernelspec": {
   "display_name": "Python 3 (ipykernel)",
   "language": "python",
   "name": "python3"
  },
  "language_info": {
   "codemirror_mode": {
    "name": "ipython",
    "version": 3
   },
   "file_extension": ".py",
   "mimetype": "text/x-python",
   "name": "python",
   "nbconvert_exporter": "python",
   "pygments_lexer": "ipython3",
   "version": "3.10.8"
  }
 },
 "nbformat": 4,
 "nbformat_minor": 5
}

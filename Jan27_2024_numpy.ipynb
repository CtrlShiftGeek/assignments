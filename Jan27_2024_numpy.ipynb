{
 "cells": [
  {
   "cell_type": "markdown",
   "id": "d12217ac-03a0-4709-b085-efed5580ca7b",
   "metadata": {},
   "source": [
    "Numpy\n",
    "\n",
    "Assignment Questions"
   ]
  },
  {
   "cell_type": "markdown",
   "id": "6ffd9381-ef1a-444f-bf71-2ef7fa631289",
   "metadata": {},
   "source": [
    "1. What is a Python library? Why ^o we use Python libraries?"
   ]
  },
  {
   "cell_type": "markdown",
   "id": "985f9470-a54b-4c72-b1ee-85dc8d514f6e",
   "metadata": {},
   "source": [
    "Python libraries are collections of pre-written code modules, functions, and classes that help solve specific problems or perform tasks in Python programs. We use them to save time, extend Python's capabilities, adhere to best practices, benefit from community support, and integrate advanced features into our projects."
   ]
  },
  {
   "cell_type": "markdown",
   "id": "a53a1210-b1d0-43f9-aeff-123024b64a53",
   "metadata": {},
   "source": [
    "2. What is the ^ifference between Numpy array an^ List?"
   ]
  },
  {
   "cell_type": "markdown",
   "id": "f50d5400-43e8-4357-882e-251123bf0dda",
   "metadata": {},
   "source": [
    "NumPy arrays contain elements of the same data type, which allows for efficient mathematical operations, while lists can hold elements of different data types.\n",
    "\n",
    "NumPy arrays are more memory efficient than lists, especially when dealing with large datasets, because they store homogeneous data types in contiguous memory locations.\n",
    "\n",
    "NumPy arrays offer better performance for mathematical operations and numerical computations compared to lists, which are more suited for general-purpose data storage and manipulation"
   ]
  },
  {
   "cell_type": "markdown",
   "id": "f67b4230-2bb2-4372-b0d6-7cca1b393d36",
   "metadata": {},
   "source": [
    "3. Find the shape, size and dimension of the following array?\n",
    "\n",
    "[[1, 2, 3, 4] <br>\n",
    "[5, 6, 7, 8],<br>\n",
    "[9, 10, 11, 12]]"
   ]
  },
  {
   "cell_type": "code",
   "execution_count": 1,
   "id": "870f7a8c-7aed-4614-a303-2de61aae7b58",
   "metadata": {},
   "outputs": [],
   "source": [
    "import numpy as np"
   ]
  },
  {
   "cell_type": "code",
   "execution_count": 2,
   "id": "25238b26-3aea-4f06-8729-7fe7a41fb707",
   "metadata": {},
   "outputs": [],
   "source": [
    "d = [[1, 2, 3, 4],\n",
    "[5, 6, 7, 8],\n",
    "[9, 10, 11, 12]]"
   ]
  },
  {
   "cell_type": "code",
   "execution_count": 3,
   "id": "7b98167d-18e0-43eb-81b3-2faa58fe96fd",
   "metadata": {},
   "outputs": [],
   "source": [
    "arr = np.array(d)"
   ]
  },
  {
   "cell_type": "code",
   "execution_count": 10,
   "id": "b11401dd-e712-43db-a4c4-1c252b7e6725",
   "metadata": {},
   "outputs": [
    {
     "data": {
      "text/plain": [
       "(3, 4)"
      ]
     },
     "execution_count": 10,
     "metadata": {},
     "output_type": "execute_result"
    }
   ],
   "source": [
    "arr.shape"
   ]
  },
  {
   "cell_type": "code",
   "execution_count": 11,
   "id": "65ff89a4-cb79-4c7b-9d65-4b797df76772",
   "metadata": {},
   "outputs": [
    {
     "data": {
      "text/plain": [
       "12"
      ]
     },
     "execution_count": 11,
     "metadata": {},
     "output_type": "execute_result"
    }
   ],
   "source": [
    "arr.size"
   ]
  },
  {
   "cell_type": "code",
   "execution_count": 12,
   "id": "c0d93d3f-dc5a-43e3-abd1-3004ed1d4d9e",
   "metadata": {},
   "outputs": [
    {
     "data": {
      "text/plain": [
       "2"
      ]
     },
     "execution_count": 12,
     "metadata": {},
     "output_type": "execute_result"
    }
   ],
   "source": [
    "arr.ndim"
   ]
  },
  {
   "cell_type": "markdown",
   "id": "2ac9ddee-ed8a-400b-94f2-c23a43262fea",
   "metadata": {},
   "source": [
    "4. Write python code to access the first row of the following array?"
   ]
  },
  {
   "cell_type": "code",
   "execution_count": 13,
   "id": "0ec5cc7e-511c-4fe0-8469-5b845e064b4c",
   "metadata": {},
   "outputs": [
    {
     "data": {
      "text/plain": [
       "array([1, 2, 3, 4])"
      ]
     },
     "execution_count": 13,
     "metadata": {},
     "output_type": "execute_result"
    }
   ],
   "source": [
    "arr[0]"
   ]
  },
  {
   "cell_type": "markdown",
   "id": "bb116aa3-b6b8-4011-a517-1cc80608ac12",
   "metadata": {},
   "source": [
    "5. How do you access the element at the third row and fourth column from the given numpy array?\n"
   ]
  },
  {
   "cell_type": "code",
   "execution_count": 14,
   "id": "c31cf245-e866-4243-8f2c-4161ca61938b",
   "metadata": {},
   "outputs": [
    {
     "data": {
      "text/plain": [
       "12"
      ]
     },
     "execution_count": 14,
     "metadata": {},
     "output_type": "execute_result"
    }
   ],
   "source": [
    "arr[2,3]"
   ]
  },
  {
   "cell_type": "markdown",
   "id": "29e51fa2-49fb-4061-b8e6-14d32a2f6b16",
   "metadata": {},
   "source": [
    "6. Write code to extract all odd-indexed elements from the given numpy array?"
   ]
  },
  {
   "cell_type": "code",
   "execution_count": 17,
   "id": "261c9730-ccea-4153-8809-6709668a4956",
   "metadata": {},
   "outputs": [
    {
     "data": {
      "text/plain": [
       "array([[ 1,  2,  3,  4],\n",
       "       [ 5,  6,  7,  8],\n",
       "       [ 9, 10, 11, 12]])"
      ]
     },
     "execution_count": 17,
     "metadata": {},
     "output_type": "execute_result"
    }
   ],
   "source": [
    "arr"
   ]
  },
  {
   "cell_type": "code",
   "execution_count": 15,
   "id": "1cd64526-a60c-42c2-839e-13170b586131",
   "metadata": {},
   "outputs": [],
   "source": [
    "odd = arr[1::2]"
   ]
  },
  {
   "cell_type": "code",
   "execution_count": 16,
   "id": "0c37256a-67f1-4e74-8aad-8b3bcb1829f4",
   "metadata": {},
   "outputs": [
    {
     "data": {
      "text/plain": [
       "array([[5, 6, 7, 8]])"
      ]
     },
     "execution_count": 16,
     "metadata": {},
     "output_type": "execute_result"
    }
   ],
   "source": [
    "odd"
   ]
  },
  {
   "cell_type": "markdown",
   "id": "4d01bd59-f4e9-444b-86c5-709becc0da75",
   "metadata": {},
   "source": [
    "7. How can you generate a ran^om 3x3 matrix with values between 0 an^ 1?"
   ]
  },
  {
   "cell_type": "code",
   "execution_count": 18,
   "id": "bdc793ad-f7ed-4ee7-8847-f9a4d3141604",
   "metadata": {},
   "outputs": [
    {
     "data": {
      "text/plain": [
       "array([[0.97012959, 0.68492174, 0.56447069],\n",
       "       [0.25198813, 0.02673748, 0.84542578],\n",
       "       [0.37569274, 0.13683626, 0.01867605]])"
      ]
     },
     "execution_count": 18,
     "metadata": {},
     "output_type": "execute_result"
    }
   ],
   "source": [
    "np.random.rand(3,3)"
   ]
  },
  {
   "cell_type": "markdown",
   "id": "b32504a7-5a21-4144-a706-122b6ae123b7",
   "metadata": {},
   "source": [
    "8. Describe the difference between np.random.rand and np.random.randn?"
   ]
  },
  {
   "cell_type": "markdown",
   "id": "122a9615-4f2e-4c36-8f37-9f840fb01bfc",
   "metadata": {},
   "source": [
    "np.random.rand:\n",
    "\n",
    "1. Generates random numbers from a uniform distribution over the range [0, 1).\n",
    "2. The generated numbers are uniformly distributed, meaning each value has an equal chance of being selected.\n",
    "3. Takes parameters specifying the dimensions of the output array (e.g., shape=(3, 3) for a 3x3 matrix).\n",
    "\n",
    "np.random.randn\n",
    "\n",
    "1. Generates random numbers from a standard normal distribution (mean=0, standard deviation=1).\n",
    "2. The generated numbers follow a bell-shaped curve centered around 0 i.e. normal distribution, with the majority of values clustered near the mean (0) and decreasing in frequency as they move away from the mean.\n",
    "3. Does not require parameters for the dimensions of the output array; instead, it directly accepts the size of the array as arguments (e.g., np.random.randn(3, 3) for a 3x3 matrix)"
   ]
  },
  {
   "cell_type": "markdown",
   "id": "3de91ebc-36e3-4119-bf1f-d2c8777d92e6",
   "metadata": {},
   "source": [
    "9. Write code to increase the dimension of the following array?\n",
    "[[1, 2, 3, 4]\n",
    "[5, 6, 7, 8],\n",
    "[9, 10, 11, 12]]"
   ]
  },
  {
   "cell_type": "code",
   "execution_count": 5,
   "id": "fe573df5-5790-4132-9990-6c05ab67e113",
   "metadata": {},
   "outputs": [],
   "source": [
    "expand_arr = np.expand_dims(arr,axis=0)"
   ]
  },
  {
   "cell_type": "code",
   "execution_count": 8,
   "id": "48081772-eff8-445f-88c1-044236b94989",
   "metadata": {},
   "outputs": [
    {
     "data": {
      "text/plain": [
       "3"
      ]
     },
     "execution_count": 8,
     "metadata": {},
     "output_type": "execute_result"
    }
   ],
   "source": [
    "expand_arr.ndim"
   ]
  },
  {
   "cell_type": "markdown",
   "id": "cabb127c-8bbc-46e5-9ec6-b7a3dba00ba1",
   "metadata": {},
   "source": [
    "10. How to transpose the following array in NumPy?"
   ]
  },
  {
   "cell_type": "code",
   "execution_count": 9,
   "id": "d0b3002b-9f9d-4503-80be-463fc811a1ec",
   "metadata": {},
   "outputs": [
    {
     "data": {
      "text/plain": [
       "array([[ 1,  5,  9],\n",
       "       [ 2,  6, 10],\n",
       "       [ 3,  7, 11],\n",
       "       [ 4,  8, 12]])"
      ]
     },
     "execution_count": 9,
     "metadata": {},
     "output_type": "execute_result"
    }
   ],
   "source": [
    "np.transpose(arr)"
   ]
  },
  {
   "cell_type": "markdown",
   "id": "cb17cfd5-158c-4345-8257-55c237e7d9f6",
   "metadata": {},
   "source": [
    "11. Consi^er the following matrix:\n",
    "\n",
    "matrixA =[[1, 2, 3, 4] [5, 6, 7, 8],[9, 10, 11, 12]] <br>\n",
    "matrixB =[[1, 2, 3, 4] [5, 6, 7, 8],[9, 10, 11, 12]]\n",
    "Perform the following operation using Python\n",
    "1. Index wise multiplication\n"
   ]
  },
  {
   "cell_type": "code",
   "execution_count": 11,
   "id": "ee817e00-aff3-430e-b050-6fff4acf0c00",
   "metadata": {},
   "outputs": [],
   "source": [
    "matrixA = np.array([[1, 2, 3, 4],[5, 6, 7, 8],[9, 10, 11, 12]])\n",
    "matrixB = np.array([[1, 2, 3, 4],[5, 6, 7, 8],[9, 10, 11, 12]])\n"
   ]
  },
  {
   "cell_type": "code",
   "execution_count": 12,
   "id": "9e76bd0b-66dc-4dbe-8cc7-f5ea67646279",
   "metadata": {},
   "outputs": [
    {
     "data": {
      "text/plain": [
       "array([[  1,   4,   9,  16],\n",
       "       [ 25,  36,  49,  64],\n",
       "       [ 81, 100, 121, 144]])"
      ]
     },
     "execution_count": 12,
     "metadata": {},
     "output_type": "execute_result"
    }
   ],
   "source": [
    "matrixA*matrixB"
   ]
  },
  {
   "cell_type": "markdown",
   "id": "9b598d69-f95b-47cb-984a-478f734106bf",
   "metadata": {},
   "source": [
    "2. matrix multiplication"
   ]
  },
  {
   "cell_type": "code",
   "execution_count": 17,
   "id": "dc0d7871-c72e-44d6-8461-15f3088f2016",
   "metadata": {},
   "outputs": [
    {
     "data": {
      "text/plain": [
       "array([[ 30,  70, 110],\n",
       "       [ 70, 174, 278],\n",
       "       [110, 278, 446]])"
      ]
     },
     "execution_count": 17,
     "metadata": {},
     "output_type": "execute_result"
    }
   ],
   "source": [
    "matrixA = np.array([[1, 2, 3, 4], [5, 6, 7, 8], [9, 10, 11, 12]])\n",
    "matrixB = np.array([[1, 2, 3, 4], [5, 6, 7, 8], [9, 10, 11, 12]])\n",
    "\n",
    "trans_b = np.transpose(matrixB)\n",
    "result_dot = np.dot(matrixA, trans_b)\n",
    "result_dot"
   ]
  },
  {
   "cell_type": "markdown",
   "id": "696c0ec6-b5e0-4ac8-8353-0bdafe555ac2",
   "metadata": {},
   "source": [
    "3. Add both the matics"
   ]
  },
  {
   "cell_type": "code",
   "execution_count": 18,
   "id": "1afe6664-ec31-4f01-ac8c-d2385d017f8e",
   "metadata": {},
   "outputs": [
    {
     "data": {
      "text/plain": [
       "array([[ 2,  4,  6,  8],\n",
       "       [10, 12, 14, 16],\n",
       "       [18, 20, 22, 24]])"
      ]
     },
     "execution_count": 18,
     "metadata": {},
     "output_type": "execute_result"
    }
   ],
   "source": [
    "matrixA+matrixB"
   ]
  },
  {
   "cell_type": "markdown",
   "id": "0e8e082c-e34c-47f9-b143-9587184ef1c5",
   "metadata": {},
   "source": [
    "4. Subtact matrixB from matrixA"
   ]
  },
  {
   "cell_type": "code",
   "execution_count": 19,
   "id": "537872a2-b002-4fb8-927b-694e75e244b4",
   "metadata": {},
   "outputs": [
    {
     "data": {
      "text/plain": [
       "array([[0, 0, 0, 0],\n",
       "       [0, 0, 0, 0],\n",
       "       [0, 0, 0, 0]])"
      ]
     },
     "execution_count": 19,
     "metadata": {},
     "output_type": "execute_result"
    }
   ],
   "source": [
    "matrixA - matrixB"
   ]
  },
  {
   "cell_type": "markdown",
   "id": "918f3722-97c7-48d2-8022-ca044bde1b9f",
   "metadata": {},
   "source": [
    "5. Divide Matrix B by A"
   ]
  },
  {
   "cell_type": "code",
   "execution_count": 21,
   "id": "d096cdcf-0875-41d7-98b8-9e4c74ba1766",
   "metadata": {},
   "outputs": [
    {
     "data": {
      "text/plain": [
       "array([[1., 1., 1., 1.],\n",
       "       [1., 1., 1., 1.],\n",
       "       [1., 1., 1., 1.]])"
      ]
     },
     "execution_count": 21,
     "metadata": {},
     "output_type": "execute_result"
    }
   ],
   "source": [
    "np.divide(matrixA,matrixB)"
   ]
  },
  {
   "cell_type": "markdown",
   "id": "66173eb9-5617-46ff-bb8a-c5090b36c109",
   "metadata": {},
   "source": [
    "12. Which function in Numpy can be used to swap the byte order of an array?"
   ]
  },
  {
   "cell_type": "code",
   "execution_count": 23,
   "id": "aa96c942-3c6d-4209-ab17-8ac0d2690598",
   "metadata": {},
   "outputs": [],
   "source": [
    "# np.ndarray.byteswap()"
   ]
  },
  {
   "cell_type": "markdown",
   "id": "6b4fdd0c-efc1-4c82-98d2-8af47f1d8129",
   "metadata": {},
   "source": [
    "13. What is the significance of the np.linalg.inv function?"
   ]
  },
  {
   "cell_type": "markdown",
   "id": "93fa21b6-c23f-4352-bf89-d2f5a9b8ecd6",
   "metadata": {},
   "source": [
    "1. Solving Systems of Linear Equations\n",
    "2. Matrix Decomposition:\n",
    "3. Numerical Stability: \n",
    "4. Applications in Statistics and Machine Learning"
   ]
  },
  {
   "cell_type": "markdown",
   "id": "a82b9ff2-9f2a-4691-8297-8f304f9518f5",
   "metadata": {},
   "source": [
    "14. What does the np.reshape function do, and how is it used?"
   ]
  },
  {
   "cell_type": "code",
   "execution_count": 24,
   "id": "1c324b23-42de-4404-a030-4532daa432e1",
   "metadata": {},
   "outputs": [],
   "source": [
    "arr1 = np.array([[1, 2, 3],\n",
    "                [4, 5, 6]])"
   ]
  },
  {
   "cell_type": "code",
   "execution_count": 25,
   "id": "dbdb0553-39bd-4190-85e9-98b22e34d661",
   "metadata": {},
   "outputs": [
    {
     "data": {
      "text/plain": [
       "array([[1, 2],\n",
       "       [3, 4],\n",
       "       [5, 6]])"
      ]
     },
     "execution_count": 25,
     "metadata": {},
     "output_type": "execute_result"
    }
   ],
   "source": [
    "np.reshape(arr1,(3,2))"
   ]
  },
  {
   "cell_type": "markdown",
   "id": "5e3cb0d7-f18e-49d6-ac40-71bbd6207c30",
   "metadata": {},
   "source": [
    "15. What is broadcasting in Numpy?"
   ]
  },
  {
   "cell_type": "markdown",
   "id": "d859b4dc-fa27-41ed-bbd4-391f6e750178",
   "metadata": {},
   "source": [
    "Broadcasting in NumPy is a powerful mechanism that allows arrays with different shapes to be combined in arithmetic operations. When performing operations between arrays of different shapes, NumPy automatically broadcasts the arrays to have compatible shapes so that the operation can be carried out element-wise."
   ]
  },
  {
   "cell_type": "code",
   "execution_count": 26,
   "id": "33092a6f-ac19-4468-a581-6991f36e75aa",
   "metadata": {},
   "outputs": [],
   "source": [
    "arr1 = np.array([[1, 2, 3],\n",
    "                 [4, 5, 6]])\n",
    "\n",
    "# Define a 1D array\n",
    "arr2 = np.array([10, 20, 30])\n",
    "\n",
    "# Perform broadcasting in element-wise addition\n",
    "result = arr1 + arr2"
   ]
  },
  {
   "cell_type": "code",
   "execution_count": 27,
   "id": "03772b59-c8d4-41c8-a06a-41886c9462e6",
   "metadata": {},
   "outputs": [
    {
     "data": {
      "text/plain": [
       "array([[11, 22, 33],\n",
       "       [14, 25, 36]])"
      ]
     },
     "execution_count": 27,
     "metadata": {},
     "output_type": "execute_result"
    }
   ],
   "source": [
    "result"
   ]
  },
  {
   "cell_type": "code",
   "execution_count": 28,
   "id": "2dc41582-0b6b-4939-bf1b-95d37d859419",
   "metadata": {},
   "outputs": [
    {
     "ename": "SyntaxError",
     "evalue": "invalid syntax (2357691903.py, line 1)",
     "output_type": "error",
     "traceback": [
      "\u001b[0;36m  Cell \u001b[0;32mIn[28], line 1\u001b[0;36m\u001b[0m\n\u001b[0;31m    git pull\u001b[0m\n\u001b[0m        ^\u001b[0m\n\u001b[0;31mSyntaxError\u001b[0m\u001b[0;31m:\u001b[0m invalid syntax\n"
     ]
    }
   ],
   "source": []
  },
  {
   "cell_type": "code",
   "execution_count": null,
   "id": "c242acac-ac93-4ff5-be27-8dbb4f47b82c",
   "metadata": {},
   "outputs": [],
   "source": []
  }
 ],
 "metadata": {
  "kernelspec": {
   "display_name": "Python 3 (ipykernel)",
   "language": "python",
   "name": "python3"
  },
  "language_info": {
   "codemirror_mode": {
    "name": "ipython",
    "version": 3
   },
   "file_extension": ".py",
   "mimetype": "text/x-python",
   "name": "python",
   "nbconvert_exporter": "python",
   "pygments_lexer": "ipython3",
   "version": "3.10.8"
  }
 },
 "nbformat": 4,
 "nbformat_minor": 5
}

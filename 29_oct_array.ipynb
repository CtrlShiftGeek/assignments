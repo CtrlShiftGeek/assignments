{
 "cells": [
  {
   "cell_type": "markdown",
   "id": "d7b91925-0321-44d6-ad5c-2653e32fffb5",
   "metadata": {},
   "source": [
    "1. Given an array, check if it contains any duplicates or not.\n",
    "arr = [1, 2, 4, 2, 5, 9]\n",
    "Output = True"
   ]
  },
  {
   "cell_type": "code",
   "execution_count": 5,
   "id": "aae0b611-d6b0-4330-a2e7-8edd7a004d87",
   "metadata": {},
   "outputs": [],
   "source": [
    "arr = [1, 2, 4, 2, 5, 9]\n",
    "# sorting the array\n",
    "# check the indices of the array and comparing with the next one to check the duplicate\n",
    "# nlogn time complexity\n",
    "def check_duplicate(ar):\n",
    "    ar.sort()\n",
    "    for i in range(len(ar)-1):\n",
    "        if ar[i]==ar[i+1]:\n",
    "            return True\n",
    "    return False"
   ]
  },
  {
   "cell_type": "code",
   "execution_count": 6,
   "id": "604b4d6b-9ddc-4853-99cd-fdcb4839800e",
   "metadata": {},
   "outputs": [
    {
     "data": {
      "text/plain": [
       "True"
      ]
     },
     "execution_count": 6,
     "metadata": {},
     "output_type": "execute_result"
    }
   ],
   "source": [
    "check_duplicate(arr)"
   ]
  },
  {
   "cell_type": "markdown",
   "id": "32ea88ca-f021-418e-b5fb-6ed959948583",
   "metadata": {},
   "source": [
    "2. Given an array and an integer k, rotate the array to the right by k steps.\n",
    "arr = [1, 2, 3, 4, 5, 6, 7] k = 3\n",
    "Output = [5, 6, 7, 1, 2, 3, 4]"
   ]
  },
  {
   "cell_type": "code",
   "execution_count": 12,
   "id": "42da8c87-344a-425e-aa65-cdeddd2f61dc",
   "metadata": {},
   "outputs": [],
   "source": [
    "arr = [1, 2, 3, 4, 5, 6, 7] "
   ]
  },
  {
   "cell_type": "code",
   "execution_count": 13,
   "id": "1a46e283-b5bd-406b-9170-abf9fa8ffb6a",
   "metadata": {},
   "outputs": [],
   "source": [
    "def rotate(ar,k):\n",
    "    n = len(ar)\n",
    "    k = k%n\n",
    "    if n >1 and k>0:\n",
    "        ar[:k],ar[k:] = ar[-k:],ar[:-k]\n",
    "    return ar\n",
    "    "
   ]
  },
  {
   "cell_type": "code",
   "execution_count": 14,
   "id": "60bc20df-1065-47b2-82be-1d8ddc769943",
   "metadata": {},
   "outputs": [
    {
     "data": {
      "text/plain": [
       "[5, 6, 7, 1, 2, 3, 4]"
      ]
     },
     "execution_count": 14,
     "metadata": {},
     "output_type": "execute_result"
    }
   ],
   "source": [
    "rotate(arr,3)"
   ]
  },
  {
   "cell_type": "markdown",
   "id": "54ddacbd-0941-42dd-8733-e493c13e5391",
   "metadata": {},
   "source": [
    "3. Reverse the given array in-place, means without using any extra data structure.\n",
    "arr = [2, 4, 5, 7, 9, 12]\n",
    "Output = [12, 9, 7, 5, 4, 2]"
   ]
  },
  {
   "cell_type": "code",
   "execution_count": 17,
   "id": "cf8d1304-6c96-48e0-847a-8a715b84e7ac",
   "metadata": {},
   "outputs": [],
   "source": [
    "n = [2, 4, 5, 7, 9, 12]"
   ]
  },
  {
   "cell_type": "code",
   "execution_count": 16,
   "id": "94947833-b5b7-4815-8e96-3b93c351dbbe",
   "metadata": {},
   "outputs": [],
   "source": [
    "\n",
    "def rev(arr):\n",
    "    left = 0\n",
    "    right = len(arr)-1\n",
    "\n",
    "    while left<right:\n",
    "        arr[left] , arr[right]=arr[right] , arr[left]\n",
    "        left +=1\n",
    "        right -=1\n",
    "    return arr\n",
    "    \n"
   ]
  },
  {
   "cell_type": "code",
   "execution_count": 18,
   "id": "6bfbe08b-aaf6-431c-9179-f621e268bf57",
   "metadata": {},
   "outputs": [
    {
     "data": {
      "text/plain": [
       "[12, 9, 7, 5, 4, 2]"
      ]
     },
     "execution_count": 18,
     "metadata": {},
     "output_type": "execute_result"
    }
   ],
   "source": [
    "rev(n)"
   ]
  },
  {
   "cell_type": "markdown",
   "id": "bdf7e99c-29cb-478f-a23a-cf47f0b60371",
   "metadata": {},
   "source": [
    "4. Given an array of integers, find the maximum element in an array\n",
    "arr = [10, 5, 20, 8, 15]\n",
    "Output = 20"
   ]
  },
  {
   "cell_type": "code",
   "execution_count": 19,
   "id": "a7918b45-dbdf-4f2b-81ae-ffdea38d41a6",
   "metadata": {},
   "outputs": [],
   "source": [
    "arr = [10, 5, 20, 8, 15]"
   ]
  },
  {
   "cell_type": "code",
   "execution_count": 20,
   "id": "ce0dbd83-30fa-442b-a1c2-81c3946325b6",
   "metadata": {},
   "outputs": [],
   "source": [
    "def max_element(ar):\n",
    "    s = -1\n",
    "    for val in ar:\n",
    "        if val >=s:\n",
    "            s =val \n",
    "    return s\n",
    "\n",
    "# time complexity is n"
   ]
  },
  {
   "cell_type": "code",
   "execution_count": 22,
   "id": "c8a575fe-0e2d-43c9-a579-0c0e2b09e925",
   "metadata": {},
   "outputs": [
    {
     "data": {
      "text/plain": [
       "-1"
      ]
     },
     "execution_count": 22,
     "metadata": {},
     "output_type": "execute_result"
    }
   ],
   "source": [
    "max_element([])\n",
    "#-1 denotes empty array and no elements are there"
   ]
  },
  {
   "cell_type": "code",
   "execution_count": 23,
   "id": "d9986c1c-b6af-418c-aba5-9561193f50e1",
   "metadata": {},
   "outputs": [
    {
     "data": {
      "text/plain": [
       "20"
      ]
     },
     "execution_count": 23,
     "metadata": {},
     "output_type": "execute_result"
    }
   ],
   "source": [
    "max_element(arr)"
   ]
  },
  {
   "cell_type": "markdown",
   "id": "50a4953b-66bd-4ab9-a229-d814ac927e97",
   "metadata": {},
   "source": [
    "5. Given a sorted array, remove the duplicate element without using any extra data structure.\n",
    "arr = [1, 1, 2, 2, 2, 3, 3, 4, 4, 4, 5, 5]\n",
    "Output = [1, 2, 3, 4, 5]"
   ]
  },
  {
   "cell_type": "code",
   "execution_count": 125,
   "id": "38f17735-b8db-45b1-9059-b27f758831a3",
   "metadata": {},
   "outputs": [],
   "source": [
    "arr = [1, 1, 2, 2, 2, 3, 3, 4, 4, 4, 5, 5]"
   ]
  },
  {
   "cell_type": "code",
   "execution_count": 126,
   "id": "1462f7c5-40dc-470c-bda3-23d433b024a1",
   "metadata": {},
   "outputs": [],
   "source": [
    "i = 1\n",
    "while i <(len(arr)):\n",
    "    if arr[i-1]==arr[i]:\n",
    "        arr.remove(arr[i])\n",
    "    else:\n",
    "        i+=1"
   ]
  },
  {
   "cell_type": "code",
   "execution_count": 122,
   "id": "3fdabdbd-c06c-4cf1-848c-a2e905f81424",
   "metadata": {},
   "outputs": [
    {
     "data": {
      "text/plain": [
       "[1, 2, 3, 4, 5]"
      ]
     },
     "execution_count": 122,
     "metadata": {},
     "output_type": "execute_result"
    }
   ],
   "source": [
    "arr"
   ]
  },
  {
   "cell_type": "code",
   "execution_count": null,
   "id": "6e25e2fa-936a-4630-bcf6-8564e9d05dd1",
   "metadata": {},
   "outputs": [],
   "source": []
  },
  {
   "cell_type": "code",
   "execution_count": null,
   "id": "fed97fb9-def6-458d-9914-14be89109c69",
   "metadata": {},
   "outputs": [],
   "source": []
  },
  {
   "cell_type": "code",
   "execution_count": null,
   "id": "b1ded63c-4d3e-45ce-a644-a5f8ab1c3c8a",
   "metadata": {},
   "outputs": [],
   "source": []
  },
  {
   "cell_type": "code",
   "execution_count": null,
   "id": "c660e0e7-1d05-4e3f-88d8-3a423be7cd5b",
   "metadata": {},
   "outputs": [],
   "source": []
  }
 ],
 "metadata": {
  "kernelspec": {
   "display_name": "Python 3 (ipykernel)",
   "language": "python",
   "name": "python3"
  },
  "language_info": {
   "codemirror_mode": {
    "name": "ipython",
    "version": 3
   },
   "file_extension": ".py",
   "mimetype": "text/x-python",
   "name": "python",
   "nbconvert_exporter": "python",
   "pygments_lexer": "ipython3",
   "version": "3.10.8"
  }
 },
 "nbformat": 4,
 "nbformat_minor": 5
}

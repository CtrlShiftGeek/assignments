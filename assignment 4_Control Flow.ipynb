{
 "cells": [
  {
   "cell_type": "markdown",
   "id": "14918c4e-4e46-4fc4-822a-7316180fb595",
   "metadata": {},
   "source": [
    "# Assignment 4"
   ]
  },
  {
   "cell_type": "markdown",
   "id": "488421ff-789d-4d3a-83c8-7e54c4de9aea",
   "metadata": {},
   "source": [
    "Basic If-Else Statements:"
   ]
  },
  {
   "cell_type": "markdown",
   "id": "dc64e982-1539-45b5-b16a-680888ee2e2d",
   "metadata": {},
   "source": [
    "1. Write a Python program to check if a given number is positive or negative."
   ]
  },
  {
   "cell_type": "code",
   "execution_count": 6,
   "id": "8509cf8c-0bfd-4d37-8269-0d088cc87d05",
   "metadata": {},
   "outputs": [
    {
     "name": "stdin",
     "output_type": "stream",
     "text": [
      "enter a number -3\n"
     ]
    },
    {
     "name": "stdout",
     "output_type": "stream",
     "text": [
      "it is negative number\n"
     ]
    }
   ],
   "source": [
    " n = input(\"enter a number\")\n",
    "    \n",
    "if int(n) >=0:\n",
    "    print(\"it is positive number\")\n",
    "else:\n",
    "    print(\"it is negative number\")"
   ]
  },
  {
   "cell_type": "markdown",
   "id": "2597d06e-d41b-4bbe-b8ab-0cb2c02d2245",
   "metadata": {},
   "source": [
    "2. Create a program that determines if a person is eligible to vote based on their age."
   ]
  },
  {
   "cell_type": "code",
   "execution_count": 7,
   "id": "ea4ef21e-2adc-4bb1-999a-2b59f8821ae4",
   "metadata": {},
   "outputs": [
    {
     "name": "stdin",
     "output_type": "stream",
     "text": [
      "enter age 34\n"
     ]
    },
    {
     "name": "stdout",
     "output_type": "stream",
     "text": [
      "eligible to vote\n"
     ]
    }
   ],
   "source": [
    "n = input(\"enter age\")\n",
    "    \n",
    "if int(n) >=18:\n",
    "    print(\"eligible to vote\")\n",
    "else:\n",
    "    print(\"not eligible to vote\")"
   ]
  },
  {
   "cell_type": "markdown",
   "id": "b7604d05-1aa4-4124-a810-42718680a080",
   "metadata": {},
   "source": [
    "3. Develop a program to find the maximum of two numbers using if-else statements."
   ]
  },
  {
   "cell_type": "code",
   "execution_count": 10,
   "id": "f8c1efb9-14dc-4043-98cd-b92ca1008cdf",
   "metadata": {},
   "outputs": [
    {
     "name": "stdout",
     "output_type": "stream",
     "text": [
      "23 is greater than 12\n"
     ]
    }
   ],
   "source": [
    "n1 = 23\n",
    "n2 = 12\n",
    "\n",
    "if n1>n2:\n",
    "    print(f\"{n1} is greater than {n2}\")\n",
    "elif n1 ==n2:\n",
    "    print(f\"{n1} and {n2} are equal\")\n",
    "else:\n",
    "    print(f\"{n2} is greater than {n1}\")"
   ]
  },
  {
   "cell_type": "markdown",
   "id": "07281dc1-d548-4955-bc70-a077047a3c14",
   "metadata": {},
   "source": [
    "4. Write a Python script to classify a given year as a leap year or not."
   ]
  },
  {
   "cell_type": "code",
   "execution_count": 15,
   "id": "c3c78061-fc6b-44a8-934b-0ccfe2c4a1ee",
   "metadata": {},
   "outputs": [],
   "source": [
    "def check_year(year):\n",
    "    \n",
    "    if year % 4 == 0:\n",
    "        if year % 100 == 0:\n",
    "            if year % 400 == 0:\n",
    "                print(f\"{year} is a leap year\")\n",
    "            else:\n",
    "                print(f\"{year} is not a leap year\")\n",
    "        else:\n",
    "            print(f\"{year} is a leap year\")\n",
    "    else:\n",
    "        print(f\"{year} is not a leap year\")"
   ]
  },
  {
   "cell_type": "code",
   "execution_count": 16,
   "id": "cdfe0273-bcf0-471d-b93b-2da18ef55b9b",
   "metadata": {},
   "outputs": [
    {
     "name": "stdout",
     "output_type": "stream",
     "text": [
      "1990 is not a leap year\n"
     ]
    }
   ],
   "source": [
    "check_year(1990)"
   ]
  },
  {
   "cell_type": "code",
   "execution_count": 17,
   "id": "dd4efd18-1a7b-404a-a74f-c6aae8d69887",
   "metadata": {},
   "outputs": [
    {
     "name": "stdout",
     "output_type": "stream",
     "text": [
      "2000 is a leap year\n"
     ]
    }
   ],
   "source": [
    "check_year(2000)"
   ]
  },
  {
   "cell_type": "code",
   "execution_count": 18,
   "id": "62220067-79d7-441b-a70a-c3aec25cf6b7",
   "metadata": {},
   "outputs": [
    {
     "name": "stdout",
     "output_type": "stream",
     "text": [
      "2100 is not a leap year\n"
     ]
    }
   ],
   "source": [
    "check_year(2100)"
   ]
  },
  {
   "cell_type": "markdown",
   "id": "2a30f502-8102-47d3-8a8a-da1c9eb16e03",
   "metadata": {},
   "source": [
    "5. Create a program that checks whether a character is a vowel or a consonant."
   ]
  },
  {
   "cell_type": "code",
   "execution_count": 20,
   "id": "2664be6d-3d07-4104-998c-b4f0bae82d99",
   "metadata": {},
   "outputs": [
    {
     "name": "stdout",
     "output_type": "stream",
     "text": [
      "it is consonant\n"
     ]
    }
   ],
   "source": [
    "my_char = \"b\"\n",
    "\n",
    "if my_char.lower() in \"aeiou\":\n",
    "    print(\"it is vowel\")\n",
    "else:\n",
    "    print(\"it is consonant\")"
   ]
  },
  {
   "cell_type": "markdown",
   "id": "e4414ca6-b4a4-4510-b1ae-ee0f337a3f77",
   "metadata": {},
   "source": [
    "6. Implement a program to determine whether a given number is even or odd."
   ]
  },
  {
   "cell_type": "code",
   "execution_count": 21,
   "id": "68e50635-9ce8-465a-8e25-24aff240650c",
   "metadata": {},
   "outputs": [
    {
     "name": "stdout",
     "output_type": "stream",
     "text": [
      "it is odd\n"
     ]
    }
   ],
   "source": [
    "num =43\n",
    "\n",
    "if num%2==0:\n",
    "    print(\"it is even\")\n",
    "else:\n",
    "    print(\"it is odd\")"
   ]
  },
  {
   "cell_type": "markdown",
   "id": "97c1f8f1-d6de-4c92-b4a1-5bbbfbc04dde",
   "metadata": {},
   "source": [
    "7. Write a Python function to calculate the absolute value of a number without using the `abs()` function."
   ]
  },
  {
   "cell_type": "code",
   "execution_count": 26,
   "id": "35b83675-525e-4d80-b8f6-f31c029e43e5",
   "metadata": {},
   "outputs": [],
   "source": [
    "num =-23\n",
    "\n",
    "def abs_val(n):\n",
    "    if n <0:\n",
    "        return -n\n",
    "    else:\n",
    "        return n"
   ]
  },
  {
   "cell_type": "code",
   "execution_count": 27,
   "id": "87d9f860-045e-47e2-94ac-d03aa310da3c",
   "metadata": {},
   "outputs": [
    {
     "data": {
      "text/plain": [
       "23"
      ]
     },
     "execution_count": 27,
     "metadata": {},
     "output_type": "execute_result"
    }
   ],
   "source": [
    "abs_val(num)"
   ]
  },
  {
   "cell_type": "markdown",
   "id": "d7df6cdc-5b6e-4b8d-b92d-30868194c6b5",
   "metadata": {},
   "source": [
    "8. Develop a program that determines the largest of three given numbers using if-else statements."
   ]
  },
  {
   "cell_type": "code",
   "execution_count": 34,
   "id": "7da6b93d-f3b2-4d43-a7d5-80ff6f99d36e",
   "metadata": {},
   "outputs": [
    {
     "name": "stdout",
     "output_type": "stream",
     "text": [
      "24 is the greatest\n"
     ]
    }
   ],
   "source": [
    "a = 23\n",
    "b = 24\n",
    "c = 23\n",
    "\n",
    "if a >b and a >c :\n",
    "    print(f\"{a} is the greatest\")\n",
    "elif b >a and b >c :\n",
    "    print(f\"{b} is the greatest\")\n",
    "elif c>a and c>b:\n",
    "    print(f\"{c} is the greatest\")\n",
    "else:\n",
    "    print(\"all are equal\")"
   ]
  },
  {
   "cell_type": "markdown",
   "id": "b70aa40d-c407-47ec-8f59-941749c76db3",
   "metadata": {},
   "source": [
    "9. Create a program that checks if a given string is a palindrome."
   ]
  },
  {
   "cell_type": "code",
   "execution_count": 36,
   "id": "c0967090-a081-448f-8e09-91b1943d8808",
   "metadata": {},
   "outputs": [
    {
     "name": "stdout",
     "output_type": "stream",
     "text": [
      "string is a palindrome\n"
     ]
    }
   ],
   "source": [
    "my_str = \"rarar\"\n",
    "\n",
    "if my_str == my_str[::-1]:\n",
    "    print(\"string is a palindrome\")\n",
    "else:\n",
    "    print(\"string is a NOT palindrome\")"
   ]
  },
  {
   "cell_type": "markdown",
   "id": "5c4bb0dc-cb11-4bc6-b12d-ee9854c1c2bb",
   "metadata": {},
   "source": [
    "10. Write a Python program to calculate the grade based on a student's score."
   ]
  },
  {
   "cell_type": "code",
   "execution_count": 42,
   "id": "c5710266-f76a-4c5c-a104-c48a0c1966fd",
   "metadata": {},
   "outputs": [
    {
     "name": "stdout",
     "output_type": "stream",
     "text": [
      "grade is : E\n"
     ]
    }
   ],
   "source": [
    "score = 44\n",
    "\n",
    "if score >=90:\n",
    "    print(\"grade is : A+\")\n",
    "elif score >=80:\n",
    "    print(\"grade is : A\")\n",
    "elif score >=70:\n",
    "    print(\"grade is : B\")\n",
    "elif score >=60:\n",
    "    print(\"grade is : C\")\n",
    "elif score >=50:\n",
    "    print(\"grade is : D\")\n",
    "elif score >=40:\n",
    "    print(\"grade is : E\")\n",
    "else:\n",
    "    print(\"grade is : F\")\n",
    "    "
   ]
  },
  {
   "cell_type": "markdown",
   "id": "8deffa4e-31e4-49d6-9d60-f53060deeb5a",
   "metadata": {},
   "source": [
    "## Nested If-Else Statements:"
   ]
  },
  {
   "cell_type": "markdown",
   "id": "2489ac01-2c97-4a72-a698-31023eb9e239",
   "metadata": {},
   "source": [
    "11. Write a program to find the largest among three numbers using nested if-else statements."
   ]
  },
  {
   "cell_type": "code",
   "execution_count": 5,
   "id": "a4a0e709-99dc-4ad8-a724-0a97ea7411e8",
   "metadata": {},
   "outputs": [
    {
     "name": "stdout",
     "output_type": "stream",
     "text": [
      "100 is largest\n"
     ]
    }
   ],
   "source": [
    "a =100\n",
    "b=15\n",
    "c =10\n",
    "\n",
    "if a >=b:\n",
    "    if a>=c:\n",
    "        print(f\"{a} is largest\")\n",
    "    else:\n",
    "        print(f\"{c} is largest\")\n",
    "else:\n",
    "    if b>=c:\n",
    "        print(f\"{b} is largest\")\n",
    "    else:\n",
    "        print(f\"{c} is largest\")"
   ]
  },
  {
   "cell_type": "markdown",
   "id": "19303fba-720a-4e6c-9a09-b3a289ae74c0",
   "metadata": {},
   "source": [
    "12. Implement a program to determine if a triangle is equilateral, isosceles, or scalene."
   ]
  },
  {
   "cell_type": "code",
   "execution_count": 45,
   "id": "da093d82-638a-404d-b0fa-a6cefa60d495",
   "metadata": {},
   "outputs": [
    {
     "name": "stdout",
     "output_type": "stream",
     "text": [
      "triangle is scalene\n"
     ]
    }
   ],
   "source": [
    "x = 5\n",
    "y = 6\n",
    "z = 4\n",
    "\n",
    "if x ==y and x ==z:\n",
    "    print(\"triangle is equilateral\")\n",
    "elif x ==y or y ==z or z ==x:\n",
    "    print(\"triangle is isosceles\")\n",
    "else:\n",
    "    print(\"triangle is scalene\")"
   ]
  },
  {
   "cell_type": "markdown",
   "id": "466444d0-46d2-4914-bfaa-751bc2c9bdeb",
   "metadata": {},
   "source": [
    "13. Develop a program that checks if a year is a leap year and also if it is a century year."
   ]
  },
  {
   "cell_type": "code",
   "execution_count": 12,
   "id": "c40a8d11-afa8-4503-a3ce-02f0d8478809",
   "metadata": {},
   "outputs": [
    {
     "name": "stdout",
     "output_type": "stream",
     "text": [
      "2100 is not a leap year and century year\n"
     ]
    }
   ],
   "source": [
    "year = 2100\n",
    "\n",
    "if year % 4 == 0:\n",
    "    if year % 100 == 0:\n",
    "        if year % 400 == 0:\n",
    "            print(f\"{year} is a leap year and century year\")\n",
    "        else:\n",
    "            print(f\"{year} is not a leap year and century year\")\n",
    "    else:\n",
    "        print(f\"{year} is a leap year not century year\")\n",
    "else:\n",
    "    print(f\"{year} is not a leap year and not century year\")"
   ]
  },
  {
   "cell_type": "markdown",
   "id": "4d8426b6-ff37-49b3-bd80-dd3e3ce5c472",
   "metadata": {},
   "source": [
    "14. Write a Python script to determine if a number is positive, negative, or zero."
   ]
  },
  {
   "cell_type": "code",
   "execution_count": 13,
   "id": "a2acec12-823c-445d-843e-0a3ca07dc95d",
   "metadata": {},
   "outputs": [
    {
     "name": "stdout",
     "output_type": "stream",
     "text": [
      "30 is positive\n"
     ]
    }
   ],
   "source": [
    "num = 30\n",
    "\n",
    "if num ==0:\n",
    "    print(f\"{num} is zero\")\n",
    "elif num > 0:\n",
    "    print(f\"{num} is positive\")\n",
    "else:\n",
    "    print(f\"{num} is positive\")"
   ]
  },
  {
   "cell_type": "markdown",
   "id": "043bfa1b-23ac-4a20-92a3-4ba5677a21fe",
   "metadata": {},
   "source": [
    "15. Create a program to check if a person is a teenager (between 13 and 19 years old)."
   ]
  },
  {
   "cell_type": "code",
   "execution_count": 35,
   "id": "57a2b5f4-1e5d-4dd8-83d3-b3b5785193cc",
   "metadata": {},
   "outputs": [
    {
     "name": "stdout",
     "output_type": "stream",
     "text": [
      "person is teenager\n"
     ]
    }
   ],
   "source": [
    "age = 17\n",
    "\n",
    "if age >=13:\n",
    "    if age <= 19:\n",
    "        print(\"person is teenager\")\n",
    "else:\n",
    "    print(\"person is not teenager\")"
   ]
  },
  {
   "cell_type": "markdown",
   "id": "e6547f45-8f87-4b17-b7b9-fbaeebaa9aab",
   "metadata": {},
   "source": [
    "16. Develop a program that determines the type of angle based on its measure (acute, obtuse, or right)."
   ]
  },
  {
   "cell_type": "code",
   "execution_count": 19,
   "id": "73c74260-3b86-4fd1-b1a7-6c08720e74bb",
   "metadata": {},
   "outputs": [
    {
     "name": "stdout",
     "output_type": "stream",
     "text": [
      "angle is obtuse\n"
     ]
    }
   ],
   "source": [
    "degree = 170\n",
    "\n",
    "if degree < 90:\n",
    "    print(\"angle is acute\")\n",
    "elif degree==90:\n",
    "    print(\"angle is right\")\n",
    "elif degree>90 and degree <180:\n",
    "    print(\"angle is obtuse\")\n",
    "else:\n",
    "    print(\"set the correct angle\")\n",
    "    "
   ]
  },
  {
   "cell_type": "markdown",
   "id": "5dd5d29b-7e77-4345-99cb-64679d3601f3",
   "metadata": {},
   "source": [
    "17. Write a Python program to calculate the roots of a quadratic equation."
   ]
  },
  {
   "cell_type": "code",
   "execution_count": 31,
   "id": "0c6ca51c-a5ca-4e9e-925a-e0e43cfaca06",
   "metadata": {},
   "outputs": [],
   "source": [
    "# let ax2 +bx +c = 0 \n",
    "a =1\n",
    "b=2\n",
    "c=1\n",
    "\n",
    "x1 = (-b + ((b**2 - 4*a*c)**.5 /2*a))\n",
    "x2 = (-b - ((b**2 - 4*a*c)**.5 /2*a))"
   ]
  },
  {
   "cell_type": "code",
   "execution_count": 32,
   "id": "e46715fa-4e1a-4920-bc68-515131035a01",
   "metadata": {},
   "outputs": [
    {
     "data": {
      "text/plain": [
       "(-2.0, -2.0)"
      ]
     },
     "execution_count": 32,
     "metadata": {},
     "output_type": "execute_result"
    }
   ],
   "source": [
    "x1,x2"
   ]
  },
  {
   "cell_type": "markdown",
   "id": "3656dfc9-5eae-42b8-9fb8-869245bc2bc9",
   "metadata": {},
   "source": [
    "18. Implement a program to determine the day of the week based on a user-provided number (1 for Monday, 2\n",
    "for Tuesday, etc.)."
   ]
  },
  {
   "cell_type": "code",
   "execution_count": 37,
   "id": "a00a5e64-ac43-4ff2-90b7-b716f3071b3d",
   "metadata": {},
   "outputs": [
    {
     "name": "stdin",
     "output_type": "stream",
     "text": [
      "enter the number  10\n"
     ]
    },
    {
     "name": "stdout",
     "output_type": "stream",
     "text": [
      "enter valid number from 1 to 7\n"
     ]
    }
   ],
   "source": [
    "n =int(input(\"enter the number \"))\n",
    "\n",
    "if n ==1:\n",
    "    print(\"Monday\")\n",
    "elif n ==2:\n",
    "    print(\"tuesday\")\n",
    "elif n ==3:\n",
    "    print(\"wednesday\")\n",
    "elif n ==4:\n",
    "    print(\"thursday\")\n",
    "elif n ==5:\n",
    "    print(\"friday\")\n",
    "elif n ==6:\n",
    "    print(\"saturday\")\n",
    "elif n ==7:\n",
    "    print(\"sunday\")\n",
    "else:\n",
    "    print(\"enter valid number from 1 to 7\")"
   ]
  },
  {
   "cell_type": "markdown",
   "id": "e18206e7-815d-404f-957a-bba90e9c063a",
   "metadata": {},
   "source": [
    "19. Create a program that determines if a year is a leap year and also if it is evenly divisible by 400."
   ]
  },
  {
   "cell_type": "code",
   "execution_count": 39,
   "id": "5c0cb539-8334-45e6-8876-7135c2df1ee0",
   "metadata": {},
   "outputs": [
    {
     "name": "stdout",
     "output_type": "stream",
     "text": [
      "2000 is a leap year\n"
     ]
    }
   ],
   "source": [
    "year = 2000\n",
    "if year % 4 == 0:\n",
    "    if year % 100 == 0:\n",
    "        if year % 400 == 0:\n",
    "            print(f\"{year} is a leap year\")\n",
    "        else:\n",
    "            print(f\"{year} is not a leap year\")\n",
    "    else:\n",
    "        print(f\"{year} is a leap year\")\n",
    "else:\n",
    "    print(f\"{year} is not a leap year\")"
   ]
  },
  {
   "cell_type": "markdown",
   "id": "6c5ecfb7-4dcb-41c2-b26f-3d25641e455d",
   "metadata": {},
   "source": [
    "20. Develop a program that checks if a given number is prime or not using nested if-else statements."
   ]
  },
  {
   "cell_type": "code",
   "execution_count": 40,
   "id": "5c3118e2-6bc0-4a09-b597-f862506e5686",
   "metadata": {},
   "outputs": [],
   "source": [
    "def is_prime(num):\n",
    "    if num <= 1:\n",
    "        return False\n",
    "    if num <= 3:\n",
    "        return True\n",
    "    if num % 2 == 0 or num % 3 == 0:\n",
    "        return False\n",
    "    i = 5\n",
    "    while i * i <= num:\n",
    "      if num % i == 0 or num % (i + 2) == 0:\n",
    "          return False\n",
    "      i += 6\n",
    "    return True"
   ]
  },
  {
   "cell_type": "code",
   "execution_count": 41,
   "id": "7ca5d0c0-7429-464e-a9fd-f1131265616b",
   "metadata": {},
   "outputs": [
    {
     "data": {
      "text/plain": [
       "False"
      ]
     },
     "execution_count": 41,
     "metadata": {},
     "output_type": "execute_result"
    }
   ],
   "source": [
    "is_prime(25)"
   ]
  },
  {
   "cell_type": "markdown",
   "id": "b5592657-55d8-421b-b2ed-a223ecca73a7",
   "metadata": {},
   "source": [
    "## Elif Statements:"
   ]
  },
  {
   "cell_type": "markdown",
   "id": "8991c1d6-c74a-409d-a399-dae4c165f3fa",
   "metadata": {},
   "source": [
    "21. Write a Python program to assign grades based on different ranges of scores using elif statements."
   ]
  },
  {
   "cell_type": "code",
   "execution_count": 42,
   "id": "de28bca4-1e46-480c-8411-e38d6f9164e2",
   "metadata": {},
   "outputs": [
    {
     "name": "stdout",
     "output_type": "stream",
     "text": [
      "grade is : E\n"
     ]
    }
   ],
   "source": [
    "score = 44\n",
    "\n",
    "if score >=90:\n",
    "    print(\"grade is : A+\")\n",
    "elif score >=80:\n",
    "    print(\"grade is : A\")\n",
    "elif score >=70:\n",
    "    print(\"grade is : B\")\n",
    "elif score >=60:\n",
    "    print(\"grade is : C\")\n",
    "elif score >=50:\n",
    "    print(\"grade is : D\")\n",
    "elif score >=40:\n",
    "    print(\"grade is : E\")\n",
    "else:\n",
    "    print(\"grade is : F\")"
   ]
  },
  {
   "cell_type": "markdown",
   "id": "6bea63a3-1cbf-4aa9-97e6-b7869c0f8b56",
   "metadata": {},
   "source": [
    "22. Implement a program to determine the type of a triangle based on its angles."
   ]
  },
  {
   "cell_type": "code",
   "execution_count": 43,
   "id": "a71c8b36-14b5-4676-ae67-8888505ba935",
   "metadata": {},
   "outputs": [
    {
     "name": "stdout",
     "output_type": "stream",
     "text": [
      "triangle is scalene\n"
     ]
    }
   ],
   "source": [
    "x = 5\n",
    "y = 6\n",
    "z = 4\n",
    "\n",
    "if x ==y and x ==z:\n",
    "    print(\"triangle is equilateral\")\n",
    "elif x ==y or y ==z or z ==x:\n",
    "    print(\"triangle is isosceles\")\n",
    "else:\n",
    "    print(\"triangle is scalene\")"
   ]
  },
  {
   "cell_type": "markdown",
   "id": "bfacdfb0-6810-48cc-9cd8-07607b0e79e6",
   "metadata": {},
   "source": [
    "23. Develop a program to categorize a given person's BMI into underweight, normal, overweight, or obese using\n",
    "elif statements."
   ]
  },
  {
   "cell_type": "code",
   "execution_count": 6,
   "id": "23d4f23d-86fc-4752-9bd5-10b4f31e7c9b",
   "metadata": {},
   "outputs": [
    {
     "name": "stdout",
     "output_type": "stream",
     "text": [
      " Healthy\n"
     ]
    }
   ],
   "source": [
    "# weight in Kg and height in meter\n",
    "wt = 85\n",
    "ht = 1.84\n",
    "\n",
    "BMI = wt / ht**2\n",
    "\n",
    "if BMI <16:\n",
    "    print(\"severely underweight\")\n",
    "elif BMI <18:\n",
    "    print(\" underweight\")\n",
    "elif BMI <25.5:\n",
    "    print(\" Healthy\")\n",
    "elif BMI <30:\n",
    "    print(\" overweight\")\n",
    "else:\n",
    "    print(\" need to check on health\")\n"
   ]
  },
  {
   "cell_type": "markdown",
   "id": "00cccfb1-7ca6-495a-941a-0cf60c0a5585",
   "metadata": {},
   "source": [
    "24. Create a program that determines whether a given number is positive, negative, or zero using elif\n",
    "statements."
   ]
  },
  {
   "cell_type": "code",
   "execution_count": 7,
   "id": "07741d58-420b-4d8c-9938-97adb16bdcef",
   "metadata": {},
   "outputs": [
    {
     "name": "stdin",
     "output_type": "stream",
     "text": [
      "enter a number 0\n"
     ]
    },
    {
     "name": "stdout",
     "output_type": "stream",
     "text": [
      "it is Zero number\n"
     ]
    }
   ],
   "source": [
    "n = input(\"enter a number\")\n",
    "    \n",
    "if int(n) >0:\n",
    "    print(\"it is positive number\")\n",
    "elif int(n) == 0:\n",
    "    print(\"it is Zero number\")\n",
    "else:\n",
    "    print(\"it is negative number\")"
   ]
  },
  {
   "cell_type": "markdown",
   "id": "713e3a32-d027-46e4-8f4a-cfc6531082eb",
   "metadata": {},
   "source": [
    "25. Write a Python script to determine the type of a character (uppercase, lowercase, or special) using elif\n",
    "statements."
   ]
  },
  {
   "cell_type": "code",
   "execution_count": 8,
   "id": "f880e064-c2d9-4cb1-8ee3-45984311a56e",
   "metadata": {},
   "outputs": [
    {
     "name": "stdout",
     "output_type": "stream",
     "text": [
      "it is uppercase\n"
     ]
    }
   ],
   "source": [
    "s = \"A\"\n",
    "\n",
    "if s.isupper():\n",
    "    print(\"it is uppercase\")\n",
    "else:\n",
    "    print(\"it is lowercase\")"
   ]
  },
  {
   "cell_type": "markdown",
   "id": "58f19d42-b6f0-4216-8f2d-7e91ef15fd86",
   "metadata": {},
   "source": [
    "26. Implement a program to calculate the discounted price based on different purchase amounts using elif\n",
    "statements."
   ]
  },
  {
   "cell_type": "code",
   "execution_count": 29,
   "id": "22b2b31c-8b77-47e3-b0ad-e53780e20072",
   "metadata": {},
   "outputs": [
    {
     "name": "stdout",
     "output_type": "stream",
     "text": [
      "price after discount price: 1600.0\n"
     ]
    }
   ],
   "source": [
    "# 3 slabs are defined 1000,1500,2000\n",
    "# min 10% discount, then 15% and then 20% with cap of 500\n",
    "amount = 2000\n",
    "\n",
    "if amount <=1000:\n",
    "    print(\"price after discount price:\",amount*0.9)\n",
    "elif amount <=1500:\n",
    "    print(\"price after discount price:\",amount*0.85)\n",
    "else:\n",
    "    print(\"price after discount price:\",amount-min(amount*0.2,500))"
   ]
  },
  {
   "cell_type": "markdown",
   "id": "6196974e-9dc2-4fee-a4ed-33cfd3fdfa5f",
   "metadata": {},
   "source": [
    "27. Develop a program to calculate the electricity bill based on different consumption slabs using elif\n",
    "statements."
   ]
  },
  {
   "cell_type": "code",
   "execution_count": 32,
   "id": "e3fbfac0-ed83-480d-b4ec-16f1855fc670",
   "metadata": {},
   "outputs": [
    {
     "name": "stdout",
     "output_type": "stream",
     "text": [
      "bill in Rs: 330\n"
     ]
    }
   ],
   "source": [
    "# assuming 100 unit for 1rs\n",
    "# 100-200 unit for 2rs\n",
    "# more than 200 units 3rs fixed\n",
    "\n",
    "unit = 210\n",
    "\n",
    "if unit <=100:\n",
    "    print(\"bill in Rs:\",unit*1)\n",
    "elif unit <=200:\n",
    "    print(\"bill in Rs:\",(unit-100)*2+100*1)\n",
    "else:\n",
    "    print(\"bill in Rs:\",(unit-200)*3+100*1+100*2)"
   ]
  },
  {
   "cell_type": "markdown",
   "id": "68bfc90c-18b4-4f0a-9a4d-8357f8834380",
   "metadata": {},
   "source": [
    "28. Create a program to determine the type of quadrilateral based on its angles and sides using elif\n",
    "statements."
   ]
  },
  {
   "cell_type": "code",
   "execution_count": 1,
   "id": "06cc1b27-1354-49ba-af94-33a4ca9f8f25",
   "metadata": {},
   "outputs": [
    {
     "name": "stdout",
     "output_type": "stream",
     "text": [
      "valid quadrilateral\n"
     ]
    }
   ],
   "source": [
    "# based on angle only, for sides , assuming sides are given or not\n",
    "angle_a = 90\n",
    "angle_b = 90\n",
    "angle_c = 90\n",
    "angle_d = 90\n",
    "ab =5\n",
    "bc =5\n",
    "cd =5\n",
    "da =5\n",
    "\n",
    "if angle_a+angle_b+angle_c+angle_d ==360:\n",
    "    print(\"valid quadrilateral\")\n",
    "else:\n",
    "    print(\"not a valid quadrilateral\")\n"
   ]
  },
  {
   "cell_type": "markdown",
   "id": "3b5df2fb-dd51-4345-9ed8-d42c8f2b0801",
   "metadata": {},
   "source": [
    "29. Write a Python script to determine the season based on a user-provided month using elif statements."
   ]
  },
  {
   "cell_type": "code",
   "execution_count": 33,
   "id": "d2b64e6f-c4cc-4d22-86e4-b6e7c2fd226b",
   "metadata": {},
   "outputs": [
    {
     "name": "stdin",
     "output_type": "stream",
     "text": [
      "input the month from the list: [jan,feb,mar,apr,may,jun,jul,aug,sep,oct,nov,dec] dec\n"
     ]
    },
    {
     "name": "stdout",
     "output_type": "stream",
     "text": [
      "winter season\n"
     ]
    }
   ],
   "source": [
    "month = input(\"input the month from the list: [jan,feb,mar,apr,may,jun,jul,aug,sep,oct,nov,dec]\")\n",
    "\n",
    "if month =='mar' or month =='apr' or month =='may':\n",
    "    print(\"summer season\")\n",
    "elif month == 'jun' or  month =='jul' or  month =='aug':\n",
    "    print(\"monsoon season\")\n",
    "elif month == 'sep' or  month =='oct' or  month =='nov':\n",
    "    print(\"autumn season\")\n",
    "elif month == 'dec' or  month =='jan' or  month =='feb':\n",
    "    print(\"winter season\")\n",
    "else:\n",
    "    print(\"enter in the correct format\")"
   ]
  },
  {
   "cell_type": "markdown",
   "id": "febc795e-88c5-4eda-a08d-a9ff874bc321",
   "metadata": {},
   "source": [
    "30. Implement a program to determine the type of a year (leap or common) and month (30 or 31 days) using\n",
    "elif statements."
   ]
  },
  {
   "cell_type": "code",
   "execution_count": 1,
   "id": "d0859d61-ddb4-419f-9ce2-877741ea72c4",
   "metadata": {},
   "outputs": [],
   "source": [
    "def check_year(year):\n",
    "    \n",
    "    if year % 4 == 0:\n",
    "        if year % 100 == 0:\n",
    "            if year % 400 == 0:\n",
    "                print(f\"{year} is a leap year\")\n",
    "                return True\n",
    "            else:\n",
    "                print(f\"{year} is not a leap year\")\n",
    "                return False\n",
    "        else:\n",
    "            print(f\"{year} is a leap year\")\n",
    "            return True\n",
    "    else:\n",
    "        print(f\"{year} is not a leap year\")\n",
    "        return False"
   ]
  },
  {
   "cell_type": "code",
   "execution_count": 12,
   "id": "6232da36-a287-434d-858f-0cd44e6433a1",
   "metadata": {},
   "outputs": [],
   "source": [
    "def month(m,year):\n",
    "    if m =='jan' or m== 'mar' or m=='may' or m =='jul' or m =='aug' or m =='oct' or m =='dec':\n",
    "        print(\"month have 31 days\")\n",
    "        check_year(year)\n",
    "    elif m =='feb':\n",
    "        if check_year(year):\n",
    "            print(\"have 29 days\")\n",
    "        else:\n",
    "            print(\"have 28 days\")\n",
    "    else:\n",
    "        check_year(year)\n",
    "        print(\"month have 30 days\")"
   ]
  },
  {
   "cell_type": "code",
   "execution_count": 14,
   "id": "06f285db-25e7-4602-89dc-722e3987386f",
   "metadata": {},
   "outputs": [
    {
     "name": "stdout",
     "output_type": "stream",
     "text": [
      "1991 is not a leap year\n",
      "have 28 days\n"
     ]
    }
   ],
   "source": [
    " month('feb',1991)"
   ]
  },
  {
   "cell_type": "markdown",
   "id": "9af94b6f-f399-4ad8-9f48-bdc1c25a828e",
   "metadata": {},
   "source": [
    "# Assignment Questions"
   ]
  },
  {
   "cell_type": "markdown",
   "id": "806a3735-8922-420e-887e-89b1f95b5557",
   "metadata": {},
   "source": [
    "1. Write a Python program that checks if a given number is positive, negative, or zero.\n",
    "    <br> repeated question 14\n",
    "2. Create a program to determine if a person is eligible to vote based on their age.\n",
    "    <br>repeated question 2\n",
    "3. Write a program to find the maximum of two given numbers using conditional statements.\n",
    "    <br> repeated question 3\n",
    "4. Develop a program that calculates the grade of a student based on their exam score.\n",
    "    <br> repeated question 10\n",
    "5. Create a program that checks if a year is a leap year or not.\n",
    "    <br> repeated question 4\n",
    "6. Write a program to classify a triangle based on its sides' lengths.\n",
    "    <br> repeated question 12\n",
    "7. Build a program that determines the largest of three given numbers.\n",
    "    <br> repeated question 11\n",
    "8. Develop a program that checks whether a character is a vowel or a consonant.\n",
    "    <br> repeated question 5\n",
    "9. Create a program to calculate the total cost of a shopping cart based on discounts.\n",
    "    <br> repeated question 26\n",
    "10. Write a program that checks if a given number is even or odd.\n",
    "    <br> repeated question 6"
   ]
  },
  {
   "cell_type": "markdown",
   "id": "50ebf4f8-c6a5-42c4-811c-3a0c6b3f539d",
   "metadata": {},
   "source": [
    "11. Write a program that calculates the roots of a quadratic equation .\n",
    "    <br> repeated question 17\n",
    "12. Create a program that determines the day of the week based on the day number (1-7).\n",
    "    <br> repeated question 18\n",
    "13. Develop a program that calculates the factorial of a given number using recursion.\n",
    "    \n",
    "14. Write a program to find the largest among three numbers without using the `max()` function.\n",
    "    <br> repeated question 11\n",
    "15. Create a program that simulates a basic ATM transaction menu.\n",
    "16. Build a program that checks if a given string is a palindrome or not.\n",
    "    <br> repeated question 11"
   ]
  },
  {
   "cell_type": "markdown",
   "id": "48857c6e-1f80-4922-a4f8-2bd02fb640a6",
   "metadata": {},
   "source": [
    "13. Develop a program that calculates the factorial of a given number using recursion"
   ]
  },
  {
   "cell_type": "code",
   "execution_count": 3,
   "id": "6f6e6ca7-62eb-4c76-b7bd-10374f3df0ac",
   "metadata": {},
   "outputs": [],
   "source": [
    "def fact(n):\n",
    "    if n ==0 or n ==1:\n",
    "        return 1\n",
    "    else:\n",
    "        return n*fact(n-1)\n",
    "    "
   ]
  },
  {
   "cell_type": "code",
   "execution_count": 4,
   "id": "c53519e9-0f20-45bb-a53c-19d6d68ea6f3",
   "metadata": {},
   "outputs": [
    {
     "data": {
      "text/plain": [
       "120"
      ]
     },
     "execution_count": 4,
     "metadata": {},
     "output_type": "execute_result"
    }
   ],
   "source": [
    "fact(5)"
   ]
  },
  {
   "cell_type": "markdown",
   "id": "1131f5db-1949-4b96-815c-b1183bd93c17",
   "metadata": {},
   "source": [
    "15. Create a program that simulates a basic ATM transaction menu."
   ]
  },
  {
   "cell_type": "code",
   "execution_count": 21,
   "id": "e82560e1-68d9-454b-ba28-42cb282b9b40",
   "metadata": {},
   "outputs": [],
   "source": [
    "tot = 50000\n",
    "pin = 1234"
   ]
  },
  {
   "cell_type": "code",
   "execution_count": 17,
   "id": "b81c661a-274f-4208-8c50-bbe7e02e95f2",
   "metadata": {},
   "outputs": [
    {
     "name": "stdin",
     "output_type": "stream",
     "text": [
      "enter pin 123\n"
     ]
    },
    {
     "name": "stdout",
     "output_type": "stream",
     "text": [
      "Welcome to My bank\n",
      "1. view balance\n",
      "2. withdraw cash\n",
      "3. Transfer funds\n",
      "4. quit\n"
     ]
    }
   ],
   "source": [
    "i = input(\"enter pin\")\n",
    "print(\"Welcome to My bank\")\n",
    "print(\"1. view balance\")\n",
    "print(\"2. withdraw cash\")\n",
    "print(\"3. Transfer funds\")\n",
    "print(\"4. quit\")\n",
    "\n",
    "\n",
    "# n = input(\"enter the option\")\n",
    "\n",
    "# if n ==0:\n",
    "#     print(\"account balance is:\")\n",
    "# elif n ==1:\n",
    "    # print()\n"
   ]
  },
  {
   "cell_type": "code",
   "execution_count": 23,
   "id": "4f0790b8-1238-400f-8305-ef3d3b5d006a",
   "metadata": {},
   "outputs": [
    {
     "name": "stdout",
     "output_type": "stream",
     "text": [
      "choose the correct option\n"
     ]
    }
   ],
   "source": [
    "atm(i)"
   ]
  },
  {
   "cell_type": "code",
   "execution_count": 22,
   "id": "130bd934-eb97-4e85-910f-671be047a48e",
   "metadata": {},
   "outputs": [],
   "source": [
    "def atm(key):\n",
    "    tot = 50000\n",
    "    pin = 1234\n",
    "    if key ==pin:\n",
    "        if n ==1:\n",
    "            print(\"account balance is:\",tot)\n",
    "        elif n ==2:\n",
    "            cash = input(\"enter amount\")\n",
    "            if cash <=tot:\n",
    "                print(\"update balance is\",tot-int(cash))\n",
    "                tot= tot-int(cash)\n",
    "            else:\n",
    "                print(\"insufficient amount\")\n",
    "        elif n==3:\n",
    "            print(\"enter account number\")\n",
    "        elif n==4:\n",
    "            print(\"thank you for choosing My Bank\")\n",
    "        else:\n",
    "            print(\"choose the correct option\")\n",
    "    else:\n",
    "        "
   ]
  },
  {
   "cell_type": "markdown",
   "id": "814b16b9-8f0f-43e8-a4a1-14c37c922992",
   "metadata": {},
   "source": [
    "17. Write a program that calculates the average of a list of numbers, excluding the smallest and largest values."
   ]
  },
  {
   "cell_type": "code",
   "execution_count": 6,
   "id": "9b7753e6-2800-4122-ab6c-4f3e29651ea9",
   "metadata": {},
   "outputs": [
    {
     "name": "stdout",
     "output_type": "stream",
     "text": [
      "average of a list of numbers, excluding the smallest and largest values: 4.0\n"
     ]
    }
   ],
   "source": [
    "my_list = [2,3,4,5,6]\n",
    "n = len(my_list) -2\n",
    "avg = (sum(my_list) - min(my_list)-max(my_list))/n\n",
    "\n",
    "print(\"average of a list of numbers, excluding the smallest and largest values:\", avg)\n",
    "\n",
    "# assuming the elements of the list are not repeated"
   ]
  },
  {
   "cell_type": "markdown",
   "id": "c0568f3e-055c-4ecc-afab-0fa261ec517e",
   "metadata": {},
   "source": [
    "18. Develop a program that converts a given temperature from Celsius to Fahrenheit."
   ]
  },
  {
   "cell_type": "code",
   "execution_count": 8,
   "id": "0224bb8f-91b6-4c9f-97b4-2bc506a3c508",
   "metadata": {},
   "outputs": [
    {
     "name": "stdin",
     "output_type": "stream",
     "text": [
      "enter the temperature in celsius 32\n"
     ]
    }
   ],
   "source": [
    "c = int(input(\"enter the temperature in celsius\"))"
   ]
  },
  {
   "cell_type": "code",
   "execution_count": 10,
   "id": "44bf6eee-6f97-4480-b8a4-301f2448db20",
   "metadata": {},
   "outputs": [
    {
     "name": "stdout",
     "output_type": "stream",
     "text": [
      "temperature in Fahrenheit is 89.6 degree Fahrenheit\n"
     ]
    }
   ],
   "source": [
    "f = c *(9/5) +32\n",
    "print(\"temperature in Fahrenheit is \"+str(f) +(\" degree Fahrenheit\"))"
   ]
  },
  {
   "cell_type": "markdown",
   "id": "c121d870-976c-4bd4-84d0-64242545b549",
   "metadata": {},
   "source": [
    "20. Write a program that determines the roots of a cubic equation using the Cardano formula."
   ]
  },
  {
   "cell_type": "code",
   "execution_count": 1,
   "id": "931e6d0d-0a40-4755-91f7-b467d7135045",
   "metadata": {},
   "outputs": [],
   "source": [
    "def solve(a,b,c,d):\n",
    "    Q = (3*a*c - (b**2)) / (9*(a**2))\n",
    "    R = (9*a*b*c - 27*(a**2)*d - 2*(b**3)) / (54*(a**3))\n",
    "    D = (Q**3) + (R**2)\n",
    "    S = (R + (D**(1/2)))**(1/3)\n",
    "    T = (R - (D**(1/2)))**(1/3)\n",
    "\n",
    "    x1 = S + T - (b/(3*a))\n",
    "    x2 = -((S + T)/2) - (b/(3*a)) + 0.5j * (3**(1/2)) * (S - T)\n",
    "    x3 = -((S + T)/2) - (b/(3*a)) - 0.5j * (3**(1/2)) * (S - T)\n",
    "\n",
    "    return (x1,x2,x3)"
   ]
  },
  {
   "cell_type": "code",
   "execution_count": 2,
   "id": "8f9f491f-2edf-474a-9b23-e539d953b8f2",
   "metadata": {},
   "outputs": [
    {
     "data": {
      "text/plain": [
       "(-1.0, (-1+0j), (-1+0j))"
      ]
     },
     "execution_count": 2,
     "metadata": {},
     "output_type": "execute_result"
    }
   ],
   "source": [
    "solve(1,3,3,1)"
   ]
  },
  {
   "cell_type": "markdown",
   "id": "1aefda19-6d2e-4def-b156-c6a13d1e2594",
   "metadata": {},
   "source": [
    "21. Create a program that calculates the income tax based on the user's income and tax brackets."
   ]
  },
  {
   "cell_type": "code",
   "execution_count": 8,
   "id": "800dd6e1-44fd-4964-a17d-0d622c73c863",
   "metadata": {},
   "outputs": [],
   "source": [
    "salary = 800000\n",
    "# assuming 3 tax slab rate, from 2.5 lakh to 5 lakh of 5% and 5-10 lakh at 20% and rest at 10%\n",
    "\n",
    "def tax(amount):\n",
    "    t = 0\n",
    "    if amount <250000:\n",
    "        t= 0\n",
    "    elif amount >=250000 and amount<500000:\n",
    "        t = amount*5/100\n",
    "    elif amount >=500000 and amount<1000000:\n",
    "        t = 500000*5/100+ (amount-500000)*20/100\n",
    "    else:\n",
    "        t = 500000*5/100+ (1000000)*20/100 + (amount-1000000)*30/100\n",
    "    return t"
   ]
  },
  {
   "cell_type": "code",
   "execution_count": 9,
   "id": "7cf3f10c-58b2-4d1d-a4b6-44e76002994e",
   "metadata": {},
   "outputs": [
    {
     "name": "stdout",
     "output_type": "stream",
     "text": [
      "income tax based on salary is: 85000.0\n"
     ]
    }
   ],
   "source": [
    "ans = tax(salary)\n",
    "print(\"income tax based on salary is:\",ans)"
   ]
  },
  {
   "cell_type": "markdown",
   "id": "c6ee53f0-b068-4edf-9ff1-752b91f51e61",
   "metadata": {},
   "source": [
    "22. Write a program that simulates a rock-paper-scissors game against the computer."
   ]
  },
  {
   "cell_type": "code",
   "execution_count": 21,
   "id": "70f0f7c1-233e-40a7-94e9-e7eccd0dbbb9",
   "metadata": {},
   "outputs": [
    {
     "name": "stdin",
     "output_type": "stream",
     "text": [
      "Choose rock, paper, or scissors:  scissors\n"
     ]
    },
    {
     "name": "stdout",
     "output_type": "stream",
     "text": [
      "You chose:  scissors\n",
      "Computer chose:  paper\n",
      "You win!\n"
     ]
    }
   ],
   "source": [
    "import random\n",
    "\n",
    "options = [\"rock\", \"paper\", \"scissors\"]\n",
    "\n",
    "user_choice = input(\"Choose rock, paper, or scissors: \")\n",
    "computer_choice = random.choice(options)\n",
    "\n",
    "print(\"You chose: \", user_choice)\n",
    "print(\"Computer chose: \", computer_choice)\n",
    "\n",
    "if user_choice == computer_choice:\n",
    "    print(\"It's a tie!\")\n",
    "elif user_choice == \"rock\" and computer_choice == \"scissors\":\n",
    "    print(\"You win!\")\n",
    "elif user_choice == \"paper\" and computer_choice == \"rock\":\n",
    "    print(\"You win!\")\n",
    "elif user_choice == \"scissors\" and computer_choice == \"paper\":\n",
    "    print(\"You win!\")\n",
    "else:\n",
    "    print(\"Computer wins!\")\n"
   ]
  },
  {
   "cell_type": "markdown",
   "id": "54667abe-8151-475d-a5f3-1abdd6474265",
   "metadata": {},
   "source": [
    "23. Develop a program that generates a random password based on user preferences (length, complexity)."
   ]
  },
  {
   "cell_type": "code",
   "execution_count": 6,
   "id": "d93e7e3a-14fe-4370-b7dd-3514ee7a3123",
   "metadata": {},
   "outputs": [
    {
     "name": "stdin",
     "output_type": "stream",
     "text": [
      "Enter password length:  10\n"
     ]
    },
    {
     "name": "stdout",
     "output_type": "stream",
     "text": [
      "The random password is 9MXb\\]I{2Q\n"
     ]
    }
   ],
   "source": [
    "import string\n",
    "import random\n",
    "\n",
    "#use of random and string , making a string with different combination and then choosing random character from characterlist\n",
    "\n",
    "length = int(input(\"Enter password length: \"))\n",
    "\n",
    "characterList = string.ascii_letters+string.digits+string.punctuation\n",
    "\n",
    "password = []\n",
    "\n",
    "\n",
    "for i in range(length):\n",
    "\n",
    "\t# Picking a random character from our \n",
    "\t# character list\n",
    "\trandomchar = random.choice(characterList)\n",
    "\t\n",
    "\t# appending a random character to password\n",
    "\tpassword.append(randomchar)\n",
    "\n",
    "# printing password as a string\n",
    "print(\"The random password is \" + \"\".join(password))\n"
   ]
  },
  {
   "cell_type": "markdown",
   "id": "c2d867fc-ed71-431c-a3d2-8825af1c0b75",
   "metadata": {},
   "source": [
    "24. Create a program that implements a simple text-based adventure game with branching scenarios."
   ]
  },
  {
   "cell_type": "code",
   "execution_count": 7,
   "id": "d64f9fe1-091b-4043-8a8c-241b760dc152",
   "metadata": {},
   "outputs": [],
   "source": [
    "rooms = {\n",
    "    'start': {\n",
    "        'description': 'You are in a dark room. There is a door to your north.',\n",
    "        'north': 'room1'\n",
    "    },\n",
    "    'room1': {\n",
    "        'description': 'You are in room 1. There is a door to your east and south.',\n",
    "        'east': 'room2',\n",
    "        'south': 'start'\n",
    "    },\n",
    "    'room2': {\n",
    "        'description': 'You are in room 2. There is a door to your west and south.',\n",
    "        'west': 'room1',\n",
    "        'south': 'room3'\n",
    "    },\n",
    "    'room3': {\n",
    "        'description': 'You are in room 3. You found the treasure! Congratulations!',\n",
    "        'end': True\n",
    "    }\n",
    "}"
   ]
  },
  {
   "cell_type": "code",
   "execution_count": 10,
   "id": "acd91cf1-e4fb-4e08-a454-3f7e8d75b468",
   "metadata": {},
   "outputs": [],
   "source": [
    "def show_room(room):\n",
    "    print(room['description'])\n",
    "\n",
    "    if 'north' in room:\n",
    "        print('There is a door to your north.')\n",
    "    if 'east' in room:\n",
    "        print('There is a door to your east.')\n",
    "    if 'south' in room:\n",
    "        print('There is a door to your south.')\n",
    "    if 'west' in room:\n",
    "        print('There is a door to your west.')"
   ]
  },
  {
   "cell_type": "code",
   "execution_count": 11,
   "id": "2aee0aa6-533b-4888-9633-a8484b9aef9d",
   "metadata": {},
   "outputs": [],
   "source": [
    "def get_action(room):\n",
    "    while True:\n",
    "        action = input('What do you want to do? ').lower().strip()\n",
    "\n",
    "        if action == 'north' and 'north' in room:\n",
    "            return room['north']\n",
    "        elif action == 'east' and 'east' in room:\n",
    "            return room['east']\n",
    "        elif action == 'south' and 'south' in room:\n",
    "            return room['south']\n",
    "        elif action == 'west' and 'west' in room:\n",
    "            return room['west']\n",
    "        else:\n",
    "            print('Invalid action. Try again.')"
   ]
  },
  {
   "cell_type": "code",
   "execution_count": 14,
   "id": "b7ce9869-b339-4ea3-9871-14d81c9698c3",
   "metadata": {},
   "outputs": [
    {
     "name": "stdout",
     "output_type": "stream",
     "text": [
      "You are in a dark room. There is a door to your north.\n",
      "There is a door to your north.\n"
     ]
    },
    {
     "name": "stdin",
     "output_type": "stream",
     "text": [
      "What do you want to do?  north\n"
     ]
    },
    {
     "name": "stdout",
     "output_type": "stream",
     "text": [
      "You are in room 1. There is a door to your east and south.\n",
      "There is a door to your east.\n",
      "There is a door to your south.\n"
     ]
    },
    {
     "name": "stdin",
     "output_type": "stream",
     "text": [
      "What do you want to do?  east\n"
     ]
    },
    {
     "name": "stdout",
     "output_type": "stream",
     "text": [
      "You are in room 2. There is a door to your west and south.\n",
      "There is a door to your south.\n",
      "There is a door to your west.\n"
     ]
    },
    {
     "name": "stdin",
     "output_type": "stream",
     "text": [
      "What do you want to do?  south\n"
     ]
    },
    {
     "name": "stdout",
     "output_type": "stream",
     "text": [
      "You are in room 3. You found the treasure! Congratulations!\n"
     ]
    }
   ],
   "source": [
    "current_room = rooms['start']\n",
    "\n",
    "while 'end' not in current_room:\n",
    "    show_room(current_room)\n",
    "    next_room = get_action(current_room)\n",
    "    current_room = rooms[next_room]\n",
    "\n",
    "print(current_room['description'])"
   ]
  },
  {
   "cell_type": "markdown",
   "id": "6fe8e44c-48db-42e6-b3f9-7872c02f1b39",
   "metadata": {},
   "source": [
    "25. Build a program that solves a linear equation for x, considering different cases."
   ]
  },
  {
   "cell_type": "code",
   "execution_count": 16,
   "id": "6989ffc2-209a-4f9f-b025-73ed80bdbe3a",
   "metadata": {},
   "outputs": [
    {
     "name": "stdout",
     "output_type": "stream",
     "text": [
      "[ 2.20833333 -2.58333333 -0.18333333]\n"
     ]
    }
   ],
   "source": [
    "import numpy as np\n",
    "\n",
    "#using numpy to solve equation\n",
    "\n",
    "A = np.array([[4, 3, -5], \n",
    "              [-2, -4, 5], \n",
    "              [8, 8, 0]])\n",
    "y = np.array([2, 5, -3])\n",
    "\n",
    "x = np.linalg.solve(A, y)\n",
    "print(x)"
   ]
  },
  {
   "cell_type": "markdown",
   "id": "b5b2707e-4313-43a3-b947-8c9dbcd0dfa9",
   "metadata": {},
   "source": [
    "26. Write a program that simulates a basic quiz game with multiple-choice questions and scoring."
   ]
  },
  {
   "cell_type": "code",
   "execution_count": 22,
   "id": "0deceeff-cf83-48d5-8070-32f6cef607fb",
   "metadata": {},
   "outputs": [
    {
     "name": "stdout",
     "output_type": "stream",
     "text": [
      "Wellcome to quiz game !!\n"
     ]
    },
    {
     "name": "stdin",
     "output_type": "stream",
     "text": [
      "\n",
      "1. capital of France? 1.Paris 2.Prague 3.Sydney 4.Berlin 1\n"
     ]
    },
    {
     "name": "stdout",
     "output_type": "stream",
     "text": [
      "correct! you got 1 point\n"
     ]
    },
    {
     "name": "stdin",
     "output_type": "stream",
     "text": [
      "\n",
      "2. capital of Germany? 1.Paris 2.Prague 3.Sydney 4.Berlin 2\n"
     ]
    },
    {
     "name": "stdout",
     "output_type": "stream",
     "text": [
      "Incorrect\n"
     ]
    },
    {
     "name": "stdin",
     "output_type": "stream",
     "text": [
      "\n",
      "3. capital of Australia? 1.Paris 2.Prague 3.Sydney 4.Berlin 3\n"
     ]
    },
    {
     "name": "stdout",
     "output_type": "stream",
     "text": [
      "correct! you got 1 point\n"
     ]
    },
    {
     "name": "stdin",
     "output_type": "stream",
     "text": [
      "\n",
      "4. capital of Czech Republic? 1.Paris 2.Prague 3.Sydney 4.Berlin 4\n"
     ]
    },
    {
     "name": "stdout",
     "output_type": "stream",
     "text": [
      "Incorrect\n",
      "your final score is: 2\n"
     ]
    }
   ],
   "source": [
    "print(\"Wellcome to quiz game !!\")\n",
    "score = 0\n",
    "question_no = 0\n",
    "\n",
    "question_no += 1\n",
    "ques = int(input(f'\\n{question_no}. capital of France? 1.Paris 2.Prague 3.Sydney 4.Berlin'))\n",
    "if ques == 1:\n",
    "    score +=1\n",
    "    print('correct! you got 1 point')\n",
    "else:\n",
    "    print('Incorrect')\n",
    "\n",
    "question_no += 1\n",
    "ques = int(input(f'\\n{question_no}. capital of Germany? 1.Paris 2.Prague 3.Sydney 4.Berlin'))\n",
    "if ques == 4:\n",
    "    score +=1\n",
    "    print('correct! you got 1 point')\n",
    "else:\n",
    "    print('Incorrect')\n",
    "\n",
    "question_no += 1\n",
    "ques = int(input(f'\\n{question_no}. capital of Australia? 1.Paris 2.Prague 3.Sydney 4.Berlin'))\n",
    "if ques == 3:\n",
    "    score +=1\n",
    "    print('correct! you got 1 point')\n",
    "else:\n",
    "    print('Incorrect')\n",
    "\n",
    "question_no += 1\n",
    "ques = int(input(f'\\n{question_no}. capital of Czech Republic? 1.Paris 2.Prague 3.Sydney 4.Berlin'))\n",
    "if ques == 2:\n",
    "    score +=1\n",
    "    print('correct! you got 1 point')\n",
    "else:\n",
    "    print('Incorrect')\n",
    "    \n",
    "print(\"your final score is:\",score)"
   ]
  },
  {
   "cell_type": "markdown",
   "id": "332c7a7b-c60d-4be4-b1be-125d2c07079f",
   "metadata": {},
   "source": [
    "27. Develop a program that determines whether a given year is a prime number or not."
   ]
  },
  {
   "cell_type": "code",
   "execution_count": 23,
   "id": "ae3bfa04-998d-4967-aaad-1fe05f3b1072",
   "metadata": {},
   "outputs": [],
   "source": [
    "def is_prime(num):\n",
    "    if num <= 1:\n",
    "        return False\n",
    "    if num <= 3:\n",
    "        return True\n",
    "    if num % 2 == 0 or num % 3 == 0:\n",
    "        return False\n",
    "    i = 5\n",
    "    while i * i <= num:\n",
    "      # print(i,num)\n",
    "      if num % i == 0 or num % (i + 2) == 0:\n",
    "          return False\n",
    "      i += 6\n",
    "    return True"
   ]
  },
  {
   "cell_type": "code",
   "execution_count": 26,
   "id": "2a4db1dd-3d4e-45a3-864b-9a5f4475bef1",
   "metadata": {},
   "outputs": [
    {
     "data": {
      "text/plain": [
       "True"
      ]
     },
     "execution_count": 26,
     "metadata": {},
     "output_type": "execute_result"
    }
   ],
   "source": [
    "year = 1997\n",
    "is_prime(year)"
   ]
  },
  {
   "cell_type": "markdown",
   "id": "f9f6a280-d6ec-4ae0-8959-b5629eae9e3c",
   "metadata": {},
   "source": [
    "28. Create a program that sorts three numbers in ascending order using conditional statements."
   ]
  },
  {
   "cell_type": "code",
   "execution_count": 32,
   "id": "ab10bf17-57e3-43bd-b22b-5f2242f8d275",
   "metadata": {},
   "outputs": [
    {
     "name": "stdout",
     "output_type": "stream",
     "text": [
      "b<a<c\n"
     ]
    }
   ],
   "source": [
    "a =100\n",
    "b=15\n",
    "c =110\n",
    "\n",
    "if a >=b:\n",
    "    if a>=c:\n",
    "        if b>=c:\n",
    "            print(\"c<b<a\")\n",
    "        else:\n",
    "            print(\"b<c<a\")\n",
    "    else:\n",
    "        print(\"b<a<c\")\n",
    "else:\n",
    "    if b>=c:\n",
    "        if a>=c:\n",
    "            print(\"c>a>b\")\n",
    "        else:\n",
    "            print(\"a>c>b\")\n",
    "    else:\n",
    "        print(\"a<b<c\")"
   ]
  },
  {
   "cell_type": "markdown",
   "id": "acca5564-52fe-4157-b00e-caa3d26aa587",
   "metadata": {},
   "source": [
    "29. Build a program that determines the roots of a quartic equation using numerical methods."
   ]
  },
  {
   "cell_type": "code",
   "execution_count": 2,
   "id": "505a2091-d6bb-4a77-a6df-2e9988667abe",
   "metadata": {},
   "outputs": [
    {
     "name": "stdout",
     "output_type": "stream",
     "text": [
      "-2.0 -2.0\n"
     ]
    }
   ],
   "source": [
    "a =1\n",
    "b=2\n",
    "c=1\n",
    "\n",
    "x1 = (-b + ((b**2 - 4*a*c)**.5 /2*a))\n",
    "x2 = (-b - ((b**2 - 4*a*c)**.5 /2*a))\n",
    "print(x1,x2)"
   ]
  },
  {
   "cell_type": "markdown",
   "id": "917ee3cf-d04b-4c49-9375-17c435417edb",
   "metadata": {},
   "source": [
    "30. Write a program that calculates the BMI (Body Mass Index) and provides health recommendations based\n",
    "on the user's input."
   ]
  },
  {
   "cell_type": "code",
   "execution_count": 33,
   "id": "76dabbd6-a5df-4e55-b4bf-c2498a0b15ca",
   "metadata": {},
   "outputs": [
    {
     "name": "stdout",
     "output_type": "stream",
     "text": [
      " Healthy\n"
     ]
    }
   ],
   "source": [
    "# weight in Kg and height in meter\n",
    "wt = 85\n",
    "ht = 1.84\n",
    "\n",
    "BMI = wt / ht**2\n",
    "\n",
    "if BMI <16:\n",
    "    print(\"severely underweight\")\n",
    "elif BMI <18:\n",
    "    print(\" underweight\")\n",
    "elif BMI <25.5:\n",
    "    print(\" Healthy\")\n",
    "elif BMI <30:\n",
    "    print(\" overweight\")\n",
    "else:\n",
    "    print(\" need to check on health\")\n"
   ]
  },
  {
   "cell_type": "markdown",
   "id": "78a7a758-b3ed-48ec-b49f-e4d458da8302",
   "metadata": {},
   "source": [
    "31. Create a program that validates a password based on complexity rules (length, characters, etc.)."
   ]
  },
  {
   "cell_type": "markdown",
   "id": "f6a12ac3-6f4d-4a10-a7c5-e8e065045c16",
   "metadata": {},
   "source": [
    " same as 23"
   ]
  },
  {
   "cell_type": "markdown",
   "id": "c656744a-45ae-466f-812a-576747b8e652",
   "metadata": {},
   "source": [
    "32. Develop a program that performs matrix addition and subtraction based on user input."
   ]
  },
  {
   "cell_type": "code",
   "execution_count": 1,
   "id": "8b1cb659-e077-469e-a7bb-f5b20fb92e2d",
   "metadata": {},
   "outputs": [],
   "source": [
    "import numpy as np\n",
    "matrix1 = [[1, 2], [3, 4]]\n",
    "matrix2 = [[4, 5], [6, 7]]"
   ]
  },
  {
   "cell_type": "code",
   "execution_count": 7,
   "id": "8faa1d9c-8f02-4cc3-bdb6-0a30963eb740",
   "metadata": {},
   "outputs": [
    {
     "name": "stdout",
     "output_type": "stream",
     "text": [
      "addition of matrix \n",
      " [[ 5  7]\n",
      " [ 9 11]]\n",
      "subtraction of matrix \n",
      " [[-3 -3]\n",
      " [-3 -3]]\n"
     ]
    }
   ],
   "source": [
    "A = np.array(matrix1)\n",
    "B = np.array(matrix2)\n",
    "\n",
    "print(\"addition of matrix \\n\",np.add(A,B))\n",
    "print(\"subtraction of matrix \\n\",np.subtract(A,B))"
   ]
  },
  {
   "cell_type": "markdown",
   "id": "26a9feeb-96ff-4f9a-94aa-ca5f35b7cc38",
   "metadata": {},
   "source": [
    "33. Write a program that calculates the greatest common divisor (GCD) of two numbers using the Euclidean\n",
    "algorithm."
   ]
  },
  {
   "cell_type": "code",
   "execution_count": 8,
   "id": "84574a24-9f38-4354-95ab-63fa26b2c190",
   "metadata": {},
   "outputs": [],
   "source": [
    "def gcd(a, b):\n",
    "    if a == 0:\n",
    "        return b\n",
    " \n",
    "    return gcd(b % a, a)"
   ]
  },
  {
   "cell_type": "code",
   "execution_count": 10,
   "id": "dddb325d-580a-46eb-8720-081e9ec9955c",
   "metadata": {},
   "outputs": [
    {
     "name": "stdout",
     "output_type": "stream",
     "text": [
      "gcd of a and b are:  5\n"
     ]
    }
   ],
   "source": [
    "a = 10\n",
    "b = 15\n",
    "print(\"gcd of a and b are: \",gcd(a,b))"
   ]
  },
  {
   "cell_type": "markdown",
   "id": "cecd930f-f797-4ccd-8344-040c6636431d",
   "metadata": {},
   "source": [
    "34. Build a program that performs matrix multiplication using nested loops and conditional statements."
   ]
  },
  {
   "cell_type": "code",
   "execution_count": 11,
   "id": "67681710-f3b3-45f4-8c1d-f6508137516f",
   "metadata": {},
   "outputs": [],
   "source": [
    "A = [[1,2,3],[5,3,1],[7,9,8]]\n",
    "B = [[3,4],[12,4],[8,14]]\n",
    "\n",
    "a1 = len(A)\n",
    "a2 = len(A[0])"
   ]
  },
  {
   "cell_type": "code",
   "execution_count": 17,
   "id": "c17704ed-9412-4d01-adb8-0fa94d623a55",
   "metadata": {},
   "outputs": [],
   "source": [
    "def mul_mat(A,B):\n",
    "    a1 = len(A)\n",
    "    a2 = len(A[0])\n",
    "    b1 = len(B)\n",
    "    b2 = len(B[0])\n",
    "    #checking dimension of matrix\n",
    "    if a2!=b1:\n",
    "        return \"matrix size are incompatible\"\n",
    "    res = []\n",
    "    \n",
    "    for row in range(a1):\n",
    "       curr_row = []\n",
    "       for col in range(b2):\n",
    "           curr_row.append(0)\n",
    "       res.append(curr_row)\n",
    "\n",
    "    for i in range(a1):\n",
    "        for j in range(b2):\n",
    "            curr_val = 0\n",
    "            for k in range(a2):\n",
    "               curr_val += A[i][k]*B[k][j]\n",
    "            res[i][j] = curr_val\n",
    "        \n",
    "    return res"
   ]
  },
  {
   "cell_type": "code",
   "execution_count": 18,
   "id": "eaf51de4-f758-4e28-bfa8-001540837855",
   "metadata": {},
   "outputs": [
    {
     "data": {
      "text/plain": [
       "[[51, 54], [59, 46], [193, 176]]"
      ]
     },
     "execution_count": 18,
     "metadata": {},
     "output_type": "execute_result"
    }
   ],
   "source": [
    "mul_mat(A,B)"
   ]
  },
  {
   "cell_type": "markdown",
   "id": "ee874c02-52b4-4a8a-ba49-5d16f374c30e",
   "metadata": {},
   "source": [
    "35. Create a program that simulates a basic text-based tic-tac-toe game against the computer."
   ]
  },
  {
   "cell_type": "code",
   "execution_count": 8,
   "id": "43fc5181-5289-47f5-a1e9-15999d3600f0",
   "metadata": {},
   "outputs": [],
   "source": [
    "def print_tic_tac_toe(values):\n",
    "    print(\"\\n\")\n",
    "    print(\"\\t     |     |\")\n",
    "    print(\"\\t  {}  |  {}  |  {}\".format(values[0], values[1], values[2]))\n",
    "    print('\\t_____|_____|_____')\n",
    " \n",
    "    print(\"\\t     |     |\")\n",
    "    print(\"\\t  {}  |  {}  |  {}\".format(values[3], values[4], values[5]))\n",
    "    print('\\t_____|_____|_____')\n",
    " \n",
    "    print(\"\\t     |     |\")\n",
    " \n",
    "    print(\"\\t  {}  |  {}  |  {}\".format(values[6], values[7], values[8]))\n",
    "    print(\"\\t     |     |\")\n",
    "    print(\"\\n\")\n",
    "\n",
    "# print_tic_tac_toe(8)"
   ]
  },
  {
   "cell_type": "code",
   "execution_count": 14,
   "id": "d41bc09b-ae9f-4de4-bf78-132c88a7e10a",
   "metadata": {},
   "outputs": [],
   "source": [
    "def print_scoreboard(score_board):\n",
    "    print(\"\\t--------------------------------\")\n",
    "    print(\"\\t              SCOREBOARD       \")\n",
    "    print(\"\\t--------------------------------\")\n",
    " \n",
    "    players = list(score_board.keys())\n",
    "    print(\"\\t   \", players[0], \"\\t    \", score_board[players[0]])\n",
    "    print(\"\\t   \", players[1], \"\\t    \", score_board[players[1]])\n",
    " \n",
    "    print(\"\\t--------------------------------\\n\")"
   ]
  },
  {
   "cell_type": "code",
   "execution_count": 15,
   "id": "43695e8b-4936-4571-a27e-d0aae980d099",
   "metadata": {},
   "outputs": [],
   "source": [
    "def check_win(player_pos, cur_player):\n",
    " \n",
    "    # All possible winning combinations\n",
    "    soln = [[1, 2, 3], [4, 5, 6], [7, 8, 9], [1, 4, 7], [2, 5, 8], [3, 6, 9], [1, 5, 9], [3, 5, 7]]\n",
    " \n",
    "    # Loop to check if any winning combination is satisfied\n",
    "    for x in soln:\n",
    "        if all(y in player_pos[cur_player] for y in x):\n",
    " \n",
    "            # Return True if any winning combination satisfies\n",
    "            return True\n",
    "    # Return False if no combination is satisfied       \n",
    "    return False   "
   ]
  },
  {
   "cell_type": "code",
   "execution_count": 16,
   "id": "5415c047-f541-4c1d-8b86-f677ee8b2482",
   "metadata": {},
   "outputs": [],
   "source": [
    "def check_draw(player_pos):\n",
    "    if len(player_pos['X']) + len(player_pos['O']) == 9:\n",
    "        return True\n",
    "    return False "
   ]
  },
  {
   "cell_type": "code",
   "execution_count": 7,
   "id": "12850b3f-9487-43b2-a846-a106fd1d1b2d",
   "metadata": {},
   "outputs": [
    {
     "name": "stdout",
     "output_type": "stream",
     "text": [
      "Player 1\n"
     ]
    },
    {
     "name": "stdin",
     "output_type": "stream",
     "text": [
      "Enter the name :  qwe\n"
     ]
    },
    {
     "name": "stdout",
     "output_type": "stream",
     "text": [
      "\n",
      "\n",
      "Player 2\n"
     ]
    },
    {
     "name": "stdin",
     "output_type": "stream",
     "text": [
      "Enter the name :  qwees\n"
     ]
    },
    {
     "name": "stdout",
     "output_type": "stream",
     "text": [
      "\n",
      "\n",
      "\t--------------------------------\n",
      "\t              SCOREBOARD       \n",
      "\t--------------------------------\n",
      "\t    qwe \t     0\n",
      "\t    qwees \t     0\n",
      "\t--------------------------------\n",
      "\n",
      "Turn to choose for qwe\n",
      "Enter 1 for X\n",
      "Enter 2 for O\n",
      "Enter 3 to Quit\n"
     ]
    },
    {
     "name": "stdin",
     "output_type": "stream",
     "text": [
      " 1\n"
     ]
    },
    {
     "name": "stdout",
     "output_type": "stream",
     "text": [
      "\n",
      "\n",
      "\t     |     |\n",
      "\t     |     |   \n",
      "\t_____|_____|_____\n",
      "\t     |     |\n",
      "\t     |     |   \n",
      "\t_____|_____|_____\n",
      "\t     |     |\n",
      "\t     |     |   \n",
      "\t     |     |\n",
      "\n",
      "\n",
      "Player  X  turn. Which box? : "
     ]
    },
    {
     "name": "stdin",
     "output_type": "stream",
     "text": [
      " 2\n"
     ]
    },
    {
     "name": "stdout",
     "output_type": "stream",
     "text": [
      "\n",
      "\n",
      "\t     |     |\n",
      "\t     |  X  |   \n",
      "\t_____|_____|_____\n",
      "\t     |     |\n",
      "\t     |     |   \n",
      "\t_____|_____|_____\n",
      "\t     |     |\n",
      "\t     |     |   \n",
      "\t     |     |\n",
      "\n",
      "\n",
      "Player  O  turn. Which box? : "
     ]
    },
    {
     "name": "stdin",
     "output_type": "stream",
     "text": [
      " 3\n"
     ]
    },
    {
     "name": "stdout",
     "output_type": "stream",
     "text": [
      "\n",
      "\n",
      "\t     |     |\n",
      "\t     |  X  |  O\n",
      "\t_____|_____|_____\n",
      "\t     |     |\n",
      "\t     |     |   \n",
      "\t_____|_____|_____\n",
      "\t     |     |\n",
      "\t     |     |   \n",
      "\t     |     |\n",
      "\n",
      "\n",
      "Player  X  turn. Which box? : "
     ]
    },
    {
     "name": "stdin",
     "output_type": "stream",
     "text": [
      " 2\n"
     ]
    },
    {
     "name": "stdout",
     "output_type": "stream",
     "text": [
      "Place already filled. Try again!!\n",
      "\n",
      "\n",
      "\t     |     |\n",
      "\t     |  X  |  O\n",
      "\t_____|_____|_____\n",
      "\t     |     |\n",
      "\t     |     |   \n",
      "\t_____|_____|_____\n",
      "\t     |     |\n",
      "\t     |     |   \n",
      "\t     |     |\n",
      "\n",
      "\n",
      "Player  X  turn. Which box? : "
     ]
    },
    {
     "name": "stdin",
     "output_type": "stream",
     "text": [
      " 5\n"
     ]
    },
    {
     "name": "stdout",
     "output_type": "stream",
     "text": [
      "\n",
      "\n",
      "\t     |     |\n",
      "\t     |  X  |  O\n",
      "\t_____|_____|_____\n",
      "\t     |     |\n",
      "\t     |  X  |   \n",
      "\t_____|_____|_____\n",
      "\t     |     |\n",
      "\t     |     |   \n",
      "\t     |     |\n",
      "\n",
      "\n",
      "Player  O  turn. Which box? : "
     ]
    },
    {
     "name": "stdin",
     "output_type": "stream",
     "text": [
      " 5\n"
     ]
    },
    {
     "name": "stdout",
     "output_type": "stream",
     "text": [
      "Place already filled. Try again!!\n",
      "\n",
      "\n",
      "\t     |     |\n",
      "\t     |  X  |  O\n",
      "\t_____|_____|_____\n",
      "\t     |     |\n",
      "\t     |  X  |   \n",
      "\t_____|_____|_____\n",
      "\t     |     |\n",
      "\t     |     |   \n",
      "\t     |     |\n",
      "\n",
      "\n",
      "Player  O  turn. Which box? : "
     ]
    },
    {
     "name": "stdin",
     "output_type": "stream",
     "text": [
      " 6\n"
     ]
    },
    {
     "name": "stdout",
     "output_type": "stream",
     "text": [
      "\n",
      "\n",
      "\t     |     |\n",
      "\t     |  X  |  O\n",
      "\t_____|_____|_____\n",
      "\t     |     |\n",
      "\t     |  X  |  O\n",
      "\t_____|_____|_____\n",
      "\t     |     |\n",
      "\t     |     |   \n",
      "\t     |     |\n",
      "\n",
      "\n",
      "Player  X  turn. Which box? : "
     ]
    },
    {
     "name": "stdin",
     "output_type": "stream",
     "text": [
      " 7\n"
     ]
    },
    {
     "name": "stdout",
     "output_type": "stream",
     "text": [
      "\n",
      "\n",
      "\t     |     |\n",
      "\t     |  X  |  O\n",
      "\t_____|_____|_____\n",
      "\t     |     |\n",
      "\t     |  X  |  O\n",
      "\t_____|_____|_____\n",
      "\t     |     |\n",
      "\t  X  |     |   \n",
      "\t     |     |\n",
      "\n",
      "\n",
      "Player  O  turn. Which box? : "
     ]
    },
    {
     "name": "stdin",
     "output_type": "stream",
     "text": [
      " 9\n"
     ]
    },
    {
     "name": "stdout",
     "output_type": "stream",
     "text": [
      "\n",
      "\n",
      "\t     |     |\n",
      "\t     |  X  |  O\n",
      "\t_____|_____|_____\n",
      "\t     |     |\n",
      "\t     |  X  |  O\n",
      "\t_____|_____|_____\n",
      "\t     |     |\n",
      "\t  X  |     |  O\n",
      "\t     |     |\n",
      "\n",
      "\n",
      "Player  O  has won the game!!\n",
      "\n",
      "\n",
      "\t--------------------------------\n",
      "\t              SCOREBOARD       \n",
      "\t--------------------------------\n",
      "\t    qwe \t     0\n",
      "\t    qwees \t     1\n",
      "\t--------------------------------\n",
      "\n",
      "Turn to choose for qwees\n",
      "Enter 1 for X\n",
      "Enter 2 for O\n",
      "Enter 3 to Quit\n"
     ]
    },
    {
     "name": "stdin",
     "output_type": "stream",
     "text": [
      " 3\n"
     ]
    },
    {
     "name": "stdout",
     "output_type": "stream",
     "text": [
      "Final Scores\n",
      "\t--------------------------------\n",
      "\t              SCOREBOARD       \n",
      "\t--------------------------------\n",
      "\t    qwe \t     0\n",
      "\t    qwees \t     1\n",
      "\t--------------------------------\n",
      "\n"
     ]
    }
   ],
   "source": [
    "# Function to print Tic Tac Toe\n",
    "def print_tic_tac_toe(values):\n",
    "    print(\"\\n\")\n",
    "    print(\"\\t     |     |\")\n",
    "    print(\"\\t  {}  |  {}  |  {}\".format(values[0], values[1], values[2]))\n",
    "    print('\\t_____|_____|_____')\n",
    " \n",
    "    print(\"\\t     |     |\")\n",
    "    print(\"\\t  {}  |  {}  |  {}\".format(values[3], values[4], values[5]))\n",
    "    print('\\t_____|_____|_____')\n",
    " \n",
    "    print(\"\\t     |     |\")\n",
    " \n",
    "    print(\"\\t  {}  |  {}  |  {}\".format(values[6], values[7], values[8]))\n",
    "    print(\"\\t     |     |\")\n",
    "    print(\"\\n\")\n",
    " \n",
    " \n",
    "# Function to print the score-board\n",
    "def print_scoreboard(score_board):\n",
    "    print(\"\\t--------------------------------\")\n",
    "    print(\"\\t              SCOREBOARD       \")\n",
    "    print(\"\\t--------------------------------\")\n",
    " \n",
    "    players = list(score_board.keys())\n",
    "    print(\"\\t   \", players[0], \"\\t    \", score_board[players[0]])\n",
    "    print(\"\\t   \", players[1], \"\\t    \", score_board[players[1]])\n",
    " \n",
    "    print(\"\\t--------------------------------\\n\")\n",
    " \n",
    "# Function to check if any player has won\n",
    "def check_win(player_pos, cur_player):\n",
    " \n",
    "    # All possible winning combinations\n",
    "    soln = [[1, 2, 3], [4, 5, 6], [7, 8, 9], [1, 4, 7], [2, 5, 8], [3, 6, 9], [1, 5, 9], [3, 5, 7]]\n",
    " \n",
    "    # Loop to check if any winning combination is satisfied\n",
    "    for x in soln:\n",
    "        if all(y in player_pos[cur_player] for y in x):\n",
    " \n",
    "            # Return True if any winning combination satisfies\n",
    "            return True\n",
    "    # Return False if no combination is satisfied       \n",
    "    return False       \n",
    " \n",
    "# Function to check if the game is drawn\n",
    "def check_draw(player_pos):\n",
    "    if len(player_pos['X']) + len(player_pos['O']) == 9:\n",
    "        return True\n",
    "    return False       \n",
    " \n",
    "# Function for a single game of Tic Tac Toe\n",
    "def single_game(cur_player):\n",
    " \n",
    "    # Represents the Tic Tac Toe\n",
    "    values = [' ' for x in range(9)]\n",
    "     \n",
    "    # Stores the positions occupied by X and O\n",
    "    player_pos = {'X':[], 'O':[]}\n",
    "     \n",
    "    # Game Loop for a single game of Tic Tac Toe\n",
    "    while True:\n",
    "        print_tic_tac_toe(values)\n",
    "         \n",
    "        # Try exception block for MOVE input\n",
    "        try:\n",
    "            print(\"Player \", cur_player, \" turn. Which box? : \", end=\"\")\n",
    "            move = int(input()) \n",
    "        except ValueError:\n",
    "            print(\"Wrong Input!!! Try Again\")\n",
    "            continue\n",
    " \n",
    "        # Sanity check for MOVE inout\n",
    "        if move < 1 or move > 9:\n",
    "            print(\"Wrong Input!!! Try Again\")\n",
    "            continue\n",
    " \n",
    "        # Check if the box is not occupied already\n",
    "        if values[move-1] != ' ':\n",
    "            print(\"Place already filled. Try again!!\")\n",
    "            continue\n",
    " \n",
    "        # Update game information\n",
    " \n",
    "        # Updating grid status \n",
    "        values[move-1] = cur_player\n",
    " \n",
    "        # Updating player positions\n",
    "        player_pos[cur_player].append(move)\n",
    " \n",
    "        # Function call for checking win\n",
    "        if check_win(player_pos, cur_player):\n",
    "            print_tic_tac_toe(values)\n",
    "            print(\"Player \", cur_player, \" has won the game!!\")     \n",
    "            print(\"\\n\")\n",
    "            return cur_player\n",
    " \n",
    "        # Function call for checking draw game\n",
    "        if check_draw(player_pos):\n",
    "            print_tic_tac_toe(values)\n",
    "            print(\"Game Drawn\")\n",
    "            print(\"\\n\")\n",
    "            return 'D'\n",
    " \n",
    "        # Switch player moves\n",
    "        if cur_player == 'X':\n",
    "            cur_player = 'O'\n",
    "        else:\n",
    "            cur_player = 'X'\n",
    " \n",
    "if __name__ == \"__main__\":\n",
    " \n",
    "    print(\"Player 1\")\n",
    "    player1 = input(\"Enter the name : \")\n",
    "    print(\"\\n\")\n",
    " \n",
    "    print(\"Player 2\")\n",
    "    player2 = input(\"Enter the name : \")\n",
    "    print(\"\\n\")\n",
    "     \n",
    "    # Stores the player who chooses X and O\n",
    "    cur_player = player1\n",
    " \n",
    "    # Stores the choice of players\n",
    "    player_choice = {'X' : \"\", 'O' : \"\"}\n",
    " \n",
    "    # Stores the options\n",
    "    options = ['X', 'O']\n",
    " \n",
    "    # Stores the scoreboard\n",
    "    score_board = {player1: 0, player2: 0}\n",
    "    print_scoreboard(score_board)\n",
    " \n",
    "    # Game Loop for a series of Tic Tac Toe\n",
    "    # The loop runs until the players quit \n",
    "    while True:\n",
    " \n",
    "        # Player choice Menu\n",
    "        print(\"Turn to choose for\", cur_player)\n",
    "        print(\"Enter 1 for X\")\n",
    "        print(\"Enter 2 for O\")\n",
    "        print(\"Enter 3 to Quit\")\n",
    " \n",
    "        # Try exception for CHOICE input\n",
    "        try:\n",
    "            choice = int(input())   \n",
    "        except ValueError:\n",
    "            print(\"Wrong Input!!! Try Again\\n\")\n",
    "            continue\n",
    " \n",
    "        # Conditions for player choice  \n",
    "        if choice == 1:\n",
    "            player_choice['X'] = cur_player\n",
    "            if cur_player == player1:\n",
    "                player_choice['O'] = player2\n",
    "            else:\n",
    "                player_choice['O'] = player1\n",
    " \n",
    "        elif choice == 2:\n",
    "            player_choice['O'] = cur_player\n",
    "            if cur_player == player1:\n",
    "                player_choice['X'] = player2\n",
    "            else:\n",
    "                player_choice['X'] = player1\n",
    "         \n",
    "        elif choice == 3:\n",
    "            print(\"Final Scores\")\n",
    "            print_scoreboard(score_board)\n",
    "            break  \n",
    " \n",
    "        else:\n",
    "            print(\"Wrong Choice!!!! Try Again\\n\")\n",
    " \n",
    "        # Stores the winner in a single game of Tic Tac Toe\n",
    "        winner = single_game(options[choice-1])\n",
    "         \n",
    "        # Edits the scoreboard according to the winner\n",
    "        if winner != 'D' :\n",
    "            player_won = player_choice[winner]\n",
    "            score_board[player_won] = score_board[player_won] + 1\n",
    " \n",
    "        print_scoreboard(score_board)\n",
    "        # Switch player who chooses X or O\n",
    "        if cur_player == player1:\n",
    "            cur_player = player2\n",
    "        else:\n",
    "            cur_player = player1"
   ]
  },
  {
   "cell_type": "markdown",
   "id": "6c29c9a9-2ae3-4f49-9f94-267e9dc8e5b2",
   "metadata": {},
   "source": [
    "36. Write a program that generates Fibonacci numbers up to a specified term using iterative methods."
   ]
  },
  {
   "cell_type": "code",
   "execution_count": 3,
   "id": "40c77207-54b4-4406-8aba-1567daa3cb06",
   "metadata": {},
   "outputs": [],
   "source": [
    "def fibonacci(n):\n",
    "    a,b = 0,1\n",
    "    for i in range(n):\n",
    "        a,b = b,a+b\n",
    "    return a\n",
    "\n"
   ]
  },
  {
   "cell_type": "code",
   "execution_count": 4,
   "id": "c22e645c-06ad-439f-9eb4-16a62669590f",
   "metadata": {},
   "outputs": [
    {
     "name": "stdout",
     "output_type": "stream",
     "text": [
      "8\n"
     ]
    }
   ],
   "source": [
    "print(fibonacci(6))"
   ]
  },
  {
   "cell_type": "markdown",
   "id": "6c576691-e3cc-4cc2-bbf6-eaa3fd521dc4",
   "metadata": {},
   "source": [
    "37. Develop a program that calculates the nth term of the Fibonacci sequence using memoization."
   ]
  },
  {
   "cell_type": "code",
   "execution_count": 3,
   "id": "f70da0e9-7541-4175-b020-f7cb204b48c9",
   "metadata": {},
   "outputs": [],
   "source": [
    "def fib (n):\n",
    "    if n<=1 :\n",
    "        return n\n",
    "    else:\n",
    "        return fib(n-1)+fib(n-2)"
   ]
  },
  {
   "cell_type": "code",
   "execution_count": 5,
   "id": "030dbe57-bd7c-46cc-84fe-61a2e2c1eee4",
   "metadata": {},
   "outputs": [
    {
     "data": {
      "text/plain": [
       "13"
      ]
     },
     "execution_count": 5,
     "metadata": {},
     "output_type": "execute_result"
    }
   ],
   "source": [
    "fib(7)"
   ]
  },
  {
   "cell_type": "markdown",
   "id": "5ecf98e4-1f4e-4d07-8453-98ddf7161998",
   "metadata": {},
   "source": [
    "38. Create a program that generates a calendar for a given month and year using conditional statements."
   ]
  },
  {
   "cell_type": "code",
   "execution_count": 6,
   "id": "a333411f-ea3f-4cc1-93f2-4ccd0642c40b",
   "metadata": {},
   "outputs": [
    {
     "name": "stdout",
     "output_type": "stream",
     "text": [
      "      May 2014\n",
      "Mo Tu We Th Fr Sa Su\n",
      "          1  2  3  4\n",
      " 5  6  7  8  9 10 11\n",
      "12 13 14 15 16 17 18\n",
      "19 20 21 22 23 24 25\n",
      "26 27 28 29 30 31\n",
      "\n"
     ]
    }
   ],
   "source": [
    "import calendar\n",
    "\n",
    "yy =2014\n",
    "mm=5\n",
    "\n",
    "print(calendar.month(yy, mm))"
   ]
  },
  {
   "cell_type": "markdown",
   "id": "2a0047d7-9d7f-43c9-9f7a-aa5aa0e2d9f3",
   "metadata": {},
   "source": [
    "39. Build a program that simulates a basic text-based blackjack game against the computer."
   ]
  },
  {
   "cell_type": "code",
   "execution_count": 10,
   "id": "4820222e-539b-4db6-b092-451a900a4d47",
   "metadata": {},
   "outputs": [
    {
     "name": "stdout",
     "output_type": "stream",
     "text": [
      "Cards Player Has: [('8', 'Clubs'), ('King', 'Hearts')]\n",
      "Score Of The Player: 18\n",
      "\n",
      "\n"
     ]
    },
    {
     "name": "stdin",
     "output_type": "stream",
     "text": [
      "What do you want? [\"play\" to request another card, \"stop\" to stop]:  play\n"
     ]
    },
    {
     "name": "stdout",
     "output_type": "stream",
     "text": [
      "Cards Player Has: [('8', 'Clubs'), ('King', 'Hearts'), ('2', 'Diamonds')]\n",
      "Score Of The Player: 20\n",
      "\n",
      "\n"
     ]
    },
    {
     "name": "stdin",
     "output_type": "stream",
     "text": [
      "What do you want? [\"play\" to request another card, \"stop\" to stop]:  stop\n"
     ]
    },
    {
     "name": "stdout",
     "output_type": "stream",
     "text": [
      "Cards Dealer Has: [('4', 'Spades'), ('5', 'Spades'), ('9', 'Clubs')]\n",
      "Score Of The Dealer: 18\n",
      "\n",
      "\n",
      "Cards Dealer Has: [('4', 'Spades'), ('5', 'Spades'), ('9', 'Clubs')]\n",
      "Score Of The Dealer: 18\n",
      "Cards Player Has: [('8', 'Clubs'), ('King', 'Hearts'), ('2', 'Diamonds')]\n",
      "Score Of The Player: 20\n",
      "Player wins (Player Has High Score than Dealer)\n"
     ]
    }
   ],
   "source": [
    "import random \n",
    "\n",
    "card_categories = ['Hearts', 'Diamonds', 'Clubs', 'Spades'] \n",
    "cards_list = ['Ace', '2', '3', '4', '5', '6', '7', '8', '9', '10', 'Jack', 'Queen', 'King'] \n",
    "deck = [(card, category) for category in card_categories for card in cards_list] \n",
    "\n",
    "def card_value(card): \n",
    "\tif card[0] in ['Jack', 'Queen', 'King']: \n",
    "\t\treturn 10\n",
    "\telif card[0] == 'Ace': \n",
    "\t\treturn 11\n",
    "\telse: \n",
    "\t\treturn int(card[0]) \n",
    "\n",
    "random.shuffle(deck) \n",
    "player_card = [deck.pop(), deck.pop()] \n",
    "dealer_card = [deck.pop(), deck.pop()] \n",
    "\n",
    "while True: \n",
    "\tplayer_score = sum(card_value(card) for card in player_card) \n",
    "\tdealer_score = sum(card_value(card) for card in dealer_card) \n",
    "\tprint(\"Cards Player Has:\", player_card) \n",
    "\tprint(\"Score Of The Player:\", player_score) \n",
    "\tprint(\"\\n\") \n",
    "\tchoice = input('What do you want? [\"play\" to request another card, \"stop\" to stop]: ').lower() \n",
    "\tif choice == \"play\": \n",
    "\t\tnew_card = deck.pop() \n",
    "\t\tplayer_card.append(new_card) \n",
    "\telif choice == \"stop\": \n",
    "\t\tbreak\n",
    "\telse: \n",
    "\t\tprint(\"Invalid choice. Please try again.\") \n",
    "\t\tcontinue\n",
    "\n",
    "\tif player_score > 21: \n",
    "\t\tprint(\"Cards Dealer Has:\", dealer_card) \n",
    "\t\tprint(\"Score Of The Dealer:\", dealer_score) \n",
    "\t\tprint(\"Cards Player Has:\", player_card) \n",
    "\t\tprint(\"Score Of The Player:\", player_score) \n",
    "\t\tprint(\"Dealer wins (Player Loss Because Player Score is exceeding 21)\") \n",
    "\t\tbreak\n",
    "\n",
    "while dealer_score < 17: \n",
    "\tnew_card = deck.pop() \n",
    "\tdealer_card.append(new_card) \n",
    "\tdealer_score += card_value(new_card) \n",
    "\n",
    "print(\"Cards Dealer Has:\", dealer_card) \n",
    "print(\"Score Of The Dealer:\", dealer_score) \n",
    "print(\"\\n\") \n",
    "\n",
    "if dealer_score > 21: \n",
    "\tprint(\"Cards Dealer Has:\", dealer_card) \n",
    "\tprint(\"Score Of The Dealer:\", dealer_score) \n",
    "\tprint(\"Cards Player Has:\", player_card) \n",
    "\tprint(\"Score Of The Player:\", player_score) \n",
    "\tprint(\"Player wins (Dealer Loss Because Dealer Score is exceeding 21)\") \n",
    "elif player_score > dealer_score: \n",
    "\tprint(\"Cards Dealer Has:\", dealer_card) \n",
    "\tprint(\"Score Of The Dealer:\", dealer_score) \n",
    "\tprint(\"Cards Player Has:\", player_card) \n",
    "\tprint(\"Score Of The Player:\", player_score) \n",
    "\tprint(\"Player wins (Player Has High Score than Dealer)\") \n",
    "elif dealer_score > player_score: \n",
    "\tprint(\"Cards Dealer Has:\", dealer_card) \n",
    "\tprint(\"Score Of The Dealer:\", dealer_score) \n",
    "\tprint(\"Cards Player Has:\", player_card) \n",
    "\tprint(\"Score Of The Player:\", player_score) \n",
    "\tprint(\"Dealer wins (Dealer Has High Score than Player)\") \n",
    "else: \n",
    "\tprint(\"Cards Dealer Has:\", dealer_card) \n",
    "\tprint(\"Score Of The Dealer:\", dealer_score) \n",
    "\tprint(\"Cards Player Has:\", player_card) \n",
    "\tprint(\"Score Of The Player:\", player_score) \n",
    "\tprint(\"It's a tie.\")\n"
   ]
  },
  {
   "cell_type": "markdown",
   "id": "1f5cc138-7e72-46ab-91f0-c2b4abf79435",
   "metadata": {},
   "source": [
    "40. Write a program that generates the prime factors of a given number using trial division."
   ]
  },
  {
   "cell_type": "code",
   "execution_count": 13,
   "id": "17989ef0-e8d5-4b65-a26b-f7fa6b2883a1",
   "metadata": {},
   "outputs": [
    {
     "name": "stdout",
     "output_type": "stream",
     "text": [
      "Prime\n"
     ]
    }
   ],
   "source": [
    "\n",
    "def TrialDivision(N):\n",
    "\ti = 2\n",
    "\tk = int(N ** 0.5)\n",
    "\n",
    "\n",
    "\twhile(i<= k):\n",
    "\t\tif(N % i == 0):\n",
    "\t\t\treturn 0\n",
    "\t\ti += 1\n",
    "\treturn 1\n",
    "\t\n",
    "\n",
    "if __name__ == \"__main__\":\n",
    "\tN = 53\n",
    "\tp = TrialDivision(N)\n",
    "\n",
    "\tif(p):\n",
    "\t\tprint(\"Prime\")\n",
    "\telse:\n",
    "\t\tprint(\"Composite\")\n",
    "\t\t\n"
   ]
  },
  {
   "cell_type": "code",
   "execution_count": null,
   "id": "a0d963f8-5a12-425f-a9a6-725119fc7c52",
   "metadata": {},
   "outputs": [],
   "source": []
  }
 ],
 "metadata": {
  "kernelspec": {
   "display_name": "Python 3 (ipykernel)",
   "language": "python",
   "name": "python3"
  },
  "language_info": {
   "codemirror_mode": {
    "name": "ipython",
    "version": 3
   },
   "file_extension": ".py",
   "mimetype": "text/x-python",
   "name": "python",
   "nbconvert_exporter": "python",
   "pygments_lexer": "ipython3",
   "version": "3.10.8"
  }
 },
 "nbformat": 4,
 "nbformat_minor": 5
}

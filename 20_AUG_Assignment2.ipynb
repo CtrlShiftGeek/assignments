{
 "cells": [
  {
   "cell_type": "markdown",
   "id": "c7970663-2b27-4275-9e8f-f751c0264c62",
   "metadata": {},
   "source": [
    "# ASSIGNMENT 2"
   ]
  },
  {
   "cell_type": "markdown",
   "id": "63179420-1ee5-411e-86fc-fa41d502ebf2",
   "metadata": {},
   "source": [
    "1. Write a program to reverse a string."
   ]
  },
  {
   "cell_type": "code",
   "execution_count": 1,
   "id": "69015832-eb51-430c-b35f-db04fd401932",
   "metadata": {},
   "outputs": [],
   "source": [
    "s1 = \"pwskills\""
   ]
  },
  {
   "cell_type": "code",
   "execution_count": 2,
   "id": "449001cd-83be-425a-aed0-a946e7dd39e0",
   "metadata": {},
   "outputs": [
    {
     "name": "stdout",
     "output_type": "stream",
     "text": [
      "sllikswp\n"
     ]
    }
   ],
   "source": [
    "print(s1[::-1])"
   ]
  },
  {
   "cell_type": "markdown",
   "id": "a9bacce0-c2df-4aef-a593-9b2064d7a482",
   "metadata": {},
   "source": [
    "2. Check if a string is a palindrome."
   ]
  },
  {
   "cell_type": "code",
   "execution_count": 4,
   "id": "5ad05265-72c4-40f9-81a8-b2f863fbae40",
   "metadata": {},
   "outputs": [],
   "source": [
    "def check_pal(s):\n",
    "    s = s.lower()\n",
    "    s = s.replace(\" \")\n",
    "    if s ==s[::-1]:\n",
    "        return True\n",
    "    else:\n",
    "        return False"
   ]
  },
  {
   "cell_type": "code",
   "execution_count": 7,
   "id": "dbce13de-96f4-4924-a722-3c75e1b97ca9",
   "metadata": {},
   "outputs": [
    {
     "name": "stdin",
     "output_type": "stream",
     "text": [
      "enter the string 1ama1\n"
     ]
    },
    {
     "data": {
      "text/plain": [
       "True"
      ]
     },
     "execution_count": 7,
     "metadata": {},
     "output_type": "execute_result"
    }
   ],
   "source": [
    "# not taking consideration if there is cleaning of string is required , simply checking the input string\n",
    "p = input(\"enter the string\")\n",
    "check_pal(p)"
   ]
  },
  {
   "cell_type": "markdown",
   "id": "28635035-8c6e-4955-b701-5cce6b3dcc3f",
   "metadata": {},
   "source": [
    "3. Convert a string to uppercase."
   ]
  },
  {
   "cell_type": "code",
   "execution_count": 9,
   "id": "27c829e0-1683-4be2-83fc-219192ba9265",
   "metadata": {},
   "outputs": [
    {
     "name": "stdin",
     "output_type": "stream",
     "text": [
      "enter a string: WhAt\n"
     ]
    },
    {
     "name": "stdout",
     "output_type": "stream",
     "text": [
      "WHAT\n"
     ]
    }
   ],
   "source": [
    "s3 = input(\"enter a string:\")\n",
    "print(s3.upper())"
   ]
  },
  {
   "cell_type": "markdown",
   "id": "7a522ab3-7440-45d3-b62c-2b44af5c36dc",
   "metadata": {},
   "source": [
    "4. Convert a string to lowercase."
   ]
  },
  {
   "cell_type": "code",
   "execution_count": 12,
   "id": "01d3e0e3-2344-4b2c-9986-47a95e55e45a",
   "metadata": {},
   "outputs": [
    {
     "name": "stdin",
     "output_type": "stream",
     "text": [
      "enter a string: asdASD213\n"
     ]
    },
    {
     "name": "stdout",
     "output_type": "stream",
     "text": [
      "asdasd213\n"
     ]
    }
   ],
   "source": [
    "s4 = input(\"enter a string:\")\n",
    "print(s4.lower())"
   ]
  },
  {
   "cell_type": "markdown",
   "id": "63d4dcdc-6044-411c-ac17-3528675f4217",
   "metadata": {},
   "source": [
    "5. Count the number of vowels in a string."
   ]
  },
  {
   "cell_type": "code",
   "execution_count": 22,
   "id": "b8824033-fd85-479a-a425-ca3114f4c715",
   "metadata": {},
   "outputs": [],
   "source": [
    "def count_vowel(s):\n",
    "    s = s.lower()\n",
    "    v = \"aeiou\"\n",
    "    d ={}\n",
    "    count = 0\n",
    "    for val in s:\n",
    "        if val in v:\n",
    "            if val in d:\n",
    "                d[val]+=1\n",
    "            else:\n",
    "                d[val] =1\n",
    "            count+=1\n",
    "    return (\"total vowel {} and values are {}\".format(count,d))\n",
    "\n",
    "# made the function with empty dictionary and string (aeiou)\n",
    "#checking the value in input string and conver tinto lower and storing in the dictionary and returning the total count and dictionary"
   ]
  },
  {
   "cell_type": "code",
   "execution_count": 21,
   "id": "6634e052-2aa0-42da-bc29-a3d3e751d04c",
   "metadata": {},
   "outputs": [
    {
     "name": "stdin",
     "output_type": "stream",
     "text": [
      "enter a string: Hello World \n"
     ]
    },
    {
     "data": {
      "text/plain": [
       "\"total vowel 3 and values are {'e': 1, 'o': 2}\""
      ]
     },
     "execution_count": 21,
     "metadata": {},
     "output_type": "execute_result"
    }
   ],
   "source": [
    "s5 = input(\"enter a string:\")\n",
    "count_vowel(s5)"
   ]
  },
  {
   "cell_type": "markdown",
   "id": "b7519841-85f2-4565-b912-1e0b27d7c11e",
   "metadata": {},
   "source": [
    "6. Count the number of consonants in a string."
   ]
  },
  {
   "cell_type": "code",
   "execution_count": 7,
   "id": "9e54598f-1bad-4bde-80c8-d7f057e1b0ff",
   "metadata": {},
   "outputs": [],
   "source": [
    "def count_conso(s):\n",
    "    s=s.lower()\n",
    "    v = \"bcdfghijklmnpqrstwxyz\"\n",
    "    count = 0\n",
    "    for val in s:\n",
    "        if val in v:\n",
    "            count +=1\n",
    "    return (\"total counts of consonant {}\".format(count))"
   ]
  },
  {
   "cell_type": "code",
   "execution_count": 8,
   "id": "747aaa50-41f3-4cf1-b6fc-1267cc2fbd4f",
   "metadata": {},
   "outputs": [
    {
     "name": "stdin",
     "output_type": "stream",
     "text": [
      "enter the string:  Hello Workd\n"
     ]
    },
    {
     "data": {
      "text/plain": [
       "'total counts of consonant 7'"
      ]
     },
     "execution_count": 8,
     "metadata": {},
     "output_type": "execute_result"
    }
   ],
   "source": [
    "s6 = input(\"enter the string: \")\n",
    "count_conso(s6)"
   ]
  },
  {
   "cell_type": "markdown",
   "id": "979086f1-5ffa-47b9-8100-1b8a7e8367b4",
   "metadata": {},
   "source": [
    "7. Remove all whitespaces from a string."
   ]
  },
  {
   "cell_type": "code",
   "execution_count": 10,
   "id": "9f66051f-e4ec-4143-95a3-4b1605b597d8",
   "metadata": {},
   "outputs": [
    {
     "name": "stdin",
     "output_type": "stream",
     "text": [
      "enter the string:  pw skills !! \n"
     ]
    },
    {
     "name": "stdout",
     "output_type": "stream",
     "text": [
      "pwskills!!\n"
     ]
    }
   ],
   "source": [
    "s7 = input(\"enter the string: \")\n",
    "print(s7.replace(\" \",\"\"))\n",
    "#used the replace function to replace spaces with the non spaces"
   ]
  },
  {
   "cell_type": "markdown",
   "id": "c1671085-fc5f-40af-b8f0-809779a9ca1e",
   "metadata": {},
   "source": [
    "8. Find the length of a string without using the `len()` function."
   ]
  },
  {
   "cell_type": "code",
   "execution_count": 12,
   "id": "3e105795-0ba5-412d-ae98-ca7741245fcd",
   "metadata": {},
   "outputs": [
    {
     "data": {
      "text/plain": [
       "'length of string is 16'"
      ]
     },
     "execution_count": 12,
     "metadata": {},
     "output_type": "execute_result"
    }
   ],
   "source": [
    "s8 = \"length of string\"\n",
    "def length_string(s):\n",
    "    count = 0\n",
    "    for val in s:\n",
    "        count+=1\n",
    "    return (\"length of string is {}\".format(count))\n",
    "\n",
    "length_string(s8)"
   ]
  },
  {
   "cell_type": "markdown",
   "id": "2e9c4864-c3fe-49f8-9e0e-0e79aa545cd3",
   "metadata": {},
   "source": [
    "9. Check if a string contains a specific word."
   ]
  },
  {
   "cell_type": "code",
   "execution_count": 16,
   "id": "09096e59-62a6-4e57-884d-802e988f8a30",
   "metadata": {},
   "outputs": [
    {
     "name": "stdin",
     "output_type": "stream",
     "text": [
      "enter the string:  in\n",
      "enter the specific word:  into the world\n"
     ]
    },
    {
     "name": "stdout",
     "output_type": "stream",
     "text": [
      " 'into the world' is NOT there in 'in' \n"
     ]
    }
   ],
   "source": [
    "s9 = input(\"enter the string: \")\n",
    "specific_word = input(\"enter the specific word: \")\n",
    "s9 = s9.lower()\n",
    "specific_word =specific_word.lower()\n",
    "\n",
    "if specific_word in s9:\n",
    "    print(\" '{}' is there in '{}' \".format(specific_word,s9))\n",
    "else:\n",
    "    print(\" '{}' is NOT there in '{}' \".format(specific_word,s9))"
   ]
  },
  {
   "cell_type": "markdown",
   "id": "7e8ebe2d-af3f-4be4-9194-184ff29622d6",
   "metadata": {},
   "source": [
    "10. Replace a word in a string with another word."
   ]
  },
  {
   "cell_type": "code",
   "execution_count": 21,
   "id": "8ea73393-443d-4be4-a715-fa13382c5fe2",
   "metadata": {},
   "outputs": [
    {
     "name": "stdin",
     "output_type": "stream",
     "text": [
      "enter the string:  hello world\n",
      "enter the old word:  hello\n",
      "enter the new word:  good\n"
     ]
    },
    {
     "name": "stdout",
     "output_type": "stream",
     "text": [
      "good world\n"
     ]
    }
   ],
   "source": [
    "s10 = input(\"enter the string: \")\n",
    "old = input(\"enter the old word: \")\n",
    "new = input(\"enter the new word: \")\n",
    "\n",
    "result = s10.replace(old,new)\n",
    "print(result)"
   ]
  },
  {
   "cell_type": "markdown",
   "id": "fe01bdb6-0a48-4609-9adc-6100f5b58fcb",
   "metadata": {},
   "source": [
    "11. Count the occurrences of a word in a string."
   ]
  },
  {
   "cell_type": "code",
   "execution_count": 26,
   "id": "9aac4031-fdc6-4c92-95e2-76f8f8163570",
   "metadata": {},
   "outputs": [
    {
     "name": "stdin",
     "output_type": "stream",
     "text": [
      "enter the string:  hello world world world\n",
      "enter the word :  WORLD\n"
     ]
    },
    {
     "name": "stdout",
     "output_type": "stream",
     "text": [
      "'WORLD' word is 3 times in sentence\n"
     ]
    }
   ],
   "source": [
    "s11 = input(\"enter the string: \")\n",
    "target_word = input(\"enter the word : \")\n",
    "\n",
    "count = 0\n",
    "temp = s11.split()\n",
    "\n",
    "for val in temp:\n",
    "    if val.lower() == target_word.lower():\n",
    "        count +=1\n",
    "        \n",
    "print(\"'{}' word is {} times in sentence\".format(target_word,count))\n",
    "\n",
    "# input the string and target word\n",
    "# split and stored in list\n",
    "# check the lower case of target word and the word in list\n",
    "# printing the value and name of target word"
   ]
  },
  {
   "cell_type": "markdown",
   "id": "ddbcd5fd-d0d5-4dab-83ba-6dcef6c737ae",
   "metadata": {},
   "source": [
    "12. Find the first occurrence of a word in a string."
   ]
  },
  {
   "cell_type": "code",
   "execution_count": 5,
   "id": "64dd5b37-80eb-42f6-b0d8-20beff769ffa",
   "metadata": {},
   "outputs": [],
   "source": [
    "def first_occurance(text,word):\n",
    "    pointer = -1\n",
    "    temp = text.split()\n",
    "    for i in range(len(temp)):\n",
    "        if temp[i].lower() == word.lower():\n",
    "            pointer = i\n",
    "            return pointer\n",
    "            break\n",
    "    return None\n",
    "# define a function having 2 input , text and target word\n",
    "# using pointer as -1 and store the text in list\n",
    "# iterating through 0 to length of list using i\n",
    "# checking the value of list to that of target word and storing it in pointer and returning"
   ]
  },
  {
   "cell_type": "code",
   "execution_count": 4,
   "id": "fa219705-8a73-49a1-a30b-2de2f8aceef2",
   "metadata": {},
   "outputs": [
    {
     "name": "stdout",
     "output_type": "stream",
     "text": [
      "the index of first occurance is 1\n"
     ]
    }
   ],
   "source": [
    "text = \"Find the first occurrence of a word in a string. First occurance\"\n",
    "word = \"is\"\n",
    "first_occurance(text,word)\n",
    "# if first_occurance(text,word) == -1:\n",
    "print(\"the index of first occurance is {}\".format(first_occurance(text,word)) )"
   ]
  },
  {
   "cell_type": "markdown",
   "id": "4563c56e-2501-4dbe-a7cb-42caa6e2a5bc",
   "metadata": {},
   "source": [
    "13. Find the last occurrence of a word in a string."
   ]
  },
  {
   "cell_type": "code",
   "execution_count": 12,
   "id": "28326ab2-6abd-494c-9e26-8d6c791a9951",
   "metadata": {},
   "outputs": [],
   "source": [
    "def last_occurance(text,word):\n",
    "    pointer = -1\n",
    "    temp = text.split()\n",
    "    n = len(temp)\n",
    "    for i in range(n):\n",
    "        if temp[n-i-1].lower() == word.lower():\n",
    "            pointer = n-i\n",
    "            return pointer\n",
    "            break\n",
    "    return None\n",
    "\n",
    "# did the similar thing, iterating the index from back to front n-i-1 to 0"
   ]
  },
  {
   "cell_type": "code",
   "execution_count": 17,
   "id": "8335883e-0bdd-4216-988d-0d3c986b6213",
   "metadata": {},
   "outputs": [
    {
     "name": "stdout",
     "output_type": "stream",
     "text": [
      "the index of last occurance is 11\n"
     ]
    }
   ],
   "source": [
    "text = \"Find the last occurrence of a word in a string. last occurance\"\n",
    "word = \"last\"\n",
    "last_occurance(text,word)\n",
    "# if first_occurance(text,word) == -1:\n",
    "print(\"the index of last occurance is {}\".format(last_occurance(text,word)) )"
   ]
  },
  {
   "cell_type": "markdown",
   "id": "5b04d045-377f-45d9-b778-7d4fabe037e4",
   "metadata": {},
   "source": [
    "14. Split a string into a list of words."
   ]
  },
  {
   "cell_type": "code",
   "execution_count": 20,
   "id": "afaf7afc-90da-4364-bad0-0a490162f23a",
   "metadata": {},
   "outputs": [
    {
     "name": "stdout",
     "output_type": "stream",
     "text": [
      "['input', 'of', 'a', 'string']\n"
     ]
    }
   ],
   "source": [
    "s14 = \"input of a string \"\n",
    "l =s14.split()\n",
    "print(l)"
   ]
  },
  {
   "cell_type": "markdown",
   "id": "4fee444d-97fd-4b75-9463-651cba82e8e2",
   "metadata": {},
   "source": [
    "15. Join a list of words into a string."
   ]
  },
  {
   "cell_type": "code",
   "execution_count": 23,
   "id": "6a4681bd-7fea-40c5-81cd-f3012c8828c5",
   "metadata": {},
   "outputs": [
    {
     "name": "stdout",
     "output_type": "stream",
     "text": [
      "joined string of words:  input of a string\n"
     ]
    }
   ],
   "source": [
    "# used the l of questing 14 , split the string into list and used the same list\n",
    "s15 =  ' '.join(l)\n",
    "print(\"joined string of words: \",s15)"
   ]
  },
  {
   "cell_type": "markdown",
   "id": "b1b6e976-d873-4713-900f-0f5bf690408a",
   "metadata": {},
   "source": [
    "16. Convert a string where words are separated by spaces to one where words\n",
    "are separated by underscores."
   ]
  },
  {
   "cell_type": "code",
   "execution_count": 24,
   "id": "7c21672a-9682-42c2-8602-01b278a243b7",
   "metadata": {},
   "outputs": [
    {
     "name": "stdout",
     "output_type": "stream",
     "text": [
      "Convert_a_string_where_words_are_separated_by_spaces\n"
     ]
    }
   ],
   "source": [
    "s16 = \"Convert a string where words are separated by spaces\"\n",
    "res = s16.replace(\" \",\"_\")\n",
    "print(res)"
   ]
  },
  {
   "cell_type": "markdown",
   "id": "2bd92f05-5238-4c3b-985d-8287669c99ba",
   "metadata": {},
   "source": [
    "17. Check if a string starts with a specific word or phrase."
   ]
  },
  {
   "cell_type": "code",
   "execution_count": 4,
   "id": "d98a8e47-27bf-4f44-9dd3-f155f8cea766",
   "metadata": {},
   "outputs": [
    {
     "name": "stdout",
     "output_type": "stream",
     "text": [
      "string starts with: Hello\n"
     ]
    }
   ],
   "source": [
    "#Not changing the upper and lower case of string\n",
    "#use of prebuilt function\n",
    "s17 = \"Hello world\"\n",
    "start = \"Hello\"\n",
    "\n",
    "if s17.startswith(start):\n",
    "    print(\"string starts with: \"+start)\n",
    "else:\n",
    "    print(\"string DOES NOT starts with: \"+start)"
   ]
  },
  {
   "cell_type": "markdown",
   "id": "f1892558-a4f5-447d-b4eb-bf704897292a",
   "metadata": {},
   "source": [
    "18. Check if a string ends with a specific word or phrase."
   ]
  },
  {
   "cell_type": "code",
   "execution_count": 6,
   "id": "52ba48be-8630-4ee2-82cc-378c7eeca3a6",
   "metadata": {},
   "outputs": [
    {
     "name": "stdout",
     "output_type": "stream",
     "text": [
      "string ends with: world\n"
     ]
    }
   ],
   "source": [
    "#Not changing the upper and lower case of string\n",
    "#use of prebuilt function\n",
    "s18 = \"Hello world\"\n",
    "start = \"world\"\n",
    "\n",
    "if s17.endswith(start):\n",
    "    print(\"string ends with: \"+start)\n",
    "else:\n",
    "    print(\"string DOES NOT ends with: \"+start)"
   ]
  },
  {
   "cell_type": "markdown",
   "id": "f585633e-3fa7-4be1-84e1-ec808796cdeb",
   "metadata": {},
   "source": [
    "19. Convert a string to title case (e.g., \"hello world\" to \"Hello World\")."
   ]
  },
  {
   "cell_type": "code",
   "execution_count": 7,
   "id": "d6bf4624-cc30-4299-ac2a-d539285e75ef",
   "metadata": {},
   "outputs": [
    {
     "name": "stdout",
     "output_type": "stream",
     "text": [
      "Hello World\n"
     ]
    }
   ],
   "source": [
    "s19 = \"hello world\"\n",
    "print(s19.title())"
   ]
  },
  {
   "cell_type": "markdown",
   "id": "e00bdcde-251d-4839-947f-e82849aae254",
   "metadata": {},
   "source": [
    "20. Find the longest word in a string."
   ]
  },
  {
   "cell_type": "code",
   "execution_count": 2,
   "id": "ba76d7bf-5229-4e55-ad6c-49cf7f53463b",
   "metadata": {},
   "outputs": [
    {
     "name": "stdout",
     "output_type": "stream",
     "text": [
      "the word is sentence with length 8\n"
     ]
    }
   ],
   "source": [
    "def longest_word(s):\n",
    "    text = s.split()\n",
    "    longest_word = \"\"\n",
    "    size = 0\n",
    "    for val in text:\n",
    "        if len(val)>size:\n",
    "            size = len(val)\n",
    "            longest_word = val\n",
    "            \n",
    "    print(\"the word is {} with length {}\".format(longest_word,size))\n",
    "\n",
    "s20 = \"this is the example sentence\"\n",
    "longest_word(s20)"
   ]
  },
  {
   "cell_type": "markdown",
   "id": "72358f71-4695-483e-b079-35026310230a",
   "metadata": {},
   "source": [
    "21. Find the shortest word in a string."
   ]
  },
  {
   "cell_type": "code",
   "execution_count": 7,
   "id": "dacb43b5-bf74-4cff-b705-757027ddca7e",
   "metadata": {},
   "outputs": [
    {
     "name": "stdout",
     "output_type": "stream",
     "text": [
      "the word is 'is' with length 2\n"
     ]
    }
   ],
   "source": [
    "def shortest_word(s):\n",
    "    text = s.split()\n",
    "    shortest_word = \"\"\n",
    "    size = float('inf')\n",
    "    for val in text:\n",
    "        if len(val)<size:\n",
    "            size = len(val)\n",
    "            shortest_word = val\n",
    "            \n",
    "    print(\"the word is '{}' with length {}\".format(shortest_word,size))\n",
    "\n",
    "s21 = \"this is the example sentence\"\n",
    "shortest_word(s21)"
   ]
  },
  {
   "cell_type": "markdown",
   "id": "064e9ce4-f3b4-4279-ab53-6395ea5655a4",
   "metadata": {},
   "source": [
    "22. Reverse the order of words in a string."
   ]
  },
  {
   "cell_type": "code",
   "execution_count": 12,
   "id": "dda48a3c-8a30-4cab-bae6-b106cdc634f7",
   "metadata": {},
   "outputs": [
    {
     "data": {
      "text/plain": [
       "'string a in words of order the Reverse'"
      ]
     },
     "execution_count": 12,
     "metadata": {},
     "output_type": "execute_result"
    }
   ],
   "source": [
    "def rev_order(s):\n",
    "    text = s.split()\n",
    "    temp = text[::-1]\n",
    "    return ' '.join(temp)\n",
    "\n",
    "s22 = \"Reverse the order of words in a string\"\n",
    "rev_order(s22)\n",
    "\n",
    "# by order i understand the appearances of the word, reversing the order by spliting into list \n",
    "# storing in temporary list with reverse order and the joining it back"
   ]
  },
  {
   "cell_type": "markdown",
   "id": "7a6f84b9-bb55-4221-b156-515b5b627700",
   "metadata": {},
   "source": [
    "23. Check if a string is alphanumeric."
   ]
  },
  {
   "cell_type": "code",
   "execution_count": 2,
   "id": "3b6c7446-d1da-4a1c-89dc-68bdb472bebe",
   "metadata": {},
   "outputs": [
    {
     "name": "stdout",
     "output_type": "stream",
     "text": [
      "The string is alphanumeric.\n"
     ]
    }
   ],
   "source": [
    "s23 = \"hello123\"\n",
    "if s23.isalnum():\n",
    "    print(\"The string is alphanumeric.\")\n",
    "else:\n",
    "    print(\"The string is not alphanumeric.\")"
   ]
  },
  {
   "cell_type": "markdown",
   "id": "f673da8d-016a-4309-8fff-63acd70b3394",
   "metadata": {},
   "source": [
    "24. Extract all digits from a string."
   ]
  },
  {
   "cell_type": "code",
   "execution_count": 9,
   "id": "8422de2e-bf73-46d9-b5ca-b16198a10c33",
   "metadata": {},
   "outputs": [
    {
     "name": "stdout",
     "output_type": "stream",
     "text": [
      "extracted digits are: 123345\n"
     ]
    }
   ],
   "source": [
    "def extract_digit(s):\n",
    "    result = \"\"\n",
    "    for val in s:\n",
    "        if val.isdigit():\n",
    "            result+=val\n",
    "    return result\n",
    "\n",
    "s24 = \"Testing123 what is 345 ?\"\n",
    "ans = extract_digit(s24)\n",
    "print(\"extracted digits are: {}\".format(ans))"
   ]
  },
  {
   "cell_type": "markdown",
   "id": "01989049-6618-476d-ab04-ebfb80f33a25",
   "metadata": {},
   "source": [
    "25. Extract all alphabets from a string."
   ]
  },
  {
   "cell_type": "code",
   "execution_count": 12,
   "id": "58036d81-fccb-4e34-a42d-afbb559ea35a",
   "metadata": {},
   "outputs": [
    {
     "name": "stdout",
     "output_type": "stream",
     "text": [
      "extracted alphabets are: Testingwhatis\n"
     ]
    }
   ],
   "source": [
    "def extract_alp(s):\n",
    "    result = \"\"\n",
    "    for val in s:\n",
    "        if val.isalpha():\n",
    "            result+=val\n",
    "    return result\n",
    "\n",
    "s25 = \"Testing123 what is 345 ?\"\n",
    "ans = extract_alp(s25)\n",
    "print(\"extracted alphabets are: {}\".format(ans))"
   ]
  },
  {
   "cell_type": "markdown",
   "id": "48b37e05-5771-4641-bb66-3d532db15b9b",
   "metadata": {},
   "source": [
    "26. Count the number of uppercase letters in a string."
   ]
  },
  {
   "cell_type": "code",
   "execution_count": 15,
   "id": "0a31b350-79d7-43e1-a15a-6b8849eaca08",
   "metadata": {},
   "outputs": [
    {
     "data": {
      "text/plain": [
       "5"
      ]
     },
     "execution_count": 15,
     "metadata": {},
     "output_type": "execute_result"
    }
   ],
   "source": [
    "def count_uppercase(s):\n",
    "    res = 0\n",
    "    for val in s:\n",
    "        if val.isupper():\n",
    "            res+=1\n",
    "    return res\n",
    "\n",
    "s26 =\"heLLOworLD\"\n",
    "count_uppercase(s26)"
   ]
  },
  {
   "cell_type": "markdown",
   "id": "76279015-06eb-4d39-8f47-13a73b1877ad",
   "metadata": {},
   "source": [
    "27. Count the number of lowercase letters in a string."
   ]
  },
  {
   "cell_type": "code",
   "execution_count": 21,
   "id": "5952d020-6b5b-4347-b7fd-348f56312a76",
   "metadata": {},
   "outputs": [
    {
     "data": {
      "text/plain": [
       "8"
      ]
     },
     "execution_count": 21,
     "metadata": {},
     "output_type": "execute_result"
    }
   ],
   "source": [
    "def count_lowercase(s):\n",
    "    res = 0\n",
    "    for val in s:\n",
    "        if val.islower():\n",
    "            res+=1\n",
    "    return res\n",
    "\n",
    "s26 =\"heLLOworLDasd\"\n",
    "count_lowercase(s26)"
   ]
  },
  {
   "cell_type": "markdown",
   "id": "ae0a324b-2315-4976-92ef-fa5ff42e3b43",
   "metadata": {},
   "source": [
    "28. Swap the case of each character in a string."
   ]
  },
  {
   "cell_type": "code",
   "execution_count": 23,
   "id": "43286444-9554-43e2-9ca9-b6f6ae21d2ce",
   "metadata": {},
   "outputs": [
    {
     "name": "stdout",
     "output_type": "stream",
     "text": [
      "HELLOworld\n"
     ]
    }
   ],
   "source": [
    "s28 = \"helloWORLD\"\n",
    "print(s28.swapcase())"
   ]
  },
  {
   "cell_type": "markdown",
   "id": "5d866d05-4b79-45c3-99f9-b6ffd824d5de",
   "metadata": {},
   "source": [
    "29. Remove a specific word from a string."
   ]
  },
  {
   "cell_type": "code",
   "execution_count": 31,
   "id": "1bc93d03-ab9b-455d-b7cd-a379c97e95bf",
   "metadata": {},
   "outputs": [],
   "source": [
    "def remove_word(s,word):\n",
    "    text = s.split()\n",
    "    result = \"\"\n",
    "    for val in text:\n",
    "        if val !=word:\n",
    "            result += (val+' ')\n",
    "    return result\n",
    "\n",
    "# split the string into list and iterating from the list and adding to the result"
   ]
  },
  {
   "cell_type": "code",
   "execution_count": 32,
   "id": "73f08db6-febf-4f03-a878-a4fa91ffee31",
   "metadata": {},
   "outputs": [
    {
     "data": {
      "text/plain": [
       "'Remove a word from a string. '"
      ]
     },
     "execution_count": 32,
     "metadata": {},
     "output_type": "execute_result"
    }
   ],
   "source": [
    "s29 = \"Remove a specific word from a string.\"\n",
    "target = \"specific\"\n",
    "remove_word(s29,target)"
   ]
  },
  {
   "cell_type": "markdown",
   "id": "dd8925d8-764f-49a4-893a-90ac51a90bd0",
   "metadata": {},
   "source": [
    "30. Check if a string is a valid email address."
   ]
  },
  {
   "cell_type": "code",
   "execution_count": 33,
   "id": "f0193299-7294-488e-8d96-223ffb6f6904",
   "metadata": {},
   "outputs": [],
   "source": [
    "import re\n",
    "\n",
    "def is_valid_email(email):\n",
    "    pattern = r'^[\\w\\.-]+@[\\w\\.-]+\\.\\w+$'\n",
    "    if re.match(pattern, email):\n",
    "        return True\n",
    "    else:\n",
    "        return False"
   ]
  },
  {
   "cell_type": "code",
   "execution_count": 34,
   "id": "6dd6cc8a-2326-4f84-b72b-22ff04c3a373",
   "metadata": {},
   "outputs": [
    {
     "name": "stdout",
     "output_type": "stream",
     "text": [
      "True\n",
      "False\n"
     ]
    }
   ],
   "source": [
    "email1 = \"hello@gmail.com\"\n",
    "email2 = \"invalid-email\"\n",
    "print(is_valid_email(email1))\n",
    "print(is_valid_email(email2))"
   ]
  },
  {
   "cell_type": "markdown",
   "id": "abbad1f2-d2e1-4b41-9c14-e0427d8b76d8",
   "metadata": {},
   "source": [
    "31. Extract the username from an email address string."
   ]
  },
  {
   "cell_type": "code",
   "execution_count": 37,
   "id": "78dbac3a-aa5d-4a33-a981-01d0354afcad",
   "metadata": {},
   "outputs": [
    {
     "name": "stdout",
     "output_type": "stream",
     "text": [
      "username is 'hello'\n"
     ]
    }
   ],
   "source": [
    "# assuming username is before @ in email\n",
    "\n",
    "def username(s):\n",
    "    text = s.split('@')\n",
    "    return text[0]\n",
    "\n",
    "s31= \"hello@gmail.com\"\n",
    "res = username(s31)\n",
    "print(\"username is '{}'\".format(res))"
   ]
  },
  {
   "cell_type": "markdown",
   "id": "981d0654-2116-471d-b439-18ca5f1f26d3",
   "metadata": {},
   "source": [
    "32. Extract the domain name from an email address string."
   ]
  },
  {
   "cell_type": "code",
   "execution_count": 39,
   "id": "ff165cf1-d83c-456d-8bcb-6ee08d6ddd8e",
   "metadata": {},
   "outputs": [
    {
     "name": "stdout",
     "output_type": "stream",
     "text": [
      "domain name is 'gmail.com'\n"
     ]
    }
   ],
   "source": [
    "# assuming domain name in form of after @ , abc.com\n",
    "def domain(s):\n",
    "    text = s.split('@')\n",
    "    return text[1]\n",
    "\n",
    "s32= \"hello@gmail.com\"\n",
    "res = domain(s32)\n",
    "print(\"domain name is '{}'\".format(res))"
   ]
  },
  {
   "cell_type": "markdown",
   "id": "bd828d78-0223-4a24-b020-812a82428600",
   "metadata": {},
   "source": [
    "33. Replace multiple spaces in a string with a single space."
   ]
  },
  {
   "cell_type": "code",
   "execution_count": 41,
   "id": "9e6b6f47-af49-4ada-a28d-de270b9d0481",
   "metadata": {},
   "outputs": [
    {
     "data": {
      "text/plain": [
       "'hello world how are you ?'"
      ]
     },
     "execution_count": 41,
     "metadata": {},
     "output_type": "execute_result"
    }
   ],
   "source": [
    "def multi_space(s):\n",
    "    text = s.split()\n",
    "    res = ' '.join(text)\n",
    "    return res\n",
    "\n",
    "s33 = \"hello   world     how are  you ?\"\n",
    "multi_space(s33)"
   ]
  },
  {
   "cell_type": "markdown",
   "id": "1aba0589-eafb-4db1-a998-6746d0a1bb23",
   "metadata": {},
   "source": [
    "34. Check if a string is a valid URL."
   ]
  },
  {
   "cell_type": "code",
   "execution_count": 42,
   "id": "ef1248ab-aeaa-4036-8de3-191411bc03ea",
   "metadata": {},
   "outputs": [],
   "source": [
    "# use of url parse , taken help from internet\n",
    "\n",
    "from urllib.parse import urlparse\n",
    "\n",
    "def valid_url(url):\n",
    "        result = urlparse(url)\n",
    "        return all([result.scheme, result.netloc])"
   ]
  },
  {
   "cell_type": "code",
   "execution_count": 44,
   "id": "b527a924-1ccc-4bc6-873e-03c691d65f80",
   "metadata": {},
   "outputs": [
    {
     "name": "stdout",
     "output_type": "stream",
     "text": [
      "True\n",
      "False\n"
     ]
    }
   ],
   "source": [
    "url1 = \"https://www.example.com\"\n",
    "url2 = \"invalid-url\"\n",
    "result1 = valid_url(url1)\n",
    "result2 = valid_url(url2)\n",
    "print(result1)\n",
    "print(result2)"
   ]
  },
  {
   "cell_type": "markdown",
   "id": "53259f3c-6fd6-4202-a23f-952d5cf14cbb",
   "metadata": {},
   "source": [
    "35. Extract the protocol (http or https) from a URL string."
   ]
  },
  {
   "cell_type": "code",
   "execution_count": 3,
   "id": "8ac70f5a-27a9-43f4-9fbe-283715a74ec8",
   "metadata": {},
   "outputs": [],
   "source": [
    "# split the url with :// and took the 1st part of the split\n",
    "def extract_protocol(url):\n",
    "    text= url.split(\"://\")\n",
    "    return text[0]\n",
    "\n",
    "url1 = \"https://www.google.com\"\n",
    "url2 = \"http://google.com\"\n",
    "url3 = \"tcp://tcp.example.com\"\n",
    "res1 = extract_protocol(url1)\n",
    "res2 = extract_protocol(url2)\n",
    "res3 = extract_protocol(url3)"
   ]
  },
  {
   "cell_type": "code",
   "execution_count": 2,
   "id": "66b3a9ee-1192-4af8-839e-009d3b004f23",
   "metadata": {},
   "outputs": [
    {
     "name": "stdout",
     "output_type": "stream",
     "text": [
      "https\n",
      "http\n",
      "tcp\n"
     ]
    }
   ],
   "source": [
    "print(res1)\n",
    "print(res2)\n",
    "print(res3)"
   ]
  },
  {
   "cell_type": "markdown",
   "id": "b9e7db9c-368d-45f4-9c6f-dc92a2eb3c66",
   "metadata": {},
   "source": [
    "36. Find the frequency of each character in a string."
   ]
  },
  {
   "cell_type": "code",
   "execution_count": 4,
   "id": "fea66964-65cb-41bb-85f1-c4fc04c94c51",
   "metadata": {},
   "outputs": [],
   "source": [
    "def freq(s):\n",
    "    d = {}\n",
    "    for val in s:\n",
    "        if val in d:\n",
    "            d[val]+=1\n",
    "        else:\n",
    "            d[val] =1\n",
    "    return d\n"
   ]
  },
  {
   "cell_type": "code",
   "execution_count": 8,
   "id": "f37495b5-a966-4686-8066-1351469dd8d5",
   "metadata": {},
   "outputs": [
    {
     "name": "stdout",
     "output_type": "stream",
     "text": [
      "frequency of character {'h': 2, 'e': 2, 'l': 3, 'o': 2, ' ': 3, 'w': 1, 'r': 2, 'd': 2, 'a': 2, 'n': 1, 't': 1}\n"
     ]
    }
   ],
   "source": [
    "s36 = \"hello world and earth\"\n",
    "print(\"frequency of character {}\".format(freq(s36)))"
   ]
  },
  {
   "cell_type": "markdown",
   "id": "1c0ffe29-2447-453d-9552-e08f9ed248fc",
   "metadata": {},
   "source": [
    "37. Remove all punctuation from a string."
   ]
  },
  {
   "cell_type": "code",
   "execution_count": 9,
   "id": "74ed0863-57c7-4c20-b3df-cd756320826f",
   "metadata": {},
   "outputs": [],
   "source": [
    "s37 = \" hello! how are you ? ,what is the name ??\""
   ]
  },
  {
   "cell_type": "code",
   "execution_count": 11,
   "id": "53542139-b48d-4b0a-be04-3c75091d8075",
   "metadata": {},
   "outputs": [
    {
     "name": "stdout",
     "output_type": "stream",
     "text": [
      " hello how are you  what is the name \n"
     ]
    }
   ],
   "source": [
    "import string\n",
    "\n",
    "translator = str.maketrans(\"\", \"\", string.punctuation)\n",
    "result = s37.translate(translator)\n",
    "print(result)\n"
   ]
  },
  {
   "cell_type": "markdown",
   "id": "ab6d23d4-2aef-409e-9769-7f6f11231f53",
   "metadata": {},
   "source": [
    "38. Check if a string contains only digits."
   ]
  },
  {
   "cell_type": "code",
   "execution_count": 16,
   "id": "4467d64b-5812-4e4f-a71c-286d7a7b3d3f",
   "metadata": {},
   "outputs": [
    {
     "name": "stdout",
     "output_type": "stream",
     "text": [
      "True\n",
      "False\n",
      "False\n"
     ]
    }
   ],
   "source": [
    "in1= \"1234\"\n",
    "in2 = \"hello12\"\n",
    "in3 = \"123,\"\n",
    "\n",
    "print(in1.isdigit())\n",
    "print(in2.isdigit())\n",
    "print(in3.isdigit())"
   ]
  },
  {
   "cell_type": "markdown",
   "id": "5de1898c-0d16-4bf1-ae49-2b94939ed15c",
   "metadata": {},
   "source": [
    "39. Check if a string contains only alphabets.\n"
   ]
  },
  {
   "cell_type": "code",
   "execution_count": 17,
   "id": "1a97564e-43cf-473f-839e-434eff188fbc",
   "metadata": {},
   "outputs": [
    {
     "name": "stdout",
     "output_type": "stream",
     "text": [
      "False\n",
      "False\n",
      "True\n"
     ]
    }
   ],
   "source": [
    "in1= \"1234\"\n",
    "in2 = \"hello12\"\n",
    "in3 = \"hello\"\n",
    "\n",
    "print(in1.isalpha())\n",
    "print(in2.isalpha())\n",
    "print(in3.isalpha())"
   ]
  },
  {
   "cell_type": "markdown",
   "id": "4ce477f8-cb8e-4c7d-b918-7a1dae7927a6",
   "metadata": {},
   "source": [
    "40. Convert a string to a list of characters."
   ]
  },
  {
   "cell_type": "code",
   "execution_count": 18,
   "id": "414fc39a-994b-43e5-8ac8-4d2e2744a39f",
   "metadata": {},
   "outputs": [
    {
     "name": "stdout",
     "output_type": "stream",
     "text": [
      "['h', 'e', 'l', 'l', 'o', ' ', 'w', 'o', 'r', 'l', 'd', ' ', '!']\n"
     ]
    }
   ],
   "source": [
    "s40 = \"hello world !\"\n",
    "\n",
    "print(list(s40))"
   ]
  },
  {
   "cell_type": "markdown",
   "id": "9b24ec80-25fd-4e01-95d9-23bbd1f6f379",
   "metadata": {},
   "source": [
    "41. Check if two strings are anagrams."
   ]
  },
  {
   "cell_type": "code",
   "execution_count": 23,
   "id": "5b4bc617-dfee-48ea-96f8-3ecfd374e8dd",
   "metadata": {},
   "outputs": [],
   "source": [
    "def check_anagram(s1,s2):\n",
    "    s1 = s1.replace(\" \",\"\").lower()\n",
    "    s2 = s2.replace(\" \",\"\").lower()\n",
    "    if sorted(s1) == sorted(s2):\n",
    "        return True\n",
    "    else:\n",
    "        return False\n",
    "    \n"
   ]
  },
  {
   "cell_type": "code",
   "execution_count": 24,
   "id": "3edb7a1d-fb19-4f3a-b544-3d3d5a70f057",
   "metadata": {},
   "outputs": [
    {
     "data": {
      "text/plain": [
       "True"
      ]
     },
     "execution_count": 24,
     "metadata": {},
     "output_type": "execute_result"
    }
   ],
   "source": [
    "str1 = \"race\"\n",
    "str2 = \"care\"\n",
    "check_anagram(str1,str2)"
   ]
  },
  {
   "cell_type": "markdown",
   "id": "49c3654d-f301-437d-8dfe-39f543cea421",
   "metadata": {},
   "source": [
    "42. Encode a string using a Caesar cipher."
   ]
  },
  {
   "cell_type": "code",
   "execution_count": 48,
   "id": "2758d710-b72c-4055-8401-6fe43a4d2315",
   "metadata": {},
   "outputs": [],
   "source": [
    "def caesar_cipher(text, shift):\n",
    "    result = \"\"\n",
    "    \n",
    "    for val in text:\n",
    "        if val.isalpha():\n",
    "            if val.islower():\n",
    "                temp = chr((ord(val) + shift - ord('a')) % 26 + ord('a'))\n",
    "            else:\n",
    "                temp = chr((ord(val) + shift - ord('A')) % 26 + ord('A'))\n",
    "        else:\n",
    "            temp = val\n",
    "        result+=temp\n",
    "        \n",
    "    return result"
   ]
  },
  {
   "cell_type": "code",
   "execution_count": 49,
   "id": "866f675a-dfc8-4744-bde1-92d26b1d0c7d",
   "metadata": {},
   "outputs": [
    {
     "data": {
      "text/plain": [
       "'Khoor Zruog'"
      ]
     },
     "execution_count": 49,
     "metadata": {},
     "output_type": "execute_result"
    }
   ],
   "source": [
    "s42 = \"Hello World\"\n",
    "shift = 3\n",
    "\n",
    "caesar_cipher(s42,shift)"
   ]
  },
  {
   "cell_type": "markdown",
   "id": "26744d22-1a7f-4f7e-b609-6b87b5ca8891",
   "metadata": {},
   "source": [
    "43. Decode a Caesar cipher encoded string."
   ]
  },
  {
   "cell_type": "code",
   "execution_count": 39,
   "id": "af04081f-5652-45f1-b07f-6ffe62a5e12a",
   "metadata": {},
   "outputs": [],
   "source": [
    "def caesar_cipher_decode(text, shift):\n",
    "    result = \"\"\n",
    "    \n",
    "    for val in text:\n",
    "        if val.isalpha():\n",
    "            if val.islower():\n",
    "                temp = chr((ord(val) - shift - ord('a')) % 26 + ord('a'))\n",
    "            else:\n",
    "                temp = chr((ord(val) - shift - ord('A')) % 26 + ord('A'))\n",
    "        else:\n",
    "            temp = val\n",
    "        result+=temp\n",
    "        \n",
    "    return result"
   ]
  },
  {
   "cell_type": "code",
   "execution_count": 50,
   "id": "fb0a6e0d-8e1d-47fe-9c43-0f563c69bd3d",
   "metadata": {},
   "outputs": [
    {
     "data": {
      "text/plain": [
       "'Hello World'"
      ]
     },
     "execution_count": 50,
     "metadata": {},
     "output_type": "execute_result"
    }
   ],
   "source": [
    "s43 = 'Khoor Zruog'\n",
    "shift = 3\n",
    "\n",
    "caesar_cipher_decode(s43,shift)"
   ]
  },
  {
   "cell_type": "markdown",
   "id": "03057768-f431-47d7-bfc5-83bb068f85d0",
   "metadata": {},
   "source": [
    "44. Find the most frequent word in a string"
   ]
  },
  {
   "cell_type": "code",
   "execution_count": 73,
   "id": "b4e9059d-3544-44e7-9240-2df894352e35",
   "metadata": {},
   "outputs": [],
   "source": [
    "def most_freq(s):\n",
    "    d = {}\n",
    "    res = \"\"\n",
    "    count = 0\n",
    "    for val in s:\n",
    "        if val not in d:\n",
    "            d[val]=1\n",
    "        else:\n",
    "            d[val]+=1\n",
    "        if d[val]>count:\n",
    "            count =d[val]\n",
    "            result = val\n",
    "    \n",
    "    return result , count"
   ]
  },
  {
   "cell_type": "code",
   "execution_count": 76,
   "id": "e3a3ceed-6722-4dc8-b023-ff026e66e7ec",
   "metadata": {},
   "outputs": [
    {
     "name": "stdout",
     "output_type": "stream",
     "text": [
      "the most frequent letter l frequency 7\n"
     ]
    }
   ],
   "source": [
    "s44 = \"Hello world, hello world, How's the world?\"\n",
    "ans = most_freq(s44)\n",
    "print(\"the most frequent letter {} frequency {}\".format(ans[0],ans[1]))"
   ]
  },
  {
   "cell_type": "markdown",
   "id": "9c6dd08c-15ae-424e-acd6-17f9297d37b6",
   "metadata": {},
   "source": [
    "45. Find all unique words in a string."
   ]
  },
  {
   "cell_type": "code",
   "execution_count": 78,
   "id": "9c40576b-200f-4bfb-ba20-9936d8c3e7b4",
   "metadata": {},
   "outputs": [],
   "source": [
    "s45 = \"Hello world, hello world, How's the world?\""
   ]
  },
  {
   "cell_type": "code",
   "execution_count": 80,
   "id": "e6743886-ed38-45f3-9d70-7ea26d576276",
   "metadata": {},
   "outputs": [
    {
     "name": "stdout",
     "output_type": "stream",
     "text": [
      "{'hows', 'world', 'the', 'hello'}\n"
     ]
    }
   ],
   "source": [
    "import re\n",
    "clean_string = re.sub(r'[^\\w\\s]', '', s45).lower()\n",
    "words = set(clean_string.split())\n",
    "print(words)"
   ]
  },
  {
   "cell_type": "markdown",
   "id": "2866b3cc-c94d-4f43-b557-ebdd5b70b5b8",
   "metadata": {},
   "source": [
    "46. Count the number of syllables in a string."
   ]
  },
  {
   "cell_type": "code",
   "execution_count": 82,
   "id": "7fc3efe7-b275-47bb-9694-138fc0a3f4d6",
   "metadata": {},
   "outputs": [],
   "source": [
    "import re\n",
    "\n",
    "def count_syllables(word):\n",
    "    vowel_groups = re.findall(r'[aeiouy]+', word, re.IGNORECASE)\n",
    "    return len(vowel_groups)"
   ]
  },
  {
   "cell_type": "code",
   "execution_count": 83,
   "id": "1509feb3-6212-4119-b697-9c3c20116cb6",
   "metadata": {},
   "outputs": [
    {
     "data": {
      "text/plain": [
       "2"
      ]
     },
     "execution_count": 83,
     "metadata": {},
     "output_type": "execute_result"
    }
   ],
   "source": [
    "word1 = \"hello\"\n",
    "count_syllables(word1)"
   ]
  },
  {
   "cell_type": "markdown",
   "id": "d07c91e4-6461-466c-91bd-83949735a869",
   "metadata": {},
   "source": [
    "47. Check if a string contains any special characters."
   ]
  },
  {
   "cell_type": "code",
   "execution_count": 84,
   "id": "dfcce588-3554-4adb-b7d4-880f504bb35f",
   "metadata": {},
   "outputs": [],
   "source": [
    "def special_char(s):\n",
    "    for val in s:\n",
    "        if val.isdigit() or val.isalpha():\n",
    "            continue\n",
    "        else:\n",
    "            return False\n",
    "            break\n",
    "        \n",
    "    return True\n",
    "\n",
    "# function checking each value as digit or alphabets, if both are false, 1st character returning false"
   ]
  },
  {
   "cell_type": "code",
   "execution_count": 86,
   "id": "7649c376-4a68-4bc6-9ed5-e6b1aee7ce85",
   "metadata": {},
   "outputs": [
    {
     "data": {
      "text/plain": [
       "False"
      ]
     },
     "execution_count": 86,
     "metadata": {},
     "output_type": "execute_result"
    }
   ],
   "source": [
    "string1 = \"Hello, world!\"\n",
    "special_char(string1)"
   ]
  },
  {
   "cell_type": "markdown",
   "id": "f732316a-8ffc-497c-a894-3ec96d14d930",
   "metadata": {},
   "source": [
    "48. Remove the nth word from a string."
   ]
  },
  {
   "cell_type": "code",
   "execution_count": 93,
   "id": "b7d6e9bb-d46d-47aa-b3c0-66393558b935",
   "metadata": {},
   "outputs": [],
   "source": [
    "def n_word(s,n):\n",
    "    text = s.split()\n",
    "    temp = text[:n]+text[n+1:]\n",
    "    return ' '.join(temp)"
   ]
  },
  {
   "cell_type": "code",
   "execution_count": 95,
   "id": "9c83623a-2733-429d-a650-c351c3c4e307",
   "metadata": {},
   "outputs": [
    {
     "name": "stdout",
     "output_type": "stream",
     "text": [
      "What is in the string\n",
      "What is in string\n"
     ]
    }
   ],
   "source": [
    "s48= \"What is in the string\"\n",
    "n = 3\n",
    "print(s48)\n",
    "print( n_word(s48,n))"
   ]
  },
  {
   "cell_type": "markdown",
   "id": "7654f9d3-fab4-4ce9-a9ea-ab604e8f3d3b",
   "metadata": {},
   "source": [
    "49. Insert a word at the nth position in a string."
   ]
  },
  {
   "cell_type": "code",
   "execution_count": 96,
   "id": "93b5f1d9-471c-449d-a308-ed22166dcced",
   "metadata": {},
   "outputs": [],
   "source": [
    "def insert_n(s,word,n):\n",
    "    text = s.split()\n",
    "    temp = text[:n]+[word]+text[n:]\n",
    "    return ' '.join(temp)"
   ]
  },
  {
   "cell_type": "code",
   "execution_count": 100,
   "id": "b5958b84-6a72-4889-8b1c-51ec99e59ec4",
   "metadata": {},
   "outputs": [
    {
     "name": "stdout",
     "output_type": "stream",
     "text": [
      "What is in example the string\n"
     ]
    }
   ],
   "source": [
    "s49= \"What is in the string\"\n",
    "n =3\n",
    "word = 'example'\n",
    "print(insert_n(s49,word,n))"
   ]
  },
  {
   "cell_type": "markdown",
   "id": "7f09c358-d0e2-4469-8c8f-dbd22145e6b2",
   "metadata": {},
   "source": [
    "50. Convert a CSV string to a list of lists."
   ]
  },
  {
   "cell_type": "code",
   "execution_count": 101,
   "id": "1d1e4787-107f-41df-a91f-c4657edac7cd",
   "metadata": {},
   "outputs": [],
   "source": [
    "csv_data = \"Name, Age, weight\\nJohn, 40, 80\\nDoe, 30, 70\\nJane, 22, 50\""
   ]
  },
  {
   "cell_type": "code",
   "execution_count": 102,
   "id": "06d5fbd4-1393-47c0-8144-dab68ee09eaf",
   "metadata": {},
   "outputs": [],
   "source": [
    "def str_csv(s):\n",
    "    text =s.split('\\n')\n",
    "    res = []\n",
    "    for val in text:\n",
    "        temp = val.split(',')\n",
    "        res.append(temp)\n",
    "    \n",
    "    return res"
   ]
  },
  {
   "cell_type": "code",
   "execution_count": 103,
   "id": "8d2033e1-bf09-4fb3-8b05-c2f699a447ae",
   "metadata": {},
   "outputs": [
    {
     "data": {
      "text/plain": [
       "[['Name', ' Age', ' weight'],\n",
       " ['John', ' 40', ' 80'],\n",
       " ['Doe', ' 30', ' 70'],\n",
       " ['Jane', ' 22', ' 50']]"
      ]
     },
     "execution_count": 103,
     "metadata": {},
     "output_type": "execute_result"
    }
   ],
   "source": [
    "str_csv(csv_data)"
   ]
  },
  {
   "cell_type": "markdown",
   "id": "bd5310ca-22ca-490e-a26c-b01abd4c66a0",
   "metadata": {},
   "source": [
    "# ==============================================================================================="
   ]
  },
  {
   "cell_type": "markdown",
   "id": "5b33131c-b57a-4ed6-ab25-0ea900b9bef3",
   "metadata": {},
   "source": [
    "# List Based Practice Problem :"
   ]
  },
  {
   "cell_type": "markdown",
   "id": "1da8b783-b1ae-40be-ad87-47960f7f91ab",
   "metadata": {},
   "source": [
    "# ==============================================================================================="
   ]
  },
  {
   "cell_type": "markdown",
   "id": "02bbe191-f188-46a1-9f68-0d780f5b54a3",
   "metadata": {},
   "source": [
    "1. Create a list with integers from 1 to 10."
   ]
  },
  {
   "cell_type": "code",
   "execution_count": 104,
   "id": "5026cffa-8b06-40a9-b152-c51e824a37e5",
   "metadata": {},
   "outputs": [],
   "source": [
    "res = []\n",
    "for val in range(1,11):\n",
    "    res.append(val)\n"
   ]
  },
  {
   "cell_type": "code",
   "execution_count": 105,
   "id": "7a50f66b-7c42-4f6d-a083-81302a28d90d",
   "metadata": {},
   "outputs": [
    {
     "data": {
      "text/plain": [
       "[1, 2, 3, 4, 5, 6, 7, 8, 9, 10]"
      ]
     },
     "execution_count": 105,
     "metadata": {},
     "output_type": "execute_result"
    }
   ],
   "source": [
    "res"
   ]
  },
  {
   "cell_type": "markdown",
   "id": "0cb338e3-26a8-4e01-bc0b-a27ff3c2b92f",
   "metadata": {},
   "source": [
    "2. Find the length of a list without using the `len()` function."
   ]
  },
  {
   "cell_type": "code",
   "execution_count": 106,
   "id": "6d4d3adb-ebbc-4cd1-92a2-bdbbedfb0974",
   "metadata": {},
   "outputs": [
    {
     "name": "stdout",
     "output_type": "stream",
     "text": [
      "10\n"
     ]
    }
   ],
   "source": [
    "count = 0\n",
    "for val in res:\n",
    "    count+=1\n",
    "    \n",
    "print(count)"
   ]
  },
  {
   "cell_type": "markdown",
   "id": "1d0448d0-bedf-4041-9cec-6e5cb6a64777",
   "metadata": {},
   "source": [
    "3. Append an element to the end of a list."
   ]
  },
  {
   "cell_type": "code",
   "execution_count": 108,
   "id": "9ec0ffc2-7a04-476d-b2a9-e2124c73cf38",
   "metadata": {},
   "outputs": [
    {
     "name": "stdout",
     "output_type": "stream",
     "text": [
      "[1, 2, 3, 4, 5, 6, 7, 8, 9, 10, 40]\n"
     ]
    }
   ],
   "source": [
    "new_list = res\n",
    "element = 40\n",
    "new_list.append(element)\n",
    "print(new_list)"
   ]
  },
  {
   "cell_type": "markdown",
   "id": "a4751b17-0fdc-4a77-be82-2d75f465c766",
   "metadata": {},
   "source": [
    "4. Insert an element at a specific index in a list."
   ]
  },
  {
   "cell_type": "code",
   "execution_count": 112,
   "id": "e115aac0-3480-4a41-b5e1-656957fc945e",
   "metadata": {},
   "outputs": [],
   "source": [
    "my_list = [1, 2, 3, 4, 5, 6, 7, 8, 9, 10]\n",
    "index = 3\n",
    "new_num=40\n",
    "my_list.insert(index,new_num)"
   ]
  },
  {
   "cell_type": "code",
   "execution_count": 113,
   "id": "4155b9bf-2493-49c1-9cdb-908f59341f5a",
   "metadata": {},
   "outputs": [
    {
     "data": {
      "text/plain": [
       "[1, 2, 3, 40, 4, 5, 6, 7, 8, 9, 10]"
      ]
     },
     "execution_count": 113,
     "metadata": {},
     "output_type": "execute_result"
    }
   ],
   "source": [
    "my_list"
   ]
  },
  {
   "cell_type": "markdown",
   "id": "3a7299ba-a3c2-40bf-b232-84ce682393cc",
   "metadata": {},
   "source": [
    "5. Remove an element from a list by its value."
   ]
  },
  {
   "cell_type": "code",
   "execution_count": 114,
   "id": "0729ceb3-159c-4827-a763-86ae8f9ad205",
   "metadata": {},
   "outputs": [
    {
     "name": "stdout",
     "output_type": "stream",
     "text": [
      "[1, 2, 3, 5, 6, 7, 8, 9, 10]\n"
     ]
    }
   ],
   "source": [
    "my_list = [1, 2, 3, 4, 5, 6, 7, 8, 9, 10]\n",
    "index = 3\n",
    "num = 4\n",
    "my_list.remove(num)\n",
    "print(my_list)"
   ]
  },
  {
   "cell_type": "markdown",
   "id": "6d03385d-3f5d-49f8-9ed3-6a7c708ce1d9",
   "metadata": {},
   "source": [
    "6. Remove an element from a list by its index."
   ]
  },
  {
   "cell_type": "code",
   "execution_count": 116,
   "id": "39aea3b1-6d93-4b85-ab40-c2b7e40ed1be",
   "metadata": {},
   "outputs": [
    {
     "name": "stdout",
     "output_type": "stream",
     "text": [
      "[1, 2, 3, 4, 6, 7, 8, 9, 10]\n"
     ]
    }
   ],
   "source": [
    "my_list = [1, 2, 3, 4, 5, 6, 7, 8, 9, 10]\n",
    "index = 4\n",
    "my_list.pop(index)\n",
    "print(my_list)\n",
    "# 5 is removed"
   ]
  },
  {
   "cell_type": "markdown",
   "id": "38024737-52f9-4cf7-bba5-a0814a5046dc",
   "metadata": {},
   "source": [
    "7. Check if an element exists in a list."
   ]
  },
  {
   "cell_type": "code",
   "execution_count": 118,
   "id": "f4914e6c-d54b-49ed-8456-2b8b919cc379",
   "metadata": {},
   "outputs": [
    {
     "name": "stdout",
     "output_type": "stream",
     "text": [
      "NO it is NOT in the list\n"
     ]
    }
   ],
   "source": [
    "my_list = [1, 2, 3, 4, 5, 6, 7, 8, 9, 10]\n",
    "check = 5\n",
    "\n",
    "if val == check:\n",
    "    print(\"Yes it is in the list\")\n",
    "else:\n",
    "    print(\"NO it is NOT in the list\")"
   ]
  },
  {
   "cell_type": "markdown",
   "id": "cb43c928-6eb5-4674-88ee-7a61558714c6",
   "metadata": {},
   "source": [
    "8. Find the index of the first occurrence of an element in a list."
   ]
  },
  {
   "cell_type": "code",
   "execution_count": 3,
   "id": "36676fea-2eed-4f3d-b36c-4f70029147cd",
   "metadata": {},
   "outputs": [
    {
     "data": {
      "text/plain": [
       "4"
      ]
     },
     "execution_count": 3,
     "metadata": {},
     "output_type": "execute_result"
    }
   ],
   "source": [
    "my_list = [1, 2, 3, 4, 5, 6, 7, 8, 9, 10,5]\n",
    "check = 5\n",
    "my_list.index(check)\n",
    "# value error is not handled"
   ]
  },
  {
   "cell_type": "markdown",
   "id": "f63d84d8-b5fa-4307-b147-a0502dcff821",
   "metadata": {},
   "source": [
    "9. Count the occurrences of an element in a list."
   ]
  },
  {
   "cell_type": "code",
   "execution_count": 4,
   "id": "6cdf194a-bf88-4ac3-a397-6551affaf239",
   "metadata": {},
   "outputs": [
    {
     "data": {
      "text/plain": [
       "2"
      ]
     },
     "execution_count": 4,
     "metadata": {},
     "output_type": "execute_result"
    }
   ],
   "source": [
    "my_list = [1, 2, 3, 4, 5, 6, 7, 8, 9, 10,5]\n",
    "element = 5\n",
    "my_list.count(check)"
   ]
  },
  {
   "cell_type": "markdown",
   "id": "aa671e02-9ec8-447a-bbc3-0f1084c0c552",
   "metadata": {},
   "source": [
    "10. Reverse the order of elements in a list."
   ]
  },
  {
   "cell_type": "code",
   "execution_count": 5,
   "id": "bde85818-e1cb-4afa-b5ee-89b0abe68cf8",
   "metadata": {},
   "outputs": [
    {
     "data": {
      "text/plain": [
       "[10, 9, 8, 7, 6, 5, 4, 3, 2, 1]"
      ]
     },
     "execution_count": 5,
     "metadata": {},
     "output_type": "execute_result"
    }
   ],
   "source": [
    "my_list = [1, 2, 3, 4, 5, 6, 7, 8, 9, 10]\n",
    "my_list[::-1]"
   ]
  },
  {
   "cell_type": "markdown",
   "id": "030e2439-a274-44bc-9973-3512a03ce50d",
   "metadata": {},
   "source": [
    "11. Sort a list in ascending order."
   ]
  },
  {
   "cell_type": "code",
   "execution_count": 8,
   "id": "789354a7-fd2a-4a0e-8818-f6d2fa6bb29b",
   "metadata": {},
   "outputs": [
    {
     "name": "stdout",
     "output_type": "stream",
     "text": [
      "Sort a list in ascending order  [1, 2, 3, 4, 5, 6, 7, 8, 9, 10]\n"
     ]
    }
   ],
   "source": [
    "my_list = [1, 2, 3, 4, 5, 6, 7, 8, 9, 10]\n",
    "my_list.sort()\n",
    "print(\"Sort a list in ascending order \",my_list)"
   ]
  },
  {
   "cell_type": "markdown",
   "id": "e3b5315b-3815-4848-a37b-b365f65c340a",
   "metadata": {},
   "source": [
    "12. Sort a list in descending order."
   ]
  },
  {
   "cell_type": "code",
   "execution_count": 11,
   "id": "9662da21-bf89-4225-8cd7-ab7f7d21ccc2",
   "metadata": {},
   "outputs": [
    {
     "name": "stdout",
     "output_type": "stream",
     "text": [
      "Sort a list in decending order  [80, 40, 20, 10, 9, 7, 6, 5, 3, 2, 1]\n"
     ]
    }
   ],
   "source": [
    "my_list = [1, 2, 3, 20, 5, 6,40, 7, 80, 9, 10]\n",
    "my_list.sort(reverse=True)\n",
    "print(\"Sort a list in decending order \",my_list)"
   ]
  },
  {
   "cell_type": "markdown",
   "id": "e64717b1-b337-4a13-a57d-d7cc7569608a",
   "metadata": {},
   "source": [
    "13. Create a list of even numbers from 1 to 20."
   ]
  },
  {
   "cell_type": "code",
   "execution_count": 12,
   "id": "d27433db-4e82-4eff-a53f-86e57208fc53",
   "metadata": {},
   "outputs": [
    {
     "name": "stdout",
     "output_type": "stream",
     "text": [
      "[2, 4, 6, 8, 10, 12, 14, 16, 18, 20]\n"
     ]
    }
   ],
   "source": [
    "even = []\n",
    "for val in range(1,21):\n",
    "    if val%2==0:\n",
    "        even.append(val)\n",
    "\n",
    "print(even)"
   ]
  },
  {
   "cell_type": "markdown",
   "id": "4c92ad20-5c1f-42ca-9b51-0c29309dc406",
   "metadata": {},
   "source": [
    "14. Create a list of odd numbers from 1 to 20."
   ]
  },
  {
   "cell_type": "code",
   "execution_count": 14,
   "id": "8e26fbae-2533-4b85-8509-938c3276a6cf",
   "metadata": {},
   "outputs": [
    {
     "name": "stdout",
     "output_type": "stream",
     "text": [
      "[1, 3, 5, 7, 9, 11, 13, 15, 17, 19]\n"
     ]
    }
   ],
   "source": [
    "odd = [num for num in range(1,20,2)]\n",
    "print(odd)"
   ]
  },
  {
   "cell_type": "markdown",
   "id": "91c024bd-b1df-477e-a6c5-7fc8f134d0a4",
   "metadata": {},
   "source": [
    "15. Find the sum of all elements in a list."
   ]
  },
  {
   "cell_type": "code",
   "execution_count": 15,
   "id": "0d268a2b-e26c-488a-86d0-9a46afc4181d",
   "metadata": {},
   "outputs": [
    {
     "data": {
      "text/plain": [
       "55"
      ]
     },
     "execution_count": 15,
     "metadata": {},
     "output_type": "execute_result"
    }
   ],
   "source": [
    "my_list = [1, 2, 3, 4, 5, 6, 7, 8, 9, 10]\n",
    "sum(my_list)"
   ]
  },
  {
   "cell_type": "markdown",
   "id": "260b4018-d61f-4104-9ab8-53e07ecac5cc",
   "metadata": {},
   "source": [
    "16. Find the maximum value in a list."
   ]
  },
  {
   "cell_type": "code",
   "execution_count": 16,
   "id": "fd150356-eb4e-4e7a-babe-e58520c776ff",
   "metadata": {},
   "outputs": [
    {
     "data": {
      "text/plain": [
       "10"
      ]
     },
     "execution_count": 16,
     "metadata": {},
     "output_type": "execute_result"
    }
   ],
   "source": [
    "my_list = [1, 2, 3, 4, 5, 6, 7, 8, 9, 10]\n",
    "max(my_list)"
   ]
  },
  {
   "cell_type": "markdown",
   "id": "b5f9fc9d-debe-446a-8d95-e7c6a8ea801b",
   "metadata": {},
   "source": [
    "17. Find the minimum value in a list."
   ]
  },
  {
   "cell_type": "code",
   "execution_count": 17,
   "id": "e1e4839d-e9b2-4bb4-9470-05ffef01cb82",
   "metadata": {},
   "outputs": [
    {
     "data": {
      "text/plain": [
       "1"
      ]
     },
     "execution_count": 17,
     "metadata": {},
     "output_type": "execute_result"
    }
   ],
   "source": [
    "min(my_list)"
   ]
  },
  {
   "cell_type": "markdown",
   "id": "6b2ba84b-3c06-475e-9932-89e40dc3d425",
   "metadata": {},
   "source": [
    "18. Create a list of squares of numbers from 1 to 10."
   ]
  },
  {
   "cell_type": "code",
   "execution_count": 18,
   "id": "a657a03c-43e9-44c2-b196-82f3de283c88",
   "metadata": {},
   "outputs": [
    {
     "name": "stdout",
     "output_type": "stream",
     "text": [
      "[1, 4, 9, 16, 25, 36, 49, 64, 81, 100]\n"
     ]
    }
   ],
   "source": [
    "square = [x**2 for x in range(1,11)]\n",
    "print(square)"
   ]
  },
  {
   "cell_type": "markdown",
   "id": "36d25aef-f4f9-4af5-a6d3-94bf71f5d499",
   "metadata": {},
   "source": [
    "19. Create a list of random numbers."
   ]
  },
  {
   "cell_type": "code",
   "execution_count": 19,
   "id": "2ab05997-d185-4eb2-bae2-f76ffec28060",
   "metadata": {},
   "outputs": [
    {
     "name": "stdout",
     "output_type": "stream",
     "text": [
      "List of random integers: [4, 58, 3, 28, 69, 22, 53, 96, 28, 90]\n"
     ]
    }
   ],
   "source": [
    "import random\n",
    "integer = [random.randint(1, 100) for _ in range(10)]\n",
    "\n",
    "print(\"List of random integers:\", integer)"
   ]
  },
  {
   "cell_type": "markdown",
   "id": "3e574b6e-8b97-4d63-ae9a-307fd2668738",
   "metadata": {},
   "source": [
    "20. Remove duplicates from a list."
   ]
  },
  {
   "cell_type": "code",
   "execution_count": 21,
   "id": "ea29761d-a410-4988-93e3-e2c3892b961f",
   "metadata": {},
   "outputs": [
    {
     "data": {
      "text/plain": [
       "[1, 2, 3, 4, 5, 6, 7, 8, 9]"
      ]
     },
     "execution_count": 21,
     "metadata": {},
     "output_type": "execute_result"
    }
   ],
   "source": [
    "d_list=[1,2,2,3,3,3,4,4,5,6,7,8,8,8,9]\n",
    "\n",
    "new_list = list(set(d_list))\n",
    "new_list"
   ]
  },
  {
   "cell_type": "markdown",
   "id": "9eb9026e-231d-4ca4-93f4-82e656a9731f",
   "metadata": {},
   "source": [
    "21. Find the common elements between two lists.¶"
   ]
  },
  {
   "cell_type": "code",
   "execution_count": 23,
   "id": "251e733a-9b0c-4c12-b194-ad97eb4ee41a",
   "metadata": {},
   "outputs": [
    {
     "data": {
      "text/plain": [
       "[1, 2, 3, 7, 8, 9]"
      ]
     },
     "execution_count": 23,
     "metadata": {},
     "output_type": "execute_result"
    }
   ],
   "source": [
    "d_list=[1,2,2,3,3,3,4,4,5,6,7,8,8,8,9]\n",
    "my_list = [1, 2, 3, 7, 8, 9, 10]\n",
    "check_common(d_list,my_list)"
   ]
  },
  {
   "cell_type": "code",
   "execution_count": 24,
   "id": "675f8183-4047-45ed-a82b-55b84f3654a4",
   "metadata": {},
   "outputs": [],
   "source": [
    "def check_common(l1,l2):\n",
    "    new_list=[]\n",
    "    temp1 = list(set(l1))\n",
    "    temp2 =list(set(l2))\n",
    "    for val in temp1:\n",
    "        if val in temp2:\n",
    "            new_list.append(val)\n",
    "            \n",
    "    return new_list\n",
    "# taking set of both the list to remove the duplicate element\n",
    "# iterating over the list1 and check if it is there in list2\n",
    "# used brute force algorithm, to check every element \n"
   ]
  },
  {
   "cell_type": "markdown",
   "id": "4b506061-825f-439e-beeb-38e37e5113a7",
   "metadata": {},
   "source": [
    "22. Find the difference between two lists."
   ]
  },
  {
   "cell_type": "code",
   "execution_count": 30,
   "id": "45bb0098-7290-4c56-ad4b-c3f2b21f830a",
   "metadata": {},
   "outputs": [
    {
     "data": {
      "text/plain": [
       "[20, 10, 70, 60]"
      ]
     },
     "execution_count": 30,
     "metadata": {},
     "output_type": "execute_result"
    }
   ],
   "source": [
    "list1 = [10, 20, 30, 40, 50]\n",
    "list2 = [30, 40, 50, 60, 70]\n",
    "\n",
    "difference = list(set(list1).difference(list2))+list(set(list2).difference(list1))\n",
    "difference\n",
    "# adding difference of list1 to list2 and then list2 to list1"
   ]
  },
  {
   "cell_type": "markdown",
   "id": "b4cd0962-37d7-4b68-84a9-a109a173d282",
   "metadata": {},
   "source": [
    "23. Merge two lists."
   ]
  },
  {
   "cell_type": "code",
   "execution_count": 32,
   "id": "9a731357-6072-4193-a649-91378bc0d3d7",
   "metadata": {},
   "outputs": [
    {
     "data": {
      "text/plain": [
       "[10, 20, 30, 40, 50, 30, 40, 50, 60, 70]"
      ]
     },
     "execution_count": 32,
     "metadata": {},
     "output_type": "execute_result"
    }
   ],
   "source": [
    "list1 = [10, 20, 30, 40, 50]\n",
    "list2 = [30, 40, 50, 60, 70]\n",
    "list_new = list1+list2\n",
    "list_new"
   ]
  },
  {
   "cell_type": "markdown",
   "id": "a6607063-3d90-446e-8746-68ddc1cc0915",
   "metadata": {},
   "source": [
    "24. Multiply all elements in a list by 2."
   ]
  },
  {
   "cell_type": "code",
   "execution_count": 35,
   "id": "4608a765-d7fb-4ca4-b691-2d44e861cc8f",
   "metadata": {},
   "outputs": [
    {
     "data": {
      "text/plain": [
       "[20, 40, 60, 80, 100]"
      ]
     },
     "execution_count": 35,
     "metadata": {},
     "output_type": "execute_result"
    }
   ],
   "source": [
    "list1 = [10, 20, 30, 40, 50]\n",
    "list_res=[x*2 for x in list1]\n",
    "list_res"
   ]
  },
  {
   "cell_type": "markdown",
   "id": "a0bf9f62-67b6-4e9f-9402-3ea026ddacbb",
   "metadata": {},
   "source": [
    "25. Filter out all even numbers from a list."
   ]
  },
  {
   "cell_type": "code",
   "execution_count": 41,
   "id": "80801985-74a3-46ef-9770-2cb2588dce85",
   "metadata": {},
   "outputs": [
    {
     "data": {
      "text/plain": [
       "[1, 3, 5, 7, 9]"
      ]
     },
     "execution_count": 41,
     "metadata": {},
     "output_type": "execute_result"
    }
   ],
   "source": [
    "my_list = [1, 2, 3, 4, 5, 6, 7, 8, 9, 10]\n",
    "res = [x for x in my_list if x%2!=0]\n",
    "res"
   ]
  },
  {
   "cell_type": "markdown",
   "id": "feecb26a-097d-4c2a-96ca-ea3db246b191",
   "metadata": {},
   "source": [
    "26. Convert a list of strings to a list of integers."
   ]
  },
  {
   "cell_type": "code",
   "execution_count": 43,
   "id": "0a3fd3ac-9d38-418f-83ce-f419feb4dc64",
   "metadata": {},
   "outputs": [
    {
     "name": "stdout",
     "output_type": "stream",
     "text": [
      " list of integers:  [10, 20, 30, 40, 50]\n"
     ]
    }
   ],
   "source": [
    "my_list = [\"10\", \"20\", \"30\", \"40\", \"50\"]\n",
    "res = [int(x) for x in my_list ]\n",
    "print(\" list of integers: \",res)"
   ]
  },
  {
   "cell_type": "markdown",
   "id": "8081ed84-e389-4e8f-94c8-e5b1052f0a1a",
   "metadata": {},
   "source": [
    "27. Convert a list of integers to a list of strings."
   ]
  },
  {
   "cell_type": "code",
   "execution_count": 45,
   "id": "32c8ea6c-4215-4206-b7f5-e96bd19dca59",
   "metadata": {},
   "outputs": [
    {
     "name": "stdout",
     "output_type": "stream",
     "text": [
      "list of strings: ['1', '2', '3', '4', '5', '6', '7', '8', '9', '10']\n"
     ]
    }
   ],
   "source": [
    "my_list = [1, 2, 3, 4, 5, 6, 7, 8, 9, 10]\n",
    "res = [str(x) for x in my_list]\n",
    "print(\"list of strings:\",res)"
   ]
  },
  {
   "cell_type": "markdown",
   "id": "0991c4a4-05d0-4fc9-986f-09294fa3be8f",
   "metadata": {},
   "source": [
    "28. Flatten a nested list."
   ]
  },
  {
   "cell_type": "code",
   "execution_count": 46,
   "id": "a65de981-6b7e-42f5-b044-1a896687bb6d",
   "metadata": {},
   "outputs": [],
   "source": [
    "nested_list = [[1, 2, 3], [4, 5], [6, 7, 8, 9]]"
   ]
  },
  {
   "cell_type": "code",
   "execution_count": 47,
   "id": "c7f9a746-638e-4c45-8e31-cb8405b1c402",
   "metadata": {},
   "outputs": [],
   "source": [
    "def flat_list(l1):\n",
    "    res =[]\n",
    "    i=0\n",
    "    for i in range(len(l1)):\n",
    "        for val in l1[i]:\n",
    "            res.append(val)\n",
    "            \n",
    "    return res\n",
    "\n",
    "# taking i =0 and use as a pointer for the index of nested list\n",
    "#in each sub list, going though every element and added in list"
   ]
  },
  {
   "cell_type": "code",
   "execution_count": 48,
   "id": "7585911c-3a98-4e37-977f-a9f9809b02db",
   "metadata": {},
   "outputs": [
    {
     "data": {
      "text/plain": [
       "[1, 2, 3, 4, 5, 6, 7, 8, 9]"
      ]
     },
     "execution_count": 48,
     "metadata": {},
     "output_type": "execute_result"
    }
   ],
   "source": [
    "flat_list(nested_list)"
   ]
  },
  {
   "cell_type": "markdown",
   "id": "6c43465d-d8d4-4fbc-8e8d-873fe3c0cf5a",
   "metadata": {},
   "source": [
    "29. Create a list of the first 10 Fibonacci numbers."
   ]
  },
  {
   "cell_type": "code",
   "execution_count": 51,
   "id": "1817c3db-e045-4e10-b30c-b8ed20146da8",
   "metadata": {},
   "outputs": [
    {
     "name": "stdout",
     "output_type": "stream",
     "text": [
      "fibonnaci sequence : [0, 1, 1, 2, 3, 5, 8, 13, 21, 34, 55]\n"
     ]
    }
   ],
   "source": [
    "start = [0,1]\n",
    "for i in range(2,11):\n",
    "    temp = start[i-1]+start[i-2]\n",
    "    start.append(temp)\n",
    "    \n",
    "print(\"fibonnaci sequence :\",start)"
   ]
  },
  {
   "cell_type": "markdown",
   "id": "e7705b37-74fa-4c14-aaa6-265a269b031b",
   "metadata": {},
   "source": [
    "30. Check if a list is sorted."
   ]
  },
  {
   "cell_type": "code",
   "execution_count": 55,
   "id": "9f7edf02-7fda-4446-95bb-4e703e8092d6",
   "metadata": {},
   "outputs": [],
   "source": [
    "my_list=[1, 2, 3, 4, 5, 6, 7, 8, 9]\n",
    "my_list1=[1, 2, 3, 4, 5, 6, 7, 8, 90,10]\n",
    "def check_sort(l1):\n",
    "    for i in range(len(l1)-1):\n",
    "        if l1[i]>l1[i+1]:\n",
    "            return False\n",
    "            break\n",
    "    return True\n"
   ]
  },
  {
   "cell_type": "code",
   "execution_count": 53,
   "id": "d91ef7b9-dd2f-4fe4-a698-b2da9dfd2f7a",
   "metadata": {},
   "outputs": [
    {
     "data": {
      "text/plain": [
       "True"
      ]
     },
     "execution_count": 53,
     "metadata": {},
     "output_type": "execute_result"
    }
   ],
   "source": [
    "check_sort(my_list)"
   ]
  },
  {
   "cell_type": "code",
   "execution_count": 56,
   "id": "d9c4ad1d-37ee-4ee1-b818-a5cbe084d9d9",
   "metadata": {},
   "outputs": [
    {
     "data": {
      "text/plain": [
       "False"
      ]
     },
     "execution_count": 56,
     "metadata": {},
     "output_type": "execute_result"
    }
   ],
   "source": [
    "check_sort(my_list1)"
   ]
  },
  {
   "cell_type": "markdown",
   "id": "9ca96fc7-656e-4d5b-a409-131ce14b8483",
   "metadata": {},
   "source": [
    "31. Rotate a list to the left by `n` positions."
   ]
  },
  {
   "cell_type": "code",
   "execution_count": 57,
   "id": "c001069b-afb1-4137-bdb2-6600d23c3cb3",
   "metadata": {},
   "outputs": [],
   "source": [
    "def rotate_left(l1, n):\n",
    "    n = n % len(l1) \n",
    "    rotated = l1[n:] + l1[:n]\n",
    "    return rotated\n"
   ]
  },
  {
   "cell_type": "code",
   "execution_count": 59,
   "id": "d7ff68ca-39aa-4a83-a8e8-acaa24495e28",
   "metadata": {},
   "outputs": [
    {
     "data": {
      "text/plain": [
       "[3, 4, 5, 6, 7, 8, 9, 1, 2]"
      ]
     },
     "execution_count": 59,
     "metadata": {},
     "output_type": "execute_result"
    }
   ],
   "source": [
    "my_list=[1, 2, 3, 4, 5, 6, 7, 8, 9]\n",
    "n =2\n",
    "rotate_left(my_list,n)"
   ]
  },
  {
   "cell_type": "markdown",
   "id": "acf892ea-b91e-4625-9efd-7146c8a43055",
   "metadata": {},
   "source": [
    "32. Rotate a list to the right by `n` positions."
   ]
  },
  {
   "cell_type": "code",
   "execution_count": 60,
   "id": "105b8bbf-1141-41cc-abf5-3b645a3cc4f6",
   "metadata": {},
   "outputs": [],
   "source": [
    "def rotate_right(l1, n):\n",
    "    n = n % len(l1) \n",
    "    rotated = l1[-n:] + l1[:-n]\n",
    "    return rotated"
   ]
  },
  {
   "cell_type": "code",
   "execution_count": 61,
   "id": "519dce72-5ae3-42ba-a057-7f0ac18e702c",
   "metadata": {},
   "outputs": [
    {
     "data": {
      "text/plain": [
       "[8, 9, 1, 2, 3, 4, 5, 6, 7]"
      ]
     },
     "execution_count": 61,
     "metadata": {},
     "output_type": "execute_result"
    }
   ],
   "source": [
    "my_list=[1, 2, 3, 4, 5, 6, 7, 8, 9]\n",
    "n =2\n",
    "rotate_right(my_list,n)"
   ]
  },
  {
   "cell_type": "markdown",
   "id": "d445f982-2fb2-4f97-b24a-d320fc84606b",
   "metadata": {},
   "source": [
    "33. Create a list of prime numbers up to 50."
   ]
  },
  {
   "cell_type": "code",
   "execution_count": 7,
   "id": "9cd7cc6f-38e2-4b2a-94af-398cb31b8ba0",
   "metadata": {},
   "outputs": [],
   "source": [
    "def is_prime(num):\n",
    "    if num <= 1:\n",
    "        return False\n",
    "    if num <= 3:\n",
    "        return True\n",
    "    if num % 2 == 0 or num % 3 == 0:\n",
    "        return False\n",
    "    i = 5\n",
    "    while i * i <= num:\n",
    "      # print(i,num)\n",
    "      if num % i == 0 or num % (i + 2) == 0:\n",
    "          return False\n",
    "      i += 6\n",
    "    return True"
   ]
  },
  {
   "cell_type": "code",
   "execution_count": 8,
   "id": "53fc3147-7b99-4655-9e4b-39dac2063746",
   "metadata": {},
   "outputs": [
    {
     "data": {
      "text/plain": [
       "[2, 3, 5, 7, 11, 13, 17, 19, 23, 29]"
      ]
     },
     "execution_count": 8,
     "metadata": {},
     "output_type": "execute_result"
    }
   ],
   "source": [
    "prime_numbers = [num for num in range(2,30) if is_prime(num)]\n",
    "prime_numbers"
   ]
  },
  {
   "cell_type": "markdown",
   "id": "f01105e8-9699-4f4b-8eaf-8184e55b7267",
   "metadata": {},
   "source": [
    "34. Split a list into chunks of size `n`"
   ]
  },
  {
   "cell_type": "code",
   "execution_count": 13,
   "id": "dab8b8b9-b6c1-4d1d-b163-4e65f221fd0e",
   "metadata": {},
   "outputs": [
    {
     "name": "stdout",
     "output_type": "stream",
     "text": [
      "[1, 2, 3, 4, 5, 6, 7, 8, 9]\n"
     ]
    }
   ],
   "source": [
    "my_list=[1, 2, 3, 4, 5, 6, 7, 8, 9]\n",
    "n = 1\n",
    "\n",
    "for i in range(0, len(my_list), n):\n",
    "    print(my_list[i:i+n])"
   ]
  },
  {
   "cell_type": "markdown",
   "id": "1e5deab6-eaae-429a-ba99-e83377e51a30",
   "metadata": {},
   "source": [
    "35. Find the second largest number in a list."
   ]
  },
  {
   "cell_type": "code",
   "execution_count": 2,
   "id": "332cf178-61cb-4f2f-b18e-4a19f0fc84a9",
   "metadata": {},
   "outputs": [
    {
     "name": "stdout",
     "output_type": "stream",
     "text": [
      "25\n"
     ]
    }
   ],
   "source": [
    "my_list = [10, 5, 20, 15, 30, 25]\n",
    "\n",
    "if len(my_list)>=2:\n",
    "    my_list.sort()\n",
    "    print(\"second largest element: \"my_list[-2])\n",
    "else:\n",
    "    print(\"there are not enough elements\")"
   ]
  },
  {
   "cell_type": "markdown",
   "id": "e9fba397-222c-4525-8917-b4d8ebbce676",
   "metadata": {},
   "source": [
    "36. Replace every element in a list with its square."
   ]
  },
  {
   "cell_type": "code",
   "execution_count": 4,
   "id": "3826f3bb-836d-4f86-9446-5246fc73a9a8",
   "metadata": {},
   "outputs": [
    {
     "name": "stdout",
     "output_type": "stream",
     "text": [
      "squared list  [1, 4, 9, 16, 25, 36, 49, 64, 81]\n"
     ]
    }
   ],
   "source": [
    "my_list=[1, 2, 3, 4, 5, 6, 7, 8, 9]\n",
    "\n",
    "square_list = [val**2 for val in my_list]\n",
    "print(\"squared list \",square_list)\n",
    "\n",
    "# didn't replace the element of same list, instead make a new list"
   ]
  },
  {
   "cell_type": "markdown",
   "id": "93533153-92d7-4b7e-ac58-b3360c1d206d",
   "metadata": {},
   "source": [
    "37. Convert a list to a dictionary where list elements become keys and their\n",
    "indices become values."
   ]
  },
  {
   "cell_type": "code",
   "execution_count": 6,
   "id": "28506ce8-4020-4f7c-9eb2-407b2e9ff598",
   "metadata": {},
   "outputs": [
    {
     "name": "stdout",
     "output_type": "stream",
     "text": [
      "dictionary with elements as key and indices as values:  {1: 0, 2: 1, 3: 2, 4: 3, 5: 4, 6: 5, 7: 6, 8: 7, 9: 8}\n"
     ]
    }
   ],
   "source": [
    "my_list=[1, 2, 3, 4, 5, 6, 7, 8, 9]\n",
    "d = {}\n",
    "\n",
    "for i in range(0,len(my_list)):\n",
    "    d[my_list[i]]=i\n",
    "    \n",
    "print(\"dictionary with elements as key and indices as values: \",d)"
   ]
  },
  {
   "cell_type": "markdown",
   "id": "cc928660-e1e6-4de3-80bf-0c6b56a65fad",
   "metadata": {},
   "source": [
    "38. Shuffle the elements of a list randomly."
   ]
  },
  {
   "cell_type": "code",
   "execution_count": 7,
   "id": "60b45fe1-319c-4ce8-a3b3-4683b6d57670",
   "metadata": {},
   "outputs": [
    {
     "name": "stdout",
     "output_type": "stream",
     "text": [
      "Shuffled list: [4, 1, 8, 2, 9, 7, 5, 3, 6]\n"
     ]
    }
   ],
   "source": [
    "import random\n",
    "\n",
    "my_list = [1, 2, 3, 4, 5, 6, 7, 8, 9]\n",
    "\n",
    "random.shuffle(my_list)\n",
    "\n",
    "# Printing the shuffled list\n",
    "print(\"Shuffled list:\", my_list)"
   ]
  },
  {
   "cell_type": "markdown",
   "id": "6ddcf913-873f-4f22-baac-73a6861d26f2",
   "metadata": {},
   "source": [
    "39. Create a list of the first 10 factorial numbers."
   ]
  },
  {
   "cell_type": "code",
   "execution_count": 10,
   "id": "2e6abbc5-bf1b-47b1-8c37-55db9c5c6693",
   "metadata": {},
   "outputs": [],
   "source": [
    "def fact(n):\n",
    "    if n==0 or n ==1:\n",
    "        return 1\n",
    "    else:\n",
    "        return n*fact(n-1)"
   ]
  },
  {
   "cell_type": "code",
   "execution_count": 13,
   "id": "69e3dad7-b86c-41b1-a3d9-665ab2dfcf0c",
   "metadata": {},
   "outputs": [
    {
     "name": "stdout",
     "output_type": "stream",
     "text": [
      "List of the first 10 factorial numbers: [1, 2, 6, 24, 120, 720, 5040, 40320, 362880, 3628800]\n"
     ]
    }
   ],
   "source": [
    "result = [fact(i) for i in range(1,11)]\n",
    "print(\"List of the first 10 factorial numbers:\",result)"
   ]
  },
  {
   "cell_type": "markdown",
   "id": "ab8b5768-e002-4057-98f0-d73f0cda8340",
   "metadata": {},
   "source": [
    "40. Check if two lists have at least one element in common."
   ]
  },
  {
   "cell_type": "code",
   "execution_count": 14,
   "id": "5a7e6687-8a59-40e9-ad28-83f219d169d9",
   "metadata": {},
   "outputs": [],
   "source": [
    "def check(l1,l2):\n",
    "    for x in l1:\n",
    "        for y in l2:\n",
    "            if x ==y:\n",
    "                return True\n",
    "    return False"
   ]
  },
  {
   "cell_type": "code",
   "execution_count": 15,
   "id": "786c4de9-e623-43a8-a5f4-10d81a955fe9",
   "metadata": {},
   "outputs": [
    {
     "name": "stdout",
     "output_type": "stream",
     "text": [
      "atleast one element is common\n"
     ]
    }
   ],
   "source": [
    "list1 = [1, 2, 3, 4, 5]\n",
    "list2 = [4, 5, 6, 7, 8]\n",
    "\n",
    "if check(list1,list2):\n",
    "    print(\"atleast one element is common\")\n",
    "else:\n",
    "    print(\"there is no common element\")"
   ]
  },
  {
   "cell_type": "markdown",
   "id": "7b660ff0-3107-477a-a502-f61aff7c537e",
   "metadata": {},
   "source": [
    "41. Remove all elements from a list."
   ]
  },
  {
   "cell_type": "code",
   "execution_count": 17,
   "id": "0c87bf55-3db5-4b58-af10-7db803423c56",
   "metadata": {},
   "outputs": [
    {
     "data": {
      "text/plain": [
       "[]"
      ]
     },
     "execution_count": 17,
     "metadata": {},
     "output_type": "execute_result"
    }
   ],
   "source": [
    "list1 = [1, 2, 3, 4, 5]\n",
    "\n",
    "list1.clear()\n",
    "list1"
   ]
  },
  {
   "cell_type": "markdown",
   "id": "4f1a5af1-1a6b-433a-b409-33feab824adb",
   "metadata": {},
   "source": [
    "42. Replace negative numbers in a list with 0."
   ]
  },
  {
   "cell_type": "code",
   "execution_count": 20,
   "id": "ffd6115a-7785-4f20-9512-f446be1e06f2",
   "metadata": {},
   "outputs": [
    {
     "data": {
      "text/plain": [
       "[1, 2, 3, 0, 0, 20, 40, 0]"
      ]
     },
     "execution_count": 20,
     "metadata": {},
     "output_type": "execute_result"
    }
   ],
   "source": [
    "my_list = [1,2,3,-1,-5,20,40,-50]\n",
    "\n",
    "for i in range(len(my_list)):\n",
    "    if my_list[i]<0:\n",
    "        my_list[i]=0\n",
    "my_list"
   ]
  },
  {
   "cell_type": "markdown",
   "id": "28d74eb3-322a-4746-acd8-e71efe4cd073",
   "metadata": {},
   "source": [
    "43. Convert a string into a list of words."
   ]
  },
  {
   "cell_type": "code",
   "execution_count": 22,
   "id": "3c6c397c-dd43-473d-9d24-18b98301acbd",
   "metadata": {},
   "outputs": [
    {
     "name": "stdout",
     "output_type": "stream",
     "text": [
      "['hello', 'world,', 'how', 'are', 'you?']\n"
     ]
    }
   ],
   "source": [
    "str1 = \"hello world, how are you?\"\n",
    "\n",
    "res = str1.split()\n",
    "\n",
    "print(res)"
   ]
  },
  {
   "cell_type": "markdown",
   "id": "2a0c20e9-3ecf-485c-9774-7831dc5d6326",
   "metadata": {},
   "source": [
    "44. Convert a list of words into a string."
   ]
  },
  {
   "cell_type": "code",
   "execution_count": 25,
   "id": "5fb030bb-8382-4324-849b-e4c192f43447",
   "metadata": {},
   "outputs": [
    {
     "name": "stdout",
     "output_type": "stream",
     "text": [
      "hello world, how are you?\n"
     ]
    }
   ],
   "source": [
    "out = ' '.join(res)\n",
    "print(out)"
   ]
  },
  {
   "cell_type": "markdown",
   "id": "7964eb0f-8dba-4fc6-84ce-9ae7a8103492",
   "metadata": {},
   "source": [
    "45. Create a list of the first `n` powers of 2."
   ]
  },
  {
   "cell_type": "code",
   "execution_count": 28,
   "id": "2066ec58-ab46-4244-ae46-732096df3961",
   "metadata": {},
   "outputs": [
    {
     "name": "stdout",
     "output_type": "stream",
     "text": [
      "first 6 power of list [1, 2, 4, 8, 16, 32]\n"
     ]
    }
   ],
   "source": [
    "n = 6\n",
    "power_list = [2**i for i in range(n)]\n",
    "\n",
    "print(f\"first {n} power of list\",power_list)"
   ]
  },
  {
   "cell_type": "markdown",
   "id": "0195a3c9-b9d2-44f7-b040-42a9640e943c",
   "metadata": {},
   "source": [
    "\n",
    "46. Find the longest string in a list of strings."
   ]
  },
  {
   "cell_type": "code",
   "execution_count": 29,
   "id": "0bd9b32b-deed-4ca0-9d56-49d774a471da",
   "metadata": {},
   "outputs": [],
   "source": [
    "count = 0\n",
    "res = \"\"\n",
    "my_list= [\"world\",\"car\",\"aeroplane\",\"ship\"]\n",
    "for val in my_list:\n",
    "    if len(val)>count:\n",
    "        res = val\n",
    "        count = len(val)\n"
   ]
  },
  {
   "cell_type": "code",
   "execution_count": 31,
   "id": "383755e5-ce83-42f9-8675-5c901b4e07ac",
   "metadata": {},
   "outputs": [
    {
     "name": "stdout",
     "output_type": "stream",
     "text": [
      "the longest string is 'aeroplane' with length 9 \n"
     ]
    }
   ],
   "source": [
    "print(\"the longest string is '{}' with length {} \".format(res,count))"
   ]
  },
  {
   "cell_type": "markdown",
   "id": "22c59fc4-6b10-4d35-b2f9-e6cb56b69e88",
   "metadata": {},
   "source": [
    "47. Find the shortest string in a list of strings."
   ]
  },
  {
   "cell_type": "code",
   "execution_count": 32,
   "id": "341fb516-c297-422d-9a0d-388402857144",
   "metadata": {},
   "outputs": [
    {
     "name": "stdout",
     "output_type": "stream",
     "text": [
      "the shortest string is 'car' with length 3 \n"
     ]
    }
   ],
   "source": [
    "count = float('inf')\n",
    "res = \"\"\n",
    "my_list= [\"world\",\"car\",\"aeroplane\",\"ship\"]\n",
    "for val in my_list:\n",
    "    if len(val)<count:\n",
    "        res = val\n",
    "        count = len(val)\n",
    "\n",
    "print(\"the shortest string is '{}' with length {} \".format(res,count))"
   ]
  },
  {
   "cell_type": "markdown",
   "id": "ed111797-e4c4-4852-a265-2dd8d50c2157",
   "metadata": {},
   "source": [
    "48. Create a list of the first `n` triangular numbers."
   ]
  },
  {
   "cell_type": "code",
   "execution_count": 33,
   "id": "5488cab4-4d30-41b8-8f6c-14b1844970dd",
   "metadata": {},
   "outputs": [
    {
     "data": {
      "text/plain": [
       "[1, 3, 6, 10, 15, 21]"
      ]
     },
     "execution_count": 33,
     "metadata": {},
     "output_type": "execute_result"
    }
   ],
   "source": [
    "n = 6\n",
    "\n",
    "triangular_list= [i * (i + 1) // 2 for i in range(1, n + 1)]\n",
    "triangular_list"
   ]
  },
  {
   "cell_type": "markdown",
   "id": "f4df063a-14f5-42dd-8331-7f232d9546cb",
   "metadata": {},
   "source": [
    "49. Check if a list contains another list as a subsequence."
   ]
  },
  {
   "cell_type": "code",
   "execution_count": 5,
   "id": "a484ce6a-4720-48e1-88f9-55364dd30520",
   "metadata": {},
   "outputs": [],
   "source": [
    "my_list = [1, 2, 3, 4, 5, 6, 7, 8, 9, 10]\n",
    "sub_list = [3, 5, 8]\n",
    "\n",
    "def check(l1,l2):\n",
    "    index = 0  \n",
    "    for element in l1:\n",
    "        if element == l2[index]:\n",
    "            index += 1\n",
    "            if index == len(l2):\n",
    "                return True\n",
    "    return False\n"
   ]
  },
  {
   "cell_type": "code",
   "execution_count": 6,
   "id": "9355a47b-4d2a-4051-845b-ebcaff514a4c",
   "metadata": {},
   "outputs": [
    {
     "data": {
      "text/plain": [
       "True"
      ]
     },
     "execution_count": 6,
     "metadata": {},
     "output_type": "execute_result"
    }
   ],
   "source": [
    "check(my_list,sub_list)"
   ]
  },
  {
   "cell_type": "markdown",
   "id": "d7bf2c02-6de1-4550-871e-f2add0fb1863",
   "metadata": {},
   "source": [
    "50. Swap two elements in a list by their indices."
   ]
  },
  {
   "cell_type": "code",
   "execution_count": 7,
   "id": "135b9294-73cc-4357-b0c8-af9594446d78",
   "metadata": {},
   "outputs": [],
   "source": [
    "my_list = [1, 2, 3, 4, 5]\n",
    "\n",
    "index1 = 1\n",
    "index2 = 3\n",
    "\n",
    "# assuming indices are less than the length of list\n",
    "\n",
    "my_list[index1],my_list[index2] = my_list[index2],my_list[index1]"
   ]
  },
  {
   "cell_type": "code",
   "execution_count": 9,
   "id": "e9f1d887-0ff9-4255-8917-7535fed13273",
   "metadata": {},
   "outputs": [
    {
     "name": "stdout",
     "output_type": "stream",
     "text": [
      "list after swapping : [1, 4, 3, 2, 5]\n"
     ]
    }
   ],
   "source": [
    "print(\"list after swapping :\",my_list)"
   ]
  },
  {
   "cell_type": "markdown",
   "id": "4eb0460c-68df-4e92-98a0-38f1f5c696f9",
   "metadata": {},
   "source": [
    "# ==================================================================================================================\n",
    "# Tuple Based Practice Problem :\n",
    "# =================================================================================================================="
   ]
  },
  {
   "cell_type": "markdown",
   "id": "4326f81e-953a-44e8-b273-f7620332d0ea",
   "metadata": {},
   "source": [
    "1. Create a tuple with integers from 1 to 5."
   ]
  },
  {
   "cell_type": "code",
   "execution_count": 5,
   "id": "c07e6445-b3ea-4cad-9414-47fcffcb4bb0",
   "metadata": {},
   "outputs": [
    {
     "name": "stdout",
     "output_type": "stream",
     "text": [
      "(1, 2, 3, 4, 5)\n"
     ]
    }
   ],
   "source": [
    "l =[]\n",
    "for i in range(1,6):\n",
    "    l.append(i)\n",
    "\n",
    "tup = tuple(l)\n",
    "print(tup)"
   ]
  },
  {
   "cell_type": "markdown",
   "id": "7255a3b8-ccbc-48f5-956f-11a534b4efd3",
   "metadata": {},
   "source": [
    "2. Access the third element of a tuple."
   ]
  },
  {
   "cell_type": "code",
   "execution_count": 6,
   "id": "ad8ca694-877e-4585-a5e7-b78e24658cee",
   "metadata": {},
   "outputs": [
    {
     "name": "stdout",
     "output_type": "stream",
     "text": [
      "3\n"
     ]
    }
   ],
   "source": [
    "tup = (1, 2, 3, 4, 5)\n",
    "\n",
    "print(tup[2])"
   ]
  },
  {
   "cell_type": "markdown",
   "id": "7506f95c-ac21-4a9a-a1ce-9eb649d0e421",
   "metadata": {},
   "source": [
    "3. Find the length of a tuple without using the `len()` function."
   ]
  },
  {
   "cell_type": "code",
   "execution_count": 11,
   "id": "4ce0e999-d2b5-47e8-a698-87453da853d3",
   "metadata": {},
   "outputs": [
    {
     "name": "stdout",
     "output_type": "stream",
     "text": [
      "5\n"
     ]
    }
   ],
   "source": [
    "count =0\n",
    "tup = (1, 2, 3, 4, 5)\n",
    "\n",
    "for _ in range(len(tup)):\n",
    "    count+=1\n",
    "    \n",
    "print(count)"
   ]
  },
  {
   "cell_type": "markdown",
   "id": "646cdcac-7061-4bf5-a04b-2a71527a20f8",
   "metadata": {},
   "source": [
    "4. Count the occurrences of an element in a tuple."
   ]
  },
  {
   "cell_type": "code",
   "execution_count": 13,
   "id": "8efba4b6-67ac-4913-8916-0894e704646a",
   "metadata": {},
   "outputs": [
    {
     "name": "stdout",
     "output_type": "stream",
     "text": [
      "4\n"
     ]
    }
   ],
   "source": [
    "tup = (1,2,3,4,5,2,6,7,2,2,)\n",
    "element = 2\n",
    "count =0\n",
    "for val in tup:\n",
    "    if val ==element:\n",
    "        count+=1\n",
    "        \n",
    "print(count)"
   ]
  },
  {
   "cell_type": "markdown",
   "id": "43c0e499-d18b-4690-836d-61edc15546e0",
   "metadata": {},
   "source": [
    "5. Find the index of the first occurrence of an element in a tuple"
   ]
  },
  {
   "cell_type": "code",
   "execution_count": 14,
   "id": "d6f2c38f-e105-439d-abaf-81bc334a3cf2",
   "metadata": {},
   "outputs": [
    {
     "name": "stdout",
     "output_type": "stream",
     "text": [
      "1\n"
     ]
    }
   ],
   "source": [
    "tup = (1,2,3,4,5,2,6,7,2,2,8)\n",
    "print(tup.index(2))"
   ]
  },
  {
   "cell_type": "markdown",
   "id": "2d5490c4-eff4-428e-9f15-f7ad756559fa",
   "metadata": {},
   "source": [
    "6. Check if an element exists in a tuple"
   ]
  },
  {
   "cell_type": "code",
   "execution_count": 16,
   "id": "1a84ec09-512d-4c23-84f1-ae6630fa94fb",
   "metadata": {},
   "outputs": [
    {
     "name": "stdout",
     "output_type": "stream",
     "text": [
      "yes it exist\n"
     ]
    }
   ],
   "source": [
    "tup = (1,2,3,4,5,2,6,7,2,2,8)\n",
    "element = 4\n",
    "\n",
    "if val in tup:\n",
    "    print(\"yes it exist\")\n",
    "else:\n",
    "     print(\"NO it doens't exist\")"
   ]
  },
  {
   "cell_type": "markdown",
   "id": "73ebe3c7-1182-42ab-aca8-00ffce384326",
   "metadata": {},
   "source": [
    "7. Convert a tuple to a list."
   ]
  },
  {
   "cell_type": "code",
   "execution_count": 19,
   "id": "60c112d6-7858-44d5-b719-0267d28167fe",
   "metadata": {},
   "outputs": [
    {
     "name": "stdout",
     "output_type": "stream",
     "text": [
      "[1, 2, 3, 4, 5, 2, 6, 7, 2, 2, 8]\n"
     ]
    }
   ],
   "source": [
    "tup = (1,2,3,4,5,2,6,7,2,2,8)\n",
    "l = list(tup)\n",
    "print(l)"
   ]
  },
  {
   "cell_type": "markdown",
   "id": "9c9abfc1-8fcb-4d37-989d-41cca89a2491",
   "metadata": {},
   "source": [
    "8. Convert a list to a tuple."
   ]
  },
  {
   "cell_type": "code",
   "execution_count": 20,
   "id": "04f0ebe1-9dcb-4b7c-a884-376224cbd3d2",
   "metadata": {},
   "outputs": [
    {
     "name": "stdout",
     "output_type": "stream",
     "text": [
      "(1, 2, 3, 4, 5)\n"
     ]
    }
   ],
   "source": [
    "l = [1,2,3,4,5]\n",
    "tup = tuple(l)\n",
    "print(tup)"
   ]
  },
  {
   "cell_type": "markdown",
   "id": "cd12e6f6-d076-424b-8030-62a6bab7bf7b",
   "metadata": {},
   "source": [
    "9. Unpack the elements of a tuple into variables."
   ]
  },
  {
   "cell_type": "code",
   "execution_count": 25,
   "id": "560d60d0-bc2a-48a7-a607-7fe22bc3e7cb",
   "metadata": {},
   "outputs": [
    {
     "name": "stdout",
     "output_type": "stream",
     "text": [
      "value of var1 is: 10\n",
      "value of var2 is: 20\n",
      "value of var3 is: 30\n",
      "value of var4 is: 40\n"
     ]
    }
   ],
   "source": [
    "my_tuple = (10, 20, 30,40)\n",
    "\n",
    "var1,var2,var3,var4 = my_tuple\n",
    "    \n",
    "print(\"value of var1 is:\",var1)\n",
    "print(\"value of var2 is:\",var2)\n",
    "print(\"value of var3 is:\",var3)\n",
    "print(\"value of var4 is:\",var4)"
   ]
  },
  {
   "cell_type": "markdown",
   "id": "9960ee2b-a551-4baf-8e50-797aa73e5aff",
   "metadata": {},
   "source": [
    "10. Create a tuple of even numbers from 1 to 10."
   ]
  },
  {
   "cell_type": "code",
   "execution_count": 27,
   "id": "2a8715dc-c9b4-4346-a66c-6df491517d7b",
   "metadata": {},
   "outputs": [
    {
     "name": "stdout",
     "output_type": "stream",
     "text": [
      "(2, 4, 6, 8, 10)\n"
     ]
    }
   ],
   "source": [
    "l = [x for x in range(2,11,2)]\n",
    "tup = tuple(l)\n",
    "print(tup)"
   ]
  },
  {
   "cell_type": "markdown",
   "id": "7c63ae61-97b9-4b03-85da-409e175fd852",
   "metadata": {},
   "source": [
    "11. Create a tuple of odd numbers from 1 to 10."
   ]
  },
  {
   "cell_type": "code",
   "execution_count": 28,
   "id": "faf5ed5c-a1d4-4bc4-8d4d-75d9083ad846",
   "metadata": {},
   "outputs": [
    {
     "name": "stdout",
     "output_type": "stream",
     "text": [
      "(1, 3, 5, 7, 9)\n"
     ]
    }
   ],
   "source": [
    "l = [x for x in range(1,10,2)]\n",
    "tup = tuple(l)\n",
    "print(tup)"
   ]
  },
  {
   "cell_type": "markdown",
   "id": "145bef2a-50a6-43a8-a305-09d4e8fdfaf7",
   "metadata": {},
   "source": [
    "12. Concatenate two tuples."
   ]
  },
  {
   "cell_type": "code",
   "execution_count": 32,
   "id": "8356e908-aeff-42bf-9728-9d6d85add79e",
   "metadata": {},
   "outputs": [
    {
     "name": "stdout",
     "output_type": "stream",
     "text": [
      "Concatenated tuple: (1, 2, 3, 4, 5, 6)\n"
     ]
    }
   ],
   "source": [
    "tuple1 = (1, 2, 3)\n",
    "tuple2 = (4, 5, 6)\n",
    "\n",
    "con_tuple = tuple1 + tuple2\n",
    "\n",
    "print(\"Concatenated tuple:\", con_tuple)"
   ]
  },
  {
   "cell_type": "markdown",
   "id": "7447483f-7203-4c90-882c-51bb8759fe3e",
   "metadata": {},
   "source": [
    "13. Repeat a tuple three times."
   ]
  },
  {
   "cell_type": "code",
   "execution_count": 33,
   "id": "16fd9b5a-906c-40a4-8f84-95e2052b84b8",
   "metadata": {},
   "outputs": [
    {
     "name": "stdout",
     "output_type": "stream",
     "text": [
      "(1, 2, 3, 1, 2, 3, 1, 2, 3)\n"
     ]
    }
   ],
   "source": [
    "tup = (1,2,3)\n",
    "\n",
    "print(tup*3)"
   ]
  },
  {
   "cell_type": "markdown",
   "id": "729151ac-b389-4dbf-8899-a259e9c0fc41",
   "metadata": {},
   "source": [
    "14. Check if a tuple is empty."
   ]
  },
  {
   "cell_type": "code",
   "execution_count": 37,
   "id": "6418735a-64f4-43d8-8d95-d33455f281c6",
   "metadata": {},
   "outputs": [
    {
     "name": "stdout",
     "output_type": "stream",
     "text": [
      "not empty tuple\n"
     ]
    }
   ],
   "source": [
    "tup = (1,2,3)\n",
    "# tup =()\n",
    "if len(tup)>0:\n",
    "    print(\"not empty tuple\")\n",
    "else:\n",
    "    print(\"empty tuple\")"
   ]
  },
  {
   "cell_type": "markdown",
   "id": "1f643fb5-74bb-4d9f-902d-45d987522205",
   "metadata": {},
   "source": [
    "15. Create a nested tuple."
   ]
  },
  {
   "cell_type": "code",
   "execution_count": 38,
   "id": "38c74b8b-b5a0-4977-8732-4c8f591d6389",
   "metadata": {},
   "outputs": [
    {
     "name": "stdout",
     "output_type": "stream",
     "text": [
      "Nested tuple: ((1, 2, 3), ('a', 'b', 'c'), (True, False))\n"
     ]
    }
   ],
   "source": [
    "nested_tuple = ((1, 2, 3), ('a', 'b', 'c'), (True, False))\n",
    "\n",
    "print(\"Nested tuple:\", nested_tuple)"
   ]
  },
  {
   "cell_type": "markdown",
   "id": "e821e5cd-beb6-4503-af92-6be13ad38af8",
   "metadata": {},
   "source": [
    "16. Access the first element of a nested tuple."
   ]
  },
  {
   "cell_type": "code",
   "execution_count": 1,
   "id": "71a1b3b8-c654-4db1-8b75-3a0f00e24473",
   "metadata": {},
   "outputs": [
    {
     "name": "stdout",
     "output_type": "stream",
     "text": [
      "(1, 2, 3)\n"
     ]
    }
   ],
   "source": [
    "nested_tuple = ((1, 2, 3), ('a', 'b', 'c'), (True, False))\n",
    "\n",
    "print(nested_tuple[0])"
   ]
  },
  {
   "cell_type": "markdown",
   "id": "11335066-f97d-46a2-8da1-a7a4b0830221",
   "metadata": {},
   "source": [
    "17. Create a tuple with a single element."
   ]
  },
  {
   "cell_type": "code",
   "execution_count": 3,
   "id": "3e792bef-7293-4743-b94a-b5bbb2fcae61",
   "metadata": {},
   "outputs": [
    {
     "data": {
      "text/plain": [
       "(21,)"
      ]
     },
     "execution_count": 3,
     "metadata": {},
     "output_type": "execute_result"
    }
   ],
   "source": [
    "single_tup = (21,)\n",
    "single_tup"
   ]
  },
  {
   "cell_type": "markdown",
   "id": "dfa5a9ce-99ad-4920-a074-ec5d1409e589",
   "metadata": {},
   "source": [
    "18. Compare two tuples."
   ]
  },
  {
   "cell_type": "code",
   "execution_count": 4,
   "id": "09d580d2-813f-4f30-8f7d-c6774a03aec0",
   "metadata": {},
   "outputs": [
    {
     "name": "stdout",
     "output_type": "stream",
     "text": [
      "tuple1 != tuple2: True\n",
      "tuple1 < tuple2: True\n",
      "tuple1 <= tuple2: True\n"
     ]
    }
   ],
   "source": [
    "tuple1 = (1,2,3)\n",
    "tuple2 = (2,3,4)\n",
    " \n",
    "if tuple1 ==tuple2: print(\"tuple1 == tuple2:\", tuple1 == tuple2)  \n",
    "if tuple1!= tuple2: print(\"tuple1 != tuple2:\", tuple1 != tuple2)  \n",
    "if tuple1<  tuple2: print(\"tuple1 < tuple2:\", tuple1 < tuple2)    \n",
    "if tuple1<= tuple2: print(\"tuple1 <= tuple2:\", tuple1 <= tuple2)  \n",
    "if tuple1 > tuple2: print(\"tuple1 > tuple2:\", tuple1 > tuple2)   \n",
    "if tuple1 >=tuple2: print(\"tuple1 >= tuple2:\", tuple1 >= tuple2) "
   ]
  },
  {
   "cell_type": "markdown",
   "id": "8a3b4134-5be8-4467-8285-d5e5c4ac7446",
   "metadata": {},
   "source": [
    "19. Delete a tuple."
   ]
  },
  {
   "cell_type": "code",
   "execution_count": 9,
   "id": "90a7eeec-5946-4e6d-8d57-4d481d193f5a",
   "metadata": {},
   "outputs": [
    {
     "ename": "NameError",
     "evalue": "name 'tuple1' is not defined",
     "output_type": "error",
     "traceback": [
      "\u001b[0;31m---------------------------------------------------------------------------\u001b[0m",
      "\u001b[0;31mNameError\u001b[0m                                 Traceback (most recent call last)",
      "Cell \u001b[0;32mIn[9], line 5\u001b[0m\n\u001b[1;32m      1\u001b[0m tuple1 \u001b[38;5;241m=\u001b[39m (\u001b[38;5;241m1\u001b[39m,\u001b[38;5;241m2\u001b[39m,\u001b[38;5;241m3\u001b[39m)\n\u001b[1;32m      3\u001b[0m \u001b[38;5;28;01mdel\u001b[39;00m (tuple1)\n\u001b[0;32m----> 5\u001b[0m \u001b[38;5;28mprint\u001b[39m(\u001b[43mtuple1\u001b[49m)\n",
      "\u001b[0;31mNameError\u001b[0m: name 'tuple1' is not defined"
     ]
    }
   ],
   "source": [
    "tuple1 = (1,2,3)\n",
    "\n",
    "del (tuple1)\n",
    "\n",
    "print(tuple1)"
   ]
  },
  {
   "cell_type": "markdown",
   "id": "b0aa44d3-1c03-4083-93ee-912a6aa400b3",
   "metadata": {},
   "source": [
    "20. Slice a tuple."
   ]
  },
  {
   "cell_type": "code",
   "execution_count": 10,
   "id": "9f769bf4-9931-4c8c-a752-507826a3b156",
   "metadata": {},
   "outputs": [],
   "source": [
    "my_tuple = (1, 2, 3, 4, 5, 6, 7, 8, 9, 10)\n",
    "\n",
    "slice_tup =my_tuple[2:6]"
   ]
  },
  {
   "cell_type": "code",
   "execution_count": 11,
   "id": "313f3dd0-a968-4717-8e17-19b76fb4c90b",
   "metadata": {},
   "outputs": [
    {
     "data": {
      "text/plain": [
       "(3, 4, 5, 6)"
      ]
     },
     "execution_count": 11,
     "metadata": {},
     "output_type": "execute_result"
    }
   ],
   "source": [
    "slice_tup"
   ]
  },
  {
   "cell_type": "markdown",
   "id": "d8dfbc12-5b53-444a-bbe2-ef93f823d665",
   "metadata": {},
   "source": [
    "21. Find the maximum value in a tuple."
   ]
  },
  {
   "cell_type": "code",
   "execution_count": 12,
   "id": "c7d9dbe7-f31e-4b5e-a893-3071ebd3463d",
   "metadata": {},
   "outputs": [
    {
     "name": "stdout",
     "output_type": "stream",
     "text": [
      "10\n"
     ]
    }
   ],
   "source": [
    "my_tuple = (1, 2, 3, 4, 5, 6, 7, 8, 9, 10)\n",
    "\n",
    "print(max(my_tuple))"
   ]
  },
  {
   "cell_type": "markdown",
   "id": "5c74bf06-e209-4a47-b225-ad8444d401d3",
   "metadata": {},
   "source": [
    "22. Find the minimum value in a tuple."
   ]
  },
  {
   "cell_type": "code",
   "execution_count": 13,
   "id": "c49627e6-b77d-44c1-bef2-e9ac7ec9d980",
   "metadata": {},
   "outputs": [
    {
     "name": "stdout",
     "output_type": "stream",
     "text": [
      "1\n"
     ]
    }
   ],
   "source": [
    "my_tuple = (1, 2, 3, 4, 5, 6, 7, 8, 9, 10)\n",
    "\n",
    "print(min(my_tuple))"
   ]
  },
  {
   "cell_type": "markdown",
   "id": "27690e76-e7e8-4ef5-88c0-d4772c6b0c68",
   "metadata": {},
   "source": [
    "23. Convert a string to a tuple of characters."
   ]
  },
  {
   "cell_type": "code",
   "execution_count": 17,
   "id": "505edccc-84b9-48e1-9cfd-d07c5194a817",
   "metadata": {},
   "outputs": [],
   "source": [
    "str1 = \"Hello World\"\n",
    "    \n",
    "tup = tuple(str1)"
   ]
  },
  {
   "cell_type": "code",
   "execution_count": 18,
   "id": "21d98911-909f-47e9-9a1d-e84fe40127ca",
   "metadata": {},
   "outputs": [
    {
     "data": {
      "text/plain": [
       "('H', 'e', 'l', 'l', 'o', ' ', 'W', 'o', 'r', 'l', 'd')"
      ]
     },
     "execution_count": 18,
     "metadata": {},
     "output_type": "execute_result"
    }
   ],
   "source": [
    "tup"
   ]
  },
  {
   "cell_type": "markdown",
   "id": "f28aac83-f673-4127-8b59-d4ef765385d4",
   "metadata": {},
   "source": [
    "24. Convert a tuple of characters to a string."
   ]
  },
  {
   "cell_type": "code",
   "execution_count": 19,
   "id": "9d6ea9ae-7920-46c4-a146-379847c1ce05",
   "metadata": {},
   "outputs": [
    {
     "data": {
      "text/plain": [
       "'Hello World'"
      ]
     },
     "execution_count": 19,
     "metadata": {},
     "output_type": "execute_result"
    }
   ],
   "source": [
    "str_tup = \"\".join(tup)\n",
    "str_tup"
   ]
  },
  {
   "cell_type": "markdown",
   "id": "0b7dfad7-6744-43db-8261-2e4a24d54128",
   "metadata": {},
   "source": [
    "25. Create a tuple from multiple data types."
   ]
  },
  {
   "cell_type": "code",
   "execution_count": 20,
   "id": "b013457c-7730-4920-8959-795971c03d50",
   "metadata": {},
   "outputs": [
    {
     "name": "stdout",
     "output_type": "stream",
     "text": [
      "(1, 'hello', 2.123, True, [1, 2, 3])\n"
     ]
    }
   ],
   "source": [
    "mixed_tuple = (1, \"hello\", 2.123, True,[1,2,3])\n",
    "\n",
    "print(mixed_tuple)"
   ]
  },
  {
   "cell_type": "markdown",
   "id": "72857be1-765c-445c-83d7-bd07c2484b1a",
   "metadata": {},
   "source": [
    "26. Check if two tuples are identical."
   ]
  },
  {
   "cell_type": "code",
   "execution_count": 21,
   "id": "ffa71c5c-fde9-4c71-ae78-7f8633890c82",
   "metadata": {},
   "outputs": [
    {
     "name": "stdout",
     "output_type": "stream",
     "text": [
      "it is identical\n"
     ]
    }
   ],
   "source": [
    "tuple1 = (1, 2, 3)\n",
    "tuple2 = (1, 2, 3)\n",
    "\n",
    "if tuple1==tuple2:\n",
    "    print(\"it is identical\")\n",
    "else:\n",
    "    print(\"it is not identical\")"
   ]
  },
  {
   "cell_type": "markdown",
   "id": "5c2c472c-33c1-4ce4-8e48-d14de7346106",
   "metadata": {},
   "source": [
    "27. Sort the elements of a tuple."
   ]
  },
  {
   "cell_type": "code",
   "execution_count": 24,
   "id": "02540fba-7841-421c-ba09-d5bff7e0d76a",
   "metadata": {},
   "outputs": [
    {
     "name": "stdout",
     "output_type": "stream",
     "text": [
      "Sorted tuple: (-3, -1, 2, 5, 9)\n"
     ]
    }
   ],
   "source": [
    "my_tuple = (5, 2, 9, -1, -3)\n",
    "\n",
    "sorted_tuple = tuple(sorted(my_tuple))\n",
    "\n",
    "print(\"Sorted tuple:\", sorted_tuple)"
   ]
  },
  {
   "cell_type": "markdown",
   "id": "89833a82-09f8-44c4-bd3e-4cef6f9da72e",
   "metadata": {},
   "source": [
    "28. Convert a tuple of integers to a tuple of strings."
   ]
  },
  {
   "cell_type": "code",
   "execution_count": 26,
   "id": "3f8f3445-b567-49b2-8278-d18c879befc6",
   "metadata": {},
   "outputs": [
    {
     "name": "stdout",
     "output_type": "stream",
     "text": [
      "('1', '2', '3', '4', '5')\n"
     ]
    }
   ],
   "source": [
    "tup_int= (1,2,3,4,5)\n",
    "tup_str= tuple(str(x) for x in tup_int)\n",
    "\n",
    "print(tup_str)"
   ]
  },
  {
   "cell_type": "markdown",
   "id": "cfe02a6b-9fed-49f0-8ae1-4ea976f47f65",
   "metadata": {},
   "source": [
    "29. Convert a tuple of strings to a tuple of integers."
   ]
  },
  {
   "cell_type": "code",
   "execution_count": 2,
   "id": "62edf1e7-e8ff-4875-8782-4eeeb28f21ac",
   "metadata": {},
   "outputs": [
    {
     "name": "stdout",
     "output_type": "stream",
     "text": [
      "(1, 2, 3, 4, 5)\n"
     ]
    }
   ],
   "source": [
    "tup_str = ('1', '2', '3', '4', '5')\n",
    "\n",
    "tup_int=tuple(int(x) for x in tup_str)\n",
    "print(tup_int)"
   ]
  },
  {
   "cell_type": "markdown",
   "id": "f9f0a93a-4274-4329-bcde-6b326ba507f9",
   "metadata": {},
   "source": [
    "30. Merge two tuples."
   ]
  },
  {
   "cell_type": "code",
   "execution_count": 4,
   "id": "a81c31f4-062b-4d5c-83c7-4ff213b82212",
   "metadata": {},
   "outputs": [
    {
     "name": "stdout",
     "output_type": "stream",
     "text": [
      "(1, 2, 3, 4, 5, 6)\n"
     ]
    }
   ],
   "source": [
    "tuple1 = (1, 2, 3)\n",
    "tuple2 = (4, 5, 6)\n",
    "\n",
    "merge_tuple = tuple1+tuple2\n",
    "print(merge_tuple)"
   ]
  },
  {
   "cell_type": "markdown",
   "id": "2dea01dd-d129-4519-9779-5877137f5c52",
   "metadata": {},
   "source": [
    "31. Flatten a nested tuple."
   ]
  },
  {
   "cell_type": "code",
   "execution_count": 6,
   "id": "3e5c8d60-e960-4d4f-9da9-b20bd933816c",
   "metadata": {},
   "outputs": [
    {
     "name": "stdout",
     "output_type": "stream",
     "text": [
      "(1, 2, 3, 4, 5, 6)\n"
     ]
    }
   ],
   "source": [
    "nested_tup = ((1, 2, 3),(4, 5, 6))\n",
    "l =[]\n",
    "for val in nested_tup:\n",
    "    l.extend(val)\n",
    "\n",
    "tup = tuple(l)\n",
    "print(tup)"
   ]
  },
  {
   "cell_type": "markdown",
   "id": "2e2135cd-cc1f-488b-a565-cb73661feb3a",
   "metadata": {},
   "source": [
    "32. Create a tuple of the first 5 prime numbers."
   ]
  },
  {
   "cell_type": "code",
   "execution_count": 11,
   "id": "1b585068-dd0d-4bf7-a99d-d20e92726f3b",
   "metadata": {},
   "outputs": [
    {
     "data": {
      "text/plain": [
       "(2, 3, 5, 7, 11)"
      ]
     },
     "execution_count": 11,
     "metadata": {},
     "output_type": "execute_result"
    }
   ],
   "source": [
    "#using it direct without logic\n",
    "def is_prime(num):\n",
    "    if num <= 1:\n",
    "        return False\n",
    "    if num <= 3:\n",
    "        return True\n",
    "    if num % 2 == 0 or num % 3 == 0:\n",
    "        return False\n",
    "    i = 5\n",
    "    while i * i <= num:\n",
    "      # print(i,num)\n",
    "      if num % i == 0 or num % (i + 2) == 0:\n",
    "          return False\n",
    "      i += 6\n",
    "    return True\n",
    "\n",
    "\n",
    "# tup = (2,3,5,7,11)\n",
    "prime_numbers = [num for num in range(2,30) if is_prime(num)]\n",
    "tup = tuple(prime_numbers[:5])\n",
    "tup"
   ]
  },
  {
   "cell_type": "markdown",
   "id": "4eb44901-2fca-4de2-b300-664540c7c166",
   "metadata": {},
   "source": [
    "33. Check if a tuple is a palindrome.\n"
   ]
  },
  {
   "cell_type": "code",
   "execution_count": 13,
   "id": "7275acc3-382e-4b18-81ae-d832f848e3d2",
   "metadata": {},
   "outputs": [
    {
     "name": "stdout",
     "output_type": "stream",
     "text": [
      "yes it is pallindrome\n"
     ]
    }
   ],
   "source": [
    "tup = (1,2,3,2,1)\n",
    "\n",
    "if tup == tup[::-1]:\n",
    "    print(\"yes it is pallindrome\")\n",
    "else:\n",
    "    print(\"no it is not\")"
   ]
  },
  {
   "cell_type": "markdown",
   "id": "fd5f26eb-b2b6-4e36-b005-94f11195edac",
   "metadata": {},
   "source": [
    "34. Create a tuple of squares of numbers from 1 to 5."
   ]
  },
  {
   "cell_type": "code",
   "execution_count": 15,
   "id": "6e68f7af-19cc-474d-aaf8-40d1b5ebba14",
   "metadata": {},
   "outputs": [
    {
     "data": {
      "text/plain": [
       "(1, 4, 9, 16, 25)"
      ]
     },
     "execution_count": 15,
     "metadata": {},
     "output_type": "execute_result"
    }
   ],
   "source": [
    "tup = tuple(num**2 for num in range(1,6))\n",
    "tup"
   ]
  },
  {
   "cell_type": "markdown",
   "id": "7bc1c91b-b25b-4705-92ee-09a94f226152",
   "metadata": {},
   "source": [
    "35. Filter out all even numbers from a tuple."
   ]
  },
  {
   "cell_type": "code",
   "execution_count": 17,
   "id": "79e5801c-7c90-4adf-a6cd-5750a807600a",
   "metadata": {},
   "outputs": [
    {
     "data": {
      "text/plain": [
       "(1, 3, 5, 7, 9)"
      ]
     },
     "execution_count": 17,
     "metadata": {},
     "output_type": "execute_result"
    }
   ],
   "source": [
    "tup = (1, 2, 3, 4, 5, 6, 7, 8, 9, 10)\n",
    "\n",
    "filter_tup = tuple(x for x in tup if x%2!=0)\n",
    "filter_tup"
   ]
  },
  {
   "cell_type": "markdown",
   "id": "b953cdc5-9fc2-44b1-adde-f2251918aac9",
   "metadata": {},
   "source": [
    "36. Multiply all elements in a tuple by 2."
   ]
  },
  {
   "cell_type": "code",
   "execution_count": 18,
   "id": "9b7fe541-a9db-4564-bf5b-9c511b57d039",
   "metadata": {},
   "outputs": [
    {
     "data": {
      "text/plain": [
       "(2, 4, 6, 8, 10)"
      ]
     },
     "execution_count": 18,
     "metadata": {},
     "output_type": "execute_result"
    }
   ],
   "source": [
    "tup = (1, 2, 3, 4, 5)\n",
    "\n",
    "res_tup = tuple(x*2 for x in tup)\n",
    "res_tup"
   ]
  },
  {
   "cell_type": "markdown",
   "id": "7f6e883a-2894-414e-9517-c36d67050db2",
   "metadata": {},
   "source": [
    "37. Create a tuple of random numbers."
   ]
  },
  {
   "cell_type": "code",
   "execution_count": 19,
   "id": "d82a7a41-8d36-475c-bb44-8d812e641866",
   "metadata": {},
   "outputs": [
    {
     "data": {
      "text/plain": [
       "(81, 5, 25, 6, 19, 36, 52, 64, 79, 24)"
      ]
     },
     "execution_count": 19,
     "metadata": {},
     "output_type": "execute_result"
    }
   ],
   "source": [
    "import random\n",
    "\n",
    "random_tuple = tuple(random.randint(1, 100) for _ in range(10))\n",
    "random_tuple"
   ]
  },
  {
   "cell_type": "markdown",
   "id": "9afac93d-ee94-45c4-ac61-136026eaa7a5",
   "metadata": {},
   "source": [
    "38. Check if a tuple is sorted"
   ]
  },
  {
   "cell_type": "code",
   "execution_count": 23,
   "id": "aa6cd20f-e482-45d1-8b0c-f0057add4b3f",
   "metadata": {},
   "outputs": [
    {
     "data": {
      "text/plain": [
       "'not sorted'"
      ]
     },
     "execution_count": 23,
     "metadata": {},
     "output_type": "execute_result"
    }
   ],
   "source": [
    "tuple1 = (1, 2, 3, 4, 5,1)\n",
    "\n",
    "def check_sort(tup):\n",
    "    for i in range(len(tup)-1):\n",
    "        if tup[i]>tup[i+1]:\n",
    "            return (\"not sorted\")\n",
    "            break\n",
    "    return (\"is is sorted\")\n",
    "\n",
    "\n",
    "check_sort(tuple1)  "
   ]
  },
  {
   "cell_type": "markdown",
   "id": "681eb422-bf12-49c5-8675-ca17bc3f032e",
   "metadata": {},
   "source": [
    "39. Rotate a tuple to the left by `n` positions."
   ]
  },
  {
   "cell_type": "code",
   "execution_count": 24,
   "id": "701232d6-57d0-4be4-856f-8f8052b136e5",
   "metadata": {},
   "outputs": [],
   "source": [
    "def rotate_left(tup, n):\n",
    "    n = n % len(tup)\n",
    "    rotated_tuple = tup[n:] + tup[:n]\n",
    "    return rotated_tuple"
   ]
  },
  {
   "cell_type": "code",
   "execution_count": 25,
   "id": "2bf44d00-78e9-4ce8-81ad-597c9078859d",
   "metadata": {},
   "outputs": [
    {
     "data": {
      "text/plain": [
       "(3, 4, 5, 1, 2)"
      ]
     },
     "execution_count": 25,
     "metadata": {},
     "output_type": "execute_result"
    }
   ],
   "source": [
    "tuple1 = tuple1 = (1, 2, 3, 4, 5)\n",
    "n = 2\n",
    "rotate_left(tuple1, n)"
   ]
  },
  {
   "cell_type": "markdown",
   "id": "42fb9967-b393-4834-9d09-e8c7f4b75a90",
   "metadata": {},
   "source": [
    "40. Rotate a tuple to the right by `n` positions."
   ]
  },
  {
   "cell_type": "code",
   "execution_count": 26,
   "id": "5bdf9289-836e-4c8f-977a-ae26f1d720f4",
   "metadata": {},
   "outputs": [],
   "source": [
    "def rotate_right(tup, n):\n",
    "    n = n % len(tup)\n",
    "    rotated_tuple = tup[-n:] + tup[:-n]\n",
    "    return rotated_tuple"
   ]
  },
  {
   "cell_type": "code",
   "execution_count": 28,
   "id": "f8201850-3c88-49c6-8981-8d4986d327d2",
   "metadata": {},
   "outputs": [
    {
     "data": {
      "text/plain": [
       "(4, 5, 1, 2, 3)"
      ]
     },
     "execution_count": 28,
     "metadata": {},
     "output_type": "execute_result"
    }
   ],
   "source": [
    "tuple1 = tuple1 = (1, 2, 3, 4, 5)\n",
    "n = 2\n",
    "rotate_right(tuple1, n)"
   ]
  },
  {
   "cell_type": "markdown",
   "id": "2972502d-35bd-4160-b395-a92b93750d00",
   "metadata": {},
   "source": [
    "41. Create a tuple of the first 5 Fibonacci numbers."
   ]
  },
  {
   "cell_type": "code",
   "execution_count": 3,
   "id": "59abc71a-b16b-4765-b222-5e6f64eae8b8",
   "metadata": {},
   "outputs": [],
   "source": [
    "def fibo(n):\n",
    "    lis = [0,1]\n",
    "    while len(lis)<n:\n",
    "        num = lis[-1]+lis[-2]\n",
    "        lis.append(num)\n",
    "    return tuple(lis)"
   ]
  },
  {
   "cell_type": "code",
   "execution_count": 4,
   "id": "31641e4f-924f-4527-b170-98086fdc2bfc",
   "metadata": {},
   "outputs": [
    {
     "data": {
      "text/plain": [
       "(0, 1, 1, 2, 3)"
      ]
     },
     "execution_count": 4,
     "metadata": {},
     "output_type": "execute_result"
    }
   ],
   "source": [
    "fibo(5)"
   ]
  },
  {
   "cell_type": "markdown",
   "id": "94ab2499-817b-4228-89f0-85e87ba101df",
   "metadata": {},
   "source": [
    "42. Create a tuple from user input."
   ]
  },
  {
   "cell_type": "code",
   "execution_count": 7,
   "id": "47f91390-849c-4195-8509-cde59ae645cb",
   "metadata": {},
   "outputs": [
    {
     "name": "stdin",
     "output_type": "stream",
     "text": [
      "enter the element separated by comma :  h,e,l,l,o,,w,o,r,l,d\n"
     ]
    },
    {
     "name": "stdout",
     "output_type": "stream",
     "text": [
      "('h', 'e', 'l', 'l', 'o', '', 'w', 'o', 'r', 'l', 'd')\n"
     ]
    }
   ],
   "source": [
    "input_str = input(\"enter the element separated by comma : \")\n",
    "\n",
    "temp = input_str.split(',')\n",
    "input_tup = tuple(temp)\n",
    "print(input_tup)"
   ]
  },
  {
   "cell_type": "markdown",
   "id": "14dab4a7-eda3-4641-8da7-913d68b8e511",
   "metadata": {},
   "source": [
    "43. Swap two elements in a tuple."
   ]
  },
  {
   "cell_type": "code",
   "execution_count": 11,
   "id": "695a8def-80a4-4ccf-9526-2a57edeac526",
   "metadata": {},
   "outputs": [
    {
     "data": {
      "text/plain": [
       "(1, 3, 2, 4, 5)"
      ]
     },
     "execution_count": 11,
     "metadata": {},
     "output_type": "execute_result"
    }
   ],
   "source": [
    "my_tuple = (1, 2, 3, 4, 5)\n",
    "id1 = 1\n",
    "id2 =2\n",
    "temp =[]\n",
    "for i in range(len(my_tuple)):\n",
    "    if i ==id1:\n",
    "        temp.append(my_tuple[id2])\n",
    "    elif i == id2:\n",
    "        temp.append(my_tuple[id1])\n",
    "    else:\n",
    "        temp.append(my_tuple[i])\n",
    "\n",
    "result = tuple(temp)\n",
    "result\n",
    "\n",
    "# created tuple, checking indices , assuming less than the len of tuple\n",
    "# used empty list and iterating over the values of i for the index\n",
    "# if it is index1 , used as a pointer in tuple to add that element in list\n",
    "# generated the list with swapped elements and rest of the element as it is\n",
    "# print the tuple out of list"
   ]
  },
  {
   "cell_type": "markdown",
   "id": "975f6bf3-76de-4f09-97e0-6c6b24776ab3",
   "metadata": {},
   "source": [
    "44. Reverse the elements of a tuple."
   ]
  },
  {
   "cell_type": "code",
   "execution_count": 12,
   "id": "54186862-2971-4363-bbe6-3b2ab977e488",
   "metadata": {},
   "outputs": [
    {
     "data": {
      "text/plain": [
       "(5, 4, 3, 2, 1)"
      ]
     },
     "execution_count": 12,
     "metadata": {},
     "output_type": "execute_result"
    }
   ],
   "source": [
    "my_tuple = (1, 2, 3, 4, 5)\n",
    "reversed_tuple = my_tuple[::-1]\n",
    "\n",
    "reversed_tuple"
   ]
  },
  {
   "cell_type": "markdown",
   "id": "3fef1b55-26a8-473b-9b83-f0b175ec3216",
   "metadata": {},
   "source": [
    "45. Create a tuple of the first `n` powers of 2."
   ]
  },
  {
   "cell_type": "code",
   "execution_count": 15,
   "id": "c95f83bc-05f6-43ef-9863-850c2e6ba25f",
   "metadata": {},
   "outputs": [
    {
     "name": "stdout",
     "output_type": "stream",
     "text": [
      "tuple of 2 with power 5 is: (1, 2, 4, 8, 16)\n"
     ]
    }
   ],
   "source": [
    "n = 5\n",
    "\n",
    "tup = tuple(2**i for i in range(n))\n",
    "print(f\"tuple of 2 with power {n} is: {tup}\")"
   ]
  },
  {
   "cell_type": "markdown",
   "id": "80d42e1f-7a81-4b6a-bae4-c377dc5dfb80",
   "metadata": {},
   "source": [
    "46. Find the longest string in a tuple of strings."
   ]
  },
  {
   "cell_type": "code",
   "execution_count": 2,
   "id": "2d40af4e-e3d6-4965-9ebd-66dd80ec73c3",
   "metadata": {},
   "outputs": [
    {
     "data": {
      "text/plain": [
       "'helicopter'"
      ]
     },
     "execution_count": 2,
     "metadata": {},
     "output_type": "execute_result"
    }
   ],
   "source": [
    "tup = (\"car\",\"bike\",\"plane\",\"helicopter\")\n",
    "\n",
    "longest_string = max(tup, key=len)\n",
    "longest_string"
   ]
  },
  {
   "cell_type": "markdown",
   "id": "a8ac8ea3-663d-4c95-b71d-33d07fcdaccf",
   "metadata": {},
   "source": [
    "47. Find the shortest string in a tuple of strings."
   ]
  },
  {
   "cell_type": "code",
   "execution_count": 4,
   "id": "601887e3-a395-4206-ae3c-729385faaef7",
   "metadata": {},
   "outputs": [
    {
     "data": {
      "text/plain": [
       "'car'"
      ]
     },
     "execution_count": 4,
     "metadata": {},
     "output_type": "execute_result"
    }
   ],
   "source": [
    "tup = (\"car\",\"bike\",\"plane\",\"helicopter\",\"con\")\n",
    "\n",
    "shortest_string = min(tup, key=len)\n",
    "shortest_string"
   ]
  },
  {
   "cell_type": "markdown",
   "id": "516dc6ce-93a0-4c25-aa38-1439c49c5c71",
   "metadata": {},
   "source": [
    "48. Create a tuple of the first `n` triangular numbers."
   ]
  },
  {
   "cell_type": "code",
   "execution_count": 2,
   "id": "0f29486a-17ea-4f7e-b5cc-ba3ce24904cd",
   "metadata": {},
   "outputs": [
    {
     "name": "stdout",
     "output_type": "stream",
     "text": [
      "triangular numbers of 5 are (1, 3, 6, 10, 15)\n"
     ]
    }
   ],
   "source": [
    "n = 5\n",
    "tup = tuple((i * (i + 1)) // 2 for i in range(1, n + 1))\n",
    "print(f\"triangular numbers of {n} are {tup}\")"
   ]
  },
  {
   "cell_type": "markdown",
   "id": "75d51fe5-dfe4-4da8-9555-aa73a07436c8",
   "metadata": {},
   "source": [
    "49. Check if a tuple contains another tuple as a subsequence."
   ]
  },
  {
   "cell_type": "code",
   "execution_count": 6,
   "id": "fcb20c01-69ce-442f-bb20-963f603401ff",
   "metadata": {},
   "outputs": [],
   "source": [
    "def contains_subsequence(tup1, tup2):\n",
    "    sub_length = len(tup2)\n",
    "    for i in range(len(tup1) - len(tup2) + 1):\n",
    "        if tup1[i:i+sub_length] == tup2:\n",
    "            return True\n",
    "    return False"
   ]
  },
  {
   "cell_type": "code",
   "execution_count": 8,
   "id": "3e8f7dab-34da-4a8c-91b4-b2fb5b9174e3",
   "metadata": {},
   "outputs": [
    {
     "name": "stdout",
     "output_type": "stream",
     "text": [
      "tuple contains another tuple as a subsequence:  True\n"
     ]
    }
   ],
   "source": [
    "main_tuple = (1, 2, 3, 4, 5, 6, 7, 8, 9)\n",
    "sub_tuple = (3, 4, 5)\n",
    "\n",
    "res = contains_subsequence(main_tuple,sub_tuple)\n",
    "print(\"tuple contains another tuple as a subsequence: \",res)"
   ]
  },
  {
   "cell_type": "markdown",
   "id": "72e18c96-3a74-4977-b208-5ebedd5a58fe",
   "metadata": {},
   "source": [
    "50. Create a tuple of alternating 1s and 0s of length `n`."
   ]
  },
  {
   "cell_type": "code",
   "execution_count": 13,
   "id": "b8c6608d-518d-4c71-bb6d-d99e45e7bbd3",
   "metadata": {},
   "outputs": [
    {
     "data": {
      "text/plain": [
       "(1, 0, 1, 0, 1, 0, 1, 0, 1, 0, 1, 0, 1, 0, 1, 0, 1, 0, 1, 0)"
      ]
     },
     "execution_count": 13,
     "metadata": {},
     "output_type": "execute_result"
    }
   ],
   "source": [
    "n =20\n",
    "tup = tuple(i%2 for i in range(1,n+1))\n",
    "tup\n",
    "# started with 1 to n+1 to get the n elements starting with 1 and alternating 0 and 1"
   ]
  },
  {
   "cell_type": "markdown",
   "id": "03b6dfdd-4cba-4b93-a59e-afc2ab2df74b",
   "metadata": {},
   "source": [
    "# ======================================================================================================\n",
    "# Set Based Practice Problem :\n",
    "# ======================================================================================================"
   ]
  },
  {
   "cell_type": "markdown",
   "id": "d5f70afd-b1dd-4115-8389-2f2e7d96cd5b",
   "metadata": {},
   "source": [
    "1. Create a set with integers from 1 to 5."
   ]
  },
  {
   "cell_type": "code",
   "execution_count": 15,
   "id": "08b8b8d0-ed0a-42bf-9c13-33d3cf6a3d91",
   "metadata": {},
   "outputs": [
    {
     "data": {
      "text/plain": [
       "{1, 2, 3, 4, 5}"
      ]
     },
     "execution_count": 15,
     "metadata": {},
     "output_type": "execute_result"
    }
   ],
   "source": [
    "l=[]\n",
    "for i in range(1,6):\n",
    "    l.append(i)\n",
    "    \n",
    "set(l)"
   ]
  },
  {
   "cell_type": "markdown",
   "id": "20e4475c-ba41-4b16-852e-dcbdf55483e6",
   "metadata": {},
   "source": [
    "2. Add an element to a set."
   ]
  },
  {
   "cell_type": "code",
   "execution_count": 20,
   "id": "bfdc84db-0c11-4663-b3e2-11217bdf9c32",
   "metadata": {},
   "outputs": [
    {
     "name": "stdout",
     "output_type": "stream",
     "text": [
      "added set value:  {1, 2, 3, 4, 5, 6}\n"
     ]
    }
   ],
   "source": [
    "s = {1, 2, 3, 4, 5}\n",
    "\n",
    "s.add(6)\n",
    "print(\"added set value: \",s)"
   ]
  },
  {
   "cell_type": "markdown",
   "id": "2e40a868-c6d5-436e-a971-e39ac72cdd8e",
   "metadata": {},
   "source": [
    "2. Add an element to a set"
   ]
  },
  {
   "cell_type": "code",
   "execution_count": 21,
   "id": "2be38a34-d3a7-470d-a125-ab4025df7886",
   "metadata": {},
   "outputs": [
    {
     "data": {
      "text/plain": [
       "{1, 2, 3, 4, 5, 'str'}"
      ]
     },
     "execution_count": 21,
     "metadata": {},
     "output_type": "execute_result"
    }
   ],
   "source": [
    "s = {1, 2, 3, 4, 5}\n",
    "element = \"str\"\n",
    "s.add(element)\n",
    "s"
   ]
  },
  {
   "cell_type": "markdown",
   "id": "6b4f016a-2465-4a2f-80f0-ddcf1b0a3b9a",
   "metadata": {},
   "source": [
    "3. Remove an element from a set."
   ]
  },
  {
   "cell_type": "code",
   "execution_count": 28,
   "id": "b8c5323a-8d1f-4787-b7e4-17b2f94c2850",
   "metadata": {},
   "outputs": [
    {
     "name": "stdout",
     "output_type": "stream",
     "text": [
      "removed element 2 from set {1, 3, 4, 5}\n"
     ]
    }
   ],
   "source": [
    "my_set = {1, 2, 3, 4, 5}\n",
    "element = 2\n",
    "if element in my_set:\n",
    "    my_set.remove(element)\n",
    "    print(f\"removed element {element} from set\",my_set)\n",
    "else:\n",
    "    print(\"element is not in set\")"
   ]
  },
  {
   "cell_type": "markdown",
   "id": "3adba008-6d66-4ad8-a3dd-0f14ecaf3049",
   "metadata": {},
   "source": [
    "4. Check if an element exists in a set."
   ]
  },
  {
   "cell_type": "code",
   "execution_count": 32,
   "id": "0ed3c187-87df-4ef6-94aa-56f321f7ce2e",
   "metadata": {},
   "outputs": [
    {
     "name": "stdout",
     "output_type": "stream",
     "text": [
      "element 2 in set\n"
     ]
    }
   ],
   "source": [
    "my_set = {1, 2, 3, 4, 5}\n",
    "element = 2\n",
    "\n",
    "if element in my_set:\n",
    "    print(f\"element {element} in set\")\n",
    "else:\n",
    "    print( f\"element {element} is not in set\")"
   ]
  },
  {
   "cell_type": "markdown",
   "id": "b8561898-a315-4744-b268-6c5eb10bed2d",
   "metadata": {},
   "source": [
    "5. Find the length of a set without using the `len()` function."
   ]
  },
  {
   "cell_type": "code",
   "execution_count": 34,
   "id": "9a9f1445-df7b-4cfd-bb3e-1c8fc43487e5",
   "metadata": {},
   "outputs": [
    {
     "name": "stdout",
     "output_type": "stream",
     "text": [
      "lenght of set is 5\n"
     ]
    }
   ],
   "source": [
    "count =0\n",
    "my_set = {1, 2, 3, 4, 5}\n",
    "\n",
    "for _ in my_set:\n",
    "    count+=1\n",
    "    \n",
    "print(\"lenght of set is\",count)"
   ]
  },
  {
   "cell_type": "markdown",
   "id": "30c1080e-e774-47bd-9a30-88060e57021e",
   "metadata": {},
   "source": [
    "6. Clear all elements from a set."
   ]
  },
  {
   "cell_type": "code",
   "execution_count": 35,
   "id": "bd23ec8c-8526-4d4e-832e-957dc2eafadc",
   "metadata": {},
   "outputs": [
    {
     "name": "stdout",
     "output_type": "stream",
     "text": [
      "{1, 2, 3, 4, 5}\n",
      "set()\n"
     ]
    }
   ],
   "source": [
    "my_set = {1, 2, 3, 4, 5}\n",
    "print(my_set)\n",
    "my_set.clear()\n",
    "print(my_set)"
   ]
  },
  {
   "cell_type": "markdown",
   "id": "998f7a6c-015e-495f-8289-d09d5a3f25e4",
   "metadata": {},
   "source": [
    "7. Create a set of even numbers from 1 to 10."
   ]
  },
  {
   "cell_type": "code",
   "execution_count": 45,
   "id": "f9840a25-af1c-476b-8923-fd83a76d2add",
   "metadata": {},
   "outputs": [
    {
     "name": "stdout",
     "output_type": "stream",
     "text": [
      "<class 'set'>\n",
      "even number set:  {2, 4, 6, 8, 10}\n"
     ]
    }
   ],
   "source": [
    "even_set ={val for val in range(1,11) if val%2==0}\n",
    "print(type(even_set))\n",
    "print(\"even number set: \",even_set)"
   ]
  },
  {
   "cell_type": "markdown",
   "id": "d5bdab76-ebce-4d57-bc5e-f5a90f874541",
   "metadata": {},
   "source": [
    "8. Create a set of odd numbers from 1 to 10."
   ]
  },
  {
   "cell_type": "code",
   "execution_count": 44,
   "id": "b60bbca3-1dde-4b19-9b16-a4f3264fd0f8",
   "metadata": {},
   "outputs": [
    {
     "name": "stdout",
     "output_type": "stream",
     "text": [
      "odd number set:  {1, 3, 5, 7, 9}\n"
     ]
    }
   ],
   "source": [
    "odd_set ={val for val in range(1,11) if val%2!=0}\n",
    "print(\"odd number set: \",odd_set)"
   ]
  },
  {
   "cell_type": "markdown",
   "id": "08f75d71-0652-4659-b011-dd1119a61d68",
   "metadata": {},
   "source": [
    "9. Find the union of two sets."
   ]
  },
  {
   "cell_type": "code",
   "execution_count": 47,
   "id": "7a87954b-3224-492a-9666-d5eacf4d7eb9",
   "metadata": {},
   "outputs": [
    {
     "name": "stdout",
     "output_type": "stream",
     "text": [
      "union of set1 and set2: {1, 2, 3, 4, 5, 6, 7, 8}\n"
     ]
    }
   ],
   "source": [
    "# use of union function\n",
    "set1 = {1, 2, 3, 4, 5}\n",
    "set2 = {4, 5, 6, 7, 8}\n",
    "s = set1.union(set2)\n",
    "print(\"union of set1 and set2:\",s)"
   ]
  },
  {
   "cell_type": "markdown",
   "id": "ad7a1240-f6fb-4def-baa0-13b059d17d98",
   "metadata": {},
   "source": [
    "10. Find the intersection of two sets."
   ]
  },
  {
   "cell_type": "code",
   "execution_count": 49,
   "id": "a3ca45cb-a487-45de-8abc-fe7500862566",
   "metadata": {},
   "outputs": [
    {
     "name": "stdout",
     "output_type": "stream",
     "text": [
      "intersection of set1 and set2: {4, 5}\n"
     ]
    }
   ],
   "source": [
    "# use of intersection function\n",
    "set1 = {1, 2, 3, 4, 5}\n",
    "set2 = {4, 5, 6, 7, 8}\n",
    "s = set1.intersection(set2)\n",
    "print(\"intersection of set1 and set2:\",s)"
   ]
  },
  {
   "cell_type": "markdown",
   "id": "cf64b86b-8930-4f2f-8c3c-00284ee55337",
   "metadata": {},
   "source": [
    "11. Find the difference between two sets."
   ]
  },
  {
   "cell_type": "code",
   "execution_count": 55,
   "id": "86819d8b-d988-4169-9a2a-8e9559699547",
   "metadata": {},
   "outputs": [],
   "source": [
    "set1 = {1, 2, 3, 4, 5}\n",
    "set2 = {4, 5, 6, 7, 8}\n",
    "s1 = set1.difference(set2)\n",
    "s2 = set2.difference(set1)"
   ]
  },
  {
   "cell_type": "code",
   "execution_count": 57,
   "id": "97ba8dcd-bc1c-4cd4-b9f8-3a602afca700",
   "metadata": {},
   "outputs": [
    {
     "name": "stdout",
     "output_type": "stream",
     "text": [
      "difference in set1 from set2  {1, 2, 3}\n",
      "difference in set2 from set1  {8, 6, 7}\n"
     ]
    }
   ],
   "source": [
    "print(\"difference in set1 from set2 \",s1)\n",
    "print(\"difference in set2 from set1 \",s2)"
   ]
  },
  {
   "cell_type": "markdown",
   "id": "0497c72d-1716-4a06-b284-2763517f49f1",
   "metadata": {},
   "source": [
    "12. Check if a set is a subset of another set."
   ]
  },
  {
   "cell_type": "code",
   "execution_count": 63,
   "id": "82e07692-5ffa-4509-8c2d-dd1c684707bf",
   "metadata": {},
   "outputs": [
    {
     "name": "stdout",
     "output_type": "stream",
     "text": [
      "set1 is subset of set2:  True\n",
      "set2 is subset of set1:  False\n"
     ]
    }
   ],
   "source": [
    "set1 = {1, 2, 3}\n",
    "set2 = {1, 2, 3, 4, 5}\n",
    "\n",
    "is_subset = set1.issubset(set2)\n",
    "is_subset2 = set2.issubset(set1)\n",
    "\n",
    "print(\"set1 is subset of set2: \",is_subset )\n",
    "print(\"set2 is subset of set1: \",is_subset2 )"
   ]
  },
  {
   "cell_type": "markdown",
   "id": "c1476c95-5292-459a-b10d-e47fcf804189",
   "metadata": {},
   "source": [
    "13. Check if a set is a superset of another set."
   ]
  },
  {
   "cell_type": "code",
   "execution_count": 66,
   "id": "8951df8c-02e8-4e69-9f2c-3c6c05c2098b",
   "metadata": {},
   "outputs": [
    {
     "name": "stdout",
     "output_type": "stream",
     "text": [
      "set1 is a superset of set2\n"
     ]
    }
   ],
   "source": [
    "set1 = {1, 2, 3, 4, 5}\n",
    "set2 = {1, 2, 3}\n",
    "\n",
    "is_subset = set1.issuperset(set2)\n",
    "\n",
    "if is_subset:\n",
    "    print(\"set1 is a superset of set2\")\n",
    "else:\n",
    "    print(\"set1 is NOT a superset of set2\")\n"
   ]
  },
  {
   "cell_type": "markdown",
   "id": "b00a92a7-f64e-432e-aba5-0696a9c90c00",
   "metadata": {},
   "source": [
    "14. Create a set from a list."
   ]
  },
  {
   "cell_type": "code",
   "execution_count": 68,
   "id": "3bd45c3f-037b-4666-aba3-1eda8cb1666c",
   "metadata": {},
   "outputs": [
    {
     "name": "stdout",
     "output_type": "stream",
     "text": [
      "list: [2, 4, 1, 4, 3, 2, 5]\n",
      "set from list: {1, 2, 3, 4, 5}\n"
     ]
    }
   ],
   "source": [
    "my_list = [2, 4, 1, 4, 3, 2, 5]\n",
    "my_set = set(my_list)\n",
    "\n",
    "print(\"list:\", my_list)\n",
    "print(\"set from list:\",my_set)"
   ]
  },
  {
   "cell_type": "markdown",
   "id": "7b23bf6c-af29-4e4c-b394-4add38e3bcf2",
   "metadata": {},
   "source": [
    "15. Convert a set to a list."
   ]
  },
  {
   "cell_type": "code",
   "execution_count": 69,
   "id": "4ee34dd0-32e7-4f41-be10-53fd8cee92a2",
   "metadata": {},
   "outputs": [
    {
     "name": "stdout",
     "output_type": "stream",
     "text": [
      "Original Set: {1, 2, 5, 6, 9}\n",
      "Converted List: [1, 2, 5, 6, 9]\n"
     ]
    }
   ],
   "source": [
    "my_set = {1, 5, 9, 2, 6, 5, 5, 5, 5}\n",
    "my_list = list(my_set)\n",
    "\n",
    "print(\"Original Set:\", my_set)\n",
    "print(\"Converted List:\", my_list)"
   ]
  },
  {
   "cell_type": "markdown",
   "id": "1d88b9a8-2494-4062-9a75-56e3438615c8",
   "metadata": {},
   "source": [
    "16. Remove a random element from a set"
   ]
  },
  {
   "cell_type": "code",
   "execution_count": 70,
   "id": "03676bc6-754b-4e83-be1e-a2fd0b5516e5",
   "metadata": {},
   "outputs": [
    {
     "name": "stdout",
     "output_type": "stream",
     "text": [
      "Original set: {1, 2, 3, 4, 5}\n",
      "Updated set after removing 5 : {1, 2, 3, 4}\n"
     ]
    }
   ],
   "source": [
    "import random\n",
    "my_set = {1, 2, 3, 4, 5}\n",
    "print(\"Original set:\", my_set)\n",
    "\n",
    "random_element = random.choice(list(my_set))\n",
    "my_set.remove(random_element)\n",
    "\n",
    "print(\"Updated set after removing\", random_element, \":\", my_set)"
   ]
  },
  {
   "cell_type": "markdown",
   "id": "57800b75-1ac8-417f-ad4b-8bb57fd91fe5",
   "metadata": {},
   "source": [
    "17. Pop an element from a set."
   ]
  },
  {
   "cell_type": "code",
   "execution_count": 74,
   "id": "7591b084-cd7d-4351-b373-f564f258de36",
   "metadata": {},
   "outputs": [
    {
     "name": "stdout",
     "output_type": "stream",
     "text": [
      "{1, 2, 3, 4, 5}\n",
      "elemnent from set  1 from set  {2, 3, 4, 5}\n"
     ]
    }
   ],
   "source": [
    "my_set = {1, 2, 3, 4, 5}\n",
    "print(my_set)\n",
    "element = my_set.pop()\n",
    "print(\"elemnent from set \",element, \"from set \",my_set)"
   ]
  },
  {
   "cell_type": "markdown",
   "id": "7cf16a49-277e-4238-8eeb-42d17a7c2ddd",
   "metadata": {},
   "source": [
    "18. Check if two sets have no elements in common."
   ]
  },
  {
   "cell_type": "code",
   "execution_count": 75,
   "id": "a063a84c-18c4-4215-954d-c1ca76a44c46",
   "metadata": {},
   "outputs": [
    {
     "name": "stdout",
     "output_type": "stream",
     "text": [
      "The two sets have no elements in common.\n"
     ]
    }
   ],
   "source": [
    "set1 = {1, 2, 3, 4}\n",
    "set2 = {5, 6, 7, 8}\n",
    "\n",
    "common_elements = set1.intersection(set2)\n",
    "\n",
    "if not common_elements:\n",
    "    print(\"The two sets have no elements in common.\")\n",
    "else:\n",
    "    print(\"The two sets have common elements:\", common_elements)"
   ]
  },
  {
   "cell_type": "markdown",
   "id": "78d15cd4-8741-42b3-8824-20dd4eddbd98",
   "metadata": {},
   "source": [
    "19. Find the symmetric difference between two sets."
   ]
  },
  {
   "cell_type": "code",
   "execution_count": 77,
   "id": "ec9035ac-8489-40d1-b88e-ffa0929614ae",
   "metadata": {},
   "outputs": [
    {
     "name": "stdout",
     "output_type": "stream",
     "text": [
      "Symmetric Difference: {1, 2, 3, 6, 7, 9}\n"
     ]
    }
   ],
   "source": [
    "set1 = {1, 2, 3, 4, 5, 8}\n",
    "set2 = {4, 5, 6, 7, 8, 9}\n",
    "symmetric_difference = set1 ^ set2\n",
    "\n",
    "print(\"Symmetric Difference:\", symmetric_difference)"
   ]
  },
  {
   "cell_type": "markdown",
   "id": "06a05762-3f20-4e74-97f8-88b80d3162d1",
   "metadata": {},
   "source": [
    "20. Update a set with elements from another set."
   ]
  },
  {
   "cell_type": "code",
   "execution_count": 81,
   "id": "3d24cb56-7d03-4688-91c4-92eb44379642",
   "metadata": {},
   "outputs": [
    {
     "name": "stdout",
     "output_type": "stream",
     "text": [
      "{1, 2, 3, 4, 5, 6, 7}\n"
     ]
    }
   ],
   "source": [
    "set1 = {1, 2, 3, 4}\n",
    "set2 = {4, 5, 6, 7}\n",
    "set1.update(set2)\n",
    "print(set1)"
   ]
  },
  {
   "cell_type": "markdown",
   "id": "34f70ad4-b6b5-4cca-902c-aab2f8156f0f",
   "metadata": {},
   "source": [
    "21. Create a set of the first 5 prime numbers."
   ]
  },
  {
   "cell_type": "code",
   "execution_count": 89,
   "id": "5b36e2d0-36b6-46ba-abef-d87edb13c970",
   "metadata": {},
   "outputs": [
    {
     "name": "stdout",
     "output_type": "stream",
     "text": [
      "Set of the first 5 prime numbers: {2, 3, 5, 7, 11} \n"
     ]
    }
   ],
   "source": [
    "def is_prime(num):\n",
    "    if num <= 1:\n",
    "        return False\n",
    "    for i in range(2, int(num ** 0.5) + 1):\n",
    "        if num % i == 0:\n",
    "            return False\n",
    "    return True\n",
    "\n",
    "prime_set = set()\n",
    "num = 2\n",
    "n =5\n",
    "\n",
    "while len(prime_set) < n:\n",
    "    if is_prime(num):\n",
    "        prime_set.add(num)\n",
    "    num += 1\n",
    "\n",
    "print(f\"Set of the first {n} prime numbers: {prime_set} \")"
   ]
  },
  {
   "cell_type": "markdown",
   "id": "981dd013-54d8-4879-af29-7c1faf62b31c",
   "metadata": {},
   "source": [
    "22. Check if two sets are identical."
   ]
  },
  {
   "cell_type": "code",
   "execution_count": 91,
   "id": "01afdbc2-a990-4ffd-9d35-62f32d06643a",
   "metadata": {},
   "outputs": [
    {
     "name": "stdout",
     "output_type": "stream",
     "text": [
      "set are identical\n"
     ]
    }
   ],
   "source": [
    "set1 = {1, 2, 3, 4, 5}\n",
    "set2 = {3, 1, 5, 2, 4}\n",
    "\n",
    "if set1==set2:\n",
    "    print(\"set are identical\")\n",
    "else:\n",
    "    print(\"set are NOT identical\")"
   ]
  },
  {
   "cell_type": "markdown",
   "id": "12f12d85-0e45-466f-98c6-276f7d4a0741",
   "metadata": {},
   "source": [
    "23. Create a frozen set."
   ]
  },
  {
   "cell_type": "code",
   "execution_count": 2,
   "id": "7deda4a2-4046-40fe-9faf-c2fccbf2b82f",
   "metadata": {},
   "outputs": [
    {
     "name": "stdout",
     "output_type": "stream",
     "text": [
      "Frozen Set: frozenset({1, 2, 3, 4, 5})\n"
     ]
    }
   ],
   "source": [
    "elements = [1, 2, 3, 4, 5]\n",
    "my_frozen_set = frozenset(elements)\n",
    "\n",
    "print(\"Frozen Set:\", my_frozen_set)"
   ]
  },
  {
   "cell_type": "markdown",
   "id": "858ea7b4-8bb5-4356-af1d-3ce97f4fca8d",
   "metadata": {},
   "source": [
    "24. Check if a set is disjoint with another set."
   ]
  },
  {
   "cell_type": "code",
   "execution_count": 4,
   "id": "2855c8d1-b5a8-4e13-aea5-6d21f0b98767",
   "metadata": {},
   "outputs": [
    {
     "name": "stdout",
     "output_type": "stream",
     "text": [
      "status of disjoint set:  False\n"
     ]
    }
   ],
   "source": [
    "set1 = {1, 2, 3, 4 ,5}\n",
    "set2 = {5, 6, 7, 8}\n",
    "\n",
    "result = set1.isdisjoint(set2)\n",
    "print(\"status of disjoint set: \", result)"
   ]
  },
  {
   "cell_type": "markdown",
   "id": "ee79a32c-e6f8-4ad1-a62c-bdb4849eab0e",
   "metadata": {},
   "source": [
    "25. Create a set of squares of numbers from 1 to 5."
   ]
  },
  {
   "cell_type": "code",
   "execution_count": 6,
   "id": "78e33fb5-8b63-4200-bba1-0d640882f7c8",
   "metadata": {},
   "outputs": [
    {
     "data": {
      "text/plain": [
       "{1, 4, 9, 16, 25}"
      ]
     },
     "execution_count": 6,
     "metadata": {},
     "output_type": "execute_result"
    }
   ],
   "source": [
    "my_set = set(val**2 for val in range(1,6))\n",
    "my_set"
   ]
  },
  {
   "cell_type": "markdown",
   "id": "c39252d0-0223-4fc1-a1e8-b334c99944fe",
   "metadata": {},
   "source": [
    "26. Filter out all even numbers from a set."
   ]
  },
  {
   "cell_type": "code",
   "execution_count": 10,
   "id": "dec2de2c-3cd7-4013-8848-3c9cbfe8f65c",
   "metadata": {},
   "outputs": [
    {
     "data": {
      "text/plain": [
       "{1, 3, 5, 7, 9}"
      ]
     },
     "execution_count": 10,
     "metadata": {},
     "output_type": "execute_result"
    }
   ],
   "source": [
    "original_set = {1, 2, 3, 4, 5, 6, 7, 8, 9, 10}\n",
    "\n",
    "filter_set = set(val for val in original_set if val%2!=0)\n",
    "filter_set\n",
    "# assuming filtering out the even set and left with odd numbers"
   ]
  },
  {
   "cell_type": "markdown",
   "id": "e31ff451-8aee-4c45-bbea-f3b0453caf6a",
   "metadata": {},
   "source": [
    "27. Multiply all elements in a set by 2."
   ]
  },
  {
   "cell_type": "code",
   "execution_count": 12,
   "id": "b83c5d78-9f4c-4087-8f95-68fb0081815e",
   "metadata": {},
   "outputs": [
    {
     "data": {
      "text/plain": [
       "{2, 4, 6, 8, 10}"
      ]
     },
     "execution_count": 12,
     "metadata": {},
     "output_type": "execute_result"
    }
   ],
   "source": [
    "set1 = {1, 2, 3, 4 ,5}\n",
    "\n",
    "res_set = set(val*2 for val in set1)\n",
    "res_set"
   ]
  },
  {
   "cell_type": "markdown",
   "id": "b5b19819-cc00-4077-852e-6906a98f375b",
   "metadata": {},
   "source": [
    "28. Create a set of random numbers."
   ]
  },
  {
   "cell_type": "code",
   "execution_count": 17,
   "id": "2187b1d0-022f-4411-abe7-8ee1817a1087",
   "metadata": {},
   "outputs": [
    {
     "data": {
      "text/plain": [
       "{31, 51, 57, 81, 99}"
      ]
     },
     "execution_count": 17,
     "metadata": {},
     "output_type": "execute_result"
    }
   ],
   "source": [
    "import random\n",
    "x = random.randint(1, 100)\n",
    "random_set = set( random.randint(1, 100) for _ in range(5)  )\n",
    "random_set"
   ]
  },
  {
   "cell_type": "markdown",
   "id": "70f66a19-ea8d-483d-ab3d-5a5680e76286",
   "metadata": {},
   "source": [
    "29. Check if a set is empty."
   ]
  },
  {
   "cell_type": "code",
   "execution_count": 20,
   "id": "4ac8485f-659c-4173-917e-7fd647f6ad9e",
   "metadata": {},
   "outputs": [],
   "source": [
    "set1 = {1, 2, 3, 4 ,5}\n",
    "set2 = set()\n",
    "\n",
    "def check(s):\n",
    "    if not s:\n",
    "        return (\"set is empty\")\n",
    "    else:\n",
    "        return (\"set is non empty\")\n"
   ]
  },
  {
   "cell_type": "code",
   "execution_count": 22,
   "id": "47c99edb-5ec3-43e6-b6b3-6e42b0df6df6",
   "metadata": {},
   "outputs": [
    {
     "name": "stdout",
     "output_type": "stream",
     "text": [
      "set is non empty\n",
      "set is empty\n"
     ]
    }
   ],
   "source": [
    "print(check(set1))\n",
    "print(check(set2))"
   ]
  },
  {
   "cell_type": "markdown",
   "id": "53fc47a0-3d2e-453e-b4ce-d4ab9a5cba5d",
   "metadata": {},
   "source": [
    "30. Create a nested set (hint: use frozenset)."
   ]
  },
  {
   "cell_type": "code",
   "execution_count": 28,
   "id": "cc2b50fe-4da9-4425-bbc4-08b5aa9626fb",
   "metadata": {},
   "outputs": [],
   "source": [
    "set1 = {1,2,3}\n",
    "set2 = {3,4,5}\n",
    "\n",
    "fz_set1 = frozenset(set1)\n",
    "fz_set2 = frozenset(set2)\n",
    "\n",
    "res_set = {fz_set1,fz_set2}"
   ]
  },
  {
   "cell_type": "code",
   "execution_count": 29,
   "id": "7685fa13-58b1-485c-8da5-eb4ceef0b7c4",
   "metadata": {},
   "outputs": [
    {
     "data": {
      "text/plain": [
       "{frozenset({1, 2, 3}), frozenset({3, 4, 5})}"
      ]
     },
     "execution_count": 29,
     "metadata": {},
     "output_type": "execute_result"
    }
   ],
   "source": [
    "res_set"
   ]
  },
  {
   "cell_type": "markdown",
   "id": "dbd27ef3-8068-4dce-b02c-2647734deb85",
   "metadata": {},
   "source": [
    "31. Remove an element from a set using the discard method."
   ]
  },
  {
   "cell_type": "code",
   "execution_count": 34,
   "id": "4c07e22f-93eb-419f-90c0-0d5b89e69c74",
   "metadata": {},
   "outputs": [
    {
     "data": {
      "text/plain": [
       "{1, 2, 4, 5}"
      ]
     },
     "execution_count": 34,
     "metadata": {},
     "output_type": "execute_result"
    }
   ],
   "source": [
    "my_set = {1, 2, 3, 4, 5}\n",
    "\n",
    "element = 3\n",
    "\n",
    "my_set.discard(element)\n",
    "my_set\n",
    "# obs: no key value error thrown if the value is not there in set"
   ]
  },
  {
   "cell_type": "code",
   "execution_count": 35,
   "id": "1ae884a8-a5c4-4f29-929e-83bf27241d17",
   "metadata": {},
   "outputs": [
    {
     "data": {
      "text/plain": [
       "{1, 2, 4, 5}"
      ]
     },
     "execution_count": 35,
     "metadata": {},
     "output_type": "execute_result"
    }
   ],
   "source": [
    "element = 6\n",
    "\n",
    "my_set.discard(element)\n",
    "my_set"
   ]
  },
  {
   "cell_type": "markdown",
   "id": "e8c65431-017b-4e99-ad73-967b07124517",
   "metadata": {},
   "source": [
    "32. Compare two sets."
   ]
  },
  {
   "cell_type": "code",
   "execution_count": 39,
   "id": "9b797a46-b933-4e13-8ee4-f4f4c716a574",
   "metadata": {},
   "outputs": [],
   "source": [
    "set1 = {1, 2, 3, 4, 5}\n",
    "set2 = {4, 5, 6, 7, 8}\n",
    "\n",
    "def compare_set(s1,s2):\n",
    "    is_subset = set1.issubset(set2)\n",
    "    is_superset = set1.issuperset(set2)\n",
    "    intersection = set1.intersection(set2)\n",
    "    union = set1.union(set2)\n",
    "    difference1 = set1.difference(set2)\n",
    "    difference2 = set2.difference(set1)\n",
    "    print(\"Set 1:\", set1)\n",
    "    print(\"Set 2:\", set2)\n",
    "    print(\"Is set1 a subset of set2?\", is_subset)\n",
    "    print(\"Is set2 a subset of set1?\", is_superset)\n",
    "    print(\"Intersection:\", intersection)\n",
    "    print(\"Union:\", union)\n",
    "    print(\"Elements in set1 but not in set2:\", difference1)\n",
    "    print(\"Elements in set2 but not in set1:\", difference2)"
   ]
  },
  {
   "cell_type": "code",
   "execution_count": 40,
   "id": "cdaa8148-17e9-4a7a-b81f-924d7e576972",
   "metadata": {},
   "outputs": [
    {
     "name": "stdout",
     "output_type": "stream",
     "text": [
      "Set 1: {1, 2, 3, 4, 5}\n",
      "Set 2: {4, 5, 6, 7, 8}\n",
      "Is set1 a subset of set2? False\n",
      "Is set2 a subset of set1? False\n",
      "Intersection: {4, 5}\n",
      "Union: {1, 2, 3, 4, 5, 6, 7, 8}\n",
      "Elements in set1 but not in set2: {1, 2, 3}\n",
      "Elements in set2 but not in set1: {8, 6, 7}\n"
     ]
    }
   ],
   "source": [
    "compare_set(set1,set2)"
   ]
  },
  {
   "cell_type": "markdown",
   "id": "6a2b1e0b-8e7f-439d-8ecb-4f2bf1b93834",
   "metadata": {},
   "source": [
    "33. Create a set from a string."
   ]
  },
  {
   "cell_type": "code",
   "execution_count": 42,
   "id": "ae6539bd-1002-4a7a-b904-b2a3492b04ab",
   "metadata": {},
   "outputs": [
    {
     "name": "stdout",
     "output_type": "stream",
     "text": [
      "set from string {'l', 'r', 'd', 'o', 'e', 'h', 'w', ' '}\n"
     ]
    }
   ],
   "source": [
    "in_str= \"hello world\"\n",
    "res_set =set(in_str)\n",
    "print(\"set from string\", res_set)"
   ]
  },
  {
   "cell_type": "markdown",
   "id": "0cbe11ef-587c-4baa-9031-e1e359e3919b",
   "metadata": {},
   "source": [
    "34. Convert a set of strings to a set of integers."
   ]
  },
  {
   "cell_type": "code",
   "execution_count": 44,
   "id": "b1c0f9d7-dd30-48f3-94a8-168a07ddda88",
   "metadata": {},
   "outputs": [],
   "source": [
    "string_set = {\"123\", \"456\", \"789\"}\n",
    "\n",
    "res_set = set(int(val) for val in string_set)"
   ]
  },
  {
   "cell_type": "code",
   "execution_count": 45,
   "id": "a34fe068-676d-4378-a6f1-fc4a802f9061",
   "metadata": {},
   "outputs": [
    {
     "data": {
      "text/plain": [
       "{123, 456, 789}"
      ]
     },
     "execution_count": 45,
     "metadata": {},
     "output_type": "execute_result"
    }
   ],
   "source": [
    "res_set"
   ]
  },
  {
   "cell_type": "markdown",
   "id": "6850bf6d-7e30-47a8-91ee-c7a884287504",
   "metadata": {},
   "source": [
    "35. Convert a set of integers to a set of strings."
   ]
  },
  {
   "cell_type": "code",
   "execution_count": 46,
   "id": "a4a1b436-5ada-4ed7-b2a5-a06b1eeace68",
   "metadata": {},
   "outputs": [],
   "source": [
    "int_set = {123, 456, 789}\n",
    "res_set = set(str(val) for val in int_set )"
   ]
  },
  {
   "cell_type": "code",
   "execution_count": 47,
   "id": "6803d546-de12-420f-90ba-1029e530f811",
   "metadata": {},
   "outputs": [
    {
     "data": {
      "text/plain": [
       "{'123', '456', '789'}"
      ]
     },
     "execution_count": 47,
     "metadata": {},
     "output_type": "execute_result"
    }
   ],
   "source": [
    "res_set"
   ]
  },
  {
   "cell_type": "markdown",
   "id": "3ccae67c-0efb-4cf3-ad31-a1205f055e1a",
   "metadata": {},
   "source": [
    "36. Create a set from a tuple."
   ]
  },
  {
   "cell_type": "code",
   "execution_count": 48,
   "id": "e4b961aa-8a26-41e4-a6b0-0c0a95fb09fb",
   "metadata": {},
   "outputs": [
    {
     "name": "stdout",
     "output_type": "stream",
     "text": [
      "{1, 2, 3, 4, 5}\n"
     ]
    }
   ],
   "source": [
    "tup = (1, 2, 3, 2, 4, 5, 1)\n",
    "\n",
    "output_set = set(tup)\n",
    "\n",
    "print(output_set)"
   ]
  },
  {
   "cell_type": "markdown",
   "id": "c17190f1-34d2-46f1-9960-7412ba53912e",
   "metadata": {},
   "source": [
    "37. Convert a set to a tuple."
   ]
  },
  {
   "cell_type": "code",
   "execution_count": 50,
   "id": "d83ba21a-3075-4c6e-ac0d-c157f79f0a81",
   "metadata": {},
   "outputs": [
    {
     "name": "stdout",
     "output_type": "stream",
     "text": [
      "tuple:  (1, 2, 3, 4, 5)\n"
     ]
    }
   ],
   "source": [
    "set1 = {1,2,3,4,5}\n",
    "tup = tuple(set1)\n",
    "print(\"tuple: \",tup)"
   ]
  },
  {
   "cell_type": "markdown",
   "id": "5bbd55a3-710e-4c60-bd89-46d66b82f94f",
   "metadata": {},
   "source": [
    "38. Find the maximum value in a set."
   ]
  },
  {
   "cell_type": "code",
   "execution_count": 52,
   "id": "642bc630-01fd-49f2-b4d9-a906b8c697cc",
   "metadata": {},
   "outputs": [
    {
     "name": "stdout",
     "output_type": "stream",
     "text": [
      "maximum value in set is:  5\n"
     ]
    }
   ],
   "source": [
    "set1 = {1,2,3,4,5}\n",
    "print(\"maximum value in set is: \",max(set1))"
   ]
  },
  {
   "cell_type": "markdown",
   "id": "d45fa501-7cff-4db2-800b-3b8196cdde20",
   "metadata": {},
   "source": [
    "39. Find the minimum value in a set."
   ]
  },
  {
   "cell_type": "code",
   "execution_count": 53,
   "id": "e4159fae-be41-4239-9d01-e25b6fbcd5ef",
   "metadata": {},
   "outputs": [
    {
     "name": "stdout",
     "output_type": "stream",
     "text": [
      "maximum value in set is:  1\n"
     ]
    }
   ],
   "source": [
    "set1 = {1,2,3,4,5}\n",
    "print(\"maximum value in set is: \",min(set1))"
   ]
  },
  {
   "cell_type": "markdown",
   "id": "08076b35-5c3d-4592-815b-77bda287798c",
   "metadata": {},
   "source": [
    "40. Create a set from user input."
   ]
  },
  {
   "cell_type": "code",
   "execution_count": 54,
   "id": "f168a1a6-1eaa-464f-8661-62b9f8ac466d",
   "metadata": {},
   "outputs": [
    {
     "name": "stdin",
     "output_type": "stream",
     "text": [
      "enter the values separated from commas',' : sad,bad,lad\n"
     ]
    }
   ],
   "source": [
    "input_user = input(\"enter the values separated from commas',' :\")"
   ]
  },
  {
   "cell_type": "code",
   "execution_count": 57,
   "id": "8affe683-57bf-4094-872d-6b882d47080e",
   "metadata": {},
   "outputs": [
    {
     "name": "stdout",
     "output_type": "stream",
     "text": [
      "output set is:  {'bad', 'sad', 'lad'}\n"
     ]
    }
   ],
   "source": [
    "res = set(input_user.split(','))\n",
    "print(\"output set is: \",res)"
   ]
  },
  {
   "cell_type": "markdown",
   "id": "382d0df3-6c16-4158-bdea-e3237b6cda72",
   "metadata": {},
   "source": [
    "41. Check if the intersection of two sets is empty."
   ]
  },
  {
   "cell_type": "code",
   "execution_count": 58,
   "id": "13f6879b-07cb-4498-9950-cbfead5a084b",
   "metadata": {},
   "outputs": [
    {
     "name": "stdout",
     "output_type": "stream",
     "text": [
      "The intersection of the two sets is not empty.\n"
     ]
    }
   ],
   "source": [
    "set1 = {1, 2, 3, 4, 5}\n",
    "set2 = {4, 5, 6, 7, 8}\n",
    "\n",
    "intersection_result = set1.intersection(set2)\n",
    "if not intersection_result:\n",
    "    print(\"The intersection of the two sets is empty.\")\n",
    "else:\n",
    "    print(\"The intersection of the two sets is not empty.\")"
   ]
  },
  {
   "cell_type": "markdown",
   "id": "ebe5f256-e066-4f42-8c83-b6ecd1f468df",
   "metadata": {},
   "source": [
    "42. Create a set of the first 5 Fibonacci numbers."
   ]
  },
  {
   "cell_type": "code",
   "execution_count": 69,
   "id": "cbc9385c-fb74-43c4-bbd4-9be84d95a966",
   "metadata": {},
   "outputs": [
    {
     "name": "stdout",
     "output_type": "stream",
     "text": [
      "Set of the first 5 Fibonacci numbers: {0, 1, 2, 3, 5}\n"
     ]
    }
   ],
   "source": [
    "fibonacci_set = set()\n",
    "n =5\n",
    "a, b = 0, 1\n",
    "for _ in range(n+1):\n",
    "    # Add the current Fibonacci number to the set\n",
    "    fibonacci_set.add(a)\n",
    "    a, b = b, a + b\n",
    "\n",
    "print(\"Set of the first 5 Fibonacci numbers:\", fibonacci_set)"
   ]
  },
  {
   "cell_type": "markdown",
   "id": "21211d4e-2ef0-48a0-853b-9327eac244db",
   "metadata": {},
   "source": [
    "43. Remove duplicates from a list using sets."
   ]
  },
  {
   "cell_type": "code",
   "execution_count": 73,
   "id": "9cc8e6d3-19fd-4277-95fb-da8c4d00f249",
   "metadata": {},
   "outputs": [
    {
     "data": {
      "text/plain": [
       "[1, 4, 5, 40, 50, 90, 60]"
      ]
     },
     "execution_count": 73,
     "metadata": {},
     "output_type": "execute_result"
    }
   ],
   "source": [
    "list1 = [1,1,4,4,5,90,90,90, 40 , 50 ,60 ,5, 5, 5]\n",
    "set1 = set(list1)\n",
    "out_list = list(set1)\n",
    "out_list\n",
    "# converted list to set and then set to list again"
   ]
  },
  {
   "cell_type": "markdown",
   "id": "a2c82a92-4207-40ff-b396-fb8413c70258",
   "metadata": {},
   "source": [
    "44. Check if two sets have the same elements, regardless of their count."
   ]
  },
  {
   "cell_type": "code",
   "execution_count": 77,
   "id": "e2a2422c-60a3-4cfa-b970-3a7aed0366e2",
   "metadata": {},
   "outputs": [
    {
     "name": "stdout",
     "output_type": "stream",
     "text": [
      "{1, 2, 3} {1, 2, 3}\n",
      "The sets have the same elements.\n"
     ]
    }
   ],
   "source": [
    "set1 = {1, 2, 3, 2, 1}\n",
    "set2 = {3, 1, 2}\n",
    "\n",
    "print(set1,set2)\n",
    "\n",
    "# Print the result\n",
    "if set1==set2:\n",
    "    print(\"The sets have the same elements.\")\n",
    "else:\n",
    "    print(\"The sets do not have the same elements.\")\n",
    "\n",
    "# set will automatically sort the elements and duplicates"
   ]
  },
  {
   "cell_type": "markdown",
   "id": "da1aec57-b4b7-41e3-9a43-e8f133ed72e8",
   "metadata": {},
   "source": [
    "45. Create a set of the first `n` powers of 2."
   ]
  },
  {
   "cell_type": "code",
   "execution_count": 79,
   "id": "5bc77760-d2c2-4569-aea5-927d76a59b04",
   "metadata": {},
   "outputs": [
    {
     "name": "stdout",
     "output_type": "stream",
     "text": [
      "{1, 2, 4, 8, 16}\n"
     ]
    }
   ],
   "source": [
    "n =5\n",
    "set1 = set(2**val for val in range(n) )\n",
    "print(set1)"
   ]
  },
  {
   "cell_type": "markdown",
   "id": "6e9a8dbe-3771-42e8-836a-e91b8d0b8a65",
   "metadata": {},
   "source": [
    "46. Find the common elements between a set and a list."
   ]
  },
  {
   "cell_type": "code",
   "execution_count": 81,
   "id": "b438d8b1-37ce-4444-87b6-7960301de6ba",
   "metadata": {},
   "outputs": [],
   "source": [
    "my_set = {3, 7, 9, 12, 15}\n",
    "my_list = [7, 12, 5, 9]\n",
    "\n",
    "set_list = set(my_list)\n",
    "\n",
    "common_set = my_set.intersection(set_list)"
   ]
  },
  {
   "cell_type": "code",
   "execution_count": 83,
   "id": "ba885a0c-aa32-4d97-8b92-1acb035f3dd9",
   "metadata": {},
   "outputs": [
    {
     "name": "stdout",
     "output_type": "stream",
     "text": [
      "common elements between set and list: {9, 12, 7}\n"
     ]
    }
   ],
   "source": [
    "print(\"common elements between set and list:\",common_set)"
   ]
  },
  {
   "cell_type": "markdown",
   "id": "b9b73e61-e365-4266-9627-d015726eae6b",
   "metadata": {},
   "source": [
    "47. Create a set of the first `n` triangular numbers."
   ]
  },
  {
   "cell_type": "code",
   "execution_count": 84,
   "id": "6a77abbb-2511-4425-86cf-cd7e37c4d527",
   "metadata": {},
   "outputs": [],
   "source": [
    "def generate_triangular_numbers(n):\n",
    "    triangular_numbers = set()  \n",
    "    for i in range(1, n + 1):\n",
    "        triangular_number = i * (i + 1) //2\n",
    "        triangular_numbers.add(triangular_number)\n",
    "    return triangular_numbers\n",
    "\n",
    "n = 5\n",
    "\n",
    "triangular_set = generate_triangular_numbers(n)"
   ]
  },
  {
   "cell_type": "code",
   "execution_count": 85,
   "id": "2c40baeb-f7e9-40b1-95e8-c94a569d6788",
   "metadata": {},
   "outputs": [
    {
     "data": {
      "text/plain": [
       "{1, 3, 6, 10, 15}"
      ]
     },
     "execution_count": 85,
     "metadata": {},
     "output_type": "execute_result"
    }
   ],
   "source": [
    "triangular_set"
   ]
  },
  {
   "cell_type": "markdown",
   "id": "05a16de6-b5ca-4ffe-a1dd-a10ca01a5b7b",
   "metadata": {},
   "source": [
    "48. Check if a set contains another set as a subset."
   ]
  },
  {
   "cell_type": "code",
   "execution_count": 86,
   "id": "0e42919a-de87-46d9-8968-e2ad0a127e93",
   "metadata": {},
   "outputs": [
    {
     "name": "stdout",
     "output_type": "stream",
     "text": [
      "set2 is a subset of set1\n"
     ]
    }
   ],
   "source": [
    "set1 = {1, 2, 3, 4, 5}\n",
    "set2 = {3, 4}\n",
    "\n",
    "is_subset = set2.issubset(set1)\n",
    "\n",
    "if is_subset:\n",
    "    print(\"set2 is a subset of set1\")\n",
    "else:\n",
    "    print(\"set2 is not a subset of set1\")"
   ]
  },
  {
   "cell_type": "markdown",
   "id": "9e9ec902-fc25-483f-a23c-c9cec5e6fb29",
   "metadata": {},
   "source": [
    "49. Create a set of alternating 1s and 0s of length `n`."
   ]
  },
  {
   "cell_type": "code",
   "execution_count": 91,
   "id": "7e4b0dfd-7949-4cbf-9bf1-c108f6f7e0cb",
   "metadata": {},
   "outputs": [],
   "source": [
    "n =6\n",
    "res_set = set(val%2 for val in range(n+1))"
   ]
  },
  {
   "cell_type": "code",
   "execution_count": 92,
   "id": "7df64db8-dcc5-4e8f-a2e4-858d4ef00be3",
   "metadata": {},
   "outputs": [
    {
     "data": {
      "text/plain": [
       "{0, 1}"
      ]
     },
     "execution_count": 92,
     "metadata": {},
     "output_type": "execute_result"
    }
   ],
   "source": [
    "res_set"
   ]
  },
  {
   "cell_type": "markdown",
   "id": "a5883343-32df-4029-8282-291d6a9e0694",
   "metadata": {},
   "source": [
    "50. Merge multiple sets into one."
   ]
  },
  {
   "cell_type": "code",
   "execution_count": null,
   "id": "9226be4d-7185-486a-bec3-fcf7dbe7a802",
   "metadata": {},
   "outputs": [],
   "source": []
  }
 ],
 "metadata": {
  "kernelspec": {
   "display_name": "Python 3 (ipykernel)",
   "language": "python",
   "name": "python3"
  },
  "language_info": {
   "codemirror_mode": {
    "name": "ipython",
    "version": 3
   },
   "file_extension": ".py",
   "mimetype": "text/x-python",
   "name": "python",
   "nbconvert_exporter": "python",
   "pygments_lexer": "ipython3",
   "version": "3.10.8"
  }
 },
 "nbformat": 4,
 "nbformat_minor": 5
}
